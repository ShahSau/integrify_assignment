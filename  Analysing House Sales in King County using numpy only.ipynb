{
 "cells": [
  {
   "cell_type": "code",
   "execution_count": 1,
   "metadata": {
    "ExecuteTime": {
     "end_time": "2020-05-21T11:26:01.727252Z",
     "start_time": "2020-05-21T11:26:01.723934Z"
    }
   },
   "outputs": [],
   "source": [
    "import numpy as np"
   ]
  },
  {
   "cell_type": "code",
   "execution_count": 2,
   "metadata": {
    "ExecuteTime": {
     "end_time": "2020-05-21T11:26:02.404798Z",
     "start_time": "2020-05-21T11:26:02.401527Z"
    }
   },
   "outputs": [],
   "source": [
    "url=\"https://s3-api.us-geo.objectstorage.softlayer.net/cf-courses-data/CognitiveClass/DA0101EN/coursera/project/kc_house_data_NaN.csv\""
   ]
  },
  {
   "cell_type": "code",
   "execution_count": 3,
   "metadata": {
    "ExecuteTime": {
     "end_time": "2020-05-21T11:26:03.553976Z",
     "start_time": "2020-05-21T11:26:03.164295Z"
    }
   },
   "outputs": [
    {
     "data": {
      "text/plain": [
       "array([[            nan,             nan,             nan,\n",
       "                    nan,             nan,             nan,\n",
       "                    nan,             nan,             nan,\n",
       "                    nan,             nan,             nan,\n",
       "                    nan,             nan,             nan,\n",
       "                    nan,             nan,             nan,\n",
       "                    nan,             nan,             nan,\n",
       "                    nan],\n",
       "       [ 0.00000000e+00,  7.12930052e+09,             nan,\n",
       "         2.21900000e+05,  3.00000000e+00,  1.00000000e+00,\n",
       "         1.18000000e+03,  5.65000000e+03,  1.00000000e+00,\n",
       "         0.00000000e+00,  0.00000000e+00,  3.00000000e+00,\n",
       "         7.00000000e+00,  1.18000000e+03,  0.00000000e+00,\n",
       "         1.95500000e+03,  0.00000000e+00,  9.81780000e+04,\n",
       "         4.75112000e+01, -1.22257000e+02,  1.34000000e+03,\n",
       "         5.65000000e+03],\n",
       "       [ 1.00000000e+00,  6.41410019e+09,             nan,\n",
       "         5.38000000e+05,  3.00000000e+00,  2.25000000e+00,\n",
       "         2.57000000e+03,  7.24200000e+03,  2.00000000e+00,\n",
       "         0.00000000e+00,  0.00000000e+00,  3.00000000e+00,\n",
       "         7.00000000e+00,  2.17000000e+03,  4.00000000e+02,\n",
       "         1.95100000e+03,  1.99100000e+03,  9.81250000e+04,\n",
       "         4.77210000e+01, -1.22319000e+02,  1.69000000e+03,\n",
       "         7.63900000e+03],\n",
       "       [ 2.00000000e+00,  5.63150040e+09,             nan,\n",
       "         1.80000000e+05,  2.00000000e+00,  1.00000000e+00,\n",
       "         7.70000000e+02,  1.00000000e+04,  1.00000000e+00,\n",
       "         0.00000000e+00,  0.00000000e+00,  3.00000000e+00,\n",
       "         6.00000000e+00,  7.70000000e+02,  0.00000000e+00,\n",
       "         1.93300000e+03,  0.00000000e+00,  9.80280000e+04,\n",
       "         4.77379000e+01, -1.22233000e+02,  2.72000000e+03,\n",
       "         8.06200000e+03],\n",
       "       [ 3.00000000e+00,  2.48720088e+09,             nan,\n",
       "         6.04000000e+05,  4.00000000e+00,  3.00000000e+00,\n",
       "         1.96000000e+03,  5.00000000e+03,  1.00000000e+00,\n",
       "         0.00000000e+00,  0.00000000e+00,  5.00000000e+00,\n",
       "         7.00000000e+00,  1.05000000e+03,  9.10000000e+02,\n",
       "         1.96500000e+03,  0.00000000e+00,  9.81360000e+04,\n",
       "         4.75208000e+01, -1.22393000e+02,  1.36000000e+03,\n",
       "         5.00000000e+03]])"
      ]
     },
     "execution_count": 3,
     "metadata": {},
     "output_type": "execute_result"
    }
   ],
   "source": [
    "#loading data\n",
    "house=np.genfromtxt(url, delimiter=',',skip_footer=1)\n",
    "house[0:5,:]"
   ]
  },
  {
   "cell_type": "code",
   "execution_count": 4,
   "metadata": {
    "ExecuteTime": {
     "end_time": "2020-05-21T11:26:04.577448Z",
     "start_time": "2020-05-21T11:26:04.564937Z"
    }
   },
   "outputs": [
    {
     "data": {
      "text/plain": [
       "(21613, 22)"
      ]
     },
     "execution_count": 4,
     "metadata": {},
     "output_type": "execute_result"
    }
   ],
   "source": [
    "house.shape"
   ]
  },
  {
   "cell_type": "markdown",
   "metadata": {},
   "source": [
    "1stcolumn contains nan value and 2nd column contains house id and 3rd colum contains sellling date. and 1st row conatins name of the columns."
   ]
  },
  {
   "cell_type": "code",
   "execution_count": 5,
   "metadata": {
    "ExecuteTime": {
     "end_time": "2020-05-21T11:26:06.791045Z",
     "start_time": "2020-05-21T11:26:06.788197Z"
    }
   },
   "outputs": [],
   "source": [
    "#removing 1st,2nd and 3rd columns and 1st row\n",
    "house = house[1:, 3:]"
   ]
  },
  {
   "cell_type": "code",
   "execution_count": 6,
   "metadata": {
    "ExecuteTime": {
     "end_time": "2020-05-21T11:26:07.733339Z",
     "start_time": "2020-05-21T11:26:07.722743Z"
    }
   },
   "outputs": [
    {
     "data": {
      "text/plain": [
       "(21612, 19)"
      ]
     },
     "execution_count": 6,
     "metadata": {},
     "output_type": "execute_result"
    }
   ],
   "source": [
    "house.shape"
   ]
  },
  {
   "cell_type": "markdown",
   "metadata": {},
   "source": [
    "## checking and removing NaN values"
   ]
  },
  {
   "cell_type": "code",
   "execution_count": 7,
   "metadata": {
    "ExecuteTime": {
     "end_time": "2020-05-21T11:26:11.491499Z",
     "start_time": "2020-05-21T11:26:11.485193Z"
    }
   },
   "outputs": [
    {
     "data": {
      "text/plain": [
       "True"
      ]
     },
     "execution_count": 7,
     "metadata": {},
     "output_type": "execute_result"
    }
   ],
   "source": [
    "#checking for nan values\n",
    "np.isnan(np.sum(house))"
   ]
  },
  {
   "cell_type": "code",
   "execution_count": 8,
   "metadata": {
    "ExecuteTime": {
     "end_time": "2020-05-21T11:26:12.388655Z",
     "start_time": "2020-05-21T11:26:12.356674Z"
    }
   },
   "outputs": [
    {
     "name": "stdout",
     "output_type": "stream",
     "text": [
      "(array([  875,   875,  1149,  3119,  3119,  3467,  4868,  5832,  6994,\n",
      "        6994,  8477,  8484,  9773,  9773,  9854,  9854, 10481, 12653,\n",
      "       14423, 14423, 18379, 19452, 19452]), array([1, 2, 2, 1, 2, 1, 1, 2, 1, 2, 1, 1, 1, 2, 1, 2, 2, 1, 1, 2, 1, 1,\n",
      "       2]))\n"
     ]
    }
   ],
   "source": [
    "#position of the NaN values\n",
    "nan_index = np.where(np.isnan(house))\n",
    "print(nan_index)"
   ]
  },
  {
   "cell_type": "code",
   "execution_count": 9,
   "metadata": {
    "ExecuteTime": {
     "end_time": "2020-05-21T11:26:13.495113Z",
     "start_time": "2020-05-21T11:26:13.320235Z"
    }
   },
   "outputs": [],
   "source": [
    "#droping all the NaN values\n",
    "mask = np.array([~np.any(np.isnan(row)) for row in house])\n",
    "house = house[mask]"
   ]
  },
  {
   "cell_type": "code",
   "execution_count": 10,
   "metadata": {
    "ExecuteTime": {
     "end_time": "2020-05-21T11:26:14.847617Z",
     "start_time": "2020-05-21T11:26:14.842267Z"
    }
   },
   "outputs": [
    {
     "data": {
      "text/plain": [
       "False"
      ]
     },
     "execution_count": 10,
     "metadata": {},
     "output_type": "execute_result"
    }
   ],
   "source": [
    "#checking for nan values\n",
    "np.isnan(np.sum(house))"
   ]
  },
  {
   "cell_type": "code",
   "execution_count": 11,
   "metadata": {
    "ExecuteTime": {
     "end_time": "2020-05-21T11:26:15.893823Z",
     "start_time": "2020-05-21T11:26:15.887928Z"
    }
   },
   "outputs": [
    {
     "data": {
      "text/plain": [
       "(21596, 19)"
      ]
     },
     "execution_count": 11,
     "metadata": {},
     "output_type": "execute_result"
    }
   ],
   "source": [
    "house.shape"
   ]
  },
  {
   "cell_type": "code",
   "execution_count": null,
   "metadata": {},
   "outputs": [],
   "source": []
  },
  {
   "cell_type": "markdown",
   "metadata": {},
   "source": [
    "## Categorizing dataset depending on number of bedrooms"
   ]
  },
  {
   "cell_type": "code",
   "execution_count": 264,
   "metadata": {
    "ExecuteTime": {
     "end_time": "2020-05-20T19:02:10.116885Z",
     "start_time": "2020-05-20T19:02:10.102600Z"
    }
   },
   "outputs": [
    {
     "data": {
      "text/plain": [
       "array([3., 3., 2., ..., 4., 2., 3.])"
      ]
     },
     "execution_count": 264,
     "metadata": {},
     "output_type": "execute_result"
    }
   ],
   "source": [
    "#number of bedroom column\n",
    "house[:,1]"
   ]
  },
  {
   "cell_type": "code",
   "execution_count": 265,
   "metadata": {
    "ExecuteTime": {
     "end_time": "2020-05-20T19:02:10.675489Z",
     "start_time": "2020-05-20T19:02:10.667240Z"
    }
   },
   "outputs": [
    {
     "data": {
      "text/plain": [
       "1.0"
      ]
     },
     "execution_count": 265,
     "metadata": {},
     "output_type": "execute_result"
    }
   ],
   "source": [
    "#minumum number of bedroom\n",
    "minn=np.min(house[:,1])\n",
    "minn"
   ]
  },
  {
   "cell_type": "code",
   "execution_count": 266,
   "metadata": {
    "ExecuteTime": {
     "end_time": "2020-05-20T19:02:11.209692Z",
     "start_time": "2020-05-20T19:02:11.200785Z"
    }
   },
   "outputs": [
    {
     "data": {
      "text/plain": [
       "33.0"
      ]
     },
     "execution_count": 266,
     "metadata": {},
     "output_type": "execute_result"
    }
   ],
   "source": [
    "#maximum number of bedroom\n",
    "maxx=np.max(house[:,1])\n",
    "maxx"
   ]
  },
  {
   "cell_type": "code",
   "execution_count": 267,
   "metadata": {
    "ExecuteTime": {
     "end_time": "2020-05-20T19:02:11.763540Z",
     "start_time": "2020-05-20T19:02:11.754814Z"
    }
   },
   "outputs": [],
   "source": [
    "house_copy=np.copy(house)"
   ]
  },
  {
   "cell_type": "code",
   "execution_count": 268,
   "metadata": {
    "ExecuteTime": {
     "end_time": "2020-05-20T19:02:12.289807Z",
     "start_time": "2020-05-20T19:02:12.282556Z"
    }
   },
   "outputs": [],
   "source": [
    "#replacing values with mall_apartment, medium_apartment and big_apartment\n",
    "house_bed= np.digitize(house_copy[:,1],bins=[3,5,10])"
   ]
  },
  {
   "cell_type": "code",
   "execution_count": 269,
   "metadata": {
    "ExecuteTime": {
     "end_time": "2020-05-20T19:02:12.824872Z",
     "start_time": "2020-05-20T19:02:12.807831Z"
    }
   },
   "outputs": [],
   "source": [
    "label= {0: 'small_apartment', 1: 'medium_apartment', 2: 'big_apartment', 3: 'Extra_large_apartment'}\n",
    "house_bed= [label[j] for j in house_bed]"
   ]
  },
  {
   "cell_type": "code",
   "execution_count": 270,
   "metadata": {
    "ExecuteTime": {
     "end_time": "2020-05-20T19:02:13.383256Z",
     "start_time": "2020-05-20T19:02:13.362787Z"
    }
   },
   "outputs": [
    {
     "name": "stdout",
     "output_type": "stream",
     "text": [
      "number of small apartment is : 2955\n",
      "number of medium apartment is : 16706\n",
      "number of big apartment is : 1930\n",
      "number of Extra large apartment is : 5\n"
     ]
    }
   ],
   "source": [
    "unique, counts = np.unique(house_bed, return_counts=True)\n",
    "dict(zip(unique, counts))\n",
    "print(\"number of small apartment is : \"+ str(counts[3]))\n",
    "print(\"number of medium apartment is : \"+ str(counts[2]))\n",
    "print(\"number of big apartment is : \"+ str(counts[1]))\n",
    "print(\"number of Extra large apartment is : \"+ str(counts[0]))"
   ]
  },
  {
   "cell_type": "markdown",
   "metadata": {},
   "source": [
    "Apartments haveing 3-4 bedrooms are the most common apartments in the king county."
   ]
  },
  {
   "cell_type": "code",
   "execution_count": null,
   "metadata": {},
   "outputs": [],
   "source": []
  },
  {
   "cell_type": "markdown",
   "metadata": {},
   "source": [
    "## Pricing in depth of housing in King Country"
   ]
  },
  {
   "cell_type": "code",
   "execution_count": 271,
   "metadata": {
    "ExecuteTime": {
     "end_time": "2020-05-20T19:02:14.802620Z",
     "start_time": "2020-05-20T19:02:14.783113Z"
    }
   },
   "outputs": [
    {
     "data": {
      "text/plain": [
       "[221900.0,\n",
       " 538000.0,\n",
       " 180000.0,\n",
       " 604000.0,\n",
       " 510000.0,\n",
       " 1225000.0,\n",
       " 257500.0,\n",
       " 291850.0,\n",
       " 229500.0,\n",
       " 323000.0]"
      ]
     },
     "execution_count": 271,
     "metadata": {},
     "output_type": "execute_result"
    }
   ],
   "source": [
    "#price column\n",
    "house[:10,0].tolist()"
   ]
  },
  {
   "cell_type": "code",
   "execution_count": 272,
   "metadata": {
    "ExecuteTime": {
     "end_time": "2020-05-20T19:02:15.345771Z",
     "start_time": "2020-05-20T19:02:15.331980Z"
    }
   },
   "outputs": [
    {
     "name": "stdout",
     "output_type": "stream",
     "text": [
      "The most common price for a house is : $350000.0\n"
     ]
    }
   ],
   "source": [
    "#The most common price\n",
    "vals, counts = np.unique(house[:,0], return_counts=True)\n",
    "#print(vals,counts)\n",
    "print(\"The most common price for a house is : $\"+ str(vals[np.argmax(counts)]))"
   ]
  },
  {
   "cell_type": "code",
   "execution_count": 273,
   "metadata": {
    "ExecuteTime": {
     "end_time": "2020-05-20T19:02:15.841071Z",
     "start_time": "2020-05-20T19:02:15.825933Z"
    }
   },
   "outputs": [
    {
     "name": "stdout",
     "output_type": "stream",
     "text": [
      "mean price is: $540212.8847008705\n",
      "median price is: $450000.0\n",
      "\n",
      "price range of the houses are $78000.0 to $7700000.0\n"
     ]
    }
   ],
   "source": [
    "#counting min,max,median and mean\n",
    "mean=np.mean(house[:,0])\n",
    "print(\"mean price is: $\"+str(mean))\n",
    "median=np.median(house[:,0])\n",
    "print(\"median price is: $\"+str(median))\n",
    "print()\n",
    "std=np.std(house[:,0])\n",
    "print(\"price range of the houses are $\"+ str(np.min(house[:,0])) +\" to $\"+ str(np.max(house[:,0])))"
   ]
  },
  {
   "cell_type": "code",
   "execution_count": 274,
   "metadata": {
    "ExecuteTime": {
     "end_time": "2020-05-20T19:02:16.339079Z",
     "start_time": "2020-05-20T19:02:16.332618Z"
    }
   },
   "outputs": [
    {
     "name": "stdout",
     "output_type": "stream",
     "text": [
      "Skewness is 0.7371722737737209\n"
     ]
    }
   ],
   "source": [
    "skew=(3*(mean-median))/std\n",
    "print(\"Skewness is \"+ str(skew))"
   ]
  },
  {
   "cell_type": "markdown",
   "metadata": {},
   "source": [
    "Since the skewness is positive, if we draw the distribution curve of \"Price\" column, we will have Positive or right screw distribution. This means that, most of the outliers occur on the right side of the graph meaning <i>for bigger price we have more outliers.</i>"
   ]
  },
  {
   "cell_type": "code",
   "execution_count": null,
   "metadata": {},
   "outputs": [],
   "source": []
  },
  {
   "cell_type": "markdown",
   "metadata": {},
   "source": [
    "## relationship between price and different features"
   ]
  },
  {
   "cell_type": "code",
   "execution_count": 275,
   "metadata": {
    "ExecuteTime": {
     "end_time": "2020-05-20T19:02:18.268368Z",
     "start_time": "2020-05-20T19:02:18.236472Z"
    }
   },
   "outputs": [
    {
     "data": {
      "text/plain": [
       "array([[1.        , 0.30877185],\n",
       "       [0.30877185, 1.        ]])"
      ]
     },
     "execution_count": 275,
     "metadata": {},
     "output_type": "execute_result"
    }
   ],
   "source": [
    "#xaxis,yaxis\n",
    "#correlation between no of bedrooms and price\n",
    "correlation=np.corrcoef(house[:,1], house[:,0])\n",
    "correlation"
   ]
  },
  {
   "cell_type": "code",
   "execution_count": 276,
   "metadata": {
    "ExecuteTime": {
     "end_time": "2020-05-20T19:02:18.846859Z",
     "start_time": "2020-05-20T19:02:18.833634Z"
    }
   },
   "outputs": [
    {
     "data": {
      "text/plain": [
       "array([[1.        , 0.52589939],\n",
       "       [0.52589939, 1.        ]])"
      ]
     },
     "execution_count": 276,
     "metadata": {},
     "output_type": "execute_result"
    }
   ],
   "source": [
    "#correlation between no of bathrooms and price\n",
    "correlation2=np.corrcoef(house[:,2], house[:,0])\n",
    "correlation2"
   ]
  },
  {
   "cell_type": "code",
   "execution_count": 277,
   "metadata": {
    "ExecuteTime": {
     "end_time": "2020-05-20T19:02:19.388584Z",
     "start_time": "2020-05-20T19:02:19.378312Z"
    }
   },
   "outputs": [
    {
     "data": {
      "text/plain": [
       "array([[1.        , 0.70190519],\n",
       "       [0.70190519, 1.        ]])"
      ]
     },
     "execution_count": 277,
     "metadata": {},
     "output_type": "execute_result"
    }
   ],
   "source": [
    "#correlation between square foot living and price\n",
    "correlation3=np.corrcoef(house[:,3], house[:,0])\n",
    "correlation3"
   ]
  },
  {
   "cell_type": "code",
   "execution_count": 278,
   "metadata": {
    "ExecuteTime": {
     "end_time": "2020-05-20T19:02:19.969701Z",
     "start_time": "2020-05-20T19:02:19.959175Z"
    }
   },
   "outputs": [
    {
     "data": {
      "text/plain": [
       "array([[1.        , 0.05402024],\n",
       "       [0.05402024, 1.        ]])"
      ]
     },
     "execution_count": 278,
     "metadata": {},
     "output_type": "execute_result"
    }
   ],
   "source": [
    "#correlation between year build and price\n",
    "correlation4=np.corrcoef(house[:,12], house[:,0])\n",
    "correlation4"
   ]
  },
  {
   "cell_type": "code",
   "execution_count": 279,
   "metadata": {
    "ExecuteTime": {
     "end_time": "2020-05-20T19:02:20.489829Z",
     "start_time": "2020-05-20T19:02:20.479023Z"
    }
   },
   "outputs": [
    {
     "data": {
      "text/plain": [
       "array([[1.        , 0.25684656],\n",
       "       [0.25684656, 1.        ]])"
      ]
     },
     "execution_count": 279,
     "metadata": {},
     "output_type": "execute_result"
    }
   ],
   "source": [
    "#correlation between floor number and price\n",
    "correlation5=np.corrcoef(house[:,5], house[:,0])\n",
    "correlation5"
   ]
  },
  {
   "cell_type": "code",
   "execution_count": 280,
   "metadata": {
    "ExecuteTime": {
     "end_time": "2020-05-20T19:02:21.062405Z",
     "start_time": "2020-05-20T19:02:21.051009Z"
    }
   },
   "outputs": [
    {
     "data": {
      "text/plain": [
       "array([[ 1.        , -0.05340587],\n",
       "       [-0.05340587,  1.        ]])"
      ]
     },
     "execution_count": 280,
     "metadata": {},
     "output_type": "execute_result"
    }
   ],
   "source": [
    "#correlation between zip code and price\n",
    "correlation6=np.corrcoef(house[:,14], house[:,0])\n",
    "correlation6"
   ]
  },
  {
   "cell_type": "markdown",
   "metadata": {},
   "source": [
    "The price is most strongly correlated with the size of the house than any other feature and least correlated with the year the house was built. Price also varies more strongly with the number of bathrooms than the number of bedrooms. zip code has negative corelation with price meaning the further we go from the center the lower the price of house goes."
   ]
  },
  {
   "cell_type": "code",
   "execution_count": null,
   "metadata": {},
   "outputs": [],
   "source": []
  },
  {
   "cell_type": "markdown",
   "metadata": {},
   "source": [
    "## how price changes with water front view"
   ]
  },
  {
   "cell_type": "code",
   "execution_count": 281,
   "metadata": {
    "ExecuteTime": {
     "end_time": "2020-05-20T19:02:24.108758Z",
     "start_time": "2020-05-20T19:02:24.095521Z"
    }
   },
   "outputs": [],
   "source": [
    "price=house[:,0]\n",
    "water=house[:,6]"
   ]
  },
  {
   "cell_type": "code",
   "execution_count": 282,
   "metadata": {
    "ExecuteTime": {
     "end_time": "2020-05-20T19:02:24.834989Z",
     "start_time": "2020-05-20T19:02:24.815217Z"
    }
   },
   "outputs": [
    {
     "data": {
      "text/plain": [
       "[[0.0, 531682.5300237951], [1.0, 1661876.0245398772]]"
      ]
     },
     "execution_count": 282,
     "metadata": {},
     "output_type": "execute_result"
    }
   ],
   "source": [
    "[[group_val, price[water==group_val].mean()] for group_val in np.unique(water)]"
   ]
  },
  {
   "cell_type": "code",
   "execution_count": 283,
   "metadata": {
    "ExecuteTime": {
     "end_time": "2020-05-20T19:02:25.659997Z",
     "start_time": "2020-05-20T19:02:25.644578Z"
    }
   },
   "outputs": [
    {
     "data": {
      "text/plain": [
       "316100.0"
      ]
     },
     "execution_count": 283,
     "metadata": {},
     "output_type": "execute_result"
    }
   ],
   "source": [
    "price_difference=price[1]-price[0]\n",
    "price_difference"
   ]
  },
  {
   "cell_type": "markdown",
   "metadata": {},
   "source": [
    "On average, house with water front views are more expenssive than with out water front views and the average difference is $316,100."
   ]
  },
  {
   "cell_type": "code",
   "execution_count": null,
   "metadata": {},
   "outputs": [],
   "source": []
  },
  {
   "cell_type": "markdown",
   "metadata": {},
   "source": [
    "## Relationship between price and decade when the house was build"
   ]
  },
  {
   "cell_type": "code",
   "execution_count": 348,
   "metadata": {
    "ExecuteTime": {
     "end_time": "2020-05-20T19:28:11.489517Z",
     "start_time": "2020-05-20T19:28:11.472370Z"
    }
   },
   "outputs": [],
   "source": [
    "house_copy=np.copy(house)"
   ]
  },
  {
   "cell_type": "code",
   "execution_count": 351,
   "metadata": {
    "ExecuteTime": {
     "end_time": "2020-05-20T19:28:13.458001Z",
     "start_time": "2020-05-20T19:28:13.451914Z"
    }
   },
   "outputs": [
    {
     "data": {
      "text/plain": [
       "array([1, 1, 0, ..., 2, 2, 2])"
      ]
     },
     "execution_count": 351,
     "metadata": {},
     "output_type": "execute_result"
    }
   ],
   "source": [
    "house_yr= np.digitize(house_copy[:,12],bins=[1950,2000])\n",
    "house_yr"
   ]
  },
  {
   "cell_type": "code",
   "execution_count": 352,
   "metadata": {
    "ExecuteTime": {
     "end_time": "2020-05-20T19:28:14.165562Z",
     "start_time": "2020-05-20T19:28:14.146845Z"
    }
   },
   "outputs": [],
   "source": [
    "label= {0: 'early 1900s', 1: 'late 1900s', 2: 'early 2000s'}\n",
    "house_yr= [label[j] for j in house_yr]\n"
   ]
  },
  {
   "cell_type": "code",
   "execution_count": 353,
   "metadata": {
    "ExecuteTime": {
     "end_time": "2020-05-20T19:28:14.822673Z",
     "start_time": "2020-05-20T19:28:14.813368Z"
    }
   },
   "outputs": [
    {
     "data": {
      "text/plain": [
       "(21596,)"
      ]
     },
     "execution_count": 353,
     "metadata": {},
     "output_type": "execute_result"
    }
   ],
   "source": [
    "np.shape(house_yr)"
   ]
  },
  {
   "cell_type": "code",
   "execution_count": 354,
   "metadata": {
    "ExecuteTime": {
     "end_time": "2020-05-20T19:28:15.439295Z",
     "start_time": "2020-05-20T19:28:15.432687Z"
    }
   },
   "outputs": [],
   "source": [
    "house_yr=np.reshape(house_yr, (21596,1))"
   ]
  },
  {
   "cell_type": "code",
   "execution_count": 355,
   "metadata": {
    "ExecuteTime": {
     "end_time": "2020-05-20T19:28:16.129644Z",
     "start_time": "2020-05-20T19:28:16.124746Z"
    }
   },
   "outputs": [
    {
     "data": {
      "text/plain": [
       "(21596, 1)"
      ]
     },
     "execution_count": 355,
     "metadata": {},
     "output_type": "execute_result"
    }
   ],
   "source": [
    "np.shape(house_yr)"
   ]
  },
  {
   "cell_type": "code",
   "execution_count": 356,
   "metadata": {
    "ExecuteTime": {
     "end_time": "2020-05-20T19:28:17.330206Z",
     "start_time": "2020-05-20T19:28:17.043257Z"
    }
   },
   "outputs": [],
   "source": [
    "house_copy=np.hstack([house_copy,house_yr])"
   ]
  },
  {
   "cell_type": "code",
   "execution_count": 357,
   "metadata": {
    "ExecuteTime": {
     "end_time": "2020-05-20T19:28:18.034414Z",
     "start_time": "2020-05-20T19:28:18.019814Z"
    }
   },
   "outputs": [
    {
     "data": {
      "text/plain": [
       "array([['221900.0', '3.0', '1.0', ..., '1340.0', '5650.0', 'late 1900s'],\n",
       "       ['538000.0', '3.0', '2.25', ..., '1690.0', '7639.0', 'late 1900s'],\n",
       "       ['180000.0', '2.0', '1.0', ..., '2720.0', '8062.0', 'early 1900s'],\n",
       "       ...,\n",
       "       ['400000.0', '4.0', '2.5', ..., '1830.0', '7200.0', 'early 2000s'],\n",
       "       ['402101.0', '2.0', '0.75', ..., '1020.0', '2007.0',\n",
       "        'early 2000s'],\n",
       "       ['400000.0', '3.0', '2.5', ..., '1410.0', '1287.0', 'early 2000s']],\n",
       "      dtype='<U32')"
      ]
     },
     "execution_count": 357,
     "metadata": {},
     "output_type": "execute_result"
    }
   ],
   "source": [
    "house_copy\n"
   ]
  },
  {
   "cell_type": "code",
   "execution_count": 358,
   "metadata": {
    "ExecuteTime": {
     "end_time": "2020-05-20T19:28:19.049288Z",
     "start_time": "2020-05-20T19:28:19.041910Z"
    }
   },
   "outputs": [],
   "source": [
    "price=house_copy[:,0]\n",
    "year=house_copy[:,-1]"
   ]
  },
  {
   "cell_type": "code",
   "execution_count": 362,
   "metadata": {
    "ExecuteTime": {
     "end_time": "2020-05-20T19:34:10.434091Z",
     "start_time": "2020-05-20T19:34:10.328220Z"
    }
   },
   "outputs": [],
   "source": [
    "price=price.astype(np.float)"
   ]
  },
  {
   "cell_type": "code",
   "execution_count": 363,
   "metadata": {
    "ExecuteTime": {
     "end_time": "2020-05-20T19:34:12.009016Z",
     "start_time": "2020-05-20T19:34:11.957938Z"
    }
   },
   "outputs": [
    {
     "data": {
      "text/plain": [
       "[['early 1900s', 546684.6141843972],\n",
       " ['early 2000s', 618625.6740273397],\n",
       " ['late 1900s', 506213.9935326726]]"
      ]
     },
     "execution_count": 363,
     "metadata": {},
     "output_type": "execute_result"
    }
   ],
   "source": [
    "[[group_val, price[year==group_val].mean()] for group_val in np.unique(year)]"
   ]
  },
  {
   "cell_type": "markdown",
   "metadata": {},
   "source": [
    "As we have seen earlier, price and year_build is not highy corelated. It is being confirm here, as buildings that were build in early 1900s are generally more expensive than late 1900s."
   ]
  },
  {
   "cell_type": "code",
   "execution_count": null,
   "metadata": {},
   "outputs": [],
   "source": []
  },
  {
   "cell_type": "markdown",
   "metadata": {},
   "source": [
    "## closer view of square foot living"
   ]
  },
  {
   "cell_type": "code",
   "execution_count": 31,
   "metadata": {
    "ExecuteTime": {
     "end_time": "2020-05-21T12:40:41.641373Z",
     "start_time": "2020-05-21T12:40:41.612543Z"
    }
   },
   "outputs": [
    {
     "name": "stdout",
     "output_type": "stream",
     "text": [
      "mean space is: 2080.3709483237635\n",
      "median space is: 1910.0\n",
      "\n",
      "space range of the houses are 370.0 to 13540.0\n"
     ]
    }
   ],
   "source": [
    "#counting min,max,median and mean\n",
    "mean=np.mean(house[:,3])\n",
    "print(\"mean space is: \"+str(mean))\n",
    "median=np.median(house[:,3])\n",
    "print(\"median space is: \"+str(median))\n",
    "print()\n",
    "std=np.std(house[:,3])\n",
    "print(\"space range of the houses are \"+ str(np.min(house[:,3])) +\" to \"+ str(np.max(house[:,3])))"
   ]
  },
  {
   "cell_type": "code",
   "execution_count": 32,
   "metadata": {
    "ExecuteTime": {
     "end_time": "2020-05-21T12:50:28.911570Z",
     "start_time": "2020-05-21T12:50:28.880519Z"
    }
   },
   "outputs": [
    {
     "name": "stdout",
     "output_type": "stream",
     "text": [
      "Skewness is 0.5567206404185553\n"
     ]
    }
   ],
   "source": [
    "skew=(3*(mean-median))/std\n",
    "print(\"Skewness is \"+ str(skew))"
   ]
  },
  {
   "cell_type": "markdown",
   "metadata": {},
   "source": [
    "Since the skewness is positive, if we draw the distribution curve of \"Square feet of living space\" column, we will have Positive or right screw distribution. This means that, most of the outliers occur on the right side of the graph meaning <i>for bigger the area, we have more outliers.</i>"
   ]
  },
  {
   "cell_type": "code",
   "execution_count": 33,
   "metadata": {
    "ExecuteTime": {
     "end_time": "2020-05-21T13:01:44.220242Z",
     "start_time": "2020-05-21T13:01:44.191479Z"
    }
   },
   "outputs": [
    {
     "data": {
      "text/plain": [
       "array([[1.        , 0.57818024],\n",
       "       [0.57818024, 1.        ]])"
      ]
     },
     "execution_count": 33,
     "metadata": {},
     "output_type": "execute_result"
    }
   ],
   "source": [
    "#correlation between living space and bedrooms\n",
    "correlation44=np.corrcoef(house[:,3], house[:,1])\n",
    "correlation44"
   ]
  },
  {
   "cell_type": "code",
   "execution_count": 34,
   "metadata": {
    "ExecuteTime": {
     "end_time": "2020-05-21T13:01:45.164272Z",
     "start_time": "2020-05-21T13:01:45.157089Z"
    }
   },
   "outputs": [
    {
     "data": {
      "text/plain": [
       "array([[1.        , 0.75574115],\n",
       "       [0.75574115, 1.        ]])"
      ]
     },
     "execution_count": 34,
     "metadata": {},
     "output_type": "execute_result"
    }
   ],
   "source": [
    "#correlation between living space and bathrooms\n",
    "correlation44=np.corrcoef(house[:,3], house[:,2])\n",
    "correlation44"
   ]
  },
  {
   "cell_type": "code",
   "execution_count": 35,
   "metadata": {
    "ExecuteTime": {
     "end_time": "2020-05-21T13:02:00.894238Z",
     "start_time": "2020-05-21T13:02:00.883330Z"
    }
   },
   "outputs": [
    {
     "data": {
      "text/plain": [
       "array([[1.        , 0.35402158],\n",
       "       [0.35402158, 1.        ]])"
      ]
     },
     "execution_count": 35,
     "metadata": {},
     "output_type": "execute_result"
    }
   ],
   "source": [
    "#correlation between living space and floor\n",
    "correlation44=np.corrcoef(house[:,5], house[:,3])\n",
    "correlation44"
   ]
  },
  {
   "cell_type": "code",
   "execution_count": 36,
   "metadata": {
    "ExecuteTime": {
     "end_time": "2020-05-21T13:02:12.962593Z",
     "start_time": "2020-05-21T13:02:12.922930Z"
    }
   },
   "outputs": [
    {
     "data": {
      "text/plain": [
       "array([[ 1.        , -0.19974884],\n",
       "       [-0.19974884,  1.        ]])"
      ]
     },
     "execution_count": 36,
     "metadata": {},
     "output_type": "execute_result"
    }
   ],
   "source": [
    "#correlation between living space and zipcode\n",
    "correlation44=np.corrcoef(house[:,3], house[:,14])\n",
    "correlation44"
   ]
  },
  {
   "cell_type": "code",
   "execution_count": 37,
   "metadata": {
    "ExecuteTime": {
     "end_time": "2020-05-21T13:02:26.089758Z",
     "start_time": "2020-05-21T13:02:26.071747Z"
    }
   },
   "outputs": [
    {
     "data": {
      "text/plain": [
       "array([[1.        , 0.28470229],\n",
       "       [0.28470229, 1.        ]])"
      ]
     },
     "execution_count": 37,
     "metadata": {},
     "output_type": "execute_result"
    }
   ],
   "source": [
    "#correlation between living space and number of view\n",
    "correlation44=np.corrcoef(house[:,3], house[:,7])\n",
    "correlation44"
   ]
  },
  {
   "cell_type": "code",
   "execution_count": 24,
   "metadata": {
    "ExecuteTime": {
     "end_time": "2020-05-21T12:24:27.027113Z",
     "start_time": "2020-05-21T12:24:27.014185Z"
    }
   },
   "outputs": [
    {
     "data": {
      "text/plain": [
       "array([[1.       , 0.1038529],\n",
       "       [0.1038529, 1.       ]])"
      ]
     },
     "execution_count": 24,
     "metadata": {},
     "output_type": "execute_result"
    }
   ],
   "source": [
    "#correlation between living space and water front\n",
    "correlation44=np.corrcoef(house[:,3], house[:,6])\n",
    "correlation44"
   ]
  },
  {
   "cell_type": "markdown",
   "metadata": {},
   "source": [
    "Square feet living space is highly correlated with the number of bedrooms and number of bathrooms, which is understandable as bigger houses tend to have more bedrooms and bathrooms. It is also foreseeable that, bigger houses are located away from the center which is also true for our dataset as square feet living and zip code are negatively correlated.\n"
   ]
  },
  {
   "cell_type": "markdown",
   "metadata": {},
   "source": [
    "Square feet living is also corealted with the number of view and having waterfront or not. But, we cannot for sure say they are corelated, as number of view and waterfront depends on many other things, like location, negibourhood."
   ]
  },
  {
   "cell_type": "code",
   "execution_count": null,
   "metadata": {},
   "outputs": [],
   "source": []
  },
  {
   "cell_type": "markdown",
   "metadata": {},
   "source": [
    "## how price changes with number of view"
   ]
  },
  {
   "cell_type": "code",
   "execution_count": 26,
   "metadata": {
    "ExecuteTime": {
     "end_time": "2020-05-21T12:25:50.283708Z",
     "start_time": "2020-05-21T12:25:50.267334Z"
    }
   },
   "outputs": [],
   "source": [
    "price=house[:,0]\n",
    "view=house[:,7]"
   ]
  },
  {
   "cell_type": "code",
   "execution_count": 29,
   "metadata": {
    "ExecuteTime": {
     "end_time": "2020-05-21T12:27:08.795991Z",
     "start_time": "2020-05-21T12:27:08.787790Z"
    }
   },
   "outputs": [
    {
     "data": {
      "text/plain": [
       "[[0.0, 496689.27749820275],\n",
       " [1.0, 812280.8373493976],\n",
       " [2.0, 792515.1456815817],\n",
       " [3.0, 971965.274509804],\n",
       " [4.0, 1463711.2382445142]]"
      ]
     },
     "execution_count": 29,
     "metadata": {},
     "output_type": "execute_result"
    }
   ],
   "source": [
    "[[group_val, price[view==group_val].mean()] for group_val in np.unique(view)]\n"
   ]
  },
  {
   "cell_type": "markdown",
   "metadata": {},
   "source": [
    "As expected, house with more views are more expenssive but only difference is houses with 2 viwes. this kind of house is less expenssive than houses with 1 view."
   ]
  },
  {
   "cell_type": "code",
   "execution_count": null,
   "metadata": {},
   "outputs": [],
   "source": []
  }
 ],
 "metadata": {
  "kernelspec": {
   "display_name": "Python 3",
   "language": "python",
   "name": "python3"
  },
  "language_info": {
   "codemirror_mode": {
    "name": "ipython",
    "version": 3
   },
   "file_extension": ".py",
   "mimetype": "text/x-python",
   "name": "python",
   "nbconvert_exporter": "python",
   "pygments_lexer": "ipython3",
   "version": "3.7.4"
  },
  "varInspector": {
   "cols": {
    "lenName": 16,
    "lenType": 16,
    "lenVar": 40
   },
   "kernels_config": {
    "python": {
     "delete_cmd_postfix": "",
     "delete_cmd_prefix": "del ",
     "library": "var_list.py",
     "varRefreshCmd": "print(var_dic_list())"
    },
    "r": {
     "delete_cmd_postfix": ") ",
     "delete_cmd_prefix": "rm(",
     "library": "var_list.r",
     "varRefreshCmd": "cat(var_dic_list()) "
    }
   },
   "types_to_exclude": [
    "module",
    "function",
    "builtin_function_or_method",
    "instance",
    "_Feature"
   ],
   "window_display": false
  }
 },
 "nbformat": 4,
 "nbformat_minor": 4
}
