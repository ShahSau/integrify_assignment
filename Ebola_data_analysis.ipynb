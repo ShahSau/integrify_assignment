{
 "cells": [
  {
   "cell_type": "markdown",
   "metadata": {},
   "source": [
    "# Importing necessary libraries "
   ]
  },
  {
   "cell_type": "code",
   "execution_count": 114,
   "metadata": {
    "ExecuteTime": {
     "end_time": "2020-06-04T20:00:22.242784Z",
     "start_time": "2020-06-04T20:00:22.224228Z"
    }
   },
   "outputs": [],
   "source": [
    "import numpy as np\n",
    "import pandas as pd\n",
    "import matplotlib.pyplot as plt\n",
    "import seaborn as sns\n",
    "import plotly.express as px"
   ]
  },
  {
   "cell_type": "code",
   "execution_count": null,
   "metadata": {},
   "outputs": [],
   "source": []
  },
  {
   "cell_type": "markdown",
   "metadata": {},
   "source": [
    "# Reading and Cleaning the dataset"
   ]
  },
  {
   "cell_type": "code",
   "execution_count": 115,
   "metadata": {
    "ExecuteTime": {
     "end_time": "2020-06-04T20:00:24.377794Z",
     "start_time": "2020-06-04T20:00:24.363203Z"
    }
   },
   "outputs": [],
   "source": [
    "df=pd.read_csv(\"country_timeseries.csv\")"
   ]
  },
  {
   "cell_type": "code",
   "execution_count": 116,
   "metadata": {
    "ExecuteTime": {
     "end_time": "2020-06-04T20:00:25.030502Z",
     "start_time": "2020-06-04T20:00:24.998466Z"
    }
   },
   "outputs": [
    {
     "data": {
      "text/html": [
       "<div>\n",
       "<style scoped>\n",
       "    .dataframe tbody tr th:only-of-type {\n",
       "        vertical-align: middle;\n",
       "    }\n",
       "\n",
       "    .dataframe tbody tr th {\n",
       "        vertical-align: top;\n",
       "    }\n",
       "\n",
       "    .dataframe thead th {\n",
       "        text-align: right;\n",
       "    }\n",
       "</style>\n",
       "<table border=\"1\" class=\"dataframe\">\n",
       "  <thead>\n",
       "    <tr style=\"text-align: right;\">\n",
       "      <th></th>\n",
       "      <th>Date</th>\n",
       "      <th>Day</th>\n",
       "      <th>Cases_Guinea</th>\n",
       "      <th>Cases_Liberia</th>\n",
       "      <th>Cases_SierraLeone</th>\n",
       "      <th>Cases_Nigeria</th>\n",
       "      <th>Cases_Senegal</th>\n",
       "      <th>Cases_UnitedStates</th>\n",
       "      <th>Cases_Spain</th>\n",
       "      <th>Cases_Mali</th>\n",
       "      <th>Deaths_Guinea</th>\n",
       "      <th>Deaths_Liberia</th>\n",
       "      <th>Deaths_SierraLeone</th>\n",
       "      <th>Deaths_Nigeria</th>\n",
       "      <th>Deaths_Senegal</th>\n",
       "      <th>Deaths_UnitedStates</th>\n",
       "      <th>Deaths_Spain</th>\n",
       "      <th>Deaths_Mali</th>\n",
       "    </tr>\n",
       "  </thead>\n",
       "  <tbody>\n",
       "    <tr>\n",
       "      <th>0</th>\n",
       "      <td>1/5/2015</td>\n",
       "      <td>289</td>\n",
       "      <td>2776.0</td>\n",
       "      <td>NaN</td>\n",
       "      <td>10030.0</td>\n",
       "      <td>NaN</td>\n",
       "      <td>NaN</td>\n",
       "      <td>NaN</td>\n",
       "      <td>NaN</td>\n",
       "      <td>NaN</td>\n",
       "      <td>1786.0</td>\n",
       "      <td>NaN</td>\n",
       "      <td>2977.0</td>\n",
       "      <td>NaN</td>\n",
       "      <td>NaN</td>\n",
       "      <td>NaN</td>\n",
       "      <td>NaN</td>\n",
       "      <td>NaN</td>\n",
       "    </tr>\n",
       "    <tr>\n",
       "      <th>1</th>\n",
       "      <td>1/4/2015</td>\n",
       "      <td>288</td>\n",
       "      <td>2775.0</td>\n",
       "      <td>NaN</td>\n",
       "      <td>9780.0</td>\n",
       "      <td>NaN</td>\n",
       "      <td>NaN</td>\n",
       "      <td>NaN</td>\n",
       "      <td>NaN</td>\n",
       "      <td>NaN</td>\n",
       "      <td>1781.0</td>\n",
       "      <td>NaN</td>\n",
       "      <td>2943.0</td>\n",
       "      <td>NaN</td>\n",
       "      <td>NaN</td>\n",
       "      <td>NaN</td>\n",
       "      <td>NaN</td>\n",
       "      <td>NaN</td>\n",
       "    </tr>\n",
       "    <tr>\n",
       "      <th>2</th>\n",
       "      <td>1/3/2015</td>\n",
       "      <td>287</td>\n",
       "      <td>2769.0</td>\n",
       "      <td>8166.0</td>\n",
       "      <td>9722.0</td>\n",
       "      <td>NaN</td>\n",
       "      <td>NaN</td>\n",
       "      <td>NaN</td>\n",
       "      <td>NaN</td>\n",
       "      <td>NaN</td>\n",
       "      <td>1767.0</td>\n",
       "      <td>3496.0</td>\n",
       "      <td>2915.0</td>\n",
       "      <td>NaN</td>\n",
       "      <td>NaN</td>\n",
       "      <td>NaN</td>\n",
       "      <td>NaN</td>\n",
       "      <td>NaN</td>\n",
       "    </tr>\n",
       "    <tr>\n",
       "      <th>3</th>\n",
       "      <td>1/2/2015</td>\n",
       "      <td>286</td>\n",
       "      <td>NaN</td>\n",
       "      <td>8157.0</td>\n",
       "      <td>NaN</td>\n",
       "      <td>NaN</td>\n",
       "      <td>NaN</td>\n",
       "      <td>NaN</td>\n",
       "      <td>NaN</td>\n",
       "      <td>NaN</td>\n",
       "      <td>NaN</td>\n",
       "      <td>3496.0</td>\n",
       "      <td>NaN</td>\n",
       "      <td>NaN</td>\n",
       "      <td>NaN</td>\n",
       "      <td>NaN</td>\n",
       "      <td>NaN</td>\n",
       "      <td>NaN</td>\n",
       "    </tr>\n",
       "    <tr>\n",
       "      <th>4</th>\n",
       "      <td>12/31/2014</td>\n",
       "      <td>284</td>\n",
       "      <td>2730.0</td>\n",
       "      <td>8115.0</td>\n",
       "      <td>9633.0</td>\n",
       "      <td>NaN</td>\n",
       "      <td>NaN</td>\n",
       "      <td>NaN</td>\n",
       "      <td>NaN</td>\n",
       "      <td>NaN</td>\n",
       "      <td>1739.0</td>\n",
       "      <td>3471.0</td>\n",
       "      <td>2827.0</td>\n",
       "      <td>NaN</td>\n",
       "      <td>NaN</td>\n",
       "      <td>NaN</td>\n",
       "      <td>NaN</td>\n",
       "      <td>NaN</td>\n",
       "    </tr>\n",
       "  </tbody>\n",
       "</table>\n",
       "</div>"
      ],
      "text/plain": [
       "         Date  Day  Cases_Guinea  Cases_Liberia  Cases_SierraLeone  \\\n",
       "0    1/5/2015  289        2776.0            NaN            10030.0   \n",
       "1    1/4/2015  288        2775.0            NaN             9780.0   \n",
       "2    1/3/2015  287        2769.0         8166.0             9722.0   \n",
       "3    1/2/2015  286           NaN         8157.0                NaN   \n",
       "4  12/31/2014  284        2730.0         8115.0             9633.0   \n",
       "\n",
       "   Cases_Nigeria  Cases_Senegal  Cases_UnitedStates  Cases_Spain  Cases_Mali  \\\n",
       "0            NaN            NaN                 NaN          NaN         NaN   \n",
       "1            NaN            NaN                 NaN          NaN         NaN   \n",
       "2            NaN            NaN                 NaN          NaN         NaN   \n",
       "3            NaN            NaN                 NaN          NaN         NaN   \n",
       "4            NaN            NaN                 NaN          NaN         NaN   \n",
       "\n",
       "   Deaths_Guinea  Deaths_Liberia  Deaths_SierraLeone  Deaths_Nigeria  \\\n",
       "0         1786.0             NaN              2977.0             NaN   \n",
       "1         1781.0             NaN              2943.0             NaN   \n",
       "2         1767.0          3496.0              2915.0             NaN   \n",
       "3            NaN          3496.0                 NaN             NaN   \n",
       "4         1739.0          3471.0              2827.0             NaN   \n",
       "\n",
       "   Deaths_Senegal  Deaths_UnitedStates  Deaths_Spain  Deaths_Mali  \n",
       "0             NaN                  NaN           NaN          NaN  \n",
       "1             NaN                  NaN           NaN          NaN  \n",
       "2             NaN                  NaN           NaN          NaN  \n",
       "3             NaN                  NaN           NaN          NaN  \n",
       "4             NaN                  NaN           NaN          NaN  "
      ]
     },
     "execution_count": 116,
     "metadata": {},
     "output_type": "execute_result"
    }
   ],
   "source": [
    "df.head(5)"
   ]
  },
  {
   "cell_type": "code",
   "execution_count": 117,
   "metadata": {
    "ExecuteTime": {
     "end_time": "2020-06-04T20:00:25.742346Z",
     "start_time": "2020-06-04T20:00:25.710802Z"
    }
   },
   "outputs": [
    {
     "data": {
      "text/html": [
       "<div>\n",
       "<style scoped>\n",
       "    .dataframe tbody tr th:only-of-type {\n",
       "        vertical-align: middle;\n",
       "    }\n",
       "\n",
       "    .dataframe tbody tr th {\n",
       "        vertical-align: top;\n",
       "    }\n",
       "\n",
       "    .dataframe thead th {\n",
       "        text-align: right;\n",
       "    }\n",
       "</style>\n",
       "<table border=\"1\" class=\"dataframe\">\n",
       "  <thead>\n",
       "    <tr style=\"text-align: right;\">\n",
       "      <th></th>\n",
       "      <th>Date</th>\n",
       "      <th>Day</th>\n",
       "      <th>Cases_Guinea</th>\n",
       "      <th>Cases_Liberia</th>\n",
       "      <th>Cases_SierraLeone</th>\n",
       "      <th>Cases_Nigeria</th>\n",
       "      <th>Cases_Senegal</th>\n",
       "      <th>Cases_UnitedStates</th>\n",
       "      <th>Cases_Spain</th>\n",
       "      <th>Cases_Mali</th>\n",
       "      <th>Deaths_Guinea</th>\n",
       "      <th>Deaths_Liberia</th>\n",
       "      <th>Deaths_SierraLeone</th>\n",
       "      <th>Deaths_Nigeria</th>\n",
       "      <th>Deaths_Senegal</th>\n",
       "      <th>Deaths_UnitedStates</th>\n",
       "      <th>Deaths_Spain</th>\n",
       "      <th>Deaths_Mali</th>\n",
       "    </tr>\n",
       "  </thead>\n",
       "  <tbody>\n",
       "    <tr>\n",
       "      <th>117</th>\n",
       "      <td>3/27/2014</td>\n",
       "      <td>5</td>\n",
       "      <td>103.0</td>\n",
       "      <td>8.0</td>\n",
       "      <td>6.0</td>\n",
       "      <td>NaN</td>\n",
       "      <td>NaN</td>\n",
       "      <td>NaN</td>\n",
       "      <td>NaN</td>\n",
       "      <td>NaN</td>\n",
       "      <td>66.0</td>\n",
       "      <td>6.0</td>\n",
       "      <td>5.0</td>\n",
       "      <td>NaN</td>\n",
       "      <td>NaN</td>\n",
       "      <td>NaN</td>\n",
       "      <td>NaN</td>\n",
       "      <td>NaN</td>\n",
       "    </tr>\n",
       "    <tr>\n",
       "      <th>118</th>\n",
       "      <td>3/26/2014</td>\n",
       "      <td>4</td>\n",
       "      <td>86.0</td>\n",
       "      <td>NaN</td>\n",
       "      <td>NaN</td>\n",
       "      <td>NaN</td>\n",
       "      <td>NaN</td>\n",
       "      <td>NaN</td>\n",
       "      <td>NaN</td>\n",
       "      <td>NaN</td>\n",
       "      <td>62.0</td>\n",
       "      <td>NaN</td>\n",
       "      <td>NaN</td>\n",
       "      <td>NaN</td>\n",
       "      <td>NaN</td>\n",
       "      <td>NaN</td>\n",
       "      <td>NaN</td>\n",
       "      <td>NaN</td>\n",
       "    </tr>\n",
       "    <tr>\n",
       "      <th>119</th>\n",
       "      <td>3/25/2014</td>\n",
       "      <td>3</td>\n",
       "      <td>86.0</td>\n",
       "      <td>NaN</td>\n",
       "      <td>NaN</td>\n",
       "      <td>NaN</td>\n",
       "      <td>NaN</td>\n",
       "      <td>NaN</td>\n",
       "      <td>NaN</td>\n",
       "      <td>NaN</td>\n",
       "      <td>60.0</td>\n",
       "      <td>NaN</td>\n",
       "      <td>NaN</td>\n",
       "      <td>NaN</td>\n",
       "      <td>NaN</td>\n",
       "      <td>NaN</td>\n",
       "      <td>NaN</td>\n",
       "      <td>NaN</td>\n",
       "    </tr>\n",
       "    <tr>\n",
       "      <th>120</th>\n",
       "      <td>3/24/2014</td>\n",
       "      <td>2</td>\n",
       "      <td>86.0</td>\n",
       "      <td>NaN</td>\n",
       "      <td>NaN</td>\n",
       "      <td>NaN</td>\n",
       "      <td>NaN</td>\n",
       "      <td>NaN</td>\n",
       "      <td>NaN</td>\n",
       "      <td>NaN</td>\n",
       "      <td>59.0</td>\n",
       "      <td>NaN</td>\n",
       "      <td>NaN</td>\n",
       "      <td>NaN</td>\n",
       "      <td>NaN</td>\n",
       "      <td>NaN</td>\n",
       "      <td>NaN</td>\n",
       "      <td>NaN</td>\n",
       "    </tr>\n",
       "    <tr>\n",
       "      <th>121</th>\n",
       "      <td>3/22/2014</td>\n",
       "      <td>0</td>\n",
       "      <td>49.0</td>\n",
       "      <td>NaN</td>\n",
       "      <td>NaN</td>\n",
       "      <td>NaN</td>\n",
       "      <td>NaN</td>\n",
       "      <td>NaN</td>\n",
       "      <td>NaN</td>\n",
       "      <td>NaN</td>\n",
       "      <td>29.0</td>\n",
       "      <td>NaN</td>\n",
       "      <td>NaN</td>\n",
       "      <td>NaN</td>\n",
       "      <td>NaN</td>\n",
       "      <td>NaN</td>\n",
       "      <td>NaN</td>\n",
       "      <td>NaN</td>\n",
       "    </tr>\n",
       "  </tbody>\n",
       "</table>\n",
       "</div>"
      ],
      "text/plain": [
       "          Date  Day  Cases_Guinea  Cases_Liberia  Cases_SierraLeone  \\\n",
       "117  3/27/2014    5         103.0            8.0                6.0   \n",
       "118  3/26/2014    4          86.0            NaN                NaN   \n",
       "119  3/25/2014    3          86.0            NaN                NaN   \n",
       "120  3/24/2014    2          86.0            NaN                NaN   \n",
       "121  3/22/2014    0          49.0            NaN                NaN   \n",
       "\n",
       "     Cases_Nigeria  Cases_Senegal  Cases_UnitedStates  Cases_Spain  \\\n",
       "117            NaN            NaN                 NaN          NaN   \n",
       "118            NaN            NaN                 NaN          NaN   \n",
       "119            NaN            NaN                 NaN          NaN   \n",
       "120            NaN            NaN                 NaN          NaN   \n",
       "121            NaN            NaN                 NaN          NaN   \n",
       "\n",
       "     Cases_Mali  Deaths_Guinea  Deaths_Liberia  Deaths_SierraLeone  \\\n",
       "117         NaN           66.0             6.0                 5.0   \n",
       "118         NaN           62.0             NaN                 NaN   \n",
       "119         NaN           60.0             NaN                 NaN   \n",
       "120         NaN           59.0             NaN                 NaN   \n",
       "121         NaN           29.0             NaN                 NaN   \n",
       "\n",
       "     Deaths_Nigeria  Deaths_Senegal  Deaths_UnitedStates  Deaths_Spain  \\\n",
       "117             NaN             NaN                  NaN           NaN   \n",
       "118             NaN             NaN                  NaN           NaN   \n",
       "119             NaN             NaN                  NaN           NaN   \n",
       "120             NaN             NaN                  NaN           NaN   \n",
       "121             NaN             NaN                  NaN           NaN   \n",
       "\n",
       "     Deaths_Mali  \n",
       "117          NaN  \n",
       "118          NaN  \n",
       "119          NaN  \n",
       "120          NaN  \n",
       "121          NaN  "
      ]
     },
     "execution_count": 117,
     "metadata": {},
     "output_type": "execute_result"
    }
   ],
   "source": [
    "df.tail(5)"
   ]
  },
  {
   "cell_type": "code",
   "execution_count": 118,
   "metadata": {
    "ExecuteTime": {
     "end_time": "2020-06-04T20:00:26.526668Z",
     "start_time": "2020-06-04T20:00:26.481075Z"
    }
   },
   "outputs": [
    {
     "data": {
      "text/plain": [
       "Index(['Date', 'Day', 'Cases_Guinea', 'Cases_Liberia', 'Cases_SierraLeone',\n",
       "       'Cases_Nigeria', 'Cases_Senegal', 'Cases_UnitedStates', 'Cases_Spain',\n",
       "       'Cases_Mali', 'Deaths_Guinea', 'Deaths_Liberia', 'Deaths_SierraLeone',\n",
       "       'Deaths_Nigeria', 'Deaths_Senegal', 'Deaths_UnitedStates',\n",
       "       'Deaths_Spain', 'Deaths_Mali'],\n",
       "      dtype='object')"
      ]
     },
     "execution_count": 118,
     "metadata": {},
     "output_type": "execute_result"
    }
   ],
   "source": [
    "df.columns"
   ]
  },
  {
   "cell_type": "markdown",
   "metadata": {},
   "source": [
    "### Each country has two columns, one for cases and another for deaths. For simplicity of our analysis we will reduce the dataframe to one column representing deaths, one case and one for country.\n"
   ]
  },
  {
   "cell_type": "markdown",
   "metadata": {},
   "source": [
    "We will convert the data in two steps, in step one we will count the total number of cases by country and in step two, we will count the total number of deaths by country."
   ]
  },
  {
   "cell_type": "code",
   "execution_count": 119,
   "metadata": {
    "ExecuteTime": {
     "end_time": "2020-06-04T20:00:28.631396Z",
     "start_time": "2020-06-04T20:00:28.612607Z"
    }
   },
   "outputs": [],
   "source": [
    "df1=df.melt(id_vars=['Date','Day','Cases_Guinea', 'Cases_Liberia', 'Cases_SierraLeone',\n",
    "       'Cases_Nigeria', 'Cases_Senegal', 'Cases_UnitedStates', 'Cases_Spain',\n",
    "       'Cases_Mali'],\n",
    "                     var_name='Country',\n",
    "                     value_name='Deaths')"
   ]
  },
  {
   "cell_type": "code",
   "execution_count": 120,
   "metadata": {
    "ExecuteTime": {
     "end_time": "2020-06-04T20:00:29.419399Z",
     "start_time": "2020-06-04T20:00:29.404087Z"
    }
   },
   "outputs": [],
   "source": [
    "df2=df.melt(id_vars=['Date','Day','Deaths_Guinea', 'Deaths_Liberia', 'Deaths_SierraLeone',\n",
    "       'Deaths_Nigeria', 'Deaths_Senegal', 'Deaths_UnitedStates',\n",
    "       'Deaths_Spain', 'Deaths_Mali'],\n",
    "                     var_name='Country',\n",
    "                     value_name='Cases')"
   ]
  },
  {
   "cell_type": "code",
   "execution_count": 121,
   "metadata": {
    "ExecuteTime": {
     "end_time": "2020-06-04T20:00:30.100944Z",
     "start_time": "2020-06-04T20:00:30.094289Z"
    }
   },
   "outputs": [],
   "source": [
    "df1=df1[[\"Date\",\"Day\",\"Country\",\"Deaths\"]]"
   ]
  },
  {
   "cell_type": "code",
   "execution_count": 122,
   "metadata": {
    "ExecuteTime": {
     "end_time": "2020-06-04T20:00:30.737231Z",
     "start_time": "2020-06-04T20:00:30.714212Z"
    }
   },
   "outputs": [
    {
     "data": {
      "text/html": [
       "<div>\n",
       "<style scoped>\n",
       "    .dataframe tbody tr th:only-of-type {\n",
       "        vertical-align: middle;\n",
       "    }\n",
       "\n",
       "    .dataframe tbody tr th {\n",
       "        vertical-align: top;\n",
       "    }\n",
       "\n",
       "    .dataframe thead th {\n",
       "        text-align: right;\n",
       "    }\n",
       "</style>\n",
       "<table border=\"1\" class=\"dataframe\">\n",
       "  <thead>\n",
       "    <tr style=\"text-align: right;\">\n",
       "      <th></th>\n",
       "      <th>Date</th>\n",
       "      <th>Day</th>\n",
       "      <th>Country</th>\n",
       "      <th>Deaths</th>\n",
       "    </tr>\n",
       "  </thead>\n",
       "  <tbody>\n",
       "    <tr>\n",
       "      <th>0</th>\n",
       "      <td>1/5/2015</td>\n",
       "      <td>289</td>\n",
       "      <td>Deaths_Guinea</td>\n",
       "      <td>1786.0</td>\n",
       "    </tr>\n",
       "    <tr>\n",
       "      <th>1</th>\n",
       "      <td>1/4/2015</td>\n",
       "      <td>288</td>\n",
       "      <td>Deaths_Guinea</td>\n",
       "      <td>1781.0</td>\n",
       "    </tr>\n",
       "    <tr>\n",
       "      <th>2</th>\n",
       "      <td>1/3/2015</td>\n",
       "      <td>287</td>\n",
       "      <td>Deaths_Guinea</td>\n",
       "      <td>1767.0</td>\n",
       "    </tr>\n",
       "    <tr>\n",
       "      <th>3</th>\n",
       "      <td>1/2/2015</td>\n",
       "      <td>286</td>\n",
       "      <td>Deaths_Guinea</td>\n",
       "      <td>NaN</td>\n",
       "    </tr>\n",
       "    <tr>\n",
       "      <th>4</th>\n",
       "      <td>12/31/2014</td>\n",
       "      <td>284</td>\n",
       "      <td>Deaths_Guinea</td>\n",
       "      <td>1739.0</td>\n",
       "    </tr>\n",
       "  </tbody>\n",
       "</table>\n",
       "</div>"
      ],
      "text/plain": [
       "         Date  Day        Country  Deaths\n",
       "0    1/5/2015  289  Deaths_Guinea  1786.0\n",
       "1    1/4/2015  288  Deaths_Guinea  1781.0\n",
       "2    1/3/2015  287  Deaths_Guinea  1767.0\n",
       "3    1/2/2015  286  Deaths_Guinea     NaN\n",
       "4  12/31/2014  284  Deaths_Guinea  1739.0"
      ]
     },
     "execution_count": 122,
     "metadata": {},
     "output_type": "execute_result"
    }
   ],
   "source": [
    "df1.head()"
   ]
  },
  {
   "cell_type": "code",
   "execution_count": 123,
   "metadata": {
    "ExecuteTime": {
     "end_time": "2020-06-04T20:00:31.405788Z",
     "start_time": "2020-06-04T20:00:31.395897Z"
    }
   },
   "outputs": [],
   "source": [
    "split=df1[\"Country\"].str.split('_')"
   ]
  },
  {
   "cell_type": "code",
   "execution_count": 124,
   "metadata": {
    "ExecuteTime": {
     "end_time": "2020-06-04T20:00:32.039684Z",
     "start_time": "2020-06-04T20:00:32.021634Z"
    }
   },
   "outputs": [],
   "source": [
    "df1['Country']=split.str.get(1)"
   ]
  },
  {
   "cell_type": "code",
   "execution_count": 125,
   "metadata": {
    "ExecuteTime": {
     "end_time": "2020-06-04T20:00:32.650722Z",
     "start_time": "2020-06-04T20:00:32.632575Z"
    }
   },
   "outputs": [
    {
     "data": {
      "text/html": [
       "<div>\n",
       "<style scoped>\n",
       "    .dataframe tbody tr th:only-of-type {\n",
       "        vertical-align: middle;\n",
       "    }\n",
       "\n",
       "    .dataframe tbody tr th {\n",
       "        vertical-align: top;\n",
       "    }\n",
       "\n",
       "    .dataframe thead th {\n",
       "        text-align: right;\n",
       "    }\n",
       "</style>\n",
       "<table border=\"1\" class=\"dataframe\">\n",
       "  <thead>\n",
       "    <tr style=\"text-align: right;\">\n",
       "      <th></th>\n",
       "      <th>Date</th>\n",
       "      <th>Day</th>\n",
       "      <th>Country</th>\n",
       "      <th>Deaths</th>\n",
       "    </tr>\n",
       "  </thead>\n",
       "  <tbody>\n",
       "    <tr>\n",
       "      <th>0</th>\n",
       "      <td>1/5/2015</td>\n",
       "      <td>289</td>\n",
       "      <td>Guinea</td>\n",
       "      <td>1786.0</td>\n",
       "    </tr>\n",
       "    <tr>\n",
       "      <th>1</th>\n",
       "      <td>1/4/2015</td>\n",
       "      <td>288</td>\n",
       "      <td>Guinea</td>\n",
       "      <td>1781.0</td>\n",
       "    </tr>\n",
       "    <tr>\n",
       "      <th>2</th>\n",
       "      <td>1/3/2015</td>\n",
       "      <td>287</td>\n",
       "      <td>Guinea</td>\n",
       "      <td>1767.0</td>\n",
       "    </tr>\n",
       "    <tr>\n",
       "      <th>3</th>\n",
       "      <td>1/2/2015</td>\n",
       "      <td>286</td>\n",
       "      <td>Guinea</td>\n",
       "      <td>NaN</td>\n",
       "    </tr>\n",
       "    <tr>\n",
       "      <th>4</th>\n",
       "      <td>12/31/2014</td>\n",
       "      <td>284</td>\n",
       "      <td>Guinea</td>\n",
       "      <td>1739.0</td>\n",
       "    </tr>\n",
       "  </tbody>\n",
       "</table>\n",
       "</div>"
      ],
      "text/plain": [
       "         Date  Day Country  Deaths\n",
       "0    1/5/2015  289  Guinea  1786.0\n",
       "1    1/4/2015  288  Guinea  1781.0\n",
       "2    1/3/2015  287  Guinea  1767.0\n",
       "3    1/2/2015  286  Guinea     NaN\n",
       "4  12/31/2014  284  Guinea  1739.0"
      ]
     },
     "execution_count": 125,
     "metadata": {},
     "output_type": "execute_result"
    }
   ],
   "source": [
    "df1.head(5)"
   ]
  },
  {
   "cell_type": "code",
   "execution_count": 126,
   "metadata": {
    "ExecuteTime": {
     "end_time": "2020-06-04T20:00:33.254621Z",
     "start_time": "2020-06-04T20:00:33.245406Z"
    }
   },
   "outputs": [],
   "source": [
    "split2=df2[\"Country\"].str.split('_')"
   ]
  },
  {
   "cell_type": "code",
   "execution_count": 127,
   "metadata": {
    "ExecuteTime": {
     "end_time": "2020-06-04T20:00:33.972295Z",
     "start_time": "2020-06-04T20:00:33.961842Z"
    }
   },
   "outputs": [],
   "source": [
    "df2['Country']=split2.str.get(1)"
   ]
  },
  {
   "cell_type": "code",
   "execution_count": 128,
   "metadata": {
    "ExecuteTime": {
     "end_time": "2020-06-04T20:00:34.680838Z",
     "start_time": "2020-06-04T20:00:34.644062Z"
    }
   },
   "outputs": [
    {
     "data": {
      "text/html": [
       "<div>\n",
       "<style scoped>\n",
       "    .dataframe tbody tr th:only-of-type {\n",
       "        vertical-align: middle;\n",
       "    }\n",
       "\n",
       "    .dataframe tbody tr th {\n",
       "        vertical-align: top;\n",
       "    }\n",
       "\n",
       "    .dataframe thead th {\n",
       "        text-align: right;\n",
       "    }\n",
       "</style>\n",
       "<table border=\"1\" class=\"dataframe\">\n",
       "  <thead>\n",
       "    <tr style=\"text-align: right;\">\n",
       "      <th></th>\n",
       "      <th>Date</th>\n",
       "      <th>Day</th>\n",
       "      <th>Deaths_Guinea</th>\n",
       "      <th>Deaths_Liberia</th>\n",
       "      <th>Deaths_SierraLeone</th>\n",
       "      <th>Deaths_Nigeria</th>\n",
       "      <th>Deaths_Senegal</th>\n",
       "      <th>Deaths_UnitedStates</th>\n",
       "      <th>Deaths_Spain</th>\n",
       "      <th>Deaths_Mali</th>\n",
       "      <th>Country</th>\n",
       "      <th>Cases</th>\n",
       "    </tr>\n",
       "  </thead>\n",
       "  <tbody>\n",
       "    <tr>\n",
       "      <th>0</th>\n",
       "      <td>1/5/2015</td>\n",
       "      <td>289</td>\n",
       "      <td>1786.0</td>\n",
       "      <td>NaN</td>\n",
       "      <td>2977.0</td>\n",
       "      <td>NaN</td>\n",
       "      <td>NaN</td>\n",
       "      <td>NaN</td>\n",
       "      <td>NaN</td>\n",
       "      <td>NaN</td>\n",
       "      <td>Guinea</td>\n",
       "      <td>2776.0</td>\n",
       "    </tr>\n",
       "    <tr>\n",
       "      <th>1</th>\n",
       "      <td>1/4/2015</td>\n",
       "      <td>288</td>\n",
       "      <td>1781.0</td>\n",
       "      <td>NaN</td>\n",
       "      <td>2943.0</td>\n",
       "      <td>NaN</td>\n",
       "      <td>NaN</td>\n",
       "      <td>NaN</td>\n",
       "      <td>NaN</td>\n",
       "      <td>NaN</td>\n",
       "      <td>Guinea</td>\n",
       "      <td>2775.0</td>\n",
       "    </tr>\n",
       "    <tr>\n",
       "      <th>2</th>\n",
       "      <td>1/3/2015</td>\n",
       "      <td>287</td>\n",
       "      <td>1767.0</td>\n",
       "      <td>3496.0</td>\n",
       "      <td>2915.0</td>\n",
       "      <td>NaN</td>\n",
       "      <td>NaN</td>\n",
       "      <td>NaN</td>\n",
       "      <td>NaN</td>\n",
       "      <td>NaN</td>\n",
       "      <td>Guinea</td>\n",
       "      <td>2769.0</td>\n",
       "    </tr>\n",
       "    <tr>\n",
       "      <th>3</th>\n",
       "      <td>1/2/2015</td>\n",
       "      <td>286</td>\n",
       "      <td>NaN</td>\n",
       "      <td>3496.0</td>\n",
       "      <td>NaN</td>\n",
       "      <td>NaN</td>\n",
       "      <td>NaN</td>\n",
       "      <td>NaN</td>\n",
       "      <td>NaN</td>\n",
       "      <td>NaN</td>\n",
       "      <td>Guinea</td>\n",
       "      <td>NaN</td>\n",
       "    </tr>\n",
       "    <tr>\n",
       "      <th>4</th>\n",
       "      <td>12/31/2014</td>\n",
       "      <td>284</td>\n",
       "      <td>1739.0</td>\n",
       "      <td>3471.0</td>\n",
       "      <td>2827.0</td>\n",
       "      <td>NaN</td>\n",
       "      <td>NaN</td>\n",
       "      <td>NaN</td>\n",
       "      <td>NaN</td>\n",
       "      <td>NaN</td>\n",
       "      <td>Guinea</td>\n",
       "      <td>2730.0</td>\n",
       "    </tr>\n",
       "  </tbody>\n",
       "</table>\n",
       "</div>"
      ],
      "text/plain": [
       "         Date  Day  Deaths_Guinea  Deaths_Liberia  Deaths_SierraLeone  \\\n",
       "0    1/5/2015  289         1786.0             NaN              2977.0   \n",
       "1    1/4/2015  288         1781.0             NaN              2943.0   \n",
       "2    1/3/2015  287         1767.0          3496.0              2915.0   \n",
       "3    1/2/2015  286            NaN          3496.0                 NaN   \n",
       "4  12/31/2014  284         1739.0          3471.0              2827.0   \n",
       "\n",
       "   Deaths_Nigeria  Deaths_Senegal  Deaths_UnitedStates  Deaths_Spain  \\\n",
       "0             NaN             NaN                  NaN           NaN   \n",
       "1             NaN             NaN                  NaN           NaN   \n",
       "2             NaN             NaN                  NaN           NaN   \n",
       "3             NaN             NaN                  NaN           NaN   \n",
       "4             NaN             NaN                  NaN           NaN   \n",
       "\n",
       "   Deaths_Mali Country   Cases  \n",
       "0          NaN  Guinea  2776.0  \n",
       "1          NaN  Guinea  2775.0  \n",
       "2          NaN  Guinea  2769.0  \n",
       "3          NaN  Guinea     NaN  \n",
       "4          NaN  Guinea  2730.0  "
      ]
     },
     "execution_count": 128,
     "metadata": {},
     "output_type": "execute_result"
    }
   ],
   "source": [
    "df2.head(5)"
   ]
  },
  {
   "cell_type": "code",
   "execution_count": 129,
   "metadata": {
    "ExecuteTime": {
     "end_time": "2020-06-04T20:00:35.293273Z",
     "start_time": "2020-06-04T20:00:35.286123Z"
    }
   },
   "outputs": [],
   "source": [
    "df2=df2[[\"Date\",\"Day\",\"Cases\",\"Country\"]]"
   ]
  },
  {
   "cell_type": "code",
   "execution_count": 130,
   "metadata": {
    "ExecuteTime": {
     "end_time": "2020-06-04T20:00:36.840168Z",
     "start_time": "2020-06-04T20:00:36.817102Z"
    }
   },
   "outputs": [
    {
     "data": {
      "text/html": [
       "<div>\n",
       "<style scoped>\n",
       "    .dataframe tbody tr th:only-of-type {\n",
       "        vertical-align: middle;\n",
       "    }\n",
       "\n",
       "    .dataframe tbody tr th {\n",
       "        vertical-align: top;\n",
       "    }\n",
       "\n",
       "    .dataframe thead th {\n",
       "        text-align: right;\n",
       "    }\n",
       "</style>\n",
       "<table border=\"1\" class=\"dataframe\">\n",
       "  <thead>\n",
       "    <tr style=\"text-align: right;\">\n",
       "      <th></th>\n",
       "      <th>Date</th>\n",
       "      <th>Day</th>\n",
       "      <th>Cases</th>\n",
       "      <th>Country</th>\n",
       "    </tr>\n",
       "  </thead>\n",
       "  <tbody>\n",
       "    <tr>\n",
       "      <th>0</th>\n",
       "      <td>1/5/2015</td>\n",
       "      <td>289</td>\n",
       "      <td>2776.0</td>\n",
       "      <td>Guinea</td>\n",
       "    </tr>\n",
       "    <tr>\n",
       "      <th>1</th>\n",
       "      <td>1/4/2015</td>\n",
       "      <td>288</td>\n",
       "      <td>2775.0</td>\n",
       "      <td>Guinea</td>\n",
       "    </tr>\n",
       "    <tr>\n",
       "      <th>2</th>\n",
       "      <td>1/3/2015</td>\n",
       "      <td>287</td>\n",
       "      <td>2769.0</td>\n",
       "      <td>Guinea</td>\n",
       "    </tr>\n",
       "    <tr>\n",
       "      <th>3</th>\n",
       "      <td>1/2/2015</td>\n",
       "      <td>286</td>\n",
       "      <td>NaN</td>\n",
       "      <td>Guinea</td>\n",
       "    </tr>\n",
       "    <tr>\n",
       "      <th>4</th>\n",
       "      <td>12/31/2014</td>\n",
       "      <td>284</td>\n",
       "      <td>2730.0</td>\n",
       "      <td>Guinea</td>\n",
       "    </tr>\n",
       "  </tbody>\n",
       "</table>\n",
       "</div>"
      ],
      "text/plain": [
       "         Date  Day   Cases Country\n",
       "0    1/5/2015  289  2776.0  Guinea\n",
       "1    1/4/2015  288  2775.0  Guinea\n",
       "2    1/3/2015  287  2769.0  Guinea\n",
       "3    1/2/2015  286     NaN  Guinea\n",
       "4  12/31/2014  284  2730.0  Guinea"
      ]
     },
     "execution_count": 130,
     "metadata": {},
     "output_type": "execute_result"
    }
   ],
   "source": [
    "df2.head(5)"
   ]
  },
  {
   "cell_type": "code",
   "execution_count": 131,
   "metadata": {
    "ExecuteTime": {
     "end_time": "2020-06-04T20:00:37.539253Z",
     "start_time": "2020-06-04T20:00:37.523588Z"
    }
   },
   "outputs": [],
   "source": [
    "df=pd.merge(df1,df2,on=[\"Date\",\"Day\",\"Country\"],how=\"inner\")"
   ]
  },
  {
   "cell_type": "code",
   "execution_count": 132,
   "metadata": {
    "ExecuteTime": {
     "end_time": "2020-06-04T20:00:38.737426Z",
     "start_time": "2020-06-04T20:00:38.718654Z"
    }
   },
   "outputs": [
    {
     "data": {
      "text/html": [
       "<div>\n",
       "<style scoped>\n",
       "    .dataframe tbody tr th:only-of-type {\n",
       "        vertical-align: middle;\n",
       "    }\n",
       "\n",
       "    .dataframe tbody tr th {\n",
       "        vertical-align: top;\n",
       "    }\n",
       "\n",
       "    .dataframe thead th {\n",
       "        text-align: right;\n",
       "    }\n",
       "</style>\n",
       "<table border=\"1\" class=\"dataframe\">\n",
       "  <thead>\n",
       "    <tr style=\"text-align: right;\">\n",
       "      <th></th>\n",
       "      <th>Date</th>\n",
       "      <th>Day</th>\n",
       "      <th>Country</th>\n",
       "      <th>Deaths</th>\n",
       "      <th>Cases</th>\n",
       "    </tr>\n",
       "  </thead>\n",
       "  <tbody>\n",
       "    <tr>\n",
       "      <th>0</th>\n",
       "      <td>1/5/2015</td>\n",
       "      <td>289</td>\n",
       "      <td>Guinea</td>\n",
       "      <td>1786.0</td>\n",
       "      <td>2776.0</td>\n",
       "    </tr>\n",
       "    <tr>\n",
       "      <th>1</th>\n",
       "      <td>1/4/2015</td>\n",
       "      <td>288</td>\n",
       "      <td>Guinea</td>\n",
       "      <td>1781.0</td>\n",
       "      <td>2775.0</td>\n",
       "    </tr>\n",
       "    <tr>\n",
       "      <th>2</th>\n",
       "      <td>1/3/2015</td>\n",
       "      <td>287</td>\n",
       "      <td>Guinea</td>\n",
       "      <td>1767.0</td>\n",
       "      <td>2769.0</td>\n",
       "    </tr>\n",
       "    <tr>\n",
       "      <th>3</th>\n",
       "      <td>1/2/2015</td>\n",
       "      <td>286</td>\n",
       "      <td>Guinea</td>\n",
       "      <td>NaN</td>\n",
       "      <td>NaN</td>\n",
       "    </tr>\n",
       "    <tr>\n",
       "      <th>4</th>\n",
       "      <td>12/31/2014</td>\n",
       "      <td>284</td>\n",
       "      <td>Guinea</td>\n",
       "      <td>1739.0</td>\n",
       "      <td>2730.0</td>\n",
       "    </tr>\n",
       "    <tr>\n",
       "      <th>5</th>\n",
       "      <td>12/28/2014</td>\n",
       "      <td>281</td>\n",
       "      <td>Guinea</td>\n",
       "      <td>1708.0</td>\n",
       "      <td>2706.0</td>\n",
       "    </tr>\n",
       "    <tr>\n",
       "      <th>6</th>\n",
       "      <td>12/27/2014</td>\n",
       "      <td>280</td>\n",
       "      <td>Guinea</td>\n",
       "      <td>1697.0</td>\n",
       "      <td>2695.0</td>\n",
       "    </tr>\n",
       "    <tr>\n",
       "      <th>7</th>\n",
       "      <td>12/24/2014</td>\n",
       "      <td>277</td>\n",
       "      <td>Guinea</td>\n",
       "      <td>NaN</td>\n",
       "      <td>2630.0</td>\n",
       "    </tr>\n",
       "    <tr>\n",
       "      <th>8</th>\n",
       "      <td>12/21/2014</td>\n",
       "      <td>273</td>\n",
       "      <td>Guinea</td>\n",
       "      <td>1607.0</td>\n",
       "      <td>2597.0</td>\n",
       "    </tr>\n",
       "    <tr>\n",
       "      <th>9</th>\n",
       "      <td>12/20/2014</td>\n",
       "      <td>272</td>\n",
       "      <td>Guinea</td>\n",
       "      <td>1586.0</td>\n",
       "      <td>2571.0</td>\n",
       "    </tr>\n",
       "    <tr>\n",
       "      <th>10</th>\n",
       "      <td>12/18/2014</td>\n",
       "      <td>271</td>\n",
       "      <td>Guinea</td>\n",
       "      <td>NaN</td>\n",
       "      <td>NaN</td>\n",
       "    </tr>\n",
       "    <tr>\n",
       "      <th>11</th>\n",
       "      <td>12/14/2014</td>\n",
       "      <td>267</td>\n",
       "      <td>Guinea</td>\n",
       "      <td>1525.0</td>\n",
       "      <td>2416.0</td>\n",
       "    </tr>\n",
       "    <tr>\n",
       "      <th>12</th>\n",
       "      <td>12/9/2014</td>\n",
       "      <td>262</td>\n",
       "      <td>Guinea</td>\n",
       "      <td>NaN</td>\n",
       "      <td>NaN</td>\n",
       "    </tr>\n",
       "    <tr>\n",
       "      <th>13</th>\n",
       "      <td>12/7/2014</td>\n",
       "      <td>260</td>\n",
       "      <td>Guinea</td>\n",
       "      <td>1428.0</td>\n",
       "      <td>2292.0</td>\n",
       "    </tr>\n",
       "    <tr>\n",
       "      <th>14</th>\n",
       "      <td>12/3/2014</td>\n",
       "      <td>256</td>\n",
       "      <td>Guinea</td>\n",
       "      <td>NaN</td>\n",
       "      <td>NaN</td>\n",
       "    </tr>\n",
       "    <tr>\n",
       "      <th>15</th>\n",
       "      <td>11/30/2014</td>\n",
       "      <td>253</td>\n",
       "      <td>Guinea</td>\n",
       "      <td>1327.0</td>\n",
       "      <td>2164.0</td>\n",
       "    </tr>\n",
       "    <tr>\n",
       "      <th>16</th>\n",
       "      <td>11/28/2014</td>\n",
       "      <td>251</td>\n",
       "      <td>Guinea</td>\n",
       "      <td>NaN</td>\n",
       "      <td>NaN</td>\n",
       "    </tr>\n",
       "    <tr>\n",
       "      <th>17</th>\n",
       "      <td>11/23/2014</td>\n",
       "      <td>246</td>\n",
       "      <td>Guinea</td>\n",
       "      <td>1260.0</td>\n",
       "      <td>2134.0</td>\n",
       "    </tr>\n",
       "    <tr>\n",
       "      <th>18</th>\n",
       "      <td>11/22/2014</td>\n",
       "      <td>245</td>\n",
       "      <td>Guinea</td>\n",
       "      <td>NaN</td>\n",
       "      <td>NaN</td>\n",
       "    </tr>\n",
       "    <tr>\n",
       "      <th>19</th>\n",
       "      <td>11/18/2014</td>\n",
       "      <td>241</td>\n",
       "      <td>Guinea</td>\n",
       "      <td>1214.0</td>\n",
       "      <td>2047.0</td>\n",
       "    </tr>\n",
       "  </tbody>\n",
       "</table>\n",
       "</div>"
      ],
      "text/plain": [
       "          Date  Day Country  Deaths   Cases\n",
       "0     1/5/2015  289  Guinea  1786.0  2776.0\n",
       "1     1/4/2015  288  Guinea  1781.0  2775.0\n",
       "2     1/3/2015  287  Guinea  1767.0  2769.0\n",
       "3     1/2/2015  286  Guinea     NaN     NaN\n",
       "4   12/31/2014  284  Guinea  1739.0  2730.0\n",
       "5   12/28/2014  281  Guinea  1708.0  2706.0\n",
       "6   12/27/2014  280  Guinea  1697.0  2695.0\n",
       "7   12/24/2014  277  Guinea     NaN  2630.0\n",
       "8   12/21/2014  273  Guinea  1607.0  2597.0\n",
       "9   12/20/2014  272  Guinea  1586.0  2571.0\n",
       "10  12/18/2014  271  Guinea     NaN     NaN\n",
       "11  12/14/2014  267  Guinea  1525.0  2416.0\n",
       "12   12/9/2014  262  Guinea     NaN     NaN\n",
       "13   12/7/2014  260  Guinea  1428.0  2292.0\n",
       "14   12/3/2014  256  Guinea     NaN     NaN\n",
       "15  11/30/2014  253  Guinea  1327.0  2164.0\n",
       "16  11/28/2014  251  Guinea     NaN     NaN\n",
       "17  11/23/2014  246  Guinea  1260.0  2134.0\n",
       "18  11/22/2014  245  Guinea     NaN     NaN\n",
       "19  11/18/2014  241  Guinea  1214.0  2047.0"
      ]
     },
     "execution_count": 132,
     "metadata": {},
     "output_type": "execute_result"
    }
   ],
   "source": [
    "df.head(20)"
   ]
  },
  {
   "cell_type": "code",
   "execution_count": 133,
   "metadata": {
    "ExecuteTime": {
     "end_time": "2020-06-04T20:00:39.581761Z",
     "start_time": "2020-06-04T20:00:39.558104Z"
    }
   },
   "outputs": [
    {
     "data": {
      "text/plain": [
       "<bound method DataFrame.info of            Date  Day Country  Deaths   Cases\n",
       "0      1/5/2015  289  Guinea  1786.0  2776.0\n",
       "1      1/4/2015  288  Guinea  1781.0  2775.0\n",
       "2      1/3/2015  287  Guinea  1767.0  2769.0\n",
       "3      1/2/2015  286  Guinea     NaN     NaN\n",
       "4    12/31/2014  284  Guinea  1739.0  2730.0\n",
       "..          ...  ...     ...     ...     ...\n",
       "971   3/27/2014    5    Mali     NaN     NaN\n",
       "972   3/26/2014    4    Mali     NaN     NaN\n",
       "973   3/25/2014    3    Mali     NaN     NaN\n",
       "974   3/24/2014    2    Mali     NaN     NaN\n",
       "975   3/22/2014    0    Mali     NaN     NaN\n",
       "\n",
       "[976 rows x 5 columns]>"
      ]
     },
     "execution_count": 133,
     "metadata": {},
     "output_type": "execute_result"
    }
   ],
   "source": [
    "df.info"
   ]
  },
  {
   "cell_type": "markdown",
   "metadata": {},
   "source": [
    "Converting Date to a datetime object"
   ]
  },
  {
   "cell_type": "code",
   "execution_count": 134,
   "metadata": {
    "ExecuteTime": {
     "end_time": "2020-06-04T20:00:40.938250Z",
     "start_time": "2020-06-04T20:00:40.929233Z"
    }
   },
   "outputs": [],
   "source": [
    "df[\"Date\"]=pd.to_datetime(df[\"Date\"], format=\"%m/%d/%Y\")"
   ]
  },
  {
   "cell_type": "markdown",
   "metadata": {},
   "source": [
    "confirming the Date is actually a datetime object"
   ]
  },
  {
   "cell_type": "code",
   "execution_count": 135,
   "metadata": {
    "ExecuteTime": {
     "end_time": "2020-06-04T20:00:42.447796Z",
     "start_time": "2020-06-04T20:00:42.421647Z"
    }
   },
   "outputs": [
    {
     "data": {
      "text/plain": [
       "'Sunday'"
      ]
     },
     "execution_count": 135,
     "metadata": {},
     "output_type": "execute_result"
    }
   ],
   "source": [
    "df.loc[5,\"Date\"].day_name()"
   ]
  },
  {
   "cell_type": "markdown",
   "metadata": {},
   "source": [
    "Counting missing values"
   ]
  },
  {
   "cell_type": "code",
   "execution_count": 136,
   "metadata": {
    "ExecuteTime": {
     "end_time": "2020-06-04T20:00:44.422006Z",
     "start_time": "2020-06-04T20:00:44.391563Z"
    }
   },
   "outputs": [
    {
     "data": {
      "text/plain": [
       "Date         0\n",
       "Day          0\n",
       "Country      0\n",
       "Deaths     610\n",
       "Cases      604\n",
       "dtype: int64"
      ]
     },
     "execution_count": 136,
     "metadata": {},
     "output_type": "execute_result"
    }
   ],
   "source": [
    "df.isnull().sum()"
   ]
  },
  {
   "cell_type": "markdown",
   "metadata": {},
   "source": [
    "We have around 600 NaN values in deaths and cases columns.\n",
    "We cannot replace the NaN values with other values. But, we are droping those row where NaN values are present in both Deaths and Cases"
   ]
  },
  {
   "cell_type": "code",
   "execution_count": 137,
   "metadata": {
    "ExecuteTime": {
     "end_time": "2020-06-04T20:00:46.666758Z",
     "start_time": "2020-06-04T20:00:46.652994Z"
    }
   },
   "outputs": [],
   "source": [
    "df.dropna(subset = ['Deaths', 'Cases'],inplace=True)"
   ]
  },
  {
   "cell_type": "code",
   "execution_count": null,
   "metadata": {},
   "outputs": [],
   "source": []
  },
  {
   "cell_type": "markdown",
   "metadata": {},
   "source": [
    "# General overview of all the countries"
   ]
  },
  {
   "cell_type": "code",
   "execution_count": 138,
   "metadata": {
    "ExecuteTime": {
     "end_time": "2020-06-04T20:00:48.979416Z",
     "start_time": "2020-06-04T20:00:48.973400Z"
    }
   },
   "outputs": [
    {
     "data": {
      "text/plain": [
       "array(['Guinea', 'Liberia', 'SierraLeone', 'Nigeria', 'Senegal',\n",
       "       'UnitedStates', 'Spain', 'Mali'], dtype=object)"
      ]
     },
     "execution_count": 138,
     "metadata": {},
     "output_type": "execute_result"
    }
   ],
   "source": [
    "df[\"Country\"].unique()"
   ]
  },
  {
   "cell_type": "code",
   "execution_count": 139,
   "metadata": {
    "ExecuteTime": {
     "end_time": "2020-06-04T20:00:49.692565Z",
     "start_time": "2020-06-04T20:00:49.669541Z"
    }
   },
   "outputs": [
    {
     "data": {
      "text/html": [
       "<div>\n",
       "<style scoped>\n",
       "    .dataframe tbody tr th:only-of-type {\n",
       "        vertical-align: middle;\n",
       "    }\n",
       "\n",
       "    .dataframe tbody tr th {\n",
       "        vertical-align: top;\n",
       "    }\n",
       "\n",
       "    .dataframe thead th {\n",
       "        text-align: right;\n",
       "    }\n",
       "</style>\n",
       "<table border=\"1\" class=\"dataframe\">\n",
       "  <thead>\n",
       "    <tr style=\"text-align: right;\">\n",
       "      <th></th>\n",
       "      <th>Deaths</th>\n",
       "      <th>Cases</th>\n",
       "    </tr>\n",
       "    <tr>\n",
       "      <th>Country</th>\n",
       "      <th></th>\n",
       "      <th></th>\n",
       "    </tr>\n",
       "  </thead>\n",
       "  <tbody>\n",
       "    <tr>\n",
       "      <th>Spain</th>\n",
       "      <td>3.0</td>\n",
       "      <td>16.0</td>\n",
       "    </tr>\n",
       "    <tr>\n",
       "      <th>Senegal</th>\n",
       "      <td>0.0</td>\n",
       "      <td>24.0</td>\n",
       "    </tr>\n",
       "    <tr>\n",
       "      <th>Mali</th>\n",
       "      <td>38.0</td>\n",
       "      <td>42.0</td>\n",
       "    </tr>\n",
       "    <tr>\n",
       "      <th>UnitedStates</th>\n",
       "      <td>15.0</td>\n",
       "      <td>59.0</td>\n",
       "    </tr>\n",
       "    <tr>\n",
       "      <th>Nigeria</th>\n",
       "      <td>233.0</td>\n",
       "      <td>636.0</td>\n",
       "    </tr>\n",
       "    <tr>\n",
       "      <th>Guinea</th>\n",
       "      <td>51818.0</td>\n",
       "      <td>82099.0</td>\n",
       "    </tr>\n",
       "    <tr>\n",
       "      <th>Liberia</th>\n",
       "      <td>87896.0</td>\n",
       "      <td>191351.0</td>\n",
       "    </tr>\n",
       "    <tr>\n",
       "      <th>SierraLeone</th>\n",
       "      <td>60346.0</td>\n",
       "      <td>211169.0</td>\n",
       "    </tr>\n",
       "  </tbody>\n",
       "</table>\n",
       "</div>"
      ],
      "text/plain": [
       "               Deaths     Cases\n",
       "Country                        \n",
       "Spain             3.0      16.0\n",
       "Senegal           0.0      24.0\n",
       "Mali             38.0      42.0\n",
       "UnitedStates     15.0      59.0\n",
       "Nigeria         233.0     636.0\n",
       "Guinea        51818.0   82099.0\n",
       "Liberia       87896.0  191351.0\n",
       "SierraLeone   60346.0  211169.0"
      ]
     },
     "execution_count": 139,
     "metadata": {},
     "output_type": "execute_result"
    }
   ],
   "source": [
    "k=df.groupby(\"Country\")[['Deaths', 'Cases']].sum()\n",
    "k.sort_values(by=\"Cases\")"
   ]
  },
  {
   "cell_type": "markdown",
   "metadata": {},
   "source": [
    "### No one died in Senegal during the time span of our data collection.  Guinea, Liberia and SierraLeone were the worst sufferers of Ebola. The label of the effect of ebola in these countries with other countries in the data set is big."
   ]
  },
  {
   "cell_type": "code",
   "execution_count": null,
   "metadata": {},
   "outputs": [],
   "source": []
  },
  {
   "cell_type": "markdown",
   "metadata": {},
   "source": [
    "## Total number of cases and deaths (overall)"
   ]
  },
  {
   "cell_type": "code",
   "execution_count": 140,
   "metadata": {
    "ExecuteTime": {
     "end_time": "2020-06-04T20:00:53.511354Z",
     "start_time": "2020-06-04T20:00:53.354756Z"
    }
   },
   "outputs": [
    {
     "data": {
      "application/vnd.plotly.v1+json": {
       "config": {
        "plotlyServerURL": "https://plot.ly"
       },
       "data": [
        {
         "hovertemplate": "Overall=Cases<br>Date=%{x}<br>Total=%{y}<extra></extra>",
         "legendgroup": "Cases",
         "line": {
          "color": "#636efa",
          "dash": "solid"
         },
         "mode": "lines",
         "name": "Cases",
         "orientation": "v",
         "showlegend": true,
         "type": "scatter",
         "x": [
          "2014-03-22T00:00:00",
          "2014-03-24T00:00:00",
          "2014-03-25T00:00:00",
          "2014-03-26T00:00:00",
          "2014-03-27T00:00:00",
          "2014-03-28T00:00:00",
          "2014-03-29T00:00:00",
          "2014-03-31T00:00:00",
          "2014-04-01T00:00:00",
          "2014-04-04T00:00:00",
          "2014-04-07T00:00:00",
          "2014-04-09T00:00:00",
          "2014-04-11T00:00:00",
          "2014-04-14T00:00:00",
          "2014-04-16T00:00:00",
          "2014-04-17T00:00:00",
          "2014-04-20T00:00:00",
          "2014-04-21T00:00:00",
          "2014-04-22T00:00:00",
          "2014-04-23T00:00:00",
          "2014-04-24T00:00:00",
          "2014-04-26T00:00:00",
          "2014-05-01T00:00:00",
          "2014-05-03T00:00:00",
          "2014-05-05T00:00:00",
          "2014-05-07T00:00:00",
          "2014-05-10T00:00:00",
          "2014-05-12T00:00:00",
          "2014-05-23T00:00:00",
          "2014-05-27T00:00:00",
          "2014-05-28T00:00:00",
          "2014-06-01T00:00:00",
          "2014-06-03T00:00:00",
          "2014-06-05T00:00:00",
          "2014-06-10T00:00:00",
          "2014-06-16T00:00:00",
          "2014-06-17T00:00:00",
          "2014-06-18T00:00:00",
          "2014-06-19T00:00:00",
          "2014-06-20T00:00:00",
          "2014-06-22T00:00:00",
          "2014-06-30T00:00:00",
          "2014-07-02T00:00:00",
          "2014-07-06T00:00:00",
          "2014-07-08T00:00:00",
          "2014-07-12T00:00:00",
          "2014-07-14T00:00:00",
          "2014-07-17T00:00:00",
          "2014-07-20T00:00:00",
          "2014-07-23T00:00:00",
          "2014-07-27T00:00:00",
          "2014-07-30T00:00:00",
          "2014-08-01T00:00:00",
          "2014-08-04T00:00:00",
          "2014-08-06T00:00:00",
          "2014-08-09T00:00:00",
          "2014-08-11T00:00:00",
          "2014-08-13T00:00:00",
          "2014-08-16T00:00:00",
          "2014-08-18T00:00:00",
          "2014-08-20T00:00:00",
          "2014-08-26T00:00:00",
          "2014-08-31T00:00:00",
          "2014-09-05T00:00:00",
          "2014-09-07T00:00:00",
          "2014-09-10T00:00:00",
          "2014-09-13T00:00:00",
          "2014-09-14T00:00:00",
          "2014-09-17T00:00:00",
          "2014-09-19T00:00:00",
          "2014-09-20T00:00:00",
          "2014-09-21T00:00:00",
          "2014-09-23T00:00:00",
          "2014-09-28T00:00:00",
          "2014-10-01T00:00:00",
          "2014-10-04T00:00:00",
          "2014-10-05T00:00:00",
          "2014-10-07T00:00:00",
          "2014-10-08T00:00:00",
          "2014-10-11T00:00:00",
          "2014-10-12T00:00:00",
          "2014-10-13T00:00:00",
          "2014-10-14T00:00:00",
          "2014-10-18T00:00:00",
          "2014-10-19T00:00:00",
          "2014-10-21T00:00:00",
          "2014-10-22T00:00:00",
          "2014-10-25T00:00:00",
          "2014-10-27T00:00:00",
          "2014-10-29T00:00:00",
          "2014-10-31T00:00:00",
          "2014-11-02T00:00:00",
          "2014-11-03T00:00:00",
          "2014-11-04T00:00:00",
          "2014-11-08T00:00:00",
          "2014-11-09T00:00:00",
          "2014-11-10T00:00:00",
          "2014-11-11T00:00:00",
          "2014-11-15T00:00:00",
          "2014-11-16T00:00:00",
          "2014-11-18T00:00:00",
          "2014-11-22T00:00:00",
          "2014-11-23T00:00:00",
          "2014-11-28T00:00:00",
          "2014-11-30T00:00:00",
          "2014-12-03T00:00:00",
          "2014-12-07T00:00:00",
          "2014-12-09T00:00:00",
          "2014-12-14T00:00:00",
          "2014-12-18T00:00:00",
          "2014-12-20T00:00:00",
          "2014-12-21T00:00:00",
          "2014-12-24T00:00:00",
          "2014-12-27T00:00:00",
          "2014-12-28T00:00:00",
          "2014-12-31T00:00:00",
          "2015-01-02T00:00:00",
          "2015-01-03T00:00:00",
          "2015-01-04T00:00:00",
          "2015-01-05T00:00:00"
         ],
         "xaxis": "x",
         "y": [
          49,
          86,
          86,
          86,
          117,
          117,
          119,
          132,
          137,
          163,
          174,
          185,
          187,
          168,
          224,
          203,
          208,
          34,
          0,
          218,
          0,
          224,
          239,
          244,
          248,
          249,
          245,
          260,
          270,
          309,
          354,
          420,
          357,
          81,
          453,
          431,
          97,
          526,
          41,
          548,
          51,
          759,
          779,
          844,
          888,
          964,
          982,
          1048,
          1093,
          1201,
          1323,
          1440,
          1603,
          1711,
          1779,
          1848,
          1975,
          2127,
          2240,
          2473,
          2615,
          3069,
          3706,
          3966,
          4390,
          2398,
          2578,
          5325,
          3022,
          1008,
          1813,
          6263,
          6574,
          7178,
          7492,
          3924,
          4109,
          5426,
          2973,
          4249,
          4748,
          4262,
          4954,
          4665,
          5271,
          1553,
          3902,
          6535,
          7168,
          7032,
          6525,
          6517,
          1760,
          11508,
          6822,
          7273,
          6878,
          7535,
          7069,
          8075,
          15351,
          7168,
          8766,
          7635,
          9509,
          7719,
          10222,
          7797,
          10772,
          7830,
          19372,
          11601,
          17180,
          12104,
          20170,
          20478,
          8157,
          20657,
          12555,
          12806
         ],
         "yaxis": "y"
        },
        {
         "hovertemplate": "Overall=Deaths<br>Date=%{x}<br>Total=%{y}<extra></extra>",
         "legendgroup": "Deaths",
         "line": {
          "color": "#EF553B",
          "dash": "solid"
         },
         "mode": "lines",
         "name": "Deaths",
         "orientation": "v",
         "showlegend": true,
         "type": "scatter",
         "x": [
          "2014-03-22T00:00:00",
          "2014-03-24T00:00:00",
          "2014-03-25T00:00:00",
          "2014-03-26T00:00:00",
          "2014-03-27T00:00:00",
          "2014-03-28T00:00:00",
          "2014-03-29T00:00:00",
          "2014-03-31T00:00:00",
          "2014-04-01T00:00:00",
          "2014-04-04T00:00:00",
          "2014-04-07T00:00:00",
          "2014-04-09T00:00:00",
          "2014-04-11T00:00:00",
          "2014-04-14T00:00:00",
          "2014-04-16T00:00:00",
          "2014-04-17T00:00:00",
          "2014-04-20T00:00:00",
          "2014-04-21T00:00:00",
          "2014-04-22T00:00:00",
          "2014-04-23T00:00:00",
          "2014-04-24T00:00:00",
          "2014-04-26T00:00:00",
          "2014-05-01T00:00:00",
          "2014-05-03T00:00:00",
          "2014-05-05T00:00:00",
          "2014-05-07T00:00:00",
          "2014-05-10T00:00:00",
          "2014-05-12T00:00:00",
          "2014-05-23T00:00:00",
          "2014-05-27T00:00:00",
          "2014-05-28T00:00:00",
          "2014-06-01T00:00:00",
          "2014-06-03T00:00:00",
          "2014-06-05T00:00:00",
          "2014-06-10T00:00:00",
          "2014-06-16T00:00:00",
          "2014-06-17T00:00:00",
          "2014-06-18T00:00:00",
          "2014-06-19T00:00:00",
          "2014-06-20T00:00:00",
          "2014-06-22T00:00:00",
          "2014-06-30T00:00:00",
          "2014-07-02T00:00:00",
          "2014-07-06T00:00:00",
          "2014-07-08T00:00:00",
          "2014-07-12T00:00:00",
          "2014-07-14T00:00:00",
          "2014-07-17T00:00:00",
          "2014-07-20T00:00:00",
          "2014-07-23T00:00:00",
          "2014-07-27T00:00:00",
          "2014-07-30T00:00:00",
          "2014-08-01T00:00:00",
          "2014-08-04T00:00:00",
          "2014-08-06T00:00:00",
          "2014-08-09T00:00:00",
          "2014-08-11T00:00:00",
          "2014-08-13T00:00:00",
          "2014-08-16T00:00:00",
          "2014-08-18T00:00:00",
          "2014-08-20T00:00:00",
          "2014-08-26T00:00:00",
          "2014-08-31T00:00:00",
          "2014-09-05T00:00:00",
          "2014-09-07T00:00:00",
          "2014-09-10T00:00:00",
          "2014-09-13T00:00:00",
          "2014-09-14T00:00:00",
          "2014-09-17T00:00:00",
          "2014-09-19T00:00:00",
          "2014-09-20T00:00:00",
          "2014-09-21T00:00:00",
          "2014-09-23T00:00:00",
          "2014-09-28T00:00:00",
          "2014-10-01T00:00:00",
          "2014-10-04T00:00:00",
          "2014-10-05T00:00:00",
          "2014-10-07T00:00:00",
          "2014-10-08T00:00:00",
          "2014-10-11T00:00:00",
          "2014-10-12T00:00:00",
          "2014-10-13T00:00:00",
          "2014-10-14T00:00:00",
          "2014-10-18T00:00:00",
          "2014-10-19T00:00:00",
          "2014-10-21T00:00:00",
          "2014-10-22T00:00:00",
          "2014-10-25T00:00:00",
          "2014-10-27T00:00:00",
          "2014-10-29T00:00:00",
          "2014-10-31T00:00:00",
          "2014-11-02T00:00:00",
          "2014-11-03T00:00:00",
          "2014-11-04T00:00:00",
          "2014-11-08T00:00:00",
          "2014-11-09T00:00:00",
          "2014-11-10T00:00:00",
          "2014-11-11T00:00:00",
          "2014-11-15T00:00:00",
          "2014-11-16T00:00:00",
          "2014-11-18T00:00:00",
          "2014-11-22T00:00:00",
          "2014-11-23T00:00:00",
          "2014-11-28T00:00:00",
          "2014-11-30T00:00:00",
          "2014-12-03T00:00:00",
          "2014-12-07T00:00:00",
          "2014-12-09T00:00:00",
          "2014-12-14T00:00:00",
          "2014-12-18T00:00:00",
          "2014-12-20T00:00:00",
          "2014-12-21T00:00:00",
          "2014-12-24T00:00:00",
          "2014-12-27T00:00:00",
          "2014-12-28T00:00:00",
          "2014-12-31T00:00:00",
          "2015-01-02T00:00:00",
          "2015-01-03T00:00:00",
          "2015-01-04T00:00:00",
          "2015-01-05T00:00:00"
         ],
         "xaxis": "x2",
         "y": [
          29,
          59,
          60,
          62,
          77,
          75,
          72,
          86,
          90,
          95,
          107,
          115,
          121,
          108,
          135,
          129,
          136,
          11,
          0,
          141,
          0,
          143,
          160,
          166,
          168,
          169,
          168,
          182,
          185,
          202,
          211,
          226,
          227,
          6,
          257,
          288,
          49,
          295,
          25,
          304,
          34,
          467,
          481,
          518,
          539,
          603,
          613,
          632,
          660,
          672,
          729,
          826,
          887,
          932,
          961,
          1013,
          1069,
          1145,
          1229,
          1350,
          1427,
          1552,
          1848,
          2105,
          2226,
          1112,
          1165,
          2622,
          1578,
          632,
          593,
          2917,
          3091,
          3338,
          3439,
          2210,
          1655,
          3094,
          940,
          2458,
          2036,
          2484,
          2071,
          2705,
          2172,
          926,
          1283,
          2413,
          2507,
          2538,
          2697,
          2121,
          1054,
          3906,
          2836,
          2321,
          2812,
          2365,
          2964,
          2456,
          5459,
          3016,
          2673,
          3145,
          2925,
          3177,
          3211,
          3290,
          3610,
          3376,
          7526,
          4189,
          6068,
          4429,
          7889,
          8037,
          3496,
          8178,
          4724,
          4763
         ],
         "yaxis": "y2"
        }
       ],
       "layout": {
        "annotations": [
         {
          "font": {},
          "showarrow": false,
          "text": "Overall=Cases",
          "x": 0.245,
          "xanchor": "center",
          "xref": "paper",
          "y": 1,
          "yanchor": "bottom",
          "yref": "paper"
         },
         {
          "font": {},
          "showarrow": false,
          "text": "Overall=Deaths",
          "x": 0.755,
          "xanchor": "center",
          "xref": "paper",
          "y": 1,
          "yanchor": "bottom",
          "yref": "paper"
         }
        ],
        "legend": {
         "title": {
          "text": "Overall"
         },
         "tracegroupgap": 0
        },
        "template": {
         "data": {
          "bar": [
           {
            "error_x": {
             "color": "#2a3f5f"
            },
            "error_y": {
             "color": "#2a3f5f"
            },
            "marker": {
             "line": {
              "color": "#E5ECF6",
              "width": 0.5
             }
            },
            "type": "bar"
           }
          ],
          "barpolar": [
           {
            "marker": {
             "line": {
              "color": "#E5ECF6",
              "width": 0.5
             }
            },
            "type": "barpolar"
           }
          ],
          "carpet": [
           {
            "aaxis": {
             "endlinecolor": "#2a3f5f",
             "gridcolor": "white",
             "linecolor": "white",
             "minorgridcolor": "white",
             "startlinecolor": "#2a3f5f"
            },
            "baxis": {
             "endlinecolor": "#2a3f5f",
             "gridcolor": "white",
             "linecolor": "white",
             "minorgridcolor": "white",
             "startlinecolor": "#2a3f5f"
            },
            "type": "carpet"
           }
          ],
          "choropleth": [
           {
            "colorbar": {
             "outlinewidth": 0,
             "ticks": ""
            },
            "type": "choropleth"
           }
          ],
          "contour": [
           {
            "colorbar": {
             "outlinewidth": 0,
             "ticks": ""
            },
            "colorscale": [
             [
              0,
              "#0d0887"
             ],
             [
              0.1111111111111111,
              "#46039f"
             ],
             [
              0.2222222222222222,
              "#7201a8"
             ],
             [
              0.3333333333333333,
              "#9c179e"
             ],
             [
              0.4444444444444444,
              "#bd3786"
             ],
             [
              0.5555555555555556,
              "#d8576b"
             ],
             [
              0.6666666666666666,
              "#ed7953"
             ],
             [
              0.7777777777777778,
              "#fb9f3a"
             ],
             [
              0.8888888888888888,
              "#fdca26"
             ],
             [
              1,
              "#f0f921"
             ]
            ],
            "type": "contour"
           }
          ],
          "contourcarpet": [
           {
            "colorbar": {
             "outlinewidth": 0,
             "ticks": ""
            },
            "type": "contourcarpet"
           }
          ],
          "heatmap": [
           {
            "colorbar": {
             "outlinewidth": 0,
             "ticks": ""
            },
            "colorscale": [
             [
              0,
              "#0d0887"
             ],
             [
              0.1111111111111111,
              "#46039f"
             ],
             [
              0.2222222222222222,
              "#7201a8"
             ],
             [
              0.3333333333333333,
              "#9c179e"
             ],
             [
              0.4444444444444444,
              "#bd3786"
             ],
             [
              0.5555555555555556,
              "#d8576b"
             ],
             [
              0.6666666666666666,
              "#ed7953"
             ],
             [
              0.7777777777777778,
              "#fb9f3a"
             ],
             [
              0.8888888888888888,
              "#fdca26"
             ],
             [
              1,
              "#f0f921"
             ]
            ],
            "type": "heatmap"
           }
          ],
          "heatmapgl": [
           {
            "colorbar": {
             "outlinewidth": 0,
             "ticks": ""
            },
            "colorscale": [
             [
              0,
              "#0d0887"
             ],
             [
              0.1111111111111111,
              "#46039f"
             ],
             [
              0.2222222222222222,
              "#7201a8"
             ],
             [
              0.3333333333333333,
              "#9c179e"
             ],
             [
              0.4444444444444444,
              "#bd3786"
             ],
             [
              0.5555555555555556,
              "#d8576b"
             ],
             [
              0.6666666666666666,
              "#ed7953"
             ],
             [
              0.7777777777777778,
              "#fb9f3a"
             ],
             [
              0.8888888888888888,
              "#fdca26"
             ],
             [
              1,
              "#f0f921"
             ]
            ],
            "type": "heatmapgl"
           }
          ],
          "histogram": [
           {
            "marker": {
             "colorbar": {
              "outlinewidth": 0,
              "ticks": ""
             }
            },
            "type": "histogram"
           }
          ],
          "histogram2d": [
           {
            "colorbar": {
             "outlinewidth": 0,
             "ticks": ""
            },
            "colorscale": [
             [
              0,
              "#0d0887"
             ],
             [
              0.1111111111111111,
              "#46039f"
             ],
             [
              0.2222222222222222,
              "#7201a8"
             ],
             [
              0.3333333333333333,
              "#9c179e"
             ],
             [
              0.4444444444444444,
              "#bd3786"
             ],
             [
              0.5555555555555556,
              "#d8576b"
             ],
             [
              0.6666666666666666,
              "#ed7953"
             ],
             [
              0.7777777777777778,
              "#fb9f3a"
             ],
             [
              0.8888888888888888,
              "#fdca26"
             ],
             [
              1,
              "#f0f921"
             ]
            ],
            "type": "histogram2d"
           }
          ],
          "histogram2dcontour": [
           {
            "colorbar": {
             "outlinewidth": 0,
             "ticks": ""
            },
            "colorscale": [
             [
              0,
              "#0d0887"
             ],
             [
              0.1111111111111111,
              "#46039f"
             ],
             [
              0.2222222222222222,
              "#7201a8"
             ],
             [
              0.3333333333333333,
              "#9c179e"
             ],
             [
              0.4444444444444444,
              "#bd3786"
             ],
             [
              0.5555555555555556,
              "#d8576b"
             ],
             [
              0.6666666666666666,
              "#ed7953"
             ],
             [
              0.7777777777777778,
              "#fb9f3a"
             ],
             [
              0.8888888888888888,
              "#fdca26"
             ],
             [
              1,
              "#f0f921"
             ]
            ],
            "type": "histogram2dcontour"
           }
          ],
          "mesh3d": [
           {
            "colorbar": {
             "outlinewidth": 0,
             "ticks": ""
            },
            "type": "mesh3d"
           }
          ],
          "parcoords": [
           {
            "line": {
             "colorbar": {
              "outlinewidth": 0,
              "ticks": ""
             }
            },
            "type": "parcoords"
           }
          ],
          "pie": [
           {
            "automargin": true,
            "type": "pie"
           }
          ],
          "scatter": [
           {
            "marker": {
             "colorbar": {
              "outlinewidth": 0,
              "ticks": ""
             }
            },
            "type": "scatter"
           }
          ],
          "scatter3d": [
           {
            "line": {
             "colorbar": {
              "outlinewidth": 0,
              "ticks": ""
             }
            },
            "marker": {
             "colorbar": {
              "outlinewidth": 0,
              "ticks": ""
             }
            },
            "type": "scatter3d"
           }
          ],
          "scattercarpet": [
           {
            "marker": {
             "colorbar": {
              "outlinewidth": 0,
              "ticks": ""
             }
            },
            "type": "scattercarpet"
           }
          ],
          "scattergeo": [
           {
            "marker": {
             "colorbar": {
              "outlinewidth": 0,
              "ticks": ""
             }
            },
            "type": "scattergeo"
           }
          ],
          "scattergl": [
           {
            "marker": {
             "colorbar": {
              "outlinewidth": 0,
              "ticks": ""
             }
            },
            "type": "scattergl"
           }
          ],
          "scattermapbox": [
           {
            "marker": {
             "colorbar": {
              "outlinewidth": 0,
              "ticks": ""
             }
            },
            "type": "scattermapbox"
           }
          ],
          "scatterpolar": [
           {
            "marker": {
             "colorbar": {
              "outlinewidth": 0,
              "ticks": ""
             }
            },
            "type": "scatterpolar"
           }
          ],
          "scatterpolargl": [
           {
            "marker": {
             "colorbar": {
              "outlinewidth": 0,
              "ticks": ""
             }
            },
            "type": "scatterpolargl"
           }
          ],
          "scatterternary": [
           {
            "marker": {
             "colorbar": {
              "outlinewidth": 0,
              "ticks": ""
             }
            },
            "type": "scatterternary"
           }
          ],
          "surface": [
           {
            "colorbar": {
             "outlinewidth": 0,
             "ticks": ""
            },
            "colorscale": [
             [
              0,
              "#0d0887"
             ],
             [
              0.1111111111111111,
              "#46039f"
             ],
             [
              0.2222222222222222,
              "#7201a8"
             ],
             [
              0.3333333333333333,
              "#9c179e"
             ],
             [
              0.4444444444444444,
              "#bd3786"
             ],
             [
              0.5555555555555556,
              "#d8576b"
             ],
             [
              0.6666666666666666,
              "#ed7953"
             ],
             [
              0.7777777777777778,
              "#fb9f3a"
             ],
             [
              0.8888888888888888,
              "#fdca26"
             ],
             [
              1,
              "#f0f921"
             ]
            ],
            "type": "surface"
           }
          ],
          "table": [
           {
            "cells": {
             "fill": {
              "color": "#EBF0F8"
             },
             "line": {
              "color": "white"
             }
            },
            "header": {
             "fill": {
              "color": "#C8D4E3"
             },
             "line": {
              "color": "white"
             }
            },
            "type": "table"
           }
          ]
         },
         "layout": {
          "annotationdefaults": {
           "arrowcolor": "#2a3f5f",
           "arrowhead": 0,
           "arrowwidth": 1
          },
          "coloraxis": {
           "colorbar": {
            "outlinewidth": 0,
            "ticks": ""
           }
          },
          "colorscale": {
           "diverging": [
            [
             0,
             "#8e0152"
            ],
            [
             0.1,
             "#c51b7d"
            ],
            [
             0.2,
             "#de77ae"
            ],
            [
             0.3,
             "#f1b6da"
            ],
            [
             0.4,
             "#fde0ef"
            ],
            [
             0.5,
             "#f7f7f7"
            ],
            [
             0.6,
             "#e6f5d0"
            ],
            [
             0.7,
             "#b8e186"
            ],
            [
             0.8,
             "#7fbc41"
            ],
            [
             0.9,
             "#4d9221"
            ],
            [
             1,
             "#276419"
            ]
           ],
           "sequential": [
            [
             0,
             "#0d0887"
            ],
            [
             0.1111111111111111,
             "#46039f"
            ],
            [
             0.2222222222222222,
             "#7201a8"
            ],
            [
             0.3333333333333333,
             "#9c179e"
            ],
            [
             0.4444444444444444,
             "#bd3786"
            ],
            [
             0.5555555555555556,
             "#d8576b"
            ],
            [
             0.6666666666666666,
             "#ed7953"
            ],
            [
             0.7777777777777778,
             "#fb9f3a"
            ],
            [
             0.8888888888888888,
             "#fdca26"
            ],
            [
             1,
             "#f0f921"
            ]
           ],
           "sequentialminus": [
            [
             0,
             "#0d0887"
            ],
            [
             0.1111111111111111,
             "#46039f"
            ],
            [
             0.2222222222222222,
             "#7201a8"
            ],
            [
             0.3333333333333333,
             "#9c179e"
            ],
            [
             0.4444444444444444,
             "#bd3786"
            ],
            [
             0.5555555555555556,
             "#d8576b"
            ],
            [
             0.6666666666666666,
             "#ed7953"
            ],
            [
             0.7777777777777778,
             "#fb9f3a"
            ],
            [
             0.8888888888888888,
             "#fdca26"
            ],
            [
             1,
             "#f0f921"
            ]
           ]
          },
          "colorway": [
           "#636efa",
           "#EF553B",
           "#00cc96",
           "#ab63fa",
           "#FFA15A",
           "#19d3f3",
           "#FF6692",
           "#B6E880",
           "#FF97FF",
           "#FECB52"
          ],
          "font": {
           "color": "#2a3f5f"
          },
          "geo": {
           "bgcolor": "white",
           "lakecolor": "white",
           "landcolor": "#E5ECF6",
           "showlakes": true,
           "showland": true,
           "subunitcolor": "white"
          },
          "hoverlabel": {
           "align": "left"
          },
          "hovermode": "closest",
          "mapbox": {
           "style": "light"
          },
          "paper_bgcolor": "white",
          "plot_bgcolor": "#E5ECF6",
          "polar": {
           "angularaxis": {
            "gridcolor": "white",
            "linecolor": "white",
            "ticks": ""
           },
           "bgcolor": "#E5ECF6",
           "radialaxis": {
            "gridcolor": "white",
            "linecolor": "white",
            "ticks": ""
           }
          },
          "scene": {
           "xaxis": {
            "backgroundcolor": "#E5ECF6",
            "gridcolor": "white",
            "gridwidth": 2,
            "linecolor": "white",
            "showbackground": true,
            "ticks": "",
            "zerolinecolor": "white"
           },
           "yaxis": {
            "backgroundcolor": "#E5ECF6",
            "gridcolor": "white",
            "gridwidth": 2,
            "linecolor": "white",
            "showbackground": true,
            "ticks": "",
            "zerolinecolor": "white"
           },
           "zaxis": {
            "backgroundcolor": "#E5ECF6",
            "gridcolor": "white",
            "gridwidth": 2,
            "linecolor": "white",
            "showbackground": true,
            "ticks": "",
            "zerolinecolor": "white"
           }
          },
          "shapedefaults": {
           "line": {
            "color": "#2a3f5f"
           }
          },
          "ternary": {
           "aaxis": {
            "gridcolor": "white",
            "linecolor": "white",
            "ticks": ""
           },
           "baxis": {
            "gridcolor": "white",
            "linecolor": "white",
            "ticks": ""
           },
           "bgcolor": "#E5ECF6",
           "caxis": {
            "gridcolor": "white",
            "linecolor": "white",
            "ticks": ""
           }
          },
          "title": {
           "x": 0.05
          },
          "xaxis": {
           "automargin": true,
           "gridcolor": "white",
           "linecolor": "white",
           "ticks": "",
           "title": {
            "standoff": 15
           },
           "zerolinecolor": "white",
           "zerolinewidth": 2
          },
          "yaxis": {
           "automargin": true,
           "gridcolor": "white",
           "linecolor": "white",
           "ticks": "",
           "title": {
            "standoff": 15
           },
           "zerolinecolor": "white",
           "zerolinewidth": 2
          }
         }
        },
        "title": {
         "text": "Number of cases"
        },
        "xaxis": {
         "anchor": "y",
         "domain": [
          0,
          0.49
         ],
         "title": {
          "text": "Date"
         }
        },
        "xaxis2": {
         "anchor": "y2",
         "domain": [
          0.51,
          1
         ],
         "matches": "x",
         "title": {
          "text": "Date"
         }
        },
        "yaxis": {
         "anchor": "x",
         "domain": [
          0,
          1
         ],
         "title": {
          "text": "Total"
         }
        },
        "yaxis2": {
         "anchor": "x2",
         "domain": [
          0,
          1
         ],
         "matches": "y",
         "showticklabels": false
        }
       }
      },
      "text/html": [
       "<div>\n",
       "        \n",
       "        \n",
       "            <div id=\"879cfe4d-0e16-4d65-a56c-d84bd557a717\" class=\"plotly-graph-div\" style=\"height:525px; width:100%;\"></div>\n",
       "            <script type=\"text/javascript\">\n",
       "                require([\"plotly\"], function(Plotly) {\n",
       "                    window.PLOTLYENV=window.PLOTLYENV || {};\n",
       "                    \n",
       "                if (document.getElementById(\"879cfe4d-0e16-4d65-a56c-d84bd557a717\")) {\n",
       "                    Plotly.newPlot(\n",
       "                        '879cfe4d-0e16-4d65-a56c-d84bd557a717',\n",
       "                        [{\"hovertemplate\": \"Overall=Cases<br>Date=%{x}<br>Total=%{y}<extra></extra>\", \"legendgroup\": \"Cases\", \"line\": {\"color\": \"#636efa\", \"dash\": \"solid\"}, \"mode\": \"lines\", \"name\": \"Cases\", \"orientation\": \"v\", \"showlegend\": true, \"type\": \"scatter\", \"x\": [\"2014-03-22T00:00:00\", \"2014-03-24T00:00:00\", \"2014-03-25T00:00:00\", \"2014-03-26T00:00:00\", \"2014-03-27T00:00:00\", \"2014-03-28T00:00:00\", \"2014-03-29T00:00:00\", \"2014-03-31T00:00:00\", \"2014-04-01T00:00:00\", \"2014-04-04T00:00:00\", \"2014-04-07T00:00:00\", \"2014-04-09T00:00:00\", \"2014-04-11T00:00:00\", \"2014-04-14T00:00:00\", \"2014-04-16T00:00:00\", \"2014-04-17T00:00:00\", \"2014-04-20T00:00:00\", \"2014-04-21T00:00:00\", \"2014-04-22T00:00:00\", \"2014-04-23T00:00:00\", \"2014-04-24T00:00:00\", \"2014-04-26T00:00:00\", \"2014-05-01T00:00:00\", \"2014-05-03T00:00:00\", \"2014-05-05T00:00:00\", \"2014-05-07T00:00:00\", \"2014-05-10T00:00:00\", \"2014-05-12T00:00:00\", \"2014-05-23T00:00:00\", \"2014-05-27T00:00:00\", \"2014-05-28T00:00:00\", \"2014-06-01T00:00:00\", \"2014-06-03T00:00:00\", \"2014-06-05T00:00:00\", \"2014-06-10T00:00:00\", \"2014-06-16T00:00:00\", \"2014-06-17T00:00:00\", \"2014-06-18T00:00:00\", \"2014-06-19T00:00:00\", \"2014-06-20T00:00:00\", \"2014-06-22T00:00:00\", \"2014-06-30T00:00:00\", \"2014-07-02T00:00:00\", \"2014-07-06T00:00:00\", \"2014-07-08T00:00:00\", \"2014-07-12T00:00:00\", \"2014-07-14T00:00:00\", \"2014-07-17T00:00:00\", \"2014-07-20T00:00:00\", \"2014-07-23T00:00:00\", \"2014-07-27T00:00:00\", \"2014-07-30T00:00:00\", \"2014-08-01T00:00:00\", \"2014-08-04T00:00:00\", \"2014-08-06T00:00:00\", \"2014-08-09T00:00:00\", \"2014-08-11T00:00:00\", \"2014-08-13T00:00:00\", \"2014-08-16T00:00:00\", \"2014-08-18T00:00:00\", \"2014-08-20T00:00:00\", \"2014-08-26T00:00:00\", \"2014-08-31T00:00:00\", \"2014-09-05T00:00:00\", \"2014-09-07T00:00:00\", \"2014-09-10T00:00:00\", \"2014-09-13T00:00:00\", \"2014-09-14T00:00:00\", \"2014-09-17T00:00:00\", \"2014-09-19T00:00:00\", \"2014-09-20T00:00:00\", \"2014-09-21T00:00:00\", \"2014-09-23T00:00:00\", \"2014-09-28T00:00:00\", \"2014-10-01T00:00:00\", \"2014-10-04T00:00:00\", \"2014-10-05T00:00:00\", \"2014-10-07T00:00:00\", \"2014-10-08T00:00:00\", \"2014-10-11T00:00:00\", \"2014-10-12T00:00:00\", \"2014-10-13T00:00:00\", \"2014-10-14T00:00:00\", \"2014-10-18T00:00:00\", \"2014-10-19T00:00:00\", \"2014-10-21T00:00:00\", \"2014-10-22T00:00:00\", \"2014-10-25T00:00:00\", \"2014-10-27T00:00:00\", \"2014-10-29T00:00:00\", \"2014-10-31T00:00:00\", \"2014-11-02T00:00:00\", \"2014-11-03T00:00:00\", \"2014-11-04T00:00:00\", \"2014-11-08T00:00:00\", \"2014-11-09T00:00:00\", \"2014-11-10T00:00:00\", \"2014-11-11T00:00:00\", \"2014-11-15T00:00:00\", \"2014-11-16T00:00:00\", \"2014-11-18T00:00:00\", \"2014-11-22T00:00:00\", \"2014-11-23T00:00:00\", \"2014-11-28T00:00:00\", \"2014-11-30T00:00:00\", \"2014-12-03T00:00:00\", \"2014-12-07T00:00:00\", \"2014-12-09T00:00:00\", \"2014-12-14T00:00:00\", \"2014-12-18T00:00:00\", \"2014-12-20T00:00:00\", \"2014-12-21T00:00:00\", \"2014-12-24T00:00:00\", \"2014-12-27T00:00:00\", \"2014-12-28T00:00:00\", \"2014-12-31T00:00:00\", \"2015-01-02T00:00:00\", \"2015-01-03T00:00:00\", \"2015-01-04T00:00:00\", \"2015-01-05T00:00:00\"], \"xaxis\": \"x\", \"y\": [49.0, 86.0, 86.0, 86.0, 117.0, 117.0, 119.0, 132.0, 137.0, 163.0, 174.0, 185.0, 187.0, 168.0, 224.0, 203.0, 208.0, 34.0, 0.0, 218.0, 0.0, 224.0, 239.0, 244.0, 248.0, 249.0, 245.0, 260.0, 270.0, 309.0, 354.0, 420.0, 357.0, 81.0, 453.0, 431.0, 97.0, 526.0, 41.0, 548.0, 51.0, 759.0, 779.0, 844.0, 888.0, 964.0, 982.0, 1048.0, 1093.0, 1201.0, 1323.0, 1440.0, 1603.0, 1711.0, 1779.0, 1848.0, 1975.0, 2127.0, 2240.0, 2473.0, 2615.0, 3069.0, 3706.0, 3966.0, 4390.0, 2398.0, 2578.0, 5325.0, 3022.0, 1008.0, 1813.0, 6263.0, 6574.0, 7178.0, 7492.0, 3924.0, 4109.0, 5426.0, 2973.0, 4249.0, 4748.0, 4262.0, 4954.0, 4665.0, 5271.0, 1553.0, 3902.0, 6535.0, 7168.0, 7032.0, 6525.0, 6517.0, 1760.0, 11508.0, 6822.0, 7273.0, 6878.0, 7535.0, 7069.0, 8075.0, 15351.0, 7168.0, 8766.0, 7635.0, 9509.0, 7719.0, 10222.0, 7797.0, 10772.0, 7830.0, 19372.0, 11601.0, 17180.0, 12104.0, 20170.0, 20478.0, 8157.0, 20657.0, 12555.0, 12806.0], \"yaxis\": \"y\"}, {\"hovertemplate\": \"Overall=Deaths<br>Date=%{x}<br>Total=%{y}<extra></extra>\", \"legendgroup\": \"Deaths\", \"line\": {\"color\": \"#EF553B\", \"dash\": \"solid\"}, \"mode\": \"lines\", \"name\": \"Deaths\", \"orientation\": \"v\", \"showlegend\": true, \"type\": \"scatter\", \"x\": [\"2014-03-22T00:00:00\", \"2014-03-24T00:00:00\", \"2014-03-25T00:00:00\", \"2014-03-26T00:00:00\", \"2014-03-27T00:00:00\", \"2014-03-28T00:00:00\", \"2014-03-29T00:00:00\", \"2014-03-31T00:00:00\", \"2014-04-01T00:00:00\", \"2014-04-04T00:00:00\", \"2014-04-07T00:00:00\", \"2014-04-09T00:00:00\", \"2014-04-11T00:00:00\", \"2014-04-14T00:00:00\", \"2014-04-16T00:00:00\", \"2014-04-17T00:00:00\", \"2014-04-20T00:00:00\", \"2014-04-21T00:00:00\", \"2014-04-22T00:00:00\", \"2014-04-23T00:00:00\", \"2014-04-24T00:00:00\", \"2014-04-26T00:00:00\", \"2014-05-01T00:00:00\", \"2014-05-03T00:00:00\", \"2014-05-05T00:00:00\", \"2014-05-07T00:00:00\", \"2014-05-10T00:00:00\", \"2014-05-12T00:00:00\", \"2014-05-23T00:00:00\", \"2014-05-27T00:00:00\", \"2014-05-28T00:00:00\", \"2014-06-01T00:00:00\", \"2014-06-03T00:00:00\", \"2014-06-05T00:00:00\", \"2014-06-10T00:00:00\", \"2014-06-16T00:00:00\", \"2014-06-17T00:00:00\", \"2014-06-18T00:00:00\", \"2014-06-19T00:00:00\", \"2014-06-20T00:00:00\", \"2014-06-22T00:00:00\", \"2014-06-30T00:00:00\", \"2014-07-02T00:00:00\", \"2014-07-06T00:00:00\", \"2014-07-08T00:00:00\", \"2014-07-12T00:00:00\", \"2014-07-14T00:00:00\", \"2014-07-17T00:00:00\", \"2014-07-20T00:00:00\", \"2014-07-23T00:00:00\", \"2014-07-27T00:00:00\", \"2014-07-30T00:00:00\", \"2014-08-01T00:00:00\", \"2014-08-04T00:00:00\", \"2014-08-06T00:00:00\", \"2014-08-09T00:00:00\", \"2014-08-11T00:00:00\", \"2014-08-13T00:00:00\", \"2014-08-16T00:00:00\", \"2014-08-18T00:00:00\", \"2014-08-20T00:00:00\", \"2014-08-26T00:00:00\", \"2014-08-31T00:00:00\", \"2014-09-05T00:00:00\", \"2014-09-07T00:00:00\", \"2014-09-10T00:00:00\", \"2014-09-13T00:00:00\", \"2014-09-14T00:00:00\", \"2014-09-17T00:00:00\", \"2014-09-19T00:00:00\", \"2014-09-20T00:00:00\", \"2014-09-21T00:00:00\", \"2014-09-23T00:00:00\", \"2014-09-28T00:00:00\", \"2014-10-01T00:00:00\", \"2014-10-04T00:00:00\", \"2014-10-05T00:00:00\", \"2014-10-07T00:00:00\", \"2014-10-08T00:00:00\", \"2014-10-11T00:00:00\", \"2014-10-12T00:00:00\", \"2014-10-13T00:00:00\", \"2014-10-14T00:00:00\", \"2014-10-18T00:00:00\", \"2014-10-19T00:00:00\", \"2014-10-21T00:00:00\", \"2014-10-22T00:00:00\", \"2014-10-25T00:00:00\", \"2014-10-27T00:00:00\", \"2014-10-29T00:00:00\", \"2014-10-31T00:00:00\", \"2014-11-02T00:00:00\", \"2014-11-03T00:00:00\", \"2014-11-04T00:00:00\", \"2014-11-08T00:00:00\", \"2014-11-09T00:00:00\", \"2014-11-10T00:00:00\", \"2014-11-11T00:00:00\", \"2014-11-15T00:00:00\", \"2014-11-16T00:00:00\", \"2014-11-18T00:00:00\", \"2014-11-22T00:00:00\", \"2014-11-23T00:00:00\", \"2014-11-28T00:00:00\", \"2014-11-30T00:00:00\", \"2014-12-03T00:00:00\", \"2014-12-07T00:00:00\", \"2014-12-09T00:00:00\", \"2014-12-14T00:00:00\", \"2014-12-18T00:00:00\", \"2014-12-20T00:00:00\", \"2014-12-21T00:00:00\", \"2014-12-24T00:00:00\", \"2014-12-27T00:00:00\", \"2014-12-28T00:00:00\", \"2014-12-31T00:00:00\", \"2015-01-02T00:00:00\", \"2015-01-03T00:00:00\", \"2015-01-04T00:00:00\", \"2015-01-05T00:00:00\"], \"xaxis\": \"x2\", \"y\": [29.0, 59.0, 60.0, 62.0, 77.0, 75.0, 72.0, 86.0, 90.0, 95.0, 107.0, 115.0, 121.0, 108.0, 135.0, 129.0, 136.0, 11.0, 0.0, 141.0, 0.0, 143.0, 160.0, 166.0, 168.0, 169.0, 168.0, 182.0, 185.0, 202.0, 211.0, 226.0, 227.0, 6.0, 257.0, 288.0, 49.0, 295.0, 25.0, 304.0, 34.0, 467.0, 481.0, 518.0, 539.0, 603.0, 613.0, 632.0, 660.0, 672.0, 729.0, 826.0, 887.0, 932.0, 961.0, 1013.0, 1069.0, 1145.0, 1229.0, 1350.0, 1427.0, 1552.0, 1848.0, 2105.0, 2226.0, 1112.0, 1165.0, 2622.0, 1578.0, 632.0, 593.0, 2917.0, 3091.0, 3338.0, 3439.0, 2210.0, 1655.0, 3094.0, 940.0, 2458.0, 2036.0, 2484.0, 2071.0, 2705.0, 2172.0, 926.0, 1283.0, 2413.0, 2507.0, 2538.0, 2697.0, 2121.0, 1054.0, 3906.0, 2836.0, 2321.0, 2812.0, 2365.0, 2964.0, 2456.0, 5459.0, 3016.0, 2673.0, 3145.0, 2925.0, 3177.0, 3211.0, 3290.0, 3610.0, 3376.0, 7526.0, 4189.0, 6068.0, 4429.0, 7889.0, 8037.0, 3496.0, 8178.0, 4724.0, 4763.0], \"yaxis\": \"y2\"}],\n",
       "                        {\"annotations\": [{\"font\": {}, \"showarrow\": false, \"text\": \"Overall=Cases\", \"x\": 0.245, \"xanchor\": \"center\", \"xref\": \"paper\", \"y\": 1.0, \"yanchor\": \"bottom\", \"yref\": \"paper\"}, {\"font\": {}, \"showarrow\": false, \"text\": \"Overall=Deaths\", \"x\": 0.755, \"xanchor\": \"center\", \"xref\": \"paper\", \"y\": 1.0, \"yanchor\": \"bottom\", \"yref\": \"paper\"}], \"legend\": {\"title\": {\"text\": \"Overall\"}, \"tracegroupgap\": 0}, \"template\": {\"data\": {\"bar\": [{\"error_x\": {\"color\": \"#2a3f5f\"}, \"error_y\": {\"color\": \"#2a3f5f\"}, \"marker\": {\"line\": {\"color\": \"#E5ECF6\", \"width\": 0.5}}, \"type\": \"bar\"}], \"barpolar\": [{\"marker\": {\"line\": {\"color\": \"#E5ECF6\", \"width\": 0.5}}, \"type\": \"barpolar\"}], \"carpet\": [{\"aaxis\": {\"endlinecolor\": \"#2a3f5f\", \"gridcolor\": \"white\", \"linecolor\": \"white\", \"minorgridcolor\": \"white\", \"startlinecolor\": \"#2a3f5f\"}, \"baxis\": {\"endlinecolor\": \"#2a3f5f\", \"gridcolor\": \"white\", \"linecolor\": \"white\", \"minorgridcolor\": \"white\", \"startlinecolor\": \"#2a3f5f\"}, \"type\": \"carpet\"}], \"choropleth\": [{\"colorbar\": {\"outlinewidth\": 0, \"ticks\": \"\"}, \"type\": \"choropleth\"}], \"contour\": [{\"colorbar\": {\"outlinewidth\": 0, \"ticks\": \"\"}, \"colorscale\": [[0.0, \"#0d0887\"], [0.1111111111111111, \"#46039f\"], [0.2222222222222222, \"#7201a8\"], [0.3333333333333333, \"#9c179e\"], [0.4444444444444444, \"#bd3786\"], [0.5555555555555556, \"#d8576b\"], [0.6666666666666666, \"#ed7953\"], [0.7777777777777778, \"#fb9f3a\"], [0.8888888888888888, \"#fdca26\"], [1.0, \"#f0f921\"]], \"type\": \"contour\"}], \"contourcarpet\": [{\"colorbar\": {\"outlinewidth\": 0, \"ticks\": \"\"}, \"type\": \"contourcarpet\"}], \"heatmap\": [{\"colorbar\": {\"outlinewidth\": 0, \"ticks\": \"\"}, \"colorscale\": [[0.0, \"#0d0887\"], [0.1111111111111111, \"#46039f\"], [0.2222222222222222, \"#7201a8\"], [0.3333333333333333, \"#9c179e\"], [0.4444444444444444, \"#bd3786\"], [0.5555555555555556, \"#d8576b\"], [0.6666666666666666, \"#ed7953\"], [0.7777777777777778, \"#fb9f3a\"], [0.8888888888888888, \"#fdca26\"], [1.0, \"#f0f921\"]], \"type\": \"heatmap\"}], \"heatmapgl\": [{\"colorbar\": {\"outlinewidth\": 0, \"ticks\": \"\"}, \"colorscale\": [[0.0, \"#0d0887\"], [0.1111111111111111, \"#46039f\"], [0.2222222222222222, \"#7201a8\"], [0.3333333333333333, \"#9c179e\"], [0.4444444444444444, \"#bd3786\"], [0.5555555555555556, \"#d8576b\"], [0.6666666666666666, \"#ed7953\"], [0.7777777777777778, \"#fb9f3a\"], [0.8888888888888888, \"#fdca26\"], [1.0, \"#f0f921\"]], \"type\": \"heatmapgl\"}], \"histogram\": [{\"marker\": {\"colorbar\": {\"outlinewidth\": 0, \"ticks\": \"\"}}, \"type\": \"histogram\"}], \"histogram2d\": [{\"colorbar\": {\"outlinewidth\": 0, \"ticks\": \"\"}, \"colorscale\": [[0.0, \"#0d0887\"], [0.1111111111111111, \"#46039f\"], [0.2222222222222222, \"#7201a8\"], [0.3333333333333333, \"#9c179e\"], [0.4444444444444444, \"#bd3786\"], [0.5555555555555556, \"#d8576b\"], [0.6666666666666666, \"#ed7953\"], [0.7777777777777778, \"#fb9f3a\"], [0.8888888888888888, \"#fdca26\"], [1.0, \"#f0f921\"]], \"type\": \"histogram2d\"}], \"histogram2dcontour\": [{\"colorbar\": {\"outlinewidth\": 0, \"ticks\": \"\"}, \"colorscale\": [[0.0, \"#0d0887\"], [0.1111111111111111, \"#46039f\"], [0.2222222222222222, \"#7201a8\"], [0.3333333333333333, \"#9c179e\"], [0.4444444444444444, \"#bd3786\"], [0.5555555555555556, \"#d8576b\"], [0.6666666666666666, \"#ed7953\"], [0.7777777777777778, \"#fb9f3a\"], [0.8888888888888888, \"#fdca26\"], [1.0, \"#f0f921\"]], \"type\": \"histogram2dcontour\"}], \"mesh3d\": [{\"colorbar\": {\"outlinewidth\": 0, \"ticks\": \"\"}, \"type\": \"mesh3d\"}], \"parcoords\": [{\"line\": {\"colorbar\": {\"outlinewidth\": 0, \"ticks\": \"\"}}, \"type\": \"parcoords\"}], \"pie\": [{\"automargin\": true, \"type\": \"pie\"}], \"scatter\": [{\"marker\": {\"colorbar\": {\"outlinewidth\": 0, \"ticks\": \"\"}}, \"type\": \"scatter\"}], \"scatter3d\": [{\"line\": {\"colorbar\": {\"outlinewidth\": 0, \"ticks\": \"\"}}, \"marker\": {\"colorbar\": {\"outlinewidth\": 0, \"ticks\": \"\"}}, \"type\": \"scatter3d\"}], \"scattercarpet\": [{\"marker\": {\"colorbar\": {\"outlinewidth\": 0, \"ticks\": \"\"}}, \"type\": \"scattercarpet\"}], \"scattergeo\": [{\"marker\": {\"colorbar\": {\"outlinewidth\": 0, \"ticks\": \"\"}}, \"type\": \"scattergeo\"}], \"scattergl\": [{\"marker\": {\"colorbar\": {\"outlinewidth\": 0, \"ticks\": \"\"}}, \"type\": \"scattergl\"}], \"scattermapbox\": [{\"marker\": {\"colorbar\": {\"outlinewidth\": 0, \"ticks\": \"\"}}, \"type\": \"scattermapbox\"}], \"scatterpolar\": [{\"marker\": {\"colorbar\": {\"outlinewidth\": 0, \"ticks\": \"\"}}, \"type\": \"scatterpolar\"}], \"scatterpolargl\": [{\"marker\": {\"colorbar\": {\"outlinewidth\": 0, \"ticks\": \"\"}}, \"type\": \"scatterpolargl\"}], \"scatterternary\": [{\"marker\": {\"colorbar\": {\"outlinewidth\": 0, \"ticks\": \"\"}}, \"type\": \"scatterternary\"}], \"surface\": [{\"colorbar\": {\"outlinewidth\": 0, \"ticks\": \"\"}, \"colorscale\": [[0.0, \"#0d0887\"], [0.1111111111111111, \"#46039f\"], [0.2222222222222222, \"#7201a8\"], [0.3333333333333333, \"#9c179e\"], [0.4444444444444444, \"#bd3786\"], [0.5555555555555556, \"#d8576b\"], [0.6666666666666666, \"#ed7953\"], [0.7777777777777778, \"#fb9f3a\"], [0.8888888888888888, \"#fdca26\"], [1.0, \"#f0f921\"]], \"type\": \"surface\"}], \"table\": [{\"cells\": {\"fill\": {\"color\": \"#EBF0F8\"}, \"line\": {\"color\": \"white\"}}, \"header\": {\"fill\": {\"color\": \"#C8D4E3\"}, \"line\": {\"color\": \"white\"}}, \"type\": \"table\"}]}, \"layout\": {\"annotationdefaults\": {\"arrowcolor\": \"#2a3f5f\", \"arrowhead\": 0, \"arrowwidth\": 1}, \"coloraxis\": {\"colorbar\": {\"outlinewidth\": 0, \"ticks\": \"\"}}, \"colorscale\": {\"diverging\": [[0, \"#8e0152\"], [0.1, \"#c51b7d\"], [0.2, \"#de77ae\"], [0.3, \"#f1b6da\"], [0.4, \"#fde0ef\"], [0.5, \"#f7f7f7\"], [0.6, \"#e6f5d0\"], [0.7, \"#b8e186\"], [0.8, \"#7fbc41\"], [0.9, \"#4d9221\"], [1, \"#276419\"]], \"sequential\": [[0.0, \"#0d0887\"], [0.1111111111111111, \"#46039f\"], [0.2222222222222222, \"#7201a8\"], [0.3333333333333333, \"#9c179e\"], [0.4444444444444444, \"#bd3786\"], [0.5555555555555556, \"#d8576b\"], [0.6666666666666666, \"#ed7953\"], [0.7777777777777778, \"#fb9f3a\"], [0.8888888888888888, \"#fdca26\"], [1.0, \"#f0f921\"]], \"sequentialminus\": [[0.0, \"#0d0887\"], [0.1111111111111111, \"#46039f\"], [0.2222222222222222, \"#7201a8\"], [0.3333333333333333, \"#9c179e\"], [0.4444444444444444, \"#bd3786\"], [0.5555555555555556, \"#d8576b\"], [0.6666666666666666, \"#ed7953\"], [0.7777777777777778, \"#fb9f3a\"], [0.8888888888888888, \"#fdca26\"], [1.0, \"#f0f921\"]]}, \"colorway\": [\"#636efa\", \"#EF553B\", \"#00cc96\", \"#ab63fa\", \"#FFA15A\", \"#19d3f3\", \"#FF6692\", \"#B6E880\", \"#FF97FF\", \"#FECB52\"], \"font\": {\"color\": \"#2a3f5f\"}, \"geo\": {\"bgcolor\": \"white\", \"lakecolor\": \"white\", \"landcolor\": \"#E5ECF6\", \"showlakes\": true, \"showland\": true, \"subunitcolor\": \"white\"}, \"hoverlabel\": {\"align\": \"left\"}, \"hovermode\": \"closest\", \"mapbox\": {\"style\": \"light\"}, \"paper_bgcolor\": \"white\", \"plot_bgcolor\": \"#E5ECF6\", \"polar\": {\"angularaxis\": {\"gridcolor\": \"white\", \"linecolor\": \"white\", \"ticks\": \"\"}, \"bgcolor\": \"#E5ECF6\", \"radialaxis\": {\"gridcolor\": \"white\", \"linecolor\": \"white\", \"ticks\": \"\"}}, \"scene\": {\"xaxis\": {\"backgroundcolor\": \"#E5ECF6\", \"gridcolor\": \"white\", \"gridwidth\": 2, \"linecolor\": \"white\", \"showbackground\": true, \"ticks\": \"\", \"zerolinecolor\": \"white\"}, \"yaxis\": {\"backgroundcolor\": \"#E5ECF6\", \"gridcolor\": \"white\", \"gridwidth\": 2, \"linecolor\": \"white\", \"showbackground\": true, \"ticks\": \"\", \"zerolinecolor\": \"white\"}, \"zaxis\": {\"backgroundcolor\": \"#E5ECF6\", \"gridcolor\": \"white\", \"gridwidth\": 2, \"linecolor\": \"white\", \"showbackground\": true, \"ticks\": \"\", \"zerolinecolor\": \"white\"}}, \"shapedefaults\": {\"line\": {\"color\": \"#2a3f5f\"}}, \"ternary\": {\"aaxis\": {\"gridcolor\": \"white\", \"linecolor\": \"white\", \"ticks\": \"\"}, \"baxis\": {\"gridcolor\": \"white\", \"linecolor\": \"white\", \"ticks\": \"\"}, \"bgcolor\": \"#E5ECF6\", \"caxis\": {\"gridcolor\": \"white\", \"linecolor\": \"white\", \"ticks\": \"\"}}, \"title\": {\"x\": 0.05}, \"xaxis\": {\"automargin\": true, \"gridcolor\": \"white\", \"linecolor\": \"white\", \"ticks\": \"\", \"title\": {\"standoff\": 15}, \"zerolinecolor\": \"white\", \"zerolinewidth\": 2}, \"yaxis\": {\"automargin\": true, \"gridcolor\": \"white\", \"linecolor\": \"white\", \"ticks\": \"\", \"title\": {\"standoff\": 15}, \"zerolinecolor\": \"white\", \"zerolinewidth\": 2}}}, \"title\": {\"text\": \"Number of cases\"}, \"xaxis\": {\"anchor\": \"y\", \"domain\": [0.0, 0.49], \"title\": {\"text\": \"Date\"}}, \"xaxis2\": {\"anchor\": \"y2\", \"domain\": [0.51, 1.0], \"matches\": \"x\", \"title\": {\"text\": \"Date\"}}, \"yaxis\": {\"anchor\": \"x\", \"domain\": [0.0, 1.0], \"title\": {\"text\": \"Total\"}}, \"yaxis2\": {\"anchor\": \"x2\", \"domain\": [0.0, 1.0], \"matches\": \"y\", \"showticklabels\": false}},\n",
       "                        {\"responsive\": true}\n",
       "                    ).then(function(){\n",
       "                            \n",
       "var gd = document.getElementById('879cfe4d-0e16-4d65-a56c-d84bd557a717');\n",
       "var x = new MutationObserver(function (mutations, observer) {{\n",
       "        var display = window.getComputedStyle(gd).display;\n",
       "        if (!display || display === 'none') {{\n",
       "            console.log([gd, 'removed!']);\n",
       "            Plotly.purge(gd);\n",
       "            observer.disconnect();\n",
       "        }}\n",
       "}});\n",
       "\n",
       "// Listen for the removal of the full notebook cells\n",
       "var notebookContainer = gd.closest('#notebook-container');\n",
       "if (notebookContainer) {{\n",
       "    x.observe(notebookContainer, {childList: true});\n",
       "}}\n",
       "\n",
       "// Listen for the clearing of the current output cell\n",
       "var outputEl = gd.closest('.output');\n",
       "if (outputEl) {{\n",
       "    x.observe(outputEl, {childList: true});\n",
       "}}\n",
       "\n",
       "                        })\n",
       "                };\n",
       "                });\n",
       "            </script>\n",
       "        </div>"
      ]
     },
     "metadata": {},
     "output_type": "display_data"
    }
   ],
   "source": [
    "overall = df.groupby('Date')[['Cases', 'Deaths']].sum()\n",
    "overall = overall.reset_index()\n",
    "overall = overall.melt(id_vars='Date', value_vars=['Cases', 'Deaths'],\n",
    "                var_name='Overall', value_name='Total')\n",
    "fig = px.line(overall, x=\"Date\", y=\"Total\", color='Overall', facet_col=\"Overall\",title='Number of cases')\n",
    "fig.show()"
   ]
  },
  {
   "cell_type": "markdown",
   "metadata": {
    "ExecuteTime": {
     "end_time": "2020-06-04T18:38:27.098908Z",
     "start_time": "2020-06-04T18:38:27.083317Z"
    }
   },
   "source": [
    "#### Total number of Cases and Deaths (countrywise)"
   ]
  },
  {
   "cell_type": "code",
   "execution_count": 141,
   "metadata": {
    "ExecuteTime": {
     "end_time": "2020-06-04T20:00:58.886392Z",
     "start_time": "2020-06-04T20:00:58.867109Z"
    }
   },
   "outputs": [],
   "source": [
    "da=df.groupby([df['Date'].dt.strftime('%Y-%m-01'), 'Country'])[['Cases', 'Deaths']].sum()\n",
    "da=da.reset_index()"
   ]
  },
  {
   "cell_type": "code",
   "execution_count": 142,
   "metadata": {
    "ExecuteTime": {
     "end_time": "2020-06-04T20:01:00.868246Z",
     "start_time": "2020-06-04T20:01:00.761995Z"
    }
   },
   "outputs": [
    {
     "data": {
      "application/vnd.plotly.v1+json": {
       "config": {
        "plotlyServerURL": "https://plot.ly"
       },
       "data": [
        {
         "alignmentgroup": "True",
         "hovertemplate": "Country=Guinea<br>Date=%{x}<br>Cases=%{y}<extra></extra>",
         "legendgroup": "Guinea",
         "marker": {
          "color": "#636efa"
         },
         "name": "Guinea",
         "offsetgroup": "Guinea",
         "orientation": "v",
         "showlegend": true,
         "textposition": "auto",
         "type": "bar",
         "x": [
          "2014-03-01",
          "2014-04-01",
          "2014-05-01",
          "2014-06-01",
          "2014-07-01",
          "2014-08-01",
          "2014-09-01",
          "2014-10-01",
          "2014-11-01",
          "2014-12-01",
          "2015-01-01"
         ],
         "xaxis": "x",
         "y": [
          756,
          1956,
          2239,
          2614,
          4230,
          6158,
          8711,
          13504,
          15604,
          18007,
          8320
         ],
         "yaxis": "y"
        },
        {
         "alignmentgroup": "True",
         "hovertemplate": "Country=Liberia<br>Date=%{x}<br>Cases=%{y}<extra></extra>",
         "legendgroup": "Liberia",
         "marker": {
          "color": "#EF553B"
         },
         "name": "Liberia",
         "offsetgroup": "Liberia",
         "orientation": "v",
         "showlegend": true,
         "textposition": "auto",
         "type": "bar",
         "x": [
          "2014-03-01",
          "2014-04-01",
          "2014-05-01",
          "2014-06-01",
          "2014-07-01",
          "2014-08-01",
          "2014-09-01",
          "2014-10-01",
          "2014-11-01",
          "2014-12-01",
          "2015-01-01"
         ],
         "xaxis": "x",
         "y": [
          26,
          159,
          113,
          271,
          2123,
          9557,
          20118,
          38070,
          49273,
          55318,
          16323
         ],
         "yaxis": "y"
        },
        {
         "alignmentgroup": "True",
         "hovertemplate": "Country=SierraLeone<br>Date=%{x}<br>Cases=%{y}<extra></extra>",
         "legendgroup": "SierraLeone",
         "marker": {
          "color": "#00cc96"
         },
         "name": "SierraLeone",
         "offsetgroup": "SierraLeone",
         "orientation": "v",
         "showlegend": true,
         "textposition": "auto",
         "type": "bar",
         "x": [
          "2014-03-01",
          "2014-04-01",
          "2014-05-01",
          "2014-06-01",
          "2014-07-01",
          "2014-08-01",
          "2014-09-01",
          "2014-10-01",
          "2014-11-01",
          "2014-12-01",
          "2015-01-01"
         ],
         "xaxis": "x",
         "y": [
          10,
          10,
          66,
          879,
          4205,
          9284,
          15534,
          33013,
          46749,
          71887,
          29532
         ],
         "yaxis": "y"
        },
        {
         "alignmentgroup": "True",
         "hovertemplate": "Country=Nigeria<br>Date=%{x}<br>Cases=%{y}<extra></extra>",
         "legendgroup": "Nigeria",
         "marker": {
          "color": "#ab63fa"
         },
         "name": "Nigeria",
         "offsetgroup": "Nigeria",
         "orientation": "v",
         "showlegend": true,
         "textposition": "auto",
         "type": "bar",
         "x": [
          "2014-07-01",
          "2014-08-01",
          "2014-09-01",
          "2014-10-01",
          "2014-11-01",
          "2014-12-01"
         ],
         "xaxis": "x",
         "y": [
          4,
          147,
          145,
          160,
          160,
          20
         ],
         "yaxis": "y"
        },
        {
         "alignmentgroup": "True",
         "hovertemplate": "Country=Senegal<br>Date=%{x}<br>Cases=%{y}<extra></extra>",
         "legendgroup": "Senegal",
         "marker": {
          "color": "#FFA15A"
         },
         "name": "Senegal",
         "offsetgroup": "Senegal",
         "orientation": "v",
         "showlegend": true,
         "textposition": "auto",
         "type": "bar",
         "x": [
          "2014-09-01",
          "2014-10-01",
          "2014-11-01",
          "2014-12-01"
         ],
         "xaxis": "x",
         "y": [
          7,
          8,
          8,
          1
         ],
         "yaxis": "y"
        },
        {
         "alignmentgroup": "True",
         "hovertemplate": "Country=Mali<br>Date=%{x}<br>Cases=%{y}<extra></extra>",
         "legendgroup": "Mali",
         "marker": {
          "color": "#19d3f3"
         },
         "name": "Mali",
         "offsetgroup": "Mali",
         "orientation": "v",
         "showlegend": true,
         "textposition": "auto",
         "type": "bar",
         "x": [
          "2014-10-01",
          "2014-11-01",
          "2014-12-01"
         ],
         "xaxis": "x",
         "y": [
          3,
          32,
          7
         ],
         "yaxis": "y"
        },
        {
         "alignmentgroup": "True",
         "hovertemplate": "Country=Spain<br>Date=%{x}<br>Cases=%{y}<extra></extra>",
         "legendgroup": "Spain",
         "marker": {
          "color": "#FF6692"
         },
         "name": "Spain",
         "offsetgroup": "Spain",
         "orientation": "v",
         "showlegend": true,
         "textposition": "auto",
         "type": "bar",
         "x": [
          "2014-10-01",
          "2014-11-01",
          "2014-12-01"
         ],
         "xaxis": "x",
         "y": [
          7,
          8,
          1
         ],
         "yaxis": "y"
        },
        {
         "alignmentgroup": "True",
         "hovertemplate": "Country=UnitedStates<br>Date=%{x}<br>Cases=%{y}<extra></extra>",
         "legendgroup": "UnitedStates",
         "marker": {
          "color": "#B6E880"
         },
         "name": "UnitedStates",
         "offsetgroup": "UnitedStates",
         "orientation": "v",
         "showlegend": true,
         "textposition": "auto",
         "type": "bar",
         "x": [
          "2014-10-01",
          "2014-11-01",
          "2014-12-01"
         ],
         "xaxis": "x",
         "y": [
          23,
          32,
          4
         ],
         "yaxis": "y"
        }
       ],
       "layout": {
        "barmode": "relative",
        "legend": {
         "title": {
          "text": "Country"
         },
         "tracegroupgap": 0
        },
        "template": {
         "data": {
          "bar": [
           {
            "error_x": {
             "color": "#2a3f5f"
            },
            "error_y": {
             "color": "#2a3f5f"
            },
            "marker": {
             "line": {
              "color": "#E5ECF6",
              "width": 0.5
             }
            },
            "type": "bar"
           }
          ],
          "barpolar": [
           {
            "marker": {
             "line": {
              "color": "#E5ECF6",
              "width": 0.5
             }
            },
            "type": "barpolar"
           }
          ],
          "carpet": [
           {
            "aaxis": {
             "endlinecolor": "#2a3f5f",
             "gridcolor": "white",
             "linecolor": "white",
             "minorgridcolor": "white",
             "startlinecolor": "#2a3f5f"
            },
            "baxis": {
             "endlinecolor": "#2a3f5f",
             "gridcolor": "white",
             "linecolor": "white",
             "minorgridcolor": "white",
             "startlinecolor": "#2a3f5f"
            },
            "type": "carpet"
           }
          ],
          "choropleth": [
           {
            "colorbar": {
             "outlinewidth": 0,
             "ticks": ""
            },
            "type": "choropleth"
           }
          ],
          "contour": [
           {
            "colorbar": {
             "outlinewidth": 0,
             "ticks": ""
            },
            "colorscale": [
             [
              0,
              "#0d0887"
             ],
             [
              0.1111111111111111,
              "#46039f"
             ],
             [
              0.2222222222222222,
              "#7201a8"
             ],
             [
              0.3333333333333333,
              "#9c179e"
             ],
             [
              0.4444444444444444,
              "#bd3786"
             ],
             [
              0.5555555555555556,
              "#d8576b"
             ],
             [
              0.6666666666666666,
              "#ed7953"
             ],
             [
              0.7777777777777778,
              "#fb9f3a"
             ],
             [
              0.8888888888888888,
              "#fdca26"
             ],
             [
              1,
              "#f0f921"
             ]
            ],
            "type": "contour"
           }
          ],
          "contourcarpet": [
           {
            "colorbar": {
             "outlinewidth": 0,
             "ticks": ""
            },
            "type": "contourcarpet"
           }
          ],
          "heatmap": [
           {
            "colorbar": {
             "outlinewidth": 0,
             "ticks": ""
            },
            "colorscale": [
             [
              0,
              "#0d0887"
             ],
             [
              0.1111111111111111,
              "#46039f"
             ],
             [
              0.2222222222222222,
              "#7201a8"
             ],
             [
              0.3333333333333333,
              "#9c179e"
             ],
             [
              0.4444444444444444,
              "#bd3786"
             ],
             [
              0.5555555555555556,
              "#d8576b"
             ],
             [
              0.6666666666666666,
              "#ed7953"
             ],
             [
              0.7777777777777778,
              "#fb9f3a"
             ],
             [
              0.8888888888888888,
              "#fdca26"
             ],
             [
              1,
              "#f0f921"
             ]
            ],
            "type": "heatmap"
           }
          ],
          "heatmapgl": [
           {
            "colorbar": {
             "outlinewidth": 0,
             "ticks": ""
            },
            "colorscale": [
             [
              0,
              "#0d0887"
             ],
             [
              0.1111111111111111,
              "#46039f"
             ],
             [
              0.2222222222222222,
              "#7201a8"
             ],
             [
              0.3333333333333333,
              "#9c179e"
             ],
             [
              0.4444444444444444,
              "#bd3786"
             ],
             [
              0.5555555555555556,
              "#d8576b"
             ],
             [
              0.6666666666666666,
              "#ed7953"
             ],
             [
              0.7777777777777778,
              "#fb9f3a"
             ],
             [
              0.8888888888888888,
              "#fdca26"
             ],
             [
              1,
              "#f0f921"
             ]
            ],
            "type": "heatmapgl"
           }
          ],
          "histogram": [
           {
            "marker": {
             "colorbar": {
              "outlinewidth": 0,
              "ticks": ""
             }
            },
            "type": "histogram"
           }
          ],
          "histogram2d": [
           {
            "colorbar": {
             "outlinewidth": 0,
             "ticks": ""
            },
            "colorscale": [
             [
              0,
              "#0d0887"
             ],
             [
              0.1111111111111111,
              "#46039f"
             ],
             [
              0.2222222222222222,
              "#7201a8"
             ],
             [
              0.3333333333333333,
              "#9c179e"
             ],
             [
              0.4444444444444444,
              "#bd3786"
             ],
             [
              0.5555555555555556,
              "#d8576b"
             ],
             [
              0.6666666666666666,
              "#ed7953"
             ],
             [
              0.7777777777777778,
              "#fb9f3a"
             ],
             [
              0.8888888888888888,
              "#fdca26"
             ],
             [
              1,
              "#f0f921"
             ]
            ],
            "type": "histogram2d"
           }
          ],
          "histogram2dcontour": [
           {
            "colorbar": {
             "outlinewidth": 0,
             "ticks": ""
            },
            "colorscale": [
             [
              0,
              "#0d0887"
             ],
             [
              0.1111111111111111,
              "#46039f"
             ],
             [
              0.2222222222222222,
              "#7201a8"
             ],
             [
              0.3333333333333333,
              "#9c179e"
             ],
             [
              0.4444444444444444,
              "#bd3786"
             ],
             [
              0.5555555555555556,
              "#d8576b"
             ],
             [
              0.6666666666666666,
              "#ed7953"
             ],
             [
              0.7777777777777778,
              "#fb9f3a"
             ],
             [
              0.8888888888888888,
              "#fdca26"
             ],
             [
              1,
              "#f0f921"
             ]
            ],
            "type": "histogram2dcontour"
           }
          ],
          "mesh3d": [
           {
            "colorbar": {
             "outlinewidth": 0,
             "ticks": ""
            },
            "type": "mesh3d"
           }
          ],
          "parcoords": [
           {
            "line": {
             "colorbar": {
              "outlinewidth": 0,
              "ticks": ""
             }
            },
            "type": "parcoords"
           }
          ],
          "pie": [
           {
            "automargin": true,
            "type": "pie"
           }
          ],
          "scatter": [
           {
            "marker": {
             "colorbar": {
              "outlinewidth": 0,
              "ticks": ""
             }
            },
            "type": "scatter"
           }
          ],
          "scatter3d": [
           {
            "line": {
             "colorbar": {
              "outlinewidth": 0,
              "ticks": ""
             }
            },
            "marker": {
             "colorbar": {
              "outlinewidth": 0,
              "ticks": ""
             }
            },
            "type": "scatter3d"
           }
          ],
          "scattercarpet": [
           {
            "marker": {
             "colorbar": {
              "outlinewidth": 0,
              "ticks": ""
             }
            },
            "type": "scattercarpet"
           }
          ],
          "scattergeo": [
           {
            "marker": {
             "colorbar": {
              "outlinewidth": 0,
              "ticks": ""
             }
            },
            "type": "scattergeo"
           }
          ],
          "scattergl": [
           {
            "marker": {
             "colorbar": {
              "outlinewidth": 0,
              "ticks": ""
             }
            },
            "type": "scattergl"
           }
          ],
          "scattermapbox": [
           {
            "marker": {
             "colorbar": {
              "outlinewidth": 0,
              "ticks": ""
             }
            },
            "type": "scattermapbox"
           }
          ],
          "scatterpolar": [
           {
            "marker": {
             "colorbar": {
              "outlinewidth": 0,
              "ticks": ""
             }
            },
            "type": "scatterpolar"
           }
          ],
          "scatterpolargl": [
           {
            "marker": {
             "colorbar": {
              "outlinewidth": 0,
              "ticks": ""
             }
            },
            "type": "scatterpolargl"
           }
          ],
          "scatterternary": [
           {
            "marker": {
             "colorbar": {
              "outlinewidth": 0,
              "ticks": ""
             }
            },
            "type": "scatterternary"
           }
          ],
          "surface": [
           {
            "colorbar": {
             "outlinewidth": 0,
             "ticks": ""
            },
            "colorscale": [
             [
              0,
              "#0d0887"
             ],
             [
              0.1111111111111111,
              "#46039f"
             ],
             [
              0.2222222222222222,
              "#7201a8"
             ],
             [
              0.3333333333333333,
              "#9c179e"
             ],
             [
              0.4444444444444444,
              "#bd3786"
             ],
             [
              0.5555555555555556,
              "#d8576b"
             ],
             [
              0.6666666666666666,
              "#ed7953"
             ],
             [
              0.7777777777777778,
              "#fb9f3a"
             ],
             [
              0.8888888888888888,
              "#fdca26"
             ],
             [
              1,
              "#f0f921"
             ]
            ],
            "type": "surface"
           }
          ],
          "table": [
           {
            "cells": {
             "fill": {
              "color": "#EBF0F8"
             },
             "line": {
              "color": "white"
             }
            },
            "header": {
             "fill": {
              "color": "#C8D4E3"
             },
             "line": {
              "color": "white"
             }
            },
            "type": "table"
           }
          ]
         },
         "layout": {
          "annotationdefaults": {
           "arrowcolor": "#2a3f5f",
           "arrowhead": 0,
           "arrowwidth": 1
          },
          "coloraxis": {
           "colorbar": {
            "outlinewidth": 0,
            "ticks": ""
           }
          },
          "colorscale": {
           "diverging": [
            [
             0,
             "#8e0152"
            ],
            [
             0.1,
             "#c51b7d"
            ],
            [
             0.2,
             "#de77ae"
            ],
            [
             0.3,
             "#f1b6da"
            ],
            [
             0.4,
             "#fde0ef"
            ],
            [
             0.5,
             "#f7f7f7"
            ],
            [
             0.6,
             "#e6f5d0"
            ],
            [
             0.7,
             "#b8e186"
            ],
            [
             0.8,
             "#7fbc41"
            ],
            [
             0.9,
             "#4d9221"
            ],
            [
             1,
             "#276419"
            ]
           ],
           "sequential": [
            [
             0,
             "#0d0887"
            ],
            [
             0.1111111111111111,
             "#46039f"
            ],
            [
             0.2222222222222222,
             "#7201a8"
            ],
            [
             0.3333333333333333,
             "#9c179e"
            ],
            [
             0.4444444444444444,
             "#bd3786"
            ],
            [
             0.5555555555555556,
             "#d8576b"
            ],
            [
             0.6666666666666666,
             "#ed7953"
            ],
            [
             0.7777777777777778,
             "#fb9f3a"
            ],
            [
             0.8888888888888888,
             "#fdca26"
            ],
            [
             1,
             "#f0f921"
            ]
           ],
           "sequentialminus": [
            [
             0,
             "#0d0887"
            ],
            [
             0.1111111111111111,
             "#46039f"
            ],
            [
             0.2222222222222222,
             "#7201a8"
            ],
            [
             0.3333333333333333,
             "#9c179e"
            ],
            [
             0.4444444444444444,
             "#bd3786"
            ],
            [
             0.5555555555555556,
             "#d8576b"
            ],
            [
             0.6666666666666666,
             "#ed7953"
            ],
            [
             0.7777777777777778,
             "#fb9f3a"
            ],
            [
             0.8888888888888888,
             "#fdca26"
            ],
            [
             1,
             "#f0f921"
            ]
           ]
          },
          "colorway": [
           "#636efa",
           "#EF553B",
           "#00cc96",
           "#ab63fa",
           "#FFA15A",
           "#19d3f3",
           "#FF6692",
           "#B6E880",
           "#FF97FF",
           "#FECB52"
          ],
          "font": {
           "color": "#2a3f5f"
          },
          "geo": {
           "bgcolor": "white",
           "lakecolor": "white",
           "landcolor": "#E5ECF6",
           "showlakes": true,
           "showland": true,
           "subunitcolor": "white"
          },
          "hoverlabel": {
           "align": "left"
          },
          "hovermode": "closest",
          "mapbox": {
           "style": "light"
          },
          "paper_bgcolor": "white",
          "plot_bgcolor": "#E5ECF6",
          "polar": {
           "angularaxis": {
            "gridcolor": "white",
            "linecolor": "white",
            "ticks": ""
           },
           "bgcolor": "#E5ECF6",
           "radialaxis": {
            "gridcolor": "white",
            "linecolor": "white",
            "ticks": ""
           }
          },
          "scene": {
           "xaxis": {
            "backgroundcolor": "#E5ECF6",
            "gridcolor": "white",
            "gridwidth": 2,
            "linecolor": "white",
            "showbackground": true,
            "ticks": "",
            "zerolinecolor": "white"
           },
           "yaxis": {
            "backgroundcolor": "#E5ECF6",
            "gridcolor": "white",
            "gridwidth": 2,
            "linecolor": "white",
            "showbackground": true,
            "ticks": "",
            "zerolinecolor": "white"
           },
           "zaxis": {
            "backgroundcolor": "#E5ECF6",
            "gridcolor": "white",
            "gridwidth": 2,
            "linecolor": "white",
            "showbackground": true,
            "ticks": "",
            "zerolinecolor": "white"
           }
          },
          "shapedefaults": {
           "line": {
            "color": "#2a3f5f"
           }
          },
          "ternary": {
           "aaxis": {
            "gridcolor": "white",
            "linecolor": "white",
            "ticks": ""
           },
           "baxis": {
            "gridcolor": "white",
            "linecolor": "white",
            "ticks": ""
           },
           "bgcolor": "#E5ECF6",
           "caxis": {
            "gridcolor": "white",
            "linecolor": "white",
            "ticks": ""
           }
          },
          "title": {
           "x": 0.05
          },
          "xaxis": {
           "automargin": true,
           "gridcolor": "white",
           "linecolor": "white",
           "ticks": "",
           "title": {
            "standoff": 15
           },
           "zerolinecolor": "white",
           "zerolinewidth": 2
          },
          "yaxis": {
           "automargin": true,
           "gridcolor": "white",
           "linecolor": "white",
           "ticks": "",
           "title": {
            "standoff": 15
           },
           "zerolinecolor": "white",
           "zerolinewidth": 2
          }
         }
        },
        "title": {
         "text": "Numner of  Cases"
        },
        "xaxis": {
         "anchor": "y",
         "domain": [
          0,
          1
         ],
         "title": {
          "text": "Date"
         }
        },
        "yaxis": {
         "anchor": "x",
         "domain": [
          0,
          1
         ],
         "title": {
          "text": "Cases"
         }
        }
       }
      },
      "text/html": [
       "<div>\n",
       "        \n",
       "        \n",
       "            <div id=\"91e3cc2e-904d-4b0d-a139-ab8a040ae2c7\" class=\"plotly-graph-div\" style=\"height:525px; width:100%;\"></div>\n",
       "            <script type=\"text/javascript\">\n",
       "                require([\"plotly\"], function(Plotly) {\n",
       "                    window.PLOTLYENV=window.PLOTLYENV || {};\n",
       "                    \n",
       "                if (document.getElementById(\"91e3cc2e-904d-4b0d-a139-ab8a040ae2c7\")) {\n",
       "                    Plotly.newPlot(\n",
       "                        '91e3cc2e-904d-4b0d-a139-ab8a040ae2c7',\n",
       "                        [{\"alignmentgroup\": \"True\", \"hovertemplate\": \"Country=Guinea<br>Date=%{x}<br>Cases=%{y}<extra></extra>\", \"legendgroup\": \"Guinea\", \"marker\": {\"color\": \"#636efa\"}, \"name\": \"Guinea\", \"offsetgroup\": \"Guinea\", \"orientation\": \"v\", \"showlegend\": true, \"textposition\": \"auto\", \"type\": \"bar\", \"x\": [\"2014-03-01\", \"2014-04-01\", \"2014-05-01\", \"2014-06-01\", \"2014-07-01\", \"2014-08-01\", \"2014-09-01\", \"2014-10-01\", \"2014-11-01\", \"2014-12-01\", \"2015-01-01\"], \"xaxis\": \"x\", \"y\": [756.0, 1956.0, 2239.0, 2614.0, 4230.0, 6158.0, 8711.0, 13504.0, 15604.0, 18007.0, 8320.0], \"yaxis\": \"y\"}, {\"alignmentgroup\": \"True\", \"hovertemplate\": \"Country=Liberia<br>Date=%{x}<br>Cases=%{y}<extra></extra>\", \"legendgroup\": \"Liberia\", \"marker\": {\"color\": \"#EF553B\"}, \"name\": \"Liberia\", \"offsetgroup\": \"Liberia\", \"orientation\": \"v\", \"showlegend\": true, \"textposition\": \"auto\", \"type\": \"bar\", \"x\": [\"2014-03-01\", \"2014-04-01\", \"2014-05-01\", \"2014-06-01\", \"2014-07-01\", \"2014-08-01\", \"2014-09-01\", \"2014-10-01\", \"2014-11-01\", \"2014-12-01\", \"2015-01-01\"], \"xaxis\": \"x\", \"y\": [26.0, 159.0, 113.0, 271.0, 2123.0, 9557.0, 20118.0, 38070.0, 49273.0, 55318.0, 16323.0], \"yaxis\": \"y\"}, {\"alignmentgroup\": \"True\", \"hovertemplate\": \"Country=SierraLeone<br>Date=%{x}<br>Cases=%{y}<extra></extra>\", \"legendgroup\": \"SierraLeone\", \"marker\": {\"color\": \"#00cc96\"}, \"name\": \"SierraLeone\", \"offsetgroup\": \"SierraLeone\", \"orientation\": \"v\", \"showlegend\": true, \"textposition\": \"auto\", \"type\": \"bar\", \"x\": [\"2014-03-01\", \"2014-04-01\", \"2014-05-01\", \"2014-06-01\", \"2014-07-01\", \"2014-08-01\", \"2014-09-01\", \"2014-10-01\", \"2014-11-01\", \"2014-12-01\", \"2015-01-01\"], \"xaxis\": \"x\", \"y\": [10.0, 10.0, 66.0, 879.0, 4205.0, 9284.0, 15534.0, 33013.0, 46749.0, 71887.0, 29532.0], \"yaxis\": \"y\"}, {\"alignmentgroup\": \"True\", \"hovertemplate\": \"Country=Nigeria<br>Date=%{x}<br>Cases=%{y}<extra></extra>\", \"legendgroup\": \"Nigeria\", \"marker\": {\"color\": \"#ab63fa\"}, \"name\": \"Nigeria\", \"offsetgroup\": \"Nigeria\", \"orientation\": \"v\", \"showlegend\": true, \"textposition\": \"auto\", \"type\": \"bar\", \"x\": [\"2014-07-01\", \"2014-08-01\", \"2014-09-01\", \"2014-10-01\", \"2014-11-01\", \"2014-12-01\"], \"xaxis\": \"x\", \"y\": [4.0, 147.0, 145.0, 160.0, 160.0, 20.0], \"yaxis\": \"y\"}, {\"alignmentgroup\": \"True\", \"hovertemplate\": \"Country=Senegal<br>Date=%{x}<br>Cases=%{y}<extra></extra>\", \"legendgroup\": \"Senegal\", \"marker\": {\"color\": \"#FFA15A\"}, \"name\": \"Senegal\", \"offsetgroup\": \"Senegal\", \"orientation\": \"v\", \"showlegend\": true, \"textposition\": \"auto\", \"type\": \"bar\", \"x\": [\"2014-09-01\", \"2014-10-01\", \"2014-11-01\", \"2014-12-01\"], \"xaxis\": \"x\", \"y\": [7.0, 8.0, 8.0, 1.0], \"yaxis\": \"y\"}, {\"alignmentgroup\": \"True\", \"hovertemplate\": \"Country=Mali<br>Date=%{x}<br>Cases=%{y}<extra></extra>\", \"legendgroup\": \"Mali\", \"marker\": {\"color\": \"#19d3f3\"}, \"name\": \"Mali\", \"offsetgroup\": \"Mali\", \"orientation\": \"v\", \"showlegend\": true, \"textposition\": \"auto\", \"type\": \"bar\", \"x\": [\"2014-10-01\", \"2014-11-01\", \"2014-12-01\"], \"xaxis\": \"x\", \"y\": [3.0, 32.0, 7.0], \"yaxis\": \"y\"}, {\"alignmentgroup\": \"True\", \"hovertemplate\": \"Country=Spain<br>Date=%{x}<br>Cases=%{y}<extra></extra>\", \"legendgroup\": \"Spain\", \"marker\": {\"color\": \"#FF6692\"}, \"name\": \"Spain\", \"offsetgroup\": \"Spain\", \"orientation\": \"v\", \"showlegend\": true, \"textposition\": \"auto\", \"type\": \"bar\", \"x\": [\"2014-10-01\", \"2014-11-01\", \"2014-12-01\"], \"xaxis\": \"x\", \"y\": [7.0, 8.0, 1.0], \"yaxis\": \"y\"}, {\"alignmentgroup\": \"True\", \"hovertemplate\": \"Country=UnitedStates<br>Date=%{x}<br>Cases=%{y}<extra></extra>\", \"legendgroup\": \"UnitedStates\", \"marker\": {\"color\": \"#B6E880\"}, \"name\": \"UnitedStates\", \"offsetgroup\": \"UnitedStates\", \"orientation\": \"v\", \"showlegend\": true, \"textposition\": \"auto\", \"type\": \"bar\", \"x\": [\"2014-10-01\", \"2014-11-01\", \"2014-12-01\"], \"xaxis\": \"x\", \"y\": [23.0, 32.0, 4.0], \"yaxis\": \"y\"}],\n",
       "                        {\"barmode\": \"relative\", \"legend\": {\"title\": {\"text\": \"Country\"}, \"tracegroupgap\": 0}, \"template\": {\"data\": {\"bar\": [{\"error_x\": {\"color\": \"#2a3f5f\"}, \"error_y\": {\"color\": \"#2a3f5f\"}, \"marker\": {\"line\": {\"color\": \"#E5ECF6\", \"width\": 0.5}}, \"type\": \"bar\"}], \"barpolar\": [{\"marker\": {\"line\": {\"color\": \"#E5ECF6\", \"width\": 0.5}}, \"type\": \"barpolar\"}], \"carpet\": [{\"aaxis\": {\"endlinecolor\": \"#2a3f5f\", \"gridcolor\": \"white\", \"linecolor\": \"white\", \"minorgridcolor\": \"white\", \"startlinecolor\": \"#2a3f5f\"}, \"baxis\": {\"endlinecolor\": \"#2a3f5f\", \"gridcolor\": \"white\", \"linecolor\": \"white\", \"minorgridcolor\": \"white\", \"startlinecolor\": \"#2a3f5f\"}, \"type\": \"carpet\"}], \"choropleth\": [{\"colorbar\": {\"outlinewidth\": 0, \"ticks\": \"\"}, \"type\": \"choropleth\"}], \"contour\": [{\"colorbar\": {\"outlinewidth\": 0, \"ticks\": \"\"}, \"colorscale\": [[0.0, \"#0d0887\"], [0.1111111111111111, \"#46039f\"], [0.2222222222222222, \"#7201a8\"], [0.3333333333333333, \"#9c179e\"], [0.4444444444444444, \"#bd3786\"], [0.5555555555555556, \"#d8576b\"], [0.6666666666666666, \"#ed7953\"], [0.7777777777777778, \"#fb9f3a\"], [0.8888888888888888, \"#fdca26\"], [1.0, \"#f0f921\"]], \"type\": \"contour\"}], \"contourcarpet\": [{\"colorbar\": {\"outlinewidth\": 0, \"ticks\": \"\"}, \"type\": \"contourcarpet\"}], \"heatmap\": [{\"colorbar\": {\"outlinewidth\": 0, \"ticks\": \"\"}, \"colorscale\": [[0.0, \"#0d0887\"], [0.1111111111111111, \"#46039f\"], [0.2222222222222222, \"#7201a8\"], [0.3333333333333333, \"#9c179e\"], [0.4444444444444444, \"#bd3786\"], [0.5555555555555556, \"#d8576b\"], [0.6666666666666666, \"#ed7953\"], [0.7777777777777778, \"#fb9f3a\"], [0.8888888888888888, \"#fdca26\"], [1.0, \"#f0f921\"]], \"type\": \"heatmap\"}], \"heatmapgl\": [{\"colorbar\": {\"outlinewidth\": 0, \"ticks\": \"\"}, \"colorscale\": [[0.0, \"#0d0887\"], [0.1111111111111111, \"#46039f\"], [0.2222222222222222, \"#7201a8\"], [0.3333333333333333, \"#9c179e\"], [0.4444444444444444, \"#bd3786\"], [0.5555555555555556, \"#d8576b\"], [0.6666666666666666, \"#ed7953\"], [0.7777777777777778, \"#fb9f3a\"], [0.8888888888888888, \"#fdca26\"], [1.0, \"#f0f921\"]], \"type\": \"heatmapgl\"}], \"histogram\": [{\"marker\": {\"colorbar\": {\"outlinewidth\": 0, \"ticks\": \"\"}}, \"type\": \"histogram\"}], \"histogram2d\": [{\"colorbar\": {\"outlinewidth\": 0, \"ticks\": \"\"}, \"colorscale\": [[0.0, \"#0d0887\"], [0.1111111111111111, \"#46039f\"], [0.2222222222222222, \"#7201a8\"], [0.3333333333333333, \"#9c179e\"], [0.4444444444444444, \"#bd3786\"], [0.5555555555555556, \"#d8576b\"], [0.6666666666666666, \"#ed7953\"], [0.7777777777777778, \"#fb9f3a\"], [0.8888888888888888, \"#fdca26\"], [1.0, \"#f0f921\"]], \"type\": \"histogram2d\"}], \"histogram2dcontour\": [{\"colorbar\": {\"outlinewidth\": 0, \"ticks\": \"\"}, \"colorscale\": [[0.0, \"#0d0887\"], [0.1111111111111111, \"#46039f\"], [0.2222222222222222, \"#7201a8\"], [0.3333333333333333, \"#9c179e\"], [0.4444444444444444, \"#bd3786\"], [0.5555555555555556, \"#d8576b\"], [0.6666666666666666, \"#ed7953\"], [0.7777777777777778, \"#fb9f3a\"], [0.8888888888888888, \"#fdca26\"], [1.0, \"#f0f921\"]], \"type\": \"histogram2dcontour\"}], \"mesh3d\": [{\"colorbar\": {\"outlinewidth\": 0, \"ticks\": \"\"}, \"type\": \"mesh3d\"}], \"parcoords\": [{\"line\": {\"colorbar\": {\"outlinewidth\": 0, \"ticks\": \"\"}}, \"type\": \"parcoords\"}], \"pie\": [{\"automargin\": true, \"type\": \"pie\"}], \"scatter\": [{\"marker\": {\"colorbar\": {\"outlinewidth\": 0, \"ticks\": \"\"}}, \"type\": \"scatter\"}], \"scatter3d\": [{\"line\": {\"colorbar\": {\"outlinewidth\": 0, \"ticks\": \"\"}}, \"marker\": {\"colorbar\": {\"outlinewidth\": 0, \"ticks\": \"\"}}, \"type\": \"scatter3d\"}], \"scattercarpet\": [{\"marker\": {\"colorbar\": {\"outlinewidth\": 0, \"ticks\": \"\"}}, \"type\": \"scattercarpet\"}], \"scattergeo\": [{\"marker\": {\"colorbar\": {\"outlinewidth\": 0, \"ticks\": \"\"}}, \"type\": \"scattergeo\"}], \"scattergl\": [{\"marker\": {\"colorbar\": {\"outlinewidth\": 0, \"ticks\": \"\"}}, \"type\": \"scattergl\"}], \"scattermapbox\": [{\"marker\": {\"colorbar\": {\"outlinewidth\": 0, \"ticks\": \"\"}}, \"type\": \"scattermapbox\"}], \"scatterpolar\": [{\"marker\": {\"colorbar\": {\"outlinewidth\": 0, \"ticks\": \"\"}}, \"type\": \"scatterpolar\"}], \"scatterpolargl\": [{\"marker\": {\"colorbar\": {\"outlinewidth\": 0, \"ticks\": \"\"}}, \"type\": \"scatterpolargl\"}], \"scatterternary\": [{\"marker\": {\"colorbar\": {\"outlinewidth\": 0, \"ticks\": \"\"}}, \"type\": \"scatterternary\"}], \"surface\": [{\"colorbar\": {\"outlinewidth\": 0, \"ticks\": \"\"}, \"colorscale\": [[0.0, \"#0d0887\"], [0.1111111111111111, \"#46039f\"], [0.2222222222222222, \"#7201a8\"], [0.3333333333333333, \"#9c179e\"], [0.4444444444444444, \"#bd3786\"], [0.5555555555555556, \"#d8576b\"], [0.6666666666666666, \"#ed7953\"], [0.7777777777777778, \"#fb9f3a\"], [0.8888888888888888, \"#fdca26\"], [1.0, \"#f0f921\"]], \"type\": \"surface\"}], \"table\": [{\"cells\": {\"fill\": {\"color\": \"#EBF0F8\"}, \"line\": {\"color\": \"white\"}}, \"header\": {\"fill\": {\"color\": \"#C8D4E3\"}, \"line\": {\"color\": \"white\"}}, \"type\": \"table\"}]}, \"layout\": {\"annotationdefaults\": {\"arrowcolor\": \"#2a3f5f\", \"arrowhead\": 0, \"arrowwidth\": 1}, \"coloraxis\": {\"colorbar\": {\"outlinewidth\": 0, \"ticks\": \"\"}}, \"colorscale\": {\"diverging\": [[0, \"#8e0152\"], [0.1, \"#c51b7d\"], [0.2, \"#de77ae\"], [0.3, \"#f1b6da\"], [0.4, \"#fde0ef\"], [0.5, \"#f7f7f7\"], [0.6, \"#e6f5d0\"], [0.7, \"#b8e186\"], [0.8, \"#7fbc41\"], [0.9, \"#4d9221\"], [1, \"#276419\"]], \"sequential\": [[0.0, \"#0d0887\"], [0.1111111111111111, \"#46039f\"], [0.2222222222222222, \"#7201a8\"], [0.3333333333333333, \"#9c179e\"], [0.4444444444444444, \"#bd3786\"], [0.5555555555555556, \"#d8576b\"], [0.6666666666666666, \"#ed7953\"], [0.7777777777777778, \"#fb9f3a\"], [0.8888888888888888, \"#fdca26\"], [1.0, \"#f0f921\"]], \"sequentialminus\": [[0.0, \"#0d0887\"], [0.1111111111111111, \"#46039f\"], [0.2222222222222222, \"#7201a8\"], [0.3333333333333333, \"#9c179e\"], [0.4444444444444444, \"#bd3786\"], [0.5555555555555556, \"#d8576b\"], [0.6666666666666666, \"#ed7953\"], [0.7777777777777778, \"#fb9f3a\"], [0.8888888888888888, \"#fdca26\"], [1.0, \"#f0f921\"]]}, \"colorway\": [\"#636efa\", \"#EF553B\", \"#00cc96\", \"#ab63fa\", \"#FFA15A\", \"#19d3f3\", \"#FF6692\", \"#B6E880\", \"#FF97FF\", \"#FECB52\"], \"font\": {\"color\": \"#2a3f5f\"}, \"geo\": {\"bgcolor\": \"white\", \"lakecolor\": \"white\", \"landcolor\": \"#E5ECF6\", \"showlakes\": true, \"showland\": true, \"subunitcolor\": \"white\"}, \"hoverlabel\": {\"align\": \"left\"}, \"hovermode\": \"closest\", \"mapbox\": {\"style\": \"light\"}, \"paper_bgcolor\": \"white\", \"plot_bgcolor\": \"#E5ECF6\", \"polar\": {\"angularaxis\": {\"gridcolor\": \"white\", \"linecolor\": \"white\", \"ticks\": \"\"}, \"bgcolor\": \"#E5ECF6\", \"radialaxis\": {\"gridcolor\": \"white\", \"linecolor\": \"white\", \"ticks\": \"\"}}, \"scene\": {\"xaxis\": {\"backgroundcolor\": \"#E5ECF6\", \"gridcolor\": \"white\", \"gridwidth\": 2, \"linecolor\": \"white\", \"showbackground\": true, \"ticks\": \"\", \"zerolinecolor\": \"white\"}, \"yaxis\": {\"backgroundcolor\": \"#E5ECF6\", \"gridcolor\": \"white\", \"gridwidth\": 2, \"linecolor\": \"white\", \"showbackground\": true, \"ticks\": \"\", \"zerolinecolor\": \"white\"}, \"zaxis\": {\"backgroundcolor\": \"#E5ECF6\", \"gridcolor\": \"white\", \"gridwidth\": 2, \"linecolor\": \"white\", \"showbackground\": true, \"ticks\": \"\", \"zerolinecolor\": \"white\"}}, \"shapedefaults\": {\"line\": {\"color\": \"#2a3f5f\"}}, \"ternary\": {\"aaxis\": {\"gridcolor\": \"white\", \"linecolor\": \"white\", \"ticks\": \"\"}, \"baxis\": {\"gridcolor\": \"white\", \"linecolor\": \"white\", \"ticks\": \"\"}, \"bgcolor\": \"#E5ECF6\", \"caxis\": {\"gridcolor\": \"white\", \"linecolor\": \"white\", \"ticks\": \"\"}}, \"title\": {\"x\": 0.05}, \"xaxis\": {\"automargin\": true, \"gridcolor\": \"white\", \"linecolor\": \"white\", \"ticks\": \"\", \"title\": {\"standoff\": 15}, \"zerolinecolor\": \"white\", \"zerolinewidth\": 2}, \"yaxis\": {\"automargin\": true, \"gridcolor\": \"white\", \"linecolor\": \"white\", \"ticks\": \"\", \"title\": {\"standoff\": 15}, \"zerolinecolor\": \"white\", \"zerolinewidth\": 2}}}, \"title\": {\"text\": \"Numner of  Cases\"}, \"xaxis\": {\"anchor\": \"y\", \"domain\": [0.0, 1.0], \"title\": {\"text\": \"Date\"}}, \"yaxis\": {\"anchor\": \"x\", \"domain\": [0.0, 1.0], \"title\": {\"text\": \"Cases\"}}},\n",
       "                        {\"responsive\": true}\n",
       "                    ).then(function(){\n",
       "                            \n",
       "var gd = document.getElementById('91e3cc2e-904d-4b0d-a139-ab8a040ae2c7');\n",
       "var x = new MutationObserver(function (mutations, observer) {{\n",
       "        var display = window.getComputedStyle(gd).display;\n",
       "        if (!display || display === 'none') {{\n",
       "            console.log([gd, 'removed!']);\n",
       "            Plotly.purge(gd);\n",
       "            observer.disconnect();\n",
       "        }}\n",
       "}});\n",
       "\n",
       "// Listen for the removal of the full notebook cells\n",
       "var notebookContainer = gd.closest('#notebook-container');\n",
       "if (notebookContainer) {{\n",
       "    x.observe(notebookContainer, {childList: true});\n",
       "}}\n",
       "\n",
       "// Listen for the clearing of the current output cell\n",
       "var outputEl = gd.closest('.output');\n",
       "if (outputEl) {{\n",
       "    x.observe(outputEl, {childList: true});\n",
       "}}\n",
       "\n",
       "                        })\n",
       "                };\n",
       "                });\n",
       "            </script>\n",
       "        </div>"
      ]
     },
     "metadata": {},
     "output_type": "display_data"
    }
   ],
   "source": [
    "fig = px.bar(da, x=\"Date\", y=\"Cases\", color='Country', orientation='v',\n",
    "             title='Numner of  Cases')\n",
    "fig.show()"
   ]
  },
  {
   "cell_type": "code",
   "execution_count": 143,
   "metadata": {
    "ExecuteTime": {
     "end_time": "2020-06-04T20:01:02.060496Z",
     "start_time": "2020-06-04T20:01:01.958636Z"
    }
   },
   "outputs": [
    {
     "data": {
      "application/vnd.plotly.v1+json": {
       "config": {
        "plotlyServerURL": "https://plot.ly"
       },
       "data": [
        {
         "alignmentgroup": "True",
         "hovertemplate": "Country=Guinea<br>Date=%{x}<br>Deaths=%{y}<extra></extra>",
         "legendgroup": "Guinea",
         "marker": {
          "color": "#636efa"
         },
         "name": "Guinea",
         "offsetgroup": "Guinea",
         "orientation": "v",
         "showlegend": true,
         "textposition": "auto",
         "type": "bar",
         "x": [
          "2014-03-01",
          "2014-04-01",
          "2014-05-01",
          "2014-06-01",
          "2014-07-01",
          "2014-08-01",
          "2014-09-01",
          "2014-10-01",
          "2014-11-01",
          "2014-12-01",
          "2015-01-01"
         ],
         "xaxis": "x",
         "y": [
          496,
          1250,
          1500,
          1753,
          3163,
          4338,
          5463,
          7835,
          9396,
          11290,
          5334
         ],
         "yaxis": "y"
        },
        {
         "alignmentgroup": "True",
         "hovertemplate": "Country=Liberia<br>Date=%{x}<br>Deaths=%{y}<extra></extra>",
         "legendgroup": "Liberia",
         "marker": {
          "color": "#EF553B"
         },
         "name": "Liberia",
         "offsetgroup": "Liberia",
         "orientation": "v",
         "showlegend": true,
         "textposition": "auto",
         "type": "bar",
         "x": [
          "2014-03-01",
          "2014-04-01",
          "2014-05-01",
          "2014-06-01",
          "2014-07-01",
          "2014-08-01",
          "2014-09-01",
          "2014-10-01",
          "2014-11-01",
          "2014-12-01",
          "2015-01-01"
         ],
         "xaxis": "x",
         "y": [
          15,
          71,
          100,
          196,
          1213,
          5153,
          10768,
          19352,
          20502,
          23534,
          6992
         ],
         "yaxis": "y"
        },
        {
         "alignmentgroup": "True",
         "hovertemplate": "Country=SierraLeone<br>Date=%{x}<br>Deaths=%{y}<extra></extra>",
         "legendgroup": "SierraLeone",
         "marker": {
          "color": "#00cc96"
         },
         "name": "SierraLeone",
         "offsetgroup": "SierraLeone",
         "orientation": "v",
         "showlegend": true,
         "textposition": "auto",
         "type": "bar",
         "x": [
          "2014-03-01",
          "2014-04-01",
          "2014-05-01",
          "2014-06-01",
          "2014-07-01",
          "2014-08-01",
          "2014-09-01",
          "2014-10-01",
          "2014-11-01",
          "2014-12-01",
          "2015-01-01"
         ],
         "xaxis": "x",
         "y": [
          9,
          10,
          11,
          229,
          1895,
          3883,
          5092,
          10365,
          10054,
          19963,
          8835
         ],
         "yaxis": "y"
        },
        {
         "alignmentgroup": "True",
         "hovertemplate": "Country=Nigeria<br>Date=%{x}<br>Deaths=%{y}<extra></extra>",
         "legendgroup": "Nigeria",
         "marker": {
          "color": "#ab63fa"
         },
         "name": "Nigeria",
         "offsetgroup": "Nigeria",
         "orientation": "v",
         "showlegend": true,
         "textposition": "auto",
         "type": "bar",
         "x": [
          "2014-07-01",
          "2014-08-01",
          "2014-09-01",
          "2014-10-01",
          "2014-11-01",
          "2014-12-01"
         ],
         "xaxis": "x",
         "y": [
          2,
          39,
          56,
          64,
          64,
          8
         ],
         "yaxis": "y"
        },
        {
         "alignmentgroup": "True",
         "hovertemplate": "Country=Senegal<br>Date=%{x}<br>Deaths=%{y}<extra></extra>",
         "legendgroup": "Senegal",
         "marker": {
          "color": "#FFA15A"
         },
         "name": "Senegal",
         "offsetgroup": "Senegal",
         "orientation": "v",
         "showlegend": true,
         "textposition": "auto",
         "type": "bar",
         "x": [
          "2014-09-01",
          "2014-10-01",
          "2014-11-01",
          "2014-12-01"
         ],
         "xaxis": "x",
         "y": [
          0,
          0,
          0,
          0
         ],
         "yaxis": "y"
        },
        {
         "alignmentgroup": "True",
         "hovertemplate": "Country=Mali<br>Date=%{x}<br>Deaths=%{y}<extra></extra>",
         "legendgroup": "Mali",
         "marker": {
          "color": "#19d3f3"
         },
         "name": "Mali",
         "offsetgroup": "Mali",
         "orientation": "v",
         "showlegend": true,
         "textposition": "auto",
         "type": "bar",
         "x": [
          "2014-10-01",
          "2014-11-01",
          "2014-12-01"
         ],
         "xaxis": "x",
         "y": [
          3,
          29,
          6
         ],
         "yaxis": "y"
        },
        {
         "alignmentgroup": "True",
         "hovertemplate": "Country=Spain<br>Date=%{x}<br>Deaths=%{y}<extra></extra>",
         "legendgroup": "Spain",
         "marker": {
          "color": "#FF6692"
         },
         "name": "Spain",
         "offsetgroup": "Spain",
         "orientation": "v",
         "showlegend": true,
         "textposition": "auto",
         "type": "bar",
         "x": [
          "2014-10-01",
          "2014-11-01",
          "2014-12-01"
         ],
         "xaxis": "x",
         "y": [
          3,
          0,
          0
         ],
         "yaxis": "y"
        },
        {
         "alignmentgroup": "True",
         "hovertemplate": "Country=UnitedStates<br>Date=%{x}<br>Deaths=%{y}<extra></extra>",
         "legendgroup": "UnitedStates",
         "marker": {
          "color": "#B6E880"
         },
         "name": "UnitedStates",
         "offsetgroup": "UnitedStates",
         "orientation": "v",
         "showlegend": true,
         "textposition": "auto",
         "type": "bar",
         "x": [
          "2014-10-01",
          "2014-11-01",
          "2014-12-01"
         ],
         "xaxis": "x",
         "y": [
          6,
          8,
          1
         ],
         "yaxis": "y"
        }
       ],
       "layout": {
        "barmode": "relative",
        "legend": {
         "title": {
          "text": "Country"
         },
         "tracegroupgap": 0
        },
        "template": {
         "data": {
          "bar": [
           {
            "error_x": {
             "color": "#2a3f5f"
            },
            "error_y": {
             "color": "#2a3f5f"
            },
            "marker": {
             "line": {
              "color": "#E5ECF6",
              "width": 0.5
             }
            },
            "type": "bar"
           }
          ],
          "barpolar": [
           {
            "marker": {
             "line": {
              "color": "#E5ECF6",
              "width": 0.5
             }
            },
            "type": "barpolar"
           }
          ],
          "carpet": [
           {
            "aaxis": {
             "endlinecolor": "#2a3f5f",
             "gridcolor": "white",
             "linecolor": "white",
             "minorgridcolor": "white",
             "startlinecolor": "#2a3f5f"
            },
            "baxis": {
             "endlinecolor": "#2a3f5f",
             "gridcolor": "white",
             "linecolor": "white",
             "minorgridcolor": "white",
             "startlinecolor": "#2a3f5f"
            },
            "type": "carpet"
           }
          ],
          "choropleth": [
           {
            "colorbar": {
             "outlinewidth": 0,
             "ticks": ""
            },
            "type": "choropleth"
           }
          ],
          "contour": [
           {
            "colorbar": {
             "outlinewidth": 0,
             "ticks": ""
            },
            "colorscale": [
             [
              0,
              "#0d0887"
             ],
             [
              0.1111111111111111,
              "#46039f"
             ],
             [
              0.2222222222222222,
              "#7201a8"
             ],
             [
              0.3333333333333333,
              "#9c179e"
             ],
             [
              0.4444444444444444,
              "#bd3786"
             ],
             [
              0.5555555555555556,
              "#d8576b"
             ],
             [
              0.6666666666666666,
              "#ed7953"
             ],
             [
              0.7777777777777778,
              "#fb9f3a"
             ],
             [
              0.8888888888888888,
              "#fdca26"
             ],
             [
              1,
              "#f0f921"
             ]
            ],
            "type": "contour"
           }
          ],
          "contourcarpet": [
           {
            "colorbar": {
             "outlinewidth": 0,
             "ticks": ""
            },
            "type": "contourcarpet"
           }
          ],
          "heatmap": [
           {
            "colorbar": {
             "outlinewidth": 0,
             "ticks": ""
            },
            "colorscale": [
             [
              0,
              "#0d0887"
             ],
             [
              0.1111111111111111,
              "#46039f"
             ],
             [
              0.2222222222222222,
              "#7201a8"
             ],
             [
              0.3333333333333333,
              "#9c179e"
             ],
             [
              0.4444444444444444,
              "#bd3786"
             ],
             [
              0.5555555555555556,
              "#d8576b"
             ],
             [
              0.6666666666666666,
              "#ed7953"
             ],
             [
              0.7777777777777778,
              "#fb9f3a"
             ],
             [
              0.8888888888888888,
              "#fdca26"
             ],
             [
              1,
              "#f0f921"
             ]
            ],
            "type": "heatmap"
           }
          ],
          "heatmapgl": [
           {
            "colorbar": {
             "outlinewidth": 0,
             "ticks": ""
            },
            "colorscale": [
             [
              0,
              "#0d0887"
             ],
             [
              0.1111111111111111,
              "#46039f"
             ],
             [
              0.2222222222222222,
              "#7201a8"
             ],
             [
              0.3333333333333333,
              "#9c179e"
             ],
             [
              0.4444444444444444,
              "#bd3786"
             ],
             [
              0.5555555555555556,
              "#d8576b"
             ],
             [
              0.6666666666666666,
              "#ed7953"
             ],
             [
              0.7777777777777778,
              "#fb9f3a"
             ],
             [
              0.8888888888888888,
              "#fdca26"
             ],
             [
              1,
              "#f0f921"
             ]
            ],
            "type": "heatmapgl"
           }
          ],
          "histogram": [
           {
            "marker": {
             "colorbar": {
              "outlinewidth": 0,
              "ticks": ""
             }
            },
            "type": "histogram"
           }
          ],
          "histogram2d": [
           {
            "colorbar": {
             "outlinewidth": 0,
             "ticks": ""
            },
            "colorscale": [
             [
              0,
              "#0d0887"
             ],
             [
              0.1111111111111111,
              "#46039f"
             ],
             [
              0.2222222222222222,
              "#7201a8"
             ],
             [
              0.3333333333333333,
              "#9c179e"
             ],
             [
              0.4444444444444444,
              "#bd3786"
             ],
             [
              0.5555555555555556,
              "#d8576b"
             ],
             [
              0.6666666666666666,
              "#ed7953"
             ],
             [
              0.7777777777777778,
              "#fb9f3a"
             ],
             [
              0.8888888888888888,
              "#fdca26"
             ],
             [
              1,
              "#f0f921"
             ]
            ],
            "type": "histogram2d"
           }
          ],
          "histogram2dcontour": [
           {
            "colorbar": {
             "outlinewidth": 0,
             "ticks": ""
            },
            "colorscale": [
             [
              0,
              "#0d0887"
             ],
             [
              0.1111111111111111,
              "#46039f"
             ],
             [
              0.2222222222222222,
              "#7201a8"
             ],
             [
              0.3333333333333333,
              "#9c179e"
             ],
             [
              0.4444444444444444,
              "#bd3786"
             ],
             [
              0.5555555555555556,
              "#d8576b"
             ],
             [
              0.6666666666666666,
              "#ed7953"
             ],
             [
              0.7777777777777778,
              "#fb9f3a"
             ],
             [
              0.8888888888888888,
              "#fdca26"
             ],
             [
              1,
              "#f0f921"
             ]
            ],
            "type": "histogram2dcontour"
           }
          ],
          "mesh3d": [
           {
            "colorbar": {
             "outlinewidth": 0,
             "ticks": ""
            },
            "type": "mesh3d"
           }
          ],
          "parcoords": [
           {
            "line": {
             "colorbar": {
              "outlinewidth": 0,
              "ticks": ""
             }
            },
            "type": "parcoords"
           }
          ],
          "pie": [
           {
            "automargin": true,
            "type": "pie"
           }
          ],
          "scatter": [
           {
            "marker": {
             "colorbar": {
              "outlinewidth": 0,
              "ticks": ""
             }
            },
            "type": "scatter"
           }
          ],
          "scatter3d": [
           {
            "line": {
             "colorbar": {
              "outlinewidth": 0,
              "ticks": ""
             }
            },
            "marker": {
             "colorbar": {
              "outlinewidth": 0,
              "ticks": ""
             }
            },
            "type": "scatter3d"
           }
          ],
          "scattercarpet": [
           {
            "marker": {
             "colorbar": {
              "outlinewidth": 0,
              "ticks": ""
             }
            },
            "type": "scattercarpet"
           }
          ],
          "scattergeo": [
           {
            "marker": {
             "colorbar": {
              "outlinewidth": 0,
              "ticks": ""
             }
            },
            "type": "scattergeo"
           }
          ],
          "scattergl": [
           {
            "marker": {
             "colorbar": {
              "outlinewidth": 0,
              "ticks": ""
             }
            },
            "type": "scattergl"
           }
          ],
          "scattermapbox": [
           {
            "marker": {
             "colorbar": {
              "outlinewidth": 0,
              "ticks": ""
             }
            },
            "type": "scattermapbox"
           }
          ],
          "scatterpolar": [
           {
            "marker": {
             "colorbar": {
              "outlinewidth": 0,
              "ticks": ""
             }
            },
            "type": "scatterpolar"
           }
          ],
          "scatterpolargl": [
           {
            "marker": {
             "colorbar": {
              "outlinewidth": 0,
              "ticks": ""
             }
            },
            "type": "scatterpolargl"
           }
          ],
          "scatterternary": [
           {
            "marker": {
             "colorbar": {
              "outlinewidth": 0,
              "ticks": ""
             }
            },
            "type": "scatterternary"
           }
          ],
          "surface": [
           {
            "colorbar": {
             "outlinewidth": 0,
             "ticks": ""
            },
            "colorscale": [
             [
              0,
              "#0d0887"
             ],
             [
              0.1111111111111111,
              "#46039f"
             ],
             [
              0.2222222222222222,
              "#7201a8"
             ],
             [
              0.3333333333333333,
              "#9c179e"
             ],
             [
              0.4444444444444444,
              "#bd3786"
             ],
             [
              0.5555555555555556,
              "#d8576b"
             ],
             [
              0.6666666666666666,
              "#ed7953"
             ],
             [
              0.7777777777777778,
              "#fb9f3a"
             ],
             [
              0.8888888888888888,
              "#fdca26"
             ],
             [
              1,
              "#f0f921"
             ]
            ],
            "type": "surface"
           }
          ],
          "table": [
           {
            "cells": {
             "fill": {
              "color": "#EBF0F8"
             },
             "line": {
              "color": "white"
             }
            },
            "header": {
             "fill": {
              "color": "#C8D4E3"
             },
             "line": {
              "color": "white"
             }
            },
            "type": "table"
           }
          ]
         },
         "layout": {
          "annotationdefaults": {
           "arrowcolor": "#2a3f5f",
           "arrowhead": 0,
           "arrowwidth": 1
          },
          "coloraxis": {
           "colorbar": {
            "outlinewidth": 0,
            "ticks": ""
           }
          },
          "colorscale": {
           "diverging": [
            [
             0,
             "#8e0152"
            ],
            [
             0.1,
             "#c51b7d"
            ],
            [
             0.2,
             "#de77ae"
            ],
            [
             0.3,
             "#f1b6da"
            ],
            [
             0.4,
             "#fde0ef"
            ],
            [
             0.5,
             "#f7f7f7"
            ],
            [
             0.6,
             "#e6f5d0"
            ],
            [
             0.7,
             "#b8e186"
            ],
            [
             0.8,
             "#7fbc41"
            ],
            [
             0.9,
             "#4d9221"
            ],
            [
             1,
             "#276419"
            ]
           ],
           "sequential": [
            [
             0,
             "#0d0887"
            ],
            [
             0.1111111111111111,
             "#46039f"
            ],
            [
             0.2222222222222222,
             "#7201a8"
            ],
            [
             0.3333333333333333,
             "#9c179e"
            ],
            [
             0.4444444444444444,
             "#bd3786"
            ],
            [
             0.5555555555555556,
             "#d8576b"
            ],
            [
             0.6666666666666666,
             "#ed7953"
            ],
            [
             0.7777777777777778,
             "#fb9f3a"
            ],
            [
             0.8888888888888888,
             "#fdca26"
            ],
            [
             1,
             "#f0f921"
            ]
           ],
           "sequentialminus": [
            [
             0,
             "#0d0887"
            ],
            [
             0.1111111111111111,
             "#46039f"
            ],
            [
             0.2222222222222222,
             "#7201a8"
            ],
            [
             0.3333333333333333,
             "#9c179e"
            ],
            [
             0.4444444444444444,
             "#bd3786"
            ],
            [
             0.5555555555555556,
             "#d8576b"
            ],
            [
             0.6666666666666666,
             "#ed7953"
            ],
            [
             0.7777777777777778,
             "#fb9f3a"
            ],
            [
             0.8888888888888888,
             "#fdca26"
            ],
            [
             1,
             "#f0f921"
            ]
           ]
          },
          "colorway": [
           "#636efa",
           "#EF553B",
           "#00cc96",
           "#ab63fa",
           "#FFA15A",
           "#19d3f3",
           "#FF6692",
           "#B6E880",
           "#FF97FF",
           "#FECB52"
          ],
          "font": {
           "color": "#2a3f5f"
          },
          "geo": {
           "bgcolor": "white",
           "lakecolor": "white",
           "landcolor": "#E5ECF6",
           "showlakes": true,
           "showland": true,
           "subunitcolor": "white"
          },
          "hoverlabel": {
           "align": "left"
          },
          "hovermode": "closest",
          "mapbox": {
           "style": "light"
          },
          "paper_bgcolor": "white",
          "plot_bgcolor": "#E5ECF6",
          "polar": {
           "angularaxis": {
            "gridcolor": "white",
            "linecolor": "white",
            "ticks": ""
           },
           "bgcolor": "#E5ECF6",
           "radialaxis": {
            "gridcolor": "white",
            "linecolor": "white",
            "ticks": ""
           }
          },
          "scene": {
           "xaxis": {
            "backgroundcolor": "#E5ECF6",
            "gridcolor": "white",
            "gridwidth": 2,
            "linecolor": "white",
            "showbackground": true,
            "ticks": "",
            "zerolinecolor": "white"
           },
           "yaxis": {
            "backgroundcolor": "#E5ECF6",
            "gridcolor": "white",
            "gridwidth": 2,
            "linecolor": "white",
            "showbackground": true,
            "ticks": "",
            "zerolinecolor": "white"
           },
           "zaxis": {
            "backgroundcolor": "#E5ECF6",
            "gridcolor": "white",
            "gridwidth": 2,
            "linecolor": "white",
            "showbackground": true,
            "ticks": "",
            "zerolinecolor": "white"
           }
          },
          "shapedefaults": {
           "line": {
            "color": "#2a3f5f"
           }
          },
          "ternary": {
           "aaxis": {
            "gridcolor": "white",
            "linecolor": "white",
            "ticks": ""
           },
           "baxis": {
            "gridcolor": "white",
            "linecolor": "white",
            "ticks": ""
           },
           "bgcolor": "#E5ECF6",
           "caxis": {
            "gridcolor": "white",
            "linecolor": "white",
            "ticks": ""
           }
          },
          "title": {
           "x": 0.05
          },
          "xaxis": {
           "automargin": true,
           "gridcolor": "white",
           "linecolor": "white",
           "ticks": "",
           "title": {
            "standoff": 15
           },
           "zerolinecolor": "white",
           "zerolinewidth": 2
          },
          "yaxis": {
           "automargin": true,
           "gridcolor": "white",
           "linecolor": "white",
           "ticks": "",
           "title": {
            "standoff": 15
           },
           "zerolinecolor": "white",
           "zerolinewidth": 2
          }
         }
        },
        "title": {
         "text": "Numner of Deaths"
        },
        "xaxis": {
         "anchor": "y",
         "domain": [
          0,
          1
         ],
         "title": {
          "text": "Date"
         }
        },
        "yaxis": {
         "anchor": "x",
         "domain": [
          0,
          1
         ],
         "title": {
          "text": "Deaths"
         }
        }
       }
      },
      "text/html": [
       "<div>\n",
       "        \n",
       "        \n",
       "            <div id=\"03e7cf91-860f-4a0b-857f-b53541d17b81\" class=\"plotly-graph-div\" style=\"height:525px; width:100%;\"></div>\n",
       "            <script type=\"text/javascript\">\n",
       "                require([\"plotly\"], function(Plotly) {\n",
       "                    window.PLOTLYENV=window.PLOTLYENV || {};\n",
       "                    \n",
       "                if (document.getElementById(\"03e7cf91-860f-4a0b-857f-b53541d17b81\")) {\n",
       "                    Plotly.newPlot(\n",
       "                        '03e7cf91-860f-4a0b-857f-b53541d17b81',\n",
       "                        [{\"alignmentgroup\": \"True\", \"hovertemplate\": \"Country=Guinea<br>Date=%{x}<br>Deaths=%{y}<extra></extra>\", \"legendgroup\": \"Guinea\", \"marker\": {\"color\": \"#636efa\"}, \"name\": \"Guinea\", \"offsetgroup\": \"Guinea\", \"orientation\": \"v\", \"showlegend\": true, \"textposition\": \"auto\", \"type\": \"bar\", \"x\": [\"2014-03-01\", \"2014-04-01\", \"2014-05-01\", \"2014-06-01\", \"2014-07-01\", \"2014-08-01\", \"2014-09-01\", \"2014-10-01\", \"2014-11-01\", \"2014-12-01\", \"2015-01-01\"], \"xaxis\": \"x\", \"y\": [496.0, 1250.0, 1500.0, 1753.0, 3163.0, 4338.0, 5463.0, 7835.0, 9396.0, 11290.0, 5334.0], \"yaxis\": \"y\"}, {\"alignmentgroup\": \"True\", \"hovertemplate\": \"Country=Liberia<br>Date=%{x}<br>Deaths=%{y}<extra></extra>\", \"legendgroup\": \"Liberia\", \"marker\": {\"color\": \"#EF553B\"}, \"name\": \"Liberia\", \"offsetgroup\": \"Liberia\", \"orientation\": \"v\", \"showlegend\": true, \"textposition\": \"auto\", \"type\": \"bar\", \"x\": [\"2014-03-01\", \"2014-04-01\", \"2014-05-01\", \"2014-06-01\", \"2014-07-01\", \"2014-08-01\", \"2014-09-01\", \"2014-10-01\", \"2014-11-01\", \"2014-12-01\", \"2015-01-01\"], \"xaxis\": \"x\", \"y\": [15.0, 71.0, 100.0, 196.0, 1213.0, 5153.0, 10768.0, 19352.0, 20502.0, 23534.0, 6992.0], \"yaxis\": \"y\"}, {\"alignmentgroup\": \"True\", \"hovertemplate\": \"Country=SierraLeone<br>Date=%{x}<br>Deaths=%{y}<extra></extra>\", \"legendgroup\": \"SierraLeone\", \"marker\": {\"color\": \"#00cc96\"}, \"name\": \"SierraLeone\", \"offsetgroup\": \"SierraLeone\", \"orientation\": \"v\", \"showlegend\": true, \"textposition\": \"auto\", \"type\": \"bar\", \"x\": [\"2014-03-01\", \"2014-04-01\", \"2014-05-01\", \"2014-06-01\", \"2014-07-01\", \"2014-08-01\", \"2014-09-01\", \"2014-10-01\", \"2014-11-01\", \"2014-12-01\", \"2015-01-01\"], \"xaxis\": \"x\", \"y\": [9.0, 10.0, 11.0, 229.0, 1895.0, 3883.0, 5092.0, 10365.0, 10054.0, 19963.0, 8835.0], \"yaxis\": \"y\"}, {\"alignmentgroup\": \"True\", \"hovertemplate\": \"Country=Nigeria<br>Date=%{x}<br>Deaths=%{y}<extra></extra>\", \"legendgroup\": \"Nigeria\", \"marker\": {\"color\": \"#ab63fa\"}, \"name\": \"Nigeria\", \"offsetgroup\": \"Nigeria\", \"orientation\": \"v\", \"showlegend\": true, \"textposition\": \"auto\", \"type\": \"bar\", \"x\": [\"2014-07-01\", \"2014-08-01\", \"2014-09-01\", \"2014-10-01\", \"2014-11-01\", \"2014-12-01\"], \"xaxis\": \"x\", \"y\": [2.0, 39.0, 56.0, 64.0, 64.0, 8.0], \"yaxis\": \"y\"}, {\"alignmentgroup\": \"True\", \"hovertemplate\": \"Country=Senegal<br>Date=%{x}<br>Deaths=%{y}<extra></extra>\", \"legendgroup\": \"Senegal\", \"marker\": {\"color\": \"#FFA15A\"}, \"name\": \"Senegal\", \"offsetgroup\": \"Senegal\", \"orientation\": \"v\", \"showlegend\": true, \"textposition\": \"auto\", \"type\": \"bar\", \"x\": [\"2014-09-01\", \"2014-10-01\", \"2014-11-01\", \"2014-12-01\"], \"xaxis\": \"x\", \"y\": [0.0, 0.0, 0.0, 0.0], \"yaxis\": \"y\"}, {\"alignmentgroup\": \"True\", \"hovertemplate\": \"Country=Mali<br>Date=%{x}<br>Deaths=%{y}<extra></extra>\", \"legendgroup\": \"Mali\", \"marker\": {\"color\": \"#19d3f3\"}, \"name\": \"Mali\", \"offsetgroup\": \"Mali\", \"orientation\": \"v\", \"showlegend\": true, \"textposition\": \"auto\", \"type\": \"bar\", \"x\": [\"2014-10-01\", \"2014-11-01\", \"2014-12-01\"], \"xaxis\": \"x\", \"y\": [3.0, 29.0, 6.0], \"yaxis\": \"y\"}, {\"alignmentgroup\": \"True\", \"hovertemplate\": \"Country=Spain<br>Date=%{x}<br>Deaths=%{y}<extra></extra>\", \"legendgroup\": \"Spain\", \"marker\": {\"color\": \"#FF6692\"}, \"name\": \"Spain\", \"offsetgroup\": \"Spain\", \"orientation\": \"v\", \"showlegend\": true, \"textposition\": \"auto\", \"type\": \"bar\", \"x\": [\"2014-10-01\", \"2014-11-01\", \"2014-12-01\"], \"xaxis\": \"x\", \"y\": [3.0, 0.0, 0.0], \"yaxis\": \"y\"}, {\"alignmentgroup\": \"True\", \"hovertemplate\": \"Country=UnitedStates<br>Date=%{x}<br>Deaths=%{y}<extra></extra>\", \"legendgroup\": \"UnitedStates\", \"marker\": {\"color\": \"#B6E880\"}, \"name\": \"UnitedStates\", \"offsetgroup\": \"UnitedStates\", \"orientation\": \"v\", \"showlegend\": true, \"textposition\": \"auto\", \"type\": \"bar\", \"x\": [\"2014-10-01\", \"2014-11-01\", \"2014-12-01\"], \"xaxis\": \"x\", \"y\": [6.0, 8.0, 1.0], \"yaxis\": \"y\"}],\n",
       "                        {\"barmode\": \"relative\", \"legend\": {\"title\": {\"text\": \"Country\"}, \"tracegroupgap\": 0}, \"template\": {\"data\": {\"bar\": [{\"error_x\": {\"color\": \"#2a3f5f\"}, \"error_y\": {\"color\": \"#2a3f5f\"}, \"marker\": {\"line\": {\"color\": \"#E5ECF6\", \"width\": 0.5}}, \"type\": \"bar\"}], \"barpolar\": [{\"marker\": {\"line\": {\"color\": \"#E5ECF6\", \"width\": 0.5}}, \"type\": \"barpolar\"}], \"carpet\": [{\"aaxis\": {\"endlinecolor\": \"#2a3f5f\", \"gridcolor\": \"white\", \"linecolor\": \"white\", \"minorgridcolor\": \"white\", \"startlinecolor\": \"#2a3f5f\"}, \"baxis\": {\"endlinecolor\": \"#2a3f5f\", \"gridcolor\": \"white\", \"linecolor\": \"white\", \"minorgridcolor\": \"white\", \"startlinecolor\": \"#2a3f5f\"}, \"type\": \"carpet\"}], \"choropleth\": [{\"colorbar\": {\"outlinewidth\": 0, \"ticks\": \"\"}, \"type\": \"choropleth\"}], \"contour\": [{\"colorbar\": {\"outlinewidth\": 0, \"ticks\": \"\"}, \"colorscale\": [[0.0, \"#0d0887\"], [0.1111111111111111, \"#46039f\"], [0.2222222222222222, \"#7201a8\"], [0.3333333333333333, \"#9c179e\"], [0.4444444444444444, \"#bd3786\"], [0.5555555555555556, \"#d8576b\"], [0.6666666666666666, \"#ed7953\"], [0.7777777777777778, \"#fb9f3a\"], [0.8888888888888888, \"#fdca26\"], [1.0, \"#f0f921\"]], \"type\": \"contour\"}], \"contourcarpet\": [{\"colorbar\": {\"outlinewidth\": 0, \"ticks\": \"\"}, \"type\": \"contourcarpet\"}], \"heatmap\": [{\"colorbar\": {\"outlinewidth\": 0, \"ticks\": \"\"}, \"colorscale\": [[0.0, \"#0d0887\"], [0.1111111111111111, \"#46039f\"], [0.2222222222222222, \"#7201a8\"], [0.3333333333333333, \"#9c179e\"], [0.4444444444444444, \"#bd3786\"], [0.5555555555555556, \"#d8576b\"], [0.6666666666666666, \"#ed7953\"], [0.7777777777777778, \"#fb9f3a\"], [0.8888888888888888, \"#fdca26\"], [1.0, \"#f0f921\"]], \"type\": \"heatmap\"}], \"heatmapgl\": [{\"colorbar\": {\"outlinewidth\": 0, \"ticks\": \"\"}, \"colorscale\": [[0.0, \"#0d0887\"], [0.1111111111111111, \"#46039f\"], [0.2222222222222222, \"#7201a8\"], [0.3333333333333333, \"#9c179e\"], [0.4444444444444444, \"#bd3786\"], [0.5555555555555556, \"#d8576b\"], [0.6666666666666666, \"#ed7953\"], [0.7777777777777778, \"#fb9f3a\"], [0.8888888888888888, \"#fdca26\"], [1.0, \"#f0f921\"]], \"type\": \"heatmapgl\"}], \"histogram\": [{\"marker\": {\"colorbar\": {\"outlinewidth\": 0, \"ticks\": \"\"}}, \"type\": \"histogram\"}], \"histogram2d\": [{\"colorbar\": {\"outlinewidth\": 0, \"ticks\": \"\"}, \"colorscale\": [[0.0, \"#0d0887\"], [0.1111111111111111, \"#46039f\"], [0.2222222222222222, \"#7201a8\"], [0.3333333333333333, \"#9c179e\"], [0.4444444444444444, \"#bd3786\"], [0.5555555555555556, \"#d8576b\"], [0.6666666666666666, \"#ed7953\"], [0.7777777777777778, \"#fb9f3a\"], [0.8888888888888888, \"#fdca26\"], [1.0, \"#f0f921\"]], \"type\": \"histogram2d\"}], \"histogram2dcontour\": [{\"colorbar\": {\"outlinewidth\": 0, \"ticks\": \"\"}, \"colorscale\": [[0.0, \"#0d0887\"], [0.1111111111111111, \"#46039f\"], [0.2222222222222222, \"#7201a8\"], [0.3333333333333333, \"#9c179e\"], [0.4444444444444444, \"#bd3786\"], [0.5555555555555556, \"#d8576b\"], [0.6666666666666666, \"#ed7953\"], [0.7777777777777778, \"#fb9f3a\"], [0.8888888888888888, \"#fdca26\"], [1.0, \"#f0f921\"]], \"type\": \"histogram2dcontour\"}], \"mesh3d\": [{\"colorbar\": {\"outlinewidth\": 0, \"ticks\": \"\"}, \"type\": \"mesh3d\"}], \"parcoords\": [{\"line\": {\"colorbar\": {\"outlinewidth\": 0, \"ticks\": \"\"}}, \"type\": \"parcoords\"}], \"pie\": [{\"automargin\": true, \"type\": \"pie\"}], \"scatter\": [{\"marker\": {\"colorbar\": {\"outlinewidth\": 0, \"ticks\": \"\"}}, \"type\": \"scatter\"}], \"scatter3d\": [{\"line\": {\"colorbar\": {\"outlinewidth\": 0, \"ticks\": \"\"}}, \"marker\": {\"colorbar\": {\"outlinewidth\": 0, \"ticks\": \"\"}}, \"type\": \"scatter3d\"}], \"scattercarpet\": [{\"marker\": {\"colorbar\": {\"outlinewidth\": 0, \"ticks\": \"\"}}, \"type\": \"scattercarpet\"}], \"scattergeo\": [{\"marker\": {\"colorbar\": {\"outlinewidth\": 0, \"ticks\": \"\"}}, \"type\": \"scattergeo\"}], \"scattergl\": [{\"marker\": {\"colorbar\": {\"outlinewidth\": 0, \"ticks\": \"\"}}, \"type\": \"scattergl\"}], \"scattermapbox\": [{\"marker\": {\"colorbar\": {\"outlinewidth\": 0, \"ticks\": \"\"}}, \"type\": \"scattermapbox\"}], \"scatterpolar\": [{\"marker\": {\"colorbar\": {\"outlinewidth\": 0, \"ticks\": \"\"}}, \"type\": \"scatterpolar\"}], \"scatterpolargl\": [{\"marker\": {\"colorbar\": {\"outlinewidth\": 0, \"ticks\": \"\"}}, \"type\": \"scatterpolargl\"}], \"scatterternary\": [{\"marker\": {\"colorbar\": {\"outlinewidth\": 0, \"ticks\": \"\"}}, \"type\": \"scatterternary\"}], \"surface\": [{\"colorbar\": {\"outlinewidth\": 0, \"ticks\": \"\"}, \"colorscale\": [[0.0, \"#0d0887\"], [0.1111111111111111, \"#46039f\"], [0.2222222222222222, \"#7201a8\"], [0.3333333333333333, \"#9c179e\"], [0.4444444444444444, \"#bd3786\"], [0.5555555555555556, \"#d8576b\"], [0.6666666666666666, \"#ed7953\"], [0.7777777777777778, \"#fb9f3a\"], [0.8888888888888888, \"#fdca26\"], [1.0, \"#f0f921\"]], \"type\": \"surface\"}], \"table\": [{\"cells\": {\"fill\": {\"color\": \"#EBF0F8\"}, \"line\": {\"color\": \"white\"}}, \"header\": {\"fill\": {\"color\": \"#C8D4E3\"}, \"line\": {\"color\": \"white\"}}, \"type\": \"table\"}]}, \"layout\": {\"annotationdefaults\": {\"arrowcolor\": \"#2a3f5f\", \"arrowhead\": 0, \"arrowwidth\": 1}, \"coloraxis\": {\"colorbar\": {\"outlinewidth\": 0, \"ticks\": \"\"}}, \"colorscale\": {\"diverging\": [[0, \"#8e0152\"], [0.1, \"#c51b7d\"], [0.2, \"#de77ae\"], [0.3, \"#f1b6da\"], [0.4, \"#fde0ef\"], [0.5, \"#f7f7f7\"], [0.6, \"#e6f5d0\"], [0.7, \"#b8e186\"], [0.8, \"#7fbc41\"], [0.9, \"#4d9221\"], [1, \"#276419\"]], \"sequential\": [[0.0, \"#0d0887\"], [0.1111111111111111, \"#46039f\"], [0.2222222222222222, \"#7201a8\"], [0.3333333333333333, \"#9c179e\"], [0.4444444444444444, \"#bd3786\"], [0.5555555555555556, \"#d8576b\"], [0.6666666666666666, \"#ed7953\"], [0.7777777777777778, \"#fb9f3a\"], [0.8888888888888888, \"#fdca26\"], [1.0, \"#f0f921\"]], \"sequentialminus\": [[0.0, \"#0d0887\"], [0.1111111111111111, \"#46039f\"], [0.2222222222222222, \"#7201a8\"], [0.3333333333333333, \"#9c179e\"], [0.4444444444444444, \"#bd3786\"], [0.5555555555555556, \"#d8576b\"], [0.6666666666666666, \"#ed7953\"], [0.7777777777777778, \"#fb9f3a\"], [0.8888888888888888, \"#fdca26\"], [1.0, \"#f0f921\"]]}, \"colorway\": [\"#636efa\", \"#EF553B\", \"#00cc96\", \"#ab63fa\", \"#FFA15A\", \"#19d3f3\", \"#FF6692\", \"#B6E880\", \"#FF97FF\", \"#FECB52\"], \"font\": {\"color\": \"#2a3f5f\"}, \"geo\": {\"bgcolor\": \"white\", \"lakecolor\": \"white\", \"landcolor\": \"#E5ECF6\", \"showlakes\": true, \"showland\": true, \"subunitcolor\": \"white\"}, \"hoverlabel\": {\"align\": \"left\"}, \"hovermode\": \"closest\", \"mapbox\": {\"style\": \"light\"}, \"paper_bgcolor\": \"white\", \"plot_bgcolor\": \"#E5ECF6\", \"polar\": {\"angularaxis\": {\"gridcolor\": \"white\", \"linecolor\": \"white\", \"ticks\": \"\"}, \"bgcolor\": \"#E5ECF6\", \"radialaxis\": {\"gridcolor\": \"white\", \"linecolor\": \"white\", \"ticks\": \"\"}}, \"scene\": {\"xaxis\": {\"backgroundcolor\": \"#E5ECF6\", \"gridcolor\": \"white\", \"gridwidth\": 2, \"linecolor\": \"white\", \"showbackground\": true, \"ticks\": \"\", \"zerolinecolor\": \"white\"}, \"yaxis\": {\"backgroundcolor\": \"#E5ECF6\", \"gridcolor\": \"white\", \"gridwidth\": 2, \"linecolor\": \"white\", \"showbackground\": true, \"ticks\": \"\", \"zerolinecolor\": \"white\"}, \"zaxis\": {\"backgroundcolor\": \"#E5ECF6\", \"gridcolor\": \"white\", \"gridwidth\": 2, \"linecolor\": \"white\", \"showbackground\": true, \"ticks\": \"\", \"zerolinecolor\": \"white\"}}, \"shapedefaults\": {\"line\": {\"color\": \"#2a3f5f\"}}, \"ternary\": {\"aaxis\": {\"gridcolor\": \"white\", \"linecolor\": \"white\", \"ticks\": \"\"}, \"baxis\": {\"gridcolor\": \"white\", \"linecolor\": \"white\", \"ticks\": \"\"}, \"bgcolor\": \"#E5ECF6\", \"caxis\": {\"gridcolor\": \"white\", \"linecolor\": \"white\", \"ticks\": \"\"}}, \"title\": {\"x\": 0.05}, \"xaxis\": {\"automargin\": true, \"gridcolor\": \"white\", \"linecolor\": \"white\", \"ticks\": \"\", \"title\": {\"standoff\": 15}, \"zerolinecolor\": \"white\", \"zerolinewidth\": 2}, \"yaxis\": {\"automargin\": true, \"gridcolor\": \"white\", \"linecolor\": \"white\", \"ticks\": \"\", \"title\": {\"standoff\": 15}, \"zerolinecolor\": \"white\", \"zerolinewidth\": 2}}}, \"title\": {\"text\": \"Numner of Deaths\"}, \"xaxis\": {\"anchor\": \"y\", \"domain\": [0.0, 1.0], \"title\": {\"text\": \"Date\"}}, \"yaxis\": {\"anchor\": \"x\", \"domain\": [0.0, 1.0], \"title\": {\"text\": \"Deaths\"}}},\n",
       "                        {\"responsive\": true}\n",
       "                    ).then(function(){\n",
       "                            \n",
       "var gd = document.getElementById('03e7cf91-860f-4a0b-857f-b53541d17b81');\n",
       "var x = new MutationObserver(function (mutations, observer) {{\n",
       "        var display = window.getComputedStyle(gd).display;\n",
       "        if (!display || display === 'none') {{\n",
       "            console.log([gd, 'removed!']);\n",
       "            Plotly.purge(gd);\n",
       "            observer.disconnect();\n",
       "        }}\n",
       "}});\n",
       "\n",
       "// Listen for the removal of the full notebook cells\n",
       "var notebookContainer = gd.closest('#notebook-container');\n",
       "if (notebookContainer) {{\n",
       "    x.observe(notebookContainer, {childList: true});\n",
       "}}\n",
       "\n",
       "// Listen for the clearing of the current output cell\n",
       "var outputEl = gd.closest('.output');\n",
       "if (outputEl) {{\n",
       "    x.observe(outputEl, {childList: true});\n",
       "}}\n",
       "\n",
       "                        })\n",
       "                };\n",
       "                });\n",
       "            </script>\n",
       "        </div>"
      ]
     },
     "metadata": {},
     "output_type": "display_data"
    }
   ],
   "source": [
    "fig = px.bar(da, x=\"Date\", y=\"Deaths\", color='Country', orientation='v',\n",
    "             title='Numner of Deaths')\n",
    "fig.show()"
   ]
  },
  {
   "cell_type": "markdown",
   "metadata": {},
   "source": [
    "### From the above graphs, we can say that, number of deaths and number of cases are highly correlated. And Liberia is the worst affected area."
   ]
  },
  {
   "cell_type": "code",
   "execution_count": 144,
   "metadata": {
    "ExecuteTime": {
     "end_time": "2020-06-04T20:01:03.966334Z",
     "start_time": "2020-06-04T20:01:03.935710Z"
    }
   },
   "outputs": [
    {
     "data": {
      "text/plain": [
       "0.9449084733361818"
      ]
     },
     "execution_count": 144,
     "metadata": {},
     "output_type": "execute_result"
    }
   ],
   "source": [
    "df[\"Cases\"].corr(df[\"Deaths\"])"
   ]
  },
  {
   "cell_type": "markdown",
   "metadata": {},
   "source": [
    "### And the corelation value is 94.5%"
   ]
  },
  {
   "cell_type": "code",
   "execution_count": null,
   "metadata": {},
   "outputs": [],
   "source": []
  },
  {
   "cell_type": "markdown",
   "metadata": {},
   "source": [
    "## Countries with most and least number of Deaths and Cases"
   ]
  },
  {
   "cell_type": "code",
   "execution_count": 145,
   "metadata": {
    "ExecuteTime": {
     "end_time": "2020-06-04T20:01:07.744312Z",
     "start_time": "2020-06-04T20:01:07.736912Z"
    }
   },
   "outputs": [],
   "source": [
    "case_largest=df.groupby('Country')['Cases'].sum().nlargest(3)"
   ]
  },
  {
   "cell_type": "code",
   "execution_count": 146,
   "metadata": {
    "ExecuteTime": {
     "end_time": "2020-06-04T20:01:08.565844Z",
     "start_time": "2020-06-04T20:01:08.556229Z"
    }
   },
   "outputs": [],
   "source": [
    "death_largest=df.groupby('Country')['Deaths'].sum().nlargest(3)"
   ]
  },
  {
   "cell_type": "code",
   "execution_count": 147,
   "metadata": {
    "ExecuteTime": {
     "end_time": "2020-06-04T20:01:09.860319Z",
     "start_time": "2020-06-04T20:01:09.418006Z"
    }
   },
   "outputs": [
    {
     "data": {
      "image/png": "[encoded data removed]",
      "text/plain": [
       "<Figure size 432x288 with 2 Axes>"
      ]
     },
     "metadata": {
      "needs_background": "light"
     },
     "output_type": "display_data"
    }
   ],
   "source": [
    "plt.subplot(1,2,1)\n",
    "case_largest.plot(kind = 'bar', grid = True)\n",
    "plt.title('Cases')\n",
    "plt.xlabel('Countries')\n",
    "plt.ylabel('No of Cases')\n",
    "plt.subplot(1,2,2)\n",
    "death_largest.plot(kind = 'bar', grid = True)\n",
    "plt.title('Deaths')\n",
    "plt.xlabel('Countries')\n",
    "plt.ylabel('No of Deaths')\n",
    "plt.tight_layout()\n",
    "plt.show()"
   ]
  },
  {
   "cell_type": "markdown",
   "metadata": {},
   "source": [
    "## SierraLeone has the most number of cases but second most in terms of death. Guinea is the third most affected area.And though Liberia has the second most number of cases, more people died in Liberia than anywhere else.\n"
   ]
  },
  {
   "cell_type": "code",
   "execution_count": 148,
   "metadata": {
    "ExecuteTime": {
     "end_time": "2020-06-04T20:01:12.252990Z",
     "start_time": "2020-06-04T20:01:12.231988Z"
    }
   },
   "outputs": [],
   "source": [
    "case_smallest=df.groupby('Country')['Cases'].sum().nsmallest(4)"
   ]
  },
  {
   "cell_type": "code",
   "execution_count": 149,
   "metadata": {
    "ExecuteTime": {
     "end_time": "2020-06-04T20:01:12.991219Z",
     "start_time": "2020-06-04T20:01:12.978167Z"
    }
   },
   "outputs": [],
   "source": [
    "death_smallest=df.groupby('Country')['Deaths'].sum().nsmallest(4)"
   ]
  },
  {
   "cell_type": "code",
   "execution_count": 150,
   "metadata": {
    "ExecuteTime": {
     "end_time": "2020-06-04T20:01:16.344875Z",
     "start_time": "2020-06-04T20:01:15.844028Z"
    }
   },
   "outputs": [
    {
     "data": {
      "image/png": "[encoded data removed]",
      "text/plain": [
       "<Figure size 432x288 with 2 Axes>"
      ]
     },
     "metadata": {
      "needs_background": "light"
     },
     "output_type": "display_data"
    }
   ],
   "source": [
    "plt.subplot(1,2,1)\n",
    "case_smallest.plot(kind = 'bar', grid = True)\n",
    "plt.title('Cases')\n",
    "plt.xlabel('Countries')\n",
    "plt.ylabel('No of Cases')\n",
    "plt.subplot(1,2,2)\n",
    "death_smallest.plot(kind = 'bar', grid = True)\n",
    "plt.title('Deaths')\n",
    "plt.xlabel('Countries')\n",
    "plt.ylabel('No of Deaths')\n",
    "plt.tight_layout()\n",
    "plt.show()"
   ]
  },
  {
   "cell_type": "markdown",
   "metadata": {},
   "source": [
    "## Senegal has reported zero deaths due to Ebola. USA has more cases than Mali but less American died of Ebola than people from Mali."
   ]
  },
  {
   "cell_type": "code",
   "execution_count": null,
   "metadata": {},
   "outputs": [],
   "source": []
  },
  {
   "cell_type": "markdown",
   "metadata": {},
   "source": [
    "## Fatality and Survival Rate"
   ]
  },
  {
   "cell_type": "code",
   "execution_count": 151,
   "metadata": {
    "ExecuteTime": {
     "end_time": "2020-06-04T20:01:18.091234Z",
     "start_time": "2020-06-04T20:01:18.058775Z"
    }
   },
   "outputs": [],
   "source": [
    "survival_rate =  (df.copy().groupby('Country').sum()['Cases'] -df.copy().groupby('Country').sum()['Deaths']) / df.copy().groupby('Country').sum()['Cases']"
   ]
  },
  {
   "cell_type": "code",
   "execution_count": 152,
   "metadata": {
    "ExecuteTime": {
     "end_time": "2020-06-04T20:01:18.336717Z",
     "start_time": "2020-06-04T20:01:18.333158Z"
    }
   },
   "outputs": [],
   "source": [
    "survival_rate=survival_rate*100\n"
   ]
  },
  {
   "cell_type": "code",
   "execution_count": 153,
   "metadata": {
    "ExecuteTime": {
     "end_time": "2020-06-04T20:01:18.670311Z",
     "start_time": "2020-06-04T20:01:18.654579Z"
    }
   },
   "outputs": [],
   "source": [
    "fatality_rate =  df.copy().groupby('Country').sum()['Deaths'] / df.copy().groupby('Country').sum()['Cases']"
   ]
  },
  {
   "cell_type": "code",
   "execution_count": 154,
   "metadata": {
    "ExecuteTime": {
     "end_time": "2020-06-04T20:01:19.013578Z",
     "start_time": "2020-06-04T20:01:19.009309Z"
    }
   },
   "outputs": [],
   "source": [
    "fatality_rate=fatality_rate*100\n"
   ]
  },
  {
   "cell_type": "code",
   "execution_count": 155,
   "metadata": {
    "ExecuteTime": {
     "end_time": "2020-06-04T20:01:20.312253Z",
     "start_time": "2020-06-04T20:01:19.336681Z"
    }
   },
   "outputs": [
    {
     "data": {
      "image/png": "[encoded data removed]",
      "text/plain": [
       "<Figure size 432x288 with 2 Axes>"
      ]
     },
     "metadata": {
      "needs_background": "light"
     },
     "output_type": "display_data"
    }
   ],
   "source": [
    "plt.subplot(1,2,1)\n",
    "survival_rate.plot(kind = 'bar', grid = True, color='g')\n",
    "plt.title('survival_rate')\n",
    "plt.xlabel('Countries')\n",
    "plt.ylabel('survival_rate')\n",
    "plt.subplot(1,2,2)\n",
    "fatality_rate.plot(kind = 'bar', grid = True, color='r')\n",
    "plt.title('fatality_rate')\n",
    "plt.xlabel('Countries')\n",
    "plt.ylabel('fatality_rate')\n",
    "plt.tight_layout()\n",
    "plt.show()"
   ]
  },
  {
   "cell_type": "markdown",
   "metadata": {},
   "source": [
    "### Fatality rate is highest in Mali(more than 90%) which is almost double than the worst effected area (in terms of total number of deaths) Liberia"
   ]
  },
  {
   "cell_type": "code",
   "execution_count": null,
   "metadata": {},
   "outputs": [],
   "source": []
  },
  {
   "cell_type": "markdown",
   "metadata": {},
   "source": [
    "## Closer look at Liberia"
   ]
  },
  {
   "cell_type": "code",
   "execution_count": 156,
   "metadata": {
    "ExecuteTime": {
     "end_time": "2020-06-04T20:01:22.834509Z",
     "start_time": "2020-06-04T20:01:22.817410Z"
    }
   },
   "outputs": [],
   "source": [
    "s=df[\"Country\"]==\"Liberia\"\n",
    "Li=df.loc[s]"
   ]
  },
  {
   "cell_type": "code",
   "execution_count": 157,
   "metadata": {
    "ExecuteTime": {
     "end_time": "2020-06-04T20:01:23.487334Z",
     "start_time": "2020-06-04T20:01:23.459465Z"
    }
   },
   "outputs": [
    {
     "data": {
      "text/html": [
       "<div>\n",
       "<style scoped>\n",
       "    .dataframe tbody tr th:only-of-type {\n",
       "        vertical-align: middle;\n",
       "    }\n",
       "\n",
       "    .dataframe tbody tr th {\n",
       "        vertical-align: top;\n",
       "    }\n",
       "\n",
       "    .dataframe thead th {\n",
       "        text-align: right;\n",
       "    }\n",
       "</style>\n",
       "<table border=\"1\" class=\"dataframe\">\n",
       "  <thead>\n",
       "    <tr style=\"text-align: right;\">\n",
       "      <th></th>\n",
       "      <th>Date</th>\n",
       "      <th>Day</th>\n",
       "      <th>Country</th>\n",
       "      <th>Deaths</th>\n",
       "      <th>Cases</th>\n",
       "    </tr>\n",
       "  </thead>\n",
       "  <tbody>\n",
       "    <tr>\n",
       "      <th>124</th>\n",
       "      <td>2015-01-03</td>\n",
       "      <td>287</td>\n",
       "      <td>Liberia</td>\n",
       "      <td>3496.0</td>\n",
       "      <td>8166.0</td>\n",
       "    </tr>\n",
       "    <tr>\n",
       "      <th>125</th>\n",
       "      <td>2015-01-02</td>\n",
       "      <td>286</td>\n",
       "      <td>Liberia</td>\n",
       "      <td>3496.0</td>\n",
       "      <td>8157.0</td>\n",
       "    </tr>\n",
       "    <tr>\n",
       "      <th>126</th>\n",
       "      <td>2014-12-31</td>\n",
       "      <td>284</td>\n",
       "      <td>Liberia</td>\n",
       "      <td>3471.0</td>\n",
       "      <td>8115.0</td>\n",
       "    </tr>\n",
       "    <tr>\n",
       "      <th>127</th>\n",
       "      <td>2014-12-28</td>\n",
       "      <td>281</td>\n",
       "      <td>Liberia</td>\n",
       "      <td>3423.0</td>\n",
       "      <td>8018.0</td>\n",
       "    </tr>\n",
       "    <tr>\n",
       "      <th>129</th>\n",
       "      <td>2014-12-24</td>\n",
       "      <td>277</td>\n",
       "      <td>Liberia</td>\n",
       "      <td>3413.0</td>\n",
       "      <td>7977.0</td>\n",
       "    </tr>\n",
       "    <tr>\n",
       "      <th>...</th>\n",
       "      <td>...</td>\n",
       "      <td>...</td>\n",
       "      <td>...</td>\n",
       "      <td>...</td>\n",
       "      <td>...</td>\n",
       "    </tr>\n",
       "    <tr>\n",
       "      <th>235</th>\n",
       "      <td>2014-04-01</td>\n",
       "      <td>10</td>\n",
       "      <td>Liberia</td>\n",
       "      <td>5.0</td>\n",
       "      <td>8.0</td>\n",
       "    </tr>\n",
       "    <tr>\n",
       "      <th>236</th>\n",
       "      <td>2014-03-31</td>\n",
       "      <td>9</td>\n",
       "      <td>Liberia</td>\n",
       "      <td>4.0</td>\n",
       "      <td>8.0</td>\n",
       "    </tr>\n",
       "    <tr>\n",
       "      <th>237</th>\n",
       "      <td>2014-03-29</td>\n",
       "      <td>7</td>\n",
       "      <td>Liberia</td>\n",
       "      <td>2.0</td>\n",
       "      <td>7.0</td>\n",
       "    </tr>\n",
       "    <tr>\n",
       "      <th>238</th>\n",
       "      <td>2014-03-28</td>\n",
       "      <td>6</td>\n",
       "      <td>Liberia</td>\n",
       "      <td>3.0</td>\n",
       "      <td>3.0</td>\n",
       "    </tr>\n",
       "    <tr>\n",
       "      <th>239</th>\n",
       "      <td>2014-03-27</td>\n",
       "      <td>5</td>\n",
       "      <td>Liberia</td>\n",
       "      <td>6.0</td>\n",
       "      <td>8.0</td>\n",
       "    </tr>\n",
       "  </tbody>\n",
       "</table>\n",
       "<p>79 rows × 5 columns</p>\n",
       "</div>"
      ],
      "text/plain": [
       "          Date  Day  Country  Deaths   Cases\n",
       "124 2015-01-03  287  Liberia  3496.0  8166.0\n",
       "125 2015-01-02  286  Liberia  3496.0  8157.0\n",
       "126 2014-12-31  284  Liberia  3471.0  8115.0\n",
       "127 2014-12-28  281  Liberia  3423.0  8018.0\n",
       "129 2014-12-24  277  Liberia  3413.0  7977.0\n",
       "..         ...  ...      ...     ...     ...\n",
       "235 2014-04-01   10  Liberia     5.0     8.0\n",
       "236 2014-03-31    9  Liberia     4.0     8.0\n",
       "237 2014-03-29    7  Liberia     2.0     7.0\n",
       "238 2014-03-28    6  Liberia     3.0     3.0\n",
       "239 2014-03-27    5  Liberia     6.0     8.0\n",
       "\n",
       "[79 rows x 5 columns]"
      ]
     },
     "execution_count": 157,
     "metadata": {},
     "output_type": "execute_result"
    }
   ],
   "source": [
    "Li"
   ]
  },
  {
   "cell_type": "code",
   "execution_count": 158,
   "metadata": {
    "ExecuteTime": {
     "end_time": "2020-06-04T20:01:24.388321Z",
     "start_time": "2020-06-04T20:01:24.117487Z"
    }
   },
   "outputs": [
    {
     "data": {
      "text/plain": [
       "Text(0, 0.5, 'Logarithmic case rate')"
      ]
     },
     "execution_count": 158,
     "metadata": {},
     "output_type": "execute_result"
    },
    {
     "data": {
      "image/png": "[encoded data removed]",
      "text/plain": [
       "<Figure size 432x288 with 1 Axes>"
      ]
     },
     "metadata": {
      "needs_background": "light"
     },
     "output_type": "display_data"
    }
   ],
   "source": [
    "plt.plot(Li[\"Day\"], np.log(Li[\"Cases\"]))\n",
    "plt.title('Logarithmic curve of case rate')\n",
    "plt.xlabel('Number of Day')\n",
    "plt.ylabel('Logarithmic case rate')"
   ]
  },
  {
   "cell_type": "code",
   "execution_count": 159,
   "metadata": {
    "ExecuteTime": {
     "end_time": "2020-06-04T20:01:25.176776Z",
     "start_time": "2020-06-04T20:01:24.916903Z"
    }
   },
   "outputs": [
    {
     "data": {
      "text/plain": [
       "Text(0, 0.5, 'Logarithmic death rate')"
      ]
     },
     "execution_count": 159,
     "metadata": {},
     "output_type": "execute_result"
    },
    {
     "data": {
      "image/png": "[encoded data removed]",
      "text/plain": [
       "<Figure size 432x288 with 1 Axes>"
      ]
     },
     "metadata": {
      "needs_background": "light"
     },
     "output_type": "display_data"
    }
   ],
   "source": [
    "plt.plot(Li[\"Day\"], np.log(Li[\"Deaths\"]))\n",
    "plt.title('Logarithmic curve of death rate')\n",
    "plt.xlabel('Number of Day')\n",
    "plt.ylabel('Logarithmic death rate')"
   ]
  },
  {
   "cell_type": "markdown",
   "metadata": {},
   "source": [
    "## For the first 100 days after the ebola outbreak, the situation was not so bad in Liberia but after that the number of cases and number of deaths skyrocketed. "
   ]
  },
  {
   "cell_type": "code",
   "execution_count": null,
   "metadata": {},
   "outputs": [],
   "source": []
  },
  {
   "cell_type": "code",
   "execution_count": null,
   "metadata": {},
   "outputs": [],
   "source": []
  }
 ],
 "metadata": {
  "kernelspec": {
   "display_name": "Python 3",
   "language": "python",
   "name": "python3"
  },
  "language_info": {
   "codemirror_mode": {
    "name": "ipython",
    "version": 3
   },
   "file_extension": ".py",
   "mimetype": "text/x-python",
   "name": "python",
   "nbconvert_exporter": "python",
   "pygments_lexer": "ipython3",
   "version": "3.7.4"
  },
  "varInspector": {
   "cols": {
    "lenName": 16,
    "lenType": 16,
    "lenVar": 40
   },
   "kernels_config": {
    "python": {
     "delete_cmd_postfix": "",
     "delete_cmd_prefix": "del ",
     "library": "var_list.py",
     "varRefreshCmd": "print(var_dic_list())"
    },
    "r": {
     "delete_cmd_postfix": ") ",
     "delete_cmd_prefix": "rm(",
     "library": "var_list.r",
     "varRefreshCmd": "cat(var_dic_list()) "
    }
   },
   "types_to_exclude": [
    "module",
    "function",
    "builtin_function_or_method",
    "instance",
    "_Feature"
   ],
   "window_display": false
  }
 },
 "nbformat": 4,
 "nbformat_minor": 4
}
