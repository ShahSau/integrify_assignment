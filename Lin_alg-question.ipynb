{
 "cells": [
  {
   "cell_type": "code",
   "execution_count": 1,
   "metadata": {
    "ExecuteTime": {
     "end_time": "2020-05-22T10:59:27.408051Z",
     "start_time": "2020-05-22T10:59:27.105239Z"
    }
   },
   "outputs": [],
   "source": [
    "import numpy as np"
   ]
  },
  {
   "cell_type": "markdown",
   "metadata": {},
   "source": [
    "# 1 Linear algebra basic assignment:\n",
    "\n",
    "  TODO: Solve the given problem and as well write down the markdown explaining the term and its equation in latex form.\n",
    "  \n",
    "  should incliude:\n",
    "   -   what is \n",
    "   -   proprty of\n",
    "   -   formula\n",
    "      \n",
    "  eg: Transpose of matrix: \n",
    "      - what is Transpose? \n",
    "      - formula for Transpose\n",
    "      - Properties of Transpose\n",
    "https://www.web-formulas.com/Math_Formulas/Linear_Algebra_Properties_of_Transposes.aspx"
   ]
  },
  {
   "cell_type": "code",
   "execution_count": null,
   "metadata": {},
   "outputs": [],
   "source": []
  },
  {
   "cell_type": "markdown",
   "metadata": {},
   "source": [
    "# 2 Define a symmertic 3x3 matric and print the transpose of the symmetric matrix"
   ]
  },
  {
   "cell_type": "markdown",
   "metadata": {},
   "source": [
    "In linear algebra, a symmetric matrix is a square matrix that is equal to its transpose. https://blog.sopticek.net/2016/07/24/implementing-symmetric-matrix-in-python/"
   ]
  },
  {
   "cell_type": "markdown",
   "metadata": {},
   "source": [
    "When top-right triangle and bottom left triangle of a matrix is same, it is called a symmetric matrix. In symmertic matrix, the main diagonal of the matrix is the axis of  symmetry. A symmetric matrix is always square and equal to its own transpose. "
   ]
  },
  {
   "cell_type": "markdown",
   "metadata": {},
   "source": [
    "The transpose of a matrix is a new matrix whose rows are the columns of the original. (This makes the columns of the new matrix the rows of the original). transpose of a matrix is denoted by, T, $M^T$. A defined matrix can be transposed, which creates a new matrix with the number of columnsand rows flipped. "
   ]
  },
  {
   "cell_type": "code",
   "execution_count": 2,
   "metadata": {
    "ExecuteTime": {
     "end_time": "2020-05-22T10:59:27.414768Z",
     "start_time": "2020-05-22T10:59:27.410975Z"
    }
   },
   "outputs": [],
   "source": [
    "from numpy import array"
   ]
  },
  {
   "cell_type": "code",
   "execution_count": 3,
   "metadata": {
    "ExecuteTime": {
     "end_time": "2020-05-22T10:59:27.424302Z",
     "start_time": "2020-05-22T10:59:27.418160Z"
    }
   },
   "outputs": [
    {
     "name": "stdout",
     "output_type": "stream",
     "text": [
      "[[1 2 3]\n",
      " [1 2 1]\n",
      " [3 2 1]]\n"
     ]
    }
   ],
   "source": [
    "M = array([[1, 2, 3],[1, 2, 1],[3, 2, 1]])\n",
    "print(M)"
   ]
  },
  {
   "cell_type": "code",
   "execution_count": 4,
   "metadata": {
    "ExecuteTime": {
     "end_time": "2020-05-22T10:59:27.440907Z",
     "start_time": "2020-05-22T10:59:27.428734Z"
    }
   },
   "outputs": [
    {
     "data": {
      "text/plain": [
       "array([[1, 1, 3],\n",
       "       [2, 2, 2],\n",
       "       [3, 1, 1]])"
      ]
     },
     "execution_count": 4,
     "metadata": {},
     "output_type": "execute_result"
    }
   ],
   "source": [
    "M.T"
   ]
  },
  {
   "cell_type": "code",
   "execution_count": null,
   "metadata": {},
   "outputs": [],
   "source": []
  },
  {
   "cell_type": "markdown",
   "metadata": {},
   "source": [
    "# 3 With the 3x3 matrix calculate the \n",
    "- lower traingular matrix\n",
    "- upper triangular matrix"
   ]
  },
  {
   "cell_type": "markdown",
   "metadata": {},
   "source": [
    "https://www.web-formulas.com/Math_Formulas/Linear_Algebra_Definition_of_Triangular_Matrices.aspx"
   ]
  },
  {
   "cell_type": "markdown",
   "metadata": {},
   "source": [
    "A triangular matrix is a type of square matrix that has all values in the upper-right or lower-leftof the matrix with the remaining elements filled with zero values.  A triangular matrix with values only above the main diagonal is called an upper triangular matrix.  Whereas, a triangularmatrix with values only below the main diagonal is called a lower triangular matrix.  The inverse of a lower/upper triangular matrix is also lower/upper triangular matrix. But, The transpose of an upper/lower triangular matrix is lower/upper triangular matrix."
   ]
  },
  {
   "cell_type": "code",
   "execution_count": 5,
   "metadata": {
    "ExecuteTime": {
     "end_time": "2020-05-22T10:59:27.454053Z",
     "start_time": "2020-05-22T10:59:27.445471Z"
    }
   },
   "outputs": [
    {
     "name": "stdout",
     "output_type": "stream",
     "text": [
      "[[1 2 3]\n",
      " [1 2 3]\n",
      " [1 2 3]]\n"
     ]
    }
   ],
   "source": [
    "from numpy import array\n",
    "from numpy import tril\n",
    "from numpy import triu\n",
    "M = array([[1, 2, 3],[1, 2, 3],[1, 2, 3]])\n",
    "print(M)"
   ]
  },
  {
   "cell_type": "code",
   "execution_count": 6,
   "metadata": {
    "ExecuteTime": {
     "end_time": "2020-05-22T10:59:27.463831Z",
     "start_time": "2020-05-22T10:59:27.458028Z"
    }
   },
   "outputs": [
    {
     "data": {
      "text/plain": [
       "array([[1, 0, 0],\n",
       "       [1, 2, 0],\n",
       "       [1, 2, 3]])"
      ]
     },
     "execution_count": 6,
     "metadata": {},
     "output_type": "execute_result"
    }
   ],
   "source": [
    "# lower triangular matrix\n",
    "lower = tril(M)\n",
    "lower"
   ]
  },
  {
   "cell_type": "code",
   "execution_count": 7,
   "metadata": {
    "ExecuteTime": {
     "end_time": "2020-05-22T10:59:27.470690Z",
     "start_time": "2020-05-22T10:59:27.466180Z"
    }
   },
   "outputs": [
    {
     "name": "stdout",
     "output_type": "stream",
     "text": [
      "[[1 2 3]\n",
      " [0 2 3]\n",
      " [0 0 3]]\n"
     ]
    }
   ],
   "source": [
    "# upper triangular matrix\n",
    "upper = triu(M)\n",
    "print(upper)"
   ]
  },
  {
   "cell_type": "code",
   "execution_count": null,
   "metadata": {},
   "outputs": [],
   "source": []
  },
  {
   "cell_type": "markdown",
   "metadata": {},
   "source": [
    "# 4 Define a 5x3 matrix and get the :\n",
    "- diagonal vector\n",
    "- get diagonal matrix form vector"
   ]
  },
  {
   "cell_type": "markdown",
   "metadata": {},
   "source": [
    "A diagonal matrix is one where values outside of the main diagonal have a zero value, where themain diagonal is taken from the top left of the matrix to the bottom right. A diagonal matrix does not have to be square.  In the case of a rectangular matrix, thediagonal would cover the dimension with the smallest length. \n",
    "+ Transpose of the diagonal matrix D is as the same matrix, D = $D^T$. \n",
    "+ Under Multiplication, Diagonal Matrices are cumulative. I. e AB = BA"
   ]
  },
  {
   "cell_type": "code",
   "execution_count": 8,
   "metadata": {
    "ExecuteTime": {
     "end_time": "2020-05-22T10:59:27.495033Z",
     "start_time": "2020-05-22T10:59:27.480479Z"
    }
   },
   "outputs": [
    {
     "name": "stdout",
     "output_type": "stream",
     "text": [
      "[[1 2 3]\n",
      " [1 2 3]\n",
      " [1 2 3]]\n"
     ]
    }
   ],
   "source": [
    "from numpy import diag\n",
    "M = array([[1, 2, 3],[1, 2, 3],[1, 2, 3]])\n",
    "print(M)"
   ]
  },
  {
   "cell_type": "code",
   "execution_count": 9,
   "metadata": {
    "ExecuteTime": {
     "end_time": "2020-05-22T10:59:27.515823Z",
     "start_time": "2020-05-22T10:59:27.508283Z"
    }
   },
   "outputs": [
    {
     "name": "stdout",
     "output_type": "stream",
     "text": [
      "[1 2 3]\n"
     ]
    }
   ],
   "source": [
    "#diagonal vector\n",
    "d = diag(M)\n",
    "print(d)"
   ]
  },
  {
   "cell_type": "code",
   "execution_count": 10,
   "metadata": {
    "ExecuteTime": {
     "end_time": "2020-05-22T10:59:27.528660Z",
     "start_time": "2020-05-22T10:59:27.522517Z"
    }
   },
   "outputs": [
    {
     "name": "stdout",
     "output_type": "stream",
     "text": [
      "[[1 0 0]\n",
      " [0 2 0]\n",
      " [0 0 3]]\n"
     ]
    }
   ],
   "source": [
    "#diagonal matrix from vector\n",
    "D = diag(d)\n",
    "print(D)"
   ]
  },
  {
   "cell_type": "code",
   "execution_count": null,
   "metadata": {},
   "outputs": [],
   "source": []
  },
  {
   "cell_type": "markdown",
   "metadata": {},
   "source": [
    "#  5create a Identiy matrix"
   ]
  },
  {
   "cell_type": "markdown",
   "metadata": {},
   "source": [
    "Identity Matrix is the matrix which is n × n square matrix where the diagonal consist of ones and the other elements are all zeros. It is also called as a Unit Matrix or Elementary matrix. An identity matrix is a square matrix that does not change a vector when multiplied. \n",
    "+ The identity matrix is always a square matrix\n",
    "+ Multiplying any matrix by the identity results in the matrix itself\n",
    "+ The product of two inverse matrices is always the identity"
   ]
  },
  {
   "cell_type": "code",
   "execution_count": 11,
   "metadata": {
    "ExecuteTime": {
     "end_time": "2020-05-22T10:59:27.544706Z",
     "start_time": "2020-05-22T10:59:27.537133Z"
    }
   },
   "outputs": [
    {
     "data": {
      "text/plain": [
       "array([[1., 0., 0., 0.],\n",
       "       [0., 1., 0., 0.],\n",
       "       [0., 0., 1., 0.],\n",
       "       [0., 0., 0., 1.]])"
      ]
     },
     "execution_count": 11,
     "metadata": {},
     "output_type": "execute_result"
    }
   ],
   "source": [
    "I=np.identity(4)\n",
    "I"
   ]
  },
  {
   "cell_type": "code",
   "execution_count": null,
   "metadata": {},
   "outputs": [],
   "source": []
  },
  {
   "cell_type": "markdown",
   "metadata": {},
   "source": [
    "# 6 Define a orthogonal matrix and get:\n",
    "- inverse of matrix\n",
    "- show that\n",
    " $Q.Q^T=I$ \n",
    " \n",
    " where Q is the orthogonal matrix"
   ]
  },
  {
   "cell_type": "markdown",
   "metadata": {},
   "source": [
    "When the product of a matrix to its transpose gives identity value, then the matrix is said to be an orthogonal matrix. An orthogonal matrix is a square matrix whose rows are mutually orthonormal andwhose columns are mutually orthonormal.\n",
    "+ This property of orthogonal is only applicable for the square matrix and orthogonal matrix is a symmetric matrix always.\n",
    "+ The product of two orthogonal matrices is also an orthogonal matrix\n",
    "+ The transpose of the orthogonal matrix is also orthogonal. Thus, if matrix A is orthogonal, then is $A^T$ is also an orthogonal matrix.\n",
    "+ In the same way, the inverse of the orthogonal matrix which is $A^-1$ is also an orthogonal matrix.\n",
    "+ The determinant of the orthogonal matrix has value $±1$.\n",
    "\n",
    "<i>if the dot product of a matrix and its transpose is equal to an Identity matrix, then the matrix is a orthoginal matrix.</i>"
   ]
  },
  {
   "cell_type": "code",
   "execution_count": 12,
   "metadata": {
    "ExecuteTime": {
     "end_time": "2020-05-22T10:59:27.559569Z",
     "start_time": "2020-05-22T10:59:27.551630Z"
    }
   },
   "outputs": [
    {
     "name": "stdout",
     "output_type": "stream",
     "text": [
      "[[ 1  0]\n",
      " [ 0 -1]]\n"
     ]
    }
   ],
   "source": [
    "from numpy.linalg import inv\n",
    "#orthogonal matrix\n",
    "Q = array([[1, 0],[0, -1]])\n",
    "print(Q)"
   ]
  },
  {
   "cell_type": "code",
   "execution_count": 13,
   "metadata": {
    "ExecuteTime": {
     "end_time": "2020-05-22T10:59:27.570373Z",
     "start_time": "2020-05-22T10:59:27.563351Z"
    }
   },
   "outputs": [
    {
     "name": "stdout",
     "output_type": "stream",
     "text": [
      "[[ 1.  0.]\n",
      " [-0. -1.]]\n"
     ]
    }
   ],
   "source": [
    "# inverse equivalence\n",
    "V = inv(Q)\n",
    "#print(Q.T)\n",
    "print(V)"
   ]
  },
  {
   "cell_type": "code",
   "execution_count": 14,
   "metadata": {
    "ExecuteTime": {
     "end_time": "2020-05-22T10:59:27.582147Z",
     "start_time": "2020-05-22T10:59:27.574766Z"
    }
   },
   "outputs": [
    {
     "name": "stdout",
     "output_type": "stream",
     "text": [
      "[[1. 0.]\n",
      " [0. 1.]]\n"
     ]
    }
   ],
   "source": [
    "# identity equivalence\n",
    "I = Q.dot(V)\n",
    "print(I)"
   ]
  },
  {
   "cell_type": "code",
   "execution_count": null,
   "metadata": {},
   "outputs": [],
   "source": []
  },
  {
   "cell_type": "markdown",
   "metadata": {},
   "source": [
    "# 7 Define a matrix and calulate the trace of matrix"
   ]
  },
  {
   "cell_type": "markdown",
   "metadata": {},
   "source": [
    "Trace of a matrix\n",
    "The trace of a square matrix is the sum of its diagonal elements.\n",
    "https://www.statlect.com/matrix-algebra/trace-of-a-matrix"
   ]
  },
  {
   "cell_type": "markdown",
   "metadata": {},
   "source": [
    "A trace of a square matrix is the sum of the values on the main diagonal of the matrix (top-leftto bottom-right).The trace is calculated as the sum of the diagonal values; for example, in the case of a 3×3matrix:\n",
    "trace of matrix) =a1,1+a2,2+a3,3"
   ]
  },
  {
   "cell_type": "code",
   "execution_count": 15,
   "metadata": {
    "ExecuteTime": {
     "end_time": "2020-05-22T10:59:27.596373Z",
     "start_time": "2020-05-22T10:59:27.588214Z"
    }
   },
   "outputs": [
    {
     "name": "stdout",
     "output_type": "stream",
     "text": [
      "[[1 2 3]\n",
      " [1 2 3]\n",
      " [1 2 3]]\n",
      "6\n"
     ]
    }
   ],
   "source": [
    "M = array([[1, 2, 3],[1, 2, 3],[1, 2, 3]])             \n",
    "# applying matrix.trace() method \n",
    "print(M)\n",
    "trace = M.trace() \n",
    "    \n",
    "print(trace)"
   ]
  },
  {
   "cell_type": "code",
   "execution_count": null,
   "metadata": {},
   "outputs": [],
   "source": []
  },
  {
   "cell_type": "markdown",
   "metadata": {},
   "source": [
    "# 8 define a 3x3 matrix and calc determinant, ie not invertable"
   ]
  },
  {
   "cell_type": "markdown",
   "metadata": {},
   "source": [
    "The determinant of a square matrix is a scalar representation of the volume of the matrix.\n",
    "if the matrix is A= |(a b c), (d e f), (g h i)|. \n",
    "then determinant is\n",
    "|A| = a(ei − fh) − b(di − fg) + c(dh − eg)\n"
   ]
  },
  {
   "cell_type": "code",
   "execution_count": 16,
   "metadata": {
    "ExecuteTime": {
     "end_time": "2020-05-22T10:59:27.607473Z",
     "start_time": "2020-05-22T10:59:27.601038Z"
    }
   },
   "outputs": [
    {
     "name": "stdout",
     "output_type": "stream",
     "text": [
      "[[ 6  4  5]\n",
      " [ 4  6  6]\n",
      " [ 7  5 10]]\n"
     ]
    }
   ],
   "source": [
    "from numpy.linalg import det\n",
    "# define matrix\n",
    "A = array([[6, 4, 5],[4, 6, 6],[7, 5, 10]])\n",
    "print(A)\n"
   ]
  },
  {
   "cell_type": "code",
   "execution_count": 17,
   "metadata": {
    "ExecuteTime": {
     "end_time": "2020-05-22T10:59:27.617763Z",
     "start_time": "2020-05-22T10:59:27.611496Z"
    }
   },
   "outputs": [
    {
     "name": "stdout",
     "output_type": "stream",
     "text": [
      "78.0\n"
     ]
    }
   ],
   "source": [
    "# calculate determinant\n",
    "B = det(A)\n",
    "print(B)"
   ]
  },
  {
   "cell_type": "code",
   "execution_count": null,
   "metadata": {},
   "outputs": [],
   "source": []
  },
  {
   "cell_type": "markdown",
   "metadata": {},
   "source": [
    "# 9 create a 2x2 matrix , 1x3 matrix and calculate the rank of the matrix"
   ]
  },
  {
   "cell_type": "markdown",
   "metadata": {},
   "source": [
    "The rank of a matrix is the estimate of the number of linearly independent rows or columns ina matrix.  An intuition for rank is to consider it the number of dimensions spanned by all of the vectorswithin a matrix.  For example, a rank of 0 suggest all vectors span a point, a rank of 1 suggestsall vectors span a line, a rank of 2 suggests all vectors span a two-dimensional plane."
   ]
  },
  {
   "cell_type": "code",
   "execution_count": 18,
   "metadata": {
    "ExecuteTime": {
     "end_time": "2020-05-22T10:59:27.627976Z",
     "start_time": "2020-05-22T10:59:27.623849Z"
    }
   },
   "outputs": [],
   "source": [
    "from numpy.linalg import matrix_rank"
   ]
  },
  {
   "cell_type": "code",
   "execution_count": 19,
   "metadata": {
    "ExecuteTime": {
     "end_time": "2020-05-22T10:59:27.643227Z",
     "start_time": "2020-05-22T10:59:27.631499Z"
    }
   },
   "outputs": [
    {
     "name": "stdout",
     "output_type": "stream",
     "text": [
      "[[6 4]\n",
      " [4 6]]\n",
      "2\n"
     ]
    }
   ],
   "source": [
    "A = array([[6, 4],[4, 6]])\n",
    "print(A)\n",
    "vr1 = matrix_rank(A)\n",
    "print(vr1)"
   ]
  },
  {
   "cell_type": "code",
   "execution_count": 20,
   "metadata": {
    "ExecuteTime": {
     "end_time": "2020-05-22T10:59:27.657105Z",
     "start_time": "2020-05-22T10:59:27.649011Z"
    }
   },
   "outputs": [
    {
     "name": "stdout",
     "output_type": "stream",
     "text": [
      "[1 2 3]\n",
      "1\n"
     ]
    }
   ],
   "source": [
    "v1 = array([1,2,3])\n",
    "print(v1)\n",
    "vr1 = matrix_rank(v1)\n",
    "print(vr1)"
   ]
  },
  {
   "cell_type": "code",
   "execution_count": null,
   "metadata": {},
   "outputs": [],
   "source": []
  },
  {
   "cell_type": "markdown",
   "metadata": {},
   "source": [
    "# 10 create a 3*6 matrix with zeros and ones and count the zeros in matrix \n",
    "- also find the size of matrix\n",
    "- calculate the matrix sparsity: count of zeros/size of matrix"
   ]
  },
  {
   "cell_type": "markdown",
   "metadata": {},
   "source": [
    "A sparse matrix is a matrix that is comprised of mostly zero values.  Sparse matrices are distinctfrom matrices with mostly non-zero values, which are referred to as dense matrices. The sparsity of a matrix can be quantified with a score, which is the number of zero valuesin the matrix divided by the total number of elements in the matrix."
   ]
  },
  {
   "cell_type": "code",
   "execution_count": 21,
   "metadata": {
    "ExecuteTime": {
     "end_time": "2020-05-22T10:59:27.669174Z",
     "start_time": "2020-05-22T10:59:27.662217Z"
    }
   },
   "outputs": [
    {
     "name": "stdout",
     "output_type": "stream",
     "text": [
      "[[1 0 0 1 0 0]\n",
      " [0 0 2 0 0 1]\n",
      " [0 0 0 2 0 0]]\n"
     ]
    }
   ],
   "source": [
    "from numpy import count_nonzero\n",
    "# create dense matrix\n",
    "A = array([[1, 0, 0, 1, 0, 0],[0, 0, 2, 0, 0, 1],[0, 0, 0, 2, 0, 0]])\n",
    "print(A)\n"
   ]
  },
  {
   "cell_type": "code",
   "execution_count": 22,
   "metadata": {
    "ExecuteTime": {
     "end_time": "2020-05-22T10:59:27.678708Z",
     "start_time": "2020-05-22T10:59:27.673201Z"
    }
   },
   "outputs": [
    {
     "name": "stdout",
     "output_type": "stream",
     "text": [
      "0.7222222222222222\n"
     ]
    }
   ],
   "source": [
    "# calculate sparsity\n",
    "sparsity = 1.0 - count_nonzero(A) / A.size\n",
    "print(sparsity)"
   ]
  },
  {
   "cell_type": "code",
   "execution_count": null,
   "metadata": {},
   "outputs": [],
   "source": []
  },
  {
   "cell_type": "markdown",
   "metadata": {},
   "source": [
    "# 11 convert the sparse using csr method and again reconstruct to dense\n",
    "A = array([\n",
    "    [1, 0, 0, 1, 0, 0],\n",
    "    [0, 0, 2, 0, 0, 1],\n",
    "    [0, 0, 0, 2, 0, 0]\n",
    "]) #dense matrix"
   ]
  },
  {
   "cell_type": "markdown",
   "metadata": {},
   "source": [
    "Compressed Sparse Row(CSR):  The sparse matrix is represented using three one-dimensionalarrays for the non-zero values, the extents of the rows, and the column indexes."
   ]
  },
  {
   "cell_type": "code",
   "execution_count": 23,
   "metadata": {
    "ExecuteTime": {
     "end_time": "2020-05-22T10:59:27.822055Z",
     "start_time": "2020-05-22T10:59:27.710960Z"
    }
   },
   "outputs": [
    {
     "name": "stdout",
     "output_type": "stream",
     "text": [
      "[[1 0 0 1 0 0]\n",
      " [0 0 2 0 0 1]\n",
      " [0 0 0 2 0 0]]\n"
     ]
    }
   ],
   "source": [
    "from scipy.sparse import csr_matrix\n",
    "A = array ([[1, 0, 0, 1, 0, 0], [0, 0, 2, 0, 0, 1], [0, 0, 0, 2, 0, 0]])\n",
    "print(A)"
   ]
  },
  {
   "cell_type": "code",
   "execution_count": 24,
   "metadata": {
    "ExecuteTime": {
     "end_time": "2020-05-22T10:59:27.844011Z",
     "start_time": "2020-05-22T10:59:27.838802Z"
    }
   },
   "outputs": [
    {
     "name": "stdout",
     "output_type": "stream",
     "text": [
      "  (0, 0)\t1\n",
      "  (0, 3)\t1\n",
      "  (1, 2)\t2\n",
      "  (1, 5)\t1\n",
      "  (2, 3)\t2\n"
     ]
    }
   ],
   "source": [
    "# convert to sparse matrix (CSR method)\n",
    "S = csr_matrix(A)\n",
    "print(S)\n"
   ]
  },
  {
   "cell_type": "code",
   "execution_count": 25,
   "metadata": {
    "ExecuteTime": {
     "end_time": "2020-05-22T10:59:27.853627Z",
     "start_time": "2020-05-22T10:59:27.847159Z"
    }
   },
   "outputs": [
    {
     "name": "stdout",
     "output_type": "stream",
     "text": [
      "[[1 0 0 1 0 0]\n",
      " [0 0 2 0 0 1]\n",
      " [0 0 0 2 0 0]]\n"
     ]
    }
   ],
   "source": [
    "# reconstruct dense matrix\n",
    "B = S.todense()\n",
    "print(B)"
   ]
  },
  {
   "cell_type": "code",
   "execution_count": null,
   "metadata": {},
   "outputs": [],
   "source": []
  },
  {
   "cell_type": "markdown",
   "metadata": {},
   "source": [
    "# 12 define a tensor of matrix of shape (3,3,3)"
   ]
  },
  {
   "cell_type": "markdown",
   "metadata": {},
   "source": [
    "https://www.tensorflow.org/guide/tensor"
   ]
  },
  {
   "cell_type": "markdown",
   "metadata": {
    "ExecuteTime": {
     "end_time": "2020-05-18T13:29:11.485334Z",
     "start_time": "2020-05-18T13:28:58.383167Z"
    }
   },
   "source": [
    "A tensor is a generalization of vectors and matrices and is easily understood as a multidimensionalarray.In the general case, an array of numbers arranged on a regular grid with a variablenumber of axes is known as a tensor. A vector is a one-dimensional or first order tensor and a matrix is a two-dimensional or secondorder tensor."
   ]
  },
  {
   "cell_type": "code",
   "execution_count": 26,
   "metadata": {
    "ExecuteTime": {
     "end_time": "2020-05-22T10:59:27.868714Z",
     "start_time": "2020-05-22T10:59:27.857917Z"
    }
   },
   "outputs": [
    {
     "name": "stdout",
     "output_type": "stream",
     "text": [
      "(3, 3, 3)\n",
      "[[[ 1  2  3]\n",
      "  [ 4  5  6]\n",
      "  [ 7  8  9]]\n",
      "\n",
      " [[11 12 13]\n",
      "  [14 15 16]\n",
      "  [17 18 19]]\n",
      "\n",
      " [[21 22 23]\n",
      "  [24 25 26]\n",
      "  [27 28 29]]]\n"
     ]
    }
   ],
   "source": [
    "T = array([[[1,2,3],   [4,5,6],   [7,8,9]],\n",
    "           [[11,12,13], [14,15,16], [17,18,19]],\n",
    "           [[21,22,23], [24,25,26], [27,28,29]]])\n",
    "print(T.shape)\n",
    "print(T)"
   ]
  },
  {
   "cell_type": "markdown",
   "metadata": {},
   "source": [
    "# 13 create a 2 tensor of size (3,3,3) and perform:\n",
    "- tensor additon\n",
    "- tensor substraction\n"
   ]
  },
  {
   "cell_type": "markdown",
   "metadata": {},
   "source": [
    "The element-wise addition of two tensors with the same dimensions results in a new tensor withthe same dimensions where each scalar value is the element-wise addition of the scalars in theparent tensors."
   ]
  },
  {
   "cell_type": "code",
   "execution_count": 27,
   "metadata": {
    "ExecuteTime": {
     "end_time": "2020-05-22T10:59:27.883503Z",
     "start_time": "2020-05-22T10:59:27.872914Z"
    }
   },
   "outputs": [
    {
     "name": "stdout",
     "output_type": "stream",
     "text": [
      "[[[ 2  4  6]\n",
      "  [ 8 10 12]\n",
      "  [14 16 18]]\n",
      "\n",
      " [[22 24 26]\n",
      "  [28 30 32]\n",
      "  [34 36 38]]\n",
      "\n",
      " [[42 44 46]\n",
      "  [48 50 52]\n",
      "  [54 56 58]]]\n"
     ]
    }
   ],
   "source": [
    "A = array([[[1,2,3],   [4,5,6],   [7,8,9]],\n",
    "           [[11,12,13], [14,15,16], [17,18,19]],\n",
    "           [[21,22,23], [24,25,26], [27,28,29]]])\n",
    "B = array([[[1,2,3],   [4,5,6],   [7,8,9]],\n",
    "           [[11,12,13], [14,15,16], [17,18,19]],\n",
    "           [[21,22,23], [24,25,26], [27,28,29]]])\n",
    "C = A + B\n",
    "print(C)"
   ]
  },
  {
   "cell_type": "markdown",
   "metadata": {},
   "source": [
    "The element-wise subtraction of one tensor from another tensor with the same dimensionsresults in a new tensor with the same dimensions where each scalar value is the element-wisesubtraction of the scalars in the parent tensors."
   ]
  },
  {
   "cell_type": "code",
   "execution_count": 28,
   "metadata": {
    "ExecuteTime": {
     "end_time": "2020-05-22T10:59:27.892766Z",
     "start_time": "2020-05-22T10:59:27.887885Z"
    }
   },
   "outputs": [
    {
     "name": "stdout",
     "output_type": "stream",
     "text": [
      "[[[0 0 0]\n",
      "  [0 0 0]\n",
      "  [0 0 0]]\n",
      "\n",
      " [[0 0 0]\n",
      "  [0 0 0]\n",
      "  [0 0 0]]\n",
      "\n",
      " [[0 0 0]\n",
      "  [0 0 0]\n",
      "  [0 0 0]]]\n"
     ]
    }
   ],
   "source": [
    "C = A - B\n",
    "print(C)"
   ]
  },
  {
   "cell_type": "code",
   "execution_count": null,
   "metadata": {},
   "outputs": [],
   "source": []
  },
  {
   "cell_type": "markdown",
   "metadata": {},
   "source": [
    "# 14 perform a Hadamard Product for the above tensor"
   ]
  },
  {
   "cell_type": "markdown",
   "metadata": {},
   "source": [
    "The element-wise multiplication of one tensor with another tensor with the same dimensionsresults in a new tensor with the same dimensions where each scalar value is the element-wisemultiplication of the scalars in the parent tensors.  As with matrices, the operation is referred toas the Hadamard Product."
   ]
  },
  {
   "cell_type": "code",
   "execution_count": 29,
   "metadata": {
    "ExecuteTime": {
     "end_time": "2020-05-22T10:59:27.913734Z",
     "start_time": "2020-05-22T10:59:27.902392Z"
    }
   },
   "outputs": [
    {
     "name": "stdout",
     "output_type": "stream",
     "text": [
      "[[[  1   4   9]\n",
      "  [ 16  25  36]\n",
      "  [ 49  64  81]]\n",
      "\n",
      " [[121 144 169]\n",
      "  [196 225 256]\n",
      "  [289 324 361]]\n",
      "\n",
      " [[441 484 529]\n",
      "  [576 625 676]\n",
      "  [729 784 841]]]\n"
     ]
    }
   ],
   "source": [
    "C = A * B\n",
    "print(C)"
   ]
  },
  {
   "cell_type": "code",
   "execution_count": null,
   "metadata": {},
   "outputs": [],
   "source": []
  },
  {
   "cell_type": "markdown",
   "metadata": {
    "ExecuteTime": {
     "end_time": "2020-04-27T06:58:51.714494Z",
     "start_time": "2020-04-27T06:58:51.708674Z"
    }
   },
   "source": [
    "# 15 Perform a Tensor division for a tensor of shape  T1 and T2 of shape(4,3,3) "
   ]
  },
  {
   "cell_type": "markdown",
   "metadata": {},
   "source": [
    "The element-wise division of one tensor with another tensor with the same dimensions results ina new tensor with the same dimensions where each scalar value is the element-wise division ofthe scalars in the parent tensors."
   ]
  },
  {
   "cell_type": "code",
   "execution_count": 30,
   "metadata": {
    "ExecuteTime": {
     "end_time": "2020-05-22T10:59:27.955984Z",
     "start_time": "2020-05-22T10:59:27.922654Z"
    }
   },
   "outputs": [
    {
     "name": "stdout",
     "output_type": "stream",
     "text": [
      "(4, 3, 3)\n",
      "[[[ 1  2  3]\n",
      "  [ 4  5  6]\n",
      "  [ 7  8  9]]\n",
      "\n",
      " [[11 12 13]\n",
      "  [14 15 16]\n",
      "  [17 18 19]]\n",
      "\n",
      " [[11 12 13]\n",
      "  [14 15 16]\n",
      "  [17 18 19]]\n",
      "\n",
      " [[21 22 23]\n",
      "  [24 25 26]\n",
      "  [27 28 29]]]\n",
      "(4, 3, 3)\n",
      "[[[ 1  2  3]\n",
      "  [ 4  5  6]\n",
      "  [ 7  8  9]]\n",
      "\n",
      " [[11 12 13]\n",
      "  [14 15 16]\n",
      "  [17 18 19]]\n",
      "\n",
      " [[11 12 13]\n",
      "  [14 15 16]\n",
      "  [17 18 19]]\n",
      "\n",
      " [[21 22 23]\n",
      "  [24 25 26]\n",
      "  [27 28 29]]]\n"
     ]
    }
   ],
   "source": [
    "T = array([[[1,2,3],   [4,5,6],   [7,8,9]],\n",
    "           [[11,12,13], [14,15,16], [17,18,19]],\n",
    "           [[11,12,13], [14,15,16], [17,18,19]],\n",
    "           [[21,22,23], [24,25,26], [27,28,29]]])\n",
    "print(T.shape)\n",
    "print(T)\n",
    "B = array([[[1,2,3],   [4,5,6],   [7,8,9]],\n",
    "           [[11,12,13], [14,15,16], [17,18,19]],\n",
    "           [[11,12,13], [14,15,16], [17,18,19]],\n",
    "           [[21,22,23], [24,25,26], [27,28,29]]])\n",
    "print(B.shape)\n",
    "print(B)"
   ]
  },
  {
   "cell_type": "code",
   "execution_count": 31,
   "metadata": {
    "ExecuteTime": {
     "end_time": "2020-05-22T10:59:27.967218Z",
     "start_time": "2020-05-22T10:59:27.958719Z"
    }
   },
   "outputs": [
    {
     "name": "stdout",
     "output_type": "stream",
     "text": [
      "[[[1. 1. 1.]\n",
      "  [1. 1. 1.]\n",
      "  [1. 1. 1.]]\n",
      "\n",
      " [[1. 1. 1.]\n",
      "  [1. 1. 1.]\n",
      "  [1. 1. 1.]]\n",
      "\n",
      " [[1. 1. 1.]\n",
      "  [1. 1. 1.]\n",
      "  [1. 1. 1.]]\n",
      "\n",
      " [[1. 1. 1.]\n",
      "  [1. 1. 1.]\n",
      "  [1. 1. 1.]]]\n"
     ]
    }
   ],
   "source": [
    "c= T/B\n",
    "print(c)"
   ]
  },
  {
   "cell_type": "code",
   "execution_count": null,
   "metadata": {},
   "outputs": [],
   "source": []
  },
  {
   "cell_type": "markdown",
   "metadata": {},
   "source": [
    "# 16 define a 2 tensor of 2x2 and calculate the tensor product"
   ]
  },
  {
   "cell_type": "markdown",
   "metadata": {},
   "source": [
    "Given a tensor A with q dimensions and tensor B with r dimensions, the product of these tensors will be a new tensor with the order of q+ror, said another way,q+rdimensions.  The tensor product is not limited to tensors, but can also be performed on matricesand vectors."
   ]
  },
  {
   "cell_type": "code",
   "execution_count": 32,
   "metadata": {
    "ExecuteTime": {
     "end_time": "2020-05-22T10:59:27.984316Z",
     "start_time": "2020-05-22T10:59:27.973340Z"
    }
   },
   "outputs": [
    {
     "name": "stdout",
     "output_type": "stream",
     "text": [
      "[[1 2]\n",
      " [3 4]]\n",
      "\n",
      "[[3 4]\n",
      " [1 2]]\n"
     ]
    }
   ],
   "source": [
    "from numpy import tensordot\n",
    "A = array([[1,2],[3,4]])\n",
    "B = array([[3,4],[1,2]])\n",
    "print(A)\n",
    "print()\n",
    "print(B)"
   ]
  },
  {
   "cell_type": "code",
   "execution_count": 33,
   "metadata": {
    "ExecuteTime": {
     "end_time": "2020-05-22T10:59:27.997790Z",
     "start_time": "2020-05-22T10:59:27.990144Z"
    }
   },
   "outputs": [
    {
     "name": "stdout",
     "output_type": "stream",
     "text": [
      "[[[[ 3  4]\n",
      "   [ 1  2]]\n",
      "\n",
      "  [[ 6  8]\n",
      "   [ 2  4]]]\n",
      "\n",
      "\n",
      " [[[ 9 12]\n",
      "   [ 3  6]]\n",
      "\n",
      "  [[12 16]\n",
      "   [ 4  8]]]]\n"
     ]
    }
   ],
   "source": [
    "C = tensordot(A, B, axes=0)\n",
    "print(C)"
   ]
  },
  {
   "cell_type": "code",
   "execution_count": null,
   "metadata": {},
   "outputs": [],
   "source": []
  },
  {
   "cell_type": "markdown",
   "metadata": {},
   "source": [
    "# 17 calulate the factorization factors a matrix(Lu) decompostion for an array of shape 3x3\n",
    "- recostruct the original matrix from the decompostion"
   ]
  },
  {
   "cell_type": "markdown",
   "metadata": {},
   "source": [
    "The LU decomposition is for square matrices and decomposes a matrix into L and U components.\n",
    "A=L·U.Where A is the square matrix that we wish to decompose,Lis the lower triangle matrixandUis the upper triangle matrix.A variation of this decompositionthat is numerically more stable to solve in practice is called the LUP decomposition, or the LUdecomposition with partial pivoting.\n",
    "A=L·U·P.The rows of the parent matrix are re-ordered to simplify the decomposition process and theadditionalPmatrix specifies a way to permute the result or return the result to the originalorder.  There are also other variations of the LU. The LU decomposition is often used to simplifythe solving of systems of linear equations, such as finding the coefficients in a linear regression,as well as in calculating the determinant and inverse of a matrix"
   ]
  },
  {
   "cell_type": "code",
   "execution_count": 34,
   "metadata": {
    "ExecuteTime": {
     "end_time": "2020-05-22T10:59:28.050233Z",
     "start_time": "2020-05-22T10:59:28.003719Z"
    }
   },
   "outputs": [
    {
     "name": "stdout",
     "output_type": "stream",
     "text": [
      "[[1 2 3]\n",
      " [4 5 6]\n",
      " [7 8 9]]\n"
     ]
    }
   ],
   "source": [
    "from scipy.linalg import lu\n",
    "A = array([[1, 2, 3],\n",
    "           [4, 5, 6],\n",
    "           [7, 8, 9]])\n",
    "print(A)\n"
   ]
  },
  {
   "cell_type": "code",
   "execution_count": 35,
   "metadata": {
    "ExecuteTime": {
     "end_time": "2020-05-22T10:59:28.060013Z",
     "start_time": "2020-05-22T10:59:28.053769Z"
    }
   },
   "outputs": [
    {
     "name": "stdout",
     "output_type": "stream",
     "text": [
      "[[0. 1. 0.]\n",
      " [0. 0. 1.]\n",
      " [1. 0. 0.]]\n",
      "[[1.         0.         0.        ]\n",
      " [0.14285714 1.         0.        ]\n",
      " [0.57142857 0.5        1.        ]]\n",
      "[[ 7.00000000e+00  8.00000000e+00  9.00000000e+00]\n",
      " [ 0.00000000e+00  8.57142857e-01  1.71428571e+00]\n",
      " [ 0.00000000e+00  0.00000000e+00 -1.58603289e-16]]\n"
     ]
    }
   ],
   "source": [
    "P, L, U = lu(A)\n",
    "print(P)\n",
    "print(L)\n",
    "print(U)"
   ]
  },
  {
   "cell_type": "code",
   "execution_count": 36,
   "metadata": {
    "ExecuteTime": {
     "end_time": "2020-05-22T10:59:28.072451Z",
     "start_time": "2020-05-22T10:59:28.063767Z"
    }
   },
   "outputs": [
    {
     "name": "stdout",
     "output_type": "stream",
     "text": [
      "[[1. 2. 3.]\n",
      " [4. 5. 6.]\n",
      " [7. 8. 9.]]\n"
     ]
    }
   ],
   "source": [
    "B = P.dot(L).dot(U)\n",
    "print(B)"
   ]
  },
  {
   "cell_type": "code",
   "execution_count": null,
   "metadata": {},
   "outputs": [],
   "source": []
  },
  {
   "cell_type": "markdown",
   "metadata": {},
   "source": [
    "# 18 from a matrix of shape 3x2\n",
    "- calculate the QR decompostion\n",
    "- reconstruct the original matrix"
   ]
  },
  {
   "cell_type": "markdown",
   "metadata": {},
   "source": [
    "The QR decomposition is forn×mmatrices (not limited to square matrices) and decomposesa matrix intoQandRcomponents.A=Q·R. WhereAis the matrix that we wish to decompose,Qa matrix with the sizem×m, andRisan upper triangle matrix with the sizem×n.  The QR decomposition is found using an iterativenumerical method that can fail for those matrices that cannot be decomposed, or decomposedeasily.  Like the LU decomposition, the QR decomposition is often used to solve systems oflinear equations, although is not limited to square matrices."
   ]
  },
  {
   "cell_type": "code",
   "execution_count": 37,
   "metadata": {
    "ExecuteTime": {
     "end_time": "2020-05-22T10:59:28.085935Z",
     "start_time": "2020-05-22T10:59:28.077924Z"
    }
   },
   "outputs": [
    {
     "name": "stdout",
     "output_type": "stream",
     "text": [
      "[[1 2]\n",
      " [3 4]\n",
      " [5 6]]\n"
     ]
    }
   ],
   "source": [
    "from numpy.linalg import qr\n",
    "A = array([[1, 2],\n",
    "           [3, 4],\n",
    "           [5, 6]])\n",
    "print(A)"
   ]
  },
  {
   "cell_type": "code",
   "execution_count": 38,
   "metadata": {
    "ExecuteTime": {
     "end_time": "2020-05-22T10:59:28.103750Z",
     "start_time": "2020-05-22T10:59:28.093459Z"
    }
   },
   "outputs": [
    {
     "name": "stdout",
     "output_type": "stream",
     "text": [
      "[[-0.16903085  0.89708523  0.40824829]\n",
      " [-0.50709255  0.27602622 -0.81649658]\n",
      " [-0.84515425 -0.34503278  0.40824829]]\n",
      "[[-5.91607978 -7.43735744]\n",
      " [ 0.          0.82807867]\n",
      " [ 0.          0.        ]]\n"
     ]
    }
   ],
   "source": [
    "Q, R = qr(A,'complete')\n",
    "print(Q)\n",
    "print(R)"
   ]
  },
  {
   "cell_type": "code",
   "execution_count": 39,
   "metadata": {
    "ExecuteTime": {
     "end_time": "2020-05-22T10:59:28.114190Z",
     "start_time": "2020-05-22T10:59:28.107696Z"
    }
   },
   "outputs": [
    {
     "name": "stdout",
     "output_type": "stream",
     "text": [
      "[[1. 2.]\n",
      " [3. 4.]\n",
      " [5. 6.]]\n"
     ]
    }
   ],
   "source": [
    "# reconstruct\n",
    "B = Q.dot(R)\n",
    "print(B)"
   ]
  },
  {
   "cell_type": "markdown",
   "metadata": {},
   "source": [
    "# 19 define a 3x3 matrix calculate:\n",
    "- cholesky decomposition using lower factorize\n",
    "- reconstruct the original matrix"
   ]
  },
  {
   "cell_type": "markdown",
   "metadata": {},
   "source": [
    "The Cholesky decomposition is for square symmetric matrices where all values are greater thanzero, so-called positive definite matrices.The decomposition is defined as follows:$A=L·L^T$.Where A is the matrix being decomposed,L is the lower triangular matrix and $L^T$ is thetranspose of L.  The decompose can also be written as the product of the upper triangular matrix, for example:$A=U^T·U$.Where U is the upper triangular matrix.  The Cholesky decomposition is used for solvinglinear least squares for linear regression, as well as simulation and optimization methods.  Whendecomposing symmetric matrices, the Cholesky decomposition is nearly twice as efficient as the LU decomposition and should be preferred in these cases."
   ]
  },
  {
   "cell_type": "code",
   "execution_count": 40,
   "metadata": {
    "ExecuteTime": {
     "end_time": "2020-05-22T10:59:28.125199Z",
     "start_time": "2020-05-22T10:59:28.119870Z"
    }
   },
   "outputs": [],
   "source": [
    "from numpy.linalg import cholesky"
   ]
  },
  {
   "cell_type": "code",
   "execution_count": 41,
   "metadata": {
    "ExecuteTime": {
     "end_time": "2020-05-22T10:59:28.136874Z",
     "start_time": "2020-05-22T10:59:28.129313Z"
    }
   },
   "outputs": [
    {
     "name": "stdout",
     "output_type": "stream",
     "text": [
      "[[2 1 1]\n",
      " [1 2 1]\n",
      " [1 1 2]]\n"
     ]
    }
   ],
   "source": [
    "A = array([[2, 1, 1],\n",
    "           [1, 2, 1],\n",
    "           [1, 1, 2]])\n",
    "print(A)"
   ]
  },
  {
   "cell_type": "code",
   "execution_count": 42,
   "metadata": {
    "ExecuteTime": {
     "end_time": "2020-05-22T10:59:28.148775Z",
     "start_time": "2020-05-22T10:59:28.143422Z"
    }
   },
   "outputs": [
    {
     "name": "stdout",
     "output_type": "stream",
     "text": [
      "[[1.41421356 0.         0.        ]\n",
      " [0.70710678 1.22474487 0.        ]\n",
      " [0.70710678 0.40824829 1.15470054]]\n"
     ]
    }
   ],
   "source": [
    "L = cholesky(A)\n",
    "print(L)"
   ]
  },
  {
   "cell_type": "code",
   "execution_count": 43,
   "metadata": {
    "ExecuteTime": {
     "end_time": "2020-05-22T10:59:28.158900Z",
     "start_time": "2020-05-22T10:59:28.153415Z"
    }
   },
   "outputs": [
    {
     "name": "stdout",
     "output_type": "stream",
     "text": [
      "[[2. 1. 1.]\n",
      " [1. 2. 1.]\n",
      " [1. 1. 2.]]\n"
     ]
    }
   ],
   "source": [
    "B = L.dot(L.T)\n",
    "print(B)"
   ]
  },
  {
   "cell_type": "code",
   "execution_count": null,
   "metadata": {},
   "outputs": [],
   "source": []
  },
  {
   "cell_type": "markdown",
   "metadata": {},
   "source": [
    "# 20 define a 3x3 matrix and calculate the:\n",
    "- eigendecomposition \n"
   ]
  },
  {
   "cell_type": "markdown",
   "metadata": {},
   "source": [
    "Eigendecomposition of a matrix is a type of decomposition that involves decomposing a squarematrix into a set of eigenvectors and eigenvalues.Eigenvectors are unit vectors, which means that their length or magnitude is equal to 1.0.  Theyare often referred as right vectors, which simply means a column vector (as opposed to a rowvector or a left vector).  A right-vector is a vector as we understand them.  Eigenvalues arecoefficients applied to eigenvectors that give the vectors their length or magnitude.  For example,a negative eigenvalue may reverse the direction of the eigenvector as part of scaling it.  A matrixthat has only positive eigenvalues is referred to as a positive definite matrix, whereas if theeigenvalues are all negative, it is referred to as a negative definite matrix."
   ]
  },
  {
   "cell_type": "code",
   "execution_count": 44,
   "metadata": {
    "ExecuteTime": {
     "end_time": "2020-05-22T10:59:28.169936Z",
     "start_time": "2020-05-22T10:59:28.162207Z"
    }
   },
   "outputs": [
    {
     "name": "stdout",
     "output_type": "stream",
     "text": [
      "[[1 2 3]\n",
      " [4 5 6]\n",
      " [7 8 9]]\n"
     ]
    }
   ],
   "source": [
    "from numpy.linalg import eig\n",
    "A = array([[1, 2, 3],\n",
    "           [4, 5, 6],\n",
    "           [7, 8, 9]])\n",
    "print(A)"
   ]
  },
  {
   "cell_type": "code",
   "execution_count": 45,
   "metadata": {
    "ExecuteTime": {
     "end_time": "2020-05-22T10:59:28.179515Z",
     "start_time": "2020-05-22T10:59:28.173659Z"
    }
   },
   "outputs": [],
   "source": [
    "values, vectors = eig(A)"
   ]
  },
  {
   "cell_type": "code",
   "execution_count": 46,
   "metadata": {
    "ExecuteTime": {
     "end_time": "2020-05-22T10:59:28.189632Z",
     "start_time": "2020-05-22T10:59:28.182946Z"
    }
   },
   "outputs": [
    {
     "name": "stdout",
     "output_type": "stream",
     "text": [
      "[ 1.61168440e+01 -1.11684397e+00 -9.75918483e-16]\n",
      "\n",
      "[[-0.23197069 -0.78583024  0.40824829]\n",
      " [-0.52532209 -0.08675134 -0.81649658]\n",
      " [-0.8186735   0.61232756  0.40824829]]\n"
     ]
    }
   ],
   "source": [
    "print(values)\n",
    "print()\n",
    "print(vectors)"
   ]
  },
  {
   "cell_type": "markdown",
   "metadata": {},
   "source": [
    "https://machinelearningmastery.com/introduction-to-eigendecomposition-eigenvalues-and-eigenvectors/"
   ]
  },
  {
   "cell_type": "code",
   "execution_count": null,
   "metadata": {},
   "outputs": [],
   "source": []
  },
  {
   "cell_type": "markdown",
   "metadata": {},
   "source": [
    "# 21 from the above eigendecomposition conform an eigenvector and eigenvalue"
   ]
  },
  {
   "cell_type": "markdown",
   "metadata": {},
   "source": [
    "We can confirm that a vector is indeed an eigenvector of a matrix.  We do this by multiplyingthe candidate eigenvector by the value vector and comparing the result with the eigenvalue.First, we will define a matrix, then calculate the eigenvalues and eigenvectors.  We will then testwhether the first vector and value are in fact an eigenvalue and eigenvector for the matrix. "
   ]
  },
  {
   "cell_type": "code",
   "execution_count": 47,
   "metadata": {
    "ExecuteTime": {
     "end_time": "2020-05-22T10:59:28.201073Z",
     "start_time": "2020-05-22T10:59:28.195559Z"
    }
   },
   "outputs": [],
   "source": [
    "from numpy.linalg import eig\n",
    "A = array([[1, 2, 3],\n",
    "           [4, 5, 6],\n",
    "           [7, 8, 9]])"
   ]
  },
  {
   "cell_type": "code",
   "execution_count": 48,
   "metadata": {
    "ExecuteTime": {
     "end_time": "2020-05-22T10:59:28.214694Z",
     "start_time": "2020-05-22T10:59:28.210252Z"
    }
   },
   "outputs": [],
   "source": [
    "values, vectors = eig(A)\n"
   ]
  },
  {
   "cell_type": "code",
   "execution_count": 49,
   "metadata": {
    "ExecuteTime": {
     "end_time": "2020-05-22T10:59:28.224423Z",
     "start_time": "2020-05-22T10:59:28.218670Z"
    }
   },
   "outputs": [
    {
     "name": "stdout",
     "output_type": "stream",
     "text": [
      "[ -3.73863537  -8.46653421 -13.19443305]\n",
      "[ -3.73863537  -8.46653421 -13.19443305]\n"
     ]
    }
   ],
   "source": [
    "B = A.dot(vectors[:, 0])\n",
    "print(B)\n",
    "C = vectors[:, 0] * values[0]\n",
    "print(C)"
   ]
  },
  {
   "cell_type": "code",
   "execution_count": null,
   "metadata": {},
   "outputs": [],
   "source": []
  },
  {
   "cell_type": "markdown",
   "metadata": {},
   "source": [
    "# 22 Reconstruct the matrix from the Eigendecompostion"
   ]
  },
  {
   "cell_type": "markdown",
   "metadata": {},
   "source": [
    "We can reverse the process and reconstruct the original matrix given only the eigenvectors andeigenvalues.  First, the list of eigenvectors must be taken together as a matrix, where each vectorbecomes a row.  The eigenvalues need to be arranged into a diagonal matrix. "
   ]
  },
  {
   "cell_type": "code",
   "execution_count": 50,
   "metadata": {
    "ExecuteTime": {
     "end_time": "2020-05-22T10:59:28.235005Z",
     "start_time": "2020-05-22T10:59:28.230484Z"
    }
   },
   "outputs": [],
   "source": [
    "from numpy.linalg import inv\n",
    "from numpy import diag"
   ]
  },
  {
   "cell_type": "code",
   "execution_count": 51,
   "metadata": {
    "ExecuteTime": {
     "end_time": "2020-05-22T10:59:28.243651Z",
     "start_time": "2020-05-22T10:59:28.239480Z"
    }
   },
   "outputs": [],
   "source": [
    "Q = vectors\n",
    "R = inv(Q)"
   ]
  },
  {
   "cell_type": "code",
   "execution_count": 52,
   "metadata": {
    "ExecuteTime": {
     "end_time": "2020-05-22T10:59:28.251585Z",
     "start_time": "2020-05-22T10:59:28.247357Z"
    }
   },
   "outputs": [],
   "source": [
    "L = diag(values)\n"
   ]
  },
  {
   "cell_type": "code",
   "execution_count": 53,
   "metadata": {
    "ExecuteTime": {
     "end_time": "2020-05-22T10:59:28.260293Z",
     "start_time": "2020-05-22T10:59:28.254744Z"
    }
   },
   "outputs": [
    {
     "name": "stdout",
     "output_type": "stream",
     "text": [
      "[[1. 2. 3.]\n",
      " [4. 5. 6.]\n",
      " [7. 8. 9.]]\n"
     ]
    }
   ],
   "source": [
    "B = Q.dot(L).dot(R)\n",
    "print(B)"
   ]
  },
  {
   "cell_type": "code",
   "execution_count": null,
   "metadata": {},
   "outputs": [],
   "source": []
  },
  {
   "cell_type": "markdown",
   "metadata": {},
   "source": [
    "# 23 calculate the L1 norm for a 1x3 matrix"
   ]
  },
  {
   "cell_type": "markdown",
   "metadata": {},
   "source": [
    "The matrix norm ||A|| of a square matrix A is a nonnegative number associated with A having the properties that\n",
    "\n",
    "1.\n",
    "||A|| > 0 when A ≠ 0 and ||A|| = 0 if, and only if, A = 0;\n",
    "\n",
    "2.\n",
    "|| kA|| = | k | || A|| for any scalar k;\n",
    "\n",
    "3.\n",
    "|| A + B|| ≤ ||A|| + ||B||;\n",
    "\n",
    "4.\n",
    "|| AB|| ≤ || A|| || B||."
   ]
  },
  {
   "cell_type": "code",
   "execution_count": 54,
   "metadata": {
    "ExecuteTime": {
     "end_time": "2020-05-22T10:59:28.272598Z",
     "start_time": "2020-05-22T10:59:28.264823Z"
    }
   },
   "outputs": [
    {
     "data": {
      "text/plain": [
       "array([[ 1, -1,  3]])"
      ]
     },
     "execution_count": 54,
     "metadata": {},
     "output_type": "execute_result"
    }
   ],
   "source": [
    "mat = np.array([[1, -1, 3]])\n",
    "mat"
   ]
  },
  {
   "cell_type": "code",
   "execution_count": 55,
   "metadata": {
    "ExecuteTime": {
     "end_time": "2020-05-22T10:59:28.283318Z",
     "start_time": "2020-05-22T10:59:28.276521Z"
    }
   },
   "outputs": [
    {
     "data": {
      "text/plain": [
       "3.0"
      ]
     },
     "execution_count": 55,
     "metadata": {},
     "output_type": "execute_result"
    }
   ],
   "source": [
    "np.linalg.norm(mat, 1)"
   ]
  },
  {
   "cell_type": "code",
   "execution_count": null,
   "metadata": {},
   "outputs": [],
   "source": []
  },
  {
   "cell_type": "markdown",
   "metadata": {},
   "source": [
    "# 24calculate the L2 norm for the 1x4 matrix"
   ]
  },
  {
   "cell_type": "code",
   "execution_count": 56,
   "metadata": {
    "ExecuteTime": {
     "end_time": "2020-05-22T10:59:28.295627Z",
     "start_time": "2020-05-22T10:59:28.289305Z"
    }
   },
   "outputs": [
    {
     "data": {
      "text/plain": [
       "array([[ 1, -1,  3,  5]])"
      ]
     },
     "execution_count": 56,
     "metadata": {},
     "output_type": "execute_result"
    }
   ],
   "source": [
    "mat = np.array([[1, -1, 3, 5]])\n",
    "mat"
   ]
  },
  {
   "cell_type": "code",
   "execution_count": 57,
   "metadata": {
    "ExecuteTime": {
     "end_time": "2020-05-22T10:59:28.307285Z",
     "start_time": "2020-05-22T10:59:28.299119Z"
    }
   },
   "outputs": [
    {
     "data": {
      "text/plain": [
       "6.0"
      ]
     },
     "execution_count": 57,
     "metadata": {},
     "output_type": "execute_result"
    }
   ],
   "source": [
    "np.linalg.norm(mat, 2)"
   ]
  },
  {
   "cell_type": "code",
   "execution_count": null,
   "metadata": {},
   "outputs": [],
   "source": []
  }
 ],
 "metadata": {
  "kernelspec": {
   "display_name": "Python 3",
   "language": "python",
   "name": "python3"
  },
  "language_info": {
   "codemirror_mode": {
    "name": "ipython",
    "version": 3
   },
   "file_extension": ".py",
   "mimetype": "text/x-python",
   "name": "python",
   "nbconvert_exporter": "python",
   "pygments_lexer": "ipython3",
   "version": "3.7.4"
  },
  "toc": {
   "base_numbering": 1,
   "nav_menu": {},
   "number_sections": true,
   "sideBar": true,
   "skip_h1_title": false,
   "title_cell": "Table of Contents",
   "title_sidebar": "Contents",
   "toc_cell": false,
   "toc_position": {},
   "toc_section_display": true,
   "toc_window_display": false
  },
  "varInspector": {
   "cols": {
    "lenName": 16,
    "lenType": 16,
    "lenVar": 40
   },
   "kernels_config": {
    "python": {
     "delete_cmd_postfix": "",
     "delete_cmd_prefix": "del ",
     "library": "var_list.py",
     "varRefreshCmd": "print(var_dic_list())"
    },
    "r": {
     "delete_cmd_postfix": ") ",
     "delete_cmd_prefix": "rm(",
     "library": "var_list.r",
     "varRefreshCmd": "cat(var_dic_list()) "
    }
   },
   "types_to_exclude": [
    "module",
    "function",
    "builtin_function_or_method",
    "instance",
    "_Feature"
   ],
   "window_display": false
  }
 },
 "nbformat": 4,
 "nbformat_minor": 4
}
