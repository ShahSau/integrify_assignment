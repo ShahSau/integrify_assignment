{
 "cells": [
  {
   "cell_type": "code",
   "execution_count": 1,
   "metadata": {
    "ExecuteTime": {
     "end_time": "2020-05-13T10:32:31.854935Z",
     "start_time": "2020-05-13T10:32:31.577735Z"
    }
   },
   "outputs": [],
   "source": [
    "# import numpy as np\n",
    "import numpy as np"
   ]
  },
  {
   "cell_type": "markdown",
   "metadata": {
    "ExecuteTime": {
     "end_time": "2020-04-06T09:06:50.160288Z",
     "start_time": "2020-04-06T09:06:50.158735Z"
    }
   },
   "source": [
    "# create a 1-D array"
   ]
  },
  {
   "cell_type": "code",
   "execution_count": 2,
   "metadata": {
    "ExecuteTime": {
     "end_time": "2020-05-13T10:32:31.883586Z",
     "start_time": "2020-05-13T10:32:31.861365Z"
    }
   },
   "outputs": [
    {
     "data": {
      "text/plain": [
       "array([1, 2, 3])"
      ]
     },
     "execution_count": 2,
     "metadata": {},
     "output_type": "execute_result"
    }
   ],
   "source": [
    "a=np.array([1,2,3])\n",
    "a"
   ]
  },
  {
   "cell_type": "markdown",
   "metadata": {
    "ExecuteTime": {
     "end_time": "2020-04-06T09:06:57.636640Z",
     "start_time": "2020-04-06T09:06:57.634745Z"
    }
   },
   "source": [
    "# create a 2*2 boolean array"
   ]
  },
  {
   "cell_type": "code",
   "execution_count": 3,
   "metadata": {
    "ExecuteTime": {
     "end_time": "2020-05-13T10:32:31.898273Z",
     "start_time": "2020-05-13T10:32:31.889681Z"
    }
   },
   "outputs": [
    {
     "data": {
      "text/plain": [
       "array([[ True,  True,  True],\n",
       "       [ True,  True,  True]])"
      ]
     },
     "execution_count": 3,
     "metadata": {},
     "output_type": "execute_result"
    }
   ],
   "source": [
    "a=np.array([[1,2,3],[2,4,5]],dtype=bool)\n",
    "a"
   ]
  },
  {
   "cell_type": "markdown",
   "metadata": {},
   "source": [
    "# create a 3*3 boolean array with all value true"
   ]
  },
  {
   "cell_type": "code",
   "execution_count": 4,
   "metadata": {
    "ExecuteTime": {
     "end_time": "2020-05-13T10:32:31.915063Z",
     "start_time": "2020-05-13T10:32:31.904109Z"
    }
   },
   "outputs": [
    {
     "data": {
      "text/plain": [
       "array([[[ True,  True,  True],\n",
       "        [ True,  True,  True]],\n",
       "\n",
       "       [[ True,  True,  True],\n",
       "        [False,  True,  True]]])"
      ]
     },
     "execution_count": 4,
     "metadata": {},
     "output_type": "execute_result"
    }
   ],
   "source": [
    "a= np.array([[[1,2,3],[4,5,6]], [[7,8,9],[0,11,23]]],dtype=bool)\n",
    "a"
   ]
  },
  {
   "cell_type": "markdown",
   "metadata": {
    "ExecuteTime": {
     "end_time": "2020-05-12T08:56:59.653378Z",
     "start_time": "2020-05-12T08:56:59.649350Z"
    }
   },
   "source": [
    "# Create an array of (5x5x3) with interval 0-75\n",
    "- print shape\n",
    "- dimension\n",
    "- dtype\n"
   ]
  },
  {
   "cell_type": "code",
   "execution_count": 5,
   "metadata": {
    "ExecuteTime": {
     "end_time": "2020-05-13T10:32:31.928973Z",
     "start_time": "2020-05-13T10:32:31.917938Z"
    }
   },
   "outputs": [
    {
     "name": "stdout",
     "output_type": "stream",
     "text": [
      "(5, 5, 3)\n",
      "3\n",
      "int64\n"
     ]
    },
    {
     "data": {
      "text/plain": [
       "array([[[23, 13, 53],\n",
       "        [ 0, 70, 26],\n",
       "        [60, 21, 11],\n",
       "        [35, 60, 30],\n",
       "        [28, 45,  1]],\n",
       "\n",
       "       [[45, 68, 25],\n",
       "        [ 5,  1, 46],\n",
       "        [32, 43, 65],\n",
       "        [46, 61, 20],\n",
       "        [46, 62, 49]],\n",
       "\n",
       "       [[71, 63, 49],\n",
       "        [33, 16, 39],\n",
       "        [35, 20, 39],\n",
       "        [ 7, 51, 12],\n",
       "        [ 7, 14, 15]],\n",
       "\n",
       "       [[20, 29, 28],\n",
       "        [24, 52, 52],\n",
       "        [24,  4, 44],\n",
       "        [ 0, 54, 11],\n",
       "        [48, 67, 63]],\n",
       "\n",
       "       [[14, 44, 68],\n",
       "        [ 3, 58, 48],\n",
       "        [30,  1, 59],\n",
       "        [46, 28, 65],\n",
       "        [32,  3, 50]]])"
      ]
     },
     "execution_count": 5,
     "metadata": {},
     "output_type": "execute_result"
    }
   ],
   "source": [
    "arr=np.random.randint(low=0,high=75,size=(5,5,3))\n",
    "print(arr.shape)\n",
    "print(arr.ndim)\n",
    "print(arr.dtype)\n",
    "arr"
   ]
  },
  {
   "cell_type": "markdown",
   "metadata": {
    "ExecuteTime": {
     "end_time": "2020-05-12T09:00:34.407893Z",
     "start_time": "2020-05-12T09:00:34.397600Z"
    }
   },
   "source": [
    "# create an array\n",
    "- A of shape (5,5)\n",
    "- B of shape (5,5,3)\n",
    "- create an array c which is the sum of A and B \n",
    "\n",
    ":hint you can use np.newaxis"
   ]
  },
  {
   "cell_type": "code",
   "execution_count": 6,
   "metadata": {
    "ExecuteTime": {
     "end_time": "2020-05-13T10:32:31.940116Z",
     "start_time": "2020-05-13T10:32:31.933125Z"
    }
   },
   "outputs": [
    {
     "name": "stdout",
     "output_type": "stream",
     "text": [
      "[[[1.34611131 1.87613987 1.38298515]\n",
      "  [0.78293658 1.28477602 1.08292647]\n",
      "  [0.69115577 0.79156174 1.05167179]\n",
      "  [1.74745688 1.55121432 1.01018245]\n",
      "  [1.12428766 1.25061929 1.12016245]]\n",
      "\n",
      " [[1.17648769 0.96837271 1.42483813]\n",
      "  [0.85693376 0.63883433 0.68795301]\n",
      "  [0.83903671 1.34295692 1.25801931]\n",
      "  [0.74615331 0.69348804 0.56549091]\n",
      "  [0.24301646 0.99446349 0.87578142]]\n",
      "\n",
      " [[1.48689254 1.2120579  1.64912129]\n",
      "  [0.83817    0.57406047 1.18870588]\n",
      "  [1.74303354 1.45009362 1.42428374]\n",
      "  [0.60997714 0.66181037 1.21203308]\n",
      "  [0.31274844 0.85925212 0.20994793]]\n",
      "\n",
      " [[1.02506843 1.15458634 1.1189286 ]\n",
      "  [1.29326173 1.10868737 1.5378042 ]\n",
      "  [0.51887932 0.06921965 0.18803951]\n",
      "  [1.17683329 1.63425632 1.54823078]\n",
      "  [1.19987004 1.60416583 1.49943501]]\n",
      "\n",
      " [[1.32218775 0.90042567 1.08882262]\n",
      "  [0.77217182 1.54574179 0.61892578]\n",
      "  [0.84480544 0.3309323  0.46337927]\n",
      "  [0.59517312 1.27442949 0.51175598]\n",
      "  [1.37007237 1.42520422 0.6137396 ]]]\n"
     ]
    }
   ],
   "source": [
    "A=np.random.random(size=(5,5))\n",
    "A1=A[:,:, np.newaxis]\n",
    "#print(A)\n",
    "B=np.random.random(size=(5,5,3))\n",
    "#B\n",
    "C=A1+B\n",
    "print(C)"
   ]
  },
  {
   "cell_type": "code",
   "execution_count": 7,
   "metadata": {
    "ExecuteTime": {
     "end_time": "2020-05-13T10:32:31.951378Z",
     "start_time": "2020-05-13T10:32:31.943977Z"
    }
   },
   "outputs": [
    {
     "data": {
      "text/plain": [
       "(5, 5, 3)"
      ]
     },
     "execution_count": 7,
     "metadata": {},
     "output_type": "execute_result"
    }
   ],
   "source": [
    "C.shape"
   ]
  },
  {
   "cell_type": "markdown",
   "metadata": {
    "ExecuteTime": {
     "end_time": "2020-05-12T09:06:30.805986Z",
     "start_time": "2020-05-12T09:06:30.803083Z"
    }
   },
   "source": [
    "# create a new array from c of shape (5,5,2) which take the 1st and last column from C\n"
   ]
  },
  {
   "cell_type": "code",
   "execution_count": 8,
   "metadata": {
    "ExecuteTime": {
     "end_time": "2020-05-13T10:32:31.963260Z",
     "start_time": "2020-05-13T10:32:31.956282Z"
    }
   },
   "outputs": [
    {
     "name": "stdout",
     "output_type": "stream",
     "text": [
      "[[[1.34611131 1.38298515]\n",
      "  [0.78293658 1.08292647]\n",
      "  [0.69115577 1.05167179]\n",
      "  [1.74745688 1.01018245]\n",
      "  [1.12428766 1.12016245]]\n",
      "\n",
      " [[1.17648769 1.42483813]\n",
      "  [0.85693376 0.68795301]\n",
      "  [0.83903671 1.25801931]\n",
      "  [0.74615331 0.56549091]\n",
      "  [0.24301646 0.87578142]]\n",
      "\n",
      " [[1.48689254 1.64912129]\n",
      "  [0.83817    1.18870588]\n",
      "  [1.74303354 1.42428374]\n",
      "  [0.60997714 1.21203308]\n",
      "  [0.31274844 0.20994793]]\n",
      "\n",
      " [[1.02506843 1.1189286 ]\n",
      "  [1.29326173 1.5378042 ]\n",
      "  [0.51887932 0.18803951]\n",
      "  [1.17683329 1.54823078]\n",
      "  [1.19987004 1.49943501]]\n",
      "\n",
      " [[1.32218775 1.08882262]\n",
      "  [0.77217182 0.61892578]\n",
      "  [0.84480544 0.46337927]\n",
      "  [0.59517312 0.51175598]\n",
      "  [1.37007237 0.6137396 ]]]\n",
      "(5, 5, 2)\n"
     ]
    }
   ],
   "source": [
    "B=C[:,:,[0,-1]]\n",
    "print(B)\n",
    "print(B.shape)"
   ]
  },
  {
   "cell_type": "markdown",
   "metadata": {},
   "source": [
    "# reshape the array from 1 d to 2 d and print the dim"
   ]
  },
  {
   "cell_type": "code",
   "execution_count": 9,
   "metadata": {
    "ExecuteTime": {
     "end_time": "2020-05-13T10:32:31.974253Z",
     "start_time": "2020-05-13T10:32:31.967937Z"
    }
   },
   "outputs": [
    {
     "data": {
      "text/plain": [
       "array([0, 1, 2, 3, 4, 5, 6, 7, 8, 9])"
      ]
     },
     "execution_count": 9,
     "metadata": {},
     "output_type": "execute_result"
    }
   ],
   "source": [
    "arr=np.arange(10)\n",
    "#your code\n",
    "arr"
   ]
  },
  {
   "cell_type": "code",
   "execution_count": 10,
   "metadata": {
    "ExecuteTime": {
     "end_time": "2020-05-13T10:32:31.987979Z",
     "start_time": "2020-05-13T10:32:31.977217Z"
    }
   },
   "outputs": [
    {
     "name": "stdout",
     "output_type": "stream",
     "text": [
      "[[0 1]\n",
      " [2 3]\n",
      " [4 5]\n",
      " [6 7]\n",
      " [8 9]]\n"
     ]
    },
    {
     "data": {
      "text/plain": [
       "2"
      ]
     },
     "execution_count": 10,
     "metadata": {},
     "output_type": "execute_result"
    }
   ],
   "source": [
    "new=np.reshape(arr,(-1,2))\n",
    "print(new)\n",
    "new.ndim\n"
   ]
  },
  {
   "cell_type": "markdown",
   "metadata": {},
   "source": [
    "# generate sequence of number from 1-3 3 times each"
   ]
  },
  {
   "cell_type": "code",
   "execution_count": 11,
   "metadata": {
    "ExecuteTime": {
     "end_time": "2020-05-13T10:32:32.001055Z",
     "start_time": "2020-05-13T10:32:31.992600Z"
    }
   },
   "outputs": [
    {
     "name": "stdout",
     "output_type": "stream",
     "text": [
      "[1 2 3 1 2 3 1 2 3]\n"
     ]
    }
   ],
   "source": [
    "a = np.array([1,2,3])\n",
    "#outout:array([1, 2, 3, 1, 2, 3, 1, 2, 3])\n",
    "# your code here\n",
    "r2=np.tile(a,3)\n",
    "print(r2)"
   ]
  },
  {
   "cell_type": "markdown",
   "metadata": {
    "ExecuteTime": {
     "end_time": "2020-05-12T09:12:23.698968Z",
     "start_time": "2020-05-12T09:12:23.693667Z"
    }
   },
   "source": [
    "# generate array\n",
    "output:array([2, 2, 2, 5, 5, 5, 6, 6, 6, 2, 5, 6, 2, 5, 6, 2, 5, 6])"
   ]
  },
  {
   "cell_type": "code",
   "execution_count": 12,
   "metadata": {
    "ExecuteTime": {
     "end_time": "2020-05-13T10:32:32.011774Z",
     "start_time": "2020-05-13T10:32:32.004168Z"
    }
   },
   "outputs": [],
   "source": [
    "a=[2,5,6]"
   ]
  },
  {
   "cell_type": "code",
   "execution_count": 13,
   "metadata": {
    "ExecuteTime": {
     "end_time": "2020-05-13T10:32:32.025344Z",
     "start_time": "2020-05-13T10:32:32.015450Z"
    }
   },
   "outputs": [
    {
     "data": {
      "text/plain": [
       "array([2, 2, 2, 5, 5, 5, 6, 6, 6, 2, 5, 6, 2, 5, 6, 2, 5, 6])"
      ]
     },
     "execution_count": 13,
     "metadata": {},
     "output_type": "execute_result"
    }
   ],
   "source": [
    "r1 = np.repeat(a,3)\n",
    "r2=np.tile(a,3)\n",
    "new=np.append(r1,r2)\n",
    "new"
   ]
  },
  {
   "cell_type": "markdown",
   "metadata": {
    "ExecuteTime": {
     "end_time": "2020-04-06T09:08:33.463871Z",
     "start_time": "2020-04-06T09:08:33.462331Z"
    }
   },
   "source": [
    "# extract all the even from the  list of array: use array indexing and slicing"
   ]
  },
  {
   "cell_type": "code",
   "execution_count": 14,
   "metadata": {
    "ExecuteTime": {
     "end_time": "2020-05-13T10:32:32.037165Z",
     "start_time": "2020-05-13T10:32:32.031386Z"
    }
   },
   "outputs": [
    {
     "data": {
      "text/plain": [
       "array([ 0,  1,  2,  3,  4,  5,  6,  7,  8,  9, 10, 11, 12, 13, 14, 15, 16,\n",
       "       17, 18, 19])"
      ]
     },
     "execution_count": 14,
     "metadata": {},
     "output_type": "execute_result"
    }
   ],
   "source": [
    "arr=np.arange(20)\n",
    "# your code\n",
    "arr"
   ]
  },
  {
   "cell_type": "code",
   "execution_count": 15,
   "metadata": {
    "ExecuteTime": {
     "end_time": "2020-05-13T10:32:32.048962Z",
     "start_time": "2020-05-13T10:32:32.042256Z"
    }
   },
   "outputs": [
    {
     "data": {
      "text/plain": [
       "array([ 0,  2,  4,  6,  8, 10, 12, 14, 16, 18])"
      ]
     },
     "execution_count": 15,
     "metadata": {},
     "output_type": "execute_result"
    }
   ],
   "source": [
    "p=arr[0::2]\n",
    "p"
   ]
  },
  {
   "cell_type": "markdown",
   "metadata": {},
   "source": [
    "# convert list of arrays into a flat linear 1d array"
   ]
  },
  {
   "cell_type": "code",
   "execution_count": 16,
   "metadata": {
    "ExecuteTime": {
     "end_time": "2020-05-13T10:32:32.060009Z",
     "start_time": "2020-05-13T10:32:32.052146Z"
    }
   },
   "outputs": [
    {
     "name": "stdout",
     "output_type": "stream",
     "text": [
      "[array([0, 1, 2]) array([3, 4, 5, 6]) array([7, 8, 9])]\n",
      "1\n",
      "(3,)\n"
     ]
    }
   ],
   "source": [
    "arr1 = np.arange(3)\n",
    "arr2 = np.arange(3,7)\n",
    "arr3 = np.arange(7,10)\n",
    "array_of_arrays = np.array([arr1, arr2, arr3])\n",
    "#your code \n",
    "print(array_of_arrays)\n",
    "print(array_of_arrays.ndim)\n",
    "print(array_of_arrays.shape)"
   ]
  },
  {
   "cell_type": "code",
   "execution_count": 17,
   "metadata": {
    "ExecuteTime": {
     "end_time": "2020-05-13T10:32:32.070444Z",
     "start_time": "2020-05-13T10:32:32.062568Z"
    }
   },
   "outputs": [
    {
     "name": "stdout",
     "output_type": "stream",
     "text": [
      "[array([0, 1, 2]) array([3, 4, 5, 6]) array([7, 8, 9])]\n"
     ]
    },
    {
     "data": {
      "text/plain": [
       "(3,)"
      ]
     },
     "execution_count": 17,
     "metadata": {},
     "output_type": "execute_result"
    }
   ],
   "source": [
    "b=array_of_arrays.flatten('F')\n",
    "print(b)\n",
    "b.shape"
   ]
  },
  {
   "cell_type": "code",
   "execution_count": null,
   "metadata": {},
   "outputs": [],
   "source": []
  },
  {
   "cell_type": "markdown",
   "metadata": {
    "ExecuteTime": {
     "end_time": "2020-04-06T09:09:02.630084Z",
     "start_time": "2020-04-06T09:09:02.628489Z"
    }
   },
   "source": [
    "# Replace all the the odd with 0"
   ]
  },
  {
   "cell_type": "code",
   "execution_count": 18,
   "metadata": {
    "ExecuteTime": {
     "end_time": "2020-05-13T10:32:32.099665Z",
     "start_time": "2020-05-13T10:32:32.076349Z"
    }
   },
   "outputs": [
    {
     "data": {
      "text/plain": [
       "array([ 0,  1,  2,  3,  4,  5,  6,  7,  8,  9, 10, 11, 12, 13, 14, 15, 16,\n",
       "       17, 18, 19])"
      ]
     },
     "execution_count": 18,
     "metadata": {},
     "output_type": "execute_result"
    }
   ],
   "source": [
    "arr=np.arange(20)\n",
    "#your code here\n",
    "arr"
   ]
  },
  {
   "cell_type": "code",
   "execution_count": 19,
   "metadata": {
    "ExecuteTime": {
     "end_time": "2020-05-13T10:32:32.113392Z",
     "start_time": "2020-05-13T10:32:32.102950Z"
    }
   },
   "outputs": [
    {
     "data": {
      "text/plain": [
       "array([ 0,  0,  2,  0,  4,  0,  6,  0,  8,  0, 10,  0, 12,  0, 14,  0, 16,\n",
       "        0, 18,  0])"
      ]
     },
     "execution_count": 19,
     "metadata": {},
     "output_type": "execute_result"
    }
   ],
   "source": [
    "arr[1::2]=0\n",
    "arr"
   ]
  },
  {
   "cell_type": "markdown",
   "metadata": {
    "ExecuteTime": {
     "end_time": "2020-04-06T09:10:23.537868Z",
     "start_time": "2020-04-06T09:10:23.536214Z"
    }
   },
   "source": [
    "# replace all even number with 0 without changing the arr\n",
    "- hint you can use where\n"
   ]
  },
  {
   "cell_type": "code",
   "execution_count": 20,
   "metadata": {
    "ExecuteTime": {
     "end_time": "2020-05-13T10:32:32.128180Z",
     "start_time": "2020-05-13T10:32:32.116266Z"
    }
   },
   "outputs": [
    {
     "name": "stdout",
     "output_type": "stream",
     "text": [
      "(array([ 0,  2,  4,  6,  8, 10, 12, 14, 16, 18]),)\n",
      "\n",
      "[ 0  2  4  6  8 10 12 14 16 18]\n"
     ]
    }
   ],
   "source": [
    "arr=np.arange(20)\n",
    "even=np.where(arr%2==0)\n",
    "print(even)\n",
    "print()\n",
    "print(arr[even])"
   ]
  },
  {
   "cell_type": "markdown",
   "metadata": {},
   "source": [
    "# stack two array vertically"
   ]
  },
  {
   "cell_type": "code",
   "execution_count": 21,
   "metadata": {
    "ExecuteTime": {
     "end_time": "2020-05-13T10:32:32.150065Z",
     "start_time": "2020-05-13T10:32:32.132149Z"
    }
   },
   "outputs": [
    {
     "data": {
      "text/plain": [
       "array([[0, 1, 2, 3, 4],\n",
       "       [5, 6, 7, 8, 9],\n",
       "       [1, 1, 1, 1, 1],\n",
       "       [1, 1, 1, 1, 1]])"
      ]
     },
     "execution_count": 21,
     "metadata": {},
     "output_type": "execute_result"
    }
   ],
   "source": [
    "\n",
    "a=np.arange(10).reshape(2,-1)\n",
    "b=np.repeat(1,10).reshape(2,-1)\n",
    "\n",
    "#your code \n",
    "c=np.vstack((a,b))\n",
    "c"
   ]
  },
  {
   "cell_type": "markdown",
   "metadata": {},
   "source": [
    "# show the common element in two array"
   ]
  },
  {
   "cell_type": "code",
   "execution_count": 22,
   "metadata": {
    "ExecuteTime": {
     "end_time": "2020-05-13T10:32:32.161101Z",
     "start_time": "2020-05-13T10:32:32.152386Z"
    }
   },
   "outputs": [
    {
     "data": {
      "text/plain": [
       "array([1, 2])"
      ]
     },
     "execution_count": 22,
     "metadata": {},
     "output_type": "execute_result"
    }
   ],
   "source": [
    "\n",
    "a=np.array([1,2,4,1,4,7,3])\n",
    "b=np.array([1,2,5,6,8])\n",
    "#your code\n",
    "c=np.intersect1d(a, b)\n",
    "c"
   ]
  },
  {
   "cell_type": "markdown",
   "metadata": {
    "ExecuteTime": {
     "end_time": "2020-04-06T09:13:08.252165Z",
     "start_time": "2020-04-06T09:13:08.250762Z"
    }
   },
   "source": [
    "# remove an element that is present in another array"
   ]
  },
  {
   "cell_type": "code",
   "execution_count": 23,
   "metadata": {
    "ExecuteTime": {
     "end_time": "2020-05-13T10:32:32.181282Z",
     "start_time": "2020-05-13T10:32:32.176370Z"
    }
   },
   "outputs": [],
   "source": [
    "a=np.array([1,2,4,1,4,7,3])\n",
    "b=np.array([1,2,5,6,8])\n",
    "# your code"
   ]
  },
  {
   "cell_type": "code",
   "execution_count": 24,
   "metadata": {
    "ExecuteTime": {
     "end_time": "2020-05-13T10:32:32.203990Z",
     "start_time": "2020-05-13T10:32:32.187919Z"
    }
   },
   "outputs": [
    {
     "data": {
      "text/plain": [
       "array([4, 4, 7, 3])"
      ]
     },
     "execution_count": 24,
     "metadata": {},
     "output_type": "execute_result"
    }
   ],
   "source": [
    "C = np.array(list(filter(lambda x: x not in b, a)))\n",
    "C"
   ]
  },
  {
   "cell_type": "markdown",
   "metadata": {
    "ExecuteTime": {
     "end_time": "2020-04-06T09:13:23.431735Z",
     "start_time": "2020-04-06T09:13:23.430118Z"
    }
   },
   "source": [
    "# get the position(index) of element where 2 element are same in an arrays\n"
   ]
  },
  {
   "cell_type": "code",
   "execution_count": 25,
   "metadata": {
    "ExecuteTime": {
     "end_time": "2020-05-13T10:32:32.219888Z",
     "start_time": "2020-05-13T10:32:32.214194Z"
    }
   },
   "outputs": [],
   "source": [
    "a = np.array([1,2,3,2,3,4,3,4,5,6])\n",
    "b = np.array([7,2,10,2,7,4,9,4,9,8])\n",
    "#your code"
   ]
  },
  {
   "cell_type": "code",
   "execution_count": 26,
   "metadata": {
    "ExecuteTime": {
     "end_time": "2020-05-13T10:32:32.243784Z",
     "start_time": "2020-05-13T10:32:32.232044Z"
    }
   },
   "outputs": [
    {
     "data": {
      "text/plain": [
       "[array([[1],\n",
       "        [3]]),\n",
       " array([[2],\n",
       "        [4],\n",
       "        [6]]),\n",
       " array([[5],\n",
       "        [7]])]"
      ]
     },
     "execution_count": 26,
     "metadata": {},
     "output_type": "execute_result"
    }
   ],
   "source": [
    "index_sets = [np.argwhere(i[0]== a) for i in np.array(np.unique(a, return_counts=True)).T if i[1]>=2]\n",
    "index_sets"
   ]
  },
  {
   "cell_type": "code",
   "execution_count": 27,
   "metadata": {
    "ExecuteTime": {
     "end_time": "2020-05-13T10:32:32.254093Z",
     "start_time": "2020-05-13T10:32:32.246568Z"
    }
   },
   "outputs": [
    {
     "data": {
      "text/plain": [
       "[array([[1],\n",
       "        [3]]),\n",
       " array([[5],\n",
       "        [7]]),\n",
       " array([[0],\n",
       "        [4]]),\n",
       " array([[6],\n",
       "        [8]])]"
      ]
     },
     "execution_count": 27,
     "metadata": {},
     "output_type": "execute_result"
    }
   ],
   "source": [
    "index_sets = [np.argwhere(i[0]== b) for i in np.array(np.unique(b, return_counts=True)).T if i[1]>=2]\n",
    "index_sets"
   ]
  },
  {
   "cell_type": "markdown",
   "metadata": {
    "ExecuteTime": {
     "end_time": "2020-04-06T09:13:40.604322Z",
     "start_time": "2020-04-06T09:13:40.602637Z"
    }
   },
   "source": [
    "# extract the element between 10 and 15  use boolean indexing method"
   ]
  },
  {
   "cell_type": "code",
   "execution_count": 28,
   "metadata": {
    "ExecuteTime": {
     "end_time": "2020-05-13T10:32:32.264147Z",
     "start_time": "2020-05-13T10:32:32.257749Z"
    }
   },
   "outputs": [
    {
     "data": {
      "text/plain": [
       "array([ 0,  1,  2,  3,  4,  5,  6,  7,  8,  9, 10, 11, 12, 13, 14, 15, 16,\n",
       "       17, 18, 19])"
      ]
     },
     "execution_count": 28,
     "metadata": {},
     "output_type": "execute_result"
    }
   ],
   "source": [
    "a=np.arange(20)\n",
    "# your code\n",
    "a"
   ]
  },
  {
   "cell_type": "code",
   "execution_count": 29,
   "metadata": {
    "ExecuteTime": {
     "end_time": "2020-05-13T10:32:32.274950Z",
     "start_time": "2020-05-13T10:32:32.266653Z"
    }
   },
   "outputs": [
    {
     "data": {
      "text/plain": [
       "array([11, 12, 13, 14])"
      ]
     },
     "execution_count": 29,
     "metadata": {},
     "output_type": "execute_result"
    }
   ],
   "source": [
    "c=a[(a > 10) & (a < 15)]\n",
    "c"
   ]
  },
  {
   "cell_type": "markdown",
   "metadata": {
    "ExecuteTime": {
     "end_time": "2020-04-06T09:14:47.382285Z",
     "start_time": "2020-04-06T09:14:47.378041Z"
    }
   },
   "source": [
    "# implement the   funtion which work on scaler to work on two array\n",
    "- write a fuction which take 2 argument and return the min value\n",
    "- print the min value of scaler \n",
    "\n",
    "and also\n",
    "\n",
    "- take a 2 array and a and b of shape (6,1) and print a min using the function that you declared \n"
   ]
  },
  {
   "cell_type": "markdown",
   "metadata": {
    "ExecuteTime": {
     "end_time": "2020-04-06T09:15:21.306681Z",
     "start_time": "2020-04-06T09:15:21.303815Z"
    }
   },
   "source": [
    "take a and b. get the individual min value. save those value as a_min and b_min. convert them into two individual scaler using np.asscalar(np.array(a_min)) and same as b_min. use them as arguments inside the function and then print the min"
   ]
  },
  {
   "cell_type": "code",
   "execution_count": 30,
   "metadata": {
    "ExecuteTime": {
     "end_time": "2020-05-13T10:32:32.286299Z",
     "start_time": "2020-05-13T10:32:32.280776Z"
    }
   },
   "outputs": [],
   "source": [
    "def funct(one, two):\n",
    "    one1=np.min(one)\n",
    "    two2=np.min(two)\n",
    "    \n",
    "    one1=np.asscalar(one1)\n",
    "    two2=np.asscalar(two2)\n",
    "    if one1>two2:\n",
    "        print(two2)\n",
    "    else:\n",
    "        print(one1)"
   ]
  },
  {
   "cell_type": "code",
   "execution_count": 31,
   "metadata": {
    "ExecuteTime": {
     "end_time": "2020-05-13T10:32:32.314767Z",
     "start_time": "2020-05-13T10:32:32.289218Z"
    }
   },
   "outputs": [],
   "source": [
    "a=np.random.random(size=(6,1))\n",
    "b=np.random.random(size=(6,1))"
   ]
  },
  {
   "cell_type": "code",
   "execution_count": 32,
   "metadata": {
    "ExecuteTime": {
     "end_time": "2020-05-13T10:32:32.333009Z",
     "start_time": "2020-05-13T10:32:32.326727Z"
    }
   },
   "outputs": [
    {
     "name": "stdout",
     "output_type": "stream",
     "text": [
      "0.027897042053856902\n"
     ]
    },
    {
     "name": "stderr",
     "output_type": "stream",
     "text": [
      "/Users/shahriar/opt/anaconda3/lib/python3.7/site-packages/ipykernel_launcher.py:5: DeprecationWarning: np.asscalar(a) is deprecated since NumPy v1.16, use a.item() instead\n",
      "  \"\"\"\n",
      "/Users/shahriar/opt/anaconda3/lib/python3.7/site-packages/ipykernel_launcher.py:6: DeprecationWarning: np.asscalar(a) is deprecated since NumPy v1.16, use a.item() instead\n",
      "  \n"
     ]
    }
   ],
   "source": [
    "funct(a,b)"
   ]
  },
  {
   "cell_type": "code",
   "execution_count": null,
   "metadata": {},
   "outputs": [],
   "source": []
  },
  {
   "cell_type": "markdown",
   "metadata": {
    "ExecuteTime": {
     "end_time": "2020-04-06T09:15:41.089064Z",
     "start_time": "2020-04-06T09:15:41.087669Z"
    }
   },
   "source": [
    "# swap 1 and 2nd column in an array"
   ]
  },
  {
   "cell_type": "code",
   "execution_count": 33,
   "metadata": {
    "ExecuteTime": {
     "end_time": "2020-05-13T10:32:32.347295Z",
     "start_time": "2020-05-13T10:32:32.335619Z"
    }
   },
   "outputs": [
    {
     "name": "stdout",
     "output_type": "stream",
     "text": [
      "[[0 1 2]\n",
      " [3 4 5]\n",
      " [6 7 8]]\n",
      "[[1 0 2]\n",
      " [4 3 5]\n",
      " [7 6 8]]\n"
     ]
    }
   ],
   "source": [
    "arr=np.arange(9).reshape(3,3)\n",
    "#your code\n",
    "print(arr)\n",
    "arr[:,[0, 1]] = arr[:,[1, 0]]\n",
    "print(arr)"
   ]
  },
  {
   "cell_type": "markdown",
   "metadata": {
    "ExecuteTime": {
     "end_time": "2020-04-06T09:16:26.157819Z",
     "start_time": "2020-04-06T09:16:26.156349Z"
    }
   },
   "source": [
    "# reverse the  colum of 2D arr "
   ]
  },
  {
   "cell_type": "code",
   "execution_count": 34,
   "metadata": {
    "ExecuteTime": {
     "end_time": "2020-05-13T10:32:32.357500Z",
     "start_time": "2020-05-13T10:32:32.351218Z"
    }
   },
   "outputs": [
    {
     "name": "stdout",
     "output_type": "stream",
     "text": [
      "[[0 1 2]\n",
      " [3 4 5]\n",
      " [6 7 8]]\n",
      "[[8 7 6]\n",
      " [5 4 3]\n",
      " [2 1 0]]\n"
     ]
    }
   ],
   "source": [
    "arr=np.arange(9).reshape(3,3)\n",
    "# your code\n",
    "print(arr)\n",
    "\n",
    "new=np.flip(arr)\n",
    "print(new)"
   ]
  },
  {
   "cell_type": "markdown",
   "metadata": {
    "ExecuteTime": {
     "end_time": "2020-04-06T09:16:50.895476Z",
     "start_time": "2020-04-06T09:16:50.890056Z"
    }
   },
   "source": [
    "# create a uniform distributed random array of shape 5x5"
   ]
  },
  {
   "cell_type": "code",
   "execution_count": 35,
   "metadata": {
    "ExecuteTime": {
     "end_time": "2020-05-13T10:32:32.369182Z",
     "start_time": "2020-05-13T10:32:32.361561Z"
    }
   },
   "outputs": [
    {
     "name": "stdout",
     "output_type": "stream",
     "text": [
      "[[4.16101365 3.93253913 7.24638187 3.54055014 3.26288969]\n",
      " [3.36843029 6.5315781  3.868575   4.81036463 4.31777208]\n",
      " [6.07208646 1.47110959 6.06595426 6.99086105 5.56584469]\n",
      " [4.57737151 9.50833145 9.33043154 3.9724128  9.63556555]\n",
      " [5.43093326 3.6921097  5.8912811  2.72737094 9.70232855]]\n"
     ]
    },
    {
     "data": {
      "text/plain": [
       "(5, 5)"
      ]
     },
     "execution_count": 35,
     "metadata": {},
     "output_type": "execute_result"
    }
   ],
   "source": [
    "c=np.random.uniform(1,10,size=(5,5))\n",
    "print(c)\n",
    "c.shape"
   ]
  },
  {
   "cell_type": "markdown",
   "metadata": {
    "ExecuteTime": {
     "end_time": "2020-04-06T09:16:58.610812Z",
     "start_time": "2020-04-06T09:16:58.608561Z"
    }
   },
   "source": [
    "# print the above array in 3 decimal point only"
   ]
  },
  {
   "cell_type": "code",
   "execution_count": 36,
   "metadata": {
    "ExecuteTime": {
     "end_time": "2020-05-13T10:32:32.380873Z",
     "start_time": "2020-05-13T10:32:32.372357Z"
    }
   },
   "outputs": [
    {
     "data": {
      "text/plain": [
       "array([[4.161, 3.933, 7.246, 3.541, 3.263],\n",
       "       [3.368, 6.532, 3.869, 4.81 , 4.318],\n",
       "       [6.072, 1.471, 6.066, 6.991, 5.566],\n",
       "       [4.577, 9.508, 9.33 , 3.972, 9.636],\n",
       "       [5.431, 3.692, 5.891, 2.727, 9.702]])"
      ]
     },
     "execution_count": 36,
     "metadata": {},
     "output_type": "execute_result"
    }
   ],
   "source": [
    "np.set_printoptions(precision=3)\n",
    "c"
   ]
  },
  {
   "cell_type": "markdown",
   "metadata": {
    "ExecuteTime": {
     "end_time": "2020-04-06T09:17:25.343142Z",
     "start_time": "2020-04-06T09:17:25.338990Z"
    }
   },
   "source": [
    "# replace the value greater than 25 to 25 and less than 10 to 10\n",
    "\n",
    "- you can use np.where"
   ]
  },
  {
   "cell_type": "code",
   "execution_count": 37,
   "metadata": {
    "ExecuteTime": {
     "end_time": "2020-05-13T10:32:32.390625Z",
     "start_time": "2020-05-13T10:32:32.383674Z"
    }
   },
   "outputs": [
    {
     "data": {
      "text/plain": [
       "array([27.63, 14.64, 21.8 , 42.39,  1.23,  6.96, 33.87, 41.47,  7.7 ,\n",
       "       29.18, 44.67, 11.25, 10.08,  6.31, 11.77, 48.95, 40.77,  9.43,\n",
       "       41.  , 14.43, 22.15, 47.06, 41.06, 17.47,  9.6 , 19.27,  1.28,\n",
       "       13.37, 39.99,  1.75])"
      ]
     },
     "execution_count": 37,
     "metadata": {},
     "output_type": "execute_result"
    }
   ],
   "source": [
    "np.set_printoptions(precision=2)\n",
    "np.random.seed(100)\n",
    "a=np.random.uniform(1,50,30)\n",
    "#your code\n",
    "a\n"
   ]
  },
  {
   "cell_type": "code",
   "execution_count": 38,
   "metadata": {
    "ExecuteTime": {
     "end_time": "2020-05-13T10:32:32.403560Z",
     "start_time": "2020-05-13T10:32:32.392902Z"
    }
   },
   "outputs": [
    {
     "data": {
      "text/plain": [
       "array([27.63, 14.64, 21.8 , 42.39, 10.  , 10.  , 33.87, 41.47, 10.  ,\n",
       "       29.18, 44.67, 11.25, 10.08, 10.  , 11.77, 48.95, 40.77, 10.  ,\n",
       "       41.  , 14.43, 22.15, 47.06, 41.06, 17.47, 10.  , 19.27, 10.  ,\n",
       "       13.37, 39.99, 10.  ])"
      ]
     },
     "execution_count": 38,
     "metadata": {},
     "output_type": "execute_result"
    }
   ],
   "source": [
    "a=np.where((a <10), 10, a)\n",
    "a"
   ]
  },
  {
   "cell_type": "code",
   "execution_count": 39,
   "metadata": {
    "ExecuteTime": {
     "end_time": "2020-05-13T10:32:32.415937Z",
     "start_time": "2020-05-13T10:32:32.407789Z"
    }
   },
   "outputs": [
    {
     "data": {
      "text/plain": [
       "array([25.  , 14.64, 21.8 , 25.  , 10.  , 10.  , 25.  , 25.  , 10.  ,\n",
       "       25.  , 25.  , 11.25, 10.08, 10.  , 11.77, 25.  , 25.  , 10.  ,\n",
       "       25.  , 14.43, 22.15, 25.  , 25.  , 17.47, 10.  , 19.27, 10.  ,\n",
       "       13.37, 25.  , 10.  ])"
      ]
     },
     "execution_count": 39,
     "metadata": {},
     "output_type": "execute_result"
    }
   ],
   "source": [
    "a=np.where((a >25), 25, a)\n",
    "a"
   ]
  },
  {
   "cell_type": "code",
   "execution_count": null,
   "metadata": {},
   "outputs": [],
   "source": []
  },
  {
   "cell_type": "markdown",
   "metadata": {},
   "source": [
    "# get the position of the top 5 maximum values in a given array"
   ]
  },
  {
   "cell_type": "code",
   "execution_count": 40,
   "metadata": {
    "ExecuteTime": {
     "end_time": "2020-05-13T10:32:32.431865Z",
     "start_time": "2020-05-13T10:32:32.421072Z"
    }
   },
   "outputs": [
    {
     "data": {
      "text/plain": [
       "array([27.63, 14.64, 21.8 , 42.39,  1.23,  6.96, 33.87, 41.47,  7.7 ,\n",
       "       29.18, 44.67, 11.25, 10.08,  6.31, 11.77, 48.95, 40.77,  9.43,\n",
       "       41.  , 14.43])"
      ]
     },
     "execution_count": 40,
     "metadata": {},
     "output_type": "execute_result"
    }
   ],
   "source": [
    "\n",
    "np.random.seed(100)\n",
    "a = np.random.uniform(1,50, 20)\n",
    "a"
   ]
  },
  {
   "cell_type": "code",
   "execution_count": 41,
   "metadata": {
    "ExecuteTime": {
     "end_time": "2020-05-13T10:32:32.444586Z",
     "start_time": "2020-05-13T10:32:32.434752Z"
    }
   },
   "outputs": [
    {
     "data": {
      "text/plain": [
       "array([41.  , 41.47, 42.39, 44.67, 48.95])"
      ]
     },
     "execution_count": 41,
     "metadata": {},
     "output_type": "execute_result"
    }
   ],
   "source": [
    "#your code\n",
    "a[np.argsort(a)[-5:]]# this print the top 5 value\n",
    "#a[np.argsort[-5:]] will give index"
   ]
  },
  {
   "cell_type": "markdown",
   "metadata": {
    "ExecuteTime": {
     "end_time": "2020-04-06T09:18:18.485326Z",
     "start_time": "2020-04-06T09:18:18.483836Z"
    }
   },
   "source": [
    "# Compute the counts of unique vales row-wise"
   ]
  },
  {
   "cell_type": "code",
   "execution_count": 42,
   "metadata": {
    "ExecuteTime": {
     "end_time": "2020-05-13T10:32:32.457788Z",
     "start_time": "2020-05-13T10:32:32.449531Z"
    }
   },
   "outputs": [
    {
     "name": "stdout",
     "output_type": "stream",
     "text": [
      "[[ 9  9  4  8  8  1  5  3  6  3]\n",
      " [ 3  3  2  1  9  5  1 10  7  3]\n",
      " [ 5  2  6  4  5  5  4  8  2  2]\n",
      " [ 8  8  1  3 10 10  4  3  6  9]\n",
      " [ 2  1  8  7  3  1  9  3  6  2]\n",
      " [ 9  2  6  5  3  9  4  6  1 10]]\n",
      "[['c' 'a' 't']\n",
      " ['d' 'o' 'g']\n",
      " ['r' 'a' 't']]\n"
     ]
    }
   ],
   "source": [
    "np.random.seed(100)\n",
    "arr = np.random.randint(1,11,size=(6, 10))\n",
    "arr1 = np.array([np.array(list('cat')), np.array(list('dog')), np.array(list('rat'))])\n",
    "\n",
    "print(arr)\n",
    "print(arr1)"
   ]
  },
  {
   "cell_type": "markdown",
   "metadata": {},
   "source": [
    "answer array\n",
    "\n",
    "arr1=\n",
    " \n",
    " [[1, 1, 0, 0, 0, 0, 1], [0, 0, 1, 1, 1, 0, 0], [1, 0, 0, 0, 0, 1, 1]]\n"
   ]
  },
  {
   "cell_type": "code",
   "execution_count": 43,
   "metadata": {
    "ExecuteTime": {
     "end_time": "2020-05-13T10:32:32.473316Z",
     "start_time": "2020-05-13T10:32:32.464068Z"
    }
   },
   "outputs": [
    {
     "data": {
      "text/plain": [
       "[[1, 0, 2, 1, 1, 1, 0, 2, 2, 0],\n",
       " [2, 1, 3, 0, 1, 0, 1, 0, 1, 1],\n",
       " [0, 3, 0, 2, 3, 1, 0, 1, 0, 0],\n",
       " [1, 0, 2, 1, 0, 1, 0, 2, 1, 2],\n",
       " [2, 2, 2, 0, 0, 1, 1, 1, 1, 0],\n",
       " [1, 1, 1, 1, 1, 2, 0, 0, 2, 1]]"
      ]
     },
     "execution_count": 43,
     "metadata": {},
     "output_type": "execute_result"
    }
   ],
   "source": [
    "def row_wise_counts(arr2d):\n",
    "    num_counts_array = [np.unique(row, return_counts=True) for row in arr2d]\n",
    "\n",
    "    return([[int(b[a==i]) if i in a else 0\n",
    "             for i in np.unique(arr2d)]\n",
    "            for a, b in num_counts_array])\n",
    "row_wise_counts(arr)\n"
   ]
  },
  {
   "cell_type": "code",
   "execution_count": 44,
   "metadata": {
    "ExecuteTime": {
     "end_time": "2020-05-13T10:32:32.483643Z",
     "start_time": "2020-05-13T10:32:32.477819Z"
    }
   },
   "outputs": [
    {
     "name": "stdout",
     "output_type": "stream",
     "text": [
      "\n"
     ]
    },
    {
     "data": {
      "text/plain": [
       "[[1, 1, 0, 0, 0, 0, 1], [0, 0, 1, 1, 1, 0, 0], [1, 0, 0, 0, 0, 1, 1]]"
      ]
     },
     "execution_count": 44,
     "metadata": {},
     "output_type": "execute_result"
    }
   ],
   "source": [
    "print()\n",
    "row_wise_counts(arr1)"
   ]
  },
  {
   "cell_type": "markdown",
   "metadata": {},
   "source": [
    "# compute the one-hot encoding "
   ]
  },
  {
   "cell_type": "code",
   "execution_count": 45,
   "metadata": {
    "ExecuteTime": {
     "end_time": "2020-05-13T10:32:32.493294Z",
     "start_time": "2020-05-13T10:32:32.486439Z"
    }
   },
   "outputs": [
    {
     "data": {
      "text/plain": [
       "array([1, 3, 3, 1, 3, 3])"
      ]
     },
     "execution_count": 45,
     "metadata": {},
     "output_type": "execute_result"
    }
   ],
   "source": [
    "#it repace the value wirh 1 with correpsonding with the element\n",
    "arr=np.random.randint(1,4,size=6)\n",
    "#your code\n",
    "arr"
   ]
  },
  {
   "cell_type": "code",
   "execution_count": 46,
   "metadata": {
    "ExecuteTime": {
     "end_time": "2020-05-13T10:32:32.501760Z",
     "start_time": "2020-05-13T10:32:32.496371Z"
    }
   },
   "outputs": [
    {
     "data": {
      "text/plain": [
       "array([[1., 0., 0.],\n",
       "       [0., 0., 1.],\n",
       "       [0., 0., 1.],\n",
       "       [1., 0., 0.],\n",
       "       [0., 0., 1.],\n",
       "       [0., 0., 1.]])"
      ]
     },
     "execution_count": 46,
     "metadata": {},
     "output_type": "execute_result"
    }
   ],
   "source": [
    "z = np.max(arr) + 1\n",
    "arr=np.eye(z)[arr]\n",
    "arr[:,1:]"
   ]
  },
  {
   "cell_type": "markdown",
   "metadata": {},
   "source": [
    " outputarray([[0, 1, 0],\n",
    "       [0, 1, 0],\n",
    "       [0, 0, 1],\n",
    "       [0, 0, 1],\n",
    "       [0, 1, 0],\n",
    "       [1, 0, 0]],)"
   ]
  },
  {
   "cell_type": "markdown",
   "metadata": {},
   "source": [
    "# create the rank for th given array"
   ]
  },
  {
   "cell_type": "code",
   "execution_count": 47,
   "metadata": {
    "ExecuteTime": {
     "end_time": "2020-05-13T10:32:32.511755Z",
     "start_time": "2020-05-13T10:32:32.505749Z"
    }
   },
   "outputs": [
    {
     "data": {
      "text/plain": [
       "array([ 9,  4, 15,  0, 17, 16, 17,  8,  9,  0])"
      ]
     },
     "execution_count": 47,
     "metadata": {},
     "output_type": "execute_result"
    }
   ],
   "source": [
    "np.random.seed(10)\n",
    "a = np.random.randint(20, size=10)\n",
    "##yourcode here\n",
    "a"
   ]
  },
  {
   "cell_type": "code",
   "execution_count": 48,
   "metadata": {
    "ExecuteTime": {
     "end_time": "2020-05-13T10:32:32.527421Z",
     "start_time": "2020-05-13T10:32:32.516576Z"
    }
   },
   "outputs": [
    {
     "data": {
      "text/plain": [
       "array([4, 2, 6, 0, 8, 7, 9, 3, 5, 1])"
      ]
     },
     "execution_count": 48,
     "metadata": {},
     "output_type": "execute_result"
    }
   ],
   "source": [
    "argsort_a = a.argsort()\n",
    "ranks_a = np.empty_like(argsort_a)\n",
    "ranks_a[argsort_a] = np.arange(len(a))\n",
    "ranks_a"
   ]
  },
  {
   "cell_type": "markdown",
   "metadata": {
    "ExecuteTime": {
     "end_time": "2020-04-06T09:30:12.619547Z",
     "start_time": "2020-04-06T09:30:12.618126Z"
    }
   },
   "source": [
    "# creat a rank array in a multidimensional array\n",
    "eg:Array:  [9 4 0 1 9 0 1 8 9 0]\n",
    "\n",
    "[7 5 0 3 8 1 4 6 9 2]\n"
   ]
  },
  {
   "cell_type": "code",
   "execution_count": 49,
   "metadata": {
    "ExecuteTime": {
     "end_time": "2020-05-13T10:32:32.544847Z",
     "start_time": "2020-05-13T10:32:32.535962Z"
    }
   },
   "outputs": [
    {
     "data": {
      "text/plain": [
       "array([[ 9,  4, 15,  0, 17],\n",
       "       [16, 17,  8,  9,  0]])"
      ]
     },
     "execution_count": 49,
     "metadata": {},
     "output_type": "execute_result"
    }
   ],
   "source": [
    "np.random.seed(10)\n",
    "a = np.random.randint(20, size=[2,5])\n",
    "#your code\n",
    "a"
   ]
  },
  {
   "cell_type": "code",
   "execution_count": 50,
   "metadata": {
    "ExecuteTime": {
     "end_time": "2020-05-13T10:32:32.557548Z",
     "start_time": "2020-05-13T10:32:32.547881Z"
    }
   },
   "outputs": [
    {
     "data": {
      "text/plain": [
       "array([[2, 1, 3, 0, 4],\n",
       "       [3, 4, 1, 2, 0]])"
      ]
     },
     "execution_count": 50,
     "metadata": {},
     "output_type": "execute_result"
    }
   ],
   "source": [
    "np.where(a.argsort(1)==0)[1]\n",
    "(a.argsort(1)).argsort(1) "
   ]
  },
  {
   "cell_type": "markdown",
   "metadata": {
    "ExecuteTime": {
     "end_time": "2020-04-06T09:31:30.064839Z",
     "start_time": "2020-04-06T09:31:30.060235Z"
    }
   },
   "source": [
    "# find the maximum value in each row of array"
   ]
  },
  {
   "cell_type": "code",
   "execution_count": 51,
   "metadata": {
    "ExecuteTime": {
     "end_time": "2020-05-13T10:32:32.579395Z",
     "start_time": "2020-05-13T10:32:32.565774Z"
    }
   },
   "outputs": [
    {
     "name": "stdout",
     "output_type": "stream",
     "text": [
      "[[9 9 4]\n",
      " [8 8 1]\n",
      " [5 3 6]\n",
      " [3 3 3]\n",
      " [2 1 9]]\n"
     ]
    },
    {
     "data": {
      "text/plain": [
       "array([9, 8, 6, 3, 9])"
      ]
     },
     "execution_count": 51,
     "metadata": {},
     "output_type": "execute_result"
    }
   ],
   "source": [
    "np.random.seed(100)\n",
    "a = np.random.randint(1,10, [5,3])\n",
    "print(a)\n",
    "#your code\n",
    "maxx = np.amax(a, axis=1)\n",
    "maxx"
   ]
  },
  {
   "cell_type": "markdown",
   "metadata": {
    "ExecuteTime": {
     "end_time": "2020-04-06T09:32:58.011666Z",
     "start_time": "2020-04-06T09:32:58.010131Z"
    }
   },
   "source": [
    "# compute the min-by-max for each row for given 2d array"
   ]
  },
  {
   "cell_type": "code",
   "execution_count": 52,
   "metadata": {
    "ExecuteTime": {
     "end_time": "2020-05-13T10:32:32.593327Z",
     "start_time": "2020-05-13T10:32:32.583838Z"
    }
   },
   "outputs": [
    {
     "data": {
      "text/plain": [
       "array([[9, 9, 4],\n",
       "       [8, 8, 1],\n",
       "       [5, 3, 6],\n",
       "       [3, 3, 3],\n",
       "       [2, 1, 9]])"
      ]
     },
     "execution_count": 52,
     "metadata": {},
     "output_type": "execute_result"
    }
   ],
   "source": [
    "np.random.seed(100)\n",
    "a = np.random.randint(1,10, [5,3])\n",
    "#your code\n",
    "#hint use apply_along_axis with lambda\n",
    "a"
   ]
  },
  {
   "cell_type": "code",
   "execution_count": 53,
   "metadata": {
    "ExecuteTime": {
     "end_time": "2020-05-13T10:32:32.603138Z",
     "start_time": "2020-05-13T10:32:32.596691Z"
    }
   },
   "outputs": [
    {
     "data": {
      "text/plain": [
       "array([[4, 9],\n",
       "       [1, 8],\n",
       "       [3, 6],\n",
       "       [3, 3],\n",
       "       [1, 9]])"
      ]
     },
     "execution_count": 53,
     "metadata": {},
     "output_type": "execute_result"
    }
   ],
   "source": [
    "np.apply_along_axis(lambda w: (np.min(w),np.max(w)), 1, a)"
   ]
  },
  {
   "cell_type": "markdown",
   "metadata": {
    "ExecuteTime": {
     "end_time": "2020-04-06T09:33:59.563170Z",
     "start_time": "2020-04-06T09:33:59.561728Z"
    }
   },
   "source": [
    "# drop all nan values from a 1D numpy array"
   ]
  },
  {
   "cell_type": "code",
   "execution_count": 54,
   "metadata": {
    "ExecuteTime": {
     "end_time": "2020-05-13T10:32:32.612310Z",
     "start_time": "2020-05-13T10:32:32.607489Z"
    }
   },
   "outputs": [],
   "source": [
    "a=np.array([1,2,3,np.nan,5,6,7,np.nan])\n",
    "#your code"
   ]
  },
  {
   "cell_type": "code",
   "execution_count": 55,
   "metadata": {
    "ExecuteTime": {
     "end_time": "2020-05-13T10:32:32.621333Z",
     "start_time": "2020-05-13T10:32:32.615146Z"
    }
   },
   "outputs": [
    {
     "data": {
      "text/plain": [
       "array([1., 2., 3., 5., 6., 7.])"
      ]
     },
     "execution_count": 55,
     "metadata": {},
     "output_type": "execute_result"
    }
   ],
   "source": [
    "a[np.logical_not(np.isnan(a))]"
   ]
  },
  {
   "cell_type": "markdown",
   "metadata": {
    "ExecuteTime": {
     "end_time": "2020-04-06T09:34:28.537538Z",
     "start_time": "2020-04-06T09:34:28.535878Z"
    }
   },
   "source": [
    "# find the local maxima(peak) and local minima(peak) position in an array"
   ]
  },
  {
   "cell_type": "code",
   "execution_count": 56,
   "metadata": {
    "ExecuteTime": {
     "end_time": "2020-05-13T10:32:33.244589Z",
     "start_time": "2020-05-13T10:32:32.624699Z"
    }
   },
   "outputs": [
    {
     "data": {
      "text/plain": [
       "[<matplotlib.lines.Line2D at 0x112eaafd0>]"
      ]
     },
     "execution_count": 56,
     "metadata": {},
     "output_type": "execute_result"
    },
    {
     "data": {
      "image/png": "[encoded data removed]",
      "text/plain": [
       "<Figure size 432x288 with 1 Axes>"
      ]
     },
     "metadata": {
      "needs_background": "light"
     },
     "output_type": "display_data"
    }
   ],
   "source": [
    "\n",
    "a=np.array([9,1,2,3,8,2,7,6])\n",
    "import matplotlib.pyplot as plt\n",
    "plt.plot(a)\n",
    "#ans:[4,6]-->>local_max and [1,5]-->local_min"
   ]
  },
  {
   "cell_type": "code",
   "execution_count": 57,
   "metadata": {
    "ExecuteTime": {
     "end_time": "2020-05-13T10:32:33.256484Z",
     "start_time": "2020-05-13T10:32:33.248591Z"
    }
   },
   "outputs": [
    {
     "name": "stdout",
     "output_type": "stream",
     "text": [
      "[4 6]\n",
      "[1 5]\n"
     ]
    }
   ],
   "source": [
    "\n",
    "peaks = np.where((a[1:-1] > a[0:-2]) * (a[1:-1] > a[2:]))[0] + 1\n",
    "print(peaks)\n",
    "dips = np.where((a[1:-1] < a[0:-2]) * (a[1:-1] < a[2:]))[0] + 1\n",
    "print(dips)"
   ]
  },
  {
   "cell_type": "markdown",
   "metadata": {
    "ExecuteTime": {
     "end_time": "2020-04-06T09:36:44.013298Z",
     "start_time": "2020-04-06T09:36:44.011940Z"
    }
   },
   "source": [
    "# subtract a 1d array from a 2d array where each element of 1d array subtracts from respective row?\n",
    "\n",
    "([[6, 6, 6],\n",
    "       [3, 3, 3],\n",
    "       [6, 6, 6]])"
   ]
  },
  {
   "cell_type": "code",
   "execution_count": 58,
   "metadata": {
    "ExecuteTime": {
     "end_time": "2020-05-13T10:32:33.270062Z",
     "start_time": "2020-05-13T10:32:33.262557Z"
    }
   },
   "outputs": [
    {
     "data": {
      "text/plain": [
       "array([[6, 6, 6],\n",
       "       [3, 3, 3],\n",
       "       [6, 6, 6]])"
      ]
     },
     "execution_count": 58,
     "metadata": {},
     "output_type": "execute_result"
    }
   ],
   "source": [
    "a_2d = np.array([[7,7,7],[5,5,5],[9,9,9]])\n",
    "b_1d = np.array([1,2,3])\n",
    "#your code\n",
    "b=b_1d[:,None]\n",
    "c=a_2d-b\n",
    "c"
   ]
  },
  {
   "cell_type": "markdown",
   "metadata": {
    "ExecuteTime": {
     "end_time": "2020-04-06T09:37:13.837505Z",
     "start_time": "2020-04-06T09:37:13.832455Z"
    }
   },
   "source": [
    "# find the index of 2th repetation of number 2"
   ]
  },
  {
   "cell_type": "code",
   "execution_count": 59,
   "metadata": {
    "ExecuteTime": {
     "end_time": "2020-05-13T10:32:33.280612Z",
     "start_time": "2020-05-13T10:32:33.273377Z"
    }
   },
   "outputs": [
    {
     "data": {
      "text/plain": [
       "array([1, 2, 1, 1, 3, 4, 3, 1, 1, 2, 1, 1, 2])"
      ]
     },
     "execution_count": 59,
     "metadata": {},
     "output_type": "execute_result"
    }
   ],
   "source": [
    "x = np.array([1, 2, 1, 1, 3, 4, 3, 1, 1, 2, 1, 1, 2])\n",
    "#hint you can use np.where\n",
    "x\n"
   ]
  },
  {
   "cell_type": "code",
   "execution_count": 60,
   "metadata": {
    "ExecuteTime": {
     "end_time": "2020-05-13T10:32:33.291377Z",
     "start_time": "2020-05-13T10:32:33.284575Z"
    }
   },
   "outputs": [
    {
     "name": "stdout",
     "output_type": "stream",
     "text": [
      "index of 2nd repetation of number 2 is: [9]\n"
     ]
    }
   ],
   "source": [
    "\n",
    "index_sets = [np.argwhere(i==x) for i in np.unique(x)]\n",
    "print(\"index of 2nd repetation of number 2 is: \"+str(index_sets[1][1]))"
   ]
  },
  {
   "cell_type": "code",
   "execution_count": null,
   "metadata": {},
   "outputs": [],
   "source": []
  },
  {
   "cell_type": "markdown",
   "metadata": {
    "ExecuteTime": {
     "end_time": "2020-04-06T09:42:31.587423Z",
     "start_time": "2020-04-06T09:42:31.581862Z"
    }
   },
   "source": [
    " \n",
    "# FILL IN THE MISIING date in the array\n"
   ]
  },
  {
   "cell_type": "code",
   "execution_count": 1,
   "metadata": {
    "ExecuteTime": {
     "end_time": "2020-05-14T09:53:06.074353Z",
     "start_time": "2020-05-14T09:53:06.068355Z"
    }
   },
   "outputs": [
    {
     "name": "stdout",
     "output_type": "stream",
     "text": [
      "['2020-05-10' '2020-05-11' '2020-05-12' '2020-05-13' '2020-05-14'\n",
      " '2020-05-15' '2020-05-16' '2020-05-17' '2020-05-18' '2020-05-19'\n",
      " '2020-05-20' '2020-05-21' '2020-05-22' '2020-05-23' '2020-05-24'\n",
      " '2020-05-25' '2020-05-26' '2020-05-27' '2020-05-28' '2020-05-29'\n",
      " '2020-05-30' '2020-05-31' '2020-06-01' '2020-06-02' '2020-06-03'\n",
      " '2020-06-04' '2020-06-05' '2020-06-06' '2020-06-07' '2020-06-08'\n",
      " '2020-06-09' '2020-06-10' '2020-06-11' '2020-06-12' '2020-06-13'\n",
      " '2020-06-14' '2020-06-15' '2020-06-16' '2020-06-17' '2020-06-18'\n",
      " '2020-06-19' '2020-06-20' '2020-06-21' '2020-06-22' '2020-06-23'\n",
      " '2020-06-24']\n"
     ]
    }
   ],
   "source": [
    "dates = np.arange(np.datetime64('2020-05-10'), np.datetime64('2020-06-25'), 1)\n",
    "print(dates)"
   ]
  },
  {
   "cell_type": "markdown",
   "metadata": {
    "ExecuteTime": {
     "end_time": "2020-05-12T10:04:26.057106Z",
     "start_time": "2020-05-12T10:04:26.042584Z"
    }
   },
   "source": [
    "# compute the Moving average "
   ]
  },
  {
   "cell_type": "code",
   "execution_count": 62,
   "metadata": {
    "ExecuteTime": {
     "end_time": "2020-05-13T10:32:33.309698Z",
     "start_time": "2020-05-13T10:32:33.305262Z"
    }
   },
   "outputs": [
    {
     "name": "stdout",
     "output_type": "stream",
     "text": [
      "[8 8 3 7 7 0 4 2 5 2]\n"
     ]
    }
   ],
   "source": [
    "np.random.seed(100)\n",
    "Z = np.random.randint(10, size=10)\n",
    "print(Z)\n",
    "#https://en.wikipedia.org/wiki/Moving_average"
   ]
  },
  {
   "cell_type": "code",
   "execution_count": 63,
   "metadata": {
    "ExecuteTime": {
     "end_time": "2020-05-13T10:32:33.324606Z",
     "start_time": "2020-05-13T10:32:33.314016Z"
    }
   },
   "outputs": [
    {
     "name": "stdout",
     "output_type": "stream",
     "text": [
      "[1.33 1.33 1.33]\n"
     ]
    }
   ],
   "source": [
    "from numpy import convolve\n",
    " \n",
    "def movingaverage (values, window):\n",
    "    weights = np.repeat(1.0, window)/window\n",
    "    sma = np.convolve(values, weights, 'valid')\n",
    "    return sma\n",
    "MA = movingaverage(z,3)\n",
    "print(MA)"
   ]
  },
  {
   "cell_type": "code",
   "execution_count": null,
   "metadata": {},
   "outputs": [],
   "source": []
  },
  {
   "cell_type": "code",
   "execution_count": null,
   "metadata": {},
   "outputs": [],
   "source": []
  }
 ],
 "metadata": {
  "kernelspec": {
   "display_name": "Python 3",
   "language": "python",
   "name": "python3"
  },
  "language_info": {
   "codemirror_mode": {
    "name": "ipython",
    "version": 3
   },
   "file_extension": ".py",
   "mimetype": "text/x-python",
   "name": "python",
   "nbconvert_exporter": "python",
   "pygments_lexer": "ipython3",
   "version": "3.7.4"
  },
  "toc": {
   "base_numbering": 1,
   "nav_menu": {},
   "number_sections": true,
   "sideBar": true,
   "skip_h1_title": false,
   "title_cell": "Table of Contents",
   "title_sidebar": "Contents",
   "toc_cell": false,
   "toc_position": {},
   "toc_section_display": true,
   "toc_window_display": false
  },
  "varInspector": {
   "cols": {
    "lenName": 16,
    "lenType": 16,
    "lenVar": 40
   },
   "kernels_config": {
    "python": {
     "delete_cmd_postfix": "",
     "delete_cmd_prefix": "del ",
     "library": "var_list.py",
     "varRefreshCmd": "print(var_dic_list())"
    },
    "r": {
     "delete_cmd_postfix": ") ",
     "delete_cmd_prefix": "rm(",
     "library": "var_list.r",
     "varRefreshCmd": "cat(var_dic_list()) "
    }
   },
   "types_to_exclude": [
    "module",
    "function",
    "builtin_function_or_method",
    "instance",
    "_Feature"
   ],
   "window_display": false
  }
 },
 "nbformat": 4,
 "nbformat_minor": 2
}
