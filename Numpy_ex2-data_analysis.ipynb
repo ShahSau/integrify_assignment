{
 "cells": [
  {
   "cell_type": "code",
   "execution_count": 1,
   "metadata": {
    "ExecuteTime": {
     "end_time": "2020-05-12T10:46:48.868063Z",
     "start_time": "2020-05-12T10:46:48.820127Z"
    }
   },
   "outputs": [],
   "source": [
    "import numpy as np"
   ]
  },
  {
   "cell_type": "markdown",
   "metadata": {
    "ExecuteTime": {
     "end_time": "2020-04-06T10:48:42.994200Z",
     "start_time": "2020-04-06T10:48:42.989122Z"
    }
   },
   "source": [
    "## import a iris_dataset "
   ]
  },
  {
   "cell_type": "code",
   "execution_count": 2,
   "metadata": {
    "ExecuteTime": {
     "end_time": "2020-05-12T10:46:48.870539Z",
     "start_time": "2020-05-12T10:46:48.869079Z"
    }
   },
   "outputs": [],
   "source": [
    "url=\"https://archive.ics.uci.edu/ml/machine-learning-databases/iris/iris.data\"\n",
    "\n"
   ]
  },
  {
   "cell_type": "code",
   "execution_count": 3,
   "metadata": {
    "ExecuteTime": {
     "end_time": "2020-05-12T10:46:48.872628Z",
     "start_time": "2020-05-12T10:46:48.871311Z"
    },
    "scrolled": true
   },
   "outputs": [],
   "source": [
    "#hint : use np.genfromtxt\n",
    "#iris=#your code\n",
    "# print iris shape"
   ]
  },
  {
   "cell_type": "markdown",
   "metadata": {
    "ExecuteTime": {
     "end_time": "2020-04-06T10:48:44.888012Z",
     "start_time": "2020-04-06T10:48:44.886467Z"
    }
   },
   "source": [
    "## print 1st 3 row of iris"
   ]
  },
  {
   "cell_type": "code",
   "execution_count": null,
   "metadata": {
    "ExecuteTime": {
     "end_time": "2020-04-06T10:48:45.496583Z",
     "start_time": "2020-04-06T10:48:45.491135Z"
    }
   },
   "outputs": [],
   "source": []
  },
  {
   "cell_type": "markdown",
   "metadata": {
    "ExecuteTime": {
     "end_time": "2020-04-06T10:48:47.623909Z",
     "start_time": "2020-04-06T10:48:47.622406Z"
    }
   },
   "source": [
    "##  extract the last colum from the 1D iris dataset"
   ]
  },
  {
   "cell_type": "code",
   "execution_count": null,
   "metadata": {
    "ExecuteTime": {
     "end_time": "2020-04-06T10:48:48.494997Z",
     "start_time": "2020-04-06T10:48:48.492335Z"
    }
   },
   "outputs": [],
   "source": []
  },
  {
   "cell_type": "markdown",
   "metadata": {
    "ExecuteTime": {
     "end_time": "2020-04-06T10:34:00.231956Z",
     "start_time": "2020-04-06T10:34:00.227585Z"
    }
   },
   "source": [
    "##  create an iris_2d removing the last column"
   ]
  },
  {
   "cell_type": "code",
   "execution_count": null,
   "metadata": {
    "ExecuteTime": {
     "end_time": "2020-04-06T10:34:01.216638Z",
     "start_time": "2020-04-06T10:34:01.214650Z"
    }
   },
   "outputs": [],
   "source": []
  },
  {
   "cell_type": "markdown",
   "metadata": {
    "ExecuteTime": {
     "end_time": "2020-04-06T10:34:02.151392Z",
     "start_time": "2020-04-06T10:34:02.146942Z"
    }
   },
   "source": [
    "##   print(last 4 column)"
   ]
  },
  {
   "cell_type": "code",
   "execution_count": null,
   "metadata": {
    "ExecuteTime": {
     "end_time": "2020-04-06T10:34:02.562300Z",
     "start_time": "2020-04-06T10:34:02.557837Z"
    }
   },
   "outputs": [],
   "source": []
  },
  {
   "cell_type": "markdown",
   "metadata": {
    "ExecuteTime": {
     "end_time": "2020-04-06T10:34:03.049365Z",
     "start_time": "2020-04-06T10:34:03.044509Z"
    }
   },
   "source": [
    "## caluclate the mean med and std of 1st column from iris_2d"
   ]
  },
  {
   "cell_type": "code",
   "execution_count": null,
   "metadata": {
    "ExecuteTime": {
     "end_time": "2020-04-06T10:34:03.560995Z",
     "start_time": "2020-04-06T10:34:03.547880Z"
    }
   },
   "outputs": [],
   "source": []
  },
  {
   "cell_type": "markdown",
   "metadata": {
    "ExecuteTime": {
     "end_time": "2020-04-06T10:34:03.987883Z",
     "start_time": "2020-04-06T10:34:03.982158Z"
    }
   },
   "source": [
    "##  normalize the array so that the value fall between o and 1\n",
    "$$formula = \\frac{x-x.min()}{(x.max()-x.min())}$$\n"
   ]
  },
  {
   "cell_type": "code",
   "execution_count": null,
   "metadata": {
    "ExecuteTime": {
     "end_time": "2020-04-06T10:34:04.303343Z",
     "start_time": "2020-04-06T10:34:04.292173Z"
    }
   },
   "outputs": [],
   "source": []
  },
  {
   "cell_type": "markdown",
   "metadata": {
    "ExecuteTime": {
     "end_time": "2020-04-06T10:34:04.520869Z",
     "start_time": "2020-04-06T10:34:04.519096Z"
    }
   },
   "source": [
    "##  compute the softmax score \n",
    "https://en.wikipedia.org/wiki/Softmax_function"
   ]
  },
  {
   "cell_type": "code",
   "execution_count": null,
   "metadata": {},
   "outputs": [],
   "source": []
  },
  {
   "cell_type": "markdown",
   "metadata": {
    "ExecuteTime": {
     "end_time": "2020-04-06T10:34:05.058657Z",
     "start_time": "2020-04-06T10:34:05.052241Z"
    }
   },
   "source": [
    "##  calculate the 5th and 95th percentile "
   ]
  },
  {
   "cell_type": "code",
   "execution_count": null,
   "metadata": {
    "ExecuteTime": {
     "end_time": "2020-04-06T10:34:05.449868Z",
     "start_time": "2020-04-06T10:34:05.445600Z"
    }
   },
   "outputs": [],
   "source": []
  },
  {
   "cell_type": "markdown",
   "metadata": {
    "ExecuteTime": {
     "end_time": "2020-04-06T10:34:09.423412Z",
     "start_time": "2020-04-06T10:34:09.421633Z"
    }
   },
   "source": [
    "## insert nan value at random  20th position for all row"
   ]
  },
  {
   "cell_type": "code",
   "execution_count": null,
   "metadata": {
    "ExecuteTime": {
     "end_time": "2020-04-06T10:34:11.037548Z",
     "start_time": "2020-04-06T10:34:11.035517Z"
    }
   },
   "outputs": [],
   "source": []
  },
  {
   "cell_type": "code",
   "execution_count": null,
   "metadata": {
    "ExecuteTime": {
     "end_time": "2020-04-06T10:34:11.848291Z",
     "start_time": "2020-04-06T10:34:11.845615Z"
    }
   },
   "outputs": [],
   "source": []
  },
  {
   "cell_type": "code",
   "execution_count": null,
   "metadata": {},
   "outputs": [],
   "source": []
  },
  {
   "cell_type": "markdown",
   "metadata": {
    "ExecuteTime": {
     "end_time": "2020-04-06T10:34:15.641015Z",
     "start_time": "2020-04-06T10:34:15.639548Z"
    }
   },
   "source": [
    "## find if there are any null value"
   ]
  },
  {
   "cell_type": "code",
   "execution_count": null,
   "metadata": {
    "ExecuteTime": {
     "end_time": "2020-04-06T10:34:17.314787Z",
     "start_time": "2020-04-06T10:34:17.312554Z"
    }
   },
   "outputs": [],
   "source": []
  },
  {
   "cell_type": "markdown",
   "metadata": {
    "ExecuteTime": {
     "end_time": "2020-04-06T10:34:18.615604Z",
     "start_time": "2020-04-06T10:34:18.613680Z"
    }
   },
   "source": [
    "##  find the number and position of missing value\n",
    "\n",
    "hint: you can use np.where for position"
   ]
  },
  {
   "cell_type": "markdown",
   "metadata": {
    "ExecuteTime": {
     "end_time": "2020-04-06T10:38:14.102134Z",
     "start_time": "2020-04-06T10:38:14.100363Z"
    }
   },
   "source": [
    "##  drop the missing value\n"
   ]
  },
  {
   "cell_type": "markdown",
   "metadata": {
    "ExecuteTime": {
     "end_time": "2020-04-06T10:38:26.406089Z",
     "start_time": "2020-04-06T10:38:26.404623Z"
    }
   },
   "source": [
    "## filter the row of iris2d wher petallength>1.5 and sepallength <5"
   ]
  },
  {
   "cell_type": "code",
   "execution_count": 4,
   "metadata": {
    "ExecuteTime": {
     "end_time": "2020-05-12T10:46:48.874660Z",
     "start_time": "2020-05-12T10:46:48.873304Z"
    }
   },
   "outputs": [],
   "source": [
    "# hint here petallength is iris_2d[:,2]\n"
   ]
  },
  {
   "cell_type": "code",
   "execution_count": null,
   "metadata": {
    "ExecuteTime": {
     "end_time": "2020-04-06T10:38:28.315097Z",
     "start_time": "2020-04-06T10:38:28.310252Z"
    }
   },
   "outputs": [],
   "source": []
  },
  {
   "cell_type": "code",
   "execution_count": null,
   "metadata": {},
   "outputs": [],
   "source": []
  },
  {
   "cell_type": "markdown",
   "metadata": {
    "ExecuteTime": {
     "end_time": "2020-04-06T10:04:50.768348Z",
     "start_time": "2020-04-06T10:04:50.766934Z"
    }
   },
   "source": [
    "##  find the corelation betwee sepal lenth and petal length\n"
   ]
  },
  {
   "cell_type": "code",
   "execution_count": null,
   "metadata": {
    "ExecuteTime": {
     "end_time": "2020-04-06T10:38:33.317822Z",
     "start_time": "2020-04-06T10:38:33.314773Z"
    }
   },
   "outputs": [],
   "source": []
  },
  {
   "cell_type": "markdown",
   "metadata": {},
   "source": [
    "## find the unique value and the count of unique value from iris"
   ]
  },
  {
   "cell_type": "code",
   "execution_count": null,
   "metadata": {
    "ExecuteTime": {
     "end_time": "2020-04-06T10:40:01.936399Z",
     "start_time": "2020-04-06T10:40:01.933792Z"
    }
   },
   "outputs": [],
   "source": []
  },
  {
   "cell_type": "code",
   "execution_count": null,
   "metadata": {},
   "outputs": [],
   "source": []
  },
  {
   "cell_type": "markdown",
   "metadata": {
    "ExecuteTime": {
     "end_time": "2020-04-06T10:09:32.673975Z",
     "start_time": "2020-04-06T10:09:32.672578Z"
    }
   },
   "source": [
    "##  convert numerical to categorical petal_length\n",
    "- Less than 3 –> ‘small’\n",
    "\n",
    "- 3-5 –> ‘medium’\n",
    "\n",
    "- greater(>)=5 –> ‘large’\n",
    "\n",
    "hint: you can use np.digitize"
   ]
  },
  {
   "cell_type": "markdown",
   "metadata": {
    "ExecuteTime": {
     "end_time": "2020-04-06T10:09:55.713771Z",
     "start_time": "2020-04-06T10:09:55.712389Z"
    }
   },
   "source": [
    "##  create a new column to calc the voume \n",
    "\n",
    "volume=(pi X petallength X sepal_length²)/3"
   ]
  },
  {
   "cell_type": "markdown",
   "metadata": {},
   "source": [
    "##  get the longest petallength of the species setosa"
   ]
  },
  {
   "cell_type": "code",
   "execution_count": null,
   "metadata": {
    "ExecuteTime": {
     "end_time": "2020-04-06T10:42:51.638880Z",
     "start_time": "2020-04-06T10:42:51.632591Z"
    }
   },
   "outputs": [],
   "source": []
  },
  {
   "cell_type": "markdown",
   "metadata": {},
   "source": [
    "##  sort iris dataset on the basis if sepallength"
   ]
  },
  {
   "cell_type": "code",
   "execution_count": null,
   "metadata": {
    "ExecuteTime": {
     "end_time": "2020-04-06T10:43:02.749902Z",
     "start_time": "2020-04-06T10:43:02.747705Z"
    }
   },
   "outputs": [],
   "source": []
  },
  {
   "cell_type": "markdown",
   "metadata": {},
   "source": [
    "## Q 21 find the most_frequent value in the dataset"
   ]
  },
  {
   "cell_type": "code",
   "execution_count": null,
   "metadata": {
    "ExecuteTime": {
     "end_time": "2020-04-06T10:43:23.946031Z",
     "start_time": "2020-04-06T10:43:23.943528Z"
    }
   },
   "outputs": [],
   "source": [
    "\n"
   ]
  },
  {
   "cell_type": "markdown",
   "metadata": {},
   "source": [
    "##  find the postition of the first occurance of a value greater thean 1 in petalwidth 4 th coulum"
   ]
  },
  {
   "cell_type": "code",
   "execution_count": null,
   "metadata": {
    "ExecuteTime": {
     "end_time": "2020-04-06T10:43:36.255883Z",
     "start_time": "2020-04-06T10:43:36.250024Z"
    }
   },
   "outputs": [],
   "source": []
  },
  {
   "cell_type": "markdown",
   "metadata": {},
   "source": [
    "##  grouped by a categorical variable \n",
    "Create row numbers grouped by a categorical variable. Use the **species** from iris species as input.\n",
    "- sort and select a random species of 20 from species \n",
    "- from the selected random species create a categorical variable"
   ]
  },
  {
   "cell_type": "code",
   "execution_count": null,
   "metadata": {},
   "outputs": [],
   "source": []
  },
  {
   "cell_type": "markdown",
   "metadata": {},
   "source": [
    " ##  create a group ids based on the given categorical variable"
   ]
  },
  {
   "cell_type": "code",
   "execution_count": 5,
   "metadata": {
    "ExecuteTime": {
     "end_time": "2020-05-12T10:46:48.902586Z",
     "start_time": "2020-05-12T10:46:48.875359Z"
    }
   },
   "outputs": [],
   "source": []
  },
  {
   "cell_type": "markdown",
   "metadata": {},
   "source": [
    " ##  find the mean of column group by categorical cloumn"
   ]
  },
  {
   "cell_type": "code",
   "execution_count": null,
   "metadata": {
    "ExecuteTime": {
     "end_time": "2020-04-06T10:53:33.415702Z",
     "start_time": "2020-04-06T10:53:33.413873Z"
    }
   },
   "outputs": [],
   "source": []
  },
  {
   "cell_type": "code",
   "execution_count": null,
   "metadata": {
    "ExecuteTime": {
     "end_time": "2020-04-06T10:53:33.965162Z",
     "start_time": "2020-04-06T10:53:33.952878Z"
    }
   },
   "outputs": [],
   "source": []
  },
  {
   "cell_type": "code",
   "execution_count": null,
   "metadata": {},
   "outputs": [],
   "source": []
  }
 ],
 "metadata": {
  "kernelspec": {
   "display_name": "Python 3",
   "language": "python",
   "name": "python3"
  },
  "language_info": {
   "codemirror_mode": {
    "name": "ipython",
    "version": 3
   },
   "file_extension": ".py",
   "mimetype": "text/x-python",
   "name": "python",
   "nbconvert_exporter": "python",
   "pygments_lexer": "ipython3",
   "version": "3.7.4"
  },
  "toc": {
   "base_numbering": 1,
   "nav_menu": {},
   "number_sections": true,
   "sideBar": true,
   "skip_h1_title": false,
   "title_cell": "Table of Contents",
   "title_sidebar": "Contents",
   "toc_cell": false,
   "toc_position": {},
   "toc_section_display": true,
   "toc_window_display": false
  },
  "varInspector": {
   "cols": {
    "lenName": 16,
    "lenType": 16,
    "lenVar": 40
   },
   "kernels_config": {
    "python": {
     "delete_cmd_postfix": "",
     "delete_cmd_prefix": "del ",
     "library": "var_list.py",
     "varRefreshCmd": "print(var_dic_list())"
    },
    "r": {
     "delete_cmd_postfix": ") ",
     "delete_cmd_prefix": "rm(",
     "library": "var_list.r",
     "varRefreshCmd": "cat(var_dic_list()) "
    }
   },
   "types_to_exclude": [
    "module",
    "function",
    "builtin_function_or_method",
    "instance",
    "_Feature"
   ],
   "window_display": false
  }
 },
 "nbformat": 4,
 "nbformat_minor": 2
}
