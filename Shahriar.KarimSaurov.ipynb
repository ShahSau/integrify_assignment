{
 "cells": [
  {
   "cell_type": "code",
   "execution_count": 28,
   "metadata": {},
   "outputs": [
    {
     "name": "stdout",
     "output_type": "stream",
     "text": [
      "enter the number:55\n",
      "Pass\n"
     ]
    }
   ],
   "source": [
    "#question 1\n",
    "s= int(input(\"enter the number: \"))\n",
    "if s> 40:\n",
    "    print(\"Pass\")\n",
    "else:\n",
    "    print(\"Fail\")"
   ]
  },
  {
   "cell_type": "code",
   "execution_count": 12,
   "metadata": {},
   "outputs": [
    {
     "name": "stdout",
     "output_type": "stream",
     "text": [
      "0x1d\n"
     ]
    }
   ],
   "source": [
    "#question number 2\n",
    "print(hex(29))"
   ]
  },
  {
   "cell_type": "code",
   "execution_count": 29,
   "metadata": {},
   "outputs": [
    {
     "name": "stdout",
     "output_type": "stream",
     "text": [
      "enter the number:3\n",
      "odd\n"
     ]
    }
   ],
   "source": [
    "#question 3\n",
    "s= int(input(\"enter the number: \"))\n",
    "if s%2 == 0:\n",
    "    print(\"Even\")\n",
    "else:\n",
    "    print(\"odd\")"
   ]
  },
  {
   "cell_type": "code",
   "execution_count": 31,
   "metadata": {},
   "outputs": [
    {
     "name": "stdout",
     "output_type": "stream",
     "text": [
      "consume electricty:22\n",
      "5.4\n"
     ]
    }
   ],
   "source": [
    "#question 4\n",
    "units_consume=int(input(\"consume electricty :\"))\n",
    "if units_consume <= 300:\n",
    "    bill= units_consume*0.2\n",
    "elif units_consume>300 and units_consume<=500:\n",
    "     bill= units_consume*0.5\n",
    "elif units_consume>500:\n",
    "    bill= units_consume*0.7\n",
    "    \n",
    "total_bill= bill +1\n",
    "#print(total_bill)\n",
    "if total_bill <= 50:\n",
    "    print(total_bill)\n",
    "elif total_bill > 50:\n",
    "    Ntotal_bill = total_bill*1.05\n",
    "    print(Ntotal_bill)\n"
   ]
  },
  {
   "cell_type": "code",
   "execution_count": 7,
   "metadata": {},
   "outputs": [
    {
     "name": "stdout",
     "output_type": "stream",
     "text": [
      "yfirgetni\n"
     ]
    }
   ],
   "source": [
    "#question 5\n",
    "def reverse(s):\n",
    "    s1 = ''\n",
    "    l = len(s) - 1\n",
    "    while l >= 0:\n",
    "        s1 = s1 + s[l]\n",
    "        l = l - 1\n",
    "    return s1\n",
    "\n",
    "string= 'integrify'\n",
    "\n",
    "print(reverse(string))"
   ]
  },
  {
   "cell_type": "code",
   "execution_count": 4,
   "metadata": {},
   "outputs": [
    {
     "name": "stdout",
     "output_type": "stream",
     "text": [
      "9\n"
     ]
    }
   ],
   "source": [
    "#question 6\n",
    "def len(str): \n",
    "    l = 0\n",
    "    while str[l:]: \n",
    "        l += 1\n",
    "    return l \n",
    "  \n",
    "str = \"integrify\"\n",
    "print(len(str)) "
   ]
  },
  {
   "cell_type": "code",
   "execution_count": 39,
   "metadata": {},
   "outputs": [
    {
     "name": "stdout",
     "output_type": "stream",
     "text": [
      "['Python', '3.x', 'Programming', 'for', 'Data', 'Science', '&', 'ML.']\n"
     ]
    }
   ],
   "source": [
    "#question 8\n",
    "Target_String='Python 3.x Programming for Data Science & ML.'\n",
    "print(Target_String.split(' '))"
   ]
  },
  {
   "cell_type": "code",
   "execution_count": 41,
   "metadata": {},
   "outputs": [
    {
     "name": "stdout",
     "output_type": "stream",
     "text": [
      "True\n"
     ]
    }
   ],
   "source": [
    "#question9\n",
    "s=\"6\"\n",
    "digit = lambda string: string.isdigit()\n",
    "\n",
    "print(digit(s))"
   ]
  },
  {
   "cell_type": "code",
   "execution_count": 25,
   "metadata": {},
   "outputs": [
    {
     "name": "stdout",
     "output_type": "stream",
     "text": [
      "1\n",
      "2\n",
      "3\n",
      "6\n"
     ]
    }
   ],
   "source": [
    "#question 11\n",
    "def factors(s):\n",
    "   for i in range(1, s + 1):\n",
    "       if s % i == 0:\n",
    "           print(i)\n",
    "\n",
    "num = 6\n",
    "\n",
    "factors(num)"
   ]
  },
  {
   "cell_type": "code",
   "execution_count": 35,
   "metadata": {},
   "outputs": [
    {
     "name": "stdout",
     "output_type": "stream",
     "text": [
      " *****\n",
      "*   *\n",
      "*   *\n",
      "*****\n",
      "*   *\n",
      "*   *\n",
      "*   *\n",
      "\n"
     ]
    }
   ],
   "source": [
    "#question 10\n",
    "s= \" \"\n",
    "for r in range(7):\n",
    "    for c in range(5):\n",
    "        if (c==0 or c==4) or ((r==0 or r==3) and (c>0 and c<4)):\n",
    "            s = s + \"*\"\n",
    "        else:\n",
    "            s =s + \" \"\n",
    "    s=s+\"\\n\"\n",
    "print(s)"
   ]
  },
  {
   "cell_type": "code",
   "execution_count": null,
   "metadata": {},
   "outputs": [],
   "source": []
  },
  {
   "cell_type": "code",
   "execution_count": null,
   "metadata": {},
   "outputs": [],
   "source": []
  }
 ],
 "metadata": {
  "kernelspec": {
   "display_name": "Python 3",
   "language": "python",
   "name": "python3"
  },
  "language_info": {
   "codemirror_mode": {
    "name": "ipython",
    "version": 3
   },
   "file_extension": ".py",
   "mimetype": "text/x-python",
   "name": "python",
   "nbconvert_exporter": "python",
   "pygments_lexer": "ipython3",
   "version": "3.7.4"
  }
 },
 "nbformat": 4,
 "nbformat_minor": 4
}
