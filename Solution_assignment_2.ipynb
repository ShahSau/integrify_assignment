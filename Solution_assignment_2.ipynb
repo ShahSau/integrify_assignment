{
 "cells": [
  {
   "cell_type": "code",
   "execution_count": 1,
   "metadata": {
    "ExecuteTime": {
     "end_time": "2020-04-25T22:43:31.264381Z",
     "start_time": "2020-04-25T22:43:31.256848Z"
    }
   },
   "outputs": [],
   "source": [
    "str1 = \"this is a sample DaTaa\""
   ]
  },
  {
   "cell_type": "code",
   "execution_count": 2,
   "metadata": {
    "ExecuteTime": {
     "end_time": "2020-04-25T22:43:50.292641Z",
     "start_time": "2020-04-25T22:43:50.280893Z"
    }
   },
   "outputs": [
    {
     "data": {
      "text/plain": [
       "True"
      ]
     },
     "execution_count": 2,
     "metadata": {},
     "output_type": "execute_result"
    }
   ],
   "source": [
    "#Exercise 1: Check if 'is' present in str1 \n",
    "'is' in str1"
   ]
  },
  {
   "cell_type": "code",
   "execution_count": 3,
   "metadata": {
    "ExecuteTime": {
     "end_time": "2020-04-25T22:44:05.162770Z",
     "start_time": "2020-04-25T22:44:05.141891Z"
    }
   },
   "outputs": [
    {
     "data": {
      "text/plain": [
       "False"
      ]
     },
     "execution_count": 3,
     "metadata": {},
     "output_type": "execute_result"
    }
   ],
   "source": [
    "#Exercise 2: Check if 'was' not present in str1\n",
    "'was' in str1"
   ]
  },
  {
   "cell_type": "code",
   "execution_count": 8,
   "metadata": {
    "ExecuteTime": {
     "end_time": "2020-04-25T22:44:56.280399Z",
     "start_time": "2020-04-25T22:44:56.253446Z"
    }
   },
   "outputs": [
    {
     "data": {
      "text/plain": [
       "'THIS IS A SAMPLE DATAA'"
      ]
     },
     "execution_count": 8,
     "metadata": {},
     "output_type": "execute_result"
    }
   ],
   "source": [
    "#Exercise 3: Print str1 in uppercase\n",
    "str1.upper()"
   ]
  },
  {
   "cell_type": "code",
   "execution_count": 9,
   "metadata": {
    "ExecuteTime": {
     "end_time": "2020-04-25T22:45:16.800171Z",
     "start_time": "2020-04-25T22:45:16.792511Z"
    }
   },
   "outputs": [
    {
     "data": {
      "text/plain": [
       "'This Is A Sample Dataa'"
      ]
     },
     "execution_count": 9,
     "metadata": {},
     "output_type": "execute_result"
    }
   ],
   "source": [
    "#Exercise 4: Print str1 as title\n",
    "str1.title()"
   ]
  },
  {
   "cell_type": "code",
   "execution_count": 22,
   "metadata": {
    "ExecuteTime": {
     "end_time": "2020-04-25T22:53:53.056597Z",
     "start_time": "2020-04-25T22:53:53.037865Z"
    }
   },
   "outputs": [
    {
     "name": "stdout",
     "output_type": "stream",
     "text": [
      "Data\n"
     ]
    }
   ],
   "source": [
    "#Exercise 6: Get a new string from str1 'DatTaa' as 'Data'\n",
    "str1='DatTaa'\n",
    "new=str1.replace('DatTaa', 'Data')\n",
    "print(new)\n"
   ]
  },
  {
   "cell_type": "code",
   "execution_count": 25,
   "metadata": {
    "ExecuteTime": {
     "end_time": "2020-04-25T22:55:41.216691Z",
     "start_time": "2020-04-25T22:55:41.197439Z"
    }
   },
   "outputs": [
    {
     "name": "stdout",
     "output_type": "stream",
     "text": [
      "DatTa\n"
     ]
    }
   ],
   "source": [
    "#Exercise 7: Get a new string from str1 with extra 'a' removed from 'DatTaa'\n",
    "str1='DatTaa'\n",
    "new=str1[:-1]\n",
    "print(new)"
   ]
  },
  {
   "cell_type": "code",
   "execution_count": 30,
   "metadata": {
    "ExecuteTime": {
     "end_time": "2020-04-25T22:58:10.878980Z",
     "start_time": "2020-04-25T22:58:10.845409Z"
    }
   },
   "outputs": [
    {
     "data": {
      "text/plain": [
       "'sample '"
      ]
     },
     "execution_count": 30,
     "metadata": {},
     "output_type": "execute_result"
    }
   ],
   "source": [
    "#Exercise 9: Display 'sample' word from 'this is another sample string' ¶\n",
    "sample_string = 'this is another sample string'\n",
    "sample_string[16:23]"
   ]
  },
  {
   "cell_type": "code",
   "execution_count": 37,
   "metadata": {
    "ExecuteTime": {
     "end_time": "2020-04-25T23:01:11.051407Z",
     "start_time": "2020-04-25T23:01:11.041982Z"
    }
   },
   "outputs": [
    {
     "name": "stdout",
     "output_type": "stream",
     "text": [
      "date is 10\n",
      "\n",
      "month is may\n",
      "\n",
      "year is 2020\n",
      "\n"
     ]
    }
   ],
   "source": [
    "#Exercise 8: Display date, month and year form 10-may-2020\n",
    "day='10-may-2020'\n",
    "date=day[0:2]\n",
    "print(\"date is \"+ date)\n",
    "print()\n",
    "month=day[3:6]\n",
    "print(\"month is \"+ month)\n",
    "print()\n",
    "year=day[7:11]\n",
    "print(\"year is \"+ year)\n",
    "print()"
   ]
  },
  {
   "cell_type": "code",
   "execution_count": 48,
   "metadata": {
    "ExecuteTime": {
     "end_time": "2020-04-25T23:03:35.974989Z",
     "start_time": "2020-04-25T23:03:35.955976Z"
    }
   },
   "outputs": [
    {
     "data": {
      "text/plain": [
       "'50,60'"
      ]
     },
     "execution_count": 48,
     "metadata": {},
     "output_type": "execute_result"
    }
   ],
   "source": [
    "#Exercise 10: arr = “10,20,30,40,50,60,70”, get “50.60”\n",
    "arr ='10,20,30,40,50,60,70'\n",
    "arr[12:17]\n"
   ]
  },
  {
   "cell_type": "code",
   "execution_count": 51,
   "metadata": {
    "ExecuteTime": {
     "end_time": "2020-04-25T23:04:21.951426Z",
     "start_time": "2020-04-25T23:04:21.921880Z"
    }
   },
   "outputs": [
    {
     "data": {
      "text/plain": [
       "'50,60'"
      ]
     },
     "execution_count": 51,
     "metadata": {},
     "output_type": "execute_result"
    }
   ],
   "source": [
    "#Exercise 11: using negative index get \"50, 60\"\n",
    "arr[12:-3]"
   ]
  },
  {
   "cell_type": "code",
   "execution_count": 54,
   "metadata": {
    "ExecuteTime": {
     "end_time": "2020-04-25T23:06:31.142331Z",
     "start_time": "2020-04-25T23:06:31.137721Z"
    }
   },
   "outputs": [
    {
     "data": {
      "text/plain": [
       "'8888 '"
      ]
     },
     "execution_count": 54,
     "metadata": {},
     "output_type": "execute_result"
    }
   ],
   "source": [
    "#Exercise 12: From credit_str get '8888' ¶\n",
    "credit_str = \"xxxx ---- xxxx-8888 ------ xxxx\"\n",
    "credit_str[15:20]"
   ]
  },
  {
   "cell_type": "code",
   "execution_count": 56,
   "metadata": {
    "ExecuteTime": {
     "end_time": "2020-04-25T23:07:24.243994Z",
     "start_time": "2020-04-25T23:07:24.207304Z"
    }
   },
   "outputs": [
    {
     "data": {
      "text/plain": [
       "'0'"
      ]
     },
     "execution_count": 56,
     "metadata": {},
     "output_type": "execute_result"
    }
   ],
   "source": [
    "#Exercise 13: From credit_str get '0' \n",
    "credit_str = \"1234-5678-9878-0434\"\n",
    "credit_str[15:16]"
   ]
  },
  {
   "cell_type": "code",
   "execution_count": 59,
   "metadata": {
    "ExecuteTime": {
     "end_time": "2020-04-25T23:08:51.381176Z",
     "start_time": "2020-04-25T23:08:51.370512Z"
    }
   },
   "outputs": [
    {
     "name": "stdout",
     "output_type": "stream",
     "text": [
      "<class 'int'>\n",
      "\n",
      "8\n",
      "\n",
      "<class 'str'>\n"
     ]
    }
   ],
   "source": [
    "#Exercise 14: convert an integer into a string and print it in Console.\n",
    "y= 8\n",
    "print(type(y))\n",
    "print()\n",
    "str1=str(y)\n",
    "print(str1)\n",
    "print()\n",
    "print(type(str1))"
   ]
  },
  {
   "cell_type": "code",
   "execution_count": 62,
   "metadata": {
    "ExecuteTime": {
     "end_time": "2020-04-25T23:10:48.669260Z",
     "start_time": "2020-04-25T23:10:41.450123Z"
    }
   },
   "outputs": [
    {
     "name": "stdout",
     "output_type": "stream",
     "text": [
      "first string:first\n",
      "second string:second\n",
      "\n",
      "first second\n"
     ]
    }
   ],
   "source": [
    "#Exercise 15: take two strings as input and concatenate them and then print it\n",
    "str1= input('first string :')\n",
    "str2=input('second string :')\n",
    "print()\n",
    "string= str1 + \" \" + str2\n",
    "print(string)"
   ]
  },
  {
   "cell_type": "code",
   "execution_count": null,
   "metadata": {},
   "outputs": [],
   "source": []
  }
 ],
 "metadata": {
  "kernelspec": {
   "display_name": "Python 3",
   "language": "python",
   "name": "python3"
  },
  "language_info": {
   "codemirror_mode": {
    "name": "ipython",
    "version": 3
   },
   "file_extension": ".py",
   "mimetype": "text/x-python",
   "name": "python",
   "nbconvert_exporter": "python",
   "pygments_lexer": "ipython3",
   "version": "3.7.4"
  },
  "varInspector": {
   "cols": {
    "lenName": 16,
    "lenType": 16,
    "lenVar": 40
   },
   "kernels_config": {
    "python": {
     "delete_cmd_postfix": "",
     "delete_cmd_prefix": "del ",
     "library": "var_list.py",
     "varRefreshCmd": "print(var_dic_list())"
    },
    "r": {
     "delete_cmd_postfix": ") ",
     "delete_cmd_prefix": "rm(",
     "library": "var_list.r",
     "varRefreshCmd": "cat(var_dic_list()) "
    }
   },
   "types_to_exclude": [
    "module",
    "function",
    "builtin_function_or_method",
    "instance",
    "_Feature"
   ],
   "window_display": false
  }
 },
 "nbformat": 4,
 "nbformat_minor": 4
}
