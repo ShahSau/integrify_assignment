{
 "cells": [
  {
   "cell_type": "markdown",
   "metadata": {},
   "source": [
    "# Tic Tac Toe \n",
    "\n",
    " A two player with Jupyter Notebook. "
   ]
  },
  {
   "cell_type": "code",
   "execution_count": 4,
   "metadata": {
    "ExecuteTime": {
     "end_time": "2020-05-03T13:24:03.815639Z",
     "start_time": "2020-05-03T13:24:03.811072Z"
    }
   },
   "outputs": [],
   "source": [
    "# Specifically for the iPython Notebook environment for clearing output.\n",
    "from IPython.display import clear_output\n",
    "\n",
    "\n",
    "# global variable\n",
    "board = [\" \"]*10#your code here  -->>an empty string list of 10 place holder\n",
    "game_state = True # your code here  ->>>True\n",
    "announce = \" \"# your code here  --> empty string"
   ]
  },
  {
   "cell_type": "markdown",
   "metadata": {},
   "source": [
    "Next make a function that will reset the board, in this case we'll store values as a list."
   ]
  },
  {
   "cell_type": "code",
   "execution_count": 5,
   "metadata": {
    "ExecuteTime": {
     "end_time": "2020-05-03T13:24:08.889348Z",
     "start_time": "2020-05-03T13:24:08.880252Z"
    }
   },
   "outputs": [],
   "source": [
    "def reset():\n",
    "    # call the global variable board and game_status\n",
    "    # set them to default value\n",
    "    global board\n",
    "    global game_state\n",
    "    #----------------------------------------------\n",
    "    # your code here\n",
    "    board=[\" \"]*10\n",
    "    game_state=True\n",
    "    #-----------------------------------------\n"
   ]
  },
  {
   "cell_type": "markdown",
   "metadata": {},
   "source": [
    "Now create a function to display the board, "
   ]
  },
  {
   "cell_type": "code",
   "execution_count": 6,
   "metadata": {
    "ExecuteTime": {
     "end_time": "2020-05-03T13:24:12.532207Z",
     "start_time": "2020-05-03T13:24:12.527245Z"
    }
   },
   "outputs": [],
   "source": [
    "def show_board():\n",
    "    #---------------------------------------\n",
    "    #call the function to clear output\n",
    "     # your code\n",
    "    #------------------------------\n",
    "        clear_output()\n",
    "    # Print board\n",
    "    #---------------------------------------------------------\n",
    "    # hint: print (\"  \"+board[7]+\" |\"+board[8]+\" | \"+board[9]+\" \")\n",
    "    # follow the similar patter for 3x3 board\n",
    "        print(\" \"+board[0] + '|' + board[1] + '|' + board[2]+ \" \")\n",
    "        print(\" \"+board[3] + '|' + board[4] + '|' + board[5]+ \" \")\n",
    "        print(\" \"+board[6] + '|' + board[7] + '|' + board[8]+ \" \")\n",
    "    \n",
    "     #your code Here\n",
    "        pass\n",
    "        \n",
    "    #---------------------------------------------------------------\n"
   ]
  },
  {
   "cell_type": "code",
   "execution_count": 7,
   "metadata": {
    "ExecuteTime": {
     "end_time": "2020-05-03T13:24:14.670176Z",
     "start_time": "2020-05-03T13:24:14.662835Z"
    }
   },
   "outputs": [
    {
     "name": "stdout",
     "output_type": "stream",
     "text": [
      "  | |  \n",
      "  | |  \n",
      "  | |  \n"
     ]
    }
   ],
   "source": [
    "show_board()"
   ]
  },
  {
   "cell_type": "markdown",
   "metadata": {},
   "source": [
    "Define a function to check for a win by comparing inputs in the board list."
   ]
  },
  {
   "cell_type": "code",
   "execution_count": 8,
   "metadata": {
    "ExecuteTime": {
     "end_time": "2020-05-03T13:24:19.676124Z",
     "start_time": "2020-05-03T13:24:19.669355Z"
    }
   },
   "outputs": [],
   "source": [
    "def win_check(board, player):\n",
    "    #------------------------------------------\n",
    "    \n",
    "        # hint use (board[val]==board[val]==player) or .........\n",
    "    condition=(board[0] == board[2] == board[3] == player) or (board[4] == board[5] == board[6] == player) or (board[7] == board[8] == board[9] == player) or (board[1] == board[4] == board[7] == player) or (board[2] == board[5] == board[8] == player) or (board[3] == board[6] == board[9] == player) or (board[1] == board[5] == board[9] == player) or (board[3] == board[5] == board[7] == player) #your code \n",
    "    #   .........................\n",
    "    \n",
    "    if condition:\n",
    "        return True\n",
    "    else:\n",
    "        return False\n",
    "        \n"
   ]
  },
  {
   "cell_type": "markdown",
   "metadata": {},
   "source": [
    "Define function to check if the board is already full in case of a tie. "
   ]
  },
  {
   "cell_type": "code",
   "execution_count": 9,
   "metadata": {
    "ExecuteTime": {
     "end_time": "2020-05-03T13:24:23.374348Z",
     "start_time": "2020-05-03T13:24:23.367932Z"
    },
    "jupyter": {
     "outputs_hidden": true
    }
   },
   "outputs": [],
   "source": [
    "def check_board(board):\n",
    "    #----------------------------------------------------------\n",
    "    # hint: check empty value in board position\n",
    "        if \" \" in board[::]:\n",
    "            return False\n",
    "        else:\n",
    "            return True\n",
    "    #-------------------------------------------------------"
   ]
  },
  {
   "cell_type": "markdown",
   "metadata": {},
   "source": [
    "Now define a function to get player input and do various checks on it."
   ]
  },
  {
   "cell_type": "code",
   "execution_count": 10,
   "metadata": {
    "ExecuteTime": {
     "end_time": "2020-05-03T13:24:27.058672Z",
     "start_time": "2020-05-03T13:24:27.034879Z"
    },
    "jupyter": {
     "outputs_hidden": true
    }
   },
   "outputs": [],
   "source": [
    "def ask_player(mark):\n",
    "    ''' Asks player where to place X or O mark, checks validity '''\n",
    "    # call global variable board\n",
    "    global board\n",
    "\n",
    "    # define a variable which hold mark\n",
    "    req = 'Choose where to place your: ' + mark\n",
    "    while True:\n",
    "        # use try and except to input the choice\n",
    "        try:\n",
    "            # declare a variable choice to input a user given number \n",
    "            #your code\n",
    "            choice=input(req)\n",
    "        except ValueError:\n",
    "            print(\"Sorry, please input a number between 1-9.\")\n",
    "            continue\n",
    "        #-------------------------------------------------\n",
    "        # write a conditon to to check if the choice is in range or not\n",
    "        if choice not in [\"1\",\"2\",\"3\",\"4\",\"5\",\"6\",\"7\",\"8\",\"9\"]:\n",
    "            print(\"Sorry, please input a number between 1-9.\")\n",
    "            continue\n",
    "        # write a code to check if the choice of board if empty \n",
    "        if board[int(choice)-1] == \" \":\n",
    "            # set the choice of board to mark\n",
    "            #your code\n",
    "            board[int(choice)-1]=mark\n",
    "            break\n",
    "        else:\n",
    "            print (\"That space isn't empty!\")\n",
    "            continue\n",
    "    "
   ]
  },
  {
   "cell_type": "markdown",
   "metadata": {},
   "source": [
    "Now have a function that takes in the player's choice (via the ask_player function) then returns the game_state."
   ]
  },
  {
   "cell_type": "code",
   "execution_count": 11,
   "metadata": {
    "ExecuteTime": {
     "end_time": "2020-05-03T13:24:30.879850Z",
     "start_time": "2020-05-03T13:24:30.867523Z"
    }
   },
   "outputs": [],
   "source": [
    "def player_choice(mark):\n",
    "    # call all the global variable\n",
    "    #your code\n",
    "    global board\n",
    "    global game_state \n",
    "    #Set announce to empty string\n",
    "    announce = \" \"# your code\n",
    "    mark = str(mark)\n",
    "    # call a function ask_player\n",
    "    #your code\n",
    "    ask_player(mark)\n",
    "\n",
    "    #Check for player win\n",
    "    if win_check(board,mark):\n",
    "        #--------------------------\n",
    "        #call function to clear the output and show the board\n",
    "        #your code\n",
    "        #your code\n",
    "        clear_output()\n",
    "        show_board()\n",
    "        announce = mark +\" wins! Congratulations\"\n",
    "        #set the game_state to false\n",
    "        #your code\n",
    "        game_state = False\n",
    "    \n",
    "    \n",
    "    clear_output()\n",
    "    show_board()\n",
    "\n",
    "    #Check for a tie \n",
    "    #-----------------------------------\n",
    "      #call function to check the tie\n",
    "    \n",
    "    if check_board(board):\n",
    "        announce = \"Tie!\"\n",
    "        #set game status to False\n",
    "        game_state = False\n",
    "        #your code\n",
    "        \n",
    "    #-------------------------------\n",
    "        \n",
    "    return game_state,announce\n"
   ]
  },
  {
   "cell_type": "markdown",
   "metadata": {},
   "source": [
    "Finally put it all together in a function to play the game."
   ]
  },
  {
   "cell_type": "code",
   "execution_count": 12,
   "metadata": {
    "ExecuteTime": {
     "end_time": "2020-05-03T13:24:34.293906Z",
     "start_time": "2020-05-03T13:24:34.284360Z"
    }
   },
   "outputs": [],
   "source": [
    "def play_game():\n",
    "    #call the function to reset the global value\n",
    "    # yout code\n",
    "    global announce\n",
    "    reset()\n",
    "    # Set marks\n",
    "    X='X'\n",
    "    O='O'\n",
    "    while True:\n",
    "        # call the function to clear the output and to display the board\n",
    "        #your code\n",
    "        #your code\n",
    "        clear_output()\n",
    "        show_board()\n",
    "        \n",
    "        # Player X turn\n",
    "        # call the function player choice and hold it in a variable game_sate and announce\n",
    "        #your code\n",
    "        game_state,announce=player_choice(X)\n",
    "        print (announce)\n",
    "        #if status of game is false stop it\n",
    "        #-------------------------------\n",
    "        #your code\n",
    "        #-------------------------------\n",
    "        if game_state == False:\n",
    "            break\n",
    "            \n",
    "        # Player O turn\n",
    "        #-------------------------\n",
    "        #hint: do the exact thing as you did for for player x\n",
    "        # your code\n",
    "        #----------------------------\n",
    "        game_state,announce=player_choice(O)\n",
    "        print (announce)\n",
    "        if game_state == False:\n",
    "            break\n",
    "        \n",
    "    # Ask player for a rematch\n",
    "    #----------------------------------------------\n",
    "    rematch = input('Would you like to play again? y/n')\n",
    "    # use if condition is user give 'y' play game again \n",
    "    # your code\n",
    "    if rematch=='y':\n",
    "        play_game()\n",
    "    else:\n",
    "        print (\"Thanks for playing!\")\n",
    "        \n",
    "     #-----------------------------\n",
    "    "
   ]
  },
  {
   "cell_type": "markdown",
   "metadata": {},
   "source": [
    "Let's play!"
   ]
  },
  {
   "cell_type": "code",
   "execution_count": null,
   "metadata": {
    "ExecuteTime": {
     "start_time": "2020-05-03T13:24:36.958Z"
    }
   },
   "outputs": [
    {
     "name": "stdout",
     "output_type": "stream",
     "text": [
      "  | |  \n",
      " X|O|  \n",
      "  | |  \n"
     ]
    }
   ],
   "source": [
    "play_game()"
   ]
  },
  {
   "cell_type": "markdown",
   "metadata": {},
   "source": [
    "#### "
   ]
  },
  {
   "cell_type": "code",
   "execution_count": null,
   "metadata": {},
   "outputs": [],
   "source": []
  },
  {
   "cell_type": "code",
   "execution_count": null,
   "metadata": {},
   "outputs": [],
   "source": []
  },
  {
   "cell_type": "code",
   "execution_count": null,
   "metadata": {},
   "outputs": [],
   "source": []
  }
 ],
 "metadata": {
  "kernelspec": {
   "display_name": "Python 3",
   "language": "python",
   "name": "python3"
  },
  "language_info": {
   "codemirror_mode": {
    "name": "ipython",
    "version": 3
   },
   "file_extension": ".py",
   "mimetype": "text/x-python",
   "name": "python",
   "nbconvert_exporter": "python",
   "pygments_lexer": "ipython3",
   "version": "3.7.4"
  },
  "toc": {
   "base_numbering": 1,
   "nav_menu": {},
   "number_sections": true,
   "sideBar": true,
   "skip_h1_title": false,
   "title_cell": "Table of Contents",
   "title_sidebar": "Contents",
   "toc_cell": false,
   "toc_position": {},
   "toc_section_display": true,
   "toc_window_display": false
  },
  "varInspector": {
   "cols": {
    "lenName": 16,
    "lenType": 16,
    "lenVar": 40
   },
   "kernels_config": {
    "python": {
     "delete_cmd_postfix": "",
     "delete_cmd_prefix": "del ",
     "library": "var_list.py",
     "varRefreshCmd": "print(var_dic_list())"
    },
    "r": {
     "delete_cmd_postfix": ") ",
     "delete_cmd_prefix": "rm(",
     "library": "var_list.r",
     "varRefreshCmd": "cat(var_dic_list()) "
    }
   },
   "types_to_exclude": [
    "module",
    "function",
    "builtin_function_or_method",
    "instance",
    "_Feature"
   ],
   "window_display": false
  }
 },
 "nbformat": 4,
 "nbformat_minor": 4
}
