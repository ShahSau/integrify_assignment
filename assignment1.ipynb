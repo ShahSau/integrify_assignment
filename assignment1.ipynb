{
 "cells": [
  {
   "cell_type": "markdown",
   "metadata": {},
   "source": [
    "# getting to know your data"
   ]
  },
  {
   "cell_type": "code",
   "execution_count": 1,
   "metadata": {
    "ExecuteTime": {
     "end_time": "2020-05-30T13:20:11.521453Z",
     "start_time": "2020-05-30T13:20:11.208124Z"
    }
   },
   "outputs": [],
   "source": [
    "import pandas as pd"
   ]
  },
  {
   "cell_type": "markdown",
   "metadata": {},
   "source": [
    "###  Use the u.user file and assign it to a dataframe "
   ]
  },
  {
   "cell_type": "code",
   "execution_count": 2,
   "metadata": {
    "ExecuteTime": {
     "end_time": "2020-05-30T13:20:12.301465Z",
     "start_time": "2020-05-30T13:20:12.291353Z"
    }
   },
   "outputs": [],
   "source": [
    "df = pd.read_csv(\"u.user\", sep=\"|\")\n"
   ]
  },
  {
   "cell_type": "markdown",
   "metadata": {},
   "source": [
    "###  See the first 5 entries"
   ]
  },
  {
   "cell_type": "code",
   "execution_count": 3,
   "metadata": {
    "ExecuteTime": {
     "end_time": "2020-05-30T13:20:13.294635Z",
     "start_time": "2020-05-30T13:20:13.270483Z"
    }
   },
   "outputs": [
    {
     "data": {
      "text/html": [
       "<div>\n",
       "<style scoped>\n",
       "    .dataframe tbody tr th:only-of-type {\n",
       "        vertical-align: middle;\n",
       "    }\n",
       "\n",
       "    .dataframe tbody tr th {\n",
       "        vertical-align: top;\n",
       "    }\n",
       "\n",
       "    .dataframe thead th {\n",
       "        text-align: right;\n",
       "    }\n",
       "</style>\n",
       "<table border=\"1\" class=\"dataframe\">\n",
       "  <thead>\n",
       "    <tr style=\"text-align: right;\">\n",
       "      <th></th>\n",
       "      <th>user_id</th>\n",
       "      <th>age</th>\n",
       "      <th>gender</th>\n",
       "      <th>occupation</th>\n",
       "      <th>zip_code</th>\n",
       "    </tr>\n",
       "  </thead>\n",
       "  <tbody>\n",
       "    <tr>\n",
       "      <th>0</th>\n",
       "      <td>1</td>\n",
       "      <td>24</td>\n",
       "      <td>M</td>\n",
       "      <td>technician</td>\n",
       "      <td>85711</td>\n",
       "    </tr>\n",
       "    <tr>\n",
       "      <th>1</th>\n",
       "      <td>2</td>\n",
       "      <td>53</td>\n",
       "      <td>F</td>\n",
       "      <td>other</td>\n",
       "      <td>94043</td>\n",
       "    </tr>\n",
       "    <tr>\n",
       "      <th>2</th>\n",
       "      <td>3</td>\n",
       "      <td>23</td>\n",
       "      <td>M</td>\n",
       "      <td>writer</td>\n",
       "      <td>32067</td>\n",
       "    </tr>\n",
       "    <tr>\n",
       "      <th>3</th>\n",
       "      <td>4</td>\n",
       "      <td>24</td>\n",
       "      <td>M</td>\n",
       "      <td>technician</td>\n",
       "      <td>43537</td>\n",
       "    </tr>\n",
       "    <tr>\n",
       "      <th>4</th>\n",
       "      <td>5</td>\n",
       "      <td>33</td>\n",
       "      <td>F</td>\n",
       "      <td>other</td>\n",
       "      <td>15213</td>\n",
       "    </tr>\n",
       "  </tbody>\n",
       "</table>\n",
       "</div>"
      ],
      "text/plain": [
       "   user_id  age gender  occupation zip_code\n",
       "0        1   24      M  technician    85711\n",
       "1        2   53      F       other    94043\n",
       "2        3   23      M      writer    32067\n",
       "3        4   24      M  technician    43537\n",
       "4        5   33      F       other    15213"
      ]
     },
     "execution_count": 3,
     "metadata": {},
     "output_type": "execute_result"
    }
   ],
   "source": [
    "df.head(5)"
   ]
  },
  {
   "cell_type": "markdown",
   "metadata": {},
   "source": [
    " ###  What is the number of observations in the dataset?"
   ]
  },
  {
   "cell_type": "code",
   "execution_count": 4,
   "metadata": {
    "ExecuteTime": {
     "end_time": "2020-05-30T13:20:14.415682Z",
     "start_time": "2020-05-30T13:20:14.412347Z"
    }
   },
   "outputs": [
    {
     "data": {
      "text/plain": [
       "943"
      ]
     },
     "execution_count": 4,
     "metadata": {},
     "output_type": "execute_result"
    }
   ],
   "source": [
    "len(df.index)"
   ]
  },
  {
   "cell_type": "markdown",
   "metadata": {},
   "source": [
    " ### What is the number of columns in the dataset?"
   ]
  },
  {
   "cell_type": "code",
   "execution_count": 5,
   "metadata": {
    "ExecuteTime": {
     "end_time": "2020-05-30T13:20:15.509272Z",
     "start_time": "2020-05-30T13:20:15.503708Z"
    }
   },
   "outputs": [
    {
     "data": {
      "text/plain": [
       "5"
      ]
     },
     "execution_count": 5,
     "metadata": {},
     "output_type": "execute_result"
    }
   ],
   "source": [
    "len(df.columns)"
   ]
  },
  {
   "cell_type": "markdown",
   "metadata": {},
   "source": [
    "### Print the name of all the columns."
   ]
  },
  {
   "cell_type": "code",
   "execution_count": 6,
   "metadata": {
    "ExecuteTime": {
     "end_time": "2020-05-30T13:20:16.488297Z",
     "start_time": "2020-05-30T13:20:16.484293Z"
    }
   },
   "outputs": [
    {
     "data": {
      "text/plain": [
       "Index(['user_id', 'age', 'gender', 'occupation', 'zip_code'], dtype='object')"
      ]
     },
     "execution_count": 6,
     "metadata": {},
     "output_type": "execute_result"
    }
   ],
   "source": [
    "df.columns"
   ]
  },
  {
   "cell_type": "markdown",
   "metadata": {},
   "source": [
    "### How is the dataset indexed?"
   ]
  },
  {
   "cell_type": "code",
   "execution_count": 7,
   "metadata": {
    "ExecuteTime": {
     "end_time": "2020-05-30T13:20:17.524790Z",
     "start_time": "2020-05-30T13:20:17.519465Z"
    }
   },
   "outputs": [
    {
     "data": {
      "text/plain": [
       "(943, 5)"
      ]
     },
     "execution_count": 7,
     "metadata": {},
     "output_type": "execute_result"
    }
   ],
   "source": [
    "df.shape"
   ]
  },
  {
   "cell_type": "markdown",
   "metadata": {},
   "source": [
    "### What is datatype of each cloumn?"
   ]
  },
  {
   "cell_type": "code",
   "execution_count": 8,
   "metadata": {
    "ExecuteTime": {
     "end_time": "2020-05-30T13:20:18.625295Z",
     "start_time": "2020-05-30T13:20:18.619841Z"
    }
   },
   "outputs": [
    {
     "data": {
      "text/plain": [
       "user_id        int64\n",
       "age            int64\n",
       "gender        object\n",
       "occupation    object\n",
       "zip_code      object\n",
       "dtype: object"
      ]
     },
     "execution_count": 8,
     "metadata": {},
     "output_type": "execute_result"
    }
   ],
   "source": [
    "df.dtypes"
   ]
  },
  {
   "cell_type": "markdown",
   "metadata": {},
   "source": [
    "###  How many different occupation are in this dataset?"
   ]
  },
  {
   "cell_type": "code",
   "execution_count": 9,
   "metadata": {
    "ExecuteTime": {
     "end_time": "2020-05-30T13:20:19.811986Z",
     "start_time": "2020-05-30T13:20:19.807924Z"
    }
   },
   "outputs": [
    {
     "data": {
      "text/plain": [
       "21"
      ]
     },
     "execution_count": 9,
     "metadata": {},
     "output_type": "execute_result"
    }
   ],
   "source": [
    "occu=df['occupation'].unique()\n",
    "len(occu)"
   ]
  },
  {
   "cell_type": "markdown",
   "metadata": {},
   "source": [
    "### What is the most frequent occupation?"
   ]
  },
  {
   "cell_type": "code",
   "execution_count": 10,
   "metadata": {
    "ExecuteTime": {
     "end_time": "2020-05-30T13:20:21.199967Z",
     "start_time": "2020-05-30T13:20:21.194428Z"
    }
   },
   "outputs": [
    {
     "data": {
      "text/plain": [
       "'writer'"
      ]
     },
     "execution_count": 10,
     "metadata": {},
     "output_type": "execute_result"
    }
   ],
   "source": [
    "df['occupation'].max()"
   ]
  },
  {
   "cell_type": "markdown",
   "metadata": {},
   "source": [
    "### Summarize the DataFrame."
   ]
  },
  {
   "cell_type": "code",
   "execution_count": 11,
   "metadata": {
    "ExecuteTime": {
     "end_time": "2020-05-30T13:20:22.487042Z",
     "start_time": "2020-05-30T13:20:22.471052Z"
    }
   },
   "outputs": [
    {
     "name": "stdout",
     "output_type": "stream",
     "text": [
      "<class 'pandas.core.frame.DataFrame'>\n",
      "RangeIndex: 943 entries, 0 to 942\n",
      "Data columns (total 5 columns):\n",
      " #   Column      Non-Null Count  Dtype \n",
      "---  ------      --------------  ----- \n",
      " 0   user_id     943 non-null    int64 \n",
      " 1   age         943 non-null    int64 \n",
      " 2   gender      943 non-null    object\n",
      " 3   occupation  943 non-null    object\n",
      " 4   zip_code    943 non-null    object\n",
      "dtypes: int64(2), object(3)\n",
      "memory usage: 37.0+ KB\n"
     ]
    }
   ],
   "source": [
    "df.info()"
   ]
  },
  {
   "cell_type": "markdown",
   "metadata": {},
   "source": [
    "### Summarize all the columns"
   ]
  },
  {
   "cell_type": "code",
   "execution_count": 12,
   "metadata": {
    "ExecuteTime": {
     "end_time": "2020-05-30T13:20:23.567126Z",
     "start_time": "2020-05-30T13:20:23.547079Z"
    }
   },
   "outputs": [
    {
     "data": {
      "text/html": [
       "<div>\n",
       "<style scoped>\n",
       "    .dataframe tbody tr th:only-of-type {\n",
       "        vertical-align: middle;\n",
       "    }\n",
       "\n",
       "    .dataframe tbody tr th {\n",
       "        vertical-align: top;\n",
       "    }\n",
       "\n",
       "    .dataframe thead th {\n",
       "        text-align: right;\n",
       "    }\n",
       "</style>\n",
       "<table border=\"1\" class=\"dataframe\">\n",
       "  <thead>\n",
       "    <tr style=\"text-align: right;\">\n",
       "      <th></th>\n",
       "      <th>user_id</th>\n",
       "      <th>age</th>\n",
       "    </tr>\n",
       "  </thead>\n",
       "  <tbody>\n",
       "    <tr>\n",
       "      <th>count</th>\n",
       "      <td>943.000000</td>\n",
       "      <td>943.000000</td>\n",
       "    </tr>\n",
       "    <tr>\n",
       "      <th>mean</th>\n",
       "      <td>472.000000</td>\n",
       "      <td>34.051962</td>\n",
       "    </tr>\n",
       "    <tr>\n",
       "      <th>std</th>\n",
       "      <td>272.364951</td>\n",
       "      <td>12.192740</td>\n",
       "    </tr>\n",
       "    <tr>\n",
       "      <th>min</th>\n",
       "      <td>1.000000</td>\n",
       "      <td>7.000000</td>\n",
       "    </tr>\n",
       "    <tr>\n",
       "      <th>25%</th>\n",
       "      <td>236.500000</td>\n",
       "      <td>25.000000</td>\n",
       "    </tr>\n",
       "    <tr>\n",
       "      <th>50%</th>\n",
       "      <td>472.000000</td>\n",
       "      <td>31.000000</td>\n",
       "    </tr>\n",
       "    <tr>\n",
       "      <th>75%</th>\n",
       "      <td>707.500000</td>\n",
       "      <td>43.000000</td>\n",
       "    </tr>\n",
       "    <tr>\n",
       "      <th>max</th>\n",
       "      <td>943.000000</td>\n",
       "      <td>73.000000</td>\n",
       "    </tr>\n",
       "  </tbody>\n",
       "</table>\n",
       "</div>"
      ],
      "text/plain": [
       "          user_id         age\n",
       "count  943.000000  943.000000\n",
       "mean   472.000000   34.051962\n",
       "std    272.364951   12.192740\n",
       "min      1.000000    7.000000\n",
       "25%    236.500000   25.000000\n",
       "50%    472.000000   31.000000\n",
       "75%    707.500000   43.000000\n",
       "max    943.000000   73.000000"
      ]
     },
     "execution_count": 12,
     "metadata": {},
     "output_type": "execute_result"
    }
   ],
   "source": [
    "df.describe()"
   ]
  },
  {
   "cell_type": "markdown",
   "metadata": {},
   "source": [
    "### Summarize only the occupation column"
   ]
  },
  {
   "cell_type": "code",
   "execution_count": 13,
   "metadata": {
    "ExecuteTime": {
     "end_time": "2020-05-30T13:20:26.551151Z",
     "start_time": "2020-05-30T13:20:26.539952Z"
    }
   },
   "outputs": [
    {
     "data": {
      "text/plain": [
       "count         943\n",
       "unique         21\n",
       "top       student\n",
       "freq          196\n",
       "Name: occupation, dtype: object"
      ]
     },
     "execution_count": 13,
     "metadata": {},
     "output_type": "execute_result"
    }
   ],
   "source": [
    "df[\"occupation\"].describe()"
   ]
  },
  {
   "cell_type": "markdown",
   "metadata": {},
   "source": [
    "### What is the age with least occurrence?"
   ]
  },
  {
   "cell_type": "code",
   "execution_count": 14,
   "metadata": {
    "ExecuteTime": {
     "end_time": "2020-05-30T13:20:27.932191Z",
     "start_time": "2020-05-30T13:20:27.921982Z"
    }
   },
   "outputs": [
    {
     "data": {
      "text/plain": [
       "7"
      ]
     },
     "execution_count": 14,
     "metadata": {},
     "output_type": "execute_result"
    }
   ],
   "source": [
    "s=df[\"age\"].value_counts()\n",
    "s.index[-1]"
   ]
  },
  {
   "cell_type": "markdown",
   "metadata": {},
   "source": [
    "# Load Json file"
   ]
  },
  {
   "cell_type": "markdown",
   "metadata": {
    "ExecuteTime": {
     "end_time": "2020-05-18T06:53:21.425245Z",
     "start_time": "2020-05-18T06:53:21.419400Z"
    }
   },
   "source": [
    "## read a raw_nyc_phil.json data"
   ]
  },
  {
   "cell_type": "code",
   "execution_count": 15,
   "metadata": {
    "ExecuteTime": {
     "end_time": "2020-05-30T13:20:30.894181Z",
     "start_time": "2020-05-30T13:20:30.224160Z"
    }
   },
   "outputs": [
    {
     "data": {
      "text/html": [
       "<div>\n",
       "<style scoped>\n",
       "    .dataframe tbody tr th:only-of-type {\n",
       "        vertical-align: middle;\n",
       "    }\n",
       "\n",
       "    .dataframe tbody tr th {\n",
       "        vertical-align: top;\n",
       "    }\n",
       "\n",
       "    .dataframe thead th {\n",
       "        text-align: right;\n",
       "    }\n",
       "</style>\n",
       "<table border=\"1\" class=\"dataframe\">\n",
       "  <thead>\n",
       "    <tr style=\"text-align: right;\">\n",
       "      <th></th>\n",
       "      <th>programs</th>\n",
       "    </tr>\n",
       "  </thead>\n",
       "  <tbody>\n",
       "    <tr>\n",
       "      <th>0</th>\n",
       "      <td>{'season': '1842-43', 'orchestra': 'New York P...</td>\n",
       "    </tr>\n",
       "    <tr>\n",
       "      <th>1</th>\n",
       "      <td>{'season': '1842-43', 'orchestra': 'New York P...</td>\n",
       "    </tr>\n",
       "    <tr>\n",
       "      <th>2</th>\n",
       "      <td>{'season': '1842-43', 'orchestra': 'Musicians ...</td>\n",
       "    </tr>\n",
       "    <tr>\n",
       "      <th>3</th>\n",
       "      <td>{'season': '1842-43', 'orchestra': 'New York P...</td>\n",
       "    </tr>\n",
       "    <tr>\n",
       "      <th>4</th>\n",
       "      <td>{'season': '1843-44', 'orchestra': 'New York P...</td>\n",
       "    </tr>\n",
       "    <tr>\n",
       "      <th>...</th>\n",
       "      <td>...</td>\n",
       "    </tr>\n",
       "    <tr>\n",
       "      <th>13949</th>\n",
       "      <td>{'season': '2016-17', 'orchestra': 'Musicians ...</td>\n",
       "    </tr>\n",
       "    <tr>\n",
       "      <th>13950</th>\n",
       "      <td>{'season': '2016-17', 'orchestra': 'New York P...</td>\n",
       "    </tr>\n",
       "    <tr>\n",
       "      <th>13951</th>\n",
       "      <td>{'season': '2016-17', 'orchestra': 'New York P...</td>\n",
       "    </tr>\n",
       "    <tr>\n",
       "      <th>13952</th>\n",
       "      <td>{'season': '2016-17', 'orchestra': 'New York P...</td>\n",
       "    </tr>\n",
       "    <tr>\n",
       "      <th>13953</th>\n",
       "      <td>{'season': '2016-17', 'orchestra': 'New York P...</td>\n",
       "    </tr>\n",
       "  </tbody>\n",
       "</table>\n",
       "<p>13954 rows × 1 columns</p>\n",
       "</div>"
      ],
      "text/plain": [
       "                                                programs\n",
       "0      {'season': '1842-43', 'orchestra': 'New York P...\n",
       "1      {'season': '1842-43', 'orchestra': 'New York P...\n",
       "2      {'season': '1842-43', 'orchestra': 'Musicians ...\n",
       "3      {'season': '1842-43', 'orchestra': 'New York P...\n",
       "4      {'season': '1843-44', 'orchestra': 'New York P...\n",
       "...                                                  ...\n",
       "13949  {'season': '2016-17', 'orchestra': 'Musicians ...\n",
       "13950  {'season': '2016-17', 'orchestra': 'New York P...\n",
       "13951  {'season': '2016-17', 'orchestra': 'New York P...\n",
       "13952  {'season': '2016-17', 'orchestra': 'New York P...\n",
       "13953  {'season': '2016-17', 'orchestra': 'New York P...\n",
       "\n",
       "[13954 rows x 1 columns]"
      ]
     },
     "execution_count": 15,
     "metadata": {},
     "output_type": "execute_result"
    }
   ],
   "source": [
    "k=pd.read_json(\"raw_nyc_phil.json\")\n",
    "k"
   ]
  },
  {
   "cell_type": "markdown",
   "metadata": {},
   "source": [
    "## Normalize a json data so that you get an output with columns\n",
    "\n",
    "Date \teventType \tVenue \tLocation \tTime \tid \torchestra \tprogramID \tseason"
   ]
  },
  {
   "cell_type": "code",
   "execution_count": 16,
   "metadata": {
    "ExecuteTime": {
     "end_time": "2020-05-30T13:20:34.301474Z",
     "start_time": "2020-05-30T13:20:33.698108Z"
    }
   },
   "outputs": [],
   "source": [
    "with open('raw_nyc_phil.json') as d_nyc: \n",
    "    data = json.load(d_nyc) "
   ]
  },
  {
   "cell_type": "code",
   "execution_count": 17,
   "metadata": {
    "ExecuteTime": {
     "end_time": "2020-05-30T13:20:37.231962Z",
     "start_time": "2020-05-30T13:20:35.681222Z"
    }
   },
   "outputs": [
    {
     "data": {
      "text/html": [
       "<div>\n",
       "<style scoped>\n",
       "    .dataframe tbody tr th:only-of-type {\n",
       "        vertical-align: middle;\n",
       "    }\n",
       "\n",
       "    .dataframe tbody tr th {\n",
       "        vertical-align: top;\n",
       "    }\n",
       "\n",
       "    .dataframe thead th {\n",
       "        text-align: right;\n",
       "    }\n",
       "</style>\n",
       "<table border=\"1\" class=\"dataframe\">\n",
       "  <thead>\n",
       "    <tr style=\"text-align: right;\">\n",
       "      <th></th>\n",
       "      <th>season</th>\n",
       "      <th>orchestra</th>\n",
       "      <th>concerts</th>\n",
       "      <th>programID</th>\n",
       "      <th>works</th>\n",
       "      <th>id</th>\n",
       "    </tr>\n",
       "  </thead>\n",
       "  <tbody>\n",
       "    <tr>\n",
       "      <th>0</th>\n",
       "      <td>1842-43</td>\n",
       "      <td>New York Philharmonic</td>\n",
       "      <td>[{'Date': '1842-12-07T05:00:00Z', 'eventType':...</td>\n",
       "      <td>3853</td>\n",
       "      <td>[{'workTitle': 'SYMPHONY NO. 5 IN C MINOR, OP....</td>\n",
       "      <td>38e072a7-8fc9-4f9a-8eac-3957905c0002</td>\n",
       "    </tr>\n",
       "    <tr>\n",
       "      <th>1</th>\n",
       "      <td>1842-43</td>\n",
       "      <td>New York Philharmonic</td>\n",
       "      <td>[{'Date': '1843-02-18T05:00:00Z', 'eventType':...</td>\n",
       "      <td>5178</td>\n",
       "      <td>[{'workTitle': 'SYMPHONY NO. 3 IN E FLAT MAJOR...</td>\n",
       "      <td>c7b2b95c-5e0b-431c-a340-5b37fc860b34</td>\n",
       "    </tr>\n",
       "    <tr>\n",
       "      <th>2</th>\n",
       "      <td>1842-43</td>\n",
       "      <td>Musicians from the New York Philharmonic</td>\n",
       "      <td>[{'Date': '1843-04-07T05:00:00Z', 'eventType':...</td>\n",
       "      <td>10785</td>\n",
       "      <td>[{'workTitle': 'EGMONT, OP.84', 'composerName'...</td>\n",
       "      <td>894e1a52-1ae5-4fa7-aec0-b99997555a37</td>\n",
       "    </tr>\n",
       "    <tr>\n",
       "      <th>3</th>\n",
       "      <td>1842-43</td>\n",
       "      <td>New York Philharmonic</td>\n",
       "      <td>[{'Date': '1843-04-22T05:00:00Z', 'eventType':...</td>\n",
       "      <td>5887</td>\n",
       "      <td>[{'workTitle': 'SYMPHONY NO. 2 IN D MAJOR, OP....</td>\n",
       "      <td>34ec2c2b-3297-4716-9831-b538310462b7</td>\n",
       "    </tr>\n",
       "    <tr>\n",
       "      <th>4</th>\n",
       "      <td>1843-44</td>\n",
       "      <td>New York Philharmonic</td>\n",
       "      <td>[{'Date': '1843-11-18T05:00:00Z', 'eventType':...</td>\n",
       "      <td>305</td>\n",
       "      <td>[{'workTitle': 'SYMPHONY NO. 7 IN A MAJOR, OP....</td>\n",
       "      <td>610a4acc-94e4-4cd6-bdc1-8ad020edc7e9</td>\n",
       "    </tr>\n",
       "  </tbody>\n",
       "</table>\n",
       "</div>"
      ],
      "text/plain": [
       "    season                                 orchestra  \\\n",
       "0  1842-43                     New York Philharmonic   \n",
       "1  1842-43                     New York Philharmonic   \n",
       "2  1842-43  Musicians from the New York Philharmonic   \n",
       "3  1842-43                     New York Philharmonic   \n",
       "4  1843-44                     New York Philharmonic   \n",
       "\n",
       "                                            concerts programID  \\\n",
       "0  [{'Date': '1842-12-07T05:00:00Z', 'eventType':...      3853   \n",
       "1  [{'Date': '1843-02-18T05:00:00Z', 'eventType':...      5178   \n",
       "2  [{'Date': '1843-04-07T05:00:00Z', 'eventType':...     10785   \n",
       "3  [{'Date': '1843-04-22T05:00:00Z', 'eventType':...      5887   \n",
       "4  [{'Date': '1843-11-18T05:00:00Z', 'eventType':...       305   \n",
       "\n",
       "                                               works  \\\n",
       "0  [{'workTitle': 'SYMPHONY NO. 5 IN C MINOR, OP....   \n",
       "1  [{'workTitle': 'SYMPHONY NO. 3 IN E FLAT MAJOR...   \n",
       "2  [{'workTitle': 'EGMONT, OP.84', 'composerName'...   \n",
       "3  [{'workTitle': 'SYMPHONY NO. 2 IN D MAJOR, OP....   \n",
       "4  [{'workTitle': 'SYMPHONY NO. 7 IN A MAJOR, OP....   \n",
       "\n",
       "                                     id  \n",
       "0  38e072a7-8fc9-4f9a-8eac-3957905c0002  \n",
       "1  c7b2b95c-5e0b-431c-a340-5b37fc860b34  \n",
       "2  894e1a52-1ae5-4fa7-aec0-b99997555a37  \n",
       "3  34ec2c2b-3297-4716-9831-b538310462b7  \n",
       "4  610a4acc-94e4-4cd6-bdc1-8ad020edc7e9  "
      ]
     },
     "execution_count": 17,
     "metadata": {},
     "output_type": "execute_result"
    }
   ],
   "source": [
    "nyc=pd.json_normalize(data['programs'])\n",
    "nyc.head(5)"
   ]
  },
  {
   "cell_type": "code",
   "execution_count": 18,
   "metadata": {
    "ExecuteTime": {
     "end_time": "2020-05-30T13:20:41.552337Z",
     "start_time": "2020-05-30T13:20:41.170954Z"
    }
   },
   "outputs": [],
   "source": [
    "concerts=pd.json_normalize(data['programs'],\n",
    "                          record_path=\"concerts\",\n",
    "                          meta =['id', 'orchestra', 'programID', 'season'])"
   ]
  },
  {
   "cell_type": "code",
   "execution_count": 19,
   "metadata": {
    "ExecuteTime": {
     "end_time": "2020-05-30T13:20:42.652989Z",
     "start_time": "2020-05-30T13:20:42.631849Z"
    }
   },
   "outputs": [
    {
     "data": {
      "text/html": [
       "<div>\n",
       "<style scoped>\n",
       "    .dataframe tbody tr th:only-of-type {\n",
       "        vertical-align: middle;\n",
       "    }\n",
       "\n",
       "    .dataframe tbody tr th {\n",
       "        vertical-align: top;\n",
       "    }\n",
       "\n",
       "    .dataframe thead th {\n",
       "        text-align: right;\n",
       "    }\n",
       "</style>\n",
       "<table border=\"1\" class=\"dataframe\">\n",
       "  <thead>\n",
       "    <tr style=\"text-align: right;\">\n",
       "      <th></th>\n",
       "      <th>Date</th>\n",
       "      <th>eventType</th>\n",
       "      <th>Venue</th>\n",
       "      <th>Location</th>\n",
       "      <th>Time</th>\n",
       "      <th>id</th>\n",
       "      <th>orchestra</th>\n",
       "      <th>programID</th>\n",
       "      <th>season</th>\n",
       "    </tr>\n",
       "  </thead>\n",
       "  <tbody>\n",
       "    <tr>\n",
       "      <th>0</th>\n",
       "      <td>1842-12-07T05:00:00Z</td>\n",
       "      <td>Subscription Season</td>\n",
       "      <td>Apollo Rooms</td>\n",
       "      <td>Manhattan, NY</td>\n",
       "      <td>8:00PM</td>\n",
       "      <td>38e072a7-8fc9-4f9a-8eac-3957905c0002</td>\n",
       "      <td>New York Philharmonic</td>\n",
       "      <td>3853</td>\n",
       "      <td>1842-43</td>\n",
       "    </tr>\n",
       "    <tr>\n",
       "      <th>1</th>\n",
       "      <td>1843-02-18T05:00:00Z</td>\n",
       "      <td>Subscription Season</td>\n",
       "      <td>Apollo Rooms</td>\n",
       "      <td>Manhattan, NY</td>\n",
       "      <td>8:00PM</td>\n",
       "      <td>c7b2b95c-5e0b-431c-a340-5b37fc860b34</td>\n",
       "      <td>New York Philharmonic</td>\n",
       "      <td>5178</td>\n",
       "      <td>1842-43</td>\n",
       "    </tr>\n",
       "    <tr>\n",
       "      <th>2</th>\n",
       "      <td>1843-04-07T05:00:00Z</td>\n",
       "      <td>Special</td>\n",
       "      <td>Apollo Rooms</td>\n",
       "      <td>Manhattan, NY</td>\n",
       "      <td>8:00PM</td>\n",
       "      <td>894e1a52-1ae5-4fa7-aec0-b99997555a37</td>\n",
       "      <td>Musicians from the New York Philharmonic</td>\n",
       "      <td>10785</td>\n",
       "      <td>1842-43</td>\n",
       "    </tr>\n",
       "    <tr>\n",
       "      <th>3</th>\n",
       "      <td>1843-04-22T05:00:00Z</td>\n",
       "      <td>Subscription Season</td>\n",
       "      <td>Apollo Rooms</td>\n",
       "      <td>Manhattan, NY</td>\n",
       "      <td>8:00PM</td>\n",
       "      <td>34ec2c2b-3297-4716-9831-b538310462b7</td>\n",
       "      <td>New York Philharmonic</td>\n",
       "      <td>5887</td>\n",
       "      <td>1842-43</td>\n",
       "    </tr>\n",
       "    <tr>\n",
       "      <th>4</th>\n",
       "      <td>1843-11-18T05:00:00Z</td>\n",
       "      <td>Subscription Season</td>\n",
       "      <td>Apollo Rooms</td>\n",
       "      <td>Manhattan, NY</td>\n",
       "      <td>None</td>\n",
       "      <td>610a4acc-94e4-4cd6-bdc1-8ad020edc7e9</td>\n",
       "      <td>New York Philharmonic</td>\n",
       "      <td>305</td>\n",
       "      <td>1843-44</td>\n",
       "    </tr>\n",
       "  </tbody>\n",
       "</table>\n",
       "</div>"
      ],
      "text/plain": [
       "                   Date            eventType         Venue       Location  \\\n",
       "0  1842-12-07T05:00:00Z  Subscription Season  Apollo Rooms  Manhattan, NY   \n",
       "1  1843-02-18T05:00:00Z  Subscription Season  Apollo Rooms  Manhattan, NY   \n",
       "2  1843-04-07T05:00:00Z              Special  Apollo Rooms  Manhattan, NY   \n",
       "3  1843-04-22T05:00:00Z  Subscription Season  Apollo Rooms  Manhattan, NY   \n",
       "4  1843-11-18T05:00:00Z  Subscription Season  Apollo Rooms  Manhattan, NY   \n",
       "\n",
       "     Time                                    id  \\\n",
       "0  8:00PM  38e072a7-8fc9-4f9a-8eac-3957905c0002   \n",
       "1  8:00PM  c7b2b95c-5e0b-431c-a340-5b37fc860b34   \n",
       "2  8:00PM  894e1a52-1ae5-4fa7-aec0-b99997555a37   \n",
       "3  8:00PM  34ec2c2b-3297-4716-9831-b538310462b7   \n",
       "4    None  610a4acc-94e4-4cd6-bdc1-8ad020edc7e9   \n",
       "\n",
       "                                  orchestra programID   season  \n",
       "0                     New York Philharmonic      3853  1842-43  \n",
       "1                     New York Philharmonic      5178  1842-43  \n",
       "2  Musicians from the New York Philharmonic     10785  1842-43  \n",
       "3                     New York Philharmonic      5887  1842-43  \n",
       "4                     New York Philharmonic       305  1843-44  "
      ]
     },
     "execution_count": 19,
     "metadata": {},
     "output_type": "execute_result"
    }
   ],
   "source": [
    "concerts.head(5)"
   ]
  },
  {
   "cell_type": "markdown",
   "metadata": {
    "ExecuteTime": {
     "end_time": "2020-05-18T06:59:29.999784Z",
     "start_time": "2020-05-18T06:59:29.990045Z"
    }
   },
   "source": [
    "## Normalize a json data to get an output with columns :\n",
    "\n",
    "soloistName \tsoloistRoles \tsoloistInstrument \tid"
   ]
  },
  {
   "cell_type": "code",
   "execution_count": 20,
   "metadata": {
    "ExecuteTime": {
     "end_time": "2020-05-30T13:20:51.300893Z",
     "start_time": "2020-05-30T13:20:50.578641Z"
    }
   },
   "outputs": [
    {
     "data": {
      "text/html": [
       "<div>\n",
       "<style scoped>\n",
       "    .dataframe tbody tr th:only-of-type {\n",
       "        vertical-align: middle;\n",
       "    }\n",
       "\n",
       "    .dataframe tbody tr th {\n",
       "        vertical-align: top;\n",
       "    }\n",
       "\n",
       "    .dataframe thead th {\n",
       "        text-align: right;\n",
       "    }\n",
       "</style>\n",
       "<table border=\"1\" class=\"dataframe\">\n",
       "  <thead>\n",
       "    <tr style=\"text-align: right;\">\n",
       "      <th></th>\n",
       "      <th>soloistName</th>\n",
       "      <th>soloistRoles</th>\n",
       "      <th>soloistInstrument</th>\n",
       "      <th>id</th>\n",
       "    </tr>\n",
       "  </thead>\n",
       "  <tbody>\n",
       "    <tr>\n",
       "      <th>0</th>\n",
       "      <td>Otto, Antoinette</td>\n",
       "      <td>S</td>\n",
       "      <td>Soprano</td>\n",
       "      <td>38e072a7-8fc9-4f9a-8eac-3957905c0002</td>\n",
       "    </tr>\n",
       "    <tr>\n",
       "      <th>1</th>\n",
       "      <td>Scharfenberg, William</td>\n",
       "      <td>A</td>\n",
       "      <td>Piano</td>\n",
       "      <td>38e072a7-8fc9-4f9a-8eac-3957905c0002</td>\n",
       "    </tr>\n",
       "    <tr>\n",
       "      <th>2</th>\n",
       "      <td>Hill, Ureli Corelli</td>\n",
       "      <td>A</td>\n",
       "      <td>Violin</td>\n",
       "      <td>38e072a7-8fc9-4f9a-8eac-3957905c0002</td>\n",
       "    </tr>\n",
       "    <tr>\n",
       "      <th>3</th>\n",
       "      <td>Derwort, G. H.</td>\n",
       "      <td>A</td>\n",
       "      <td>Viola</td>\n",
       "      <td>38e072a7-8fc9-4f9a-8eac-3957905c0002</td>\n",
       "    </tr>\n",
       "    <tr>\n",
       "      <th>4</th>\n",
       "      <td>Boucher, Alfred</td>\n",
       "      <td>A</td>\n",
       "      <td>Cello</td>\n",
       "      <td>38e072a7-8fc9-4f9a-8eac-3957905c0002</td>\n",
       "    </tr>\n",
       "    <tr>\n",
       "      <th>...</th>\n",
       "      <td>...</td>\n",
       "      <td>...</td>\n",
       "      <td>...</td>\n",
       "      <td>...</td>\n",
       "    </tr>\n",
       "    <tr>\n",
       "      <th>56189</th>\n",
       "      <td>Xu, Weiqin</td>\n",
       "      <td>S</td>\n",
       "      <td>Baritone</td>\n",
       "      <td>68625626-8085-44e4-bdb3-d8e6ac51c95b</td>\n",
       "    </tr>\n",
       "    <tr>\n",
       "      <th>56190</th>\n",
       "      <td>Martin, Christopher</td>\n",
       "      <td>S</td>\n",
       "      <td>Trumpet</td>\n",
       "      <td>5c22d35f-a282-4505-bd31-df619c74f52b</td>\n",
       "    </tr>\n",
       "    <tr>\n",
       "      <th>56191</th>\n",
       "      <td>Shryock, Grace</td>\n",
       "      <td>S</td>\n",
       "      <td>English Horn</td>\n",
       "      <td>5c22d35f-a282-4505-bd31-df619c74f52b</td>\n",
       "    </tr>\n",
       "    <tr>\n",
       "      <th>56192</th>\n",
       "      <td>Jazz at Lincoln Center Orchestra with Wynton M...</td>\n",
       "      <td>S</td>\n",
       "      <td>Jazz Ensemble</td>\n",
       "      <td>5c22d35f-a282-4505-bd31-df619c74f52b</td>\n",
       "    </tr>\n",
       "    <tr>\n",
       "      <th>56193</th>\n",
       "      <td>Jazz at Lincoln Center Orchestra with Wynton M...</td>\n",
       "      <td>S</td>\n",
       "      <td>Jazz Ensemble</td>\n",
       "      <td>5c22d35f-a282-4505-bd31-df619c74f52b</td>\n",
       "    </tr>\n",
       "  </tbody>\n",
       "</table>\n",
       "<p>56194 rows × 4 columns</p>\n",
       "</div>"
      ],
      "text/plain": [
       "                                             soloistName soloistRoles  \\\n",
       "0                                       Otto, Antoinette            S   \n",
       "1                                  Scharfenberg, William            A   \n",
       "2                                    Hill, Ureli Corelli            A   \n",
       "3                                         Derwort, G. H.            A   \n",
       "4                                        Boucher, Alfred            A   \n",
       "...                                                  ...          ...   \n",
       "56189                                         Xu, Weiqin            S   \n",
       "56190                                Martin, Christopher            S   \n",
       "56191                                     Shryock, Grace            S   \n",
       "56192  Jazz at Lincoln Center Orchestra with Wynton M...            S   \n",
       "56193  Jazz at Lincoln Center Orchestra with Wynton M...            S   \n",
       "\n",
       "      soloistInstrument                                    id  \n",
       "0               Soprano  38e072a7-8fc9-4f9a-8eac-3957905c0002  \n",
       "1                 Piano  38e072a7-8fc9-4f9a-8eac-3957905c0002  \n",
       "2                Violin  38e072a7-8fc9-4f9a-8eac-3957905c0002  \n",
       "3                 Viola  38e072a7-8fc9-4f9a-8eac-3957905c0002  \n",
       "4                 Cello  38e072a7-8fc9-4f9a-8eac-3957905c0002  \n",
       "...                 ...                                   ...  \n",
       "56189          Baritone  68625626-8085-44e4-bdb3-d8e6ac51c95b  \n",
       "56190           Trumpet  5c22d35f-a282-4505-bd31-df619c74f52b  \n",
       "56191      English Horn  5c22d35f-a282-4505-bd31-df619c74f52b  \n",
       "56192     Jazz Ensemble  5c22d35f-a282-4505-bd31-df619c74f52b  \n",
       "56193     Jazz Ensemble  5c22d35f-a282-4505-bd31-df619c74f52b  \n",
       "\n",
       "[56194 rows x 4 columns]"
      ]
     },
     "execution_count": 20,
     "metadata": {},
     "output_type": "execute_result"
    }
   ],
   "source": [
    "solo=pd.json_normalize(data['programs'],\n",
    "                          record_path=[\"works\",\"soloists\"],\n",
    "                          meta=\"id\")\n",
    "solo"
   ]
  },
  {
   "cell_type": "markdown",
   "metadata": {},
   "source": [
    "## Normalize a json to get an output with columns\n",
    "soloistName \tsoloistRoles \tsoloistInstrument \tid \torchestra \tprogramID \tseason \t \tDate \teventType \tVenue \tLocation \tTime"
   ]
  },
  {
   "cell_type": "code",
   "execution_count": 21,
   "metadata": {
    "ExecuteTime": {
     "end_time": "2020-05-30T13:20:56.612902Z",
     "start_time": "2020-05-30T13:20:55.728284Z"
    }
   },
   "outputs": [
    {
     "data": {
      "text/html": [
       "<div>\n",
       "<style scoped>\n",
       "    .dataframe tbody tr th:only-of-type {\n",
       "        vertical-align: middle;\n",
       "    }\n",
       "\n",
       "    .dataframe tbody tr th {\n",
       "        vertical-align: top;\n",
       "    }\n",
       "\n",
       "    .dataframe thead th {\n",
       "        text-align: right;\n",
       "    }\n",
       "</style>\n",
       "<table border=\"1\" class=\"dataframe\">\n",
       "  <thead>\n",
       "    <tr style=\"text-align: right;\">\n",
       "      <th></th>\n",
       "      <th>soloistName</th>\n",
       "      <th>soloistRoles</th>\n",
       "      <th>soloistInstrument</th>\n",
       "      <th>id</th>\n",
       "      <th>orchestra</th>\n",
       "      <th>programID</th>\n",
       "      <th>season</th>\n",
       "    </tr>\n",
       "  </thead>\n",
       "  <tbody>\n",
       "    <tr>\n",
       "      <th>0</th>\n",
       "      <td>Otto, Antoinette</td>\n",
       "      <td>S</td>\n",
       "      <td>Soprano</td>\n",
       "      <td>38e072a7-8fc9-4f9a-8eac-3957905c0002</td>\n",
       "      <td>New York Philharmonic</td>\n",
       "      <td>3853</td>\n",
       "      <td>1842-43</td>\n",
       "    </tr>\n",
       "    <tr>\n",
       "      <th>1</th>\n",
       "      <td>Scharfenberg, William</td>\n",
       "      <td>A</td>\n",
       "      <td>Piano</td>\n",
       "      <td>38e072a7-8fc9-4f9a-8eac-3957905c0002</td>\n",
       "      <td>New York Philharmonic</td>\n",
       "      <td>3853</td>\n",
       "      <td>1842-43</td>\n",
       "    </tr>\n",
       "    <tr>\n",
       "      <th>2</th>\n",
       "      <td>Hill, Ureli Corelli</td>\n",
       "      <td>A</td>\n",
       "      <td>Violin</td>\n",
       "      <td>38e072a7-8fc9-4f9a-8eac-3957905c0002</td>\n",
       "      <td>New York Philharmonic</td>\n",
       "      <td>3853</td>\n",
       "      <td>1842-43</td>\n",
       "    </tr>\n",
       "    <tr>\n",
       "      <th>3</th>\n",
       "      <td>Derwort, G. H.</td>\n",
       "      <td>A</td>\n",
       "      <td>Viola</td>\n",
       "      <td>38e072a7-8fc9-4f9a-8eac-3957905c0002</td>\n",
       "      <td>New York Philharmonic</td>\n",
       "      <td>3853</td>\n",
       "      <td>1842-43</td>\n",
       "    </tr>\n",
       "    <tr>\n",
       "      <th>4</th>\n",
       "      <td>Boucher, Alfred</td>\n",
       "      <td>A</td>\n",
       "      <td>Cello</td>\n",
       "      <td>38e072a7-8fc9-4f9a-8eac-3957905c0002</td>\n",
       "      <td>New York Philharmonic</td>\n",
       "      <td>3853</td>\n",
       "      <td>1842-43</td>\n",
       "    </tr>\n",
       "  </tbody>\n",
       "</table>\n",
       "</div>"
      ],
      "text/plain": [
       "             soloistName soloistRoles soloistInstrument  \\\n",
       "0       Otto, Antoinette            S           Soprano   \n",
       "1  Scharfenberg, William            A             Piano   \n",
       "2    Hill, Ureli Corelli            A            Violin   \n",
       "3         Derwort, G. H.            A             Viola   \n",
       "4        Boucher, Alfred            A             Cello   \n",
       "\n",
       "                                     id              orchestra programID  \\\n",
       "0  38e072a7-8fc9-4f9a-8eac-3957905c0002  New York Philharmonic      3853   \n",
       "1  38e072a7-8fc9-4f9a-8eac-3957905c0002  New York Philharmonic      3853   \n",
       "2  38e072a7-8fc9-4f9a-8eac-3957905c0002  New York Philharmonic      3853   \n",
       "3  38e072a7-8fc9-4f9a-8eac-3957905c0002  New York Philharmonic      3853   \n",
       "4  38e072a7-8fc9-4f9a-8eac-3957905c0002  New York Philharmonic      3853   \n",
       "\n",
       "    season  \n",
       "0  1842-43  \n",
       "1  1842-43  \n",
       "2  1842-43  \n",
       "3  1842-43  \n",
       "4  1842-43  "
      ]
     },
     "execution_count": 21,
     "metadata": {},
     "output_type": "execute_result"
    }
   ],
   "source": [
    "solo2=pd.json_normalize(data['programs'],\n",
    "                          record_path=[\"works\",\"soloists\"],\n",
    "                          meta =['id','orchestra', 'programID', 'season'])\n",
    "solo2.head(5)"
   ]
  },
  {
   "cell_type": "code",
   "execution_count": 22,
   "metadata": {
    "ExecuteTime": {
     "end_time": "2020-05-30T13:20:58.967117Z",
     "start_time": "2020-05-30T13:20:58.658016Z"
    }
   },
   "outputs": [
    {
     "data": {
      "text/html": [
       "<div>\n",
       "<style scoped>\n",
       "    .dataframe tbody tr th:only-of-type {\n",
       "        vertical-align: middle;\n",
       "    }\n",
       "\n",
       "    .dataframe tbody tr th {\n",
       "        vertical-align: top;\n",
       "    }\n",
       "\n",
       "    .dataframe thead th {\n",
       "        text-align: right;\n",
       "    }\n",
       "</style>\n",
       "<table border=\"1\" class=\"dataframe\">\n",
       "  <thead>\n",
       "    <tr style=\"text-align: right;\">\n",
       "      <th></th>\n",
       "      <th>Date</th>\n",
       "      <th>eventType</th>\n",
       "      <th>Venue</th>\n",
       "      <th>Location</th>\n",
       "      <th>Time</th>\n",
       "      <th>id</th>\n",
       "    </tr>\n",
       "  </thead>\n",
       "  <tbody>\n",
       "    <tr>\n",
       "      <th>0</th>\n",
       "      <td>1842-12-07T05:00:00Z</td>\n",
       "      <td>Subscription Season</td>\n",
       "      <td>Apollo Rooms</td>\n",
       "      <td>Manhattan, NY</td>\n",
       "      <td>8:00PM</td>\n",
       "      <td>38e072a7-8fc9-4f9a-8eac-3957905c0002</td>\n",
       "    </tr>\n",
       "    <tr>\n",
       "      <th>1</th>\n",
       "      <td>1843-02-18T05:00:00Z</td>\n",
       "      <td>Subscription Season</td>\n",
       "      <td>Apollo Rooms</td>\n",
       "      <td>Manhattan, NY</td>\n",
       "      <td>8:00PM</td>\n",
       "      <td>c7b2b95c-5e0b-431c-a340-5b37fc860b34</td>\n",
       "    </tr>\n",
       "    <tr>\n",
       "      <th>2</th>\n",
       "      <td>1843-04-07T05:00:00Z</td>\n",
       "      <td>Special</td>\n",
       "      <td>Apollo Rooms</td>\n",
       "      <td>Manhattan, NY</td>\n",
       "      <td>8:00PM</td>\n",
       "      <td>894e1a52-1ae5-4fa7-aec0-b99997555a37</td>\n",
       "    </tr>\n",
       "    <tr>\n",
       "      <th>3</th>\n",
       "      <td>1843-04-22T05:00:00Z</td>\n",
       "      <td>Subscription Season</td>\n",
       "      <td>Apollo Rooms</td>\n",
       "      <td>Manhattan, NY</td>\n",
       "      <td>8:00PM</td>\n",
       "      <td>34ec2c2b-3297-4716-9831-b538310462b7</td>\n",
       "    </tr>\n",
       "    <tr>\n",
       "      <th>4</th>\n",
       "      <td>1843-11-18T05:00:00Z</td>\n",
       "      <td>Subscription Season</td>\n",
       "      <td>Apollo Rooms</td>\n",
       "      <td>Manhattan, NY</td>\n",
       "      <td>None</td>\n",
       "      <td>610a4acc-94e4-4cd6-bdc1-8ad020edc7e9</td>\n",
       "    </tr>\n",
       "  </tbody>\n",
       "</table>\n",
       "</div>"
      ],
      "text/plain": [
       "                   Date            eventType         Venue       Location  \\\n",
       "0  1842-12-07T05:00:00Z  Subscription Season  Apollo Rooms  Manhattan, NY   \n",
       "1  1843-02-18T05:00:00Z  Subscription Season  Apollo Rooms  Manhattan, NY   \n",
       "2  1843-04-07T05:00:00Z              Special  Apollo Rooms  Manhattan, NY   \n",
       "3  1843-04-22T05:00:00Z  Subscription Season  Apollo Rooms  Manhattan, NY   \n",
       "4  1843-11-18T05:00:00Z  Subscription Season  Apollo Rooms  Manhattan, NY   \n",
       "\n",
       "     Time                                    id  \n",
       "0  8:00PM  38e072a7-8fc9-4f9a-8eac-3957905c0002  \n",
       "1  8:00PM  c7b2b95c-5e0b-431c-a340-5b37fc860b34  \n",
       "2  8:00PM  894e1a52-1ae5-4fa7-aec0-b99997555a37  \n",
       "3  8:00PM  34ec2c2b-3297-4716-9831-b538310462b7  \n",
       "4    None  610a4acc-94e4-4cd6-bdc1-8ad020edc7e9  "
      ]
     },
     "execution_count": 22,
     "metadata": {},
     "output_type": "execute_result"
    }
   ],
   "source": [
    "concerts2=pd.json_normalize(data['programs'],\n",
    "                          record_path=\"concerts\",\n",
    "                          meta ='id')\n",
    "concerts2.head(5)"
   ]
  },
  {
   "cell_type": "code",
   "execution_count": 23,
   "metadata": {
    "ExecuteTime": {
     "end_time": "2020-05-30T13:21:00.307108Z",
     "start_time": "2020-05-30T13:21:00.217590Z"
    }
   },
   "outputs": [],
   "source": [
    "merged=pd.merge(left=solo2, right=concerts2, on=\"id\")"
   ]
  },
  {
   "cell_type": "code",
   "execution_count": 24,
   "metadata": {
    "ExecuteTime": {
     "end_time": "2020-05-30T13:21:01.963594Z",
     "start_time": "2020-05-30T13:21:01.939809Z"
    }
   },
   "outputs": [
    {
     "data": {
      "text/html": [
       "<div>\n",
       "<style scoped>\n",
       "    .dataframe tbody tr th:only-of-type {\n",
       "        vertical-align: middle;\n",
       "    }\n",
       "\n",
       "    .dataframe tbody tr th {\n",
       "        vertical-align: top;\n",
       "    }\n",
       "\n",
       "    .dataframe thead th {\n",
       "        text-align: right;\n",
       "    }\n",
       "</style>\n",
       "<table border=\"1\" class=\"dataframe\">\n",
       "  <thead>\n",
       "    <tr style=\"text-align: right;\">\n",
       "      <th></th>\n",
       "      <th>soloistName</th>\n",
       "      <th>soloistRoles</th>\n",
       "      <th>soloistInstrument</th>\n",
       "      <th>id</th>\n",
       "      <th>orchestra</th>\n",
       "      <th>programID</th>\n",
       "      <th>season</th>\n",
       "      <th>Date</th>\n",
       "      <th>eventType</th>\n",
       "      <th>Venue</th>\n",
       "      <th>Location</th>\n",
       "      <th>Time</th>\n",
       "    </tr>\n",
       "  </thead>\n",
       "  <tbody>\n",
       "    <tr>\n",
       "      <th>0</th>\n",
       "      <td>Otto, Antoinette</td>\n",
       "      <td>S</td>\n",
       "      <td>Soprano</td>\n",
       "      <td>38e072a7-8fc9-4f9a-8eac-3957905c0002</td>\n",
       "      <td>New York Philharmonic</td>\n",
       "      <td>3853</td>\n",
       "      <td>1842-43</td>\n",
       "      <td>1842-12-07T05:00:00Z</td>\n",
       "      <td>Subscription Season</td>\n",
       "      <td>Apollo Rooms</td>\n",
       "      <td>Manhattan, NY</td>\n",
       "      <td>8:00PM</td>\n",
       "    </tr>\n",
       "    <tr>\n",
       "      <th>1</th>\n",
       "      <td>Scharfenberg, William</td>\n",
       "      <td>A</td>\n",
       "      <td>Piano</td>\n",
       "      <td>38e072a7-8fc9-4f9a-8eac-3957905c0002</td>\n",
       "      <td>New York Philharmonic</td>\n",
       "      <td>3853</td>\n",
       "      <td>1842-43</td>\n",
       "      <td>1842-12-07T05:00:00Z</td>\n",
       "      <td>Subscription Season</td>\n",
       "      <td>Apollo Rooms</td>\n",
       "      <td>Manhattan, NY</td>\n",
       "      <td>8:00PM</td>\n",
       "    </tr>\n",
       "    <tr>\n",
       "      <th>2</th>\n",
       "      <td>Hill, Ureli Corelli</td>\n",
       "      <td>A</td>\n",
       "      <td>Violin</td>\n",
       "      <td>38e072a7-8fc9-4f9a-8eac-3957905c0002</td>\n",
       "      <td>New York Philharmonic</td>\n",
       "      <td>3853</td>\n",
       "      <td>1842-43</td>\n",
       "      <td>1842-12-07T05:00:00Z</td>\n",
       "      <td>Subscription Season</td>\n",
       "      <td>Apollo Rooms</td>\n",
       "      <td>Manhattan, NY</td>\n",
       "      <td>8:00PM</td>\n",
       "    </tr>\n",
       "    <tr>\n",
       "      <th>3</th>\n",
       "      <td>Derwort, G. H.</td>\n",
       "      <td>A</td>\n",
       "      <td>Viola</td>\n",
       "      <td>38e072a7-8fc9-4f9a-8eac-3957905c0002</td>\n",
       "      <td>New York Philharmonic</td>\n",
       "      <td>3853</td>\n",
       "      <td>1842-43</td>\n",
       "      <td>1842-12-07T05:00:00Z</td>\n",
       "      <td>Subscription Season</td>\n",
       "      <td>Apollo Rooms</td>\n",
       "      <td>Manhattan, NY</td>\n",
       "      <td>8:00PM</td>\n",
       "    </tr>\n",
       "    <tr>\n",
       "      <th>4</th>\n",
       "      <td>Boucher, Alfred</td>\n",
       "      <td>A</td>\n",
       "      <td>Cello</td>\n",
       "      <td>38e072a7-8fc9-4f9a-8eac-3957905c0002</td>\n",
       "      <td>New York Philharmonic</td>\n",
       "      <td>3853</td>\n",
       "      <td>1842-43</td>\n",
       "      <td>1842-12-07T05:00:00Z</td>\n",
       "      <td>Subscription Season</td>\n",
       "      <td>Apollo Rooms</td>\n",
       "      <td>Manhattan, NY</td>\n",
       "      <td>8:00PM</td>\n",
       "    </tr>\n",
       "  </tbody>\n",
       "</table>\n",
       "</div>"
      ],
      "text/plain": [
       "             soloistName soloistRoles soloistInstrument  \\\n",
       "0       Otto, Antoinette            S           Soprano   \n",
       "1  Scharfenberg, William            A             Piano   \n",
       "2    Hill, Ureli Corelli            A            Violin   \n",
       "3         Derwort, G. H.            A             Viola   \n",
       "4        Boucher, Alfred            A             Cello   \n",
       "\n",
       "                                     id              orchestra programID  \\\n",
       "0  38e072a7-8fc9-4f9a-8eac-3957905c0002  New York Philharmonic      3853   \n",
       "1  38e072a7-8fc9-4f9a-8eac-3957905c0002  New York Philharmonic      3853   \n",
       "2  38e072a7-8fc9-4f9a-8eac-3957905c0002  New York Philharmonic      3853   \n",
       "3  38e072a7-8fc9-4f9a-8eac-3957905c0002  New York Philharmonic      3853   \n",
       "4  38e072a7-8fc9-4f9a-8eac-3957905c0002  New York Philharmonic      3853   \n",
       "\n",
       "    season                  Date            eventType         Venue  \\\n",
       "0  1842-43  1842-12-07T05:00:00Z  Subscription Season  Apollo Rooms   \n",
       "1  1842-43  1842-12-07T05:00:00Z  Subscription Season  Apollo Rooms   \n",
       "2  1842-43  1842-12-07T05:00:00Z  Subscription Season  Apollo Rooms   \n",
       "3  1842-43  1842-12-07T05:00:00Z  Subscription Season  Apollo Rooms   \n",
       "4  1842-43  1842-12-07T05:00:00Z  Subscription Season  Apollo Rooms   \n",
       "\n",
       "        Location    Time  \n",
       "0  Manhattan, NY  8:00PM  \n",
       "1  Manhattan, NY  8:00PM  \n",
       "2  Manhattan, NY  8:00PM  \n",
       "3  Manhattan, NY  8:00PM  \n",
       "4  Manhattan, NY  8:00PM  "
      ]
     },
     "execution_count": 24,
     "metadata": {},
     "output_type": "execute_result"
    }
   ],
   "source": [
    "merged.head()"
   ]
  },
  {
   "cell_type": "code",
   "execution_count": null,
   "metadata": {},
   "outputs": [],
   "source": []
  }
 ],
 "metadata": {
  "kernelspec": {
   "display_name": "Python 3",
   "language": "python",
   "name": "python3"
  },
  "language_info": {
   "codemirror_mode": {
    "name": "ipython",
    "version": 3
   },
   "file_extension": ".py",
   "mimetype": "text/x-python",
   "name": "python",
   "nbconvert_exporter": "python",
   "pygments_lexer": "ipython3",
   "version": "3.7.4"
  },
  "toc": {
   "base_numbering": 1,
   "nav_menu": {},
   "number_sections": true,
   "sideBar": true,
   "skip_h1_title": false,
   "title_cell": "Table of Contents",
   "title_sidebar": "Contents",
   "toc_cell": false,
   "toc_position": {},
   "toc_section_display": true,
   "toc_window_display": false
  },
  "varInspector": {
   "cols": {
    "lenName": 16,
    "lenType": 16,
    "lenVar": 40
   },
   "kernels_config": {
    "python": {
     "delete_cmd_postfix": "",
     "delete_cmd_prefix": "del ",
     "library": "var_list.py",
     "varRefreshCmd": "print(var_dic_list())"
    },
    "r": {
     "delete_cmd_postfix": ") ",
     "delete_cmd_prefix": "rm(",
     "library": "var_list.r",
     "varRefreshCmd": "cat(var_dic_list()) "
    }
   },
   "types_to_exclude": [
    "module",
    "function",
    "builtin_function_or_method",
    "instance",
    "_Feature"
   ],
   "window_display": false
  }
 },
 "nbformat": 4,
 "nbformat_minor": 4
}
