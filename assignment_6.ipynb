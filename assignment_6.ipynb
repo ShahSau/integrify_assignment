{
 "cells": [
  {
   "cell_type": "markdown",
   "metadata": {},
   "source": [
    "# write a function to get the sum of two num"
   ]
  },
  {
   "cell_type": "code",
   "execution_count": 1,
   "metadata": {
    "ExecuteTime": {
     "end_time": "2020-04-28T14:16:53.479413Z",
     "start_time": "2020-04-28T14:16:53.442618Z"
    }
   },
   "outputs": [
    {
     "data": {
      "text/plain": [
       "7"
      ]
     },
     "execution_count": 1,
     "metadata": {},
     "output_type": "execute_result"
    }
   ],
   "source": [
    "def fun(x1,x2):\n",
    "    return x1+x2\n",
    "fun(3,4)"
   ]
  },
  {
   "cell_type": "markdown",
   "metadata": {},
   "source": [
    "# write a function to print if leap year or not\n"
   ]
  },
  {
   "cell_type": "code",
   "execution_count": 4,
   "metadata": {
    "ExecuteTime": {
     "end_time": "2020-04-28T14:18:48.633863Z",
     "start_time": "2020-04-28T14:18:48.623199Z"
    }
   },
   "outputs": [
    {
     "name": "stdout",
     "output_type": "stream",
     "text": [
      "not leap year\n"
     ]
    }
   ],
   "source": [
    "def year(l):\n",
    "    if int(l)%4==0:\n",
    "        print(\"leap year\")\n",
    "    else:\n",
    "        print(\"not leap year\")\n",
    "\n",
    "year(2025)"
   ]
  },
  {
   "cell_type": "markdown",
   "metadata": {},
   "source": [
    "# write a function to count a bit(number of 1) in number"
   ]
  },
  {
   "cell_type": "code",
   "execution_count": 15,
   "metadata": {
    "ExecuteTime": {
     "end_time": "2020-04-28T14:25:58.609055Z",
     "start_time": "2020-04-28T14:25:56.936012Z"
    }
   },
   "outputs": [
    {
     "name": "stdout",
     "output_type": "stream",
     "text": [
      "12\n",
      "['1', '1', '0', '0']\n"
     ]
    },
    {
     "data": {
      "text/plain": [
       "2"
      ]
     },
     "execution_count": 15,
     "metadata": {},
     "output_type": "execute_result"
    }
   ],
   "source": [
    "n=int(input())\n",
    "n=bin(n)[2:]\n",
    "\n",
    "n=list(n)\n",
    "print(n)\n",
    "def counter(l):\n",
    "    k=''\n",
    "    for i in l:\n",
    "        if int(i) ==1:\n",
    "            k=k+i\n",
    "    return len(k)\n",
    "counter(n)"
   ]
  },
  {
   "cell_type": "markdown",
   "metadata": {},
   "source": [
    "# write a program to get the area of a circle from the radius\n"
   ]
  },
  {
   "cell_type": "code",
   "execution_count": 17,
   "metadata": {
    "ExecuteTime": {
     "end_time": "2020-04-28T14:28:07.874813Z",
     "start_time": "2020-04-28T14:28:07.835023Z"
    }
   },
   "outputs": [
    {
     "data": {
      "text/plain": [
       "12.56"
      ]
     },
     "execution_count": 17,
     "metadata": {},
     "output_type": "execute_result"
    }
   ],
   "source": [
    "def cir(r):\n",
    "    return 3.14*r**2\n",
    "cir(2)"
   ]
  },
  {
   "cell_type": "markdown",
   "metadata": {},
   "source": [
    "# write a function to get the factorial of given number use recurssion\n"
   ]
  },
  {
   "cell_type": "code",
   "execution_count": 30,
   "metadata": {
    "ExecuteTime": {
     "end_time": "2020-04-28T14:41:27.051143Z",
     "start_time": "2020-04-28T14:41:27.037232Z"
    }
   },
   "outputs": [
    {
     "data": {
      "text/plain": [
       "120"
      ]
     },
     "execution_count": 30,
     "metadata": {},
     "output_type": "execute_result"
    }
   ],
   "source": [
    "def fac(n):\n",
    "    if n==1:\n",
    "        return 1\n",
    "    else:\n",
    "        return n * fac(n-1)\n",
    "\n",
    "fac(5)"
   ]
  },
  {
   "cell_type": "markdown",
   "metadata": {},
   "source": [
    "# write a program to remove a duplicate word in al list\n",
    "\n"
   ]
  },
  {
   "cell_type": "code",
   "execution_count": 31,
   "metadata": {
    "ExecuteTime": {
     "end_time": "2020-04-28T14:43:34.679932Z",
     "start_time": "2020-04-28T14:43:34.667770Z"
    }
   },
   "outputs": [
    {
     "data": {
      "text/plain": [
       "['myself', 'me', 'i']"
      ]
     },
     "execution_count": 31,
     "metadata": {},
     "output_type": "execute_result"
    }
   ],
   "source": [
    "m=['i','i','me','myself']\n",
    "def rem(n):\n",
    "    n=set(n)\n",
    "    n=list(n)\n",
    "    return n\n",
    "rem(m)"
   ]
  },
  {
   "cell_type": "markdown",
   "metadata": {},
   "source": [
    "# calculate fibonacci\n",
    "\n"
   ]
  },
  {
   "cell_type": "code",
   "execution_count": 75,
   "metadata": {
    "ExecuteTime": {
     "end_time": "2020-04-28T19:26:38.595892Z",
     "start_time": "2020-04-28T19:26:38.574078Z"
    }
   },
   "outputs": [
    {
     "data": {
      "text/plain": [
       "89"
      ]
     },
     "execution_count": 75,
     "metadata": {},
     "output_type": "execute_result"
    }
   ],
   "source": [
    "\n",
    "def fib(n):\n",
    "    if n==0:\n",
    "        return 1\n",
    "    if n==2:\n",
    "        return 1\n",
    "    if n==3:\n",
    "        return 2\n",
    "    else:\n",
    "        return fib(n-1)+fib(n-2)\n",
    "fib(11)"
   ]
  },
  {
   "cell_type": "markdown",
   "metadata": {},
   "source": [
    "# write a function to get the premutationa and combination \n"
   ]
  },
  {
   "cell_type": "code",
   "execution_count": 33,
   "metadata": {
    "ExecuteTime": {
     "end_time": "2020-04-28T17:23:02.241132Z",
     "start_time": "2020-04-28T17:23:02.210168Z"
    }
   },
   "outputs": [
    {
     "data": {
      "text/plain": [
       "(2.3650087665373902e+33, 2104098963720.0)"
      ]
     },
     "execution_count": 33,
     "metadata": {},
     "output_type": "execute_result"
    }
   ],
   "source": [
    "def p(n):\n",
    "    if n==1:\n",
    "        return 1\n",
    "    else:\n",
    "        return n* p(n-1)\n",
    "def per_and_com(n,r):\n",
    "            if n==1 and r==1:\n",
    "                return 1\n",
    "            else:\n",
    "                return (n/(n-r)) * (p(n-1)/p(n-r-1)), (n/(r*(n-r))) * (p(n-1)/(p(r-1)*p(n-r-1)))\n",
    "\n",
    "per(44,22)"
   ]
  },
  {
   "cell_type": "markdown",
   "metadata": {},
   "source": [
    "# write a function to draw a diamond shape from a user given number:\n",
    " - hint: only odd number can draw a diamond shape\n"
   ]
  },
  {
   "cell_type": "markdown",
   "metadata": {},
   "source": [
    "# build a simple calculator which can:\n",
    "- add\n",
    "- subtract\n",
    "- multiply\n",
    "- divide\n"
   ]
  },
  {
   "cell_type": "code",
   "execution_count": 45,
   "metadata": {
    "ExecuteTime": {
     "end_time": "2020-04-28T14:57:06.128622Z",
     "start_time": "2020-04-28T14:57:06.101269Z"
    }
   },
   "outputs": [
    {
     "data": {
      "text/plain": [
       "72"
      ]
     },
     "execution_count": 45,
     "metadata": {},
     "output_type": "execute_result"
    }
   ],
   "source": [
    "def cal(x1,x2,l):\n",
    "    if l=='add':\n",
    "        return x1+x2\n",
    "    if l=='subtract':\n",
    "        return x1-x2\n",
    "    if l=='multiply':\n",
    "        return x1*x2\n",
    "    if l=='divide':\n",
    "        return x1/x2\n",
    "\n",
    "cal(9,8,'multiply')"
   ]
  },
  {
   "cell_type": "markdown",
   "metadata": {},
   "source": [
    "# define a function which can print a given string in a circular rotation"
   ]
  },
  {
   "cell_type": "code",
   "execution_count": 79,
   "metadata": {
    "ExecuteTime": {
     "end_time": "2020-04-28T15:32:22.965541Z",
     "start_time": "2020-04-28T15:32:22.941181Z"
    }
   },
   "outputs": [
    {
     "name": "stdout",
     "output_type": "stream",
     "text": [
      "bca\n",
      "cab\n",
      "abc\n"
     ]
    }
   ],
   "source": [
    "Q='abc'\n",
    "def pp(p):\n",
    "    for i in p:\n",
    "        k=p.replace(i,'')\n",
    "        p=k+i\n",
    "        print (p)\n",
    "pp(Q)"
   ]
  },
  {
   "cell_type": "markdown",
   "metadata": {},
   "source": [
    "# write a function to calculate the GCD of 2 number\n"
   ]
  },
  {
   "cell_type": "code",
   "execution_count": 270,
   "metadata": {
    "ExecuteTime": {
     "end_time": "2020-04-28T22:05:38.430387Z",
     "start_time": "2020-04-28T22:05:38.401212Z"
    }
   },
   "outputs": [
    {
     "data": {
      "text/plain": [
       "12"
      ]
     },
     "execution_count": 270,
     "metadata": {},
     "output_type": "execute_result"
    }
   ],
   "source": [
    "def twoo(n,n2):\n",
    "    f=[]\n",
    "    s=[]\n",
    "    t=[]\n",
    "    for i in range(1,n+1):\n",
    "        if n%i==0:\n",
    "            f.append(i)\n",
    "    for i in range(1,n2+1):\n",
    "        if n2%i==0:\n",
    "            s.append(i)\n",
    "    for i in f:\n",
    "        if i in s:\n",
    "            t.append(i)\n",
    "    k=max(t)\n",
    "    return k\n",
    "twoo(24,36)"
   ]
  },
  {
   "cell_type": "markdown",
   "metadata": {},
   "source": [
    "# Write a Python function to check whether a string is pangram or not.\n",
    "\n"
   ]
  },
  {
   "cell_type": "code",
   "execution_count": 263,
   "metadata": {
    "ExecuteTime": {
     "end_time": "2020-04-28T21:57:04.097528Z",
     "start_time": "2020-04-28T21:57:04.081457Z"
    }
   },
   "outputs": [
    {
     "name": "stdout",
     "output_type": "stream",
     "text": [
      "True\n"
     ]
    }
   ],
   "source": [
    "s0='The quick brown fox jumps over the lazy dog'\n",
    "li=['a','b','c','d','e','f','g','h','i','j','k','l','m','n','o','p','q','r','s','t','u','v','w','x','y','z']\n",
    "def pan(s1):\n",
    "    p=all(i in s1 for i in li)\n",
    "    print(p)\n",
    "\n",
    "pan(s0)\n"
   ]
  },
  {
   "cell_type": "code",
   "execution_count": 259,
   "metadata": {
    "ExecuteTime": {
     "end_time": "2020-04-28T21:56:06.366057Z",
     "start_time": "2020-04-28T21:56:06.340553Z"
    }
   },
   "outputs": [
    {
     "name": "stdout",
     "output_type": "stream",
     "text": [
      "The original string : There are 2 apples for 4 persons\n",
      "The original list : ['apples', 'oranges']\n",
      "False\n"
     ]
    }
   ],
   "source": [
    "test_string = \"There are 2 apples for 4 persons\"\n",
    "  \n",
    "# initializing test list \n",
    "test_list = ['apples', 'oranges'] \n",
    "  \n",
    "# printing original string  \n",
    "print(\"The original string : \" + test_string) \n",
    "  \n",
    "# printing original list  \n",
    "print(\"The original list : \" + str(test_list)) \n",
    "  \n",
    "# using list comprehension \n",
    "# checking if string contains list element \n",
    "res = all(ele in test_string for ele in test_list)\n",
    "print(res)"
   ]
  },
  {
   "cell_type": "markdown",
   "metadata": {},
   "source": [
    "\n",
    "# write a function which take a list of number and target where target is number . print the index from the list where the sum of the index value is equal to that of the target\n"
   ]
  },
  {
   "cell_type": "code",
   "execution_count": 54,
   "metadata": {
    "ExecuteTime": {
     "end_time": "2020-04-28T17:51:09.304089Z",
     "start_time": "2020-04-28T17:51:09.279538Z"
    }
   },
   "outputs": [
    {
     "data": {
      "text/plain": [
       "4"
      ]
     },
     "execution_count": 54,
     "metadata": {},
     "output_type": "execute_result"
    }
   ],
   "source": [
    "su=[1,2,3,4,5,6,7,8]\n",
    "n=10\n",
    "\n",
    "def tar(lst,n):\n",
    "    sks=0\n",
    "    for i in lst:\n",
    "        sks=sks+i\n",
    "        if sks>=n:\n",
    "            break\n",
    "    return i\n",
    "tar(su,n)"
   ]
  },
  {
   "cell_type": "markdown",
   "metadata": {},
   "source": [
    "# write a function to calculate the LCM of a 2 number\n",
    "- lcm of 54 and 42 is 216"
   ]
  },
  {
   "cell_type": "code",
   "execution_count": 279,
   "metadata": {
    "ExecuteTime": {
     "end_time": "2020-04-28T22:15:38.819035Z",
     "start_time": "2020-04-28T22:15:38.806528Z"
    }
   },
   "outputs": [
    {
     "data": {
      "text/plain": [
       "378"
      ]
     },
     "execution_count": 279,
     "metadata": {},
     "output_type": "execute_result"
    }
   ],
   "source": [
    "def onn(n1,n2):\n",
    "    f1=[]\n",
    "    s1=[]\n",
    "    t1=[]\n",
    "    for i in range(1,n1*10):\n",
    "        f1.append(n1*i)\n",
    "    for i in range(1,n2*10):\n",
    "        s1.append(n2*i)\n",
    "    for i in f1:\n",
    "        if i in s1:\n",
    "            t1.append(i)\n",
    "    lcm=min(t1)\n",
    "    return lcm\n",
    "onn(42,54)"
   ]
  },
  {
   "cell_type": "markdown",
   "metadata": {},
   "source": [
    "# write a function that gives the prime factor only "
   ]
  },
  {
   "cell_type": "code",
   "execution_count": 367,
   "metadata": {
    "ExecuteTime": {
     "end_time": "2020-04-28T23:28:37.053826Z",
     "start_time": "2020-04-28T23:28:37.021168Z"
    }
   },
   "outputs": [
    {
     "data": {
      "text/plain": [
       "[1, 3, 37]"
      ]
     },
     "execution_count": 367,
     "metadata": {},
     "output_type": "execute_result"
    }
   ],
   "source": [
    "np=111\n",
    "def prime(n):\n",
    "    lp=[]\n",
    "    sp=[]\n",
    "    if n%2==0:\n",
    "        return 2\n",
    "    if n%2!=0:\n",
    "        for i in range(1,n+1):\n",
    "            if n%i==0:\n",
    "                lp.append(i)\n",
    "        for i in lp:\n",
    "            \n",
    "            if i>1:\n",
    "                for j in range(2,i):\n",
    "                    if i%j==0:\n",
    "                        sp.append(i)\n",
    "        \n",
    "        sp=set(sp)\n",
    "        \n",
    "        lp=set(lp)\n",
    "       # return sp\n",
    "        s=lp.difference(sp)\n",
    "        return list(s)\n",
    "        \n",
    "        \n",
    "                \n",
    "prime(np)"
   ]
  },
  {
   "cell_type": "code",
   "execution_count": null,
   "metadata": {},
   "outputs": [],
   "source": [
    "for num in range(lower,upper + 1):  \n",
    "   if num > 1:  \n",
    "       for i in range(2,num):  \n",
    "           if (num % i) == 0:  \n",
    "               break  \n",
    "       else:  \n",
    "           print(num)"
   ]
  },
  {
   "cell_type": "markdown",
   "metadata": {},
   "source": [
    "# write a function that print the first non repeating letter"
   ]
  },
  {
   "cell_type": "markdown",
   "metadata": {},
   "source": [
    "# return sum of array excluding the lowest and highest element\n"
   ]
  },
  {
   "cell_type": "code",
   "execution_count": 74,
   "metadata": {
    "ExecuteTime": {
     "end_time": "2020-04-28T18:50:01.693679Z",
     "start_time": "2020-04-28T18:50:01.682854Z"
    }
   },
   "outputs": [
    {
     "data": {
      "text/plain": [
       "20"
      ]
     },
     "execution_count": 74,
     "metadata": {},
     "output_type": "execute_result"
    }
   ],
   "source": [
    "ar=[1,2,3,4,5,6,7]\n",
    "def sh(arr):\n",
    "    p=max(arr)\n",
    "    arr.remove(p)\n",
    "    l=min(arr)\n",
    "    arr.remove(l)\n",
    "    su=sum(arr)\n",
    "    return su\n",
    "    #print(p)\n",
    "sh(ar)"
   ]
  },
  {
   "cell_type": "markdown",
   "metadata": {},
   "source": [
    "# define a function take a string value replace any number below 5 with 0 and any number above 5 with 1\n"
   ]
  },
  {
   "cell_type": "code",
   "execution_count": 83,
   "metadata": {
    "ExecuteTime": {
     "end_time": "2020-04-28T19:37:43.914552Z",
     "start_time": "2020-04-28T19:37:43.882967Z"
    }
   },
   "outputs": [
    {
     "data": {
      "text/plain": [
       "24"
      ]
     },
     "execution_count": 83,
     "metadata": {},
     "output_type": "execute_result"
    }
   ],
   "source": [
    "n=\"1234567\"\n",
    "#n=int(n)\n",
    "#print(type(n))\n",
    "def nn(st):\n",
    "    #for i in range(1,len(st)+1):\n",
    "        #if int(i)<0:\n",
    "            #st.replace(i,0)\n",
    "        #if int(i)>0:\n",
    "            #st.replace(i,1)\n",
    "            return i\n",
    "nn(n)"
   ]
  },
  {
   "cell_type": "markdown",
   "metadata": {},
   "source": [
    "# write a function to get a day of week eg: (30,8,2010)=1\n",
    "\n"
   ]
  },
  {
   "cell_type": "markdown",
   "metadata": {},
   "source": [
    "# write a function to get all the permutation of the string \n"
   ]
  },
  {
   "cell_type": "markdown",
   "metadata": {},
   "source": [
    "# write a function to get all the possible subset of a string in a list"
   ]
  },
  {
   "cell_type": "code",
   "execution_count": 161,
   "metadata": {
    "ExecuteTime": {
     "end_time": "2020-04-28T20:32:43.759023Z",
     "start_time": "2020-04-28T20:32:43.730220Z"
    }
   },
   "outputs": [
    {
     "ename": "TypeError",
     "evalue": "'<' not supported between instances of 'str' and 'int'",
     "output_type": "error",
     "traceback": [
      "\u001b[0;31m---------------------------------------------------------------------------\u001b[0m",
      "\u001b[0;31mTypeError\u001b[0m                                 Traceback (most recent call last)",
      "\u001b[0;32m<ipython-input-161-e91d56740b2a>\u001b[0m in \u001b[0;36m<module>\u001b[0;34m\u001b[0m\n\u001b[1;32m     10\u001b[0m \u001b[0;34m\u001b[0m\u001b[0m\n\u001b[1;32m     11\u001b[0m     \u001b[0;32mreturn\u001b[0m \u001b[0ml\u001b[0m\u001b[0;34m\u001b[0m\u001b[0;34m\u001b[0m\u001b[0m\n\u001b[0;32m---> 12\u001b[0;31m \u001b[0msub\u001b[0m\u001b[0;34m(\u001b[0m\u001b[0ms1\u001b[0m\u001b[0;34m)\u001b[0m\u001b[0;34m\u001b[0m\u001b[0;34m\u001b[0m\u001b[0m\n\u001b[0m",
      "\u001b[0;32m<ipython-input-161-e91d56740b2a>\u001b[0m in \u001b[0;36msub\u001b[0;34m(s)\u001b[0m\n\u001b[1;32m      4\u001b[0m     \u001b[0mls\u001b[0m\u001b[0;34m=\u001b[0m\u001b[0mlist\u001b[0m\u001b[0;34m(\u001b[0m\u001b[0ms\u001b[0m\u001b[0;34m)\u001b[0m\u001b[0;34m\u001b[0m\u001b[0;34m\u001b[0m\u001b[0m\n\u001b[1;32m      5\u001b[0m     \u001b[0;32mfor\u001b[0m \u001b[0mi\u001b[0m \u001b[0;32min\u001b[0m \u001b[0mls\u001b[0m\u001b[0;34m:\u001b[0m\u001b[0;34m\u001b[0m\u001b[0;34m\u001b[0m\u001b[0m\n\u001b[0;32m----> 6\u001b[0;31m         \u001b[0;32mif\u001b[0m \u001b[0mi\u001b[0m\u001b[0;34m<\u001b[0m\u001b[0mlen\u001b[0m\u001b[0;34m(\u001b[0m\u001b[0mls\u001b[0m\u001b[0;34m)\u001b[0m\u001b[0;34m:\u001b[0m\u001b[0;34m\u001b[0m\u001b[0;34m\u001b[0m\u001b[0m\n\u001b[0m\u001b[1;32m      7\u001b[0m             \u001b[0;32mfor\u001b[0m \u001b[0mj\u001b[0m \u001b[0;32min\u001b[0m \u001b[0mls\u001b[0m\u001b[0;34m:\u001b[0m\u001b[0;34m\u001b[0m\u001b[0;34m\u001b[0m\u001b[0m\n\u001b[1;32m      8\u001b[0m                 \u001b[0;32mif\u001b[0m \u001b[0mj\u001b[0m\u001b[0;34m<\u001b[0m\u001b[0mlen\u001b[0m\u001b[0;34m(\u001b[0m\u001b[0mls\u001b[0m\u001b[0;34m)\u001b[0m\u001b[0;34m:\u001b[0m\u001b[0;34m\u001b[0m\u001b[0;34m\u001b[0m\u001b[0m\n",
      "\u001b[0;31mTypeError\u001b[0m: '<' not supported between instances of 'str' and 'int'"
     ]
    }
   ],
   "source": [
    "s1=['FUNNY']\n",
    "l=[]\n",
    "def sub(s):\n",
    "    ls=list(s)\n",
    "    for i in ls:\n",
    "        if i<len(ls):\n",
    "            for j in ls:\n",
    "                if j<len(ls):\n",
    "                    l.append[ij]\n",
    "                    \n",
    "    return l\n",
    "sub(s1)"
   ]
  },
  {
   "cell_type": "markdown",
   "metadata": {},
   "source": [
    "# write a function to get the length of the last word only from a string seperated by space\n",
    "\n",
    "ex:('string  of  words') == 5\n",
    "ex:('adasd     ')=5"
   ]
  },
  {
   "cell_type": "code",
   "execution_count": 99,
   "metadata": {
    "ExecuteTime": {
     "end_time": "2020-04-28T19:45:42.644077Z",
     "start_time": "2020-04-28T19:45:42.626937Z"
    }
   },
   "outputs": [
    {
     "name": "stdout",
     "output_type": "stream",
     "text": [
      "5\n"
     ]
    }
   ],
   "source": [
    "s1='adasd     '\n",
    "s='string  of  words'\n",
    "#\n",
    "def le(s):\n",
    "    s=str(s)\n",
    "    s=s.split()\n",
    "    #p=len(s[-1])\n",
    "    print(len(s[-1]))\n",
    "\n",
    "le(s1)"
   ]
  },
  {
   "cell_type": "markdown",
   "metadata": {},
   "source": [
    "# write a program for a tower of hanoi puzzle\n",
    "http://www.towerofhanoi.org/"
   ]
  },
  {
   "cell_type": "markdown",
   "metadata": {},
   "source": [
    "# write a function select_word(): to get a random word from a list of words\n",
    " - use module random and call random.randint() to chose random\n"
   ]
  },
  {
   "cell_type": "code",
   "execution_count": 131,
   "metadata": {
    "ExecuteTime": {
     "end_time": "2020-04-28T20:04:42.269990Z",
     "start_time": "2020-04-28T20:04:42.256204Z"
    }
   },
   "outputs": [
    {
     "data": {
      "text/plain": [
       "'sau'"
      ]
     },
     "execution_count": 131,
     "metadata": {},
     "output_type": "execute_result"
    }
   ],
   "source": [
    "import random\n",
    "lis=[\"I\", \"am\", \"shah\",\"kar\",\"sau\"]\n",
    "def li(l):\n",
    "    ran = random.randint(1,4)\n",
    "    for i in l:\n",
    "        return l[ran]\n",
    "        #print(ran)\n",
    "li(lis)"
   ]
  },
  {
   "cell_type": "markdown",
   "metadata": {},
   "source": [
    "# write a function blank(word): where it should print _ after first letter to the range of length of word\n",
    "- i.e apple= a _ _ _ _"
   ]
  },
  {
   "cell_type": "code",
   "execution_count": 147,
   "metadata": {
    "ExecuteTime": {
     "end_time": "2020-04-28T20:12:57.797855Z",
     "start_time": "2020-04-28T20:12:57.774872Z"
    }
   },
   "outputs": [
    {
     "name": "stdout",
     "output_type": "stream",
     "text": [
      "5\n",
      "a _ _ _ _\n"
     ]
    }
   ],
   "source": [
    "def blank(word):\n",
    "    for i in word:\n",
    "        s=''\n",
    "        s=s+word[0]\n",
    "        f=len(word)\n",
    "    print(f)\n",
    "    for j in range(f-1):\n",
    "        s=s+' '+'_'\n",
    "    print(s)\n",
    "blank('apple')"
   ]
  },
  {
   "cell_type": "markdown",
   "metadata": {},
   "source": [
    "# compete the code below\n",
    "- write a code in your code section"
   ]
  },
  {
   "cell_type": "code",
   "execution_count": 1,
   "metadata": {},
   "outputs": [
    {
     "ename": "IndentationError",
     "evalue": "unindent does not match any outer indentation level (<tokenize>, line 16)",
     "output_type": "error",
     "traceback": [
      "\u001b[0;36m  File \u001b[0;32m\"<tokenize>\"\u001b[0;36m, line \u001b[0;32m16\u001b[0m\n\u001b[0;31m    print(\"you got so far\",clue)\u001b[0m\n\u001b[0m    ^\u001b[0m\n\u001b[0;31mIndentationError\u001b[0m\u001b[0;31m:\u001b[0m unindent does not match any outer indentation level\n"
     ]
    }
   ],
   "source": [
    "def hang_man(word,clue,letter,try_left):\n",
    "    # create a variable try and set it to True\n",
    "    # your code\n",
    "    #--------------------------------\n",
    "    # loop through the length of the word\n",
    "    # your code\n",
    "        # check condition if word is equal to letter\n",
    "        #the set clue= clue from o to current index of loop + letter + clue from current index +1 to last\n",
    "        # your code\n",
    "        #set try to false\n",
    "        # your code\n",
    "    #---------------------------------------------------\n",
    "    # check condition if try is true then decrease the try_left by 1\n",
    "    # your code\n",
    "        print(\"wrong try\", try_left)\n",
    "    print(\"you got so far\",clue)\n",
    "\n",
    "    # check if word is equal to clue:\n",
    "    #your code\n",
    "        print(\"you win\")\n",
    "    # check is try_left is 0:\n",
    "    # ypur code\n",
    "        print(\"you lost\")\n",
    "    else:\n",
    "        # ask user to input next letter \n",
    "        #next_letter=\"your code\"\n",
    "        # call the recursive function of itself\n",
    "\n"
   ]
  },
  {
   "cell_type": "code",
   "execution_count": null,
   "metadata": {},
   "outputs": [],
   "source": [
    "word=# call a function select word\n",
    "clue=# call a function balnk\n",
    "# call a function hang_man()\n",
    "# where set letter to word[0] and try_left to=5"
   ]
  }
 ],
 "metadata": {
  "kernelspec": {
   "display_name": "Python 3",
   "language": "python",
   "name": "python3"
  },
  "language_info": {
   "codemirror_mode": {
    "name": "ipython",
    "version": 3
   },
   "file_extension": ".py",
   "mimetype": "text/x-python",
   "name": "python",
   "nbconvert_exporter": "python",
   "pygments_lexer": "ipython3",
   "version": "3.7.4"
  },
  "varInspector": {
   "cols": {
    "lenName": 16,
    "lenType": 16,
    "lenVar": 40
   },
   "kernels_config": {
    "python": {
     "delete_cmd_postfix": "",
     "delete_cmd_prefix": "del ",
     "library": "var_list.py",
     "varRefreshCmd": "print(var_dic_list())"
    },
    "r": {
     "delete_cmd_postfix": ") ",
     "delete_cmd_prefix": "rm(",
     "library": "var_list.r",
     "varRefreshCmd": "cat(var_dic_list()) "
    }
   },
   "types_to_exclude": [
    "module",
    "function",
    "builtin_function_or_method",
    "instance",
    "_Feature"
   ],
   "window_display": false
  }
 },
 "nbformat": 4,
 "nbformat_minor": 4
}
