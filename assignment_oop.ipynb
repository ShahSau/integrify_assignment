{
 "cells": [
  {
   "cell_type": "markdown",
   "metadata": {},
   "source": [
    "1.Write a simple MyMath class with, instance methods for addition, subtraction, multiplication,\n",
    "division and power functions.(use the dunder method and also create your own method both)\n",
    "\n"
   ]
  },
  {
   "cell_type": "code",
   "execution_count": 1,
   "metadata": {
    "ExecuteTime": {
     "end_time": "2020-05-10T11:27:41.500955Z",
     "start_time": "2020-05-10T11:27:41.494272Z"
    }
   },
   "outputs": [],
   "source": [
    "class MyMath():\n",
    "    def __init__(self,x):\n",
    "        self.x=x\n",
    "    def __add__(self,other):\n",
    "        return self.x+other\n",
    "    def __sub__(self, other):\n",
    "        return self.x-other\n",
    "    def mul(self, other):\n",
    "        return self.x*other\n",
    "    def __truediv__(self, other):\n",
    "        return self.x/other\n",
    "    def __pow__(self, other):\n",
    "        return self.x**other\n",
    "\n",
    "    "
   ]
  },
  {
   "cell_type": "code",
   "execution_count": 2,
   "metadata": {
    "ExecuteTime": {
     "end_time": "2020-05-10T11:27:41.512179Z",
     "start_time": "2020-05-10T11:27:41.503636Z"
    }
   },
   "outputs": [
    {
     "name": "stdout",
     "output_type": "stream",
     "text": [
      "14\n",
      "\n",
      "8\n",
      "\n",
      "16\n",
      "\n",
      "4.0\n",
      "\n",
      "64\n"
     ]
    }
   ],
   "source": [
    "p=MyMath(8)\n",
    "print(p+6)\n",
    "print()\n",
    "print(p-0)\n",
    "print()\n",
    "print(p.mul(2))\n",
    "print()\n",
    "print(p/2)\n",
    "print()\n",
    "print(p**2)\n"
   ]
  },
  {
   "cell_type": "code",
   "execution_count": null,
   "metadata": {},
   "outputs": [],
   "source": []
  },
  {
   "cell_type": "markdown",
   "metadata": {},
   "source": [
    "2.Question:\n",
    "Define a class named Circle which can be constructed by a radius. \n",
    "\n",
    "The Circle class has a method which can compute the area. \n",
    "\n"
   ]
  },
  {
   "cell_type": "code",
   "execution_count": 3,
   "metadata": {
    "ExecuteTime": {
     "end_time": "2020-05-10T11:27:41.522814Z",
     "start_time": "2020-05-10T11:27:41.515974Z"
    }
   },
   "outputs": [],
   "source": [
    "class Circle():\n",
    "    def __init__(self,radius):\n",
    "        self.radius=radius\n",
    "    def area(self):\n",
    "        return (3.1416*self.radius*self.radius)\n",
    "\n",
    "m=Circle(3)"
   ]
  },
  {
   "cell_type": "code",
   "execution_count": 4,
   "metadata": {
    "ExecuteTime": {
     "end_time": "2020-05-10T11:27:41.544295Z",
     "start_time": "2020-05-10T11:27:41.526134Z"
    }
   },
   "outputs": [
    {
     "data": {
      "text/plain": [
       "28.2744"
      ]
     },
     "execution_count": 4,
     "metadata": {},
     "output_type": "execute_result"
    }
   ],
   "source": [
    "m.area()"
   ]
  },
  {
   "cell_type": "code",
   "execution_count": null,
   "metadata": {},
   "outputs": [],
   "source": []
  },
  {
   "cell_type": "markdown",
   "metadata": {},
   "source": [
    "\n",
    "3.Define a class named Rectangle which can be constructed by a length and width. \n",
    "\n",
    "The Rectangle class has a method which can compute the area. \n",
    "\n"
   ]
  },
  {
   "cell_type": "code",
   "execution_count": 5,
   "metadata": {
    "ExecuteTime": {
     "end_time": "2020-05-10T11:27:41.553279Z",
     "start_time": "2020-05-10T11:27:41.547282Z"
    }
   },
   "outputs": [],
   "source": [
    "class Rect():\n",
    "    def __init__(self,length,width):\n",
    "        self.length=length\n",
    "        self.width=width\n",
    "    def area(self):\n",
    "        return self.length*self.width\n",
    "\n",
    "r=Rect(3,5)"
   ]
  },
  {
   "cell_type": "code",
   "execution_count": 6,
   "metadata": {
    "ExecuteTime": {
     "end_time": "2020-05-10T11:27:41.562380Z",
     "start_time": "2020-05-10T11:27:41.555741Z"
    }
   },
   "outputs": [
    {
     "data": {
      "text/plain": [
       "15"
      ]
     },
     "execution_count": 6,
     "metadata": {},
     "output_type": "execute_result"
    }
   ],
   "source": [
    "r.area()"
   ]
  },
  {
   "cell_type": "code",
   "execution_count": null,
   "metadata": {},
   "outputs": [],
   "source": []
  },
  {
   "cell_type": "markdown",
   "metadata": {},
   "source": [
    "4.Question:\n",
    "Define a class which has at least two methods:\n",
    "\n",
    "- getString: to get a string from console input\n",
    "- printString: to print the string in upper case.\n",
    "\n",
    "\n",
    "Hints:\n",
    "Use __init__ method to construct some parameters\n",
    "\n",
    "\n"
   ]
  },
  {
   "cell_type": "code",
   "execution_count": 7,
   "metadata": {
    "ExecuteTime": {
     "end_time": "2020-05-10T11:27:41.574221Z",
     "start_time": "2020-05-10T11:27:41.568882Z"
    }
   },
   "outputs": [],
   "source": [
    "class Which():\n",
    "    def __init__(self):\n",
    "        #self.strr=strr\n",
    "        pass\n",
    "    def getString(self):\n",
    "        self.strr=input()\n",
    "        #return \n",
    "    def printString(self):\n",
    "        return self.strr\n",
    "w=Which()"
   ]
  },
  {
   "cell_type": "code",
   "execution_count": 8,
   "metadata": {
    "ExecuteTime": {
     "end_time": "2020-05-10T11:28:00.344354Z",
     "start_time": "2020-05-10T11:27:41.579837Z"
    }
   },
   "outputs": [
    {
     "name": "stdout",
     "output_type": "stream",
     "text": [
      "r\n"
     ]
    }
   ],
   "source": [
    "w.getString()"
   ]
  },
  {
   "cell_type": "code",
   "execution_count": 9,
   "metadata": {
    "ExecuteTime": {
     "end_time": "2020-05-10T11:28:00.351642Z",
     "start_time": "2020-05-10T11:28:00.347299Z"
    }
   },
   "outputs": [
    {
     "data": {
      "text/plain": [
       "'r'"
      ]
     },
     "execution_count": 9,
     "metadata": {},
     "output_type": "execute_result"
    }
   ],
   "source": [
    "w.printString()"
   ]
  },
  {
   "cell_type": "code",
   "execution_count": null,
   "metadata": {},
   "outputs": [],
   "source": []
  },
  {
   "cell_type": "markdown",
   "metadata": {},
   "source": [
    "\n",
    "5.Question:\n",
    "Define a class named finland and its subclass finnish. \n",
    "\n"
   ]
  },
  {
   "cell_type": "code",
   "execution_count": 10,
   "metadata": {
    "ExecuteTime": {
     "end_time": "2020-05-10T11:28:00.358032Z",
     "start_time": "2020-05-10T11:28:00.353646Z"
    }
   },
   "outputs": [],
   "source": [
    "#creating a class named Finland\n",
    "class Finland():\n",
    "    def __init__(self):\n",
    "        pass"
   ]
  },
  {
   "cell_type": "code",
   "execution_count": 11,
   "metadata": {
    "ExecuteTime": {
     "end_time": "2020-05-10T11:28:00.363759Z",
     "start_time": "2020-05-10T11:28:00.361066Z"
    }
   },
   "outputs": [],
   "source": [
    "#creating a subclass finnish\n",
    "class Finnish(Finland):\n",
    "    pass"
   ]
  },
  {
   "cell_type": "code",
   "execution_count": null,
   "metadata": {},
   "outputs": [],
   "source": []
  },
  {
   "cell_type": "markdown",
   "metadata": {},
   "source": [
    "\n"
   ]
  },
  {
   "cell_type": "markdown",
   "metadata": {},
   "source": [
    "\n",
    "6.Define a class named Shape and its subclass Square. \n",
    "- Shape has an area function wich return 0\n",
    "- Square subclass has an init function which take a length as argument.and has a area function.\n",
    "- print the area from Square function\n"
   ]
  },
  {
   "cell_type": "code",
   "execution_count": 14,
   "metadata": {
    "ExecuteTime": {
     "end_time": "2020-05-10T11:28:29.313246Z",
     "start_time": "2020-05-10T11:28:29.294432Z"
    }
   },
   "outputs": [],
   "source": [
    "class Shape():\n",
    "    def __init__(self):\n",
    "        pass\n",
    "    def area(self):\n",
    "        return 0\n",
    "\n",
    "#s=Shape()\n",
    "class Square(Shape):\n",
    "    def __init__(self,num):\n",
    "        super().__init__()\n",
    "        self.num=num\n",
    "    def init(self):\n",
    "        return self.num\n",
    "    def area(self):\n",
    "        return self.num*self.num\n",
    "    \n",
    "    \n",
    "s1=Square(2)        "
   ]
  },
  {
   "cell_type": "code",
   "execution_count": 15,
   "metadata": {
    "ExecuteTime": {
     "end_time": "2020-05-10T11:28:30.110667Z",
     "start_time": "2020-05-10T11:28:30.100907Z"
    }
   },
   "outputs": [
    {
     "name": "stdout",
     "output_type": "stream",
     "text": [
      "4\n",
      "\n",
      "2\n",
      "\n",
      "4\n"
     ]
    }
   ],
   "source": [
    "print(s1.area())\n",
    "print()\n",
    "print(s1.init())\n",
    "print()\n",
    "print(s1.area())"
   ]
  },
  {
   "cell_type": "code",
   "execution_count": null,
   "metadata": {},
   "outputs": [],
   "source": []
  },
  {
   "cell_type": "markdown",
   "metadata": {},
   "source": [
    "7.Question:\n",
    "Define a class named Finland which has a static method called printNationality.\n",
    "\n",
    "Hints:\n",
    "\n",
    "Use @staticmethod decorator to define class static method.\n",
    "\n",
    "\n"
   ]
  },
  {
   "cell_type": "code",
   "execution_count": null,
   "metadata": {
    "ExecuteTime": {
     "end_time": "2020-05-10T11:28:00.536285Z",
     "start_time": "2020-05-10T11:27:41.536Z"
    }
   },
   "outputs": [],
   "source": [
    "class Finland():\n",
    "    def __init__(self):\n",
    "        pass\n",
    "    @staticmethod\n",
    "    def something(something2):\n",
    "        pass\n",
    "# static method never takes self as an argument."
   ]
  },
  {
   "cell_type": "code",
   "execution_count": null,
   "metadata": {},
   "outputs": [],
   "source": []
  },
  {
   "cell_type": "markdown",
   "metadata": {},
   "source": [
    "8.create a parent class pet\n",
    "- create a class attribute species\n",
    "- initialize name of pet and  age\n",
    "-  create a method to print the description \n",
    "- create another instance method to print how the animal comminicate eg: cat \"meow\"\n",
    "\n",
    "create a child class inhertis from a parent class\n",
    "- crete a method to print how your pet move : eg: bird:fly\n"
   ]
  },
  {
   "cell_type": "code",
   "execution_count": 17,
   "metadata": {
    "ExecuteTime": {
     "end_time": "2020-05-10T11:28:52.724726Z",
     "start_time": "2020-05-10T11:28:52.699781Z"
    }
   },
   "outputs": [
    {
     "name": "stdout",
     "output_type": "stream",
     "text": [
      "meow\n"
     ]
    }
   ],
   "source": [
    "class Pet():\n",
    "    def __init__(self,name,age):\n",
    "        self.name=name\n",
    "        self.age=age\n",
    "    def description(self):\n",
    "        print(\"our pet is a \"+ self.name+ \". It's age is \"+str(self.age))\n",
    "    def comminicate(self):\n",
    "        if self.name==\"cat\":\n",
    "            print(\"meow\")\n",
    "        elif self.name==\"dog\":\n",
    "            print(\"baw\")\n",
    "        elif self.name==\"bird\":\n",
    "            print(\"flllly\")\n",
    "        \n",
    "        \n",
    "p=Pet(\"cat\",26)\n",
    "p.comminicate()"
   ]
  },
  {
   "cell_type": "code",
   "execution_count": 18,
   "metadata": {
    "ExecuteTime": {
     "end_time": "2020-05-10T11:28:56.807877Z",
     "start_time": "2020-05-10T11:28:56.773788Z"
    }
   },
   "outputs": [
    {
     "name": "stdout",
     "output_type": "stream",
     "text": [
      "fly\n"
     ]
    }
   ],
   "source": [
    "class to(Pet):\n",
    "    def __init__(self,name,age):\n",
    "        super().__init__(name,age)\n",
    "    def move(self):\n",
    "        if self.name==\"cat\":\n",
    "            print(\"walk\")\n",
    "        elif self.name==\"dog\":\n",
    "            print(\"walk\")\n",
    "        elif self.name==\"bird\":\n",
    "            print(\"fly\")\n",
    "t=to(\"bird\",4)\n",
    "t.move()"
   ]
  },
  {
   "cell_type": "code",
   "execution_count": null,
   "metadata": {},
   "outputs": [],
   "source": []
  },
  {
   "cell_type": "markdown",
   "metadata": {},
   "source": [
    "9.create a class Contact\n",
    "    - create a class attribute contacts which is an empty list\n",
    "    - define a init method which take name,email,street and **kwargs\n",
    "    -append name and email to contacts\n",
    "create a Address class\n",
    "    - create a init with street,city,code and kwargs\n",
    "    -call the super method with kwargs\n",
    "create a class Friend which inherits Address and Contact\n",
    "    - initialize a phone:number and kwargs\n",
    "    - call super method\n",
    " \n",
    " create a dict containing all the detail  eg:\n",
    " kwargs = {'city':'hel','name':'bhuwan',\"email\":\"bhuwan.kark@gmail\"}\n",
    " and create a object to call the class Friend and print all the detail\n",
    " : hint you can use __dict__ method to show all the detail"
   ]
  },
  {
   "cell_type": "code",
   "execution_count": 5,
   "metadata": {
    "ExecuteTime": {
     "end_time": "2020-05-11T11:15:31.886439Z",
     "start_time": "2020-05-11T11:15:31.862419Z"
    }
   },
   "outputs": [],
   "source": [
    "class Contact():\n",
    "    contacts=[]\n",
    "    def __init__(self,name,email,street,**kwargs):\n",
    "        \n",
    "        self.name=name\n",
    "        self.email=email\n",
    "        self.street=street\n",
    "        \n",
    "        self.contacts.append(self)\n",
    "        super().__init__(**kwargs)\n",
    "class Address():\n",
    "    def __init__(self,street,city,code,**kwargs):\n",
    "        self.street=street\n",
    "        self.city=city\n",
    "        self.code=code\n",
    "        super().__init__(**kwargs)\n",
    "class Friend(Contact,Address):\n",
    "    def __init__(self,number,**kwargs):\n",
    "        self.number=number\n",
    "        super().__init__(**kwargs)\n",
    "        print(kwargs)\n",
    "        "
   ]
  },
  {
   "cell_type": "code",
   "execution_count": 6,
   "metadata": {
    "ExecuteTime": {
     "end_time": "2020-05-11T11:15:32.903755Z",
     "start_time": "2020-05-11T11:15:32.863032Z"
    }
   },
   "outputs": [
    {
     "ename": "TypeError",
     "evalue": "__init__() missing 1 required positional argument: 'street'",
     "output_type": "error",
     "traceback": [
      "\u001b[0;31m---------------------------------------------------------------------------\u001b[0m",
      "\u001b[0;31mTypeError\u001b[0m                                 Traceback (most recent call last)",
      "\u001b[0;32m<ipython-input-6-9042048b150b>\u001b[0m in \u001b[0;36m<module>\u001b[0;34m\u001b[0m\n\u001b[1;32m      1\u001b[0m \u001b[0mkwargs\u001b[0m \u001b[0;34m=\u001b[0m \u001b[0;34m{\u001b[0m\u001b[0;34m'city'\u001b[0m\u001b[0;34m:\u001b[0m\u001b[0;34m'hel'\u001b[0m\u001b[0;34m,\u001b[0m\u001b[0;34m'name'\u001b[0m\u001b[0;34m:\u001b[0m\u001b[0;34m'bhuwan'\u001b[0m\u001b[0;34m,\u001b[0m\u001b[0;34m\"email\"\u001b[0m\u001b[0;34m:\u001b[0m\u001b[0;34m\"bhuwan.kark@gmail\"\u001b[0m\u001b[0;34m}\u001b[0m\u001b[0;34m\u001b[0m\u001b[0;34m\u001b[0m\u001b[0m\n\u001b[0;32m----> 2\u001b[0;31m \u001b[0mf\u001b[0m \u001b[0;34m=\u001b[0m \u001b[0mFriend\u001b[0m\u001b[0;34m(\u001b[0m\u001b[0;34m'01234568'\u001b[0m\u001b[0;34m,\u001b[0m \u001b[0;34m**\u001b[0m\u001b[0mkwargs\u001b[0m\u001b[0;34m)\u001b[0m\u001b[0;34m\u001b[0m\u001b[0;34m\u001b[0m\u001b[0m\n\u001b[0m\u001b[1;32m      3\u001b[0m \u001b[0mprint\u001b[0m\u001b[0;34m(\u001b[0m\u001b[0mf\u001b[0m\u001b[0;34m)\u001b[0m\u001b[0;34m\u001b[0m\u001b[0;34m\u001b[0m\u001b[0m\n",
      "\u001b[0;32m<ipython-input-5-4b0b0a0ce8eb>\u001b[0m in \u001b[0;36m__init__\u001b[0;34m(self, number, **kwargs)\u001b[0m\n\u001b[1;32m     18\u001b[0m     \u001b[0;32mdef\u001b[0m \u001b[0m__init__\u001b[0m\u001b[0;34m(\u001b[0m\u001b[0mself\u001b[0m\u001b[0;34m,\u001b[0m\u001b[0mnumber\u001b[0m\u001b[0;34m,\u001b[0m\u001b[0;34m**\u001b[0m\u001b[0mkwargs\u001b[0m\u001b[0;34m)\u001b[0m\u001b[0;34m:\u001b[0m\u001b[0;34m\u001b[0m\u001b[0;34m\u001b[0m\u001b[0m\n\u001b[1;32m     19\u001b[0m         \u001b[0mself\u001b[0m\u001b[0;34m.\u001b[0m\u001b[0mnumber\u001b[0m\u001b[0;34m=\u001b[0m\u001b[0mnumber\u001b[0m\u001b[0;34m\u001b[0m\u001b[0;34m\u001b[0m\u001b[0m\n\u001b[0;32m---> 20\u001b[0;31m         \u001b[0msuper\u001b[0m\u001b[0;34m(\u001b[0m\u001b[0;34m)\u001b[0m\u001b[0;34m.\u001b[0m\u001b[0m__init__\u001b[0m\u001b[0;34m(\u001b[0m\u001b[0;34m**\u001b[0m\u001b[0mkwargs\u001b[0m\u001b[0;34m)\u001b[0m\u001b[0;34m\u001b[0m\u001b[0;34m\u001b[0m\u001b[0m\n\u001b[0m\u001b[1;32m     21\u001b[0m         \u001b[0mprint\u001b[0m\u001b[0;34m(\u001b[0m\u001b[0mkwargs\u001b[0m\u001b[0;34m)\u001b[0m\u001b[0;34m\u001b[0m\u001b[0;34m\u001b[0m\u001b[0m\n\u001b[1;32m     22\u001b[0m \u001b[0;34m\u001b[0m\u001b[0m\n",
      "\u001b[0;31mTypeError\u001b[0m: __init__() missing 1 required positional argument: 'street'"
     ]
    }
   ],
   "source": [
    "kwargs = {'city':'hel','name':'bhuwan',\"email\":\"bhuwan.kark@gmail\"}\n",
    "f = Friend('01234568', **kwargs)\n",
    "print(f)"
   ]
  },
  {
   "cell_type": "code",
   "execution_count": null,
   "metadata": {},
   "outputs": [],
   "source": []
  },
  {
   "cell_type": "markdown",
   "metadata": {},
   "source": [
    "10. Create a class Parent\n",
    " - Parent class has an constructor which take last name and eye color\n",
    " \n",
    " create a Child subclass which inheret from Parent class\n",
    " - define a constructor which take constructor from Parent class and number_of_toys\n",
    " - define a method that print the description \n",
    " "
   ]
  },
  {
   "cell_type": "code",
   "execution_count": 19,
   "metadata": {
    "ExecuteTime": {
     "end_time": "2020-05-10T11:29:06.364560Z",
     "start_time": "2020-05-10T11:29:06.356997Z"
    }
   },
   "outputs": [],
   "source": [
    "class Parent():\n",
    "    def __init__(self,lastName,colorEye):\n",
    "        self.lastName=lastName\n",
    "        self.colorEye=colorEye\n",
    "p=Parent(\"name\",\"blue\")\n",
    "class Child(Parent):\n",
    "    def __init__(self,lastName,colorEye,number_of_toys):\n",
    "        super().__init__(lastName,colorEye)\n",
    "        self.number_of_toys=number_of_toys\n",
    "    def description(self):\n",
    "        print(self.lastName,self.colorEye,self.number_of_toys)"
   ]
  },
  {
   "cell_type": "code",
   "execution_count": 20,
   "metadata": {
    "ExecuteTime": {
     "end_time": "2020-05-10T11:29:07.292002Z",
     "start_time": "2020-05-10T11:29:07.265262Z"
    }
   },
   "outputs": [
    {
     "name": "stdout",
     "output_type": "stream",
     "text": [
      "name blue 4\n"
     ]
    }
   ],
   "source": [
    "\n",
    "s=Child(\"name\",\"blue\",4)\n",
    "s.description()"
   ]
  },
  {
   "cell_type": "code",
   "execution_count": null,
   "metadata": {},
   "outputs": [],
   "source": []
  },
  {
   "cell_type": "markdown",
   "metadata": {},
   "source": [
    "11.Define a class Compare inside a class Compare:\n",
    "\n",
    "- create a init method which hold 2 value\n",
    "- create a repr method to print the value\n",
    "- create a magic method to check if 2 value are equal\n",
    "- create a magic method to check if one value is less than other or not vice versa\n",
    "- create a magic method add to add value the variable that hold a value\n",
    "    - eg : (2,3)+(1,2)=(3,5)\n",
    "- define a method increment which take other as an arg\n",
    "    - increment should increment the value \n",
    "        - Compare(1,2).increament(Point(2,3))->(3,5)\n",
    "- define a method extreme which take a args(*)\n",
    "    - check if the value is not greater than the args\n",
    "        - return false\n",
    "    - else \n",
    "        - true"
   ]
  },
  {
   "cell_type": "code",
   "execution_count": 21,
   "metadata": {
    "ExecuteTime": {
     "end_time": "2020-05-10T11:29:11.263762Z",
     "start_time": "2020-05-10T11:29:11.238237Z"
    }
   },
   "outputs": [],
   "source": [
    "class Compare():\n",
    "    def __init__(self,x,y):\n",
    "        self.x=x\n",
    "        self.y=y\n",
    "    def __repr__(self):\n",
    "        return {'X is ':self.x, 'Y is ':self.y}\n",
    "    def __eq__(self):\n",
    "        return self.x == self.y\n",
    "    def __le__(self):\n",
    "        if self.x>self.y:\n",
    "            return (str(self.x)+\" is greater than \"+str(self.y))\n",
    "        elif self.x<self.y:\n",
    "            return (str(self.y)+\" is greater than \"+str(self.x))\n",
    "        else:\n",
    "            return (\"Both of them are equal\")\n",
    "    def __add__(self, other1,other2):\n",
    "        int1=self.x+other1\n",
    "        int2=self.y+other2\n",
    "        return(str((self.x,self.y))+\"+\"+str((other1,other2))+\"=\"+str((int1,int2)))\n",
    "    def increament(self,other1,other2):\n",
    "        int1=self.x+other1\n",
    "        int2=self.y+other2\n",
    "        return(str((self.x,self.y))+\"+\"+str((other1,other2))+\"=\"+str((int1,int2)))\n",
    "    def extreame(self,*args):\n",
    "        s=self.x+self.y\n",
    "        p=sum(args)\n",
    "        if s<p:\n",
    "            return False\n",
    "        else:\n",
    "            return True\n"
   ]
  },
  {
   "cell_type": "code",
   "execution_count": 22,
   "metadata": {
    "ExecuteTime": {
     "end_time": "2020-05-10T11:29:12.233206Z",
     "start_time": "2020-05-10T11:29:12.214406Z"
    }
   },
   "outputs": [
    {
     "name": "stdout",
     "output_type": "stream",
     "text": [
      "False\n",
      "{'X is ': 2, 'Y is ': 5}\n",
      "5 is greater than 2\n"
     ]
    }
   ],
   "source": [
    "p=Compare(2,5)\n",
    "print(p.__eq__())\n",
    "print(p.__repr__())\n",
    "print(p.__le__())"
   ]
  },
  {
   "cell_type": "code",
   "execution_count": 23,
   "metadata": {
    "ExecuteTime": {
     "end_time": "2020-05-10T11:29:13.209418Z",
     "start_time": "2020-05-10T11:29:13.188996Z"
    }
   },
   "outputs": [
    {
     "name": "stdout",
     "output_type": "stream",
     "text": [
      "(2, 5)+(5, 2)=(7, 7)\n",
      "(2, 5)+(6, 7)=(8, 12)\n"
     ]
    }
   ],
   "source": [
    "print(p.__add__(5,2))\n",
    "print(p.increament(6,7))"
   ]
  },
  {
   "cell_type": "code",
   "execution_count": 24,
   "metadata": {
    "ExecuteTime": {
     "end_time": "2020-05-10T11:29:13.986341Z",
     "start_time": "2020-05-10T11:29:13.981287Z"
    }
   },
   "outputs": [
    {
     "data": {
      "text/plain": [
       "False"
      ]
     },
     "execution_count": 24,
     "metadata": {},
     "output_type": "execute_result"
    }
   ],
   "source": [
    "p.extreame(3,4,7)"
   ]
  },
  {
   "cell_type": "code",
   "execution_count": null,
   "metadata": {},
   "outputs": [],
   "source": []
  },
  {
   "cell_type": "markdown",
   "metadata": {},
   "source": [
    "12.Create a class Rectange\n",
    "- define a init method that has compare,height and width\n",
    "- define a repr method that print compare and print (width+compare.1stval,height+compare.2_val)\n",
    "    - hint: call the class Compare you defined above eg: Compare(self.compare.val+width-----)\n",
    "\n",
    "- define a method dimension\n",
    "    - return height + width\n",
    "- define method area\n",
    "    - return height *width\n",
    "- define method Transpose\n",
    "    - use case: compare : compare.val1-height , compare.val2-width\n",
    "    - setrheight to width and width to height        "
   ]
  },
  {
   "cell_type": "code",
   "execution_count": 25,
   "metadata": {
    "ExecuteTime": {
     "end_time": "2020-05-10T11:29:18.077944Z",
     "start_time": "2020-05-10T11:29:18.068918Z"
    }
   },
   "outputs": [],
   "source": [
    "class Rectangle(Compare):\n",
    "    def __init__(self,x,y,height,width):\n",
    "        super().__init__(x,y)\n",
    "        #self.compare=compare\n",
    "        self.height=height\n",
    "        self.width=width\n",
    "    def __repr__(self):\n",
    "        return str(Compare)\n",
    "        return self.width+self.x,self.height+self.y\n",
    "    def dimension(self):\n",
    "        return self.width+self.height\n",
    "    def area(self):\n",
    "        return self.height * self.width\n",
    "    def Transpose(self,com):\n",
    "        comapre={\n",
    "            1:self.x-self.height,\n",
    "            2:self.y-self.width,\n",
    "        }\n",
    "        print (comapre.get(com, \"Invalid input\"))\n",
    "        \n",
    "\n",
    "    "
   ]
  },
  {
   "cell_type": "code",
   "execution_count": 26,
   "metadata": {
    "ExecuteTime": {
     "end_time": "2020-05-10T11:29:18.774696Z",
     "start_time": "2020-05-10T11:29:18.757543Z"
    }
   },
   "outputs": [
    {
     "data": {
      "text/plain": [
       "<class '__main__.Compare'>"
      ]
     },
     "execution_count": 26,
     "metadata": {},
     "output_type": "execute_result"
    }
   ],
   "source": [
    "o=Rectangle(5,5,6,8)\n",
    "o\n"
   ]
  },
  {
   "cell_type": "code",
   "execution_count": 27,
   "metadata": {
    "ExecuteTime": {
     "end_time": "2020-05-10T11:29:19.768582Z",
     "start_time": "2020-05-10T11:29:19.746573Z"
    }
   },
   "outputs": [
    {
     "data": {
      "text/plain": [
       "48"
      ]
     },
     "execution_count": 27,
     "metadata": {},
     "output_type": "execute_result"
    }
   ],
   "source": [
    "o.area()"
   ]
  },
  {
   "cell_type": "code",
   "execution_count": 28,
   "metadata": {
    "ExecuteTime": {
     "end_time": "2020-05-10T11:29:20.754630Z",
     "start_time": "2020-05-10T11:29:20.744476Z"
    }
   },
   "outputs": [
    {
     "name": "stdout",
     "output_type": "stream",
     "text": [
      "-3\n"
     ]
    }
   ],
   "source": [
    "o.Transpose(2)"
   ]
  },
  {
   "cell_type": "code",
   "execution_count": null,
   "metadata": {},
   "outputs": [],
   "source": []
  }
 ],
 "metadata": {
  "kernelspec": {
   "display_name": "Python 3",
   "language": "python",
   "name": "python3"
  },
  "language_info": {
   "codemirror_mode": {
    "name": "ipython",
    "version": 3
   },
   "file_extension": ".py",
   "mimetype": "text/x-python",
   "name": "python",
   "nbconvert_exporter": "python",
   "pygments_lexer": "ipython3",
   "version": "3.7.4"
  },
  "toc": {
   "base_numbering": 1,
   "nav_menu": {},
   "number_sections": true,
   "sideBar": true,
   "skip_h1_title": false,
   "title_cell": "Table of Contents",
   "title_sidebar": "Contents",
   "toc_cell": false,
   "toc_position": {},
   "toc_section_display": true,
   "toc_window_display": false
  },
  "varInspector": {
   "cols": {
    "lenName": 16,
    "lenType": 16,
    "lenVar": 40
   },
   "kernels_config": {
    "python": {
     "delete_cmd_postfix": "",
     "delete_cmd_prefix": "del ",
     "library": "var_list.py",
     "varRefreshCmd": "print(var_dic_list())"
    },
    "r": {
     "delete_cmd_postfix": ") ",
     "delete_cmd_prefix": "rm(",
     "library": "var_list.r",
     "varRefreshCmd": "cat(var_dic_list()) "
    }
   },
   "types_to_exclude": [
    "module",
    "function",
    "builtin_function_or_method",
    "instance",
    "_Feature"
   ],
   "window_display": false
  }
 },
 "nbformat": 4,
 "nbformat_minor": 4
}
