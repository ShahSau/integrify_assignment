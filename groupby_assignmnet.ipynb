{
 "cells": [
  {
   "cell_type": "markdown",
   "metadata": {},
   "source": [
    " # groupby exercise"
   ]
  },
  {
   "cell_type": "code",
   "execution_count": 1,
   "metadata": {
    "ExecuteTime": {
     "end_time": "2020-06-01T07:22:44.871322Z",
     "start_time": "2020-06-01T07:22:44.229222Z"
    }
   },
   "outputs": [],
   "source": [
    "import pandas as pd\n",
    "import numpy as np"
   ]
  },
  {
   "cell_type": "markdown",
   "metadata": {},
   "source": [
    "### import the datset drinks.csv and load it using pandas.\n",
    "\n"
   ]
  },
  {
   "cell_type": "code",
   "execution_count": 2,
   "metadata": {
    "ExecuteTime": {
     "end_time": "2020-06-01T07:22:44.896480Z",
     "start_time": "2020-06-01T07:22:44.873199Z"
    }
   },
   "outputs": [
    {
     "data": {
      "text/html": [
       "<div>\n",
       "<style scoped>\n",
       "    .dataframe tbody tr th:only-of-type {\n",
       "        vertical-align: middle;\n",
       "    }\n",
       "\n",
       "    .dataframe tbody tr th {\n",
       "        vertical-align: top;\n",
       "    }\n",
       "\n",
       "    .dataframe thead th {\n",
       "        text-align: right;\n",
       "    }\n",
       "</style>\n",
       "<table border=\"1\" class=\"dataframe\">\n",
       "  <thead>\n",
       "    <tr style=\"text-align: right;\">\n",
       "      <th></th>\n",
       "      <th>country</th>\n",
       "      <th>beer_servings</th>\n",
       "      <th>spirit_servings</th>\n",
       "      <th>wine_servings</th>\n",
       "      <th>total_litres_of_pure_alcohol</th>\n",
       "      <th>continent</th>\n",
       "    </tr>\n",
       "  </thead>\n",
       "  <tbody>\n",
       "    <tr>\n",
       "      <th>0</th>\n",
       "      <td>Afghanistan</td>\n",
       "      <td>0</td>\n",
       "      <td>0</td>\n",
       "      <td>0</td>\n",
       "      <td>0.0</td>\n",
       "      <td>AS</td>\n",
       "    </tr>\n",
       "    <tr>\n",
       "      <th>1</th>\n",
       "      <td>Albania</td>\n",
       "      <td>89</td>\n",
       "      <td>132</td>\n",
       "      <td>54</td>\n",
       "      <td>4.9</td>\n",
       "      <td>EU</td>\n",
       "    </tr>\n",
       "    <tr>\n",
       "      <th>2</th>\n",
       "      <td>Algeria</td>\n",
       "      <td>25</td>\n",
       "      <td>0</td>\n",
       "      <td>14</td>\n",
       "      <td>0.7</td>\n",
       "      <td>AF</td>\n",
       "    </tr>\n",
       "    <tr>\n",
       "      <th>3</th>\n",
       "      <td>Andorra</td>\n",
       "      <td>245</td>\n",
       "      <td>138</td>\n",
       "      <td>312</td>\n",
       "      <td>12.4</td>\n",
       "      <td>EU</td>\n",
       "    </tr>\n",
       "    <tr>\n",
       "      <th>4</th>\n",
       "      <td>Angola</td>\n",
       "      <td>217</td>\n",
       "      <td>57</td>\n",
       "      <td>45</td>\n",
       "      <td>5.9</td>\n",
       "      <td>AF</td>\n",
       "    </tr>\n",
       "  </tbody>\n",
       "</table>\n",
       "</div>"
      ],
      "text/plain": [
       "       country  beer_servings  spirit_servings  wine_servings  \\\n",
       "0  Afghanistan              0                0              0   \n",
       "1      Albania             89              132             54   \n",
       "2      Algeria             25                0             14   \n",
       "3      Andorra            245              138            312   \n",
       "4       Angola            217               57             45   \n",
       "\n",
       "   total_litres_of_pure_alcohol continent  \n",
       "0                           0.0        AS  \n",
       "1                           4.9        EU  \n",
       "2                           0.7        AF  \n",
       "3                          12.4        EU  \n",
       "4                           5.9        AF  "
      ]
     },
     "execution_count": 2,
     "metadata": {},
     "output_type": "execute_result"
    }
   ],
   "source": [
    "df=pd.read_csv(\"drinks.csv\")\n",
    "df.head()"
   ]
  },
  {
   "cell_type": "code",
   "execution_count": 3,
   "metadata": {
    "ExecuteTime": {
     "end_time": "2020-06-01T07:22:44.907217Z",
     "start_time": "2020-06-01T07:22:44.902468Z"
    }
   },
   "outputs": [
    {
     "data": {
      "text/plain": [
       "Index(['country', 'beer_servings', 'spirit_servings', 'wine_servings',\n",
       "       'total_litres_of_pure_alcohol', 'continent'],\n",
       "      dtype='object')"
      ]
     },
     "execution_count": 3,
     "metadata": {},
     "output_type": "execute_result"
    }
   ],
   "source": [
    "df.columns"
   ]
  },
  {
   "cell_type": "code",
   "execution_count": 4,
   "metadata": {
    "ExecuteTime": {
     "end_time": "2020-06-01T07:22:44.920616Z",
     "start_time": "2020-06-01T07:22:44.914545Z"
    }
   },
   "outputs": [
    {
     "data": {
      "text/plain": [
       "0      AS\n",
       "1      EU\n",
       "2      AF\n",
       "3      EU\n",
       "4      AF\n",
       "       ..\n",
       "188    SA\n",
       "189    AS\n",
       "190    AS\n",
       "191    AF\n",
       "192    AF\n",
       "Name: continent, Length: 193, dtype: object"
      ]
     },
     "execution_count": 4,
     "metadata": {},
     "output_type": "execute_result"
    }
   ],
   "source": [
    "df[\"continent\"]"
   ]
  },
  {
   "cell_type": "markdown",
   "metadata": {},
   "source": [
    "### Which continent drinks more beer on average?"
   ]
  },
  {
   "cell_type": "code",
   "execution_count": 5,
   "metadata": {
    "ExecuteTime": {
     "end_time": "2020-06-01T07:22:44.929247Z",
     "start_time": "2020-06-01T07:22:44.923510Z"
    }
   },
   "outputs": [],
   "source": [
    "grouped=df[[\"continent\",\"beer_servings\"]].groupby(\"continent\")"
   ]
  },
  {
   "cell_type": "code",
   "execution_count": 6,
   "metadata": {
    "ExecuteTime": {
     "end_time": "2020-06-01T07:22:44.948271Z",
     "start_time": "2020-06-01T07:22:44.933936Z"
    }
   },
   "outputs": [],
   "source": [
    "beerr=grouped.mean()\n",
    "fil=(beerr[\"beer_servings\"]==beerr[\"beer_servings\"].max())"
   ]
  },
  {
   "cell_type": "code",
   "execution_count": 7,
   "metadata": {
    "ExecuteTime": {
     "end_time": "2020-06-01T07:22:44.962092Z",
     "start_time": "2020-06-01T07:22:44.952687Z"
    }
   },
   "outputs": [
    {
     "data": {
      "text/html": [
       "<div>\n",
       "<style scoped>\n",
       "    .dataframe tbody tr th:only-of-type {\n",
       "        vertical-align: middle;\n",
       "    }\n",
       "\n",
       "    .dataframe tbody tr th {\n",
       "        vertical-align: top;\n",
       "    }\n",
       "\n",
       "    .dataframe thead th {\n",
       "        text-align: right;\n",
       "    }\n",
       "</style>\n",
       "<table border=\"1\" class=\"dataframe\">\n",
       "  <thead>\n",
       "    <tr style=\"text-align: right;\">\n",
       "      <th></th>\n",
       "      <th>beer_servings</th>\n",
       "    </tr>\n",
       "    <tr>\n",
       "      <th>continent</th>\n",
       "      <th></th>\n",
       "    </tr>\n",
       "  </thead>\n",
       "  <tbody>\n",
       "    <tr>\n",
       "      <th>EU</th>\n",
       "      <td>193.777778</td>\n",
       "    </tr>\n",
       "  </tbody>\n",
       "</table>\n",
       "</div>"
      ],
      "text/plain": [
       "           beer_servings\n",
       "continent               \n",
       "EU            193.777778"
      ]
     },
     "execution_count": 7,
     "metadata": {},
     "output_type": "execute_result"
    }
   ],
   "source": [
    "s=beerr.loc[fil]\n",
    "s"
   ]
  },
  {
   "cell_type": "code",
   "execution_count": null,
   "metadata": {},
   "outputs": [],
   "source": []
  },
  {
   "cell_type": "markdown",
   "metadata": {},
   "source": [
    "### For each continent print the statistics for wine consumption.\n"
   ]
  },
  {
   "cell_type": "code",
   "execution_count": 8,
   "metadata": {
    "ExecuteTime": {
     "end_time": "2020-06-01T07:22:44.979338Z",
     "start_time": "2020-06-01T07:22:44.970860Z"
    }
   },
   "outputs": [],
   "source": [
    "grouped=df[[\"continent\",\"wine_servings\"]].groupby(\"continent\")"
   ]
  },
  {
   "cell_type": "code",
   "execution_count": 9,
   "metadata": {
    "ExecuteTime": {
     "end_time": "2020-06-01T07:22:45.055677Z",
     "start_time": "2020-06-01T07:22:44.984484Z"
    }
   },
   "outputs": [
    {
     "data": {
      "text/html": [
       "<div>\n",
       "<style scoped>\n",
       "    .dataframe tbody tr th:only-of-type {\n",
       "        vertical-align: middle;\n",
       "    }\n",
       "\n",
       "    .dataframe tbody tr th {\n",
       "        vertical-align: top;\n",
       "    }\n",
       "\n",
       "    .dataframe thead tr th {\n",
       "        text-align: left;\n",
       "    }\n",
       "\n",
       "    .dataframe thead tr:last-of-type th {\n",
       "        text-align: right;\n",
       "    }\n",
       "</style>\n",
       "<table border=\"1\" class=\"dataframe\">\n",
       "  <thead>\n",
       "    <tr>\n",
       "      <th></th>\n",
       "      <th colspan=\"8\" halign=\"left\">wine_servings</th>\n",
       "    </tr>\n",
       "    <tr>\n",
       "      <th></th>\n",
       "      <th>count</th>\n",
       "      <th>mean</th>\n",
       "      <th>std</th>\n",
       "      <th>min</th>\n",
       "      <th>25%</th>\n",
       "      <th>50%</th>\n",
       "      <th>75%</th>\n",
       "      <th>max</th>\n",
       "    </tr>\n",
       "    <tr>\n",
       "      <th>continent</th>\n",
       "      <th></th>\n",
       "      <th></th>\n",
       "      <th></th>\n",
       "      <th></th>\n",
       "      <th></th>\n",
       "      <th></th>\n",
       "      <th></th>\n",
       "      <th></th>\n",
       "    </tr>\n",
       "  </thead>\n",
       "  <tbody>\n",
       "    <tr>\n",
       "      <th>AF</th>\n",
       "      <td>53.0</td>\n",
       "      <td>16.264151</td>\n",
       "      <td>38.846419</td>\n",
       "      <td>0.0</td>\n",
       "      <td>1.0</td>\n",
       "      <td>2.0</td>\n",
       "      <td>13.00</td>\n",
       "      <td>233.0</td>\n",
       "    </tr>\n",
       "    <tr>\n",
       "      <th>AS</th>\n",
       "      <td>44.0</td>\n",
       "      <td>9.068182</td>\n",
       "      <td>21.667034</td>\n",
       "      <td>0.0</td>\n",
       "      <td>0.0</td>\n",
       "      <td>1.0</td>\n",
       "      <td>8.00</td>\n",
       "      <td>123.0</td>\n",
       "    </tr>\n",
       "    <tr>\n",
       "      <th>EU</th>\n",
       "      <td>45.0</td>\n",
       "      <td>142.222222</td>\n",
       "      <td>97.421738</td>\n",
       "      <td>0.0</td>\n",
       "      <td>59.0</td>\n",
       "      <td>128.0</td>\n",
       "      <td>195.00</td>\n",
       "      <td>370.0</td>\n",
       "    </tr>\n",
       "    <tr>\n",
       "      <th>OC</th>\n",
       "      <td>16.0</td>\n",
       "      <td>35.625000</td>\n",
       "      <td>64.555790</td>\n",
       "      <td>0.0</td>\n",
       "      <td>1.0</td>\n",
       "      <td>8.5</td>\n",
       "      <td>23.25</td>\n",
       "      <td>212.0</td>\n",
       "    </tr>\n",
       "    <tr>\n",
       "      <th>SA</th>\n",
       "      <td>12.0</td>\n",
       "      <td>62.416667</td>\n",
       "      <td>88.620189</td>\n",
       "      <td>1.0</td>\n",
       "      <td>3.0</td>\n",
       "      <td>12.0</td>\n",
       "      <td>98.50</td>\n",
       "      <td>221.0</td>\n",
       "    </tr>\n",
       "  </tbody>\n",
       "</table>\n",
       "</div>"
      ],
      "text/plain": [
       "          wine_servings                                                   \\\n",
       "                  count        mean        std  min   25%    50%     75%   \n",
       "continent                                                                  \n",
       "AF                 53.0   16.264151  38.846419  0.0   1.0    2.0   13.00   \n",
       "AS                 44.0    9.068182  21.667034  0.0   0.0    1.0    8.00   \n",
       "EU                 45.0  142.222222  97.421738  0.0  59.0  128.0  195.00   \n",
       "OC                 16.0   35.625000  64.555790  0.0   1.0    8.5   23.25   \n",
       "SA                 12.0   62.416667  88.620189  1.0   3.0   12.0   98.50   \n",
       "\n",
       "                  \n",
       "             max  \n",
       "continent         \n",
       "AF         233.0  \n",
       "AS         123.0  \n",
       "EU         370.0  \n",
       "OC         212.0  \n",
       "SA         221.0  "
      ]
     },
     "execution_count": 9,
     "metadata": {},
     "output_type": "execute_result"
    }
   ],
   "source": [
    "wine=grouped.describe()\n",
    "wine"
   ]
  },
  {
   "cell_type": "code",
   "execution_count": null,
   "metadata": {},
   "outputs": [],
   "source": []
  },
  {
   "cell_type": "markdown",
   "metadata": {},
   "source": [
    "###  Print the mean alcohol consumption per continent for every column\n"
   ]
  },
  {
   "cell_type": "code",
   "execution_count": 10,
   "metadata": {
    "ExecuteTime": {
     "end_time": "2020-06-01T07:22:45.065193Z",
     "start_time": "2020-06-01T07:22:45.058986Z"
    }
   },
   "outputs": [],
   "source": [
    "grouped=df.groupby(\"continent\")"
   ]
  },
  {
   "cell_type": "code",
   "execution_count": 11,
   "metadata": {
    "ExecuteTime": {
     "end_time": "2020-06-01T07:22:45.086157Z",
     "start_time": "2020-06-01T07:22:45.068582Z"
    }
   },
   "outputs": [
    {
     "data": {
      "text/html": [
       "<div>\n",
       "<style scoped>\n",
       "    .dataframe tbody tr th:only-of-type {\n",
       "        vertical-align: middle;\n",
       "    }\n",
       "\n",
       "    .dataframe tbody tr th {\n",
       "        vertical-align: top;\n",
       "    }\n",
       "\n",
       "    .dataframe thead th {\n",
       "        text-align: right;\n",
       "    }\n",
       "</style>\n",
       "<table border=\"1\" class=\"dataframe\">\n",
       "  <thead>\n",
       "    <tr style=\"text-align: right;\">\n",
       "      <th></th>\n",
       "      <th>beer_servings</th>\n",
       "      <th>spirit_servings</th>\n",
       "      <th>wine_servings</th>\n",
       "      <th>total_litres_of_pure_alcohol</th>\n",
       "    </tr>\n",
       "    <tr>\n",
       "      <th>continent</th>\n",
       "      <th></th>\n",
       "      <th></th>\n",
       "      <th></th>\n",
       "      <th></th>\n",
       "    </tr>\n",
       "  </thead>\n",
       "  <tbody>\n",
       "    <tr>\n",
       "      <th>AF</th>\n",
       "      <td>61.471698</td>\n",
       "      <td>16.339623</td>\n",
       "      <td>16.264151</td>\n",
       "      <td>3.007547</td>\n",
       "    </tr>\n",
       "    <tr>\n",
       "      <th>AS</th>\n",
       "      <td>37.045455</td>\n",
       "      <td>60.840909</td>\n",
       "      <td>9.068182</td>\n",
       "      <td>2.170455</td>\n",
       "    </tr>\n",
       "    <tr>\n",
       "      <th>EU</th>\n",
       "      <td>193.777778</td>\n",
       "      <td>132.555556</td>\n",
       "      <td>142.222222</td>\n",
       "      <td>8.617778</td>\n",
       "    </tr>\n",
       "    <tr>\n",
       "      <th>OC</th>\n",
       "      <td>89.687500</td>\n",
       "      <td>58.437500</td>\n",
       "      <td>35.625000</td>\n",
       "      <td>3.381250</td>\n",
       "    </tr>\n",
       "    <tr>\n",
       "      <th>SA</th>\n",
       "      <td>175.083333</td>\n",
       "      <td>114.750000</td>\n",
       "      <td>62.416667</td>\n",
       "      <td>6.308333</td>\n",
       "    </tr>\n",
       "  </tbody>\n",
       "</table>\n",
       "</div>"
      ],
      "text/plain": [
       "           beer_servings  spirit_servings  wine_servings  \\\n",
       "continent                                                  \n",
       "AF             61.471698        16.339623      16.264151   \n",
       "AS             37.045455        60.840909       9.068182   \n",
       "EU            193.777778       132.555556     142.222222   \n",
       "OC             89.687500        58.437500      35.625000   \n",
       "SA            175.083333       114.750000      62.416667   \n",
       "\n",
       "           total_litres_of_pure_alcohol  \n",
       "continent                                \n",
       "AF                             3.007547  \n",
       "AS                             2.170455  \n",
       "EU                             8.617778  \n",
       "OC                             3.381250  \n",
       "SA                             6.308333  "
      ]
     },
     "execution_count": 11,
     "metadata": {},
     "output_type": "execute_result"
    }
   ],
   "source": [
    "m=grouped.mean()\n",
    "m"
   ]
  },
  {
   "cell_type": "code",
   "execution_count": null,
   "metadata": {},
   "outputs": [],
   "source": []
  },
  {
   "cell_type": "markdown",
   "metadata": {},
   "source": [
    "### Print the mean, min and max values for spirit consumption."
   ]
  },
  {
   "cell_type": "code",
   "execution_count": 12,
   "metadata": {
    "ExecuteTime": {
     "end_time": "2020-06-01T07:22:45.100703Z",
     "start_time": "2020-06-01T07:22:45.088717Z"
    }
   },
   "outputs": [],
   "source": [
    "grouped=df[[\"continent\",\"spirit_servings\"]].groupby(\"continent\")"
   ]
  },
  {
   "cell_type": "code",
   "execution_count": 13,
   "metadata": {
    "ExecuteTime": {
     "end_time": "2020-06-01T07:22:45.137142Z",
     "start_time": "2020-06-01T07:22:45.118828Z"
    }
   },
   "outputs": [],
   "source": [
    "sprit=grouped.agg([np.mean, np.min,np.max])"
   ]
  },
  {
   "cell_type": "code",
   "execution_count": 14,
   "metadata": {
    "ExecuteTime": {
     "end_time": "2020-06-01T07:22:45.165289Z",
     "start_time": "2020-06-01T07:22:45.152372Z"
    }
   },
   "outputs": [
    {
     "data": {
      "text/html": [
       "<div>\n",
       "<style scoped>\n",
       "    .dataframe tbody tr th:only-of-type {\n",
       "        vertical-align: middle;\n",
       "    }\n",
       "\n",
       "    .dataframe tbody tr th {\n",
       "        vertical-align: top;\n",
       "    }\n",
       "\n",
       "    .dataframe thead tr th {\n",
       "        text-align: left;\n",
       "    }\n",
       "\n",
       "    .dataframe thead tr:last-of-type th {\n",
       "        text-align: right;\n",
       "    }\n",
       "</style>\n",
       "<table border=\"1\" class=\"dataframe\">\n",
       "  <thead>\n",
       "    <tr>\n",
       "      <th></th>\n",
       "      <th colspan=\"3\" halign=\"left\">spirit_servings</th>\n",
       "    </tr>\n",
       "    <tr>\n",
       "      <th></th>\n",
       "      <th>mean</th>\n",
       "      <th>amin</th>\n",
       "      <th>amax</th>\n",
       "    </tr>\n",
       "    <tr>\n",
       "      <th>continent</th>\n",
       "      <th></th>\n",
       "      <th></th>\n",
       "      <th></th>\n",
       "    </tr>\n",
       "  </thead>\n",
       "  <tbody>\n",
       "    <tr>\n",
       "      <th>AF</th>\n",
       "      <td>16.339623</td>\n",
       "      <td>0</td>\n",
       "      <td>152</td>\n",
       "    </tr>\n",
       "    <tr>\n",
       "      <th>AS</th>\n",
       "      <td>60.840909</td>\n",
       "      <td>0</td>\n",
       "      <td>326</td>\n",
       "    </tr>\n",
       "    <tr>\n",
       "      <th>EU</th>\n",
       "      <td>132.555556</td>\n",
       "      <td>0</td>\n",
       "      <td>373</td>\n",
       "    </tr>\n",
       "    <tr>\n",
       "      <th>OC</th>\n",
       "      <td>58.437500</td>\n",
       "      <td>0</td>\n",
       "      <td>254</td>\n",
       "    </tr>\n",
       "    <tr>\n",
       "      <th>SA</th>\n",
       "      <td>114.750000</td>\n",
       "      <td>25</td>\n",
       "      <td>302</td>\n",
       "    </tr>\n",
       "  </tbody>\n",
       "</table>\n",
       "</div>"
      ],
      "text/plain": [
       "          spirit_servings          \n",
       "                     mean amin amax\n",
       "continent                          \n",
       "AF              16.339623    0  152\n",
       "AS              60.840909    0  326\n",
       "EU             132.555556    0  373\n",
       "OC              58.437500    0  254\n",
       "SA             114.750000   25  302"
      ]
     },
     "execution_count": 14,
     "metadata": {},
     "output_type": "execute_result"
    }
   ],
   "source": [
    "sprit"
   ]
  },
  {
   "cell_type": "markdown",
   "metadata": {},
   "source": [
    "# load a new data file u.user and read it\n"
   ]
  },
  {
   "cell_type": "code",
   "execution_count": 15,
   "metadata": {
    "ExecuteTime": {
     "end_time": "2020-06-01T07:22:45.197353Z",
     "start_time": "2020-06-01T07:22:45.173054Z"
    }
   },
   "outputs": [
    {
     "data": {
      "text/html": [
       "<div>\n",
       "<style scoped>\n",
       "    .dataframe tbody tr th:only-of-type {\n",
       "        vertical-align: middle;\n",
       "    }\n",
       "\n",
       "    .dataframe tbody tr th {\n",
       "        vertical-align: top;\n",
       "    }\n",
       "\n",
       "    .dataframe thead th {\n",
       "        text-align: right;\n",
       "    }\n",
       "</style>\n",
       "<table border=\"1\" class=\"dataframe\">\n",
       "  <thead>\n",
       "    <tr style=\"text-align: right;\">\n",
       "      <th></th>\n",
       "      <th>user_id</th>\n",
       "      <th>age</th>\n",
       "      <th>gender</th>\n",
       "      <th>occupation</th>\n",
       "      <th>zip_code</th>\n",
       "    </tr>\n",
       "  </thead>\n",
       "  <tbody>\n",
       "    <tr>\n",
       "      <th>0</th>\n",
       "      <td>1</td>\n",
       "      <td>24</td>\n",
       "      <td>M</td>\n",
       "      <td>technician</td>\n",
       "      <td>85711</td>\n",
       "    </tr>\n",
       "    <tr>\n",
       "      <th>1</th>\n",
       "      <td>2</td>\n",
       "      <td>53</td>\n",
       "      <td>F</td>\n",
       "      <td>other</td>\n",
       "      <td>94043</td>\n",
       "    </tr>\n",
       "    <tr>\n",
       "      <th>2</th>\n",
       "      <td>3</td>\n",
       "      <td>23</td>\n",
       "      <td>M</td>\n",
       "      <td>writer</td>\n",
       "      <td>32067</td>\n",
       "    </tr>\n",
       "    <tr>\n",
       "      <th>3</th>\n",
       "      <td>4</td>\n",
       "      <td>24</td>\n",
       "      <td>M</td>\n",
       "      <td>technician</td>\n",
       "      <td>43537</td>\n",
       "    </tr>\n",
       "    <tr>\n",
       "      <th>4</th>\n",
       "      <td>5</td>\n",
       "      <td>33</td>\n",
       "      <td>F</td>\n",
       "      <td>other</td>\n",
       "      <td>15213</td>\n",
       "    </tr>\n",
       "  </tbody>\n",
       "</table>\n",
       "</div>"
      ],
      "text/plain": [
       "   user_id  age gender  occupation zip_code\n",
       "0        1   24      M  technician    85711\n",
       "1        2   53      F       other    94043\n",
       "2        3   23      M      writer    32067\n",
       "3        4   24      M  technician    43537\n",
       "4        5   33      F       other    15213"
      ]
     },
     "execution_count": 15,
     "metadata": {},
     "output_type": "execute_result"
    }
   ],
   "source": [
    "df = pd.read_csv(\"u.user\", sep=\"|\")\n",
    "df.head()"
   ]
  },
  {
   "cell_type": "code",
   "execution_count": null,
   "metadata": {},
   "outputs": [],
   "source": []
  },
  {
   "cell_type": "markdown",
   "metadata": {},
   "source": [
    "### Discover what is the mean age per occupation"
   ]
  },
  {
   "cell_type": "code",
   "execution_count": 16,
   "metadata": {
    "ExecuteTime": {
     "end_time": "2020-06-01T07:22:45.206934Z",
     "start_time": "2020-06-01T07:22:45.199738Z"
    }
   },
   "outputs": [],
   "source": [
    "grouped=df[[\"age\",\"occupation\"]].groupby(\"occupation\")"
   ]
  },
  {
   "cell_type": "code",
   "execution_count": 17,
   "metadata": {
    "ExecuteTime": {
     "end_time": "2020-06-01T07:22:45.222565Z",
     "start_time": "2020-06-01T07:22:45.211301Z"
    }
   },
   "outputs": [
    {
     "data": {
      "text/html": [
       "<div>\n",
       "<style scoped>\n",
       "    .dataframe tbody tr th:only-of-type {\n",
       "        vertical-align: middle;\n",
       "    }\n",
       "\n",
       "    .dataframe tbody tr th {\n",
       "        vertical-align: top;\n",
       "    }\n",
       "\n",
       "    .dataframe thead th {\n",
       "        text-align: right;\n",
       "    }\n",
       "</style>\n",
       "<table border=\"1\" class=\"dataframe\">\n",
       "  <thead>\n",
       "    <tr style=\"text-align: right;\">\n",
       "      <th></th>\n",
       "      <th>age</th>\n",
       "    </tr>\n",
       "    <tr>\n",
       "      <th>occupation</th>\n",
       "      <th></th>\n",
       "    </tr>\n",
       "  </thead>\n",
       "  <tbody>\n",
       "    <tr>\n",
       "      <th>administrator</th>\n",
       "      <td>38.746835</td>\n",
       "    </tr>\n",
       "    <tr>\n",
       "      <th>artist</th>\n",
       "      <td>31.392857</td>\n",
       "    </tr>\n",
       "    <tr>\n",
       "      <th>doctor</th>\n",
       "      <td>43.571429</td>\n",
       "    </tr>\n",
       "    <tr>\n",
       "      <th>educator</th>\n",
       "      <td>42.010526</td>\n",
       "    </tr>\n",
       "    <tr>\n",
       "      <th>engineer</th>\n",
       "      <td>36.388060</td>\n",
       "    </tr>\n",
       "    <tr>\n",
       "      <th>entertainment</th>\n",
       "      <td>29.222222</td>\n",
       "    </tr>\n",
       "    <tr>\n",
       "      <th>executive</th>\n",
       "      <td>38.718750</td>\n",
       "    </tr>\n",
       "    <tr>\n",
       "      <th>healthcare</th>\n",
       "      <td>41.562500</td>\n",
       "    </tr>\n",
       "    <tr>\n",
       "      <th>homemaker</th>\n",
       "      <td>32.571429</td>\n",
       "    </tr>\n",
       "    <tr>\n",
       "      <th>lawyer</th>\n",
       "      <td>36.750000</td>\n",
       "    </tr>\n",
       "    <tr>\n",
       "      <th>librarian</th>\n",
       "      <td>40.000000</td>\n",
       "    </tr>\n",
       "    <tr>\n",
       "      <th>marketing</th>\n",
       "      <td>37.615385</td>\n",
       "    </tr>\n",
       "    <tr>\n",
       "      <th>none</th>\n",
       "      <td>26.555556</td>\n",
       "    </tr>\n",
       "    <tr>\n",
       "      <th>other</th>\n",
       "      <td>34.523810</td>\n",
       "    </tr>\n",
       "    <tr>\n",
       "      <th>programmer</th>\n",
       "      <td>33.121212</td>\n",
       "    </tr>\n",
       "    <tr>\n",
       "      <th>retired</th>\n",
       "      <td>63.071429</td>\n",
       "    </tr>\n",
       "    <tr>\n",
       "      <th>salesman</th>\n",
       "      <td>35.666667</td>\n",
       "    </tr>\n",
       "    <tr>\n",
       "      <th>scientist</th>\n",
       "      <td>35.548387</td>\n",
       "    </tr>\n",
       "    <tr>\n",
       "      <th>student</th>\n",
       "      <td>22.081633</td>\n",
       "    </tr>\n",
       "    <tr>\n",
       "      <th>technician</th>\n",
       "      <td>33.148148</td>\n",
       "    </tr>\n",
       "    <tr>\n",
       "      <th>writer</th>\n",
       "      <td>36.311111</td>\n",
       "    </tr>\n",
       "  </tbody>\n",
       "</table>\n",
       "</div>"
      ],
      "text/plain": [
       "                     age\n",
       "occupation              \n",
       "administrator  38.746835\n",
       "artist         31.392857\n",
       "doctor         43.571429\n",
       "educator       42.010526\n",
       "engineer       36.388060\n",
       "entertainment  29.222222\n",
       "executive      38.718750\n",
       "healthcare     41.562500\n",
       "homemaker      32.571429\n",
       "lawyer         36.750000\n",
       "librarian      40.000000\n",
       "marketing      37.615385\n",
       "none           26.555556\n",
       "other          34.523810\n",
       "programmer     33.121212\n",
       "retired        63.071429\n",
       "salesman       35.666667\n",
       "scientist      35.548387\n",
       "student        22.081633\n",
       "technician     33.148148\n",
       "writer         36.311111"
      ]
     },
     "execution_count": 17,
     "metadata": {},
     "output_type": "execute_result"
    }
   ],
   "source": [
    "grouped.mean()"
   ]
  },
  {
   "cell_type": "markdown",
   "metadata": {},
   "source": [
    "### Discover the Male ratio per occupation and sort it from the most to the least\n"
   ]
  },
  {
   "cell_type": "code",
   "execution_count": 18,
   "metadata": {
    "ExecuteTime": {
     "end_time": "2020-06-01T07:22:45.242016Z",
     "start_time": "2020-06-01T07:22:45.224717Z"
    }
   },
   "outputs": [
    {
     "data": {
      "text/plain": [
       "<pandas.core.groupby.generic.DataFrameGroupBy object at 0x1185920d0>"
      ]
     },
     "execution_count": 18,
     "metadata": {},
     "output_type": "execute_result"
    }
   ],
   "source": [
    "df_group=df.groupby(['gender'])\n",
    "df_group"
   ]
  },
  {
   "cell_type": "code",
   "execution_count": 19,
   "metadata": {
    "ExecuteTime": {
     "end_time": "2020-06-01T07:22:45.286399Z",
     "start_time": "2020-06-01T07:22:45.243700Z"
    }
   },
   "outputs": [
    {
     "data": {
      "text/plain": [
       "occupation\n",
       "student          0.202985\n",
       "educator         0.102985\n",
       "other            0.102985\n",
       "engineer         0.097015\n",
       "programmer       0.089552\n",
       "administrator    0.064179\n",
       "executive        0.043284\n",
       "scientist        0.041791\n",
       "technician       0.038806\n",
       "writer           0.038806\n",
       "librarian        0.032836\n",
       "entertainment    0.023881\n",
       "marketing        0.023881\n",
       "artist           0.022388\n",
       "retired          0.019403\n",
       "lawyer           0.014925\n",
       "salesman         0.013433\n",
       "doctor           0.010448\n",
       "healthcare       0.007463\n",
       "none             0.007463\n",
       "homemaker        0.001493\n",
       "Name: occupation, dtype: float64"
      ]
     },
     "execution_count": 19,
     "metadata": {},
     "output_type": "execute_result"
    }
   ],
   "source": [
    "df_group['occupation'].value_counts(normalize=True,sort=True,ascending=False).loc['M']"
   ]
  },
  {
   "cell_type": "code",
   "execution_count": 20,
   "metadata": {
    "ExecuteTime": {
     "end_time": "2020-06-01T07:22:45.294251Z",
     "start_time": "2020-06-01T07:22:45.288427Z"
    }
   },
   "outputs": [],
   "source": [
    "\n",
    "#(user[user['gender']=='M'].groupby('occupation').gender.count()/user.groupby('occupation').gender.count()).sort_values(ascending=False)"
   ]
  },
  {
   "cell_type": "markdown",
   "metadata": {},
   "source": [
    "### For each occupation, calculate the minimum and maximum ages"
   ]
  },
  {
   "cell_type": "code",
   "execution_count": 21,
   "metadata": {
    "ExecuteTime": {
     "end_time": "2020-06-01T07:22:45.310411Z",
     "start_time": "2020-06-01T07:22:45.296974Z"
    }
   },
   "outputs": [],
   "source": [
    "grouped=df[[\"age\",\"occupation\"]].groupby(\"occupation\")"
   ]
  },
  {
   "cell_type": "code",
   "execution_count": 22,
   "metadata": {
    "ExecuteTime": {
     "end_time": "2020-06-01T07:22:45.322449Z",
     "start_time": "2020-06-01T07:22:45.313818Z"
    }
   },
   "outputs": [],
   "source": [
    "min_age=grouped.min()\n",
    "max_age=grouped.max()"
   ]
  },
  {
   "cell_type": "code",
   "execution_count": 23,
   "metadata": {
    "ExecuteTime": {
     "end_time": "2020-06-01T07:22:45.367371Z",
     "start_time": "2020-06-01T07:22:45.360516Z"
    }
   },
   "outputs": [
    {
     "name": "stdout",
     "output_type": "stream",
     "text": [
      "               age\n",
      "occupation        \n",
      "administrator   21\n",
      "artist          19\n",
      "doctor          28\n",
      "educator        23\n",
      "engineer        22\n",
      "entertainment   15\n",
      "executive       22\n",
      "healthcare      22\n",
      "homemaker       20\n",
      "lawyer          21\n",
      "librarian       23\n",
      "marketing       24\n",
      "none            11\n",
      "other           13\n",
      "programmer      20\n",
      "retired         51\n",
      "salesman        18\n",
      "scientist       23\n",
      "student          7\n",
      "technician      21\n",
      "writer          18\n",
      "\n",
      "               age\n",
      "occupation        \n",
      "administrator   70\n",
      "artist          48\n",
      "doctor          64\n",
      "educator        63\n",
      "engineer        70\n",
      "entertainment   50\n",
      "executive       69\n",
      "healthcare      62\n",
      "homemaker       50\n",
      "lawyer          53\n",
      "librarian       69\n",
      "marketing       55\n",
      "none            55\n",
      "other           64\n",
      "programmer      63\n",
      "retired         73\n",
      "salesman        66\n",
      "scientist       55\n",
      "student         42\n",
      "technician      55\n",
      "writer          60\n"
     ]
    }
   ],
   "source": [
    "print(min_age)\n",
    "print()\n",
    "print(max_age)"
   ]
  },
  {
   "cell_type": "markdown",
   "metadata": {},
   "source": [
    " ### For each combination of occupation and gender, calculate the mean age without heirarchical indexing"
   ]
  },
  {
   "cell_type": "code",
   "execution_count": 24,
   "metadata": {
    "ExecuteTime": {
     "end_time": "2020-06-01T07:22:45.378513Z",
     "start_time": "2020-06-01T07:22:45.374207Z"
    }
   },
   "outputs": [],
   "source": [
    "grouped=df[[\"gender\",\"age\",\"occupation\"]].groupby([\"occupation\",\"gender\"])"
   ]
  },
  {
   "cell_type": "code",
   "execution_count": 25,
   "metadata": {
    "ExecuteTime": {
     "end_time": "2020-06-01T07:22:45.391500Z",
     "start_time": "2020-06-01T07:22:45.380773Z"
    }
   },
   "outputs": [
    {
     "data": {
      "text/plain": [
       "occupation     gender\n",
       "administrator  F         40.638889\n",
       "               M         37.162791\n",
       "artist         F         30.307692\n",
       "               M         32.333333\n",
       "doctor         M         43.571429\n",
       "educator       F         39.115385\n",
       "               M         43.101449\n",
       "engineer       F         29.500000\n",
       "               M         36.600000\n",
       "entertainment  F         31.000000\n",
       "               M         29.000000\n",
       "executive      F         44.000000\n",
       "               M         38.172414\n",
       "healthcare     F         39.818182\n",
       "               M         45.400000\n",
       "homemaker      F         34.166667\n",
       "               M         23.000000\n",
       "lawyer         F         39.500000\n",
       "               M         36.200000\n",
       "librarian      F         40.000000\n",
       "               M         40.000000\n",
       "marketing      F         37.200000\n",
       "               M         37.875000\n",
       "none           F         36.500000\n",
       "               M         18.600000\n",
       "other          F         35.472222\n",
       "               M         34.028986\n",
       "programmer     F         32.166667\n",
       "               M         33.216667\n",
       "retired        F         70.000000\n",
       "               M         62.538462\n",
       "salesman       F         27.000000\n",
       "               M         38.555556\n",
       "scientist      F         28.333333\n",
       "               M         36.321429\n",
       "student        F         20.750000\n",
       "               M         22.669118\n",
       "technician     F         38.000000\n",
       "               M         32.961538\n",
       "writer         F         37.631579\n",
       "               M         35.346154\n",
       "Name: age, dtype: float64"
      ]
     },
     "execution_count": 25,
     "metadata": {},
     "output_type": "execute_result"
    }
   ],
   "source": [
    "grouped[\"age\"].mean()#.unstack()"
   ]
  },
  {
   "cell_type": "code",
   "execution_count": null,
   "metadata": {},
   "outputs": [],
   "source": []
  },
  {
   "cell_type": "markdown",
   "metadata": {},
   "source": [
    "### For each occupation present the percentage of women and men"
   ]
  },
  {
   "cell_type": "code",
   "execution_count": 26,
   "metadata": {
    "ExecuteTime": {
     "end_time": "2020-06-01T07:22:45.399815Z",
     "start_time": "2020-06-01T07:22:45.394431Z"
    }
   },
   "outputs": [
    {
     "data": {
      "text/plain": [
       "<pandas.core.groupby.generic.DataFrameGroupBy object at 0x118576650>"
      ]
     },
     "execution_count": 26,
     "metadata": {},
     "output_type": "execute_result"
    }
   ],
   "source": [
    "df_group=df.groupby(['occupation'])\n",
    "df_group"
   ]
  },
  {
   "cell_type": "code",
   "execution_count": 27,
   "metadata": {
    "ExecuteTime": {
     "end_time": "2020-06-01T07:22:45.418327Z",
     "start_time": "2020-06-01T07:22:45.402610Z"
    }
   },
   "outputs": [
    {
     "data": {
      "text/plain": [
       "occupation     gender\n",
       "administrator  M          54.430380\n",
       "               F          45.569620\n",
       "artist         M          53.571429\n",
       "               F          46.428571\n",
       "doctor         M         100.000000\n",
       "educator       M          72.631579\n",
       "               F          27.368421\n",
       "engineer       M          97.014925\n",
       "               F           2.985075\n",
       "entertainment  M          88.888889\n",
       "               F          11.111111\n",
       "executive      M          90.625000\n",
       "               F           9.375000\n",
       "healthcare     F          68.750000\n",
       "               M          31.250000\n",
       "homemaker      F          85.714286\n",
       "               M          14.285714\n",
       "lawyer         M          83.333333\n",
       "               F          16.666667\n",
       "librarian      F          56.862745\n",
       "               M          43.137255\n",
       "marketing      M          61.538462\n",
       "               F          38.461538\n",
       "none           M          55.555556\n",
       "               F          44.444444\n",
       "other          M          65.714286\n",
       "               F          34.285714\n",
       "programmer     M          90.909091\n",
       "               F           9.090909\n",
       "retired        M          92.857143\n",
       "               F           7.142857\n",
       "salesman       M          75.000000\n",
       "               F          25.000000\n",
       "scientist      M          90.322581\n",
       "               F           9.677419\n",
       "student        M          69.387755\n",
       "               F          30.612245\n",
       "technician     M          96.296296\n",
       "               F           3.703704\n",
       "writer         M          57.777778\n",
       "               F          42.222222\n",
       "Name: gender, dtype: float64"
      ]
     },
     "execution_count": 27,
     "metadata": {},
     "output_type": "execute_result"
    }
   ],
   "source": [
    "df_group['gender'].value_counts(normalize=True,sort=True,ascending=False)*100"
   ]
  },
  {
   "cell_type": "markdown",
   "metadata": {},
   "source": [
    "### Iterate over a group and print the name and the whole data from the occupations"
   ]
  },
  {
   "cell_type": "code",
   "execution_count": 29,
   "metadata": {
    "ExecuteTime": {
     "end_time": "2020-06-01T07:24:06.954331Z",
     "start_time": "2020-06-01T07:24:06.950193Z"
    }
   },
   "outputs": [],
   "source": [
    "grouped=df.groupby([\"occupation\"])"
   ]
  },
  {
   "cell_type": "code",
   "execution_count": 30,
   "metadata": {
    "ExecuteTime": {
     "end_time": "2020-06-01T07:24:31.126741Z",
     "start_time": "2020-06-01T07:24:30.968131Z"
    }
   },
   "outputs": [
    {
     "name": "stdout",
     "output_type": "stream",
     "text": [
      "administrator      user_id  age gender     occupation zip_code\n",
      "6          7   57      M  administrator    91344\n",
      "7          8   36      M  administrator    05201\n",
      "33        34   38      F  administrator    42141\n",
      "41        42   30      M  administrator    17870\n",
      "47        48   45      M  administrator    12550\n",
      "..       ...  ...    ...            ...      ...\n",
      "872      873   48      F  administrator    33763\n",
      "878      879   33      F  administrator    55337\n",
      "890      891   51      F  administrator    03062\n",
      "921      922   29      F  administrator    21114\n",
      "939      940   32      M  administrator    02215\n",
      "\n",
      "[79 rows x 5 columns]\n",
      "artist      user_id  age gender occupation zip_code\n",
      "22        23   30      F     artist    48197\n",
      "23        24   21      F     artist    94533\n",
      "30        31   24      M     artist    10003\n",
      "95        96   25      F     artist    75206\n",
      "96        97   43      M     artist    98006\n",
      "122      123   48      F     artist    20008\n",
      "145      146   45      M     artist    83814\n",
      "149      150   20      F     artist    02139\n",
      "161      162   25      M     artist    15610\n",
      "188      189   32      M     artist    95014\n",
      "238      239   39      M     artist    95628\n",
      "259      260   40      F     artist    89801\n",
      "380      381   33      M     artist    94608\n",
      "409      410   30      F     artist    94025\n",
      "432      433   27      M     artist    11211\n",
      "489      490   29      F     artist    V5A2B\n",
      "570      571   34      M     artist    01945\n",
      "595      596   20      M     artist    77073\n",
      "600      601   19      F     artist    99687\n",
      "781      782   21      F     artist    33205\n",
      "822      823   27      M     artist    50322\n",
      "825      826   28      M     artist    77048\n",
      "835      836   44      M     artist    10018\n",
      "836      837   36      F     artist    55409\n",
      "839      840   39      M     artist    55406\n",
      "864      865   25      M     artist    11231\n",
      "901      902   45      F     artist    97203\n",
      "919      920   30      F     artist    90008\n",
      "doctor      user_id  age gender occupation zip_code\n",
      "137      138   46      M     doctor    53211\n",
      "250      251   28      M     doctor    85032\n",
      "298      299   29      M     doctor    63108\n",
      "426      427   51      M     doctor    85258\n",
      "840      841   45      M     doctor    47401\n",
      "844      845   64      M     doctor    97405\n",
      "934      935   42      M     doctor    66221\n",
      "educator      user_id  age gender occupation zip_code\n",
      "12        13   47      M   educator    29206\n",
      "14        15   49      F   educator    97301\n",
      "50        51   28      M   educator    16509\n",
      "58        59   49      M   educator    08403\n",
      "63        64   32      M   educator    43202\n",
      "..       ...  ...    ...        ...      ...\n",
      "902      903   28      M   educator    20850\n",
      "908      909   50      F   educator    53171\n",
      "930      931   60      M   educator    33556\n",
      "931      932   58      M   educator    06437\n",
      "936      937   48      M   educator    98072\n",
      "\n",
      "[95 rows x 5 columns]\n",
      "engineer      user_id  age gender occupation zip_code\n",
      "24        25   39      M   engineer    55107\n",
      "25        26   49      M   engineer    21044\n",
      "40        41   33      M   engineer    80525\n",
      "60        61   36      M   engineer    30040\n",
      "68        69   24      M   engineer    55337\n",
      "..       ...  ...    ...        ...      ...\n",
      "847      848   46      M   engineer    02146\n",
      "881      882   35      M   engineer    40503\n",
      "883      884   44      M   engineer    55337\n",
      "915      916   27      M   engineer    N2L5N\n",
      "933      934   61      M   engineer    22902\n",
      "\n",
      "[67 rows x 5 columns]\n",
      "entertainment      user_id  age gender     occupation zip_code\n",
      "15        16   21      M  entertainment    10309\n",
      "38        39   41      M  entertainment    01040\n",
      "74        75   24      M  entertainment    08816\n",
      "91        92   32      M  entertainment    80525\n",
      "144      145   31      M  entertainment    V3N4P\n",
      "178      179   15      M  entertainment    20755\n",
      "254      255   23      M  entertainment    07029\n",
      "330      331   33      M  entertainment    91344\n",
      "374      375   17      M  entertainment    37777\n",
      "386      387   33      M  entertainment    37412\n",
      "421      422   26      M  entertainment    94533\n",
      "431      432   22      M  entertainment    50311\n",
      "447      448   23      M  entertainment    10021\n",
      "566      567   24      M  entertainment    10003\n",
      "720      721   24      F  entertainment    11238\n",
      "838      839   38      F  entertainment    90814\n",
      "914      915   50      M  entertainment    60614\n",
      "925      926   49      M  entertainment    01701\n",
      "executive      user_id  age gender occupation zip_code\n",
      "5          6   42      M  executive    98101\n",
      "53        54   22      M  executive    66315\n",
      "83        84   32      M  executive    55369\n",
      "92        93   48      M  executive    23112\n",
      "97        98   49      F  executive    90291\n",
      "99       100   36      M  executive    90254\n",
      "112      113   47      M  executive    95032\n",
      "180      181   26      M  executive    21218\n",
      "185      186   39      F  executive    00000\n",
      "212      213   33      M  executive    55345\n",
      "226      227   46      M  executive    60659\n",
      "249      250   29      M  executive    95110\n",
      "264      265   26      M  executive    84601\n",
      "283      284   40      M  executive    92629\n",
      "297      298   44      M  executive    01581\n",
      "334      335   45      M  executive    33775\n",
      "356      357   26      M  executive    98133\n",
      "373      374   36      M  executive    78746\n",
      "473      474   51      M  executive    93711\n",
      "545      546   36      M  executive    22911\n",
      "558      559   69      M  executive    10022\n",
      "575      576   48      M  executive    98281\n",
      "652      653   31      M  executive    55105\n",
      "722      723   26      M  executive    94403\n",
      "723      724   31      M  executive    40243\n",
      "727      728   58      M  executive    94306\n",
      "768      769   39      M  executive    06927\n",
      "774      775   46      M  executive    90036\n",
      "834      835   44      F  executive    11577\n",
      "861      862   25      M  executive    13820\n",
      "870      871   31      M  executive    44648\n",
      "900      901   38      M  executive    L1V3W\n",
      "healthcare      user_id  age gender  occupation zip_code\n",
      "59        60   50      M  healthcare    06472\n",
      "115      116   40      M  healthcare    97232\n",
      "163      164   47      M  healthcare    80123\n",
      "169      170   53      F  healthcare    30067\n",
      "400      401   46      F  healthcare    84107\n",
      "404      405   22      F  healthcare    10019\n",
      "462      463   48      F  healthcare    75218\n",
      "519      520   62      M  healthcare    12603\n",
      "606      607   49      F  healthcare    02154\n",
      "629      630   26      F  healthcare    55408\n",
      "654      655   50      F  healthcare    60657\n",
      "686      687   31      F  healthcare    27713\n",
      "692      693   43      F  healthcare    85210\n",
      "734      735   29      F  healthcare    85719\n",
      "806      807   41      F  healthcare    93555\n",
      "909      910   28      M  healthcare    29301\n",
      "homemaker      user_id  age gender occupation zip_code\n",
      "19        20   42      F  homemaker    95660\n",
      "34        35   20      F  homemaker    42459\n",
      "355      356   32      F  homemaker    92688\n",
      "361      362   35      F  homemaker    85233\n",
      "707      708   26      F  homemaker    96349\n",
      "721      722   50      F  homemaker    17331\n",
      "897      898   23      M  homemaker    61755\n",
      "lawyer      user_id  age gender occupation zip_code\n",
      "9         10   53      M     lawyer    90703\n",
      "124      125   30      M     lawyer    22202\n",
      "125      126   28      F     lawyer    20015\n",
      "160      161   50      M     lawyer    55104\n",
      "204      205   47      M     lawyer    06371\n",
      "338      339   35      M     lawyer    37901\n",
      "364      365   29      M     lawyer    20009\n",
      "418      419   37      M     lawyer    43215\n",
      "443      444   51      F     lawyer    53202\n",
      "588      589   21      M     lawyer    90034\n",
      "679      680   33      M     lawyer    90405\n",
      "845      846   27      M     lawyer    47130\n",
      "librarian      user_id  age gender occupation zip_code\n",
      "18        19   40      M  librarian    02138\n",
      "26        27   40      F  librarian    30030\n",
      "42        43   29      F  librarian    20854\n",
      "55        56   25      M  librarian    46260\n",
      "87        88   49      F  librarian    11701\n",
      "120      121   54      M  librarian    99603\n",
      "146      147   40      F  librarian    02143\n",
      "183      184   37      M  librarian    76013\n",
      "184      185   53      F  librarian    97403\n",
      "203      204   52      F  librarian    10960\n",
      "213      214   26      F  librarian    11231\n",
      "219      220   30      M  librarian    78205\n",
      "228      229   29      F  librarian    22903\n",
      "230      231   48      M  librarian    01080\n",
      "252      253   26      F  librarian    22903\n",
      "268      269   31      F  librarian    43201\n",
      "277      278   37      F  librarian    30033\n",
      "279      280   30      F  librarian    22903\n",
      "333      334   32      M  librarian    30002\n",
      "337      338   39      F  librarian    59717\n",
      "343      344   30      F  librarian    94117\n",
      "344      345   28      F  librarian    94143\n",
      "353      354   29      F  librarian    48197\n",
      "448      449   23      M  librarian    55021\n",
      "515      516   53      F  librarian    10021\n",
      "526      527   33      M  librarian    12180\n",
      "532      533   43      M  librarian    02324\n",
      "562      563   39      F  librarian    32707\n",
      "584      585   69      M  librarian    98501\n",
      "590      591   57      F  librarian    92093\n",
      "610      611   46      M  librarian    77008\n",
      "638      639   42      F  librarian    12065\n",
      "661      662   55      M  librarian    19102\n",
      "666      667   35      M  librarian    01970\n",
      "682      683   42      M  librarian    23509\n",
      "684      685   32      F  librarian    55409\n",
      "700      701   51      F  librarian    56321\n",
      "703      704   51      F  librarian    91105\n",
      "706      707   56      F  librarian    19146\n",
      "753      754   59      F  librarian    62901\n",
      "775      776   30      M  librarian    51157\n",
      "817      818   28      M  librarian    27514\n",
      "821      822   29      F  librarian    53144\n",
      "827      828   28      M  librarian    85282\n",
      "842      843   35      M  librarian    44212\n",
      "854      855   53      M  librarian    04988\n",
      "882      883   49      M  librarian    50266\n",
      "894      895   31      F  librarian    32301\n",
      "905      906   45      M  librarian    70124\n",
      "907      908   44      F  librarian    68504\n",
      "941      942   48      F  librarian    78209\n",
      "marketing      user_id  age gender occupation zip_code\n",
      "45        46   27      F  marketing    46538\n",
      "46        47   53      M  marketing    07102\n",
      "62        63   31      M  marketing    75240\n",
      "90        91   55      M  marketing    01913\n",
      "127      128   24      F  marketing    20009\n",
      "128      129   36      F  marketing    07039\n",
      "148      149   35      F  marketing    17325\n",
      "171      172   55      M  marketing    22207\n",
      "206      207   39      M  marketing    92037\n",
      "287      288   34      M  marketing    23226\n",
      "312      313   41      M  marketing    60035\n",
      "423      424   36      F  marketing    55422\n",
      "430      431   24      M  marketing    92629\n",
      "507      508   27      M  marketing    19382\n",
      "514      515   53      M  marketing    49508\n",
      "525      526   30      M  marketing    97124\n",
      "574      575   33      M  marketing    46032\n",
      "597      598   40      F  marketing    43085\n",
      "612      613   37      F  marketing    29678\n",
      "680      681   44      F  marketing    97208\n",
      "743      744   35      M  marketing    47024\n",
      "782      783   30      M  marketing    77081\n",
      "805      806   27      M  marketing    11217\n",
      "808      809   50      F  marketing    30803\n",
      "855      856   43      F  marketing    97215\n",
      "880      881   39      M  marketing    43017\n",
      "none      user_id  age gender occupation zip_code\n",
      "56        57   16      M       none    84010\n",
      "126      127   33      M       none    73439\n",
      "129      130   20      M       none    60115\n",
      "255      256   35      F       none    39042\n",
      "288      289   11      M       none    94619\n",
      "417      418   55      F       none    21206\n",
      "627      628   13      M       none    94306\n",
      "656      657   26      F       none    78704\n",
      "755      756   30      F       none    90247\n",
      "other      user_id  age gender occupation zip_code\n",
      "1          2   53      F      other    94043\n",
      "4          5   33      F      other    15213\n",
      "10        11   39      F      other    30329\n",
      "11        12   28      F      other    06405\n",
      "17        18   35      F      other    37212\n",
      "..       ...  ...    ...        ...      ...\n",
      "911      912   51      M      other    06512\n",
      "913      914   44      F      other    08105\n",
      "918      919   25      M      other    14216\n",
      "923      924   29      M      other    11753\n",
      "935      936   24      M      other    32789\n",
      "\n",
      "[105 rows x 5 columns]\n",
      "programmer      user_id  age gender  occupation zip_code\n",
      "16        17   30      M  programmer    06355\n",
      "28        29   41      M  programmer    94043\n",
      "44        45   29      M  programmer    50233\n",
      "52        53   26      M  programmer    55414\n",
      "54        55   37      M  programmer    01331\n",
      "..       ...  ...    ...         ...      ...\n",
      "799      800   25      M  programmer    55337\n",
      "829      830   46      M  programmer    53066\n",
      "863      864   27      M  programmer    63021\n",
      "867      868   21      M  programmer    55303\n",
      "926      927   23      M  programmer    55428\n",
      "\n",
      "[66 rows x 5 columns]\n",
      "retired      user_id  age gender occupation zip_code\n",
      "105      106   61      M    retired    55125\n",
      "233      234   60      M    retired    94702\n",
      "307      308   60      M    retired    95076\n",
      "317      318   65      M    retired    06518\n",
      "348      349   68      M    retired    61455\n",
      "479      480   57      M    retired    98257\n",
      "480      481   73      M    retired    37771\n",
      "563      564   65      M    retired    94591\n",
      "572      573   68      M    retired    48911\n",
      "643      644   51      M    retired    63645\n",
      "650      651   65      M    retired    02903\n",
      "751      752   60      M    retired    21201\n",
      "859      860   70      F    retired    48322\n",
      "899      900   60      M    retired    18505\n",
      "salesman      user_id  age gender occupation zip_code\n",
      "111      112   30      M   salesman    60613\n",
      "210      211   66      M   salesman    32605\n",
      "286      287   21      M   salesman    31211\n",
      "335      336   23      M   salesman    42101\n",
      "385      386   36      M   salesman    43221\n",
      "442      443   35      M   salesman    33308\n",
      "456      457   33      F   salesman    30011\n",
      "530      531   30      F   salesman    97408\n",
      "689      690   35      M   salesman    63304\n",
      "752      753   56      M   salesman    91206\n",
      "807      808   45      M   salesman    90016\n",
      "924      925   18      F   salesman    49036\n",
      "scientist      user_id  age gender occupation zip_code\n",
      "13        14   45      M  scientist    55106\n",
      "39        40   38      M  scientist    27514\n",
      "70        71   39      M  scientist    98034\n",
      "73        74   39      M  scientist    T8H1N\n",
      "106      107   39      M  scientist    60466\n",
      "174      175   26      F  scientist    21911\n",
      "175      176   28      M  scientist    07030\n",
      "182      183   33      M  scientist    27708\n",
      "194      195   42      M  scientist    93555\n",
      "231      232   45      M  scientist    99709\n",
      "271      272   33      M  scientist    53706\n",
      "308      309   40      M  scientist    70802\n",
      "336      337   37      M  scientist    10522\n",
      "352      353   25      M  scientist    28480\n",
      "429      430   38      M  scientist    98199\n",
      "482      483   29      M  scientist    43212\n",
      "537      538   31      M  scientist    21010\n",
      "542      543   33      M  scientist    95123\n",
      "548      549   42      M  scientist    45680\n",
      "553      554   32      M  scientist    62901\n",
      "615      616   55      M  scientist    50613\n",
      "625      626   23      M  scientist    19807\n",
      "642      643   39      M  scientist    55122\n",
      "729      730   31      F  scientist    32114\n",
      "762      763   27      M  scientist    02113\n",
      "866      867   24      M  scientist    92507\n",
      "873      874   36      M  scientist    37076\n",
      "887      888   41      M  scientist    17036\n",
      "917      918   40      M  scientist    70116\n",
      "928      929   44      M  scientist    53711\n",
      "929      930   28      F  scientist    07310\n",
      "student      user_id  age gender occupation zip_code\n",
      "8          9   29      M    student    01002\n",
      "29        30    7      M    student    55436\n",
      "31        32   28      F    student    78741\n",
      "32        33   23      M    student    27510\n",
      "35        36   19      F    student    93117\n",
      "..       ...  ...    ...        ...      ...\n",
      "927      928   21      M    student    55408\n",
      "932      933   28      M    student    48105\n",
      "938      939   26      F    student    33319\n",
      "940      941   20      M    student    97229\n",
      "942      943   22      M    student    77841\n",
      "\n",
      "[196 rows x 5 columns]\n",
      "technician      user_id  age gender  occupation zip_code\n",
      "0          1   24      M  technician    85711\n",
      "3          4   24      M  technician    43537\n",
      "43        44   26      M  technician    46260\n",
      "76        77   30      M  technician    29379\n",
      "142      143   42      M  technician    08832\n",
      "196      197   55      M  technician    75094\n",
      "243      244   28      M  technician    80525\n",
      "293      294   34      M  technician    92110\n",
      "310      311   32      M  technician    73071\n",
      "324      325   48      M  technician    02139\n",
      "440      441   50      M  technician    55013\n",
      "455      456   24      M  technician    31820\n",
      "457      458   47      M  technician    Y1A6B\n",
      "487      488   48      M  technician    21012\n",
      "544      545   27      M  technician    08052\n",
      "669      670   30      M  technician    21114\n",
      "714      715   21      M  technician    91206\n",
      "716      717   24      M  technician    84105\n",
      "717      718   42      M  technician    64118\n",
      "737      738   35      M  technician    95403\n",
      "738      739   35      M  technician    73162\n",
      "789      790   27      M  technician    80913\n",
      "811      812   22      M  technician    76234\n",
      "831      832   24      M  technician    77042\n",
      "849      850   34      M  technician    78390\n",
      "888      889   24      M  technician    78704\n",
      "937      938   38      F  technician    55038\n",
      "writer      user_id  age gender occupation zip_code\n",
      "2          3   23      M     writer    32067\n",
      "20        21   26      M     writer    30068\n",
      "21        22   25      M     writer    40206\n",
      "27        28   32      M     writer    55369\n",
      "49        50   21      M     writer    52245\n",
      "121      122   32      F     writer    22206\n",
      "195      196   49      M     writer    55105\n",
      "198      199   30      M     writer    17604\n",
      "200      201   27      M     writer    E2A4H\n",
      "235      236   44      F     writer    53214\n",
      "263      264   36      F     writer    90064\n",
      "292      293   24      M     writer    60804\n",
      "369      370   52      M     writer    08534\n",
      "384      385   36      M     writer    10003\n",
      "388      389   44      F     writer    83702\n",
      "389      390   42      F     writer    85016\n",
      "391      392   52      M     writer    59801\n",
      "444      445   21      M     writer    92653\n",
      "463      464   60      M     writer    94583\n",
      "490      491   43      F     writer    53711\n",
      "497      498   26      M     writer    55408\n",
      "502      503   50      F     writer    27514\n",
      "503      504   40      F     writer    92115\n",
      "506      507   18      F     writer    28450\n",
      "517      518   49      F     writer    99709\n",
      "547      548   51      M     writer    95468\n",
      "556      557   30      F     writer    11217\n",
      "557      558   56      F     writer    63132\n",
      "616      617   27      F     writer    11201\n",
      "619      620   18      F     writer    81648\n",
      "667      668   29      F     writer    10016\n",
      "694      695   26      M     writer    38115\n",
      "735      736   48      F     writer    94618\n",
      "740      741   25      M     writer    63108\n",
      "744      745   42      M     writer    55113\n",
      "771      772   50      M     writer    27105\n",
      "795      796   32      F     writer    33755\n",
      "797      798   40      F     writer    64131\n",
      "800      801   22      M     writer    92154\n",
      "828      829   48      M     writer    80209\n",
      "832      833   34      M     writer    90019\n",
      "841      842   40      M     writer    93055\n",
      "852      853   49      M     writer    40515\n",
      "895      896   28      M     writer    91505\n",
      "910      911   37      F     writer    53210\n"
     ]
    }
   ],
   "source": [
    "for i,j in grouped:\n",
    "    print(i,j)"
   ]
  },
  {
   "cell_type": "code",
   "execution_count": null,
   "metadata": {},
   "outputs": [],
   "source": []
  }
 ],
 "metadata": {
  "kernelspec": {
   "display_name": "Python 3",
   "language": "python",
   "name": "python3"
  },
  "language_info": {
   "codemirror_mode": {
    "name": "ipython",
    "version": 3
   },
   "file_extension": ".py",
   "mimetype": "text/x-python",
   "name": "python",
   "nbconvert_exporter": "python",
   "pygments_lexer": "ipython3",
   "version": "3.7.4"
  },
  "toc": {
   "base_numbering": 1,
   "nav_menu": {},
   "number_sections": true,
   "sideBar": true,
   "skip_h1_title": false,
   "title_cell": "Table of Contents",
   "title_sidebar": "Contents",
   "toc_cell": false,
   "toc_position": {},
   "toc_section_display": true,
   "toc_window_display": false
  },
  "varInspector": {
   "cols": {
    "lenName": 16,
    "lenType": 16,
    "lenVar": 40
   },
   "kernels_config": {
    "python": {
     "delete_cmd_postfix": "",
     "delete_cmd_prefix": "del ",
     "library": "var_list.py",
     "varRefreshCmd": "print(var_dic_list())"
    },
    "r": {
     "delete_cmd_postfix": ") ",
     "delete_cmd_prefix": "rm(",
     "library": "var_list.r",
     "varRefreshCmd": "cat(var_dic_list()) "
    }
   },
   "types_to_exclude": [
    "module",
    "function",
    "builtin_function_or_method",
    "instance",
    "_Feature"
   ],
   "window_display": false
  }
 },
 "nbformat": 4,
 "nbformat_minor": 4
}
