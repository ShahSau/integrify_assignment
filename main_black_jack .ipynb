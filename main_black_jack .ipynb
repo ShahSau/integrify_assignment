{
 "cells": [
  {
   "cell_type": "markdown",
   "metadata": {},
   "source": [
    "# OOP Blackjack"
   ]
  },
  {
   "cell_type": "code",
   "execution_count": 1,
   "metadata": {
    "ExecuteTime": {
     "end_time": "2020-05-11T11:37:15.575812Z",
     "start_time": "2020-05-11T11:37:15.569031Z"
    }
   },
   "outputs": [],
   "source": [
    "# import random for card shuffle\n",
    "import random\n",
    "\n",
    "playing=False\n",
    "chip_pool=100\n",
    "bet=1\n",
    "\n",
    "restart_phrase = \"Press 'd' to deal the cards again, or press 'q' to quit\""
   ]
  },
  {
   "cell_type": "code",
   "execution_count": 2,
   "metadata": {
    "ExecuteTime": {
     "end_time": "2020-05-11T11:37:15.587073Z",
     "start_time": "2020-05-11T11:37:15.580295Z"
    }
   },
   "outputs": [],
   "source": [
    "#create an tuple suits,Diamond,club and Spade with therir First letter only\n",
    "\n",
    "suits= ('H','D','C','S')#your code\n",
    "\n",
    "# create a tuple of possible card ranks\n",
    "\n",
    "rankings=('A', '2', '3', '4', '5', '6', '7', '8', '9', '10', 'J', 'Q', 'K')# your code\n",
    "\n",
    "\n",
    "#create a dict of each ranking with a ranking point value\n",
    "\n",
    "card_val={'A':1, '2':2, '3':3, '4':4, '5':5, '6':6, '7':7, '8':8, '9':9, '10':10, 'J':10, 'Q':10, 'K':10}# your code "
   ]
  },
  {
   "cell_type": "markdown",
   "metadata": {},
   "source": [
    "# create a class Card\n",
    "- define a constructor with suit and rank\n",
    "- use a dunder method str to return sum of suit and rank\n",
    "- define a method grab_suit which return suit\n",
    "- define a method grab_rank which return rank\n",
    "- define a method draw which print suit+rank"
   ]
  },
  {
   "cell_type": "code",
   "execution_count": 3,
   "metadata": {
    "ExecuteTime": {
     "end_time": "2020-05-11T11:37:15.601627Z",
     "start_time": "2020-05-11T11:37:15.595131Z"
    }
   },
   "outputs": [],
   "source": [
    "class Card():\n",
    "    \n",
    "    def __init__(self,suit,rank):\n",
    "        self.suit = suit\n",
    "        self.rank = rank\n",
    "        \n",
    "    def __str__(self):\n",
    "        return self.suit + self.rank\n",
    "    \n",
    "    def grab_suit(self):\n",
    "        return self.suit\n",
    "    \n",
    "    def grab_rank(self):\n",
    "        return self.rank\n",
    "    \n",
    "    def draw(self):\n",
    "        print (self.suit + self.rank)"
   ]
  },
  {
   "cell_type": "markdown",
   "metadata": {},
   "source": [
    "# create a Hand class\n",
    "- define a empty constructor\n",
    "    - create a variable cards which is an empty list\n",
    "    - create a variable value=0\n",
    "    - create a boolean variable ace which is False\n",
    "- create a dunder method str\n",
    "    - use a list comprehension to add a card hand in variable hand_comp\n",
    "    - return \"the card hand has %s\" %hand_comp\n",
    "- def method card_add with a arg card\n",
    "    - append card in cards\n",
    "    - check if rank of card is A\n",
    "         - set ace to True\n",
    "    - self.value += card_val[card.rank]\n",
    "- def method calc_val\n",
    "    - if ace is true and value is less than 12\n",
    "        - return value added with 10\n",
    "    - else:\n",
    "        - return value only\n",
    "- def method draw with arg hidden\n",
    "    - if hidden is true and playing is true\n",
    "        - set variable starting_card to 1\n",
    "    - else:\n",
    "        - set starting_card to 0\n",
    "    - loop through the range of starting_card and len of cards\n",
    "         - self.cards[x].draw()\n",
    "         \n",
    "         "
   ]
  },
  {
   "cell_type": "code",
   "execution_count": 4,
   "metadata": {
    "ExecuteTime": {
     "end_time": "2020-05-11T11:37:15.616426Z",
     "start_time": "2020-05-11T11:37:15.606128Z"
    }
   },
   "outputs": [],
   "source": [
    "class Hand():\n",
    "    \n",
    "    def __init__(self):\n",
    "        self.cards = []\n",
    "        self.value = 0\n",
    "\n",
    "        self.ace = False\n",
    "    def __str__(self):\n",
    "        hand_comp=\"\"\n",
    "        #check the following line\n",
    "        [hand_comp+\" \" +card.__str__() for card in self.cards]\n",
    "        return \"the card hand has% s\"% hand_comp\n",
    "    \n",
    "    def card_add(self,card):\n",
    "        self.cards.append(card)\n",
    "        \n",
    "\n",
    "        if card.rank == 'A':\n",
    "            self.ace = True\n",
    "        self.value += card_val[card.rank]\n",
    "        \n",
    "    def calc_val(self):\n",
    "\n",
    "        if (self.ace == True and self.value < 12):\n",
    "            return self.value + 10\n",
    "        else:\n",
    "            return self.value\n",
    "        \n",
    "    def draw(self,Hidden):\n",
    "        if Hidden == True and playing == True:\n",
    "\n",
    "            starting_card = 1\n",
    "        else:\n",
    "            starting_card = 0\n",
    "        for x in range(starting_card,len(self.cards)):\n",
    "            self.cards[x].draw()"
   ]
  },
  {
   "cell_type": "code",
   "execution_count": null,
   "metadata": {},
   "outputs": [],
   "source": []
  },
  {
   "cell_type": "markdown",
   "metadata": {},
   "source": [
    "# create a class Deck\n",
    "- define an empty constructor\n",
    "    - list comprehension to append class Card in variable deck \n",
    "- define method shuffle\n",
    "    -call shuffle function to suffle deck\n",
    "\n",
    "- define method deal\n",
    "    - create a variable single_card which pop the deck\n",
    "    - return single_card\n",
    "\n",
    "            "
   ]
  },
  {
   "cell_type": "code",
   "execution_count": 5,
   "metadata": {
    "ExecuteTime": {
     "end_time": "2020-05-11T11:37:15.626597Z",
     "start_time": "2020-05-11T11:37:15.620175Z"
    }
   },
   "outputs": [],
   "source": [
    "class Deck():\n",
    "    \n",
    "    def __init__(self):\n",
    "        self.deck = []\n",
    "        [self.deck.append(Card(suit,rank)) for suit in suits for rank in rankings]\n",
    "                \n",
    "    def shuffle(self):\n",
    "        random.shuffle(self.deck)\n",
    "        \n",
    "    def deal(self):\n",
    "        single_card = self.deck.pop()\n",
    "        return single_card\n",
    "       "
   ]
  },
  {
   "cell_type": "code",
   "execution_count": 6,
   "metadata": {
    "ExecuteTime": {
     "end_time": "2020-05-11T11:37:15.635770Z",
     "start_time": "2020-05-11T11:37:15.629460Z"
    }
   },
   "outputs": [],
   "source": [
    "# First Bet\n",
    "def new_bet():\n",
    "    # create a global variable bet and set it to 0\n",
    "    global bet\n",
    "    bet = 0\n",
    "    # your code\n",
    "    \n",
    "    print (' amount of chip to bet? (Integer) ')\n",
    "    \n",
    "    # While loop to keep asking for the bet till its 0\n",
    "    while bet == 0:#your code:\n",
    "        # creat a variable bet_check which take an integer input from user\n",
    "        bet_check=input()\n",
    "        bet_check=int(bet_check)\n",
    "        # your code\n",
    "        \n",
    "        # Check to make sure the bet is within the remaining amount of chips left.\n",
    "        if bet_check>=1 and bet_check<=chip_pool:\n",
    "            bet=bet_check#your code and # your code:\n",
    "            #set bet to bet_check \n",
    "        else:\n",
    "            print (\"Invalid bet, you only have \" + str(chip_pool) + \" remaining\")\n",
    "            \n",
    "\n"
   ]
  },
  {
   "cell_type": "code",
   "execution_count": 7,
   "metadata": {
    "ExecuteTime": {
     "end_time": "2020-05-11T11:37:15.648934Z",
     "start_time": "2020-05-11T11:37:15.641193Z"
    }
   },
   "outputs": [],
   "source": [
    "def deal_cards():  \n",
    "    # Set up all global variables\n",
    "    global result,playing,deck,player_hand,dealer_hand,chip_pool,bet\n",
    "    \n",
    "    # Create a deck\n",
    "    #your code\n",
    "    deck=Deck()\n",
    "    #Shuffle it\n",
    "    #your code\n",
    "    deck.shuffle()\n",
    "    #Set up bet\n",
    "    # your code\n",
    "    new_bet()\n",
    "    # Set up both player_hand and dealer_hands\n",
    "    # your code\n",
    "    player_hand=Hand()\n",
    "    dealer_hand=Hand()\n",
    "    # Deal out initial cards\n",
    "    # add a method card_add and method deal from Deck to player_hand\n",
    "    # your code\n",
    "    #your code\n",
    "    player_hand.card_add(deck.deal())\n",
    "    player_hand.card_add(deck.deal())\n",
    "    # similarly do the same as above for dealer_hand\n",
    "    #your code\n",
    "    # your code\n",
    "    dealer_hand.card_add(deck.deal())\n",
    "    dealer_hand.card_add(deck.deal())\n",
    "    \n",
    "    result = \"Hit or Stand?(h or s) \"\n",
    "    \n",
    "    # check the condition of playing if True \n",
    "    #print(\"flod, sorry\") and \n",
    "    #decrease bet from chip_pool\n",
    "    \n",
    "    #your code\n",
    "    if playing == True:\n",
    "        print ('Fold, Sorry')\n",
    "        chip_pool -= bet\n",
    "    # Set up to know currently playing hand\n",
    "    playing = True# your code\n",
    "    game_step()"
   ]
  },
  {
   "cell_type": "code",
   "execution_count": 8,
   "metadata": {
    "ExecuteTime": {
     "end_time": "2020-05-11T11:37:15.658682Z",
     "start_time": "2020-05-11T11:37:15.651540Z"
    }
   },
   "outputs": [],
   "source": [
    "def hit():\n",
    "    \n",
    "    global playing,chip_pool,deck,player_hand,dealer_hand,result,bet\n",
    "    \n",
    "    # If hand is in play add card\n",
    "    \n",
    "    if playing:\n",
    "        #------------------------------------------\n",
    "        # if player_hand value is <= 21\n",
    "            # card should be added to player_hand\n",
    "        \n",
    "        # your code\n",
    "        if player_hand.calc_val() <= 21:\n",
    "            player_hand.card_add(deck.deal())\n",
    "        #---------------------------------------------\n",
    "        \n",
    "        print (\"Player hand is %s\" %player_hand)\n",
    "        \n",
    "        #-------------------------------------\n",
    "        #if value of player_hand is >21\n",
    "            # your code\n",
    "        if player_hand.calc_val() > 21:\n",
    "            result = 'Busted! '+ restart_phrase\n",
    "            # decrease chip_pool from bet\n",
    "            # your code\n",
    "            chip_pool-=bet\n",
    "            # set playing to False\n",
    "            #your code\n",
    "            playing=False\n",
    "        #------------------------------\n",
    "    \n",
    "    else:\n",
    "        result = \"Sorry, can't hit\" + restart_phrase\n",
    "    \n",
    "    game_step()"
   ]
  },
  {
   "cell_type": "code",
   "execution_count": 9,
   "metadata": {
    "ExecuteTime": {
     "end_time": "2020-05-11T11:37:15.674692Z",
     "start_time": "2020-05-11T11:37:15.664047Z"
    }
   },
   "outputs": [],
   "source": [
    "def stand():\n",
    "    global playing,chip_pool,deck,player_hand,dealer_hand,result,bet\n",
    "    #---------------------------------------------------------\n",
    "    #write a condition if playing is false and player hand value is >0\n",
    "    # set result=\"sorry\"\n",
    "    # your code\n",
    "    #---------------------------------------------\n",
    "    if playing == False and player_hand.calc_val() > 0:\n",
    "        result = \"Sorry\"       \n",
    "    # Now go through all the other possible options\n",
    "    else:\n",
    "        \n",
    "        # Soft 17 rule\n",
    "        # use while loop to check the dealer hand value less than 17 \n",
    "        while dealer_hand.calc_val() < 17:\n",
    "            #call method to add card and deck.deal() for dealer_hand \n",
    "            #your code\n",
    "            dealer_hand.card_add(deck.deal())\n",
    "        # Dealer Busts\n",
    "        #------------------------------------------\n",
    "        # if value of dealer_hand is > 21 \n",
    "        if dealer_hand.calc_val() > 21:\n",
    "            result = 'You win!' + restart_phrase\n",
    "            #add the bet amount to chip_pool and set playing to false\n",
    "            #your code\n",
    "            chip_pool += bet\n",
    "            playing = False\n",
    "         #--------------------------------------------------   \n",
    "        \n",
    "        #condition where dealer_hand value is < player_hand value\n",
    "        elif dealer_hand.calc_val() < player_hand.calc_val():\n",
    "            result = ' you win!' + restart_phrase\n",
    "            #add the bet amount to chip_pool and set playing to false\n",
    "            #your code\n",
    "            chip_pool += bet\n",
    "            playing = False\n",
    "        # conditon if dealer_hand value is same as player_hand value\n",
    "        elif dealer_hand.calc_val() == player_hand.calc_val():\n",
    "            result = 'Tied up, push!' + restart_phrase\n",
    "            playing = False\n",
    "        \n",
    "        # Dealer beats player\n",
    "        else:\n",
    "            result = 'Dealer Wins!' + restart_phrase\n",
    "            chip_pool -= bet\n",
    "            playing = False\n",
    "    game_step()"
   ]
  },
  {
   "cell_type": "code",
   "execution_count": 10,
   "metadata": {
    "ExecuteTime": {
     "end_time": "2020-05-11T11:37:15.683693Z",
     "start_time": "2020-05-11T11:37:15.677523Z"
    }
   },
   "outputs": [],
   "source": [
    "def game_step():\n",
    "    \n",
    "    #Display Player Hand\n",
    "    print (\"\")\n",
    "    print('Player Hand is: '),\n",
    "    # call method draw on player hand and set hidden to false\n",
    "    # your code\n",
    "    player_hand.draw(Hidden =False)\n",
    "    print ('Player hand total is: '+str(player_hand.calc_val()))\n",
    "    \n",
    "    #Display Dealer Hand\n",
    "    print('Dealer Hand is: '),\n",
    "    # call method draw on dealer hand and set hidden to false\n",
    "    # your code\n",
    "    dealer_hand.draw(Hidden=True)\n",
    "    # If playing is False\n",
    "    if playing == False:\n",
    "        print  (\" --- for a total of \" + str(dealer_hand.calc_val() ))\n",
    "        print (\"Chip Total: \" + str(chip_pool))\n",
    "    # Otherwise, don't know the second card yet\n",
    "    else: \n",
    "        print (\" with another card hidden upside down\")\n",
    "    \n",
    "    # Print result of hit or stand.\n",
    "    print (result)\n",
    "    \n",
    "    player_input()\n",
    "    "
   ]
  },
  {
   "cell_type": "code",
   "execution_count": 11,
   "metadata": {
    "ExecuteTime": {
     "end_time": "2020-05-11T11:37:15.690203Z",
     "start_time": "2020-05-11T11:37:15.687087Z"
    }
   },
   "outputs": [],
   "source": [
    "def game_exit():\n",
    "    print ('Thanks for playing!')\n",
    "    exit()"
   ]
  },
  {
   "cell_type": "code",
   "execution_count": 12,
   "metadata": {
    "ExecuteTime": {
     "end_time": "2020-05-11T11:37:15.696926Z",
     "start_time": "2020-05-11T11:37:15.692662Z"
    }
   },
   "outputs": [],
   "source": [
    "def player_input():\n",
    "    # ask player to input a string in variable P_in and make it into lower case\n",
    "    # your code\n",
    "    P_in =input().lower()\n",
    "    #-------------------------------------------\n",
    "    # set a condition if player input is 'h ' call the function hit\n",
    "    # if it is 's' call function stand\n",
    "    # if it is 'd' call function deal_cards\n",
    "    # if 'q' exit game\n",
    "    # if not any above then call function player_input again\n",
    "    \n",
    "    #your code\n",
    "    if P_in=='h':\n",
    "        hit()\n",
    "    elif P_in=='s':\n",
    "        stand()\n",
    "    elif P_in=='d':\n",
    "        deal_cards()\n",
    "    elif P_in=='q':\n",
    "        game_exit()\n",
    "    else:\n",
    "        player_input()\n",
    "    \n",
    "    #------------------------------------------"
   ]
  },
  {
   "cell_type": "code",
   "execution_count": 13,
   "metadata": {
    "ExecuteTime": {
     "end_time": "2020-05-11T11:37:45.591821Z",
     "start_time": "2020-05-11T11:37:15.699293Z"
    }
   },
   "outputs": [
    {
     "name": "stdout",
     "output_type": "stream",
     "text": [
      "Welcome to BlackJack!\n",
      " amount of chip to bet? (Integer) \n",
      "4\n",
      "\n",
      "Player Hand is: \n",
      "D4\n",
      "D2\n",
      "Player hand total is: 6\n",
      "Dealer Hand is: \n",
      "HJ\n",
      " with another card hidden upside down\n",
      "Hit or Stand?(h or s) \n",
      "h\n",
      "Player hand is the card hand has\n",
      "\n",
      "Player Hand is: \n",
      "D4\n",
      "D2\n",
      "DK\n",
      "Player hand total is: 16\n",
      "Dealer Hand is: \n",
      "HJ\n",
      " with another card hidden upside down\n",
      "Hit or Stand?(h or s) \n",
      "h\n",
      "Player hand is the card hand has\n",
      "\n",
      "Player Hand is: \n",
      "D4\n",
      "D2\n",
      "DK\n",
      "CJ\n",
      "Player hand total is: 26\n",
      "Dealer Hand is: \n",
      "CK\n",
      "HJ\n",
      " --- for a total of 20\n",
      "Chip Total: 96\n",
      "Busted! Press 'd' to deal the cards again, or press 'q' to quit\n",
      "d\n",
      " amount of chip to bet? (Integer) \n",
      "4\n",
      "\n",
      "Player Hand is: \n",
      "CJ\n",
      "HQ\n",
      "Player hand total is: 20\n",
      "Dealer Hand is: \n",
      "S10\n",
      " with another card hidden upside down\n",
      "Hit or Stand?(h or s) \n",
      "h\n",
      "Player hand is the card hand has\n",
      "\n",
      "Player Hand is: \n",
      "CJ\n",
      "HQ\n",
      "D3\n",
      "Player hand total is: 23\n",
      "Dealer Hand is: \n",
      "DA\n",
      "S10\n",
      " --- for a total of 21\n",
      "Chip Total: 92\n",
      "Busted! Press 'd' to deal the cards again, or press 'q' to quit\n",
      "s\n",
      "\n",
      "Player Hand is: \n",
      "CJ\n",
      "HQ\n",
      "D3\n",
      "Player hand total is: 23\n",
      "Dealer Hand is: \n",
      "DA\n",
      "S10\n",
      " --- for a total of 21\n",
      "Chip Total: 92\n",
      "Sorry\n",
      "4\n",
      "h\n",
      "\n",
      "Player Hand is: \n",
      "CJ\n",
      "HQ\n",
      "D3\n",
      "Player hand total is: 23\n",
      "Dealer Hand is: \n",
      "DA\n",
      "S10\n",
      " --- for a total of 21\n",
      "Chip Total: 92\n",
      "Sorry, can't hitPress 'd' to deal the cards again, or press 'q' to quit\n",
      "q\n",
      "Thanks for playing!\n"
     ]
    }
   ],
   "source": [
    "'''The following code will initiate the game! (Note: Need to Run all Cells)'''\n",
    "\n",
    "# Create a Deck and hold in in deck variable\n",
    "#your code\n",
    "deck = Deck()\n",
    "#Shuffle it\n",
    "#your code\n",
    "deck.shuffle()\n",
    "# Create player and dealer hands\n",
    "#your cide\n",
    "#your code\n",
    "player_hand = Hand()\n",
    "dealer_hand = Hand()\n",
    "#Print the intro\n",
    "statement = '''Welcome to BlackJack!'''\n",
    "print (statement)\n",
    "# Deal out the cards and start the game!\n",
    "#your code\n",
    "deal_cards()"
   ]
  },
  {
   "cell_type": "code",
   "execution_count": null,
   "metadata": {},
   "outputs": [],
   "source": []
  }
 ],
 "metadata": {
  "kernelspec": {
   "display_name": "Python 3",
   "language": "python",
   "name": "python3"
  },
  "language_info": {
   "codemirror_mode": {
    "name": "ipython",
    "version": 3
   },
   "file_extension": ".py",
   "mimetype": "text/x-python",
   "name": "python",
   "nbconvert_exporter": "python",
   "pygments_lexer": "ipython3",
   "version": "3.7.4"
  },
  "toc": {
   "base_numbering": 1,
   "nav_menu": {},
   "number_sections": true,
   "sideBar": true,
   "skip_h1_title": false,
   "title_cell": "Table of Contents",
   "title_sidebar": "Contents",
   "toc_cell": false,
   "toc_position": {},
   "toc_section_display": true,
   "toc_window_display": false
  },
  "varInspector": {
   "cols": {
    "lenName": 16,
    "lenType": 16,
    "lenVar": 40
   },
   "kernels_config": {
    "python": {
     "delete_cmd_postfix": "",
     "delete_cmd_prefix": "del ",
     "library": "var_list.py",
     "varRefreshCmd": "print(var_dic_list())"
    },
    "r": {
     "delete_cmd_postfix": ") ",
     "delete_cmd_prefix": "rm(",
     "library": "var_list.r",
     "varRefreshCmd": "cat(var_dic_list()) "
    }
   },
   "types_to_exclude": [
    "module",
    "function",
    "builtin_function_or_method",
    "instance",
    "_Feature"
   ],
   "window_display": false
  }
 },
 "nbformat": 4,
 "nbformat_minor": 2
}
