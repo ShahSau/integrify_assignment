{
 "cells": [
  {
   "cell_type": "markdown",
   "metadata": {
    "ExecuteTime": {
     "end_time": "2020-04-16T10:54:17.421983Z",
     "start_time": "2020-04-16T10:54:17.420520Z"
    }
   },
   "source": [
    "###  search pattern brand and company  if found print found else print not found\n"
   ]
  },
  {
   "cell_type": "code",
   "execution_count": 18,
   "metadata": {
    "ExecuteTime": {
     "end_time": "2020-05-06T06:06:55.626428Z",
     "start_time": "2020-05-06T06:06:55.623071Z"
    }
   },
   "outputs": [],
   "source": [
    "import re"
   ]
  },
  {
   "cell_type": "code",
   "execution_count": 19,
   "metadata": {
    "ExecuteTime": {
     "end_time": "2020-05-06T06:06:56.502417Z",
     "start_time": "2020-05-06T06:06:56.486589Z"
    }
   },
   "outputs": [],
   "source": [
    "text = 'Apple is a tech brand, not a fruit'"
   ]
  },
  {
   "cell_type": "code",
   "execution_count": 20,
   "metadata": {
    "ExecuteTime": {
     "end_time": "2020-05-06T06:06:57.082223Z",
     "start_time": "2020-05-06T06:06:57.077543Z"
    }
   },
   "outputs": [
    {
     "name": "stdout",
     "output_type": "stream",
     "text": [
      "found\n"
     ]
    }
   ],
   "source": [
    "match=re.search(r'(brand|company|brand and company)',text)\n",
    "#print(match.group())\n",
    "if match:\n",
    "    print(\"found\")\n",
    "else:\n",
    "    print(\"not found\")"
   ]
  },
  {
   "cell_type": "markdown",
   "metadata": {},
   "source": [
    "### split the given text at @"
   ]
  },
  {
   "cell_type": "code",
   "execution_count": 21,
   "metadata": {
    "ExecuteTime": {
     "end_time": "2020-05-06T06:06:58.259212Z",
     "start_time": "2020-05-06T06:06:58.256171Z"
    }
   },
   "outputs": [],
   "source": [
    "phrase = 'the list of given email are harry@gmail.com , ron@hotmail.com'"
   ]
  },
  {
   "cell_type": "code",
   "execution_count": 22,
   "metadata": {
    "ExecuteTime": {
     "end_time": "2020-05-06T06:06:58.769754Z",
     "start_time": "2020-05-06T06:06:58.746315Z"
    }
   },
   "outputs": [
    {
     "name": "stdout",
     "output_type": "stream",
     "text": [
      "['@gmail.com', '@hotmail.com']\n"
     ]
    }
   ],
   "source": [
    "match=re.findall(r'@\\w+\\.\\w{3}',phrase)\n",
    "print(match)"
   ]
  },
  {
   "cell_type": "markdown",
   "metadata": {
    "ExecuteTime": {
     "end_time": "2020-04-16T11:36:21.549451Z",
     "start_time": "2020-04-16T11:36:21.546253Z"
    }
   },
   "source": [
    "### Remove the punctation from the given sentence"
   ]
  },
  {
   "cell_type": "code",
   "execution_count": 23,
   "metadata": {
    "ExecuteTime": {
     "end_time": "2020-05-06T06:06:59.609247Z",
     "start_time": "2020-05-06T06:06:59.606642Z"
    }
   },
   "outputs": [],
   "source": [
    "test_phrase = 'hi! are you doing good?'\n"
   ]
  },
  {
   "cell_type": "code",
   "execution_count": 24,
   "metadata": {
    "ExecuteTime": {
     "end_time": "2020-05-06T06:07:00.365098Z",
     "start_time": "2020-05-06T06:07:00.359535Z"
    }
   },
   "outputs": [
    {
     "name": "stdout",
     "output_type": "stream",
     "text": [
      "['hi', 'are', 'you', 'doing', 'good']\n"
     ]
    }
   ],
   "source": [
    "m=re.findall(r'\\w*[^\\W]', test_phrase)\n",
    "print(m)"
   ]
  },
  {
   "cell_type": "markdown",
   "metadata": {},
   "source": [
    "### write a list of test pattern having a sequence of \n",
    "- lower case letter, \n",
    "- uppercase letter, \n",
    "- lower or upper \n",
    "- and one upper case followed by lower case"
   ]
  },
  {
   "cell_type": "code",
   "execution_count": 25,
   "metadata": {
    "ExecuteTime": {
     "end_time": "2020-05-06T06:07:02.086205Z",
     "start_time": "2020-05-06T06:07:02.081428Z"
    }
   },
   "outputs": [
    {
     "data": {
      "text/plain": [
       "\"\\n['egex', 's', 'difficult', 'to', 'grasp', 'in', 'short', 'period', 'of', 'time']\\n\\n['R', 'I']\\n\\n['Regex', 'Is', 'difficult', 'to', 'grasp', 'in', 'short', 'period', 'of', 'time']\\n\\n['Regex', 'Is']\\n\\n\""
      ]
     },
     "execution_count": 25,
     "metadata": {},
     "output_type": "execute_result"
    }
   ],
   "source": [
    "import re\n",
    "test_phrase = 'Regex Is difficult to grasp in short period of time'\n",
    "#answer\n",
    "'''\n",
    "['egex', 's', 'difficult', 'to', 'grasp', 'in', 'short', 'period', 'of', 'time']\n",
    "\n",
    "['R', 'I']\n",
    "\n",
    "['Regex', 'Is', 'difficult', 'to', 'grasp', 'in', 'short', 'period', 'of', 'time']\n",
    "\n",
    "['Regex', 'Is']\n",
    "\n",
    "'''\n"
   ]
  },
  {
   "cell_type": "code",
   "execution_count": 26,
   "metadata": {
    "ExecuteTime": {
     "end_time": "2020-05-06T06:07:03.099394Z",
     "start_time": "2020-05-06T06:07:03.079885Z"
    }
   },
   "outputs": [
    {
     "name": "stdout",
     "output_type": "stream",
     "text": [
      "['egex', 's', 'difficult', 'to', 'grasp', 'in', 'short', 'period', 'of', 'time']\n",
      "['R', 'I']\n",
      "['Regex', 'Is', 'difficult', 'to', 'grasp', 'in', 'short', 'period', 'of', 'time']\n",
      "['Re', 'Is']\n"
     ]
    }
   ],
   "source": [
    "lower=re.findall(r'[a-z]\\w*',test_phrase)\n",
    "print(lower)\n",
    "upper=re.findall(r'[A-Z]',test_phrase)\n",
    "print(upper)\n",
    "lu=re.findall(r'[a-zA-Z]\\w*',test_phrase)\n",
    "print(lu)\n",
    "uu=re.findall(r'[A-Z][a-z]',test_phrase)\n",
    "print(uu)"
   ]
  },
  {
   "cell_type": "markdown",
   "metadata": {
    "ExecuteTime": {
     "end_time": "2020-04-16T11:41:48.341581Z",
     "start_time": "2020-04-16T11:41:48.340108Z"
    }
   },
   "source": [
    "### write a list of test pattern having a sequence \n",
    "- sequence of non-digits\n",
    "- sequence of whitespace\n",
    "- sequence of non-whitespace\n",
    "- alphanumeric characters\n",
    "- non-alphanumeric"
   ]
  },
  {
   "cell_type": "code",
   "execution_count": 27,
   "metadata": {
    "ExecuteTime": {
     "end_time": "2020-05-06T06:07:04.385649Z",
     "start_time": "2020-05-06T06:07:04.382411Z"
    }
   },
   "outputs": [],
   "source": [
    "test_phrase = 'This is a string with some numbers 1233 and a symbol #hashtag'\n"
   ]
  },
  {
   "cell_type": "code",
   "execution_count": 28,
   "metadata": {
    "ExecuteTime": {
     "end_time": "2020-05-06T06:07:04.961871Z",
     "start_time": "2020-05-06T06:07:04.949326Z"
    }
   },
   "outputs": [
    {
     "name": "stdout",
     "output_type": "stream",
     "text": [
      "['T', 'h', 'i', 's', ' ', 'i', 's', ' ', 'a', ' ', 's', 't', 'r', 'i', 'n', 'g', ' ', 'w', 'i', 't', 'h', ' ', 's', 'o', 'm', 'e', ' ', 'n', 'u', 'm', 'b', 'e', 'r', 's', ' ', ' ', 'a', 'n', 'd', ' ', 'a', ' ', 's', 'y', 'm', 'b', 'o', 'l', ' ', '#', 'h', 'a', 's', 'h', 't', 'a', 'g']\n",
      "\n",
      "[' ', ' ', ' ', ' ', ' ', ' ', ' ', ' ', ' ', ' ', ' ']\n",
      "\n",
      "['T', 'h', 'i', 's', 'i', 's', 'a', 's', 't', 'r', 'i', 'n', 'g', 'w', 'i', 't', 'h', 's', 'o', 'm', 'e', 'n', 'u', 'm', 'b', 'e', 'r', 's', '1', '2', '3', '3', 'a', 'n', 'd', 'a', 's', 'y', 'm', 'b', 'o', 'l', '#', 'h', 'a', 's', 'h', 't', 'a', 'g']\n",
      "\n",
      "['T', 'h', 'i', 's', 'i', 's', 'a', 's', 't', 'r', 'i', 'n', 'g', 'w', 'i', 't', 'h', 's', 'o', 'm', 'e', 'n', 'u', 'm', 'b', 'e', 'r', 's', '1', '2', '3', '3', 'a', 'n', 'd', 'a', 's', 'y', 'm', 'b', 'o', 'l', 'h', 'a', 's', 'h', 't', 'a', 'g']\n",
      "\n",
      "[' ', ' ', ' ', ' ', ' ', ' ', ' ', ' ', ' ', ' ', ' ', '#']\n"
     ]
    }
   ],
   "source": [
    "non_digits=re.findall(r'\\D',test_phrase)\n",
    "print(non_digits)\n",
    "print()\n",
    "whitespace=re.findall(r'\\s',test_phrase)\n",
    "print(whitespace)\n",
    "print()\n",
    "non_whitespace=re.findall(r'\\S',test_phrase)\n",
    "print(non_whitespace)\n",
    "print()\n",
    "alpha=re.findall(r'\\w',test_phrase)\n",
    "print(alpha)\n",
    "print()\n",
    "non_alpha=re.findall(r'\\W',test_phrase)\n",
    "print(non_alpha)"
   ]
  },
  {
   "cell_type": "markdown",
   "metadata": {},
   "source": [
    "### find the date from the given text"
   ]
  },
  {
   "cell_type": "code",
   "execution_count": 29,
   "metadata": {
    "ExecuteTime": {
     "end_time": "2020-05-06T06:07:06.216337Z",
     "start_time": "2020-05-06T06:07:06.211614Z"
    }
   },
   "outputs": [],
   "source": [
    "text=\"is your birthday in 12-12-1992\""
   ]
  },
  {
   "cell_type": "code",
   "execution_count": 30,
   "metadata": {
    "ExecuteTime": {
     "end_time": "2020-05-06T06:07:06.805461Z",
     "start_time": "2020-05-06T06:07:06.801646Z"
    }
   },
   "outputs": [
    {
     "name": "stdout",
     "output_type": "stream",
     "text": [
      "12-12-1992\n"
     ]
    }
   ],
   "source": [
    "match=re.search(r'(\\d{2}.\\d{2}.\\d{4})',text)\n",
    "print(match.group())"
   ]
  },
  {
   "cell_type": "markdown",
   "metadata": {},
   "source": [
    "### write a regrex that find anything that start with bat"
   ]
  },
  {
   "cell_type": "code",
   "execution_count": 31,
   "metadata": {
    "ExecuteTime": {
     "end_time": "2020-05-06T06:07:07.906236Z",
     "start_time": "2020-05-06T06:07:07.903887Z"
    }
   },
   "outputs": [],
   "source": [
    "text2=\"Here comes the batman in batmobile\""
   ]
  },
  {
   "cell_type": "code",
   "execution_count": 68,
   "metadata": {
    "ExecuteTime": {
     "end_time": "2020-05-06T06:09:57.124366Z",
     "start_time": "2020-05-06T06:09:57.111355Z"
    }
   },
   "outputs": [
    {
     "data": {
      "text/plain": [
       "['batman', 'batmobile']"
      ]
     },
     "execution_count": 68,
     "metadata": {},
     "output_type": "execute_result"
    }
   ],
   "source": [
    "m=re.findall(r'\\bbat\\w+',text2)\n",
    "m"
   ]
  },
  {
   "cell_type": "markdown",
   "metadata": {},
   "source": [
    "### write a regrex that find all the word that end with 'at'"
   ]
  },
  {
   "cell_type": "code",
   "execution_count": 33,
   "metadata": {
    "ExecuteTime": {
     "end_time": "2020-05-06T06:07:09.274618Z",
     "start_time": "2020-05-06T06:07:09.268547Z"
    }
   },
   "outputs": [],
   "source": [
    "text=\"The cat in the hat sat flat on the mat.\"\n"
   ]
  },
  {
   "cell_type": "code",
   "execution_count": 34,
   "metadata": {
    "ExecuteTime": {
     "end_time": "2020-05-06T06:07:09.792368Z",
     "start_time": "2020-05-06T06:07:09.787474Z"
    }
   },
   "outputs": [
    {
     "name": "stdout",
     "output_type": "stream",
     "text": [
      "['cat', 'hat', 'sat', 'flat', 'mat']\n"
     ]
    }
   ],
   "source": [
    "m=re.findall(r'\\w+at', text)\n",
    "print(m)"
   ]
  },
  {
   "cell_type": "markdown",
   "metadata": {},
   "source": [
    "### find the fistname and the last name of the person"
   ]
  },
  {
   "cell_type": "code",
   "execution_count": 35,
   "metadata": {
    "ExecuteTime": {
     "end_time": "2020-05-06T06:07:10.742338Z",
     "start_time": "2020-05-06T06:07:10.738219Z"
    }
   },
   "outputs": [],
   "source": [
    "text=\"First Name: Travis Last Name: Baker\"\n"
   ]
  },
  {
   "cell_type": "code",
   "execution_count": 36,
   "metadata": {
    "ExecuteTime": {
     "end_time": "2020-05-06T06:07:11.215483Z",
     "start_time": "2020-05-06T06:07:11.211300Z"
    }
   },
   "outputs": [
    {
     "name": "stdout",
     "output_type": "stream",
     "text": [
      "['Travis', 'Baker']\n"
     ]
    }
   ],
   "source": [
    "m=re.findall(r'\\:\\s(\\w*)', text)\n",
    "print(m)"
   ]
  },
  {
   "cell_type": "markdown",
   "metadata": {},
   "source": [
    " ### find all the words with an internal o. "
   ]
  },
  {
   "cell_type": "code",
   "execution_count": 37,
   "metadata": {
    "ExecuteTime": {
     "end_time": "2020-05-06T06:07:11.955281Z",
     "start_time": "2020-05-06T06:07:11.942872Z"
    }
   },
   "outputs": [],
   "source": [
    "text=\"the quick brown fox over \""
   ]
  },
  {
   "cell_type": "code",
   "execution_count": 38,
   "metadata": {
    "ExecuteTime": {
     "end_time": "2020-05-06T06:07:12.279223Z",
     "start_time": "2020-05-06T06:07:12.275352Z"
    }
   },
   "outputs": [
    {
     "name": "stdout",
     "output_type": "stream",
     "text": [
      "['brown', 'fox']\n"
     ]
    }
   ],
   "source": [
    "m=re.findall(r'\\w+[o]\\w*', text)\n",
    "print(m)"
   ]
  },
  {
   "cell_type": "markdown",
   "metadata": {},
   "source": [
    "### find that begin or end with o\n",
    "\n"
   ]
  },
  {
   "cell_type": "code",
   "execution_count": 39,
   "metadata": {
    "ExecuteTime": {
     "end_time": "2020-05-06T06:07:12.917736Z",
     "start_time": "2020-05-06T06:07:12.914841Z"
    }
   },
   "outputs": [],
   "source": [
    "text=\"quick brown fox jumps over a lazy dog\""
   ]
  },
  {
   "cell_type": "code",
   "execution_count": 40,
   "metadata": {
    "ExecuteTime": {
     "end_time": "2020-05-06T06:07:13.285948Z",
     "start_time": "2020-05-06T06:07:13.279860Z"
    }
   },
   "outputs": [
    {
     "name": "stdout",
     "output_type": "stream",
     "text": [
      "['over']\n"
     ]
    }
   ],
   "source": [
    "m=re.findall(r'\\bo\\w*|\\w*o$', text)\n",
    "print(m)"
   ]
  },
  {
   "cell_type": "markdown",
   "metadata": {
    "ExecuteTime": {
     "end_time": "2020-04-16T11:59:47.048687Z",
     "start_time": "2020-04-16T11:59:47.047215Z"
    }
   },
   "source": [
    "### print the answer inthe given format . hint use re.sub\n",
    "'The quick =brown= =fox=  jumped =over= the lazy =dog= '\n"
   ]
  },
  {
   "cell_type": "code",
   "execution_count": 41,
   "metadata": {
    "ExecuteTime": {
     "end_time": "2020-05-06T06:07:13.808684Z",
     "start_time": "2020-05-06T06:07:13.804902Z"
    }
   },
   "outputs": [],
   "source": [
    "text=\"the quick brown fox jumped over the lazy dog\""
   ]
  },
  {
   "cell_type": "code",
   "execution_count": 42,
   "metadata": {
    "ExecuteTime": {
     "end_time": "2020-05-06T06:07:14.193124Z",
     "start_time": "2020-05-06T06:07:14.186836Z"
    }
   },
   "outputs": [
    {
     "data": {
      "text/plain": [
       "'the=quick=brown=fox=jumped=over=the=lazy=dog'"
      ]
     },
     "execution_count": 42,
     "metadata": {},
     "output_type": "execute_result"
    }
   ],
   "source": [
    "re.sub(r'\\s', '=', text)"
   ]
  },
  {
   "cell_type": "markdown",
   "metadata": {
    "ExecuteTime": {
     "end_time": "2020-04-16T12:02:09.298956Z",
     "start_time": "2020-04-16T12:02:09.297540Z"
    }
   },
   "source": [
    "### get the month from the given text"
   ]
  },
  {
   "cell_type": "code",
   "execution_count": 43,
   "metadata": {
    "ExecuteTime": {
     "end_time": "2020-05-06T06:07:14.793499Z",
     "start_time": "2020-05-06T06:07:14.790113Z"
    }
   },
   "outputs": [],
   "source": [
    "text=\"bill gate was born in 28-10-1955 and will was born in 1-02-2000\"\n"
   ]
  },
  {
   "cell_type": "code",
   "execution_count": 44,
   "metadata": {
    "ExecuteTime": {
     "end_time": "2020-05-06T06:07:15.218122Z",
     "start_time": "2020-05-06T06:07:15.214899Z"
    }
   },
   "outputs": [
    {
     "name": "stdout",
     "output_type": "stream",
     "text": [
      "['10', '02']\n"
     ]
    }
   ],
   "source": [
    "\n",
    "m=re.findall(r'\\-(\\d{2})\\-', text)\n",
    "print(m)"
   ]
  },
  {
   "cell_type": "markdown",
   "metadata": {
    "ExecuteTime": {
     "end_time": "2020-04-16T12:04:56.638562Z",
     "start_time": "2020-04-16T12:04:56.633354Z"
    }
   },
   "source": [
    "### splits before every o"
   ]
  },
  {
   "cell_type": "code",
   "execution_count": 45,
   "metadata": {
    "ExecuteTime": {
     "end_time": "2020-05-06T06:07:16.016957Z",
     "start_time": "2020-05-06T06:07:16.013557Z"
    }
   },
   "outputs": [],
   "source": [
    "text=\"python is an object oriented langugae\"\n"
   ]
  },
  {
   "cell_type": "code",
   "execution_count": 46,
   "metadata": {
    "ExecuteTime": {
     "end_time": "2020-05-06T06:07:16.356017Z",
     "start_time": "2020-05-06T06:07:16.349718Z"
    }
   },
   "outputs": [
    {
     "data": {
      "text/plain": [
       "['pyt', ' is an ', 'ject ', 'iented langugae']"
      ]
     },
     "execution_count": 46,
     "metadata": {},
     "output_type": "execute_result"
    }
   ],
   "source": [
    "re.split(r'\\w?o\\w',text)"
   ]
  },
  {
   "cell_type": "markdown",
   "metadata": {
    "ExecuteTime": {
     "end_time": "2020-04-16T12:18:48.527842Z",
     "start_time": "2020-04-16T12:18:48.525964Z"
    }
   },
   "source": [
    "### write a pattern that find dogs and dog"
   ]
  },
  {
   "cell_type": "code",
   "execution_count": 47,
   "metadata": {
    "ExecuteTime": {
     "end_time": "2020-05-06T06:07:16.829938Z",
     "start_time": "2020-05-06T06:07:16.826192Z"
    }
   },
   "outputs": [],
   "source": [
    "test_string = \"I like dogs but my dog doesn't like me.\""
   ]
  },
  {
   "cell_type": "code",
   "execution_count": 48,
   "metadata": {
    "ExecuteTime": {
     "end_time": "2020-05-06T06:07:17.084016Z",
     "start_time": "2020-05-06T06:07:17.076395Z"
    }
   },
   "outputs": [
    {
     "name": "stdout",
     "output_type": "stream",
     "text": [
      "['dogs', 'dog']\n"
     ]
    }
   ],
   "source": [
    "m=re.findall(r'dogs?', test_string)\n",
    "print(m)"
   ]
  },
  {
   "cell_type": "markdown",
   "metadata": {},
   "source": [
    "### Find all the p's and q's in the test string below."
   ]
  },
  {
   "cell_type": "code",
   "execution_count": 49,
   "metadata": {
    "ExecuteTime": {
     "end_time": "2020-05-06T06:07:17.540722Z",
     "start_time": "2020-05-06T06:07:17.535687Z"
    }
   },
   "outputs": [],
   "source": [
    "\n",
    "test_string = \"Quick, pizzaz shop is closing. Is this a path to queensland?\"\n"
   ]
  },
  {
   "cell_type": "code",
   "execution_count": 50,
   "metadata": {
    "ExecuteTime": {
     "end_time": "2020-05-06T06:07:17.796093Z",
     "start_time": "2020-05-06T06:07:17.788246Z"
    }
   },
   "outputs": [
    {
     "name": "stdout",
     "output_type": "stream",
     "text": [
      "['Quick', 'pizzaz', 'shop', 'path', 'queensland']\n"
     ]
    }
   ],
   "source": [
    "m=re.findall(r'(\\w*[Pp|Qq]\\w*)', test_string)\n",
    "print(m)"
   ]
  },
  {
   "cell_type": "markdown",
   "metadata": {},
   "source": [
    "### find everything except t in word"
   ]
  },
  {
   "cell_type": "code",
   "execution_count": 51,
   "metadata": {
    "ExecuteTime": {
     "end_time": "2020-05-06T06:07:18.459103Z",
     "start_time": "2020-05-06T06:07:18.456374Z"
    }
   },
   "outputs": [],
   "source": [
    "test_string = 'the quick brown fox jumped over the lazy dog'"
   ]
  },
  {
   "cell_type": "code",
   "execution_count": 52,
   "metadata": {
    "ExecuteTime": {
     "end_time": "2020-05-06T06:07:18.812603Z",
     "start_time": "2020-05-06T06:07:18.809353Z"
    }
   },
   "outputs": [
    {
     "name": "stdout",
     "output_type": "stream",
     "text": [
      "['he ', 'quick ', 'brown ', 'fox ', 'jumped ', 'over ', 'he ', 'lazy ', 'dog']\n"
     ]
    }
   ],
   "source": [
    "m=re.findall(r'[^t]\\w*[^t]', test_string)\n",
    "print(m)"
   ]
  },
  {
   "cell_type": "markdown",
   "metadata": {},
   "source": [
    "### Find all the ^ characters in the following test sentence."
   ]
  },
  {
   "cell_type": "code",
   "execution_count": 53,
   "metadata": {
    "ExecuteTime": {
     "end_time": "2020-05-06T06:07:19.433271Z",
     "start_time": "2020-05-06T06:07:19.416530Z"
    }
   },
   "outputs": [],
   "source": [
    "\n",
    "\n",
    "test_string = \"\"\"You can match the characters not listed within the class by complementing the set. \n",
    "\n",
    "This is indicated by including a ^ as the first character of the class; \n",
    "\n",
    "^ outside a character class will simply match the ^ character. \n",
    "\n",
    "For example, [^5] will match any character except 5.\"\"\"\n",
    "\n"
   ]
  },
  {
   "cell_type": "code",
   "execution_count": 54,
   "metadata": {
    "ExecuteTime": {
     "end_time": "2020-05-06T06:07:19.749124Z",
     "start_time": "2020-05-06T06:07:19.742473Z"
    }
   },
   "outputs": [
    {
     "name": "stdout",
     "output_type": "stream",
     "text": [
      "['^', '^', '^', '^']\n",
      "4\n"
     ]
    }
   ],
   "source": [
    "m=re.findall(r'(\\^)', test_string)\n",
    "print(m)\n",
    "print(len(m))"
   ]
  },
  {
   "cell_type": "markdown",
   "metadata": {},
   "source": [
    "### Find all three digit prices in the following test sentence. "
   ]
  },
  {
   "cell_type": "code",
   "execution_count": 55,
   "metadata": {
    "ExecuteTime": {
     "end_time": "2020-05-06T06:07:20.309241Z",
     "start_time": "2020-05-06T06:07:20.293713Z"
    }
   },
   "outputs": [],
   "source": [
    "\n",
    "\n",
    "test_string = 'The Mac book cost over $999, while the windows system can be bought for less than $550.'\n",
    "\n"
   ]
  },
  {
   "cell_type": "code",
   "execution_count": 56,
   "metadata": {
    "ExecuteTime": {
     "end_time": "2020-05-06T06:07:20.590084Z",
     "start_time": "2020-05-06T06:07:20.585624Z"
    }
   },
   "outputs": [
    {
     "name": "stdout",
     "output_type": "stream",
     "text": [
      "['999', '550']\n"
     ]
    }
   ],
   "source": [
    "m=re.findall(r'(\\d{3})', test_string)\n",
    "print(m)"
   ]
  },
  {
   "cell_type": "markdown",
   "metadata": {},
   "source": [
    "### Find all prices in the following test sentence."
   ]
  },
  {
   "cell_type": "code",
   "execution_count": 57,
   "metadata": {
    "ExecuteTime": {
     "end_time": "2020-05-06T06:07:21.063848Z",
     "start_time": "2020-05-06T06:07:21.059760Z"
    }
   },
   "outputs": [],
   "source": [
    "\n",
    "\n",
    "test_string = \"\"\"The iPhone X costs over $999, while the Android cost around $550.\n",
    "\n",
    "Apple's MacBook Pro costs $1200, while razer blade cost $2500.\n",
    "\n",
    "A new charger for iphone cost over $30.\n",
    "\n",
    "Bose headphone cost around $390\n",
    "\n",
    "\"\"\"\n"
   ]
  },
  {
   "cell_type": "code",
   "execution_count": 58,
   "metadata": {
    "ExecuteTime": {
     "end_time": "2020-05-06T06:07:21.339785Z",
     "start_time": "2020-05-06T06:07:21.322666Z"
    }
   },
   "outputs": [
    {
     "name": "stdout",
     "output_type": "stream",
     "text": [
      "['$999', '$550', '$1200', '$2500', '$30', '$390']\n"
     ]
    }
   ],
   "source": [
    "m=re.findall(r'(\\$\\d*)', test_string)\n",
    "print(m)"
   ]
  },
  {
   "cell_type": "markdown",
   "metadata": {},
   "source": [
    "### find all the better in the given text"
   ]
  },
  {
   "cell_type": "code",
   "execution_count": 59,
   "metadata": {
    "ExecuteTime": {
     "end_time": "2020-05-06T06:07:21.805660Z",
     "start_time": "2020-05-06T06:07:21.802466Z"
    }
   },
   "outputs": [],
   "source": [
    "robot_string = '''The Zen of Python, by Tim Peters\n",
    "\n",
    "Beautiful is better than ugly.\n",
    "Explicit is better than implicit.\n",
    "Simple is better than complex.\n",
    "Complex is better than complicated.\n",
    "Flat is better than nested.\n",
    "Sparse is better than dense.\n",
    "Readability counts.\n",
    "Special cases aren't special enough to break the rules.\n",
    "Although practicality beats purity.\n",
    "Errors should never pass silently.\n",
    "Unless explicitly silenced.\n",
    "In the face of ambiguity, refuse the temptation to guess.\n",
    "There should be one-- and preferably only one --obvious way to do it.\n",
    "Although that way may not be obvious at first unless you're Dutch.\n",
    "Now is better than never.\n",
    "Although never is often better than *right* now.\n",
    "If the implementation is hard to explain, it's a bad idea.\n",
    "If the implementation is easy to explain, it may be a good idea.\n",
    "Namespaces are one honking great idea -- let's do more of those!\n",
    "'''"
   ]
  },
  {
   "cell_type": "code",
   "execution_count": 60,
   "metadata": {
    "ExecuteTime": {
     "end_time": "2020-05-06T06:07:22.088978Z",
     "start_time": "2020-05-06T06:07:22.084801Z"
    }
   },
   "outputs": [
    {
     "name": "stdout",
     "output_type": "stream",
     "text": [
      "['better ', 'better ', 'better ', 'better ', 'better ', 'better ', 'better ', 'better ']\n"
     ]
    }
   ],
   "source": [
    "m=re.findall(r'[Bb]etter\\s', robot_string)\n",
    "print(m)"
   ]
  },
  {
   "cell_type": "markdown",
   "metadata": {},
   "source": [
    "### find the word that start with bat and end with man"
   ]
  },
  {
   "cell_type": "code",
   "execution_count": 61,
   "metadata": {
    "ExecuteTime": {
     "end_time": "2020-05-06T06:07:22.665722Z",
     "start_time": "2020-05-06T06:07:22.663061Z"
    }
   },
   "outputs": [],
   "source": [
    "test_string = 'Batman is the best movies, batwoman never herad about it.'\n",
    "\n"
   ]
  },
  {
   "cell_type": "code",
   "execution_count": 62,
   "metadata": {
    "ExecuteTime": {
     "end_time": "2020-05-06T06:07:23.006109Z",
     "start_time": "2020-05-06T06:07:23.002026Z"
    }
   },
   "outputs": [
    {
     "name": "stdout",
     "output_type": "stream",
     "text": [
      "['Batman', 'batwoman']\n"
     ]
    }
   ],
   "source": [
    "m=re.findall(r'[bB]at\\w*man', test_string)\n",
    "print(m)"
   ]
  },
  {
   "cell_type": "markdown",
   "metadata": {},
   "source": [
    "### remove the year form the given list\n"
   ]
  },
  {
   "cell_type": "code",
   "execution_count": 63,
   "metadata": {
    "ExecuteTime": {
     "end_time": "2020-05-06T06:07:23.650449Z",
     "start_time": "2020-05-06T06:07:23.637471Z"
    }
   },
   "outputs": [],
   "source": [
    "\n",
    "str2=\"Another You (1991-2000)\"\n"
   ]
  },
  {
   "cell_type": "code",
   "execution_count": 64,
   "metadata": {
    "ExecuteTime": {
     "end_time": "2020-05-06T06:07:23.926552Z",
     "start_time": "2020-05-06T06:07:23.922384Z"
    }
   },
   "outputs": [
    {
     "name": "stdout",
     "output_type": "stream",
     "text": [
      "['Another ', 'You ']\n"
     ]
    }
   ],
   "source": [
    "m=re.findall(r'\\w+[^\\d()-]', str2)\n",
    "print(m)"
   ]
  },
  {
   "cell_type": "markdown",
   "metadata": {},
   "source": [
    "### write a regex to find the url_name only"
   ]
  },
  {
   "cell_type": "code",
   "execution_count": 65,
   "metadata": {
    "ExecuteTime": {
     "end_time": "2020-05-06T06:07:24.492693Z",
     "start_time": "2020-05-06T06:07:24.477573Z"
    }
   },
   "outputs": [],
   "source": [
    "name=\"http://www.zombie-bites.com\" # >>>zombie-bites output"
   ]
  },
  {
   "cell_type": "code",
   "execution_count": 66,
   "metadata": {
    "ExecuteTime": {
     "end_time": "2020-05-06T06:07:24.723580Z",
     "start_time": "2020-05-06T06:07:24.719611Z"
    }
   },
   "outputs": [
    {
     "name": "stdout",
     "output_type": "stream",
     "text": [
      "zombie-bites\n"
     ]
    }
   ],
   "source": [
    "m=re.findall(r'\\w*\\-\\w*', name)\n",
    "print(m[0])"
   ]
  },
  {
   "cell_type": "code",
   "execution_count": null,
   "metadata": {},
   "outputs": [],
   "source": []
  },
  {
   "cell_type": "code",
   "execution_count": null,
   "metadata": {},
   "outputs": [],
   "source": []
  }
 ],
 "metadata": {
  "kernelspec": {
   "display_name": "Python 3",
   "language": "python",
   "name": "python3"
  },
  "language_info": {
   "codemirror_mode": {
    "name": "ipython",
    "version": 3
   },
   "file_extension": ".py",
   "mimetype": "text/x-python",
   "name": "python",
   "nbconvert_exporter": "python",
   "pygments_lexer": "ipython3",
   "version": "3.7.4"
  },
  "toc": {
   "base_numbering": 1,
   "nav_menu": {},
   "number_sections": true,
   "sideBar": true,
   "skip_h1_title": false,
   "title_cell": "Table of Contents",
   "title_sidebar": "Contents",
   "toc_cell": false,
   "toc_position": {},
   "toc_section_display": true,
   "toc_window_display": false
  },
  "varInspector": {
   "cols": {
    "lenName": 16,
    "lenType": 16,
    "lenVar": 40
   },
   "kernels_config": {
    "python": {
     "delete_cmd_postfix": "",
     "delete_cmd_prefix": "del ",
     "library": "var_list.py",
     "varRefreshCmd": "print(var_dic_list())"
    },
    "r": {
     "delete_cmd_postfix": ") ",
     "delete_cmd_prefix": "rm(",
     "library": "var_list.r",
     "varRefreshCmd": "cat(var_dic_list()) "
    }
   },
   "types_to_exclude": [
    "module",
    "function",
    "builtin_function_or_method",
    "instance",
    "_Feature"
   ],
   "window_display": false
  }
 },
 "nbformat": 4,
 "nbformat_minor": 2
}
