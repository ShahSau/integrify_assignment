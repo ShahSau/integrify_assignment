{
 "cells": [
  {
   "cell_type": "code",
   "execution_count": 1,
   "metadata": {
    "ExecuteTime": {
     "end_time": "2020-04-27T06:05:48.883046Z",
     "start_time": "2020-04-27T06:05:48.874807Z"
    }
   },
   "outputs": [
    {
     "name": "stdout",
     "output_type": "stream",
     "text": [
      "['Apples', 'should', 'be', 'compared', 'with', 'Apples']\n",
      "\n",
      "<class 'list'>\n"
     ]
    }
   ],
   "source": [
    "#convert the given string to list \n",
    "given_string = \"Apples should be compared with Apples\"\n",
    "lst=given_string.split(' ')\n",
    "print(lst)\n",
    "print()\n",
    "print(type(lst))"
   ]
  },
  {
   "cell_type": "code",
   "execution_count": 2,
   "metadata": {
    "ExecuteTime": {
     "end_time": "2020-04-27T06:05:50.979006Z",
     "start_time": "2020-04-27T06:05:50.947099Z"
    }
   },
   "outputs": [
    {
     "name": "stdout",
     "output_type": "stream",
     "text": [
      "<class 'dict'>\n",
      "\n"
     ]
    },
    {
     "data": {
      "text/plain": [
       "1"
      ]
     },
     "execution_count": 2,
     "metadata": {},
     "output_type": "execute_result"
    }
   ],
   "source": [
    "#print type of a and get the 1 element \n",
    "a = {(1,2): 1, (2,3): 2}\n",
    "print(type(a))\n",
    "print()\n",
    "a[1,2]"
   ]
  },
  {
   "cell_type": "code",
   "execution_count": 3,
   "metadata": {
    "ExecuteTime": {
     "end_time": "2020-04-27T06:05:55.589590Z",
     "start_time": "2020-04-27T06:05:55.585253Z"
    }
   },
   "outputs": [
    {
     "name": "stdout",
     "output_type": "stream",
     "text": [
      "[4, 3, 2]\n"
     ]
    }
   ],
   "source": [
    "#write a program to get the and list of [4,3,2] \n",
    "a = [1,2,3,4,5]\n",
    "a1=a[1:4]\n",
    "a1.sort(reverse=True)\n",
    "print(a1)"
   ]
  },
  {
   "cell_type": "code",
   "execution_count": 4,
   "metadata": {
    "ExecuteTime": {
     "end_time": "2020-04-27T06:05:57.254580Z",
     "start_time": "2020-04-27T06:05:57.248576Z"
    }
   },
   "outputs": [
    {
     "name": "stdout",
     "output_type": "stream",
     "text": [
      "[1, 3, 5, 7, 9]\n"
     ]
    }
   ],
   "source": [
    "#write a program to get Odd number only using a slicing \n",
    "a = [1,2,3,4,5,6,7,8,9]\n",
    "odd=a[::2]\n",
    "print(odd)"
   ]
  },
  {
   "cell_type": "code",
   "execution_count": 5,
   "metadata": {
    "ExecuteTime": {
     "end_time": "2020-04-27T06:06:01.048971Z",
     "start_time": "2020-04-27T06:06:01.044274Z"
    }
   },
   "outputs": [
    {
     "name": "stdout",
     "output_type": "stream",
     "text": [
      "(1, 2, 1, 2, 1, 2, 1, 2, 1, 2)\n"
     ]
    }
   ],
   "source": [
    "#create a tuple with (1,2) 5 times\n",
    "a= (1,2) * 5\n",
    "print(a)"
   ]
  },
  {
   "cell_type": "code",
   "execution_count": 6,
   "metadata": {
    "ExecuteTime": {
     "end_time": "2020-04-27T06:06:05.072890Z",
     "start_time": "2020-04-27T06:06:05.063676Z"
    }
   },
   "outputs": [
    {
     "name": "stdout",
     "output_type": "stream",
     "text": [
      "['Mobile', 'Laptop', 'Camera', 'Speakers', 'Television', 'Laptop Case', 'Camera Lens']\n",
      "\n",
      "[100, 310.28, 27.0, 1000]\n"
     ]
    }
   ],
   "source": [
    "##Exercise 14: From given list create separate lists of strings and numbers. hint use list comprehension\n",
    "gadgets = [\"Mobile\", \"Laptop\", 100, \"Camera\", 310.28, \"Speakers\", 27.00, \"Television\", 1000, \"Laptop Case\", \"Camera Lens\"]\n",
    "type(gadgets[0])\n",
    "\n",
    "strings=[i for i in gadgets if type(i)==str]\n",
    "print(strings)\n",
    "print()\n",
    "numbers=[i for i in gadgets if type(i)!=str]\n",
    "print(numbers)"
   ]
  },
  {
   "cell_type": "code",
   "execution_count": 85,
   "metadata": {
    "ExecuteTime": {
     "end_time": "2020-04-26T08:24:37.723272Z",
     "start_time": "2020-04-26T08:24:37.701079Z"
    }
   },
   "outputs": [
    {
     "name": "stdout",
     "output_type": "stream",
     "text": [
      "[[1, 2, 3], [4, 5, 6], [7, 8, 9]]\n",
      "\n",
      "15\n",
      "\n",
      "15\n"
     ]
    }
   ],
   "source": [
    "#An array a_2d is given from the array find the sum of Diagonal using list comprehension ¶\n",
    "a_2d = [[1, 2, 3], [4, 5, 6], [7, 8, 9]]\n",
    "print(a_2d)\n",
    "print()\n",
    "sum1=[x for [x,y,z] in a_2d][0]+[y for [x,y,z] in a_2d][1]+[z for [x,y,z] in a_2d][2]\n",
    "print(sum1)\n",
    "print()\n",
    "sum2=[x for [x,y,z] in a_2d][2]+[y for [x,y,z] in a_2d][1]+[z for [x,y,z] in a_2d][0]\n",
    "print(sum2)"
   ]
  },
  {
   "cell_type": "code",
   "execution_count": 23,
   "metadata": {
    "ExecuteTime": {
     "end_time": "2020-04-27T08:17:09.167522Z",
     "start_time": "2020-04-27T08:17:09.143197Z"
    }
   },
   "outputs": [
    {
     "name": "stdout",
     "output_type": "stream",
     "text": [
      "['Eight ', 'Nine ', 'Seven ', 'Six ', 'Five ', 'Four ', 'Three ', 'Two ', 'Zero ', 'One ']\n",
      "\n",
      "('Eight ', 'Nine ', 'Seven ', 'Six ', 'Five ', 'Four ', 'Three ', 'Two ', 'Zero ', 'One ')\n"
     ]
    }
   ],
   "source": [
    "#convert number into tuple of words using comprehension \n",
    "num = 8976543201\n",
    "my= {\"0\": \"Zero \",\"1\": \"One \",\"2\": \"Two \",\"3\": \"Three \",\"4\": \"Four \",\"5\": \"Five \",\"6\": \"Six \",\"7\": \"Seven \",\"8\": \"Eight \",\"9\": \"Nine \"}\n",
    "p=[my[i] for i in str(num)]\n",
    "print(p)\n",
    "print()\n",
    "p=tuple(p)\n",
    "print(p)"
   ]
  },
  {
   "cell_type": "code",
   "execution_count": 87,
   "metadata": {
    "ExecuteTime": {
     "end_time": "2020-04-26T08:24:57.631568Z",
     "start_time": "2020-04-26T08:24:57.624795Z"
    }
   },
   "outputs": [
    {
     "data": {
      "text/plain": [
       "[2, 4, 6, 8]"
      ]
     },
     "execution_count": 87,
     "metadata": {},
     "output_type": "execute_result"
    }
   ],
   "source": [
    "#print the numbers which are divisible by 2 but are not a multiple of 5 ¶\n",
    "numbers = range (1, 10)\n",
    "[i for i in numbers if i%2== 0 and i%5!=0]"
   ]
  },
  {
   "cell_type": "code",
   "execution_count": 88,
   "metadata": {
    "ExecuteTime": {
     "end_time": "2020-04-26T08:25:10.330725Z",
     "start_time": "2020-04-26T08:25:10.314913Z"
    }
   },
   "outputs": [
    {
     "name": "stdout",
     "output_type": "stream",
     "text": [
      "9\n"
     ]
    }
   ],
   "source": [
    "#print the sum of tuple ¶\n",
    "init_tuple = [(0, 1), (1, 2), (2, 3)]\n",
    "t1=sum(init_tuple[0])+sum(init_tuple[1])+sum(init_tuple[2])\n",
    "print(t1)"
   ]
  },
  {
   "cell_type": "code",
   "execution_count": 89,
   "metadata": {
    "ExecuteTime": {
     "end_time": "2020-04-26T08:25:22.857736Z",
     "start_time": "2020-04-26T08:25:22.837102Z"
    }
   },
   "outputs": [
    {
     "name": "stdout",
     "output_type": "stream",
     "text": [
      "[4, 7, 11, 15]\n",
      "[[1, 2, 3], [4, 5, 6], [8, 9, 10], [12, 13, 14]]\n"
     ]
    }
   ],
   "source": [
    "#delete the last coumn from the given 4 * 4 matrix ¶\n",
    "arr = [[1, 2, 3, 4], [4, 5, 6, 7], [8, 9, 10, 11], [12, 13, 14, 15]]\n",
    "last=[row[-1] for row in arr]\n",
    "print(last)\n",
    "del (arr[0][3], arr[1][3], arr[2][3], arr[3][3])\n",
    "print(arr)"
   ]
  },
  {
   "cell_type": "code",
   "execution_count": 90,
   "metadata": {
    "ExecuteTime": {
     "end_time": "2020-04-26T08:25:43.100312Z",
     "start_time": "2020-04-26T08:25:43.076681Z"
    }
   },
   "outputs": [
    {
     "data": {
      "text/plain": [
       "[96, 97, 98]"
      ]
     },
     "execution_count": 90,
     "metadata": {},
     "output_type": "execute_result"
    }
   ],
   "source": [
    "#get the list of value of dict in sorted way \n",
    "dict = {'c': 97, 'a': 96, 'b': 98}\n",
    "sorted(dict.values())"
   ]
  },
  {
   "cell_type": "code",
   "execution_count": null,
   "metadata": {},
   "outputs": [],
   "source": []
  }
 ],
 "metadata": {
  "kernelspec": {
   "display_name": "Python 3",
   "language": "python",
   "name": "python3"
  },
  "language_info": {
   "codemirror_mode": {
    "name": "ipython",
    "version": 3
   },
   "file_extension": ".py",
   "mimetype": "text/x-python",
   "name": "python",
   "nbconvert_exporter": "python",
   "pygments_lexer": "ipython3",
   "version": "3.7.4"
  },
  "varInspector": {
   "cols": {
    "lenName": 16,
    "lenType": 16,
    "lenVar": 40
   },
   "kernels_config": {
    "python": {
     "delete_cmd_postfix": "",
     "delete_cmd_prefix": "del ",
     "library": "var_list.py",
     "varRefreshCmd": "print(var_dic_list())"
    },
    "r": {
     "delete_cmd_postfix": ") ",
     "delete_cmd_prefix": "rm(",
     "library": "var_list.r",
     "varRefreshCmd": "cat(var_dic_list()) "
    }
   },
   "types_to_exclude": [
    "module",
    "function",
    "builtin_function_or_method",
    "instance",
    "_Feature"
   ],
   "window_display": false
  }
 },
 "nbformat": 4,
 "nbformat_minor": 4
}
