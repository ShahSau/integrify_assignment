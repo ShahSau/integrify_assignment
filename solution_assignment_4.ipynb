{
 "cells": [
  {
   "cell_type": "code",
   "execution_count": 76,
   "metadata": {
    "ExecuteTime": {
     "end_time": "2020-04-26T10:13:32.175558Z",
     "start_time": "2020-04-26T10:13:32.148263Z"
    }
   },
   "outputs": [
    {
     "data": {
      "text/plain": [
       "dict_keys([1, 2, 3])"
      ]
     },
     "execution_count": 76,
     "metadata": {},
     "output_type": "execute_result"
    }
   ],
   "source": [
    "#Creating a Dictionary with Integer Keys and print it\n",
    "d={1:'A',2:'B',3:'C'}\n",
    "d.keys()"
   ]
  },
  {
   "cell_type": "code",
   "execution_count": 77,
   "metadata": {
    "ExecuteTime": {
     "end_time": "2020-04-26T10:13:38.095830Z",
     "start_time": "2020-04-26T10:13:38.070272Z"
    }
   },
   "outputs": [
    {
     "data": {
      "text/plain": [
       "dict_keys([1, 2, 'c', 'd'])"
      ]
     },
     "execution_count": 77,
     "metadata": {},
     "output_type": "execute_result"
    }
   ],
   "source": [
    "#Creating a Dictionary with Mixed keys\n",
    "d={1:'A',2:'B','c':3,'d':4}\n",
    "d.keys()"
   ]
  },
  {
   "cell_type": "code",
   "execution_count": 78,
   "metadata": {
    "ExecuteTime": {
     "end_time": "2020-04-26T10:13:43.410203Z",
     "start_time": "2020-04-26T10:13:43.396077Z"
    }
   },
   "outputs": [
    {
     "name": "stdout",
     "output_type": "stream",
     "text": [
      "<class 'dict'>\n"
     ]
    }
   ],
   "source": [
    "#Creating an empty Dictionary \n",
    "d={}\n",
    "print(type(d))"
   ]
  },
  {
   "cell_type": "code",
   "execution_count": 79,
   "metadata": {
    "ExecuteTime": {
     "end_time": "2020-04-26T10:13:50.578234Z",
     "start_time": "2020-04-26T10:13:50.562454Z"
    }
   },
   "outputs": [
    {
     "name": "stdout",
     "output_type": "stream",
     "text": [
      "{'name': 'ff', 'age': 26, 'height': 160}\n"
     ]
    }
   ],
   "source": [
    "#Creating a Dictionary with dict () method \n",
    "x= dict(name='ff', age=26, height=160)\n",
    "print(x)"
   ]
  },
  {
   "cell_type": "code",
   "execution_count": 80,
   "metadata": {
    "ExecuteTime": {
     "end_time": "2020-04-26T10:13:58.777492Z",
     "start_time": "2020-04-26T10:13:58.762963Z"
    }
   },
   "outputs": [
    {
     "name": "stdout",
     "output_type": "stream",
     "text": [
      "{'key1': 1, 'key2': 2}\n"
     ]
    }
   ],
   "source": [
    "#Creating a Dictionary with each item as a Pair\n",
    "d={'key1':1, 'key2':2}\n",
    "print(d)"
   ]
  },
  {
   "cell_type": "code",
   "execution_count": 81,
   "metadata": {
    "ExecuteTime": {
     "end_time": "2020-04-26T10:14:07.137010Z",
     "start_time": "2020-04-26T10:14:07.112379Z"
    }
   },
   "outputs": [
    {
     "name": "stdout",
     "output_type": "stream",
     "text": [
      "{1: 'python', 2: 'For', 3: {'A': 'Welcome', 'B': 'To', 'C': 'Python', 'D': 'class'}}\n"
     ]
    }
   ],
   "source": [
    "#Creating a Nested Dictionary as shown in the image below \n",
    "#{1: 'python', 2: 'For', 3: {'A': 'Welcome', 'B': 'To', 'C': 'Python', 'D': 'class'}}\n",
    "d={1: 'python', 2: 'For', 3: {'A': 'Welcome', 'B': 'To', 'C': 'Python', 'D': 'class'}}\n",
    "print(d)"
   ]
  },
  {
   "cell_type": "code",
   "execution_count": 82,
   "metadata": {
    "ExecuteTime": {
     "end_time": "2020-04-26T10:14:26.671825Z",
     "start_time": "2020-04-26T10:14:26.651809Z"
    }
   },
   "outputs": [
    {
     "name": "stdout",
     "output_type": "stream",
     "text": [
      "{1: 'python', 2: 'For', 3: {'A': 'Welcome', 'B': 'To', 'C': 'Python', 'D': 'class', 'E': 'english'}}\n"
     ]
    }
   ],
   "source": [
    "#Add a Nested Key value to nested dictionary Dictionary\n",
    "d3=d[3]\n",
    "#print(d3)\n",
    "d3['E']= 'english'\n",
    "#print(d3)\n",
    "print(d)"
   ]
  },
  {
   "cell_type": "code",
   "execution_count": 83,
   "metadata": {
    "ExecuteTime": {
     "end_time": "2020-04-26T10:14:49.120081Z",
     "start_time": "2020-04-26T10:14:49.113942Z"
    }
   },
   "outputs": [
    {
     "name": "stdout",
     "output_type": "stream",
     "text": [
      "paris\n"
     ]
    }
   ],
   "source": [
    "#accessing a element using key\n",
    "europe = {'spain':'madrid', 'france':'paris', 'germany':'berlin', 'norway':'oslo' }\n",
    "print(europe['france'])"
   ]
  },
  {
   "cell_type": "code",
   "execution_count": 84,
   "metadata": {
    "ExecuteTime": {
     "end_time": "2020-04-26T10:14:56.094434Z",
     "start_time": "2020-04-26T10:14:56.062753Z"
    }
   },
   "outputs": [
    {
     "data": {
      "text/plain": [
       "'oslo'"
      ]
     },
     "execution_count": 84,
     "metadata": {},
     "output_type": "execute_result"
    }
   ],
   "source": [
    "#accessing a element using the get () method\n",
    "europe.get('norway')"
   ]
  },
  {
   "cell_type": "code",
   "execution_count": 1,
   "metadata": {
    "ExecuteTime": {
     "end_time": "2020-04-27T10:32:44.450271Z",
     "start_time": "2020-04-27T10:32:44.432957Z"
    }
   },
   "outputs": [
    {
     "name": "stdout",
     "output_type": "stream",
     "text": [
      "{0: 0, 1: 1, 2: 4, 3: 9, 4: 16, 5: 25}\n"
     ]
    }
   ],
   "source": [
    "#create a dictionary with id: num and value: square for range (0.6) using dict comprehension \n",
    "kk= {i:i**2 for i in range(0,6)}\n",
    "print(kk)"
   ]
  },
  {
   "cell_type": "code",
   "execution_count": 86,
   "metadata": {
    "ExecuteTime": {
     "end_time": "2020-04-26T10:15:16.940072Z",
     "start_time": "2020-04-26T10:15:16.917913Z"
    }
   },
   "outputs": [
    {
     "name": "stdout",
     "output_type": "stream",
     "text": [
      "{1: 1, 3: 9, 5: 25}\n"
     ]
    }
   ],
   "source": [
    "#create a dictionary using dict comprehension to get the Odd square only \n",
    "kk= {i:i**2 for i in range(0,6) if i%2!=0}\n",
    "print(kk)"
   ]
  },
  {
   "cell_type": "code",
   "execution_count": 87,
   "metadata": {
    "ExecuteTime": {
     "end_time": "2020-04-26T10:15:32.465066Z",
     "start_time": "2020-04-26T10:15:32.434853Z"
    }
   },
   "outputs": [
    {
     "name": "stdout",
     "output_type": "stream",
     "text": [
      "{'a': 1, 'b': 2, 'c': 3}\n",
      "\n",
      "dict_keys(['a', 'b', 'c'])\n",
      "\n",
      "dict_values([1, 2, 3])\n"
     ]
    }
   ],
   "source": [
    "#from a given dict {1: 'a', 2: 'b', 3: 'c'} change the key into item and viceversa \n",
    "d={1: 'a', 2: 'b', 3: 'c'}\n",
    "d_chnages={value:key for (key,value) in d.items()}\n",
    "print(d_chnages)\n",
    "print()\n",
    "print(d_chnages.keys())\n",
    "print()\n",
    "print(d_chnages.values())"
   ]
  },
  {
   "cell_type": "code",
   "execution_count": 4,
   "metadata": {
    "ExecuteTime": {
     "end_time": "2020-04-27T10:37:54.263049Z",
     "start_time": "2020-04-27T10:37:54.238408Z"
    }
   },
   "outputs": [
    {
     "name": "stdout",
     "output_type": "stream",
     "text": [
      "['hello']\n",
      "\n",
      "['hello']\n"
     ]
    }
   ],
   "source": [
    "#get a hello from the given dict \n",
    "d = {'k1': [{'nest_key': ['this is deep', ['hello']]}]}\n",
    "\n",
    "d1 = {'k1': [1,2, {'k2': ['this is Tricky', {'tough': [1,2, ['hello']]}]}]}\n",
    "\n",
    "print(d['k1'][0]['nest_key'][1])\n",
    "print()\n",
    "print(d1['k1'][2]['k2'][1]['tough'][2])"
   ]
  },
  {
   "cell_type": "code",
   "execution_count": null,
   "metadata": {},
   "outputs": [],
   "source": []
  }
 ],
 "metadata": {
  "kernelspec": {
   "display_name": "Python 3",
   "language": "python",
   "name": "python3"
  },
  "language_info": {
   "codemirror_mode": {
    "name": "ipython",
    "version": 3
   },
   "file_extension": ".py",
   "mimetype": "text/x-python",
   "name": "python",
   "nbconvert_exporter": "python",
   "pygments_lexer": "ipython3",
   "version": "3.7.4"
  },
  "varInspector": {
   "cols": {
    "lenName": 16,
    "lenType": 16,
    "lenVar": 40
   },
   "kernels_config": {
    "python": {
     "delete_cmd_postfix": "",
     "delete_cmd_prefix": "del ",
     "library": "var_list.py",
     "varRefreshCmd": "print(var_dic_list())"
    },
    "r": {
     "delete_cmd_postfix": ") ",
     "delete_cmd_prefix": "rm(",
     "library": "var_list.r",
     "varRefreshCmd": "cat(var_dic_list()) "
    }
   },
   "types_to_exclude": [
    "module",
    "function",
    "builtin_function_or_method",
    "instance",
    "_Feature"
   ],
   "window_display": false
  }
 },
 "nbformat": 4,
 "nbformat_minor": 4
}
