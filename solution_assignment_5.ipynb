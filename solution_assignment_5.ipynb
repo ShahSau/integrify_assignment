{
 "cells": [
  {
   "cell_type": "markdown",
   "metadata": {
    "ExecuteTime": {
     "end_time": "2020-04-28T05:57:30.787821Z",
     "start_time": "2020-04-28T05:57:30.784310Z"
    }
   },
   "source": [
    "# Divisibility Check of user given 2 input of  numbers"
   ]
  },
  {
   "cell_type": "code",
   "execution_count": 2,
   "metadata": {
    "ExecuteTime": {
     "end_time": "2020-04-28T05:57:46.656752Z",
     "start_time": "2020-04-28T05:57:43.682393Z"
    }
   },
   "outputs": [
    {
     "name": "stdout",
     "output_type": "stream",
     "text": [
      "your 1st number:3\n",
      "your 2nd number:4\n",
      "3 and 4 are not divisible by each other\n"
     ]
    }
   ],
   "source": [
    "n1=int(input(\"your 1st number: \"))\n",
    "n2=int(input(\"your 2nd number: \"))\n",
    "if n1%n2==0:\n",
    "    print(\"{} is divisible by {}\".format(n1,n2))\n",
    "elif n2%n1==0:\n",
    "    print(\"{} is divisible by {}\".format(n2,n1))\n",
    "else:\n",
    "    print(\"{} and {} are not divisible by each other\".format(n1,n2))"
   ]
  },
  {
   "cell_type": "markdown",
   "metadata": {
    "ExecuteTime": {
     "end_time": "2020-04-28T05:58:04.040762Z",
     "start_time": "2020-04-28T05:58:04.036143Z"
    }
   },
   "source": [
    "# Check if number is even or odd"
   ]
  },
  {
   "cell_type": "code",
   "execution_count": 5,
   "metadata": {
    "ExecuteTime": {
     "end_time": "2020-04-28T05:58:21.656555Z",
     "start_time": "2020-04-28T05:58:20.392102Z"
    }
   },
   "outputs": [
    {
     "name": "stdout",
     "output_type": "stream",
     "text": [
      "your number:3\n",
      "odd\n"
     ]
    }
   ],
   "source": [
    "n=int(input(\"your number: \"))\n",
    "if n%2==0:\n",
    "    print(\"Even\")\n",
    "else:\n",
    "    print(\"odd\")"
   ]
  },
  {
   "cell_type": "markdown",
   "metadata": {
    "ExecuteTime": {
     "end_time": "2020-04-28T05:58:43.383593Z",
     "start_time": "2020-04-28T05:58:43.376548Z"
    }
   },
   "source": [
    "# Check whether Entered character is Vowel or not"
   ]
  },
  {
   "cell_type": "code",
   "execution_count": 7,
   "metadata": {
    "ExecuteTime": {
     "end_time": "2020-04-28T05:59:11.169281Z",
     "start_time": "2020-04-28T05:59:08.999701Z"
    }
   },
   "outputs": [
    {
     "name": "stdout",
     "output_type": "stream",
     "text": [
      "your choosen charecter:e\n",
      "Vowel\n"
     ]
    }
   ],
   "source": [
    "vo= ['a','e','i','o','u']\n",
    "n=input(\"your choosen charecter:\").lower()\n",
    "if n in vo:\n",
    "    print(\"Vowel\")\n",
    "else:\n",
    "    print(\"Consonant\")"
   ]
  },
  {
   "cell_type": "markdown",
   "metadata": {},
   "source": [
    "# calculate  Sum of n positive Integer\n",
    "example:\n",
    "Sum of n positive Integer till 2 is 3"
   ]
  },
  {
   "cell_type": "code",
   "execution_count": 9,
   "metadata": {
    "ExecuteTime": {
     "end_time": "2020-04-28T06:00:58.494542Z",
     "start_time": "2020-04-28T06:00:56.953140Z"
    }
   },
   "outputs": [
    {
     "name": "stdout",
     "output_type": "stream",
     "text": [
      "Choose a number:2\n",
      "3\n"
     ]
    }
   ],
   "source": [
    "n=int(input(\"Choose a number: \"))\n",
    "su=0\n",
    "for i in range(n+1):\n",
    "    su=su+i\n",
    "print(su)\n"
   ]
  },
  {
   "cell_type": "markdown",
   "metadata": {},
   "source": [
    "# calculate thte Digit Sum of a number"
   ]
  },
  {
   "cell_type": "code",
   "execution_count": 10,
   "metadata": {
    "ExecuteTime": {
     "end_time": "2020-04-28T06:01:37.762000Z",
     "start_time": "2020-04-28T06:01:35.357188Z"
    }
   },
   "outputs": [
    {
     "name": "stdout",
     "output_type": "stream",
     "text": [
      "123\n",
      "6\n"
     ]
    }
   ],
   "source": [
    "n=input()\n",
    "s=0\n",
    "for i in n:\n",
    "    s=s+int(i)\n",
    "print(s)"
   ]
  },
  {
   "cell_type": "markdown",
   "metadata": {},
   "source": [
    "# Count Numbers, Alphabets, and Special Character from user input string"
   ]
  },
  {
   "cell_type": "code",
   "execution_count": 11,
   "metadata": {
    "ExecuteTime": {
     "end_time": "2020-04-28T06:02:18.952439Z",
     "start_time": "2020-04-28T06:02:11.219467Z"
    }
   },
   "outputs": [
    {
     "name": "stdout",
     "output_type": "stream",
     "text": [
      "ehhgg566%^&\n",
      "number of numbers :3\n",
      "number of alphabet :5\n",
      "number of symbols :3\n"
     ]
    }
   ],
   "source": [
    "n=input()\n",
    "d=[]\n",
    "a=[]\n",
    "s=[]\n",
    "for i in range(len(n)):\n",
    "    if (n[i].isdigit()):\n",
    "        d.append(n[i])\n",
    "    elif (n[i].isalpha()):\n",
    "        a.append(n[i])\n",
    "    else:\n",
    "        s.append(n[i])\n",
    "print(\"number of numbers :\" + str(len(d)))\n",
    "print(\"number of alphabet :\" + str(len(a)))\n",
    "print(\"number of symbols :\" + str(len(s)))"
   ]
  },
  {
   "cell_type": "markdown",
   "metadata": {},
   "source": [
    "# constuct the given pattern\n",
    "```\n",
    "* \n",
    "* * \n",
    "* * * \n",
    "* * * * \n",
    "* * * * * \n",
    "* * * * \n",
    "* * * \n",
    "* * \n",
    "* \n",
    "```"
   ]
  },
  {
   "cell_type": "code",
   "execution_count": 12,
   "metadata": {
    "ExecuteTime": {
     "end_time": "2020-04-28T06:03:03.280557Z",
     "start_time": "2020-04-28T06:03:03.267625Z"
    }
   },
   "outputs": [
    {
     "name": "stdout",
     "output_type": "stream",
     "text": [
      "*\n",
      "**\n",
      "***\n",
      "****\n",
      "*****\n",
      "****\n",
      "***\n",
      "**\n",
      "*\n",
      "\n"
     ]
    }
   ],
   "source": [
    "s=\"\"\n",
    "for r in range(9):\n",
    "    for c in range(5):\n",
    "        if c==0 and (r>=0 and r<9):\n",
    "            s = s + \"*\"\n",
    "        if c==1 and (r>0 and r<8):\n",
    "            s = s + \"*\"\n",
    "        if c==2 and (r>1 and r<7):\n",
    "            s = s + \"*\"\n",
    "        if c==3 and (r>2 and r<6):\n",
    "            s = s + \"*\"\n",
    "        if c==3 and (r>3 and r<5):\n",
    "            s = s + \"*\"\n",
    "        else: \n",
    "            s =s + \"\"\n",
    "    s=s+\"\\n\"\n",
    "print(s)"
   ]
  },
  {
   "cell_type": "markdown",
   "metadata": {},
   "source": [
    "# Count number of characters in a string\n",
    "\n",
    "hello eg : {'h': 1, 'e': 1, 'l': 2, 'o': 1}"
   ]
  },
  {
   "cell_type": "code",
   "execution_count": 13,
   "metadata": {
    "ExecuteTime": {
     "end_time": "2020-04-28T06:05:16.780636Z",
     "start_time": "2020-04-28T06:05:16.764562Z"
    }
   },
   "outputs": [
    {
     "name": "stdout",
     "output_type": "stream",
     "text": [
      "{'h': 1, 'e': 1, 'l': 2, 'o': 1}\n"
     ]
    }
   ],
   "source": [
    "n=\"hello\"\n",
    "d={}\n",
    "l=[]\n",
    "ooc=1\n",
    "for i in n:\n",
    "    if i in l:\n",
    "        ooc=ooc+1\n",
    "    else:\n",
    "        ooc=1\n",
    "    l.append(i)\n",
    "    d[str(i)]=ooc\n",
    "print(d)"
   ]
  },
  {
   "cell_type": "markdown",
   "metadata": {},
   "source": [
    "# write a program to compute 5/0 using try except"
   ]
  },
  {
   "cell_type": "code",
   "execution_count": 14,
   "metadata": {
    "ExecuteTime": {
     "end_time": "2020-04-28T06:05:54.592978Z",
     "start_time": "2020-04-28T06:05:54.588373Z"
    }
   },
   "outputs": [
    {
     "name": "stdout",
     "output_type": "stream",
     "text": [
      "It's not possible to divide by zero\n"
     ]
    }
   ],
   "source": [
    "try:\n",
    "    print(5/0)\n",
    "except ZeroDivisionError:\n",
    "   print (\"It's not possible to divide by zero\")"
   ]
  },
  {
   "cell_type": "markdown",
   "metadata": {},
   "source": [
    "# Handle the exception thrown by the code below by using try and except blocks."
   ]
  },
  {
   "cell_type": "markdown",
   "metadata": {},
   "source": [
    "li=[\"hello\",\"class\"]\n",
    "for i in li:\n",
    "    print (i**2)"
   ]
  },
  {
   "cell_type": "code",
   "execution_count": 15,
   "metadata": {
    "ExecuteTime": {
     "end_time": "2020-04-28T06:06:50.715498Z",
     "start_time": "2020-04-28T06:06:50.709045Z"
    }
   },
   "outputs": [
    {
     "name": "stdout",
     "output_type": "stream",
     "text": [
      "We have a Type realted problem\n"
     ]
    }
   ],
   "source": [
    "try:\n",
    "    li=[\"hello\",\"class\"]\n",
    "    for i in li:\n",
    "        print (i**2)\n",
    "except TypeError:\n",
    "   print (\"We have a Type realted problem\")"
   ]
  },
  {
   "cell_type": "markdown",
   "metadata": {},
   "source": [
    "# Write a function that asks for an integer and prints the square of it. Use a while loop with a try,except, else block to account for incorrect inputs.\n",
    "example: Input an integer: null\n",
    "\n",
    "An error occurred! Please try again!\n",
    "\n",
    "Input an integer: 2\n",
    "\n",
    "Thank you, you number squared is:  4"
   ]
  },
  {
   "cell_type": "code",
   "execution_count": 16,
   "metadata": {
    "ExecuteTime": {
     "end_time": "2020-04-28T06:07:36.811838Z",
     "start_time": "2020-04-28T06:07:36.808678Z"
    }
   },
   "outputs": [],
   "source": [
    "def fun():\n",
    "    while True:\n",
    "        try:\n",
    "            n=int(input(\"type number: \"))\n",
    "        except:\n",
    "            print(\"An error occurred! Please try again!\")\n",
    "            continue\n",
    "        else:\n",
    "            print(\"Thank you, you number squared is \"+ str(n**2))\n",
    "            break\n",
    "        print(n)"
   ]
  },
  {
   "cell_type": "code",
   "execution_count": 17,
   "metadata": {
    "ExecuteTime": {
     "end_time": "2020-04-28T06:07:44.917575Z",
     "start_time": "2020-04-28T06:07:41.379341Z"
    }
   },
   "outputs": [
    {
     "name": "stdout",
     "output_type": "stream",
     "text": [
      "type number:r\n",
      "An error occurred! Please try again!\n",
      "type number:3\n",
      "Thank you, you number squared is 9\n"
     ]
    }
   ],
   "source": [
    "fun()"
   ]
  },
  {
   "cell_type": "markdown",
   "metadata": {},
   "source": [
    "# Accept the String and print the words composed of digits only"
   ]
  },
  {
   "cell_type": "code",
   "execution_count": 18,
   "metadata": {
    "ExecuteTime": {
     "end_time": "2020-04-28T06:08:30.236120Z",
     "start_time": "2020-04-28T06:08:23.941322Z"
    }
   },
   "outputs": [
    {
     "name": "stdout",
     "output_type": "stream",
     "text": [
      "tt56\n",
      "56\n"
     ]
    }
   ],
   "source": [
    "n=input()\n",
    "d=\"\"\n",
    "\n",
    "for i in range(len(n)):\n",
    "    if (n[i].isdigit()):\n",
    "        d=d+(n[i])\n",
    "print(d)"
   ]
  },
  {
   "cell_type": "markdown",
   "metadata": {},
   "source": [
    "# find the parity outlier from the given sequence use list comprehension\n",
    "\n",
    "seq=[1,2,3,5,7]"
   ]
  },
  {
   "cell_type": "code",
   "execution_count": 21,
   "metadata": {
    "ExecuteTime": {
     "end_time": "2020-04-28T06:10:25.373453Z",
     "start_time": "2020-04-28T06:10:25.367094Z"
    }
   },
   "outputs": [
    {
     "name": "stdout",
     "output_type": "stream",
     "text": [
      "in the given list the parity outlier is: 2\n"
     ]
    }
   ],
   "source": [
    "seq=[1,2,3,5,7]\n",
    "outlier=[i for i in seq if i%2==0]\n",
    "print(\"in the given list the parity outlier is: \"+ str(outlier[0]))"
   ]
  },
  {
   "cell_type": "markdown",
   "metadata": {},
   "source": [
    "# get the complement \n",
    "where:\n",
    "- A ->> T\n",
    "- T -->> A\n",
    "- C --> G\n",
    "- G --> C\n",
    "\n",
    "for the given DNA\n",
    "dna=\"ATTGC\""
   ]
  },
  {
   "cell_type": "code",
   "execution_count": 22,
   "metadata": {
    "ExecuteTime": {
     "end_time": "2020-04-28T06:11:08.798798Z",
     "start_time": "2020-04-28T06:11:08.789752Z"
    }
   },
   "outputs": [
    {
     "name": "stdout",
     "output_type": "stream",
     "text": [
      "TAACG\n"
     ]
    }
   ],
   "source": [
    "dna=\"ATTGC\"\n",
    "for i in dna:\n",
    "    if i=='A':\n",
    "        dna=dna.replace('A','t')\n",
    "    if i=='T':\n",
    "        dna=dna.replace('T','a')\n",
    "    if i=='G':\n",
    "        dna=dna.replace('G','c')\n",
    "    if i=='C':\n",
    "        dna=dna.replace('C','g')\n",
    "print(dna.upper())"
   ]
  },
  {
   "cell_type": "markdown",
   "metadata": {},
   "source": [
    "# Write a program that inputs a number from the user and displays the factorial of that number using while loop."
   ]
  },
  {
   "cell_type": "code",
   "execution_count": 23,
   "metadata": {
    "ExecuteTime": {
     "end_time": "2020-04-28T06:11:47.593678Z",
     "start_time": "2020-04-28T06:11:42.514714Z"
    }
   },
   "outputs": [
    {
     "name": "stdout",
     "output_type": "stream",
     "text": [
      "4\n"
     ]
    },
    {
     "data": {
      "text/plain": [
       "24"
      ]
     },
     "execution_count": 23,
     "metadata": {},
     "output_type": "execute_result"
    }
   ],
   "source": [
    "n=int(input())\n",
    "k=1\n",
    "i=1\n",
    "while i<=n:\n",
    "    k=k*i\n",
    "    i=i+1\n",
    "k"
   ]
  },
  {
   "cell_type": "markdown",
   "metadata": {},
   "source": [
    "# Ask the user for a number,to pick the color from the list print the color.\n",
    "\n",
    "color= Blue, Green, Orange, Red"
   ]
  },
  {
   "cell_type": "code",
   "execution_count": 24,
   "metadata": {
    "ExecuteTime": {
     "end_time": "2020-04-28T06:12:21.644513Z",
     "start_time": "2020-04-28T06:12:19.494898Z"
    }
   },
   "outputs": [
    {
     "name": "stdout",
     "output_type": "stream",
     "text": [
      "choose a number between 1 to 4:4\n",
      "Red\n"
     ]
    }
   ],
   "source": [
    "num=int(input(\"choose a number between 1 to 4: \"))\n",
    "if num==1:\n",
    "    print(\"Blue\")\n",
    "if num==2:\n",
    "    print(\"Green\")\n",
    "if num==3:\n",
    "    print(\"Orange\")\n",
    "if num==4:\n",
    "    print(\"Red\")"
   ]
  },
  {
   "cell_type": "markdown",
   "metadata": {},
   "source": [
    "#  Write a program that computes the value of a+aa+aaa+aaaa with a given digit as the value of a."
   ]
  },
  {
   "cell_type": "code",
   "execution_count": 25,
   "metadata": {
    "ExecuteTime": {
     "end_time": "2020-04-28T06:13:10.811376Z",
     "start_time": "2020-04-28T06:13:07.612735Z"
    }
   },
   "outputs": [
    {
     "name": "stdout",
     "output_type": "stream",
     "text": [
      "Enter a number:3\n",
      "3702\n"
     ]
    }
   ],
   "source": [
    "#a=int(input(\"Enter a number:\"))\n",
    "#n=(a+ ((a*10)+a) + ((a*100)+(a*10)+a)+ ((a*1000)+(a*100)+(a*10)+a))\n",
    "#print(n)"
   ]
  },
  {
   "cell_type": "code",
   "execution_count": 13,
   "metadata": {
    "ExecuteTime": {
     "end_time": "2020-04-28T06:45:15.415620Z",
     "start_time": "2020-04-28T06:45:13.748017Z"
    }
   },
   "outputs": [
    {
     "name": "stdout",
     "output_type": "stream",
     "text": [
      "3\n",
      "369\n"
     ]
    }
   ],
   "source": [
    "n=int(input())\n",
    "s_n = str(n)\n",
    "total = n \n",
    "s_total = str(n)\n",
    "for i in range(1,n):\n",
    "    s_total+= s_n\n",
    "    total+=int(s_total)\n",
    "print(total)"
   ]
  },
  {
   "cell_type": "markdown",
   "metadata": {},
   "source": [
    "# Write a program that calculates and prints the value according to the given formula:\n",
    "Q = Square root of [(2 * C * D)/H]\n",
    "\n",
    " given,\n",
    "- c=50\n",
    "-  h=30\n",
    "- D is the variable whose values should be input to your program in a comma-separated sequence.\n",
    "\n",
    "Example\n",
    "100,150,180\n",
    "\n",
    "The output :\n",
    "18,22,24"
   ]
  },
  {
   "cell_type": "code",
   "execution_count": 26,
   "metadata": {
    "ExecuteTime": {
     "end_time": "2020-04-28T06:14:03.751988Z",
     "start_time": "2020-04-28T06:13:58.761975Z"
    }
   },
   "outputs": [
    {
     "name": "stdout",
     "output_type": "stream",
     "text": [
      "100,150,180\n",
      "18 22 24 "
     ]
    }
   ],
   "source": [
    "import math\n",
    "D=input().split(\",\")\n",
    "D=D\n",
    "\n",
    "#print(D)\n",
    "C=50\n",
    "H=30\n",
    "\n",
    "for i in D:\n",
    "    k=math.sqrt((2*C*int(i)/H))\n",
    "    print(int(k), end =\" \")"
   ]
  },
  {
   "cell_type": "markdown",
   "metadata": {},
   "source": [
    "# Write a program that accepts a sequence of whitespace separated words as input and prints the words after removing all duplicate words and sorting them alphanumerically."
   ]
  },
  {
   "cell_type": "code",
   "execution_count": 27,
   "metadata": {
    "ExecuteTime": {
     "end_time": "2020-04-28T06:14:46.866365Z",
     "start_time": "2020-04-28T06:14:34.441701Z"
    }
   },
   "outputs": [
    {
     "name": "stdout",
     "output_type": "stream",
     "text": [
      "i am am shah shhh\n"
     ]
    },
    {
     "data": {
      "text/plain": [
       "'am i shah shhh'"
      ]
     },
     "execution_count": 27,
     "metadata": {},
     "output_type": "execute_result"
    }
   ],
   "source": [
    "n=input()\n",
    "n=n.split(\" \")\n",
    "n=set(n)\n",
    "n=list(n)\n",
    "n=sorted(n)\n",
    "s=\" \"\n",
    "s.join(n)"
   ]
  },
  {
   "cell_type": "markdown",
   "metadata": {},
   "source": [
    "# Write a program which accepts a sequence of comma separated 4 digit binary numbers  and then check whether they are divisible by 5 or not. print the number \n",
    "Example:\n",
    "0100,0011,1010,1001\n",
    "Then the output should be:\n",
    "1010"
   ]
  },
  {
   "cell_type": "code",
   "execution_count": 1,
   "metadata": {
    "ExecuteTime": {
     "end_time": "2020-04-28T06:26:48.511282Z",
     "start_time": "2020-04-28T06:26:38.434766Z"
    }
   },
   "outputs": [
    {
     "name": "stdout",
     "output_type": "stream",
     "text": [
      "0100,0011,1010,1001\n",
      "<class 'list'>\n",
      "The number that is divisible by 5 is: 1010\n"
     ]
    }
   ],
   "source": [
    "n=input()\n",
    "n=n.split(\",\")\n",
    "\n",
    "print(type(n))\n",
    "for i in n:\n",
    "    if int(i,2)%5==0:\n",
    "        print(\"The number that is divisible by 5 is: \"+ str(i))"
   ]
  },
  {
   "cell_type": "markdown",
   "metadata": {},
   "source": [
    "# By using list comprehension, please write a program to print the list after removing the even index numbers\n",
    "\n",
    "li=range(10)"
   ]
  },
  {
   "cell_type": "code",
   "execution_count": 1,
   "metadata": {
    "ExecuteTime": {
     "end_time": "2020-04-28T06:21:35.130282Z",
     "start_time": "2020-04-28T06:21:35.125731Z"
    }
   },
   "outputs": [
    {
     "name": "stdout",
     "output_type": "stream",
     "text": [
      "[0, 2, 4, 6, 8]\n"
     ]
    }
   ],
   "source": [
    "#As all the odd number occupy the even index number, i removed the odd numbers.\n",
    "li=range(10)\n",
    "k=[i for i in li if i%2==0]\n",
    "print(k)"
   ]
  },
  {
   "cell_type": "code",
   "execution_count": null,
   "metadata": {},
   "outputs": [],
   "source": []
  }
 ],
 "metadata": {
  "kernelspec": {
   "display_name": "Python 3",
   "language": "python",
   "name": "python3"
  },
  "language_info": {
   "codemirror_mode": {
    "name": "ipython",
    "version": 3
   },
   "file_extension": ".py",
   "mimetype": "text/x-python",
   "name": "python",
   "nbconvert_exporter": "python",
   "pygments_lexer": "ipython3",
   "version": "3.7.4"
  },
  "varInspector": {
   "cols": {
    "lenName": 16,
    "lenType": 16,
    "lenVar": 40
   },
   "kernels_config": {
    "python": {
     "delete_cmd_postfix": "",
     "delete_cmd_prefix": "del ",
     "library": "var_list.py",
     "varRefreshCmd": "print(var_dic_list())"
    },
    "r": {
     "delete_cmd_postfix": ") ",
     "delete_cmd_prefix": "rm(",
     "library": "var_list.r",
     "varRefreshCmd": "cat(var_dic_list()) "
    }
   },
   "types_to_exclude": [
    "module",
    "function",
    "builtin_function_or_method",
    "instance",
    "_Feature"
   ],
   "window_display": false
  }
 },
 "nbformat": 4,
 "nbformat_minor": 4
}
