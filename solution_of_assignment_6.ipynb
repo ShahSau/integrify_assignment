{
 "cells": [
  {
   "cell_type": "code",
   "execution_count": 1,
   "metadata": {
    "ExecuteTime": {
     "end_time": "2020-04-29T11:55:11.555506Z",
     "start_time": "2020-04-29T11:55:11.536753Z"
    }
   },
   "outputs": [
    {
     "data": {
      "text/plain": [
       "7"
      ]
     },
     "execution_count": 1,
     "metadata": {},
     "output_type": "execute_result"
    }
   ],
   "source": [
    "# write a function to get the sum of two num\n",
    "fun=lambda x1,x2: x1+x2\n",
    "fun(3,4)"
   ]
  },
  {
   "cell_type": "code",
   "execution_count": 2,
   "metadata": {
    "ExecuteTime": {
     "end_time": "2020-04-29T11:55:30.206748Z",
     "start_time": "2020-04-29T11:55:30.201158Z"
    }
   },
   "outputs": [
    {
     "name": "stdout",
     "output_type": "stream",
     "text": [
      "not leap year\n"
     ]
    }
   ],
   "source": [
    "# write a function to print if leap year or not\n",
    "def year(l):\n",
    "    if int(l)%4==0:\n",
    "        print(\"leap year\")\n",
    "    else:\n",
    "        print(\"not leap year\")\n",
    "\n",
    "year(2025)"
   ]
  },
  {
   "cell_type": "code",
   "execution_count": 3,
   "metadata": {
    "ExecuteTime": {
     "end_time": "2020-04-29T11:55:57.951769Z",
     "start_time": "2020-04-29T11:55:55.065204Z"
    }
   },
   "outputs": [
    {
     "name": "stdout",
     "output_type": "stream",
     "text": [
      "25\n",
      "['1', '1', '0', '0', '1']\n"
     ]
    },
    {
     "data": {
      "text/plain": [
       "3"
      ]
     },
     "execution_count": 3,
     "metadata": {},
     "output_type": "execute_result"
    }
   ],
   "source": [
    "# write a function to count a bit(number of 1) in number\n",
    "n=int(input())\n",
    "n=bin(n)[2:]\n",
    "\n",
    "n=list(n)\n",
    "print(n)\n",
    "def counter(l):\n",
    "    k=''\n",
    "    for i in l:\n",
    "        if int(i) ==1:\n",
    "            k=k+i\n",
    "    return len(k)\n",
    "counter(n)"
   ]
  },
  {
   "cell_type": "code",
   "execution_count": 4,
   "metadata": {
    "ExecuteTime": {
     "end_time": "2020-04-29T11:56:24.012475Z",
     "start_time": "2020-04-29T11:56:23.983677Z"
    }
   },
   "outputs": [
    {
     "data": {
      "text/plain": [
       "12.56"
      ]
     },
     "execution_count": 4,
     "metadata": {},
     "output_type": "execute_result"
    }
   ],
   "source": [
    "# write a program to get the area of a circle from the radius\n",
    "def cir(r):\n",
    "    return 3.14*r**2\n",
    "cir(2)"
   ]
  },
  {
   "cell_type": "code",
   "execution_count": 5,
   "metadata": {
    "ExecuteTime": {
     "end_time": "2020-04-29T11:56:45.094520Z",
     "start_time": "2020-04-29T11:56:45.062213Z"
    }
   },
   "outputs": [
    {
     "data": {
      "text/plain": [
       "120"
      ]
     },
     "execution_count": 5,
     "metadata": {},
     "output_type": "execute_result"
    }
   ],
   "source": [
    "# write a function to get the factorial of given number use recurssion\n",
    "def fac(n):\n",
    "    if n==1:\n",
    "        return 1\n",
    "    else:\n",
    "        return n * fac(n-1)\n",
    "\n",
    "fac(5)"
   ]
  },
  {
   "cell_type": "code",
   "execution_count": 7,
   "metadata": {
    "ExecuteTime": {
     "end_time": "2020-04-29T11:57:17.962425Z",
     "start_time": "2020-04-29T11:57:17.955645Z"
    }
   },
   "outputs": [
    {
     "data": {
      "text/plain": [
       "['me', 'u', 'i', 'myself']"
      ]
     },
     "execution_count": 7,
     "metadata": {},
     "output_type": "execute_result"
    }
   ],
   "source": [
    "# write a program to remove a duplicate word in al list\n",
    "m=['i','i','me','myself','u','u']\n",
    "def rem(n):\n",
    "    n=set(n)\n",
    "    n=list(n)\n",
    "    return n\n",
    "rem(m)"
   ]
  },
  {
   "cell_type": "code",
   "execution_count": 8,
   "metadata": {
    "ExecuteTime": {
     "end_time": "2020-04-29T11:58:43.161112Z",
     "start_time": "2020-04-29T11:58:43.150509Z"
    }
   },
   "outputs": [
    {
     "data": {
      "text/plain": [
       "89"
      ]
     },
     "execution_count": 8,
     "metadata": {},
     "output_type": "execute_result"
    }
   ],
   "source": [
    "# calculate fibonacci\n",
    "\n",
    "def fib(n):\n",
    "    if n==0:\n",
    "        return 1\n",
    "    if n==2:\n",
    "        return 1\n",
    "    if n==3:\n",
    "        return 2\n",
    "    else:\n",
    "        return fib(n-1)+fib(n-2)\n",
    "fib(11)"
   ]
  },
  {
   "cell_type": "code",
   "execution_count": 12,
   "metadata": {
    "ExecuteTime": {
     "end_time": "2020-04-29T12:00:33.652697Z",
     "start_time": "2020-04-29T12:00:33.600188Z"
    }
   },
   "outputs": [
    {
     "data": {
      "text/plain": [
       "(2.3650087665373902e+33, 2104098963720.0)"
      ]
     },
     "execution_count": 12,
     "metadata": {},
     "output_type": "execute_result"
    }
   ],
   "source": [
    "# write a function to get the premutationa and combination \n",
    "def p(n):\n",
    "    if n==1:\n",
    "        return 1\n",
    "    else:\n",
    "        return n* p(n-1)\n",
    "def per_and_com(n,r):\n",
    "            if n==1 and r==1:\n",
    "                return 1\n",
    "            else:\n",
    "                return (n/(n-r)) * (p(n-1)/p(n-r-1)), (n/(r*(n-r))) * (p(n-1)/(p(r-1)*p(n-r-1)))\n",
    "\n",
    "per_and_com(44,22)"
   ]
  },
  {
   "cell_type": "code",
   "execution_count": 13,
   "metadata": {
    "ExecuteTime": {
     "end_time": "2020-04-29T12:01:00.535144Z",
     "start_time": "2020-04-29T12:01:00.469394Z"
    }
   },
   "outputs": [
    {
     "name": "stdout",
     "output_type": "stream",
     "text": [
      "                * \r\n",
      "               * * \r\n",
      "              * * * \r\n",
      "             * * * * \r\n",
      "            * * * * * \r\n",
      "           * * * * * * \r\n",
      "          * * * * * * * \r\n",
      "         * * * * * * * * \r\n",
      "        * * * * * * * * * \r\n",
      "       * * * * * * * * * * \r\n",
      "        * * * * * * * * * \r\n",
      "         * * * * * * * * \r\n",
      "          * * * * * * * \r\n",
      "           * * * * * * \r\n",
      "            * * * * * \r\n",
      "             * * * * \r\n",
      "              * * * \r\n",
      "               * * \r\n",
      "                * \r\n"
     ]
    }
   ],
   "source": [
    "# write a function to draw a diamond shape from a user given number:\n",
    " #- hint: only odd number can draw a diamond shape\n",
    "def diamond(n):\n",
    "    m = 2 * n - 2\n",
    "    for i in range(0, n):\n",
    "        for j in range(0 , m):\n",
    "                print(end=\" \")\n",
    "        m = m - 1\n",
    "        for j in range(0 , i + 1 ):\n",
    "            print(\"* \", end=\"\")\n",
    "        print(\"\\r\")\n",
    "    m = n - 2\n",
    "    for i in range(n , -1, -1):\n",
    "        for j in range(m , 0 , -1): \n",
    "            print(end=\" \")\n",
    "        m = m + 1\n",
    "        for j in range(0 , i + 1):\n",
    "            print(\"* \", end=\"\")\n",
    "        print(\"\\r\")\n",
    "\n",
    "diamond(9)"
   ]
  },
  {
   "cell_type": "code",
   "execution_count": 14,
   "metadata": {
    "ExecuteTime": {
     "end_time": "2020-04-29T12:01:32.053282Z",
     "start_time": "2020-04-29T12:01:32.041615Z"
    }
   },
   "outputs": [
    {
     "data": {
      "text/plain": [
       "72"
      ]
     },
     "execution_count": 14,
     "metadata": {},
     "output_type": "execute_result"
    }
   ],
   "source": [
    "# build a simple calculator which can:\n",
    "#- add\n",
    "#- subtract\n",
    "#- multiply\n",
    "#- divide\n",
    "def cal(x1,x2,l):\n",
    "    if l=='add':\n",
    "        return x1+x2\n",
    "    if l=='subtract':\n",
    "        return x1-x2\n",
    "    if l=='multiply':\n",
    "        return x1*x2\n",
    "    if l=='divide':\n",
    "        return x1/x2\n",
    "\n",
    "cal(9,8,'multiply')"
   ]
  },
  {
   "cell_type": "code",
   "execution_count": 16,
   "metadata": {
    "ExecuteTime": {
     "end_time": "2020-04-29T12:02:03.009468Z",
     "start_time": "2020-04-29T12:02:02.999951Z"
    }
   },
   "outputs": [
    {
     "name": "stdout",
     "output_type": "stream",
     "text": [
      "bcda\n",
      "cdab\n",
      "dabc\n",
      "abcd\n"
     ]
    }
   ],
   "source": [
    "# define a function which can print a given string in a circular rotation\n",
    "Q='abcd'\n",
    "def pp(p):\n",
    "    for i in p:\n",
    "        k=p.replace(i,'')\n",
    "        p=k+i\n",
    "        print (p)\n",
    "pp(Q)"
   ]
  },
  {
   "cell_type": "code",
   "execution_count": 17,
   "metadata": {
    "ExecuteTime": {
     "end_time": "2020-04-29T12:02:32.271271Z",
     "start_time": "2020-04-29T12:02:32.260252Z"
    }
   },
   "outputs": [
    {
     "data": {
      "text/plain": [
       "12"
      ]
     },
     "execution_count": 17,
     "metadata": {},
     "output_type": "execute_result"
    }
   ],
   "source": [
    "# write a function to calculate the GCD of 2 number\n",
    "def twoo(n,n2):\n",
    "    f=[]\n",
    "    s=[]\n",
    "    t=[]\n",
    "    for i in range(1,n+1):\n",
    "        if n%i==0:\n",
    "            f.append(i)\n",
    "    for i in range(1,n2+1):\n",
    "        if n2%i==0:\n",
    "            s.append(i)\n",
    "    for i in f:\n",
    "        if i in s:\n",
    "            t.append(i)\n",
    "    k=max(t)\n",
    "    return k\n",
    "twoo(24,36)"
   ]
  },
  {
   "cell_type": "code",
   "execution_count": 18,
   "metadata": {
    "ExecuteTime": {
     "end_time": "2020-04-29T12:02:54.227486Z",
     "start_time": "2020-04-29T12:02:54.205752Z"
    }
   },
   "outputs": [
    {
     "name": "stdout",
     "output_type": "stream",
     "text": [
      "True\n"
     ]
    }
   ],
   "source": [
    "# Write a Python function to check whether a string is pangram or not.\n",
    "s0='The quick brown fox jumps over the lazy dog'\n",
    "li=['a','b','c','d','e','f','g','h','i','j','k','l','m','n','o','p','q','r','s','t','u','v','w','x','y','z']\n",
    "def pan(s1):\n",
    "    p=all(i in s1 for i in li)\n",
    "    print(p)\n",
    "\n",
    "pan(s0)\n"
   ]
  },
  {
   "cell_type": "code",
   "execution_count": 19,
   "metadata": {
    "ExecuteTime": {
     "end_time": "2020-04-29T12:03:27.610535Z",
     "start_time": "2020-04-29T12:03:27.598863Z"
    }
   },
   "outputs": [
    {
     "data": {
      "text/plain": [
       "4"
      ]
     },
     "execution_count": 19,
     "metadata": {},
     "output_type": "execute_result"
    }
   ],
   "source": [
    "# write a function which take a list of number and target where target is number . print the index from the list where the sum of the index value is equal to that of the target\n",
    "su=[1,2,3,4,5,6,7,8]\n",
    "n=10\n",
    "\n",
    "def tar(lst,n):\n",
    "    sks=0\n",
    "    for i in lst:\n",
    "        sks=sks+i\n",
    "        if sks>=n:\n",
    "            break\n",
    "    return i\n",
    "tar(su,n)"
   ]
  },
  {
   "cell_type": "code",
   "execution_count": 20,
   "metadata": {
    "ExecuteTime": {
     "end_time": "2020-04-29T12:04:05.895810Z",
     "start_time": "2020-04-29T12:04:05.874476Z"
    }
   },
   "outputs": [
    {
     "data": {
      "text/plain": [
       "378"
      ]
     },
     "execution_count": 20,
     "metadata": {},
     "output_type": "execute_result"
    }
   ],
   "source": [
    "# write a function to calculate the LCM of a 2 number\n",
    "def onn(n1,n2):\n",
    "    f1=[]\n",
    "    s1=[]\n",
    "    t1=[]\n",
    "    for i in range(1,n1*10):\n",
    "        f1.append(n1*i)\n",
    "    for i in range(1,n2*10):\n",
    "        s1.append(n2*i)\n",
    "    for i in f1:\n",
    "        if i in s1:\n",
    "            t1.append(i)\n",
    "    lcm=min(t1)\n",
    "    return lcm\n",
    "onn(42,54)"
   ]
  },
  {
   "cell_type": "code",
   "execution_count": 21,
   "metadata": {
    "ExecuteTime": {
     "end_time": "2020-04-29T12:04:35.454228Z",
     "start_time": "2020-04-29T12:04:35.435658Z"
    }
   },
   "outputs": [
    {
     "data": {
      "text/plain": [
       "[1, 3, 37]"
      ]
     },
     "execution_count": 21,
     "metadata": {},
     "output_type": "execute_result"
    }
   ],
   "source": [
    "# write a function that gives the prime factor only\n",
    "np=111\n",
    "def prime(n):\n",
    "    lp=[]\n",
    "    sp=[]\n",
    "    if n%2==0:\n",
    "        return 2\n",
    "    if n%2!=0:\n",
    "        for i in range(1,n+1):\n",
    "            if n%i==0:\n",
    "                lp.append(i)\n",
    "        for i in lp:\n",
    "            \n",
    "            if i>1:\n",
    "                for j in range(2,i):\n",
    "                    if i%j==0:\n",
    "                        sp.append(i)\n",
    "        \n",
    "        sp=set(sp)\n",
    "        \n",
    "        lp=set(lp)\n",
    "       # return sp\n",
    "        s=lp.difference(sp)\n",
    "        return list(s)\n",
    "        \n",
    "        \n",
    "                \n",
    "prime(np)"
   ]
  },
  {
   "cell_type": "code",
   "execution_count": 22,
   "metadata": {
    "ExecuteTime": {
     "end_time": "2020-04-29T12:05:16.545808Z",
     "start_time": "2020-04-29T12:05:16.536312Z"
    }
   },
   "outputs": [
    {
     "data": {
      "text/plain": [
       "'Q'"
      ]
     },
     "execution_count": 22,
     "metadata": {},
     "output_type": "execute_result"
    }
   ],
   "source": [
    "# write a function that print the first non repeating letter\n",
    "s2='QSTKSSKP'\n",
    "def lett(s):\n",
    "    dic={}\n",
    "    d={}\n",
    "    for i in s:\n",
    "        if i in dic:\n",
    "            dic[i]=dic[i]+1\n",
    "        else:\n",
    "            dic[i] = 1\n",
    "    for i in dic:\n",
    "        if dic[i]==1:\n",
    "            d[i]=1\n",
    "    sks = list(d.keys())[0]\n",
    "    return sks\n",
    "lett(s2)"
   ]
  },
  {
   "cell_type": "code",
   "execution_count": 23,
   "metadata": {
    "ExecuteTime": {
     "end_time": "2020-04-29T12:05:45.830646Z",
     "start_time": "2020-04-29T12:05:45.802318Z"
    }
   },
   "outputs": [
    {
     "data": {
      "text/plain": [
       "20"
      ]
     },
     "execution_count": 23,
     "metadata": {},
     "output_type": "execute_result"
    }
   ],
   "source": [
    "# return sum of array excluding the lowest and highest element\n",
    "ar=[1,2,3,4,5,6,7]\n",
    "def sh(arr):\n",
    "    p=max(arr)\n",
    "    arr.remove(p)\n",
    "    l=min(arr)\n",
    "    arr.remove(l)\n",
    "    su=sum(arr)\n",
    "    return su\n",
    "    #print(p)\n",
    "sh(ar)"
   ]
  },
  {
   "cell_type": "code",
   "execution_count": 24,
   "metadata": {
    "ExecuteTime": {
     "end_time": "2020-04-29T12:08:41.757256Z",
     "start_time": "2020-04-29T12:08:41.742736Z"
    }
   },
   "outputs": [
    {
     "data": {
      "text/plain": [
       "3"
      ]
     },
     "execution_count": 24,
     "metadata": {},
     "output_type": "execute_result"
    }
   ],
   "source": [
    "# write a function to get a day of week eg: (30,8,2010)=1\n",
    "s1=(30,8,2010)\n",
    "s3=(19,11,2582)\n",
    "s2=(29,4,2020)\n",
    "\n",
    "def day(s):\n",
    "    m1=''\n",
    "    s=list(s)\n",
    "    s=[int(i) for i in s]\n",
    "    k=s[0]\n",
    "    m=s[1]\n",
    "    cd=str(s[2])\n",
    "    c=cd[:2]\n",
    "    c1=int(c)\n",
    "    d=cd[2:4]\n",
    "    d1=int(d)\n",
    "    if m==1:\n",
    "        m1+='11'\n",
    "        d1=d1-1\n",
    "    elif m==2:\n",
    "        m1+='12'\n",
    "        d1=d1-1\n",
    "    else:\n",
    "        m1+=str(m-2)\n",
    "        d1=d1\n",
    "    m1=int((13*int(m1)-1)/5)\n",
    "    d2=int(d1/4)+d1\n",
    "    c2=int(c1/4)-2*c1\n",
    "    f=k+m1+d2+c2\n",
    "    f1=f%7\n",
    "    return f1\n",
    "day(s2)"
   ]
  },
  {
   "cell_type": "code",
   "execution_count": 25,
   "metadata": {
    "ExecuteTime": {
     "end_time": "2020-04-29T12:09:23.144429Z",
     "start_time": "2020-04-29T12:09:23.140249Z"
    }
   },
   "outputs": [
    {
     "name": "stdout",
     "output_type": "stream",
     "text": [
      "5\n"
     ]
    }
   ],
   "source": [
    "# write a function to get the length of the last word only from a string seperated by space\n",
    "\n",
    "#ex:('string  of  words') == 5\n",
    "#ex:('adasd     ')=5\n",
    "s1='adasd     '\n",
    "s='string  of  words'\n",
    "#\n",
    "def le(s):\n",
    "    s=str(s)\n",
    "    s=s.split()\n",
    "    #p=len(s[-1])\n",
    "    print(len(s[-1]))\n",
    "\n",
    "le(s1)"
   ]
  },
  {
   "cell_type": "code",
   "execution_count": 26,
   "metadata": {
    "ExecuteTime": {
     "end_time": "2020-04-29T12:09:50.379663Z",
     "start_time": "2020-04-29T12:09:50.373129Z"
    }
   },
   "outputs": [
    {
     "data": {
      "text/plain": [
       "'shah'"
      ]
     },
     "execution_count": 26,
     "metadata": {},
     "output_type": "execute_result"
    }
   ],
   "source": [
    "# write a function select_word(): to get a random word from a list of words\n",
    "# - use module random and call random.randint() to chose random\n",
    "import random\n",
    "lis=[\"I\", \"am\", \"shah\",\"kar\",\"sau\"]\n",
    "def li(l):\n",
    "    ran = random.randint(1,4)\n",
    "    for i in l:\n",
    "        return l[ran]\n",
    "        #print(ran)\n",
    "li(lis)"
   ]
  },
  {
   "cell_type": "code",
   "execution_count": 27,
   "metadata": {
    "ExecuteTime": {
     "end_time": "2020-04-29T12:10:16.648062Z",
     "start_time": "2020-04-29T12:10:16.638626Z"
    }
   },
   "outputs": [
    {
     "name": "stdout",
     "output_type": "stream",
     "text": [
      "5\n",
      "a _ _ _ _\n"
     ]
    }
   ],
   "source": [
    "# write a function blank(word): where it should print _ after first letter to the range of length of word\n",
    "#- i.e apple= a _ _ _ _\n",
    "def blank(word):\n",
    "    for i in word:\n",
    "        s=''\n",
    "        s=s+word[0]\n",
    "        f=len(word)\n",
    "    print(f)\n",
    "    for j in range(f-1):\n",
    "        s=s+' '+'_'\n",
    "    print(s)\n",
    "blank('apple')"
   ]
  },
  {
   "cell_type": "code",
   "execution_count": null,
   "metadata": {},
   "outputs": [],
   "source": []
  }
 ],
 "metadata": {
  "kernelspec": {
   "display_name": "Python 3",
   "language": "python",
   "name": "python3"
  },
  "language_info": {
   "codemirror_mode": {
    "name": "ipython",
    "version": 3
   },
   "file_extension": ".py",
   "mimetype": "text/x-python",
   "name": "python",
   "nbconvert_exporter": "python",
   "pygments_lexer": "ipython3",
   "version": "3.7.4"
  },
  "varInspector": {
   "cols": {
    "lenName": 16,
    "lenType": 16,
    "lenVar": 40
   },
   "kernels_config": {
    "python": {
     "delete_cmd_postfix": "",
     "delete_cmd_prefix": "del ",
     "library": "var_list.py",
     "varRefreshCmd": "print(var_dic_list())"
    },
    "r": {
     "delete_cmd_postfix": ") ",
     "delete_cmd_prefix": "rm(",
     "library": "var_list.r",
     "varRefreshCmd": "cat(var_dic_list()) "
    }
   },
   "types_to_exclude": [
    "module",
    "function",
    "builtin_function_or_method",
    "instance",
    "_Feature"
   ],
   "window_display": false
  }
 },
 "nbformat": 4,
 "nbformat_minor": 4
}
