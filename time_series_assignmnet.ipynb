{
 "cells": [
  {
   "cell_type": "markdown",
   "metadata": {},
   "source": [
    "# getting Financial data"
   ]
  },
  {
   "cell_type": "code",
   "execution_count": 1,
   "metadata": {
    "ExecuteTime": {
     "end_time": "2020-06-02T17:08:27.600949Z",
     "start_time": "2020-06-02T17:08:27.597774Z"
    }
   },
   "outputs": [],
   "source": [
    "# install pandas_datareader to extraxt data from various Internet sources into dataframe"
   ]
  },
  {
   "cell_type": "code",
   "execution_count": 3,
   "metadata": {
    "ExecuteTime": {
     "end_time": "2020-06-02T17:09:05.062485Z",
     "start_time": "2020-06-02T17:09:05.033549Z"
    }
   },
   "outputs": [],
   "source": [
    "import pandas as pd\n",
    "\n",
    "# package to extract data from various Internet sources into a DataFrame\n",
    "# make sure you have it installed\n",
    "from pandas_datareader import data, wb\n",
    "\n",
    "# package for dates\n",
    "import datetime as dt\n",
    "from pandas.util.testing import assert_frame_equal"
   ]
  },
  {
   "cell_type": "markdown",
   "metadata": {},
   "source": [
    "# Create your time range (start and end variables). The start date should be 01/01/2015 and the end should today (whatever your today is)"
   ]
  },
  {
   "cell_type": "code",
   "execution_count": 5,
   "metadata": {
    "ExecuteTime": {
     "end_time": "2020-06-02T17:16:22.575254Z",
     "start_time": "2020-06-02T17:16:22.555393Z"
    }
   },
   "outputs": [
    {
     "name": "stdout",
     "output_type": "stream",
     "text": [
      "2015-01-01 00:00:00\n",
      "\n",
      "2020-06-02 20:16:22.557575\n"
     ]
    }
   ],
   "source": [
    "start=dt.datetime(2015, 1, 1)\n",
    "end=dt.datetime.today()\n",
    "print(start)\n",
    "print()\n",
    "print(end)"
   ]
  },
  {
   "cell_type": "code",
   "execution_count": 7,
   "metadata": {
    "ExecuteTime": {
     "end_time": "2020-06-02T17:16:53.763781Z",
     "start_time": "2020-06-02T17:16:53.742239Z"
    }
   },
   "outputs": [
    {
     "data": {
      "text/plain": [
       "datetime.datetime"
      ]
     },
     "execution_count": 7,
     "metadata": {},
     "output_type": "execute_result"
    }
   ],
   "source": [
    "type(start)"
   ]
  },
  {
   "cell_type": "code",
   "execution_count": 8,
   "metadata": {
    "ExecuteTime": {
     "end_time": "2020-06-02T17:17:06.686282Z",
     "start_time": "2020-06-02T17:17:06.665094Z"
    }
   },
   "outputs": [
    {
     "data": {
      "text/plain": [
       "datetime.datetime"
      ]
     },
     "execution_count": 8,
     "metadata": {},
     "output_type": "execute_result"
    }
   ],
   "source": [
    "type(end)"
   ]
  },
  {
   "cell_type": "code",
   "execution_count": null,
   "metadata": {},
   "outputs": [],
   "source": []
  },
  {
   "cell_type": "markdown",
   "metadata": {},
   "source": [
    "#  Select the Apple, Tesla, Twitter, IBM, LinkedIn stocks symbols and assign them to a variable called stocks\n",
    "\n"
   ]
  },
  {
   "cell_type": "code",
   "execution_count": 142,
   "metadata": {
    "ExecuteTime": {
     "end_time": "2020-06-02T18:51:04.365937Z",
     "start_time": "2020-06-02T18:51:04.338096Z"
    }
   },
   "outputs": [],
   "source": [
    "#eg:apple =[\"AAPL\"]\n",
    "stocks=[\"AAPL\",\"TSLA\",\"TWTR\",\"IBM\"]"
   ]
  },
  {
   "cell_type": "code",
   "execution_count": null,
   "metadata": {},
   "outputs": [],
   "source": []
  },
  {
   "cell_type": "markdown",
   "metadata": {},
   "source": [
    "# Read the data from yahoo, assign to df and print it"
   ]
  },
  {
   "cell_type": "code",
   "execution_count": 143,
   "metadata": {
    "ExecuteTime": {
     "end_time": "2020-06-02T18:51:12.469767Z",
     "start_time": "2020-06-02T18:51:08.508710Z"
    }
   },
   "outputs": [],
   "source": [
    "df=data.DataReader(stocks, \"yahoo\", start, end)"
   ]
  },
  {
   "cell_type": "code",
   "execution_count": 144,
   "metadata": {
    "ExecuteTime": {
     "end_time": "2020-06-02T18:51:13.862234Z",
     "start_time": "2020-06-02T18:51:13.807326Z"
    }
   },
   "outputs": [
    {
     "data": {
      "text/html": [
       "<div>\n",
       "<style scoped>\n",
       "    .dataframe tbody tr th:only-of-type {\n",
       "        vertical-align: middle;\n",
       "    }\n",
       "\n",
       "    .dataframe tbody tr th {\n",
       "        vertical-align: top;\n",
       "    }\n",
       "\n",
       "    .dataframe thead tr th {\n",
       "        text-align: left;\n",
       "    }\n",
       "\n",
       "    .dataframe thead tr:last-of-type th {\n",
       "        text-align: right;\n",
       "    }\n",
       "</style>\n",
       "<table border=\"1\" class=\"dataframe\">\n",
       "  <thead>\n",
       "    <tr>\n",
       "      <th>Attributes</th>\n",
       "      <th colspan=\"4\" halign=\"left\">Adj Close</th>\n",
       "      <th colspan=\"4\" halign=\"left\">Close</th>\n",
       "      <th colspan=\"2\" halign=\"left\">High</th>\n",
       "      <th>...</th>\n",
       "      <th colspan=\"2\" halign=\"left\">Low</th>\n",
       "      <th colspan=\"4\" halign=\"left\">Open</th>\n",
       "      <th colspan=\"4\" halign=\"left\">Volume</th>\n",
       "    </tr>\n",
       "    <tr>\n",
       "      <th>Symbols</th>\n",
       "      <th>AAPL</th>\n",
       "      <th>TSLA</th>\n",
       "      <th>TWTR</th>\n",
       "      <th>IBM</th>\n",
       "      <th>AAPL</th>\n",
       "      <th>TSLA</th>\n",
       "      <th>TWTR</th>\n",
       "      <th>IBM</th>\n",
       "      <th>AAPL</th>\n",
       "      <th>TSLA</th>\n",
       "      <th>...</th>\n",
       "      <th>TWTR</th>\n",
       "      <th>IBM</th>\n",
       "      <th>AAPL</th>\n",
       "      <th>TSLA</th>\n",
       "      <th>TWTR</th>\n",
       "      <th>IBM</th>\n",
       "      <th>AAPL</th>\n",
       "      <th>TSLA</th>\n",
       "      <th>TWTR</th>\n",
       "      <th>IBM</th>\n",
       "    </tr>\n",
       "    <tr>\n",
       "      <th>Date</th>\n",
       "      <th></th>\n",
       "      <th></th>\n",
       "      <th></th>\n",
       "      <th></th>\n",
       "      <th></th>\n",
       "      <th></th>\n",
       "      <th></th>\n",
       "      <th></th>\n",
       "      <th></th>\n",
       "      <th></th>\n",
       "      <th></th>\n",
       "      <th></th>\n",
       "      <th></th>\n",
       "      <th></th>\n",
       "      <th></th>\n",
       "      <th></th>\n",
       "      <th></th>\n",
       "      <th></th>\n",
       "      <th></th>\n",
       "      <th></th>\n",
       "      <th></th>\n",
       "    </tr>\n",
       "  </thead>\n",
       "  <tbody>\n",
       "    <tr>\n",
       "      <th>2015-01-02</th>\n",
       "      <td>99.945885</td>\n",
       "      <td>219.309998</td>\n",
       "      <td>36.560001</td>\n",
       "      <td>127.531136</td>\n",
       "      <td>109.330002</td>\n",
       "      <td>219.309998</td>\n",
       "      <td>36.560001</td>\n",
       "      <td>162.059998</td>\n",
       "      <td>111.440002</td>\n",
       "      <td>223.250000</td>\n",
       "      <td>...</td>\n",
       "      <td>35.540001</td>\n",
       "      <td>161.000000</td>\n",
       "      <td>111.389999</td>\n",
       "      <td>222.869995</td>\n",
       "      <td>36.230000</td>\n",
       "      <td>161.309998</td>\n",
       "      <td>53204600.0</td>\n",
       "      <td>4764400.0</td>\n",
       "      <td>12062500.0</td>\n",
       "      <td>5525500.0</td>\n",
       "    </tr>\n",
       "    <tr>\n",
       "      <th>2015-01-05</th>\n",
       "      <td>97.130241</td>\n",
       "      <td>210.089996</td>\n",
       "      <td>36.380001</td>\n",
       "      <td>125.524490</td>\n",
       "      <td>106.250000</td>\n",
       "      <td>210.089996</td>\n",
       "      <td>36.380001</td>\n",
       "      <td>159.509995</td>\n",
       "      <td>108.650002</td>\n",
       "      <td>216.500000</td>\n",
       "      <td>...</td>\n",
       "      <td>35.639999</td>\n",
       "      <td>159.190002</td>\n",
       "      <td>108.290001</td>\n",
       "      <td>214.550003</td>\n",
       "      <td>36.259998</td>\n",
       "      <td>161.270004</td>\n",
       "      <td>64285500.0</td>\n",
       "      <td>5368500.0</td>\n",
       "      <td>15062700.0</td>\n",
       "      <td>4880400.0</td>\n",
       "    </tr>\n",
       "    <tr>\n",
       "      <th>2015-01-06</th>\n",
       "      <td>97.139420</td>\n",
       "      <td>211.279999</td>\n",
       "      <td>38.759998</td>\n",
       "      <td>122.817429</td>\n",
       "      <td>106.260002</td>\n",
       "      <td>211.279999</td>\n",
       "      <td>38.759998</td>\n",
       "      <td>156.070007</td>\n",
       "      <td>107.430000</td>\n",
       "      <td>214.199997</td>\n",
       "      <td>...</td>\n",
       "      <td>36.040001</td>\n",
       "      <td>155.169998</td>\n",
       "      <td>106.540001</td>\n",
       "      <td>210.059998</td>\n",
       "      <td>36.270000</td>\n",
       "      <td>159.669998</td>\n",
       "      <td>65797100.0</td>\n",
       "      <td>6261900.0</td>\n",
       "      <td>33050800.0</td>\n",
       "      <td>6146700.0</td>\n",
       "    </tr>\n",
       "    <tr>\n",
       "      <th>2015-01-07</th>\n",
       "      <td>98.501518</td>\n",
       "      <td>210.949997</td>\n",
       "      <td>37.279999</td>\n",
       "      <td>122.014748</td>\n",
       "      <td>107.750000</td>\n",
       "      <td>210.949997</td>\n",
       "      <td>37.279999</td>\n",
       "      <td>155.050003</td>\n",
       "      <td>108.199997</td>\n",
       "      <td>214.779999</td>\n",
       "      <td>...</td>\n",
       "      <td>37.060001</td>\n",
       "      <td>154.029999</td>\n",
       "      <td>107.199997</td>\n",
       "      <td>213.350006</td>\n",
       "      <td>39.099998</td>\n",
       "      <td>157.199997</td>\n",
       "      <td>40105900.0</td>\n",
       "      <td>2968400.0</td>\n",
       "      <td>22675700.0</td>\n",
       "      <td>4701800.0</td>\n",
       "    </tr>\n",
       "    <tr>\n",
       "      <th>2015-01-08</th>\n",
       "      <td>102.286186</td>\n",
       "      <td>210.619995</td>\n",
       "      <td>39.090000</td>\n",
       "      <td>124.666725</td>\n",
       "      <td>111.889999</td>\n",
       "      <td>210.619995</td>\n",
       "      <td>39.090000</td>\n",
       "      <td>158.419998</td>\n",
       "      <td>112.150002</td>\n",
       "      <td>213.800003</td>\n",
       "      <td>...</td>\n",
       "      <td>37.090000</td>\n",
       "      <td>155.550003</td>\n",
       "      <td>109.230003</td>\n",
       "      <td>212.809998</td>\n",
       "      <td>37.419998</td>\n",
       "      <td>156.240005</td>\n",
       "      <td>59364500.0</td>\n",
       "      <td>3442500.0</td>\n",
       "      <td>19190400.0</td>\n",
       "      <td>4236800.0</td>\n",
       "    </tr>\n",
       "  </tbody>\n",
       "</table>\n",
       "<p>5 rows × 24 columns</p>\n",
       "</div>"
      ],
      "text/plain": [
       "Attributes   Adj Close                                          Close  \\\n",
       "Symbols           AAPL        TSLA       TWTR         IBM        AAPL   \n",
       "Date                                                                    \n",
       "2015-01-02   99.945885  219.309998  36.560001  127.531136  109.330002   \n",
       "2015-01-05   97.130241  210.089996  36.380001  125.524490  106.250000   \n",
       "2015-01-06   97.139420  211.279999  38.759998  122.817429  106.260002   \n",
       "2015-01-07   98.501518  210.949997  37.279999  122.014748  107.750000   \n",
       "2015-01-08  102.286186  210.619995  39.090000  124.666725  111.889999   \n",
       "\n",
       "Attributes                                           High              ...  \\\n",
       "Symbols           TSLA       TWTR         IBM        AAPL        TSLA  ...   \n",
       "Date                                                                   ...   \n",
       "2015-01-02  219.309998  36.560001  162.059998  111.440002  223.250000  ...   \n",
       "2015-01-05  210.089996  36.380001  159.509995  108.650002  216.500000  ...   \n",
       "2015-01-06  211.279999  38.759998  156.070007  107.430000  214.199997  ...   \n",
       "2015-01-07  210.949997  37.279999  155.050003  108.199997  214.779999  ...   \n",
       "2015-01-08  210.619995  39.090000  158.419998  112.150002  213.800003  ...   \n",
       "\n",
       "Attributes        Low                    Open                         \\\n",
       "Symbols          TWTR         IBM        AAPL        TSLA       TWTR   \n",
       "Date                                                                   \n",
       "2015-01-02  35.540001  161.000000  111.389999  222.869995  36.230000   \n",
       "2015-01-05  35.639999  159.190002  108.290001  214.550003  36.259998   \n",
       "2015-01-06  36.040001  155.169998  106.540001  210.059998  36.270000   \n",
       "2015-01-07  37.060001  154.029999  107.199997  213.350006  39.099998   \n",
       "2015-01-08  37.090000  155.550003  109.230003  212.809998  37.419998   \n",
       "\n",
       "Attributes                  Volume                                    \n",
       "Symbols            IBM        AAPL       TSLA        TWTR        IBM  \n",
       "Date                                                                  \n",
       "2015-01-02  161.309998  53204600.0  4764400.0  12062500.0  5525500.0  \n",
       "2015-01-05  161.270004  64285500.0  5368500.0  15062700.0  4880400.0  \n",
       "2015-01-06  159.669998  65797100.0  6261900.0  33050800.0  6146700.0  \n",
       "2015-01-07  157.199997  40105900.0  2968400.0  22675700.0  4701800.0  \n",
       "2015-01-08  156.240005  59364500.0  3442500.0  19190400.0  4236800.0  \n",
       "\n",
       "[5 rows x 24 columns]"
      ]
     },
     "execution_count": 144,
     "metadata": {},
     "output_type": "execute_result"
    }
   ],
   "source": [
    "df.head(5)"
   ]
  },
  {
   "cell_type": "code",
   "execution_count": 146,
   "metadata": {
    "ExecuteTime": {
     "end_time": "2020-06-02T18:51:34.696411Z",
     "start_time": "2020-06-02T18:51:34.670786Z"
    }
   },
   "outputs": [
    {
     "name": "stdout",
     "output_type": "stream",
     "text": [
      "<class 'pandas.core.frame.DataFrame'>\n",
      "DatetimeIndex: 1363 entries, 2015-01-02 to 2020-06-02\n",
      "Data columns (total 24 columns):\n",
      " #   Column             Non-Null Count  Dtype  \n",
      "---  ------             --------------  -----  \n",
      " 0   (Adj Close, AAPL)  1363 non-null   float64\n",
      " 1   (Adj Close, TSLA)  1363 non-null   float64\n",
      " 2   (Adj Close, TWTR)  1363 non-null   float64\n",
      " 3   (Adj Close, IBM)   1363 non-null   float64\n",
      " 4   (Close, AAPL)      1363 non-null   float64\n",
      " 5   (Close, TSLA)      1363 non-null   float64\n",
      " 6   (Close, TWTR)      1363 non-null   float64\n",
      " 7   (Close, IBM)       1363 non-null   float64\n",
      " 8   (High, AAPL)       1363 non-null   float64\n",
      " 9   (High, TSLA)       1363 non-null   float64\n",
      " 10  (High, TWTR)       1363 non-null   float64\n",
      " 11  (High, IBM)        1363 non-null   float64\n",
      " 12  (Low, AAPL)        1363 non-null   float64\n",
      " 13  (Low, TSLA)        1363 non-null   float64\n",
      " 14  (Low, TWTR)        1363 non-null   float64\n",
      " 15  (Low, IBM)         1363 non-null   float64\n",
      " 16  (Open, AAPL)       1363 non-null   float64\n",
      " 17  (Open, TSLA)       1363 non-null   float64\n",
      " 18  (Open, TWTR)       1363 non-null   float64\n",
      " 19  (Open, IBM)        1363 non-null   float64\n",
      " 20  (Volume, AAPL)     1363 non-null   float64\n",
      " 21  (Volume, TSLA)     1363 non-null   float64\n",
      " 22  (Volume, TWTR)     1363 non-null   float64\n",
      " 23  (Volume, IBM)      1363 non-null   float64\n",
      "dtypes: float64(24)\n",
      "memory usage: 266.2 KB\n"
     ]
    }
   ],
   "source": [
    "df.info()"
   ]
  },
  {
   "cell_type": "markdown",
   "metadata": {},
   "source": [
    " # What is the type of structure of df ?"
   ]
  },
  {
   "cell_type": "code",
   "execution_count": 148,
   "metadata": {
    "ExecuteTime": {
     "end_time": "2020-06-02T18:52:16.121562Z",
     "start_time": "2020-06-02T18:52:16.112422Z"
    }
   },
   "outputs": [
    {
     "data": {
      "text/plain": [
       "pandas.core.frame.DataFrame"
      ]
     },
     "execution_count": 148,
     "metadata": {},
     "output_type": "execute_result"
    }
   ],
   "source": [
    "type(df)"
   ]
  },
  {
   "cell_type": "code",
   "execution_count": null,
   "metadata": {},
   "outputs": [],
   "source": []
  },
  {
   "cell_type": "markdown",
   "metadata": {},
   "source": [
    "# Create a dataFrame called vol, with the Volume values."
   ]
  },
  {
   "cell_type": "code",
   "execution_count": 152,
   "metadata": {
    "ExecuteTime": {
     "end_time": "2020-06-02T18:53:16.215891Z",
     "start_time": "2020-06-02T18:53:16.201796Z"
    }
   },
   "outputs": [],
   "source": [
    "vol=df[\"Volume\"]"
   ]
  },
  {
   "cell_type": "code",
   "execution_count": 153,
   "metadata": {
    "ExecuteTime": {
     "end_time": "2020-06-02T18:53:16.807189Z",
     "start_time": "2020-06-02T18:53:16.790082Z"
    }
   },
   "outputs": [
    {
     "data": {
      "text/html": [
       "<div>\n",
       "<style scoped>\n",
       "    .dataframe tbody tr th:only-of-type {\n",
       "        vertical-align: middle;\n",
       "    }\n",
       "\n",
       "    .dataframe tbody tr th {\n",
       "        vertical-align: top;\n",
       "    }\n",
       "\n",
       "    .dataframe thead th {\n",
       "        text-align: right;\n",
       "    }\n",
       "</style>\n",
       "<table border=\"1\" class=\"dataframe\">\n",
       "  <thead>\n",
       "    <tr style=\"text-align: right;\">\n",
       "      <th>Symbols</th>\n",
       "      <th>AAPL</th>\n",
       "      <th>TSLA</th>\n",
       "      <th>TWTR</th>\n",
       "      <th>IBM</th>\n",
       "    </tr>\n",
       "    <tr>\n",
       "      <th>Date</th>\n",
       "      <th></th>\n",
       "      <th></th>\n",
       "      <th></th>\n",
       "      <th></th>\n",
       "    </tr>\n",
       "  </thead>\n",
       "  <tbody>\n",
       "    <tr>\n",
       "      <th>2015-01-02</th>\n",
       "      <td>53204600.0</td>\n",
       "      <td>4764400.0</td>\n",
       "      <td>12062500.0</td>\n",
       "      <td>5525500.0</td>\n",
       "    </tr>\n",
       "    <tr>\n",
       "      <th>2015-01-05</th>\n",
       "      <td>64285500.0</td>\n",
       "      <td>5368500.0</td>\n",
       "      <td>15062700.0</td>\n",
       "      <td>4880400.0</td>\n",
       "    </tr>\n",
       "    <tr>\n",
       "      <th>2015-01-06</th>\n",
       "      <td>65797100.0</td>\n",
       "      <td>6261900.0</td>\n",
       "      <td>33050800.0</td>\n",
       "      <td>6146700.0</td>\n",
       "    </tr>\n",
       "    <tr>\n",
       "      <th>2015-01-07</th>\n",
       "      <td>40105900.0</td>\n",
       "      <td>2968400.0</td>\n",
       "      <td>22675700.0</td>\n",
       "      <td>4701800.0</td>\n",
       "    </tr>\n",
       "    <tr>\n",
       "      <th>2015-01-08</th>\n",
       "      <td>59364500.0</td>\n",
       "      <td>3442500.0</td>\n",
       "      <td>19190400.0</td>\n",
       "      <td>4236800.0</td>\n",
       "    </tr>\n",
       "  </tbody>\n",
       "</table>\n",
       "</div>"
      ],
      "text/plain": [
       "Symbols           AAPL       TSLA        TWTR        IBM\n",
       "Date                                                    \n",
       "2015-01-02  53204600.0  4764400.0  12062500.0  5525500.0\n",
       "2015-01-05  64285500.0  5368500.0  15062700.0  4880400.0\n",
       "2015-01-06  65797100.0  6261900.0  33050800.0  6146700.0\n",
       "2015-01-07  40105900.0  2968400.0  22675700.0  4701800.0\n",
       "2015-01-08  59364500.0  3442500.0  19190400.0  4236800.0"
      ]
     },
     "execution_count": 153,
     "metadata": {},
     "output_type": "execute_result"
    }
   ],
   "source": [
    "vol.head(5)"
   ]
  },
  {
   "cell_type": "markdown",
   "metadata": {},
   "source": [
    " # Aggregate the data of Volume to weekly"
   ]
  },
  {
   "cell_type": "code",
   "execution_count": 154,
   "metadata": {
    "ExecuteTime": {
     "end_time": "2020-06-02T18:53:19.922978Z",
     "start_time": "2020-06-02T18:53:19.874753Z"
    }
   },
   "outputs": [
    {
     "data": {
      "text/html": [
       "<div>\n",
       "<style scoped>\n",
       "    .dataframe tbody tr th:only-of-type {\n",
       "        vertical-align: middle;\n",
       "    }\n",
       "\n",
       "    .dataframe tbody tr th {\n",
       "        vertical-align: top;\n",
       "    }\n",
       "\n",
       "    .dataframe thead th {\n",
       "        text-align: right;\n",
       "    }\n",
       "</style>\n",
       "<table border=\"1\" class=\"dataframe\">\n",
       "  <thead>\n",
       "    <tr style=\"text-align: right;\">\n",
       "      <th>Symbols</th>\n",
       "      <th>AAPL</th>\n",
       "      <th>TSLA</th>\n",
       "      <th>TWTR</th>\n",
       "      <th>IBM</th>\n",
       "    </tr>\n",
       "    <tr>\n",
       "      <th>Date</th>\n",
       "      <th></th>\n",
       "      <th></th>\n",
       "      <th></th>\n",
       "      <th></th>\n",
       "    </tr>\n",
       "  </thead>\n",
       "  <tbody>\n",
       "    <tr>\n",
       "      <th>2015-01-04</th>\n",
       "      <td>53204600.0</td>\n",
       "      <td>4764400.0</td>\n",
       "      <td>12062500.0</td>\n",
       "      <td>5525500.0</td>\n",
       "    </tr>\n",
       "    <tr>\n",
       "      <th>2015-01-11</th>\n",
       "      <td>283252500.0</td>\n",
       "      <td>22709600.0</td>\n",
       "      <td>114718000.0</td>\n",
       "      <td>24454000.0</td>\n",
       "    </tr>\n",
       "    <tr>\n",
       "      <th>2015-01-18</th>\n",
       "      <td>304226600.0</td>\n",
       "      <td>30799200.0</td>\n",
       "      <td>100097300.0</td>\n",
       "      <td>23259800.0</td>\n",
       "    </tr>\n",
       "    <tr>\n",
       "      <th>2015-01-25</th>\n",
       "      <td>198737000.0</td>\n",
       "      <td>16211700.0</td>\n",
       "      <td>66713900.0</td>\n",
       "      <td>31244800.0</td>\n",
       "    </tr>\n",
       "    <tr>\n",
       "      <th>2015-02-01</th>\n",
       "      <td>465842700.0</td>\n",
       "      <td>15720200.0</td>\n",
       "      <td>87430900.0</td>\n",
       "      <td>32928000.0</td>\n",
       "    </tr>\n",
       "    <tr>\n",
       "      <th>...</th>\n",
       "      <td>...</td>\n",
       "      <td>...</td>\n",
       "      <td>...</td>\n",
       "      <td>...</td>\n",
       "    </tr>\n",
       "    <tr>\n",
       "      <th>2020-05-10</th>\n",
       "      <td>168229000.0</td>\n",
       "      <td>75009800.0</td>\n",
       "      <td>87998500.0</td>\n",
       "      <td>21198400.0</td>\n",
       "    </tr>\n",
       "    <tr>\n",
       "      <th>2020-05-17</th>\n",
       "      <td>208456200.0</td>\n",
       "      <td>75644100.0</td>\n",
       "      <td>75279900.0</td>\n",
       "      <td>24246400.0</td>\n",
       "    </tr>\n",
       "    <tr>\n",
       "      <th>2020-05-24</th>\n",
       "      <td>133274700.0</td>\n",
       "      <td>50886000.0</td>\n",
       "      <td>96324100.0</td>\n",
       "      <td>19471100.0</td>\n",
       "    </tr>\n",
       "    <tr>\n",
       "      <th>2020-05-31</th>\n",
       "      <td>131406500.0</td>\n",
       "      <td>38707300.0</td>\n",
       "      <td>121722800.0</td>\n",
       "      <td>23042600.0</td>\n",
       "    </tr>\n",
       "    <tr>\n",
       "      <th>2020-06-07</th>\n",
       "      <td>35613826.0</td>\n",
       "      <td>26218886.0</td>\n",
       "      <td>25400460.0</td>\n",
       "      <td>4450718.0</td>\n",
       "    </tr>\n",
       "  </tbody>\n",
       "</table>\n",
       "<p>284 rows × 4 columns</p>\n",
       "</div>"
      ],
      "text/plain": [
       "Symbols            AAPL        TSLA         TWTR         IBM\n",
       "Date                                                        \n",
       "2015-01-04   53204600.0   4764400.0   12062500.0   5525500.0\n",
       "2015-01-11  283252500.0  22709600.0  114718000.0  24454000.0\n",
       "2015-01-18  304226600.0  30799200.0  100097300.0  23259800.0\n",
       "2015-01-25  198737000.0  16211700.0   66713900.0  31244800.0\n",
       "2015-02-01  465842700.0  15720200.0   87430900.0  32928000.0\n",
       "...                 ...         ...          ...         ...\n",
       "2020-05-10  168229000.0  75009800.0   87998500.0  21198400.0\n",
       "2020-05-17  208456200.0  75644100.0   75279900.0  24246400.0\n",
       "2020-05-24  133274700.0  50886000.0   96324100.0  19471100.0\n",
       "2020-05-31  131406500.0  38707300.0  121722800.0  23042600.0\n",
       "2020-06-07   35613826.0  26218886.0   25400460.0   4450718.0\n",
       "\n",
       "[284 rows x 4 columns]"
      ]
     },
     "execution_count": 154,
     "metadata": {},
     "output_type": "execute_result"
    }
   ],
   "source": [
    "vol.resample(\"W\").sum()"
   ]
  },
  {
   "cell_type": "code",
   "execution_count": null,
   "metadata": {},
   "outputs": [],
   "source": []
  },
  {
   "cell_type": "markdown",
   "metadata": {},
   "source": [
    " # Find all the volume traded in the year "
   ]
  },
  {
   "cell_type": "code",
   "execution_count": 155,
   "metadata": {
    "ExecuteTime": {
     "end_time": "2020-06-02T18:53:24.148517Z",
     "start_time": "2020-06-02T18:53:24.130371Z"
    }
   },
   "outputs": [
    {
     "data": {
      "text/html": [
       "<div>\n",
       "<style scoped>\n",
       "    .dataframe tbody tr th:only-of-type {\n",
       "        vertical-align: middle;\n",
       "    }\n",
       "\n",
       "    .dataframe tbody tr th {\n",
       "        vertical-align: top;\n",
       "    }\n",
       "\n",
       "    .dataframe thead th {\n",
       "        text-align: right;\n",
       "    }\n",
       "</style>\n",
       "<table border=\"1\" class=\"dataframe\">\n",
       "  <thead>\n",
       "    <tr style=\"text-align: right;\">\n",
       "      <th>Symbols</th>\n",
       "      <th>AAPL</th>\n",
       "      <th>TSLA</th>\n",
       "      <th>TWTR</th>\n",
       "      <th>IBM</th>\n",
       "    </tr>\n",
       "    <tr>\n",
       "      <th>Date</th>\n",
       "      <th></th>\n",
       "      <th></th>\n",
       "      <th></th>\n",
       "      <th></th>\n",
       "    </tr>\n",
       "  </thead>\n",
       "  <tbody>\n",
       "    <tr>\n",
       "      <th>2015-12-31</th>\n",
       "      <td>1.306605e+10</td>\n",
       "      <td>1.088218e+09</td>\n",
       "      <td>5.361489e+09</td>\n",
       "      <td>1.105583e+09</td>\n",
       "    </tr>\n",
       "    <tr>\n",
       "      <th>2016-12-31</th>\n",
       "      <td>9.682478e+09</td>\n",
       "      <td>1.162362e+09</td>\n",
       "      <td>6.479294e+09</td>\n",
       "      <td>1.018606e+09</td>\n",
       "    </tr>\n",
       "    <tr>\n",
       "      <th>2017-12-31</th>\n",
       "      <td>6.810776e+09</td>\n",
       "      <td>1.590031e+09</td>\n",
       "      <td>4.410744e+09</td>\n",
       "      <td>1.071166e+09</td>\n",
       "    </tr>\n",
       "    <tr>\n",
       "      <th>2018-12-31</th>\n",
       "      <td>8.539036e+09</td>\n",
       "      <td>2.161639e+09</td>\n",
       "      <td>7.155865e+09</td>\n",
       "      <td>1.368561e+09</td>\n",
       "    </tr>\n",
       "    <tr>\n",
       "      <th>2019-12-31</th>\n",
       "      <td>7.063803e+09</td>\n",
       "      <td>2.308078e+09</td>\n",
       "      <td>3.880756e+09</td>\n",
       "      <td>9.466952e+08</td>\n",
       "    </tr>\n",
       "    <tr>\n",
       "      <th>2020-12-31</th>\n",
       "      <td>4.611613e+09</td>\n",
       "      <td>1.981611e+09</td>\n",
       "      <td>2.260745e+09</td>\n",
       "      <td>6.494937e+08</td>\n",
       "    </tr>\n",
       "  </tbody>\n",
       "</table>\n",
       "</div>"
      ],
      "text/plain": [
       "Symbols             AAPL          TSLA          TWTR           IBM\n",
       "Date                                                              \n",
       "2015-12-31  1.306605e+10  1.088218e+09  5.361489e+09  1.105583e+09\n",
       "2016-12-31  9.682478e+09  1.162362e+09  6.479294e+09  1.018606e+09\n",
       "2017-12-31  6.810776e+09  1.590031e+09  4.410744e+09  1.071166e+09\n",
       "2018-12-31  8.539036e+09  2.161639e+09  7.155865e+09  1.368561e+09\n",
       "2019-12-31  7.063803e+09  2.308078e+09  3.880756e+09  9.466952e+08\n",
       "2020-12-31  4.611613e+09  1.981611e+09  2.260745e+09  6.494937e+08"
      ]
     },
     "execution_count": 155,
     "metadata": {},
     "output_type": "execute_result"
    }
   ],
   "source": [
    "vol.resample(\"Y\").sum()"
   ]
  },
  {
   "cell_type": "code",
   "execution_count": null,
   "metadata": {},
   "outputs": [],
   "source": []
  },
  {
   "cell_type": "markdown",
   "metadata": {},
   "source": [
    " # Find all the volume traded in the year 2019"
   ]
  },
  {
   "cell_type": "code",
   "execution_count": 162,
   "metadata": {
    "ExecuteTime": {
     "end_time": "2020-06-02T18:55:11.325239Z",
     "start_time": "2020-06-02T18:55:11.291174Z"
    }
   },
   "outputs": [
    {
     "data": {
      "text/html": [
       "<div>\n",
       "<style scoped>\n",
       "    .dataframe tbody tr th:only-of-type {\n",
       "        vertical-align: middle;\n",
       "    }\n",
       "\n",
       "    .dataframe tbody tr th {\n",
       "        vertical-align: top;\n",
       "    }\n",
       "\n",
       "    .dataframe thead th {\n",
       "        text-align: right;\n",
       "    }\n",
       "</style>\n",
       "<table border=\"1\" class=\"dataframe\">\n",
       "  <thead>\n",
       "    <tr style=\"text-align: right;\">\n",
       "      <th>Symbols</th>\n",
       "      <th>AAPL</th>\n",
       "      <th>TSLA</th>\n",
       "      <th>TWTR</th>\n",
       "      <th>IBM</th>\n",
       "    </tr>\n",
       "    <tr>\n",
       "      <th>Date</th>\n",
       "      <th></th>\n",
       "      <th></th>\n",
       "      <th></th>\n",
       "      <th></th>\n",
       "    </tr>\n",
       "  </thead>\n",
       "  <tbody>\n",
       "    <tr>\n",
       "      <th>2019-01-02</th>\n",
       "      <td>37039700.0</td>\n",
       "      <td>11658600.0</td>\n",
       "      <td>15053700.0</td>\n",
       "      <td>4239900.0</td>\n",
       "    </tr>\n",
       "    <tr>\n",
       "      <th>2019-01-03</th>\n",
       "      <td>91312200.0</td>\n",
       "      <td>6965200.0</td>\n",
       "      <td>19051700.0</td>\n",
       "      <td>4346700.0</td>\n",
       "    </tr>\n",
       "    <tr>\n",
       "      <th>2019-01-04</th>\n",
       "      <td>58607100.0</td>\n",
       "      <td>7394100.0</td>\n",
       "      <td>23412600.0</td>\n",
       "      <td>4477800.0</td>\n",
       "    </tr>\n",
       "    <tr>\n",
       "      <th>2019-01-07</th>\n",
       "      <td>54777800.0</td>\n",
       "      <td>7551200.0</td>\n",
       "      <td>19917800.0</td>\n",
       "      <td>3751200.0</td>\n",
       "    </tr>\n",
       "    <tr>\n",
       "      <th>2019-01-08</th>\n",
       "      <td>41025300.0</td>\n",
       "      <td>7008500.0</td>\n",
       "      <td>18915200.0</td>\n",
       "      <td>4763600.0</td>\n",
       "    </tr>\n",
       "    <tr>\n",
       "      <th>...</th>\n",
       "      <td>...</td>\n",
       "      <td>...</td>\n",
       "      <td>...</td>\n",
       "      <td>...</td>\n",
       "    </tr>\n",
       "    <tr>\n",
       "      <th>2019-12-24</th>\n",
       "      <td>12119700.0</td>\n",
       "      <td>8054700.0</td>\n",
       "      <td>4290500.0</td>\n",
       "      <td>1202100.0</td>\n",
       "    </tr>\n",
       "    <tr>\n",
       "      <th>2019-12-26</th>\n",
       "      <td>23280300.0</td>\n",
       "      <td>10633900.0</td>\n",
       "      <td>9797300.0</td>\n",
       "      <td>2129700.0</td>\n",
       "    </tr>\n",
       "    <tr>\n",
       "      <th>2019-12-27</th>\n",
       "      <td>36566500.0</td>\n",
       "      <td>9945700.0</td>\n",
       "      <td>10409400.0</td>\n",
       "      <td>2752200.0</td>\n",
       "    </tr>\n",
       "    <tr>\n",
       "      <th>2019-12-30</th>\n",
       "      <td>36028600.0</td>\n",
       "      <td>12586400.0</td>\n",
       "      <td>9391200.0</td>\n",
       "      <td>4118900.0</td>\n",
       "    </tr>\n",
       "    <tr>\n",
       "      <th>2019-12-31</th>\n",
       "      <td>25201400.0</td>\n",
       "      <td>10285700.0</td>\n",
       "      <td>11050600.0</td>\n",
       "      <td>3777500.0</td>\n",
       "    </tr>\n",
       "  </tbody>\n",
       "</table>\n",
       "<p>252 rows × 4 columns</p>\n",
       "</div>"
      ],
      "text/plain": [
       "Symbols           AAPL        TSLA        TWTR        IBM\n",
       "Date                                                     \n",
       "2019-01-02  37039700.0  11658600.0  15053700.0  4239900.0\n",
       "2019-01-03  91312200.0   6965200.0  19051700.0  4346700.0\n",
       "2019-01-04  58607100.0   7394100.0  23412600.0  4477800.0\n",
       "2019-01-07  54777800.0   7551200.0  19917800.0  3751200.0\n",
       "2019-01-08  41025300.0   7008500.0  18915200.0  4763600.0\n",
       "...                ...         ...         ...        ...\n",
       "2019-12-24  12119700.0   8054700.0   4290500.0  1202100.0\n",
       "2019-12-26  23280300.0  10633900.0   9797300.0  2129700.0\n",
       "2019-12-27  36566500.0   9945700.0  10409400.0  2752200.0\n",
       "2019-12-30  36028600.0  12586400.0   9391200.0  4118900.0\n",
       "2019-12-31  25201400.0  10285700.0  11050600.0  3777500.0\n",
       "\n",
       "[252 rows x 4 columns]"
      ]
     },
     "execution_count": 162,
     "metadata": {},
     "output_type": "execute_result"
    }
   ],
   "source": [
    "vol.loc[vol.index.year == 2019]"
   ]
  },
  {
   "cell_type": "code",
   "execution_count": 158,
   "metadata": {
    "ExecuteTime": {
     "end_time": "2020-06-02T18:53:54.617367Z",
     "start_time": "2020-06-02T18:53:54.594072Z"
    }
   },
   "outputs": [
    {
     "data": {
      "text/html": [
       "<div>\n",
       "<style scoped>\n",
       "    .dataframe tbody tr th:only-of-type {\n",
       "        vertical-align: middle;\n",
       "    }\n",
       "\n",
       "    .dataframe tbody tr th {\n",
       "        vertical-align: top;\n",
       "    }\n",
       "\n",
       "    .dataframe thead th {\n",
       "        text-align: right;\n",
       "    }\n",
       "</style>\n",
       "<table border=\"1\" class=\"dataframe\">\n",
       "  <thead>\n",
       "    <tr style=\"text-align: right;\">\n",
       "      <th>Symbols</th>\n",
       "      <th>AAPL</th>\n",
       "      <th>TSLA</th>\n",
       "      <th>TWTR</th>\n",
       "      <th>IBM</th>\n",
       "    </tr>\n",
       "    <tr>\n",
       "      <th>Date</th>\n",
       "      <th></th>\n",
       "      <th></th>\n",
       "      <th></th>\n",
       "      <th></th>\n",
       "    </tr>\n",
       "  </thead>\n",
       "  <tbody>\n",
       "    <tr>\n",
       "      <th>2019-01-02</th>\n",
       "      <td>37039700.0</td>\n",
       "      <td>11658600.0</td>\n",
       "      <td>15053700.0</td>\n",
       "      <td>4239900.0</td>\n",
       "    </tr>\n",
       "    <tr>\n",
       "      <th>2019-01-03</th>\n",
       "      <td>91312200.0</td>\n",
       "      <td>6965200.0</td>\n",
       "      <td>19051700.0</td>\n",
       "      <td>4346700.0</td>\n",
       "    </tr>\n",
       "    <tr>\n",
       "      <th>2019-01-04</th>\n",
       "      <td>58607100.0</td>\n",
       "      <td>7394100.0</td>\n",
       "      <td>23412600.0</td>\n",
       "      <td>4477800.0</td>\n",
       "    </tr>\n",
       "    <tr>\n",
       "      <th>2019-01-07</th>\n",
       "      <td>54777800.0</td>\n",
       "      <td>7551200.0</td>\n",
       "      <td>19917800.0</td>\n",
       "      <td>3751200.0</td>\n",
       "    </tr>\n",
       "    <tr>\n",
       "      <th>2019-01-08</th>\n",
       "      <td>41025300.0</td>\n",
       "      <td>7008500.0</td>\n",
       "      <td>18915200.0</td>\n",
       "      <td>4763600.0</td>\n",
       "    </tr>\n",
       "    <tr>\n",
       "      <th>...</th>\n",
       "      <td>...</td>\n",
       "      <td>...</td>\n",
       "      <td>...</td>\n",
       "      <td>...</td>\n",
       "    </tr>\n",
       "    <tr>\n",
       "      <th>2019-12-24</th>\n",
       "      <td>12119700.0</td>\n",
       "      <td>8054700.0</td>\n",
       "      <td>4290500.0</td>\n",
       "      <td>1202100.0</td>\n",
       "    </tr>\n",
       "    <tr>\n",
       "      <th>2019-12-26</th>\n",
       "      <td>23280300.0</td>\n",
       "      <td>10633900.0</td>\n",
       "      <td>9797300.0</td>\n",
       "      <td>2129700.0</td>\n",
       "    </tr>\n",
       "    <tr>\n",
       "      <th>2019-12-27</th>\n",
       "      <td>36566500.0</td>\n",
       "      <td>9945700.0</td>\n",
       "      <td>10409400.0</td>\n",
       "      <td>2752200.0</td>\n",
       "    </tr>\n",
       "    <tr>\n",
       "      <th>2019-12-30</th>\n",
       "      <td>36028600.0</td>\n",
       "      <td>12586400.0</td>\n",
       "      <td>9391200.0</td>\n",
       "      <td>4118900.0</td>\n",
       "    </tr>\n",
       "    <tr>\n",
       "      <th>2019-12-31</th>\n",
       "      <td>25201400.0</td>\n",
       "      <td>10285700.0</td>\n",
       "      <td>11050600.0</td>\n",
       "      <td>3777500.0</td>\n",
       "    </tr>\n",
       "  </tbody>\n",
       "</table>\n",
       "<p>252 rows × 4 columns</p>\n",
       "</div>"
      ],
      "text/plain": [
       "Symbols           AAPL        TSLA        TWTR        IBM\n",
       "Date                                                     \n",
       "2019-01-02  37039700.0  11658600.0  15053700.0  4239900.0\n",
       "2019-01-03  91312200.0   6965200.0  19051700.0  4346700.0\n",
       "2019-01-04  58607100.0   7394100.0  23412600.0  4477800.0\n",
       "2019-01-07  54777800.0   7551200.0  19917800.0  3751200.0\n",
       "2019-01-08  41025300.0   7008500.0  18915200.0  4763600.0\n",
       "...                ...         ...         ...        ...\n",
       "2019-12-24  12119700.0   8054700.0   4290500.0  1202100.0\n",
       "2019-12-26  23280300.0  10633900.0   9797300.0  2129700.0\n",
       "2019-12-27  36566500.0   9945700.0  10409400.0  2752200.0\n",
       "2019-12-30  36028600.0  12586400.0   9391200.0  4118900.0\n",
       "2019-12-31  25201400.0  10285700.0  11050600.0  3777500.0\n",
       "\n",
       "[252 rows x 4 columns]"
      ]
     },
     "execution_count": 158,
     "metadata": {},
     "output_type": "execute_result"
    }
   ],
   "source": [
    "df.loc[\"2019-01-01\":\"2019-12-31\"][\"Volume\"]\n"
   ]
  },
  {
   "cell_type": "code",
   "execution_count": null,
   "metadata": {},
   "outputs": [],
   "source": []
  },
  {
   "cell_type": "markdown",
   "metadata": {},
   "source": [
    "# import the apple stock only\n"
   ]
  },
  {
   "cell_type": "code",
   "execution_count": 163,
   "metadata": {
    "ExecuteTime": {
     "end_time": "2020-06-02T18:55:35.517076Z",
     "start_time": "2020-06-02T18:55:32.101984Z"
    }
   },
   "outputs": [],
   "source": [
    "df_apple=data.DataReader(\"AAPL\", \"yahoo\", start, end)"
   ]
  },
  {
   "cell_type": "code",
   "execution_count": 164,
   "metadata": {
    "ExecuteTime": {
     "end_time": "2020-06-02T18:55:35.869452Z",
     "start_time": "2020-06-02T18:55:35.858054Z"
    }
   },
   "outputs": [
    {
     "data": {
      "text/html": [
       "<div>\n",
       "<style scoped>\n",
       "    .dataframe tbody tr th:only-of-type {\n",
       "        vertical-align: middle;\n",
       "    }\n",
       "\n",
       "    .dataframe tbody tr th {\n",
       "        vertical-align: top;\n",
       "    }\n",
       "\n",
       "    .dataframe thead th {\n",
       "        text-align: right;\n",
       "    }\n",
       "</style>\n",
       "<table border=\"1\" class=\"dataframe\">\n",
       "  <thead>\n",
       "    <tr style=\"text-align: right;\">\n",
       "      <th></th>\n",
       "      <th>High</th>\n",
       "      <th>Low</th>\n",
       "      <th>Open</th>\n",
       "      <th>Close</th>\n",
       "      <th>Volume</th>\n",
       "      <th>Adj Close</th>\n",
       "    </tr>\n",
       "    <tr>\n",
       "      <th>Date</th>\n",
       "      <th></th>\n",
       "      <th></th>\n",
       "      <th></th>\n",
       "      <th></th>\n",
       "      <th></th>\n",
       "      <th></th>\n",
       "    </tr>\n",
       "  </thead>\n",
       "  <tbody>\n",
       "    <tr>\n",
       "      <th>2015-01-02</th>\n",
       "      <td>111.440002</td>\n",
       "      <td>107.349998</td>\n",
       "      <td>111.389999</td>\n",
       "      <td>109.330002</td>\n",
       "      <td>53204600.0</td>\n",
       "      <td>99.945885</td>\n",
       "    </tr>\n",
       "    <tr>\n",
       "      <th>2015-01-05</th>\n",
       "      <td>108.650002</td>\n",
       "      <td>105.410004</td>\n",
       "      <td>108.290001</td>\n",
       "      <td>106.250000</td>\n",
       "      <td>64285500.0</td>\n",
       "      <td>97.130241</td>\n",
       "    </tr>\n",
       "    <tr>\n",
       "      <th>2015-01-06</th>\n",
       "      <td>107.430000</td>\n",
       "      <td>104.629997</td>\n",
       "      <td>106.540001</td>\n",
       "      <td>106.260002</td>\n",
       "      <td>65797100.0</td>\n",
       "      <td>97.139420</td>\n",
       "    </tr>\n",
       "    <tr>\n",
       "      <th>2015-01-07</th>\n",
       "      <td>108.199997</td>\n",
       "      <td>106.699997</td>\n",
       "      <td>107.199997</td>\n",
       "      <td>107.750000</td>\n",
       "      <td>40105900.0</td>\n",
       "      <td>98.501518</td>\n",
       "    </tr>\n",
       "    <tr>\n",
       "      <th>2015-01-08</th>\n",
       "      <td>112.150002</td>\n",
       "      <td>108.699997</td>\n",
       "      <td>109.230003</td>\n",
       "      <td>111.889999</td>\n",
       "      <td>59364500.0</td>\n",
       "      <td>102.286186</td>\n",
       "    </tr>\n",
       "  </tbody>\n",
       "</table>\n",
       "</div>"
      ],
      "text/plain": [
       "                  High         Low        Open       Close      Volume  \\\n",
       "Date                                                                     \n",
       "2015-01-02  111.440002  107.349998  111.389999  109.330002  53204600.0   \n",
       "2015-01-05  108.650002  105.410004  108.290001  106.250000  64285500.0   \n",
       "2015-01-06  107.430000  104.629997  106.540001  106.260002  65797100.0   \n",
       "2015-01-07  108.199997  106.699997  107.199997  107.750000  40105900.0   \n",
       "2015-01-08  112.150002  108.699997  109.230003  111.889999  59364500.0   \n",
       "\n",
       "             Adj Close  \n",
       "Date                    \n",
       "2015-01-02   99.945885  \n",
       "2015-01-05   97.130241  \n",
       "2015-01-06   97.139420  \n",
       "2015-01-07   98.501518  \n",
       "2015-01-08  102.286186  "
      ]
     },
     "execution_count": 164,
     "metadata": {},
     "output_type": "execute_result"
    }
   ],
   "source": [
    "df_apple.head(5)"
   ]
  },
  {
   "cell_type": "code",
   "execution_count": null,
   "metadata": {},
   "outputs": [],
   "source": []
  },
  {
   "cell_type": "markdown",
   "metadata": {},
   "source": [
    " # Check out the type of the columns"
   ]
  },
  {
   "cell_type": "code",
   "execution_count": 165,
   "metadata": {
    "ExecuteTime": {
     "end_time": "2020-06-02T18:55:39.653684Z",
     "start_time": "2020-06-02T18:55:39.646215Z"
    }
   },
   "outputs": [
    {
     "data": {
      "text/plain": [
       "Index(['High', 'Low', 'Open', 'Close', 'Volume', 'Adj Close'], dtype='object')"
      ]
     },
     "execution_count": 165,
     "metadata": {},
     "output_type": "execute_result"
    }
   ],
   "source": [
    "df_apple.columns"
   ]
  },
  {
   "cell_type": "code",
   "execution_count": 166,
   "metadata": {
    "ExecuteTime": {
     "end_time": "2020-06-02T18:55:40.535955Z",
     "start_time": "2020-06-02T18:55:40.529624Z"
    }
   },
   "outputs": [
    {
     "data": {
      "text/plain": [
       "pandas.core.indexes.base.Index"
      ]
     },
     "execution_count": 166,
     "metadata": {},
     "output_type": "execute_result"
    }
   ],
   "source": [
    "type(df_apple.columns)"
   ]
  },
  {
   "cell_type": "code",
   "execution_count": null,
   "metadata": {},
   "outputs": [],
   "source": []
  },
  {
   "cell_type": "markdown",
   "metadata": {},
   "source": [
    "# set Date as columns"
   ]
  },
  {
   "cell_type": "code",
   "execution_count": 167,
   "metadata": {
    "ExecuteTime": {
     "end_time": "2020-06-02T18:55:43.130832Z",
     "start_time": "2020-06-02T18:55:43.116996Z"
    }
   },
   "outputs": [
    {
     "data": {
      "text/html": [
       "<div>\n",
       "<style scoped>\n",
       "    .dataframe tbody tr th:only-of-type {\n",
       "        vertical-align: middle;\n",
       "    }\n",
       "\n",
       "    .dataframe tbody tr th {\n",
       "        vertical-align: top;\n",
       "    }\n",
       "\n",
       "    .dataframe thead th {\n",
       "        text-align: right;\n",
       "    }\n",
       "</style>\n",
       "<table border=\"1\" class=\"dataframe\">\n",
       "  <thead>\n",
       "    <tr style=\"text-align: right;\">\n",
       "      <th></th>\n",
       "      <th>Date</th>\n",
       "      <th>High</th>\n",
       "      <th>Low</th>\n",
       "      <th>Open</th>\n",
       "      <th>Close</th>\n",
       "      <th>Volume</th>\n",
       "      <th>Adj Close</th>\n",
       "    </tr>\n",
       "  </thead>\n",
       "  <tbody>\n",
       "    <tr>\n",
       "      <th>0</th>\n",
       "      <td>2015-01-02</td>\n",
       "      <td>111.440002</td>\n",
       "      <td>107.349998</td>\n",
       "      <td>111.389999</td>\n",
       "      <td>109.330002</td>\n",
       "      <td>53204600.0</td>\n",
       "      <td>99.945885</td>\n",
       "    </tr>\n",
       "    <tr>\n",
       "      <th>1</th>\n",
       "      <td>2015-01-05</td>\n",
       "      <td>108.650002</td>\n",
       "      <td>105.410004</td>\n",
       "      <td>108.290001</td>\n",
       "      <td>106.250000</td>\n",
       "      <td>64285500.0</td>\n",
       "      <td>97.130241</td>\n",
       "    </tr>\n",
       "    <tr>\n",
       "      <th>2</th>\n",
       "      <td>2015-01-06</td>\n",
       "      <td>107.430000</td>\n",
       "      <td>104.629997</td>\n",
       "      <td>106.540001</td>\n",
       "      <td>106.260002</td>\n",
       "      <td>65797100.0</td>\n",
       "      <td>97.139420</td>\n",
       "    </tr>\n",
       "    <tr>\n",
       "      <th>3</th>\n",
       "      <td>2015-01-07</td>\n",
       "      <td>108.199997</td>\n",
       "      <td>106.699997</td>\n",
       "      <td>107.199997</td>\n",
       "      <td>107.750000</td>\n",
       "      <td>40105900.0</td>\n",
       "      <td>98.501518</td>\n",
       "    </tr>\n",
       "    <tr>\n",
       "      <th>4</th>\n",
       "      <td>2015-01-08</td>\n",
       "      <td>112.150002</td>\n",
       "      <td>108.699997</td>\n",
       "      <td>109.230003</td>\n",
       "      <td>111.889999</td>\n",
       "      <td>59364500.0</td>\n",
       "      <td>102.286186</td>\n",
       "    </tr>\n",
       "  </tbody>\n",
       "</table>\n",
       "</div>"
      ],
      "text/plain": [
       "        Date        High         Low        Open       Close      Volume  \\\n",
       "0 2015-01-02  111.440002  107.349998  111.389999  109.330002  53204600.0   \n",
       "1 2015-01-05  108.650002  105.410004  108.290001  106.250000  64285500.0   \n",
       "2 2015-01-06  107.430000  104.629997  106.540001  106.260002  65797100.0   \n",
       "3 2015-01-07  108.199997  106.699997  107.199997  107.750000  40105900.0   \n",
       "4 2015-01-08  112.150002  108.699997  109.230003  111.889999  59364500.0   \n",
       "\n",
       "    Adj Close  \n",
       "0   99.945885  \n",
       "1   97.130241  \n",
       "2   97.139420  \n",
       "3   98.501518  \n",
       "4  102.286186  "
      ]
     },
     "execution_count": 167,
     "metadata": {},
     "output_type": "execute_result"
    }
   ],
   "source": [
    "df_apple.reset_index(inplace=True)\n",
    "df_apple.head(5)"
   ]
  },
  {
   "cell_type": "code",
   "execution_count": 168,
   "metadata": {
    "ExecuteTime": {
     "end_time": "2020-06-02T18:55:47.003626Z",
     "start_time": "2020-06-02T18:55:46.977965Z"
    }
   },
   "outputs": [
    {
     "data": {
      "text/plain": [
       "pandas._libs.tslibs.timestamps.Timestamp"
      ]
     },
     "execution_count": 168,
     "metadata": {},
     "output_type": "execute_result"
    }
   ],
   "source": [
    "type(df_apple[\"Date\"][0])"
   ]
  },
  {
   "cell_type": "code",
   "execution_count": 169,
   "metadata": {
    "ExecuteTime": {
     "end_time": "2020-06-02T18:55:49.157861Z",
     "start_time": "2020-06-02T18:55:49.150031Z"
    }
   },
   "outputs": [
    {
     "data": {
      "text/plain": [
       "'Friday'"
      ]
     },
     "execution_count": 169,
     "metadata": {},
     "output_type": "execute_result"
    }
   ],
   "source": [
    "df_apple[\"Date\"][0].day_name()"
   ]
  },
  {
   "cell_type": "markdown",
   "metadata": {},
   "source": [
    "# Transform the Date column as a datetime type"
   ]
  },
  {
   "cell_type": "code",
   "execution_count": 170,
   "metadata": {
    "ExecuteTime": {
     "end_time": "2020-06-02T18:55:52.362790Z",
     "start_time": "2020-06-02T18:55:52.356632Z"
    }
   },
   "outputs": [],
   "source": [
    "df_apple[\"Date\"]=pd.to_datetime(df_apple[\"Date\"],format=\"%Y-%m-%d\")"
   ]
  },
  {
   "cell_type": "code",
   "execution_count": 171,
   "metadata": {
    "ExecuteTime": {
     "end_time": "2020-06-02T18:55:53.112026Z",
     "start_time": "2020-06-02T18:55:53.104857Z"
    }
   },
   "outputs": [
    {
     "data": {
      "text/plain": [
       "pandas._libs.tslibs.timestamps.Timestamp"
      ]
     },
     "execution_count": 171,
     "metadata": {},
     "output_type": "execute_result"
    }
   ],
   "source": [
    "type(df_apple[\"Date\"][0])"
   ]
  },
  {
   "cell_type": "code",
   "execution_count": 172,
   "metadata": {
    "ExecuteTime": {
     "end_time": "2020-06-02T18:55:53.965403Z",
     "start_time": "2020-06-02T18:55:53.941289Z"
    }
   },
   "outputs": [
    {
     "data": {
      "text/plain": [
       "'Friday'"
      ]
     },
     "execution_count": 172,
     "metadata": {},
     "output_type": "execute_result"
    }
   ],
   "source": [
    "df_apple[\"Date\"][0].day_name()"
   ]
  },
  {
   "cell_type": "markdown",
   "metadata": {},
   "source": [
    "# Set the date as the index"
   ]
  },
  {
   "cell_type": "code",
   "execution_count": 173,
   "metadata": {
    "ExecuteTime": {
     "end_time": "2020-06-02T18:55:59.793295Z",
     "start_time": "2020-06-02T18:55:59.776889Z"
    }
   },
   "outputs": [],
   "source": [
    "df_apple.set_index(\"Date\", inplace=True)"
   ]
  },
  {
   "cell_type": "code",
   "execution_count": 174,
   "metadata": {
    "ExecuteTime": {
     "end_time": "2020-06-02T18:56:00.648573Z",
     "start_time": "2020-06-02T18:56:00.626559Z"
    }
   },
   "outputs": [
    {
     "data": {
      "text/html": [
       "<div>\n",
       "<style scoped>\n",
       "    .dataframe tbody tr th:only-of-type {\n",
       "        vertical-align: middle;\n",
       "    }\n",
       "\n",
       "    .dataframe tbody tr th {\n",
       "        vertical-align: top;\n",
       "    }\n",
       "\n",
       "    .dataframe thead th {\n",
       "        text-align: right;\n",
       "    }\n",
       "</style>\n",
       "<table border=\"1\" class=\"dataframe\">\n",
       "  <thead>\n",
       "    <tr style=\"text-align: right;\">\n",
       "      <th></th>\n",
       "      <th>High</th>\n",
       "      <th>Low</th>\n",
       "      <th>Open</th>\n",
       "      <th>Close</th>\n",
       "      <th>Volume</th>\n",
       "      <th>Adj Close</th>\n",
       "    </tr>\n",
       "    <tr>\n",
       "      <th>Date</th>\n",
       "      <th></th>\n",
       "      <th></th>\n",
       "      <th></th>\n",
       "      <th></th>\n",
       "      <th></th>\n",
       "      <th></th>\n",
       "    </tr>\n",
       "  </thead>\n",
       "  <tbody>\n",
       "    <tr>\n",
       "      <th>2015-01-02</th>\n",
       "      <td>111.440002</td>\n",
       "      <td>107.349998</td>\n",
       "      <td>111.389999</td>\n",
       "      <td>109.330002</td>\n",
       "      <td>53204600.0</td>\n",
       "      <td>99.945885</td>\n",
       "    </tr>\n",
       "    <tr>\n",
       "      <th>2015-01-05</th>\n",
       "      <td>108.650002</td>\n",
       "      <td>105.410004</td>\n",
       "      <td>108.290001</td>\n",
       "      <td>106.250000</td>\n",
       "      <td>64285500.0</td>\n",
       "      <td>97.130241</td>\n",
       "    </tr>\n",
       "    <tr>\n",
       "      <th>2015-01-06</th>\n",
       "      <td>107.430000</td>\n",
       "      <td>104.629997</td>\n",
       "      <td>106.540001</td>\n",
       "      <td>106.260002</td>\n",
       "      <td>65797100.0</td>\n",
       "      <td>97.139420</td>\n",
       "    </tr>\n",
       "    <tr>\n",
       "      <th>2015-01-07</th>\n",
       "      <td>108.199997</td>\n",
       "      <td>106.699997</td>\n",
       "      <td>107.199997</td>\n",
       "      <td>107.750000</td>\n",
       "      <td>40105900.0</td>\n",
       "      <td>98.501518</td>\n",
       "    </tr>\n",
       "    <tr>\n",
       "      <th>2015-01-08</th>\n",
       "      <td>112.150002</td>\n",
       "      <td>108.699997</td>\n",
       "      <td>109.230003</td>\n",
       "      <td>111.889999</td>\n",
       "      <td>59364500.0</td>\n",
       "      <td>102.286186</td>\n",
       "    </tr>\n",
       "  </tbody>\n",
       "</table>\n",
       "</div>"
      ],
      "text/plain": [
       "                  High         Low        Open       Close      Volume  \\\n",
       "Date                                                                     \n",
       "2015-01-02  111.440002  107.349998  111.389999  109.330002  53204600.0   \n",
       "2015-01-05  108.650002  105.410004  108.290001  106.250000  64285500.0   \n",
       "2015-01-06  107.430000  104.629997  106.540001  106.260002  65797100.0   \n",
       "2015-01-07  108.199997  106.699997  107.199997  107.750000  40105900.0   \n",
       "2015-01-08  112.150002  108.699997  109.230003  111.889999  59364500.0   \n",
       "\n",
       "             Adj Close  \n",
       "Date                    \n",
       "2015-01-02   99.945885  \n",
       "2015-01-05   97.130241  \n",
       "2015-01-06   97.139420  \n",
       "2015-01-07   98.501518  \n",
       "2015-01-08  102.286186  "
      ]
     },
     "execution_count": 174,
     "metadata": {},
     "output_type": "execute_result"
    }
   ],
   "source": [
    "df_apple.head(5)"
   ]
  },
  {
   "cell_type": "markdown",
   "metadata": {},
   "source": [
    " # Is there any duplicate dates?"
   ]
  },
  {
   "cell_type": "code",
   "execution_count": 175,
   "metadata": {
    "ExecuteTime": {
     "end_time": "2020-06-02T18:56:12.687139Z",
     "start_time": "2020-06-02T18:56:12.681932Z"
    }
   },
   "outputs": [],
   "source": [
    "boool=df_apple.index.duplicated()"
   ]
  },
  {
   "cell_type": "code",
   "execution_count": 176,
   "metadata": {
    "ExecuteTime": {
     "end_time": "2020-06-02T18:56:16.545742Z",
     "start_time": "2020-06-02T18:56:16.533320Z"
    }
   },
   "outputs": [
    {
     "data": {
      "text/plain": [
       "0"
      ]
     },
     "execution_count": 176,
     "metadata": {},
     "output_type": "execute_result"
    }
   ],
   "source": [
    "len(df_apple.loc[boool])"
   ]
  },
  {
   "cell_type": "code",
   "execution_count": null,
   "metadata": {},
   "outputs": [],
   "source": []
  },
  {
   "cell_type": "markdown",
   "metadata": {},
   "source": [
    " # Make the first entry the oldest date."
   ]
  },
  {
   "cell_type": "code",
   "execution_count": 177,
   "metadata": {
    "ExecuteTime": {
     "end_time": "2020-06-02T18:56:55.026727Z",
     "start_time": "2020-06-02T18:56:55.011280Z"
    }
   },
   "outputs": [],
   "source": [
    "oldest_date=df_apple.index.min()"
   ]
  },
  {
   "cell_type": "code",
   "execution_count": 178,
   "metadata": {
    "ExecuteTime": {
     "end_time": "2020-06-02T18:56:56.108148Z",
     "start_time": "2020-06-02T18:56:56.101759Z"
    }
   },
   "outputs": [
    {
     "data": {
      "text/plain": [
       "Timestamp('2015-01-02 00:00:00')"
      ]
     },
     "execution_count": 178,
     "metadata": {},
     "output_type": "execute_result"
    }
   ],
   "source": [
    "oldest_date"
   ]
  },
  {
   "cell_type": "code",
   "execution_count": null,
   "metadata": {},
   "outputs": [],
   "source": []
  },
  {
   "cell_type": "markdown",
   "metadata": {},
   "source": [
    "# Get the last business day of each month"
   ]
  },
  {
   "cell_type": "code",
   "execution_count": 179,
   "metadata": {
    "ExecuteTime": {
     "end_time": "2020-06-02T18:57:03.121833Z",
     "start_time": "2020-06-02T18:57:03.098748Z"
    }
   },
   "outputs": [],
   "source": [
    "last_day=df.index + pd.offsets.BMonthEnd(1)"
   ]
  },
  {
   "cell_type": "code",
   "execution_count": 180,
   "metadata": {
    "ExecuteTime": {
     "end_time": "2020-06-02T18:57:11.002731Z",
     "start_time": "2020-06-02T18:57:10.998406Z"
    }
   },
   "outputs": [],
   "source": [
    "condition=df_apple.index.isin(last_day)"
   ]
  },
  {
   "cell_type": "code",
   "execution_count": 181,
   "metadata": {
    "ExecuteTime": {
     "end_time": "2020-06-02T18:57:12.617560Z",
     "start_time": "2020-06-02T18:57:12.598186Z"
    }
   },
   "outputs": [
    {
     "data": {
      "text/html": [
       "<div>\n",
       "<style scoped>\n",
       "    .dataframe tbody tr th:only-of-type {\n",
       "        vertical-align: middle;\n",
       "    }\n",
       "\n",
       "    .dataframe tbody tr th {\n",
       "        vertical-align: top;\n",
       "    }\n",
       "\n",
       "    .dataframe thead th {\n",
       "        text-align: right;\n",
       "    }\n",
       "</style>\n",
       "<table border=\"1\" class=\"dataframe\">\n",
       "  <thead>\n",
       "    <tr style=\"text-align: right;\">\n",
       "      <th></th>\n",
       "      <th>High</th>\n",
       "      <th>Low</th>\n",
       "      <th>Open</th>\n",
       "      <th>Close</th>\n",
       "      <th>Volume</th>\n",
       "      <th>Adj Close</th>\n",
       "    </tr>\n",
       "    <tr>\n",
       "      <th>Date</th>\n",
       "      <th></th>\n",
       "      <th></th>\n",
       "      <th></th>\n",
       "      <th></th>\n",
       "      <th></th>\n",
       "      <th></th>\n",
       "    </tr>\n",
       "  </thead>\n",
       "  <tbody>\n",
       "    <tr>\n",
       "      <th>2015-01-30</th>\n",
       "      <td>120.000000</td>\n",
       "      <td>116.849998</td>\n",
       "      <td>118.400002</td>\n",
       "      <td>117.160004</td>\n",
       "      <td>83745500.0</td>\n",
       "      <td>107.103836</td>\n",
       "    </tr>\n",
       "    <tr>\n",
       "      <th>2015-02-27</th>\n",
       "      <td>130.570007</td>\n",
       "      <td>128.240005</td>\n",
       "      <td>130.000000</td>\n",
       "      <td>128.460007</td>\n",
       "      <td>62014800.0</td>\n",
       "      <td>117.897400</td>\n",
       "    </tr>\n",
       "    <tr>\n",
       "      <th>2015-03-31</th>\n",
       "      <td>126.489998</td>\n",
       "      <td>124.360001</td>\n",
       "      <td>126.089996</td>\n",
       "      <td>124.430000</td>\n",
       "      <td>42090600.0</td>\n",
       "      <td>114.198746</td>\n",
       "    </tr>\n",
       "    <tr>\n",
       "      <th>2015-04-30</th>\n",
       "      <td>128.639999</td>\n",
       "      <td>124.580002</td>\n",
       "      <td>128.639999</td>\n",
       "      <td>125.150002</td>\n",
       "      <td>83195400.0</td>\n",
       "      <td>114.859558</td>\n",
       "    </tr>\n",
       "    <tr>\n",
       "      <th>2015-05-29</th>\n",
       "      <td>131.449997</td>\n",
       "      <td>129.899994</td>\n",
       "      <td>131.229996</td>\n",
       "      <td>130.279999</td>\n",
       "      <td>50884500.0</td>\n",
       "      <td>120.067184</td>\n",
       "    </tr>\n",
       "    <tr>\n",
       "      <th>...</th>\n",
       "      <td>...</td>\n",
       "      <td>...</td>\n",
       "      <td>...</td>\n",
       "      <td>...</td>\n",
       "      <td>...</td>\n",
       "      <td>...</td>\n",
       "    </tr>\n",
       "    <tr>\n",
       "      <th>2020-01-31</th>\n",
       "      <td>322.679993</td>\n",
       "      <td>308.290009</td>\n",
       "      <td>320.929993</td>\n",
       "      <td>309.510010</td>\n",
       "      <td>49897100.0</td>\n",
       "      <td>307.943604</td>\n",
       "    </tr>\n",
       "    <tr>\n",
       "      <th>2020-02-28</th>\n",
       "      <td>278.410004</td>\n",
       "      <td>256.369995</td>\n",
       "      <td>257.260010</td>\n",
       "      <td>273.359985</td>\n",
       "      <td>106721200.0</td>\n",
       "      <td>272.622009</td>\n",
       "    </tr>\n",
       "    <tr>\n",
       "      <th>2020-03-31</th>\n",
       "      <td>262.489990</td>\n",
       "      <td>252.000000</td>\n",
       "      <td>255.600006</td>\n",
       "      <td>254.289993</td>\n",
       "      <td>49250500.0</td>\n",
       "      <td>253.603500</td>\n",
       "    </tr>\n",
       "    <tr>\n",
       "      <th>2020-04-30</th>\n",
       "      <td>294.529999</td>\n",
       "      <td>288.350006</td>\n",
       "      <td>289.959991</td>\n",
       "      <td>293.799988</td>\n",
       "      <td>45457600.0</td>\n",
       "      <td>293.006836</td>\n",
       "    </tr>\n",
       "    <tr>\n",
       "      <th>2020-05-29</th>\n",
       "      <td>321.149994</td>\n",
       "      <td>316.470001</td>\n",
       "      <td>319.250000</td>\n",
       "      <td>317.940002</td>\n",
       "      <td>38399500.0</td>\n",
       "      <td>317.940002</td>\n",
       "    </tr>\n",
       "  </tbody>\n",
       "</table>\n",
       "<p>64 rows × 6 columns</p>\n",
       "</div>"
      ],
      "text/plain": [
       "                  High         Low        Open       Close       Volume  \\\n",
       "Date                                                                      \n",
       "2015-01-30  120.000000  116.849998  118.400002  117.160004   83745500.0   \n",
       "2015-02-27  130.570007  128.240005  130.000000  128.460007   62014800.0   \n",
       "2015-03-31  126.489998  124.360001  126.089996  124.430000   42090600.0   \n",
       "2015-04-30  128.639999  124.580002  128.639999  125.150002   83195400.0   \n",
       "2015-05-29  131.449997  129.899994  131.229996  130.279999   50884500.0   \n",
       "...                ...         ...         ...         ...          ...   \n",
       "2020-01-31  322.679993  308.290009  320.929993  309.510010   49897100.0   \n",
       "2020-02-28  278.410004  256.369995  257.260010  273.359985  106721200.0   \n",
       "2020-03-31  262.489990  252.000000  255.600006  254.289993   49250500.0   \n",
       "2020-04-30  294.529999  288.350006  289.959991  293.799988   45457600.0   \n",
       "2020-05-29  321.149994  316.470001  319.250000  317.940002   38399500.0   \n",
       "\n",
       "             Adj Close  \n",
       "Date                    \n",
       "2015-01-30  107.103836  \n",
       "2015-02-27  117.897400  \n",
       "2015-03-31  114.198746  \n",
       "2015-04-30  114.859558  \n",
       "2015-05-29  120.067184  \n",
       "...                ...  \n",
       "2020-01-31  307.943604  \n",
       "2020-02-28  272.622009  \n",
       "2020-03-31  253.603500  \n",
       "2020-04-30  293.006836  \n",
       "2020-05-29  317.940002  \n",
       "\n",
       "[64 rows x 6 columns]"
      ]
     },
     "execution_count": 181,
     "metadata": {},
     "output_type": "execute_result"
    }
   ],
   "source": [
    "df_apple.loc[condition]"
   ]
  },
  {
   "cell_type": "code",
   "execution_count": null,
   "metadata": {},
   "outputs": [],
   "source": []
  },
  {
   "cell_type": "markdown",
   "metadata": {},
   "source": [
    "# What is the difference in days between the first day and the oldest"
   ]
  },
  {
   "cell_type": "code",
   "execution_count": 184,
   "metadata": {
    "ExecuteTime": {
     "end_time": "2020-06-02T18:59:37.452991Z",
     "start_time": "2020-06-02T18:59:37.449365Z"
    }
   },
   "outputs": [],
   "source": [
    "diff=df_apple.index.max()-df_apple.index.min()"
   ]
  },
  {
   "cell_type": "code",
   "execution_count": 185,
   "metadata": {
    "ExecuteTime": {
     "end_time": "2020-06-02T18:59:38.341114Z",
     "start_time": "2020-06-02T18:59:38.329063Z"
    }
   },
   "outputs": [
    {
     "data": {
      "text/plain": [
       "Timedelta('1978 days 00:00:00')"
      ]
     },
     "execution_count": 185,
     "metadata": {},
     "output_type": "execute_result"
    }
   ],
   "source": [
    "diff"
   ]
  },
  {
   "cell_type": "markdown",
   "metadata": {},
   "source": [
    "# How many months in the data we have?"
   ]
  },
  {
   "cell_type": "code",
   "execution_count": 186,
   "metadata": {
    "ExecuteTime": {
     "end_time": "2020-06-02T18:59:44.624234Z",
     "start_time": "2020-06-02T18:59:44.601297Z"
    }
   },
   "outputs": [],
   "source": [
    "s=df_apple.resample(\"M\").mean()"
   ]
  },
  {
   "cell_type": "code",
   "execution_count": 187,
   "metadata": {
    "ExecuteTime": {
     "end_time": "2020-06-02T18:59:48.985707Z",
     "start_time": "2020-06-02T18:59:48.972194Z"
    }
   },
   "outputs": [
    {
     "data": {
      "text/html": [
       "<div>\n",
       "<style scoped>\n",
       "    .dataframe tbody tr th:only-of-type {\n",
       "        vertical-align: middle;\n",
       "    }\n",
       "\n",
       "    .dataframe tbody tr th {\n",
       "        vertical-align: top;\n",
       "    }\n",
       "\n",
       "    .dataframe thead th {\n",
       "        text-align: right;\n",
       "    }\n",
       "</style>\n",
       "<table border=\"1\" class=\"dataframe\">\n",
       "  <thead>\n",
       "    <tr style=\"text-align: right;\">\n",
       "      <th></th>\n",
       "      <th>High</th>\n",
       "      <th>Low</th>\n",
       "      <th>Open</th>\n",
       "      <th>Close</th>\n",
       "      <th>Volume</th>\n",
       "      <th>Adj Close</th>\n",
       "    </tr>\n",
       "    <tr>\n",
       "      <th>Date</th>\n",
       "      <th></th>\n",
       "      <th></th>\n",
       "      <th></th>\n",
       "      <th></th>\n",
       "      <th></th>\n",
       "      <th></th>\n",
       "    </tr>\n",
       "  </thead>\n",
       "  <tbody>\n",
       "    <tr>\n",
       "      <th>2015-01-31</th>\n",
       "      <td>112.254000</td>\n",
       "      <td>109.332000</td>\n",
       "      <td>111.164000</td>\n",
       "      <td>110.641501</td>\n",
       "      <td>6.526317e+07</td>\n",
       "      <td>101.144830</td>\n",
       "    </tr>\n",
       "    <tr>\n",
       "      <th>2015-02-28</th>\n",
       "      <td>126.144738</td>\n",
       "      <td>124.031053</td>\n",
       "      <td>125.023683</td>\n",
       "      <td>125.432105</td>\n",
       "      <td>5.981764e+07</td>\n",
       "      <td>115.050702</td>\n",
       "    </tr>\n",
       "    <tr>\n",
       "      <th>2015-03-31</th>\n",
       "      <td>127.436363</td>\n",
       "      <td>124.985910</td>\n",
       "      <td>126.466364</td>\n",
       "      <td>125.970908</td>\n",
       "      <td>5.175646e+07</td>\n",
       "      <td>115.612962</td>\n",
       "    </tr>\n",
       "    <tr>\n",
       "      <th>2015-04-30</th>\n",
       "      <td>128.422380</td>\n",
       "      <td>126.224763</td>\n",
       "      <td>127.535239</td>\n",
       "      <td>127.291428</td>\n",
       "      <td>4.743502e+07</td>\n",
       "      <td>116.824901</td>\n",
       "    </tr>\n",
       "    <tr>\n",
       "      <th>2015-05-31</th>\n",
       "      <td>129.771001</td>\n",
       "      <td>127.663000</td>\n",
       "      <td>128.707501</td>\n",
       "      <td>128.761500</td>\n",
       "      <td>4.770760e+07</td>\n",
       "      <td>118.570259</td>\n",
       "    </tr>\n",
       "  </tbody>\n",
       "</table>\n",
       "</div>"
      ],
      "text/plain": [
       "                  High         Low        Open       Close        Volume  \\\n",
       "Date                                                                       \n",
       "2015-01-31  112.254000  109.332000  111.164000  110.641501  6.526317e+07   \n",
       "2015-02-28  126.144738  124.031053  125.023683  125.432105  5.981764e+07   \n",
       "2015-03-31  127.436363  124.985910  126.466364  125.970908  5.175646e+07   \n",
       "2015-04-30  128.422380  126.224763  127.535239  127.291428  4.743502e+07   \n",
       "2015-05-31  129.771001  127.663000  128.707501  128.761500  4.770760e+07   \n",
       "\n",
       "             Adj Close  \n",
       "Date                    \n",
       "2015-01-31  101.144830  \n",
       "2015-02-28  115.050702  \n",
       "2015-03-31  115.612962  \n",
       "2015-04-30  116.824901  \n",
       "2015-05-31  118.570259  "
      ]
     },
     "execution_count": 187,
     "metadata": {},
     "output_type": "execute_result"
    }
   ],
   "source": [
    "s.head(5)"
   ]
  },
  {
   "cell_type": "code",
   "execution_count": 188,
   "metadata": {
    "ExecuteTime": {
     "end_time": "2020-06-02T18:59:49.784950Z",
     "start_time": "2020-06-02T18:59:49.778251Z"
    }
   },
   "outputs": [
    {
     "data": {
      "text/plain": [
       "66"
      ]
     },
     "execution_count": 188,
     "metadata": {},
     "output_type": "execute_result"
    }
   ],
   "source": [
    "len(s.index)"
   ]
  },
  {
   "cell_type": "code",
   "execution_count": null,
   "metadata": {},
   "outputs": [],
   "source": []
  },
  {
   "cell_type": "code",
   "execution_count": null,
   "metadata": {},
   "outputs": [],
   "source": []
  }
 ],
 "metadata": {
  "kernelspec": {
   "display_name": "Python 3",
   "language": "python",
   "name": "python3"
  },
  "language_info": {
   "codemirror_mode": {
    "name": "ipython",
    "version": 3
   },
   "file_extension": ".py",
   "mimetype": "text/x-python",
   "name": "python",
   "nbconvert_exporter": "python",
   "pygments_lexer": "ipython3",
   "version": "3.7.4"
  },
  "toc": {
   "base_numbering": 1,
   "nav_menu": {},
   "number_sections": true,
   "sideBar": true,
   "skip_h1_title": false,
   "title_cell": "Table of Contents",
   "title_sidebar": "Contents",
   "toc_cell": false,
   "toc_position": {},
   "toc_section_display": true,
   "toc_window_display": false
  },
  "varInspector": {
   "cols": {
    "lenName": 16,
    "lenType": 16,
    "lenVar": 40
   },
   "kernels_config": {
    "python": {
     "delete_cmd_postfix": "",
     "delete_cmd_prefix": "del ",
     "library": "var_list.py",
     "varRefreshCmd": "print(var_dic_list())"
    },
    "r": {
     "delete_cmd_postfix": ") ",
     "delete_cmd_prefix": "rm(",
     "library": "var_list.r",
     "varRefreshCmd": "cat(var_dic_list()) "
    }
   },
   "types_to_exclude": [
    "module",
    "function",
    "builtin_function_or_method",
    "instance",
    "_Feature"
   ],
   "window_display": false
  }
 },
 "nbformat": 4,
 "nbformat_minor": 4
}
